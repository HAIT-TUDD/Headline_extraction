{
 "cells": [
  {
   "cell_type": "markdown",
   "id": "fb61dfdd",
   "metadata": {},
   "source": [
    "# Extracting the bboxes for headlines from the Selftrained Layoutparser Model Prediction\n",
    "\n",
    "This notebook is an example how to use the selftrained Layoutparser model for extracting headlines, OCR them and compare them with the Freiheitskampf database"
   ]
  },
  {
   "cell_type": "code",
   "execution_count": 16,
   "id": "43d791d7",
   "metadata": {},
   "outputs": [],
   "source": [
    "import layoutparser as lp\n",
    "import cv2\n",
    "import os\n",
    "import numpy as np\n",
    "from tqdm import tqdm\n",
    "import pickle \n",
    "from tesserocr import PyTessBaseAPI\n",
    "import textdistance\n",
    "path_input = \"Pages/\" # Change the path to the pages/images you want to test\n"
   ]
  },
  {
   "cell_type": "markdown",
   "id": "9589377f",
   "metadata": {},
   "source": [
    "Here we read the trained config and weigths file for the self trained model. Hence we cut out the predicted bounding boxes and save them in the directory ./temp/\n"
   ]
  },
  {
   "cell_type": "code",
   "execution_count": 24,
   "id": "80b614e5",
   "metadata": {},
   "outputs": [
    {
     "name": "stderr",
     "output_type": "stream",
     "text": [
      "\r",
      "  0%|                                                   | 0/987 [00:00<?, ?it/s]"
     ]
    },
    {
     "name": "stdout",
     "output_type": "stream",
     "text": [
      "29_03_1936_00000010\n",
      "Pages/29_03_1936_00000010.tif.large.jpg\n"
     ]
    },
    {
     "name": "stderr",
     "output_type": "stream",
     "text": [
      "The checkpoint state_dict contains keys that are not used by the model:\n",
      "  \u001b[35mbackbone.fpn_lateral2.bias\u001b[0m\n",
      "  \u001b[35mbackbone.fpn_output2.bias\u001b[0m\n",
      "  \u001b[35mbackbone.fpn_lateral3.bias\u001b[0m\n",
      "  \u001b[35mbackbone.fpn_output3.bias\u001b[0m\n",
      "  \u001b[35mbackbone.fpn_lateral4.bias\u001b[0m\n",
      "  \u001b[35mbackbone.fpn_output4.bias\u001b[0m\n",
      "  \u001b[35mbackbone.fpn_lateral5.bias\u001b[0m\n",
      "  \u001b[35mbackbone.fpn_output5.bias\u001b[0m\n",
      "  0%|                                         | 1/987 [00:06<1:40:01,  6.09s/it]"
     ]
    },
    {
     "name": "stdout",
     "output_type": "stream",
     "text": [
      "12_10_1936_00000006\n",
      "Pages/12_10_1936_00000006.tif.large.jpg\n"
     ]
    },
    {
     "name": "stderr",
     "output_type": "stream",
     "text": [
      "The checkpoint state_dict contains keys that are not used by the model:\n",
      "  \u001b[35mbackbone.fpn_lateral2.bias\u001b[0m\n",
      "  \u001b[35mbackbone.fpn_output2.bias\u001b[0m\n",
      "  \u001b[35mbackbone.fpn_lateral3.bias\u001b[0m\n",
      "  \u001b[35mbackbone.fpn_output3.bias\u001b[0m\n",
      "  \u001b[35mbackbone.fpn_lateral4.bias\u001b[0m\n",
      "  \u001b[35mbackbone.fpn_output4.bias\u001b[0m\n",
      "  \u001b[35mbackbone.fpn_lateral5.bias\u001b[0m\n",
      "  \u001b[35mbackbone.fpn_output5.bias\u001b[0m\n",
      "  0%|                                         | 2/987 [00:12<1:43:23,  6.30s/it]"
     ]
    },
    {
     "name": "stdout",
     "output_type": "stream",
     "text": [
      "24_04_1936_00000006\n",
      "Pages/24_04_1936_00000006.tif.large.jpg\n"
     ]
    },
    {
     "name": "stderr",
     "output_type": "stream",
     "text": [
      "The checkpoint state_dict contains keys that are not used by the model:\n",
      "  \u001b[35mbackbone.fpn_lateral2.bias\u001b[0m\n",
      "  \u001b[35mbackbone.fpn_output2.bias\u001b[0m\n",
      "  \u001b[35mbackbone.fpn_lateral3.bias\u001b[0m\n",
      "  \u001b[35mbackbone.fpn_output3.bias\u001b[0m\n",
      "  \u001b[35mbackbone.fpn_lateral4.bias\u001b[0m\n",
      "  \u001b[35mbackbone.fpn_output4.bias\u001b[0m\n",
      "  \u001b[35mbackbone.fpn_lateral5.bias\u001b[0m\n",
      "  \u001b[35mbackbone.fpn_output5.bias\u001b[0m\n",
      "  0%|                                         | 3/987 [00:18<1:43:38,  6.32s/it]"
     ]
    },
    {
     "name": "stdout",
     "output_type": "stream",
     "text": [
      "11_12_1936_00000007\n",
      "Pages/11_12_1936_00000007.tif.large.jpg\n"
     ]
    },
    {
     "name": "stderr",
     "output_type": "stream",
     "text": [
      "The checkpoint state_dict contains keys that are not used by the model:\n",
      "  \u001b[35mbackbone.fpn_lateral2.bias\u001b[0m\n",
      "  \u001b[35mbackbone.fpn_output2.bias\u001b[0m\n",
      "  \u001b[35mbackbone.fpn_lateral3.bias\u001b[0m\n",
      "  \u001b[35mbackbone.fpn_output3.bias\u001b[0m\n",
      "  \u001b[35mbackbone.fpn_lateral4.bias\u001b[0m\n",
      "  \u001b[35mbackbone.fpn_output4.bias\u001b[0m\n",
      "  \u001b[35mbackbone.fpn_lateral5.bias\u001b[0m\n",
      "  \u001b[35mbackbone.fpn_output5.bias\u001b[0m\n",
      "  0%|▏                                        | 4/987 [00:25<1:46:44,  6.51s/it]"
     ]
    },
    {
     "name": "stdout",
     "output_type": "stream",
     "text": [
      "29_01_1936_00000005\n",
      "Pages/29_01_1936_00000005.tif.large.jpg\n"
     ]
    },
    {
     "name": "stderr",
     "output_type": "stream",
     "text": [
      "The checkpoint state_dict contains keys that are not used by the model:\n",
      "  \u001b[35mbackbone.fpn_lateral2.bias\u001b[0m\n",
      "  \u001b[35mbackbone.fpn_output2.bias\u001b[0m\n",
      "  \u001b[35mbackbone.fpn_lateral3.bias\u001b[0m\n",
      "  \u001b[35mbackbone.fpn_output3.bias\u001b[0m\n",
      "  \u001b[35mbackbone.fpn_lateral4.bias\u001b[0m\n",
      "  \u001b[35mbackbone.fpn_output4.bias\u001b[0m\n",
      "  \u001b[35mbackbone.fpn_lateral5.bias\u001b[0m\n",
      "  \u001b[35mbackbone.fpn_output5.bias\u001b[0m\n",
      "  1%|▏                                        | 5/987 [00:31<1:43:43,  6.34s/it]"
     ]
    },
    {
     "name": "stdout",
     "output_type": "stream",
     "text": [
      "10_10_1936_00000004\n",
      "Pages/10_10_1936_00000004.tif.large.jpg\n"
     ]
    },
    {
     "name": "stderr",
     "output_type": "stream",
     "text": [
      "The checkpoint state_dict contains keys that are not used by the model:\n",
      "  \u001b[35mbackbone.fpn_lateral2.bias\u001b[0m\n",
      "  \u001b[35mbackbone.fpn_output2.bias\u001b[0m\n",
      "  \u001b[35mbackbone.fpn_lateral3.bias\u001b[0m\n",
      "  \u001b[35mbackbone.fpn_output3.bias\u001b[0m\n",
      "  \u001b[35mbackbone.fpn_lateral4.bias\u001b[0m\n",
      "  \u001b[35mbackbone.fpn_output4.bias\u001b[0m\n",
      "  \u001b[35mbackbone.fpn_lateral5.bias\u001b[0m\n",
      "  \u001b[35mbackbone.fpn_output5.bias\u001b[0m\n",
      "  1%|▏                                        | 6/987 [00:36<1:33:28,  5.72s/it]"
     ]
    },
    {
     "name": "stdout",
     "output_type": "stream",
     "text": [
      "18_10_1936_00000002\n",
      "Pages/18_10_1936_00000002.tif.large.jpg\n"
     ]
    },
    {
     "name": "stderr",
     "output_type": "stream",
     "text": [
      "The checkpoint state_dict contains keys that are not used by the model:\n",
      "  \u001b[35mbackbone.fpn_lateral2.bias\u001b[0m\n",
      "  \u001b[35mbackbone.fpn_output2.bias\u001b[0m\n",
      "  \u001b[35mbackbone.fpn_lateral3.bias\u001b[0m\n",
      "  \u001b[35mbackbone.fpn_output3.bias\u001b[0m\n",
      "  \u001b[35mbackbone.fpn_lateral4.bias\u001b[0m\n",
      "  \u001b[35mbackbone.fpn_output4.bias\u001b[0m\n",
      "  \u001b[35mbackbone.fpn_lateral5.bias\u001b[0m\n",
      "  \u001b[35mbackbone.fpn_output5.bias\u001b[0m\n",
      "  1%|▎                                        | 7/987 [00:40<1:27:26,  5.35s/it]"
     ]
    },
    {
     "name": "stdout",
     "output_type": "stream",
     "text": [
      "12_01_1936_00000018\n",
      "Pages/12_01_1936_00000018.tif.large.jpg\n"
     ]
    },
    {
     "name": "stderr",
     "output_type": "stream",
     "text": [
      "The checkpoint state_dict contains keys that are not used by the model:\n",
      "  \u001b[35mbackbone.fpn_lateral2.bias\u001b[0m\n",
      "  \u001b[35mbackbone.fpn_output2.bias\u001b[0m\n",
      "  \u001b[35mbackbone.fpn_lateral3.bias\u001b[0m\n",
      "  \u001b[35mbackbone.fpn_output3.bias\u001b[0m\n",
      "  \u001b[35mbackbone.fpn_lateral4.bias\u001b[0m\n",
      "  \u001b[35mbackbone.fpn_output4.bias\u001b[0m\n",
      "  \u001b[35mbackbone.fpn_lateral5.bias\u001b[0m\n",
      "  \u001b[35mbackbone.fpn_output5.bias\u001b[0m\n",
      "  1%|▎                                        | 8/987 [00:45<1:23:59,  5.15s/it]"
     ]
    },
    {
     "name": "stdout",
     "output_type": "stream",
     "text": [
      "08_11_1936_00000005\n",
      "Pages/08_11_1936_00000005.tif.large.jpg\n"
     ]
    },
    {
     "name": "stderr",
     "output_type": "stream",
     "text": [
      "The checkpoint state_dict contains keys that are not used by the model:\n",
      "  \u001b[35mbackbone.fpn_lateral2.bias\u001b[0m\n",
      "  \u001b[35mbackbone.fpn_output2.bias\u001b[0m\n",
      "  \u001b[35mbackbone.fpn_lateral3.bias\u001b[0m\n",
      "  \u001b[35mbackbone.fpn_output3.bias\u001b[0m\n",
      "  \u001b[35mbackbone.fpn_lateral4.bias\u001b[0m\n",
      "  \u001b[35mbackbone.fpn_output4.bias\u001b[0m\n",
      "  \u001b[35mbackbone.fpn_lateral5.bias\u001b[0m\n",
      "  \u001b[35mbackbone.fpn_output5.bias\u001b[0m\n",
      "  1%|▎                                        | 9/987 [00:50<1:21:36,  5.01s/it]"
     ]
    },
    {
     "name": "stdout",
     "output_type": "stream",
     "text": [
      "07_09_1936_00000004\n",
      "Pages/07_09_1936_00000004.tif.large.jpg\n"
     ]
    },
    {
     "name": "stderr",
     "output_type": "stream",
     "text": [
      "The checkpoint state_dict contains keys that are not used by the model:\n",
      "  \u001b[35mbackbone.fpn_lateral2.bias\u001b[0m\n",
      "  \u001b[35mbackbone.fpn_output2.bias\u001b[0m\n",
      "  \u001b[35mbackbone.fpn_lateral3.bias\u001b[0m\n",
      "  \u001b[35mbackbone.fpn_output3.bias\u001b[0m\n",
      "  \u001b[35mbackbone.fpn_lateral4.bias\u001b[0m\n",
      "  \u001b[35mbackbone.fpn_output4.bias\u001b[0m\n",
      "  \u001b[35mbackbone.fpn_lateral5.bias\u001b[0m\n",
      "  \u001b[35mbackbone.fpn_output5.bias\u001b[0m\n",
      "  1%|▍                                       | 10/987 [00:54<1:19:19,  4.87s/it]"
     ]
    },
    {
     "name": "stdout",
     "output_type": "stream",
     "text": [
      "02_09_1936_00000009\n",
      "Pages/02_09_1936_00000009.tif.large.jpg\n"
     ]
    },
    {
     "name": "stderr",
     "output_type": "stream",
     "text": [
      "The checkpoint state_dict contains keys that are not used by the model:\n",
      "  \u001b[35mbackbone.fpn_lateral2.bias\u001b[0m\n",
      "  \u001b[35mbackbone.fpn_output2.bias\u001b[0m\n",
      "  \u001b[35mbackbone.fpn_lateral3.bias\u001b[0m\n",
      "  \u001b[35mbackbone.fpn_output3.bias\u001b[0m\n",
      "  \u001b[35mbackbone.fpn_lateral4.bias\u001b[0m\n",
      "  \u001b[35mbackbone.fpn_output4.bias\u001b[0m\n",
      "  \u001b[35mbackbone.fpn_lateral5.bias\u001b[0m\n",
      "  \u001b[35mbackbone.fpn_output5.bias\u001b[0m\n",
      "  1%|▍                                       | 11/987 [00:59<1:17:33,  4.77s/it]"
     ]
    },
    {
     "name": "stdout",
     "output_type": "stream",
     "text": [
      "04_10_1936_00000008\n",
      "Pages/04_10_1936_00000008.tif.large.jpg\n"
     ]
    },
    {
     "name": "stderr",
     "output_type": "stream",
     "text": [
      "The checkpoint state_dict contains keys that are not used by the model:\n",
      "  \u001b[35mbackbone.fpn_lateral2.bias\u001b[0m\n",
      "  \u001b[35mbackbone.fpn_output2.bias\u001b[0m\n",
      "  \u001b[35mbackbone.fpn_lateral3.bias\u001b[0m\n",
      "  \u001b[35mbackbone.fpn_output3.bias\u001b[0m\n",
      "  \u001b[35mbackbone.fpn_lateral4.bias\u001b[0m\n",
      "  \u001b[35mbackbone.fpn_output4.bias\u001b[0m\n",
      "  \u001b[35mbackbone.fpn_lateral5.bias\u001b[0m\n",
      "  \u001b[35mbackbone.fpn_output5.bias\u001b[0m\n",
      "  1%|▍                                       | 12/987 [01:04<1:18:54,  4.86s/it]"
     ]
    },
    {
     "name": "stdout",
     "output_type": "stream",
     "text": [
      "20_10_1936_00000003\n",
      "Pages/20_10_1936_00000003.tif.large.jpg\n"
     ]
    },
    {
     "name": "stderr",
     "output_type": "stream",
     "text": [
      "The checkpoint state_dict contains keys that are not used by the model:\n",
      "  \u001b[35mbackbone.fpn_lateral2.bias\u001b[0m\n",
      "  \u001b[35mbackbone.fpn_output2.bias\u001b[0m\n",
      "  \u001b[35mbackbone.fpn_lateral3.bias\u001b[0m\n",
      "  \u001b[35mbackbone.fpn_output3.bias\u001b[0m\n",
      "  \u001b[35mbackbone.fpn_lateral4.bias\u001b[0m\n",
      "  \u001b[35mbackbone.fpn_output4.bias\u001b[0m\n",
      "  \u001b[35mbackbone.fpn_lateral5.bias\u001b[0m\n",
      "  \u001b[35mbackbone.fpn_output5.bias\u001b[0m\n",
      "  1%|▌                                       | 13/987 [01:09<1:17:46,  4.79s/it]"
     ]
    },
    {
     "name": "stdout",
     "output_type": "stream",
     "text": [
      "31_01_1936_00000008\n",
      "Pages/31_01_1936_00000008.tif.large.jpg\n"
     ]
    },
    {
     "name": "stderr",
     "output_type": "stream",
     "text": [
      "The checkpoint state_dict contains keys that are not used by the model:\n",
      "  \u001b[35mbackbone.fpn_lateral2.bias\u001b[0m\n",
      "  \u001b[35mbackbone.fpn_output2.bias\u001b[0m\n",
      "  \u001b[35mbackbone.fpn_lateral3.bias\u001b[0m\n",
      "  \u001b[35mbackbone.fpn_output3.bias\u001b[0m\n",
      "  \u001b[35mbackbone.fpn_lateral4.bias\u001b[0m\n",
      "  \u001b[35mbackbone.fpn_output4.bias\u001b[0m\n",
      "  \u001b[35mbackbone.fpn_lateral5.bias\u001b[0m\n",
      "  \u001b[35mbackbone.fpn_output5.bias\u001b[0m\n",
      "  1%|▌                                       | 14/987 [01:13<1:16:29,  4.72s/it]"
     ]
    },
    {
     "name": "stdout",
     "output_type": "stream",
     "text": [
      "04_08_1936_00000007\n",
      "Pages/04_08_1936_00000007.tif.large.jpg\n"
     ]
    },
    {
     "name": "stderr",
     "output_type": "stream",
     "text": [
      "The checkpoint state_dict contains keys that are not used by the model:\n",
      "  \u001b[35mbackbone.fpn_lateral2.bias\u001b[0m\n",
      "  \u001b[35mbackbone.fpn_output2.bias\u001b[0m\n",
      "  \u001b[35mbackbone.fpn_lateral3.bias\u001b[0m\n",
      "  \u001b[35mbackbone.fpn_output3.bias\u001b[0m\n",
      "  \u001b[35mbackbone.fpn_lateral4.bias\u001b[0m\n",
      "  \u001b[35mbackbone.fpn_output4.bias\u001b[0m\n",
      "  \u001b[35mbackbone.fpn_lateral5.bias\u001b[0m\n",
      "  \u001b[35mbackbone.fpn_output5.bias\u001b[0m\n",
      "  2%|▌                                       | 15/987 [01:18<1:16:29,  4.72s/it]"
     ]
    },
    {
     "name": "stdout",
     "output_type": "stream",
     "text": [
      "09_09_1936_00000006\n",
      "Pages/09_09_1936_00000006.tif.large.jpg\n"
     ]
    },
    {
     "name": "stderr",
     "output_type": "stream",
     "text": [
      "The checkpoint state_dict contains keys that are not used by the model:\n",
      "  \u001b[35mbackbone.fpn_lateral2.bias\u001b[0m\n",
      "  \u001b[35mbackbone.fpn_output2.bias\u001b[0m\n",
      "  \u001b[35mbackbone.fpn_lateral3.bias\u001b[0m\n",
      "  \u001b[35mbackbone.fpn_output3.bias\u001b[0m\n",
      "  \u001b[35mbackbone.fpn_lateral4.bias\u001b[0m\n",
      "  \u001b[35mbackbone.fpn_output4.bias\u001b[0m\n",
      "  \u001b[35mbackbone.fpn_lateral5.bias\u001b[0m\n",
      "  \u001b[35mbackbone.fpn_output5.bias\u001b[0m\n",
      "  2%|▋                                       | 16/987 [01:23<1:16:53,  4.75s/it]"
     ]
    },
    {
     "name": "stdout",
     "output_type": "stream",
     "text": [
      "07_02_1936_00000003\n",
      "Pages/07_02_1936_00000003.tif.large.jpg\n"
     ]
    },
    {
     "name": "stderr",
     "output_type": "stream",
     "text": [
      "The checkpoint state_dict contains keys that are not used by the model:\n",
      "  \u001b[35mbackbone.fpn_lateral2.bias\u001b[0m\n",
      "  \u001b[35mbackbone.fpn_output2.bias\u001b[0m\n",
      "  \u001b[35mbackbone.fpn_lateral3.bias\u001b[0m\n",
      "  \u001b[35mbackbone.fpn_output3.bias\u001b[0m\n",
      "  \u001b[35mbackbone.fpn_lateral4.bias\u001b[0m\n",
      "  \u001b[35mbackbone.fpn_output4.bias\u001b[0m\n",
      "  \u001b[35mbackbone.fpn_lateral5.bias\u001b[0m\n",
      "  \u001b[35mbackbone.fpn_output5.bias\u001b[0m\n",
      "  2%|▋                                       | 17/987 [01:27<1:15:49,  4.69s/it]"
     ]
    },
    {
     "name": "stdout",
     "output_type": "stream",
     "text": [
      "04_03_1936_00000007\n",
      "Pages/04_03_1936_00000007.tif.large.jpg\n"
     ]
    },
    {
     "name": "stderr",
     "output_type": "stream",
     "text": [
      "The checkpoint state_dict contains keys that are not used by the model:\n",
      "  \u001b[35mbackbone.fpn_lateral2.bias\u001b[0m\n",
      "  \u001b[35mbackbone.fpn_output2.bias\u001b[0m\n",
      "  \u001b[35mbackbone.fpn_lateral3.bias\u001b[0m\n",
      "  \u001b[35mbackbone.fpn_output3.bias\u001b[0m\n",
      "  \u001b[35mbackbone.fpn_lateral4.bias\u001b[0m\n",
      "  \u001b[35mbackbone.fpn_output4.bias\u001b[0m\n",
      "  \u001b[35mbackbone.fpn_lateral5.bias\u001b[0m\n",
      "  \u001b[35mbackbone.fpn_output5.bias\u001b[0m\n",
      "  2%|▋                                       | 18/987 [01:32<1:15:41,  4.69s/it]"
     ]
    },
    {
     "name": "stdout",
     "output_type": "stream",
     "text": [
      "17_12_1936_00000012\n",
      "Pages/17_12_1936_00000012.tif.large.jpg\n"
     ]
    },
    {
     "name": "stderr",
     "output_type": "stream",
     "text": [
      "The checkpoint state_dict contains keys that are not used by the model:\n",
      "  \u001b[35mbackbone.fpn_lateral2.bias\u001b[0m\n",
      "  \u001b[35mbackbone.fpn_output2.bias\u001b[0m\n",
      "  \u001b[35mbackbone.fpn_lateral3.bias\u001b[0m\n",
      "  \u001b[35mbackbone.fpn_output3.bias\u001b[0m\n",
      "  \u001b[35mbackbone.fpn_lateral4.bias\u001b[0m\n",
      "  \u001b[35mbackbone.fpn_output4.bias\u001b[0m\n",
      "  \u001b[35mbackbone.fpn_lateral5.bias\u001b[0m\n",
      "  \u001b[35mbackbone.fpn_output5.bias\u001b[0m\n",
      "  2%|▊                                       | 19/987 [01:36<1:15:03,  4.65s/it]"
     ]
    },
    {
     "name": "stdout",
     "output_type": "stream",
     "text": [
      "27_04_1936_00000005\n",
      "Pages/27_04_1936_00000005.tif.large.jpg\n"
     ]
    },
    {
     "name": "stderr",
     "output_type": "stream",
     "text": [
      "The checkpoint state_dict contains keys that are not used by the model:\n",
      "  \u001b[35mbackbone.fpn_lateral2.bias\u001b[0m\n",
      "  \u001b[35mbackbone.fpn_output2.bias\u001b[0m\n",
      "  \u001b[35mbackbone.fpn_lateral3.bias\u001b[0m\n",
      "  \u001b[35mbackbone.fpn_output3.bias\u001b[0m\n",
      "  \u001b[35mbackbone.fpn_lateral4.bias\u001b[0m\n",
      "  \u001b[35mbackbone.fpn_output4.bias\u001b[0m\n",
      "  \u001b[35mbackbone.fpn_lateral5.bias\u001b[0m\n",
      "  \u001b[35mbackbone.fpn_output5.bias\u001b[0m\n",
      "  2%|▊                                       | 20/987 [01:41<1:15:02,  4.66s/it]"
     ]
    },
    {
     "name": "stdout",
     "output_type": "stream",
     "text": [
      "22_08_1936_00000007\n",
      "Pages/22_08_1936_00000007.tif.large.jpg\n"
     ]
    },
    {
     "name": "stderr",
     "output_type": "stream",
     "text": [
      "The checkpoint state_dict contains keys that are not used by the model:\n",
      "  \u001b[35mbackbone.fpn_lateral2.bias\u001b[0m\n",
      "  \u001b[35mbackbone.fpn_output2.bias\u001b[0m\n",
      "  \u001b[35mbackbone.fpn_lateral3.bias\u001b[0m\n",
      "  \u001b[35mbackbone.fpn_output3.bias\u001b[0m\n",
      "  \u001b[35mbackbone.fpn_lateral4.bias\u001b[0m\n",
      "  \u001b[35mbackbone.fpn_output4.bias\u001b[0m\n",
      "  \u001b[35mbackbone.fpn_lateral5.bias\u001b[0m\n",
      "  \u001b[35mbackbone.fpn_output5.bias\u001b[0m\n",
      "  2%|▊                                       | 21/987 [01:46<1:15:07,  4.67s/it]"
     ]
    },
    {
     "name": "stdout",
     "output_type": "stream",
     "text": [
      "04_03_1936_00000003\n",
      "Pages/04_03_1936_00000003.tif.large.jpg\n"
     ]
    },
    {
     "name": "stderr",
     "output_type": "stream",
     "text": [
      "The checkpoint state_dict contains keys that are not used by the model:\n",
      "  \u001b[35mbackbone.fpn_lateral2.bias\u001b[0m\n",
      "  \u001b[35mbackbone.fpn_output2.bias\u001b[0m\n",
      "  \u001b[35mbackbone.fpn_lateral3.bias\u001b[0m\n",
      "  \u001b[35mbackbone.fpn_output3.bias\u001b[0m\n",
      "  \u001b[35mbackbone.fpn_lateral4.bias\u001b[0m\n",
      "  \u001b[35mbackbone.fpn_output4.bias\u001b[0m\n",
      "  \u001b[35mbackbone.fpn_lateral5.bias\u001b[0m\n",
      "  \u001b[35mbackbone.fpn_output5.bias\u001b[0m\n",
      "  2%|▉                                       | 22/987 [01:50<1:14:24,  4.63s/it]"
     ]
    },
    {
     "name": "stdout",
     "output_type": "stream",
     "text": [
      "07_04_1936_00000005\n",
      "Pages/07_04_1936_00000005.tif.large.jpg\n"
     ]
    },
    {
     "name": "stderr",
     "output_type": "stream",
     "text": [
      "The checkpoint state_dict contains keys that are not used by the model:\n",
      "  \u001b[35mbackbone.fpn_lateral2.bias\u001b[0m\n",
      "  \u001b[35mbackbone.fpn_output2.bias\u001b[0m\n",
      "  \u001b[35mbackbone.fpn_lateral3.bias\u001b[0m\n",
      "  \u001b[35mbackbone.fpn_output3.bias\u001b[0m\n",
      "  \u001b[35mbackbone.fpn_lateral4.bias\u001b[0m\n",
      "  \u001b[35mbackbone.fpn_output4.bias\u001b[0m\n",
      "  \u001b[35mbackbone.fpn_lateral5.bias\u001b[0m\n",
      "  \u001b[35mbackbone.fpn_output5.bias\u001b[0m\n",
      "  2%|▉                                       | 23/987 [01:55<1:15:01,  4.67s/it]"
     ]
    },
    {
     "name": "stdout",
     "output_type": "stream",
     "text": [
      "25_04_1936_00000001\n",
      "Pages/25_04_1936_00000001.tif.large.jpg\n"
     ]
    },
    {
     "name": "stderr",
     "output_type": "stream",
     "text": [
      "The checkpoint state_dict contains keys that are not used by the model:\n",
      "  \u001b[35mbackbone.fpn_lateral2.bias\u001b[0m\n",
      "  \u001b[35mbackbone.fpn_output2.bias\u001b[0m\n",
      "  \u001b[35mbackbone.fpn_lateral3.bias\u001b[0m\n",
      "  \u001b[35mbackbone.fpn_output3.bias\u001b[0m\n",
      "  \u001b[35mbackbone.fpn_lateral4.bias\u001b[0m\n",
      "  \u001b[35mbackbone.fpn_output4.bias\u001b[0m\n",
      "  \u001b[35mbackbone.fpn_lateral5.bias\u001b[0m\n",
      "  \u001b[35mbackbone.fpn_output5.bias\u001b[0m\n",
      "  2%|▉                                       | 24/987 [02:00<1:14:41,  4.65s/it]"
     ]
    },
    {
     "name": "stdout",
     "output_type": "stream",
     "text": [
      "09_04_1936_00000009\n",
      "Pages/09_04_1936_00000009.tif.large.jpg\n"
     ]
    },
    {
     "name": "stderr",
     "output_type": "stream",
     "text": [
      "The checkpoint state_dict contains keys that are not used by the model:\n",
      "  \u001b[35mbackbone.fpn_lateral2.bias\u001b[0m\n",
      "  \u001b[35mbackbone.fpn_output2.bias\u001b[0m\n",
      "  \u001b[35mbackbone.fpn_lateral3.bias\u001b[0m\n",
      "  \u001b[35mbackbone.fpn_output3.bias\u001b[0m\n",
      "  \u001b[35mbackbone.fpn_lateral4.bias\u001b[0m\n",
      "  \u001b[35mbackbone.fpn_output4.bias\u001b[0m\n",
      "  \u001b[35mbackbone.fpn_lateral5.bias\u001b[0m\n",
      "  \u001b[35mbackbone.fpn_output5.bias\u001b[0m\n",
      "  3%|█                                       | 25/987 [02:05<1:15:33,  4.71s/it]"
     ]
    },
    {
     "name": "stdout",
     "output_type": "stream",
     "text": [
      "22_09_1936_00000005\n",
      "Pages/22_09_1936_00000005.tif.large.jpg\n"
     ]
    },
    {
     "name": "stderr",
     "output_type": "stream",
     "text": [
      "The checkpoint state_dict contains keys that are not used by the model:\n",
      "  \u001b[35mbackbone.fpn_lateral2.bias\u001b[0m\n",
      "  \u001b[35mbackbone.fpn_output2.bias\u001b[0m\n",
      "  \u001b[35mbackbone.fpn_lateral3.bias\u001b[0m\n",
      "  \u001b[35mbackbone.fpn_output3.bias\u001b[0m\n",
      "  \u001b[35mbackbone.fpn_lateral4.bias\u001b[0m\n",
      "  \u001b[35mbackbone.fpn_output4.bias\u001b[0m\n",
      "  \u001b[35mbackbone.fpn_lateral5.bias\u001b[0m\n",
      "  \u001b[35mbackbone.fpn_output5.bias\u001b[0m\n",
      "  3%|█                                       | 26/987 [02:09<1:14:38,  4.66s/it]"
     ]
    },
    {
     "name": "stdout",
     "output_type": "stream",
     "text": [
      "14_10_1936_00000017\n",
      "Pages/14_10_1936_00000017.tif.large.jpg\n"
     ]
    },
    {
     "name": "stderr",
     "output_type": "stream",
     "text": [
      "The checkpoint state_dict contains keys that are not used by the model:\n",
      "  \u001b[35mbackbone.fpn_lateral2.bias\u001b[0m\n",
      "  \u001b[35mbackbone.fpn_output2.bias\u001b[0m\n",
      "  \u001b[35mbackbone.fpn_lateral3.bias\u001b[0m\n",
      "  \u001b[35mbackbone.fpn_output3.bias\u001b[0m\n",
      "  \u001b[35mbackbone.fpn_lateral4.bias\u001b[0m\n",
      "  \u001b[35mbackbone.fpn_output4.bias\u001b[0m\n",
      "  \u001b[35mbackbone.fpn_lateral5.bias\u001b[0m\n",
      "  \u001b[35mbackbone.fpn_output5.bias\u001b[0m\n",
      "  3%|█                                       | 27/987 [02:14<1:14:07,  4.63s/it]"
     ]
    },
    {
     "name": "stdout",
     "output_type": "stream",
     "text": [
      "04_08_1936_00000004\n",
      "Pages/04_08_1936_00000004.tif.large.jpg\n"
     ]
    },
    {
     "name": "stderr",
     "output_type": "stream",
     "text": [
      "The checkpoint state_dict contains keys that are not used by the model:\n",
      "  \u001b[35mbackbone.fpn_lateral2.bias\u001b[0m\n",
      "  \u001b[35mbackbone.fpn_output2.bias\u001b[0m\n",
      "  \u001b[35mbackbone.fpn_lateral3.bias\u001b[0m\n",
      "  \u001b[35mbackbone.fpn_output3.bias\u001b[0m\n",
      "  \u001b[35mbackbone.fpn_lateral4.bias\u001b[0m\n",
      "  \u001b[35mbackbone.fpn_output4.bias\u001b[0m\n",
      "  \u001b[35mbackbone.fpn_lateral5.bias\u001b[0m\n",
      "  \u001b[35mbackbone.fpn_output5.bias\u001b[0m\n",
      "  3%|█▏                                      | 28/987 [02:18<1:13:20,  4.59s/it]"
     ]
    },
    {
     "name": "stdout",
     "output_type": "stream",
     "text": [
      "29_10_1936_00000009\n",
      "Pages/29_10_1936_00000009.tif.large.jpg\n"
     ]
    },
    {
     "name": "stderr",
     "output_type": "stream",
     "text": [
      "The checkpoint state_dict contains keys that are not used by the model:\n",
      "  \u001b[35mbackbone.fpn_lateral2.bias\u001b[0m\n",
      "  \u001b[35mbackbone.fpn_output2.bias\u001b[0m\n",
      "  \u001b[35mbackbone.fpn_lateral3.bias\u001b[0m\n",
      "  \u001b[35mbackbone.fpn_output3.bias\u001b[0m\n",
      "  \u001b[35mbackbone.fpn_lateral4.bias\u001b[0m\n",
      "  \u001b[35mbackbone.fpn_output4.bias\u001b[0m\n",
      "  \u001b[35mbackbone.fpn_lateral5.bias\u001b[0m\n",
      "  \u001b[35mbackbone.fpn_output5.bias\u001b[0m\n",
      "  3%|█▏                                      | 29/987 [02:23<1:13:38,  4.61s/it]"
     ]
    },
    {
     "name": "stdout",
     "output_type": "stream",
     "text": [
      "07_12_1936_00000004\n",
      "Pages/07_12_1936_00000004.tif.large.jpg\n"
     ]
    },
    {
     "name": "stderr",
     "output_type": "stream",
     "text": [
      "The checkpoint state_dict contains keys that are not used by the model:\n",
      "  \u001b[35mbackbone.fpn_lateral2.bias\u001b[0m\n",
      "  \u001b[35mbackbone.fpn_output2.bias\u001b[0m\n",
      "  \u001b[35mbackbone.fpn_lateral3.bias\u001b[0m\n",
      "  \u001b[35mbackbone.fpn_output3.bias\u001b[0m\n",
      "  \u001b[35mbackbone.fpn_lateral4.bias\u001b[0m\n",
      "  \u001b[35mbackbone.fpn_output4.bias\u001b[0m\n",
      "  \u001b[35mbackbone.fpn_lateral5.bias\u001b[0m\n",
      "  \u001b[35mbackbone.fpn_output5.bias\u001b[0m\n",
      "  3%|█▏                                      | 30/987 [02:27<1:13:23,  4.60s/it]"
     ]
    },
    {
     "name": "stdout",
     "output_type": "stream",
     "text": [
      "01_03_1936_00000006\n",
      "Pages/01_03_1936_00000006.tif.large.jpg\n"
     ]
    },
    {
     "name": "stderr",
     "output_type": "stream",
     "text": [
      "The checkpoint state_dict contains keys that are not used by the model:\n",
      "  \u001b[35mbackbone.fpn_lateral2.bias\u001b[0m\n",
      "  \u001b[35mbackbone.fpn_output2.bias\u001b[0m\n",
      "  \u001b[35mbackbone.fpn_lateral3.bias\u001b[0m\n",
      "  \u001b[35mbackbone.fpn_output3.bias\u001b[0m\n",
      "  \u001b[35mbackbone.fpn_lateral4.bias\u001b[0m\n",
      "  \u001b[35mbackbone.fpn_output4.bias\u001b[0m\n",
      "  \u001b[35mbackbone.fpn_lateral5.bias\u001b[0m\n",
      "  \u001b[35mbackbone.fpn_output5.bias\u001b[0m\n",
      "  3%|█▎                                      | 31/987 [02:32<1:13:48,  4.63s/it]"
     ]
    },
    {
     "name": "stdout",
     "output_type": "stream",
     "text": [
      "30_11_1936_00000006\n",
      "Pages/30_11_1936_00000006.tif.large.jpg\n"
     ]
    },
    {
     "name": "stderr",
     "output_type": "stream",
     "text": [
      "The checkpoint state_dict contains keys that are not used by the model:\n",
      "  \u001b[35mbackbone.fpn_lateral2.bias\u001b[0m\n",
      "  \u001b[35mbackbone.fpn_output2.bias\u001b[0m\n",
      "  \u001b[35mbackbone.fpn_lateral3.bias\u001b[0m\n",
      "  \u001b[35mbackbone.fpn_output3.bias\u001b[0m\n",
      "  \u001b[35mbackbone.fpn_lateral4.bias\u001b[0m\n",
      "  \u001b[35mbackbone.fpn_output4.bias\u001b[0m\n",
      "  \u001b[35mbackbone.fpn_lateral5.bias\u001b[0m\n",
      "  \u001b[35mbackbone.fpn_output5.bias\u001b[0m\n",
      "  3%|█▎                                      | 32/987 [02:37<1:13:03,  4.59s/it]"
     ]
    },
    {
     "name": "stdout",
     "output_type": "stream",
     "text": [
      "14_03_1936_00000009\n",
      "Pages/14_03_1936_00000009.tif.large.jpg\n"
     ]
    },
    {
     "name": "stderr",
     "output_type": "stream",
     "text": [
      "The checkpoint state_dict contains keys that are not used by the model:\n",
      "  \u001b[35mbackbone.fpn_lateral2.bias\u001b[0m\n",
      "  \u001b[35mbackbone.fpn_output2.bias\u001b[0m\n",
      "  \u001b[35mbackbone.fpn_lateral3.bias\u001b[0m\n",
      "  \u001b[35mbackbone.fpn_output3.bias\u001b[0m\n",
      "  \u001b[35mbackbone.fpn_lateral4.bias\u001b[0m\n",
      "  \u001b[35mbackbone.fpn_output4.bias\u001b[0m\n",
      "  \u001b[35mbackbone.fpn_lateral5.bias\u001b[0m\n",
      "  \u001b[35mbackbone.fpn_output5.bias\u001b[0m\n",
      "  3%|█▎                                      | 33/987 [02:41<1:13:08,  4.60s/it]"
     ]
    },
    {
     "name": "stdout",
     "output_type": "stream",
     "text": [
      "29_11_1936_00000017\n",
      "Pages/29_11_1936_00000017.tif.large.jpg\n"
     ]
    },
    {
     "name": "stderr",
     "output_type": "stream",
     "text": [
      "The checkpoint state_dict contains keys that are not used by the model:\n",
      "  \u001b[35mbackbone.fpn_lateral2.bias\u001b[0m\n",
      "  \u001b[35mbackbone.fpn_output2.bias\u001b[0m\n",
      "  \u001b[35mbackbone.fpn_lateral3.bias\u001b[0m\n",
      "  \u001b[35mbackbone.fpn_output3.bias\u001b[0m\n",
      "  \u001b[35mbackbone.fpn_lateral4.bias\u001b[0m\n",
      "  \u001b[35mbackbone.fpn_output4.bias\u001b[0m\n",
      "  \u001b[35mbackbone.fpn_lateral5.bias\u001b[0m\n",
      "  \u001b[35mbackbone.fpn_output5.bias\u001b[0m\n",
      "  3%|█▍                                      | 34/987 [02:46<1:12:49,  4.59s/it]"
     ]
    },
    {
     "name": "stdout",
     "output_type": "stream",
     "text": [
      "26_03_1936_00000009\n",
      "Pages/26_03_1936_00000009.tif.large.jpg\n"
     ]
    },
    {
     "name": "stderr",
     "output_type": "stream",
     "text": [
      "The checkpoint state_dict contains keys that are not used by the model:\n",
      "  \u001b[35mbackbone.fpn_lateral2.bias\u001b[0m\n",
      "  \u001b[35mbackbone.fpn_output2.bias\u001b[0m\n",
      "  \u001b[35mbackbone.fpn_lateral3.bias\u001b[0m\n",
      "  \u001b[35mbackbone.fpn_output3.bias\u001b[0m\n",
      "  \u001b[35mbackbone.fpn_lateral4.bias\u001b[0m\n",
      "  \u001b[35mbackbone.fpn_output4.bias\u001b[0m\n",
      "  \u001b[35mbackbone.fpn_lateral5.bias\u001b[0m\n",
      "  \u001b[35mbackbone.fpn_output5.bias\u001b[0m\n",
      "  4%|█▍                                      | 35/987 [02:50<1:12:10,  4.55s/it]"
     ]
    },
    {
     "name": "stdout",
     "output_type": "stream",
     "text": [
      "14_10_1936_00000008\n",
      "Pages/14_10_1936_00000008.tif.large.jpg\n"
     ]
    },
    {
     "name": "stderr",
     "output_type": "stream",
     "text": [
      "The checkpoint state_dict contains keys that are not used by the model:\n",
      "  \u001b[35mbackbone.fpn_lateral2.bias\u001b[0m\n",
      "  \u001b[35mbackbone.fpn_output2.bias\u001b[0m\n",
      "  \u001b[35mbackbone.fpn_lateral3.bias\u001b[0m\n",
      "  \u001b[35mbackbone.fpn_output3.bias\u001b[0m\n",
      "  \u001b[35mbackbone.fpn_lateral4.bias\u001b[0m\n",
      "  \u001b[35mbackbone.fpn_output4.bias\u001b[0m\n",
      "  \u001b[35mbackbone.fpn_lateral5.bias\u001b[0m\n",
      "  \u001b[35mbackbone.fpn_output5.bias\u001b[0m\n",
      "  4%|█▍                                      | 36/987 [02:55<1:11:33,  4.51s/it]"
     ]
    },
    {
     "name": "stdout",
     "output_type": "stream",
     "text": [
      "20_02_1936_00000008\n",
      "Pages/20_02_1936_00000008.tif.large.jpg\n"
     ]
    },
    {
     "name": "stderr",
     "output_type": "stream",
     "text": [
      "The checkpoint state_dict contains keys that are not used by the model:\n",
      "  \u001b[35mbackbone.fpn_lateral2.bias\u001b[0m\n",
      "  \u001b[35mbackbone.fpn_output2.bias\u001b[0m\n",
      "  \u001b[35mbackbone.fpn_lateral3.bias\u001b[0m\n",
      "  \u001b[35mbackbone.fpn_output3.bias\u001b[0m\n",
      "  \u001b[35mbackbone.fpn_lateral4.bias\u001b[0m\n",
      "  \u001b[35mbackbone.fpn_output4.bias\u001b[0m\n",
      "  \u001b[35mbackbone.fpn_lateral5.bias\u001b[0m\n",
      "  \u001b[35mbackbone.fpn_output5.bias\u001b[0m\n",
      "  4%|█▍                                      | 37/987 [02:59<1:11:38,  4.52s/it]"
     ]
    },
    {
     "name": "stdout",
     "output_type": "stream",
     "text": [
      "16_11_1936_00000002\n",
      "Pages/16_11_1936_00000002.tif.large.jpg\n"
     ]
    },
    {
     "name": "stderr",
     "output_type": "stream",
     "text": [
      "The checkpoint state_dict contains keys that are not used by the model:\n",
      "  \u001b[35mbackbone.fpn_lateral2.bias\u001b[0m\n",
      "  \u001b[35mbackbone.fpn_output2.bias\u001b[0m\n",
      "  \u001b[35mbackbone.fpn_lateral3.bias\u001b[0m\n",
      "  \u001b[35mbackbone.fpn_output3.bias\u001b[0m\n",
      "  \u001b[35mbackbone.fpn_lateral4.bias\u001b[0m\n",
      "  \u001b[35mbackbone.fpn_output4.bias\u001b[0m\n",
      "  \u001b[35mbackbone.fpn_lateral5.bias\u001b[0m\n",
      "  \u001b[35mbackbone.fpn_output5.bias\u001b[0m\n",
      "  4%|█▌                                      | 38/987 [03:04<1:11:41,  4.53s/it]"
     ]
    },
    {
     "name": "stdout",
     "output_type": "stream",
     "text": [
      "31_07_1936_00000001\n",
      "Pages/31_07_1936_00000001.tif.large.jpg\n"
     ]
    },
    {
     "name": "stderr",
     "output_type": "stream",
     "text": [
      "The checkpoint state_dict contains keys that are not used by the model:\n",
      "  \u001b[35mbackbone.fpn_lateral2.bias\u001b[0m\n",
      "  \u001b[35mbackbone.fpn_output2.bias\u001b[0m\n",
      "  \u001b[35mbackbone.fpn_lateral3.bias\u001b[0m\n",
      "  \u001b[35mbackbone.fpn_output3.bias\u001b[0m\n",
      "  \u001b[35mbackbone.fpn_lateral4.bias\u001b[0m\n",
      "  \u001b[35mbackbone.fpn_output4.bias\u001b[0m\n",
      "  \u001b[35mbackbone.fpn_lateral5.bias\u001b[0m\n",
      "  \u001b[35mbackbone.fpn_output5.bias\u001b[0m\n",
      "  4%|█▌                                      | 39/987 [03:08<1:11:21,  4.52s/it]"
     ]
    },
    {
     "name": "stdout",
     "output_type": "stream",
     "text": [
      "20_02_1936_00000009\n",
      "Pages/20_02_1936_00000009.tif.large.jpg\n"
     ]
    },
    {
     "name": "stderr",
     "output_type": "stream",
     "text": [
      "The checkpoint state_dict contains keys that are not used by the model:\n",
      "  \u001b[35mbackbone.fpn_lateral2.bias\u001b[0m\n",
      "  \u001b[35mbackbone.fpn_output2.bias\u001b[0m\n",
      "  \u001b[35mbackbone.fpn_lateral3.bias\u001b[0m\n",
      "  \u001b[35mbackbone.fpn_output3.bias\u001b[0m\n",
      "  \u001b[35mbackbone.fpn_lateral4.bias\u001b[0m\n",
      "  \u001b[35mbackbone.fpn_output4.bias\u001b[0m\n",
      "  \u001b[35mbackbone.fpn_lateral5.bias\u001b[0m\n",
      "  \u001b[35mbackbone.fpn_output5.bias\u001b[0m\n",
      "  4%|█▌                                      | 40/987 [03:13<1:11:26,  4.53s/it]"
     ]
    },
    {
     "name": "stdout",
     "output_type": "stream",
     "text": [
      "17_11_1936_00000002\n",
      "Pages/17_11_1936_00000002.tif.large.jpg\n"
     ]
    },
    {
     "name": "stderr",
     "output_type": "stream",
     "text": [
      "The checkpoint state_dict contains keys that are not used by the model:\n",
      "  \u001b[35mbackbone.fpn_lateral2.bias\u001b[0m\n",
      "  \u001b[35mbackbone.fpn_output2.bias\u001b[0m\n",
      "  \u001b[35mbackbone.fpn_lateral3.bias\u001b[0m\n",
      "  \u001b[35mbackbone.fpn_output3.bias\u001b[0m\n",
      "  \u001b[35mbackbone.fpn_lateral4.bias\u001b[0m\n",
      "  \u001b[35mbackbone.fpn_output4.bias\u001b[0m\n",
      "  \u001b[35mbackbone.fpn_lateral5.bias\u001b[0m\n",
      "  \u001b[35mbackbone.fpn_output5.bias\u001b[0m\n",
      "  4%|█▋                                      | 41/987 [03:17<1:11:16,  4.52s/it]"
     ]
    },
    {
     "name": "stdout",
     "output_type": "stream",
     "text": [
      "11_08_1936_00000010\n",
      "Pages/11_08_1936_00000010.tif.large.jpg\n"
     ]
    },
    {
     "name": "stderr",
     "output_type": "stream",
     "text": [
      "The checkpoint state_dict contains keys that are not used by the model:\n",
      "  \u001b[35mbackbone.fpn_lateral2.bias\u001b[0m\n",
      "  \u001b[35mbackbone.fpn_output2.bias\u001b[0m\n",
      "  \u001b[35mbackbone.fpn_lateral3.bias\u001b[0m\n",
      "  \u001b[35mbackbone.fpn_output3.bias\u001b[0m\n",
      "  \u001b[35mbackbone.fpn_lateral4.bias\u001b[0m\n",
      "  \u001b[35mbackbone.fpn_output4.bias\u001b[0m\n",
      "  \u001b[35mbackbone.fpn_lateral5.bias\u001b[0m\n",
      "  \u001b[35mbackbone.fpn_output5.bias\u001b[0m\n",
      "  4%|█▋                                      | 42/987 [03:22<1:11:15,  4.52s/it]"
     ]
    },
    {
     "name": "stdout",
     "output_type": "stream",
     "text": [
      "21_09_1936_00000002\n",
      "Pages/21_09_1936_00000002.tif.large.jpg\n"
     ]
    },
    {
     "name": "stderr",
     "output_type": "stream",
     "text": [
      "The checkpoint state_dict contains keys that are not used by the model:\n",
      "  \u001b[35mbackbone.fpn_lateral2.bias\u001b[0m\n",
      "  \u001b[35mbackbone.fpn_output2.bias\u001b[0m\n",
      "  \u001b[35mbackbone.fpn_lateral3.bias\u001b[0m\n",
      "  \u001b[35mbackbone.fpn_output3.bias\u001b[0m\n",
      "  \u001b[35mbackbone.fpn_lateral4.bias\u001b[0m\n",
      "  \u001b[35mbackbone.fpn_output4.bias\u001b[0m\n",
      "  \u001b[35mbackbone.fpn_lateral5.bias\u001b[0m\n",
      "  \u001b[35mbackbone.fpn_output5.bias\u001b[0m\n",
      "  4%|█▋                                      | 43/987 [03:27<1:13:32,  4.67s/it]"
     ]
    },
    {
     "name": "stdout",
     "output_type": "stream",
     "text": [
      "08_12_1936_00000011\n",
      "Pages/08_12_1936_00000011.tif.large.jpg\n"
     ]
    },
    {
     "name": "stderr",
     "output_type": "stream",
     "text": [
      "The checkpoint state_dict contains keys that are not used by the model:\n",
      "  \u001b[35mbackbone.fpn_lateral2.bias\u001b[0m\n",
      "  \u001b[35mbackbone.fpn_output2.bias\u001b[0m\n",
      "  \u001b[35mbackbone.fpn_lateral3.bias\u001b[0m\n",
      "  \u001b[35mbackbone.fpn_output3.bias\u001b[0m\n",
      "  \u001b[35mbackbone.fpn_lateral4.bias\u001b[0m\n",
      "  \u001b[35mbackbone.fpn_output4.bias\u001b[0m\n",
      "  \u001b[35mbackbone.fpn_lateral5.bias\u001b[0m\n",
      "  \u001b[35mbackbone.fpn_output5.bias\u001b[0m\n",
      "  4%|█▊                                      | 44/987 [03:31<1:12:58,  4.64s/it]"
     ]
    },
    {
     "name": "stdout",
     "output_type": "stream",
     "text": [
      "30_08_1936_00000007\n",
      "Pages/30_08_1936_00000007.tif.large.jpg\n"
     ]
    },
    {
     "name": "stderr",
     "output_type": "stream",
     "text": [
      "The checkpoint state_dict contains keys that are not used by the model:\n",
      "  \u001b[35mbackbone.fpn_lateral2.bias\u001b[0m\n",
      "  \u001b[35mbackbone.fpn_output2.bias\u001b[0m\n",
      "  \u001b[35mbackbone.fpn_lateral3.bias\u001b[0m\n",
      "  \u001b[35mbackbone.fpn_output3.bias\u001b[0m\n",
      "  \u001b[35mbackbone.fpn_lateral4.bias\u001b[0m\n",
      "  \u001b[35mbackbone.fpn_output4.bias\u001b[0m\n",
      "  \u001b[35mbackbone.fpn_lateral5.bias\u001b[0m\n",
      "  \u001b[35mbackbone.fpn_output5.bias\u001b[0m\n",
      "  5%|█▊                                      | 45/987 [03:36<1:14:37,  4.75s/it]"
     ]
    },
    {
     "name": "stdout",
     "output_type": "stream",
     "text": [
      "13_11_1936_00000014\n",
      "Pages/13_11_1936_00000014.tif.large.jpg\n"
     ]
    },
    {
     "name": "stderr",
     "output_type": "stream",
     "text": [
      "The checkpoint state_dict contains keys that are not used by the model:\n",
      "  \u001b[35mbackbone.fpn_lateral2.bias\u001b[0m\n",
      "  \u001b[35mbackbone.fpn_output2.bias\u001b[0m\n",
      "  \u001b[35mbackbone.fpn_lateral3.bias\u001b[0m\n",
      "  \u001b[35mbackbone.fpn_output3.bias\u001b[0m\n",
      "  \u001b[35mbackbone.fpn_lateral4.bias\u001b[0m\n",
      "  \u001b[35mbackbone.fpn_output4.bias\u001b[0m\n",
      "  \u001b[35mbackbone.fpn_lateral5.bias\u001b[0m\n",
      "  \u001b[35mbackbone.fpn_output5.bias\u001b[0m\n",
      "  5%|█▊                                      | 46/987 [03:41<1:14:58,  4.78s/it]"
     ]
    },
    {
     "name": "stdout",
     "output_type": "stream",
     "text": [
      "23_11_1936_00000002\n",
      "Pages/23_11_1936_00000002.tif.large.jpg\n"
     ]
    },
    {
     "name": "stderr",
     "output_type": "stream",
     "text": [
      "The checkpoint state_dict contains keys that are not used by the model:\n",
      "  \u001b[35mbackbone.fpn_lateral2.bias\u001b[0m\n",
      "  \u001b[35mbackbone.fpn_output2.bias\u001b[0m\n",
      "  \u001b[35mbackbone.fpn_lateral3.bias\u001b[0m\n",
      "  \u001b[35mbackbone.fpn_output3.bias\u001b[0m\n",
      "  \u001b[35mbackbone.fpn_lateral4.bias\u001b[0m\n",
      "  \u001b[35mbackbone.fpn_output4.bias\u001b[0m\n",
      "  \u001b[35mbackbone.fpn_lateral5.bias\u001b[0m\n",
      "  \u001b[35mbackbone.fpn_output5.bias\u001b[0m\n",
      "  5%|█▉                                      | 47/987 [03:46<1:14:33,  4.76s/it]"
     ]
    },
    {
     "name": "stdout",
     "output_type": "stream",
     "text": [
      "12_09_1936_00000023\n",
      "Pages/12_09_1936_00000023.tif.large.jpg\n"
     ]
    },
    {
     "name": "stderr",
     "output_type": "stream",
     "text": [
      "The checkpoint state_dict contains keys that are not used by the model:\n",
      "  \u001b[35mbackbone.fpn_lateral2.bias\u001b[0m\n",
      "  \u001b[35mbackbone.fpn_output2.bias\u001b[0m\n",
      "  \u001b[35mbackbone.fpn_lateral3.bias\u001b[0m\n",
      "  \u001b[35mbackbone.fpn_output3.bias\u001b[0m\n",
      "  \u001b[35mbackbone.fpn_lateral4.bias\u001b[0m\n",
      "  \u001b[35mbackbone.fpn_output4.bias\u001b[0m\n",
      "  \u001b[35mbackbone.fpn_lateral5.bias\u001b[0m\n",
      "  \u001b[35mbackbone.fpn_output5.bias\u001b[0m\n",
      "  5%|█▉                                      | 48/987 [03:51<1:13:58,  4.73s/it]"
     ]
    },
    {
     "name": "stdout",
     "output_type": "stream",
     "text": [
      "01_04_1936_00000007\n",
      "Pages/01_04_1936_00000007.tif.large.jpg\n"
     ]
    },
    {
     "name": "stderr",
     "output_type": "stream",
     "text": [
      "The checkpoint state_dict contains keys that are not used by the model:\n",
      "  \u001b[35mbackbone.fpn_lateral2.bias\u001b[0m\n",
      "  \u001b[35mbackbone.fpn_output2.bias\u001b[0m\n",
      "  \u001b[35mbackbone.fpn_lateral3.bias\u001b[0m\n",
      "  \u001b[35mbackbone.fpn_output3.bias\u001b[0m\n",
      "  \u001b[35mbackbone.fpn_lateral4.bias\u001b[0m\n",
      "  \u001b[35mbackbone.fpn_output4.bias\u001b[0m\n",
      "  \u001b[35mbackbone.fpn_lateral5.bias\u001b[0m\n",
      "  \u001b[35mbackbone.fpn_output5.bias\u001b[0m\n",
      "  5%|█▉                                      | 49/987 [03:55<1:13:47,  4.72s/it]"
     ]
    },
    {
     "name": "stdout",
     "output_type": "stream",
     "text": [
      "12_01_1936_00000007\n",
      "Pages/12_01_1936_00000007.tif.large.jpg\n"
     ]
    },
    {
     "name": "stderr",
     "output_type": "stream",
     "text": [
      "The checkpoint state_dict contains keys that are not used by the model:\n",
      "  \u001b[35mbackbone.fpn_lateral2.bias\u001b[0m\n",
      "  \u001b[35mbackbone.fpn_output2.bias\u001b[0m\n",
      "  \u001b[35mbackbone.fpn_lateral3.bias\u001b[0m\n",
      "  \u001b[35mbackbone.fpn_output3.bias\u001b[0m\n",
      "  \u001b[35mbackbone.fpn_lateral4.bias\u001b[0m\n",
      "  \u001b[35mbackbone.fpn_output4.bias\u001b[0m\n",
      "  \u001b[35mbackbone.fpn_lateral5.bias\u001b[0m\n",
      "  \u001b[35mbackbone.fpn_output5.bias\u001b[0m\n",
      "  5%|██                                      | 50/987 [04:00<1:13:47,  4.73s/it]"
     ]
    },
    {
     "name": "stdout",
     "output_type": "stream",
     "text": [
      "23_02_1936_00000005\n",
      "Pages/23_02_1936_00000005.tif.large.jpg\n"
     ]
    },
    {
     "name": "stderr",
     "output_type": "stream",
     "text": [
      "The checkpoint state_dict contains keys that are not used by the model:\n",
      "  \u001b[35mbackbone.fpn_lateral2.bias\u001b[0m\n",
      "  \u001b[35mbackbone.fpn_output2.bias\u001b[0m\n",
      "  \u001b[35mbackbone.fpn_lateral3.bias\u001b[0m\n",
      "  \u001b[35mbackbone.fpn_output3.bias\u001b[0m\n",
      "  \u001b[35mbackbone.fpn_lateral4.bias\u001b[0m\n",
      "  \u001b[35mbackbone.fpn_output4.bias\u001b[0m\n",
      "  \u001b[35mbackbone.fpn_lateral5.bias\u001b[0m\n",
      "  \u001b[35mbackbone.fpn_output5.bias\u001b[0m\n",
      "  5%|██                                      | 51/987 [04:05<1:15:38,  4.85s/it]"
     ]
    },
    {
     "name": "stdout",
     "output_type": "stream",
     "text": [
      "08_10_1936_00000014\n",
      "Pages/08_10_1936_00000014.tif.large.jpg\n"
     ]
    },
    {
     "name": "stderr",
     "output_type": "stream",
     "text": [
      "The checkpoint state_dict contains keys that are not used by the model:\n",
      "  \u001b[35mbackbone.fpn_lateral2.bias\u001b[0m\n",
      "  \u001b[35mbackbone.fpn_output2.bias\u001b[0m\n",
      "  \u001b[35mbackbone.fpn_lateral3.bias\u001b[0m\n",
      "  \u001b[35mbackbone.fpn_output3.bias\u001b[0m\n",
      "  \u001b[35mbackbone.fpn_lateral4.bias\u001b[0m\n",
      "  \u001b[35mbackbone.fpn_output4.bias\u001b[0m\n",
      "  \u001b[35mbackbone.fpn_lateral5.bias\u001b[0m\n",
      "  \u001b[35mbackbone.fpn_output5.bias\u001b[0m\n",
      "  5%|██                                      | 52/987 [04:10<1:13:42,  4.73s/it]"
     ]
    },
    {
     "name": "stdout",
     "output_type": "stream",
     "text": [
      "09_10_1936_00000001\n",
      "Pages/09_10_1936_00000001.tif.large.jpg\n"
     ]
    },
    {
     "name": "stderr",
     "output_type": "stream",
     "text": [
      "The checkpoint state_dict contains keys that are not used by the model:\n",
      "  \u001b[35mbackbone.fpn_lateral2.bias\u001b[0m\n",
      "  \u001b[35mbackbone.fpn_output2.bias\u001b[0m\n",
      "  \u001b[35mbackbone.fpn_lateral3.bias\u001b[0m\n",
      "  \u001b[35mbackbone.fpn_output3.bias\u001b[0m\n",
      "  \u001b[35mbackbone.fpn_lateral4.bias\u001b[0m\n",
      "  \u001b[35mbackbone.fpn_output4.bias\u001b[0m\n",
      "  \u001b[35mbackbone.fpn_lateral5.bias\u001b[0m\n",
      "  \u001b[35mbackbone.fpn_output5.bias\u001b[0m\n",
      "  5%|██▏                                     | 53/987 [04:14<1:12:07,  4.63s/it]"
     ]
    },
    {
     "name": "stdout",
     "output_type": "stream",
     "text": [
      "02_03_1936_00000014\n",
      "Pages/02_03_1936_00000014.tif.large.jpg\n"
     ]
    },
    {
     "name": "stderr",
     "output_type": "stream",
     "text": [
      "The checkpoint state_dict contains keys that are not used by the model:\n",
      "  \u001b[35mbackbone.fpn_lateral2.bias\u001b[0m\n",
      "  \u001b[35mbackbone.fpn_output2.bias\u001b[0m\n",
      "  \u001b[35mbackbone.fpn_lateral3.bias\u001b[0m\n",
      "  \u001b[35mbackbone.fpn_output3.bias\u001b[0m\n",
      "  \u001b[35mbackbone.fpn_lateral4.bias\u001b[0m\n",
      "  \u001b[35mbackbone.fpn_output4.bias\u001b[0m\n",
      "  \u001b[35mbackbone.fpn_lateral5.bias\u001b[0m\n",
      "  \u001b[35mbackbone.fpn_output5.bias\u001b[0m\n",
      "  5%|██▏                                     | 54/987 [04:19<1:12:31,  4.66s/it]"
     ]
    },
    {
     "name": "stdout",
     "output_type": "stream",
     "text": [
      "19_10_1936_00000009\n",
      "Pages/19_10_1936_00000009.tif.large.jpg\n"
     ]
    },
    {
     "name": "stderr",
     "output_type": "stream",
     "text": [
      "The checkpoint state_dict contains keys that are not used by the model:\n",
      "  \u001b[35mbackbone.fpn_lateral2.bias\u001b[0m\n",
      "  \u001b[35mbackbone.fpn_output2.bias\u001b[0m\n",
      "  \u001b[35mbackbone.fpn_lateral3.bias\u001b[0m\n",
      "  \u001b[35mbackbone.fpn_output3.bias\u001b[0m\n",
      "  \u001b[35mbackbone.fpn_lateral4.bias\u001b[0m\n",
      "  \u001b[35mbackbone.fpn_output4.bias\u001b[0m\n",
      "  \u001b[35mbackbone.fpn_lateral5.bias\u001b[0m\n",
      "  \u001b[35mbackbone.fpn_output5.bias\u001b[0m\n",
      "  6%|██▏                                     | 55/987 [04:24<1:12:48,  4.69s/it]"
     ]
    },
    {
     "name": "stdout",
     "output_type": "stream",
     "text": [
      "04_04_1936_00000008\n",
      "Pages/04_04_1936_00000008.tif.large.jpg\n"
     ]
    },
    {
     "name": "stderr",
     "output_type": "stream",
     "text": [
      "The checkpoint state_dict contains keys that are not used by the model:\n",
      "  \u001b[35mbackbone.fpn_lateral2.bias\u001b[0m\n",
      "  \u001b[35mbackbone.fpn_output2.bias\u001b[0m\n",
      "  \u001b[35mbackbone.fpn_lateral3.bias\u001b[0m\n",
      "  \u001b[35mbackbone.fpn_output3.bias\u001b[0m\n",
      "  \u001b[35mbackbone.fpn_lateral4.bias\u001b[0m\n",
      "  \u001b[35mbackbone.fpn_output4.bias\u001b[0m\n",
      "  \u001b[35mbackbone.fpn_lateral5.bias\u001b[0m\n",
      "  \u001b[35mbackbone.fpn_output5.bias\u001b[0m\n",
      "  6%|██▎                                     | 56/987 [04:28<1:12:30,  4.67s/it]"
     ]
    },
    {
     "name": "stdout",
     "output_type": "stream",
     "text": [
      "21_12_1936_00000007\n",
      "Pages/21_12_1936_00000007.tif.large.jpg\n"
     ]
    },
    {
     "name": "stderr",
     "output_type": "stream",
     "text": [
      "The checkpoint state_dict contains keys that are not used by the model:\n",
      "  \u001b[35mbackbone.fpn_lateral2.bias\u001b[0m\n",
      "  \u001b[35mbackbone.fpn_output2.bias\u001b[0m\n",
      "  \u001b[35mbackbone.fpn_lateral3.bias\u001b[0m\n",
      "  \u001b[35mbackbone.fpn_output3.bias\u001b[0m\n",
      "  \u001b[35mbackbone.fpn_lateral4.bias\u001b[0m\n",
      "  \u001b[35mbackbone.fpn_output4.bias\u001b[0m\n",
      "  \u001b[35mbackbone.fpn_lateral5.bias\u001b[0m\n",
      "  \u001b[35mbackbone.fpn_output5.bias\u001b[0m\n",
      "  6%|██▎                                     | 57/987 [04:33<1:12:10,  4.66s/it]"
     ]
    },
    {
     "name": "stdout",
     "output_type": "stream",
     "text": [
      "13_10_1936_00000009\n",
      "Pages/13_10_1936_00000009.tif.large.jpg\n"
     ]
    },
    {
     "name": "stderr",
     "output_type": "stream",
     "text": [
      "The checkpoint state_dict contains keys that are not used by the model:\n",
      "  \u001b[35mbackbone.fpn_lateral2.bias\u001b[0m\n",
      "  \u001b[35mbackbone.fpn_output2.bias\u001b[0m\n",
      "  \u001b[35mbackbone.fpn_lateral3.bias\u001b[0m\n",
      "  \u001b[35mbackbone.fpn_output3.bias\u001b[0m\n",
      "  \u001b[35mbackbone.fpn_lateral4.bias\u001b[0m\n",
      "  \u001b[35mbackbone.fpn_output4.bias\u001b[0m\n",
      "  \u001b[35mbackbone.fpn_lateral5.bias\u001b[0m\n",
      "  \u001b[35mbackbone.fpn_output5.bias\u001b[0m\n",
      "  6%|██▎                                     | 58/987 [04:37<1:12:05,  4.66s/it]"
     ]
    },
    {
     "name": "stdout",
     "output_type": "stream",
     "text": [
      "15_03_1936_00000005\n",
      "Pages/15_03_1936_00000005.tif.large.jpg\n"
     ]
    },
    {
     "name": "stderr",
     "output_type": "stream",
     "text": [
      "The checkpoint state_dict contains keys that are not used by the model:\n",
      "  \u001b[35mbackbone.fpn_lateral2.bias\u001b[0m\n",
      "  \u001b[35mbackbone.fpn_output2.bias\u001b[0m\n",
      "  \u001b[35mbackbone.fpn_lateral3.bias\u001b[0m\n",
      "  \u001b[35mbackbone.fpn_output3.bias\u001b[0m\n",
      "  \u001b[35mbackbone.fpn_lateral4.bias\u001b[0m\n",
      "  \u001b[35mbackbone.fpn_output4.bias\u001b[0m\n",
      "  \u001b[35mbackbone.fpn_lateral5.bias\u001b[0m\n",
      "  \u001b[35mbackbone.fpn_output5.bias\u001b[0m\n",
      "  6%|██▍                                     | 59/987 [04:42<1:11:18,  4.61s/it]"
     ]
    },
    {
     "name": "stdout",
     "output_type": "stream",
     "text": [
      "10_09_1936_00000009\n",
      "Pages/10_09_1936_00000009.tif.large.jpg\n"
     ]
    },
    {
     "name": "stderr",
     "output_type": "stream",
     "text": [
      "The checkpoint state_dict contains keys that are not used by the model:\n",
      "  \u001b[35mbackbone.fpn_lateral2.bias\u001b[0m\n",
      "  \u001b[35mbackbone.fpn_output2.bias\u001b[0m\n",
      "  \u001b[35mbackbone.fpn_lateral3.bias\u001b[0m\n",
      "  \u001b[35mbackbone.fpn_output3.bias\u001b[0m\n",
      "  \u001b[35mbackbone.fpn_lateral4.bias\u001b[0m\n",
      "  \u001b[35mbackbone.fpn_output4.bias\u001b[0m\n",
      "  \u001b[35mbackbone.fpn_lateral5.bias\u001b[0m\n",
      "  \u001b[35mbackbone.fpn_output5.bias\u001b[0m\n",
      "  6%|██▍                                     | 60/987 [04:46<1:10:38,  4.57s/it]"
     ]
    },
    {
     "name": "stdout",
     "output_type": "stream",
     "text": [
      "14_02_1936_00000021\n",
      "Pages/14_02_1936_00000021.tif.large.jpg\n"
     ]
    },
    {
     "name": "stderr",
     "output_type": "stream",
     "text": [
      "The checkpoint state_dict contains keys that are not used by the model:\n",
      "  \u001b[35mbackbone.fpn_lateral2.bias\u001b[0m\n",
      "  \u001b[35mbackbone.fpn_output2.bias\u001b[0m\n",
      "  \u001b[35mbackbone.fpn_lateral3.bias\u001b[0m\n",
      "  \u001b[35mbackbone.fpn_output3.bias\u001b[0m\n",
      "  \u001b[35mbackbone.fpn_lateral4.bias\u001b[0m\n",
      "  \u001b[35mbackbone.fpn_output4.bias\u001b[0m\n",
      "  \u001b[35mbackbone.fpn_lateral5.bias\u001b[0m\n",
      "  \u001b[35mbackbone.fpn_output5.bias\u001b[0m\n",
      "  6%|██▍                                     | 61/987 [04:51<1:10:10,  4.55s/it]"
     ]
    },
    {
     "name": "stdout",
     "output_type": "stream",
     "text": [
      "28_01_1936_00000003\n",
      "Pages/28_01_1936_00000003.tif.large.jpg\n"
     ]
    },
    {
     "name": "stderr",
     "output_type": "stream",
     "text": [
      "The checkpoint state_dict contains keys that are not used by the model:\n",
      "  \u001b[35mbackbone.fpn_lateral2.bias\u001b[0m\n",
      "  \u001b[35mbackbone.fpn_output2.bias\u001b[0m\n",
      "  \u001b[35mbackbone.fpn_lateral3.bias\u001b[0m\n",
      "  \u001b[35mbackbone.fpn_output3.bias\u001b[0m\n",
      "  \u001b[35mbackbone.fpn_lateral4.bias\u001b[0m\n",
      "  \u001b[35mbackbone.fpn_output4.bias\u001b[0m\n",
      "  \u001b[35mbackbone.fpn_lateral5.bias\u001b[0m\n",
      "  \u001b[35mbackbone.fpn_output5.bias\u001b[0m\n",
      "  6%|██▌                                     | 62/987 [04:56<1:11:56,  4.67s/it]"
     ]
    },
    {
     "name": "stdout",
     "output_type": "stream",
     "text": [
      "10_04_1936_00000003\n",
      "Pages/10_04_1936_00000003.tif.large.jpg\n"
     ]
    },
    {
     "name": "stderr",
     "output_type": "stream",
     "text": [
      "The checkpoint state_dict contains keys that are not used by the model:\n",
      "  \u001b[35mbackbone.fpn_lateral2.bias\u001b[0m\n",
      "  \u001b[35mbackbone.fpn_output2.bias\u001b[0m\n",
      "  \u001b[35mbackbone.fpn_lateral3.bias\u001b[0m\n",
      "  \u001b[35mbackbone.fpn_output3.bias\u001b[0m\n",
      "  \u001b[35mbackbone.fpn_lateral4.bias\u001b[0m\n",
      "  \u001b[35mbackbone.fpn_output4.bias\u001b[0m\n",
      "  \u001b[35mbackbone.fpn_lateral5.bias\u001b[0m\n",
      "  \u001b[35mbackbone.fpn_output5.bias\u001b[0m\n",
      "  6%|██▌                                     | 63/987 [05:01<1:11:55,  4.67s/it]"
     ]
    },
    {
     "name": "stdout",
     "output_type": "stream",
     "text": [
      "16_12_1936_00000001\n",
      "Pages/16_12_1936_00000001.tif.large.jpg\n"
     ]
    },
    {
     "name": "stderr",
     "output_type": "stream",
     "text": [
      "The checkpoint state_dict contains keys that are not used by the model:\n",
      "  \u001b[35mbackbone.fpn_lateral2.bias\u001b[0m\n",
      "  \u001b[35mbackbone.fpn_output2.bias\u001b[0m\n",
      "  \u001b[35mbackbone.fpn_lateral3.bias\u001b[0m\n",
      "  \u001b[35mbackbone.fpn_output3.bias\u001b[0m\n",
      "  \u001b[35mbackbone.fpn_lateral4.bias\u001b[0m\n",
      "  \u001b[35mbackbone.fpn_output4.bias\u001b[0m\n",
      "  \u001b[35mbackbone.fpn_lateral5.bias\u001b[0m\n",
      "  \u001b[35mbackbone.fpn_output5.bias\u001b[0m\n",
      "  6%|██▌                                     | 64/987 [05:05<1:12:25,  4.71s/it]"
     ]
    },
    {
     "name": "stdout",
     "output_type": "stream",
     "text": [
      "25_09_1936_00000005\n",
      "Pages/25_09_1936_00000005.tif.large.jpg\n"
     ]
    },
    {
     "name": "stderr",
     "output_type": "stream",
     "text": [
      "The checkpoint state_dict contains keys that are not used by the model:\n",
      "  \u001b[35mbackbone.fpn_lateral2.bias\u001b[0m\n",
      "  \u001b[35mbackbone.fpn_output2.bias\u001b[0m\n",
      "  \u001b[35mbackbone.fpn_lateral3.bias\u001b[0m\n",
      "  \u001b[35mbackbone.fpn_output3.bias\u001b[0m\n",
      "  \u001b[35mbackbone.fpn_lateral4.bias\u001b[0m\n",
      "  \u001b[35mbackbone.fpn_output4.bias\u001b[0m\n",
      "  \u001b[35mbackbone.fpn_lateral5.bias\u001b[0m\n",
      "  \u001b[35mbackbone.fpn_output5.bias\u001b[0m\n",
      "  7%|██▋                                     | 65/987 [05:10<1:12:17,  4.70s/it]"
     ]
    },
    {
     "name": "stdout",
     "output_type": "stream",
     "text": [
      "01_12_1936_00000009\n",
      "Pages/01_12_1936_00000009.tif.large.jpg\n"
     ]
    },
    {
     "name": "stderr",
     "output_type": "stream",
     "text": [
      "The checkpoint state_dict contains keys that are not used by the model:\n",
      "  \u001b[35mbackbone.fpn_lateral2.bias\u001b[0m\n",
      "  \u001b[35mbackbone.fpn_output2.bias\u001b[0m\n",
      "  \u001b[35mbackbone.fpn_lateral3.bias\u001b[0m\n",
      "  \u001b[35mbackbone.fpn_output3.bias\u001b[0m\n",
      "  \u001b[35mbackbone.fpn_lateral4.bias\u001b[0m\n",
      "  \u001b[35mbackbone.fpn_output4.bias\u001b[0m\n",
      "  \u001b[35mbackbone.fpn_lateral5.bias\u001b[0m\n",
      "  \u001b[35mbackbone.fpn_output5.bias\u001b[0m\n",
      "  7%|██▋                                     | 66/987 [05:15<1:14:10,  4.83s/it]"
     ]
    },
    {
     "name": "stdout",
     "output_type": "stream",
     "text": [
      "11_10_1936_00000013\n",
      "Pages/11_10_1936_00000013.tif.large.jpg\n"
     ]
    },
    {
     "name": "stderr",
     "output_type": "stream",
     "text": [
      "The checkpoint state_dict contains keys that are not used by the model:\n",
      "  \u001b[35mbackbone.fpn_lateral2.bias\u001b[0m\n",
      "  \u001b[35mbackbone.fpn_output2.bias\u001b[0m\n",
      "  \u001b[35mbackbone.fpn_lateral3.bias\u001b[0m\n",
      "  \u001b[35mbackbone.fpn_output3.bias\u001b[0m\n",
      "  \u001b[35mbackbone.fpn_lateral4.bias\u001b[0m\n",
      "  \u001b[35mbackbone.fpn_output4.bias\u001b[0m\n",
      "  \u001b[35mbackbone.fpn_lateral5.bias\u001b[0m\n",
      "  \u001b[35mbackbone.fpn_output5.bias\u001b[0m\n",
      "  7%|██▋                                     | 67/987 [05:20<1:13:57,  4.82s/it]"
     ]
    },
    {
     "name": "stdout",
     "output_type": "stream",
     "text": [
      "08_09_1936_00000001\n",
      "Pages/08_09_1936_00000001.tif.large.jpg\n"
     ]
    },
    {
     "name": "stderr",
     "output_type": "stream",
     "text": [
      "The checkpoint state_dict contains keys that are not used by the model:\n",
      "  \u001b[35mbackbone.fpn_lateral2.bias\u001b[0m\n",
      "  \u001b[35mbackbone.fpn_output2.bias\u001b[0m\n",
      "  \u001b[35mbackbone.fpn_lateral3.bias\u001b[0m\n",
      "  \u001b[35mbackbone.fpn_output3.bias\u001b[0m\n",
      "  \u001b[35mbackbone.fpn_lateral4.bias\u001b[0m\n",
      "  \u001b[35mbackbone.fpn_output4.bias\u001b[0m\n",
      "  \u001b[35mbackbone.fpn_lateral5.bias\u001b[0m\n",
      "  \u001b[35mbackbone.fpn_output5.bias\u001b[0m\n",
      "  7%|██▊                                     | 68/987 [05:25<1:14:04,  4.84s/it]"
     ]
    },
    {
     "name": "stdout",
     "output_type": "stream",
     "text": [
      "30_10_1936_00000005\n",
      "Pages/30_10_1936_00000005.tif.large.jpg\n"
     ]
    },
    {
     "name": "stderr",
     "output_type": "stream",
     "text": [
      "The checkpoint state_dict contains keys that are not used by the model:\n",
      "  \u001b[35mbackbone.fpn_lateral2.bias\u001b[0m\n",
      "  \u001b[35mbackbone.fpn_output2.bias\u001b[0m\n",
      "  \u001b[35mbackbone.fpn_lateral3.bias\u001b[0m\n",
      "  \u001b[35mbackbone.fpn_output3.bias\u001b[0m\n",
      "  \u001b[35mbackbone.fpn_lateral4.bias\u001b[0m\n",
      "  \u001b[35mbackbone.fpn_output4.bias\u001b[0m\n",
      "  \u001b[35mbackbone.fpn_lateral5.bias\u001b[0m\n",
      "  \u001b[35mbackbone.fpn_output5.bias\u001b[0m\n",
      "  7%|██▊                                     | 69/987 [05:30<1:14:16,  4.85s/it]"
     ]
    },
    {
     "name": "stdout",
     "output_type": "stream",
     "text": [
      "31_08_1936_00000003\n",
      "Pages/31_08_1936_00000003.tif.large.jpg\n"
     ]
    },
    {
     "name": "stderr",
     "output_type": "stream",
     "text": [
      "The checkpoint state_dict contains keys that are not used by the model:\n",
      "  \u001b[35mbackbone.fpn_lateral2.bias\u001b[0m\n",
      "  \u001b[35mbackbone.fpn_output2.bias\u001b[0m\n",
      "  \u001b[35mbackbone.fpn_lateral3.bias\u001b[0m\n",
      "  \u001b[35mbackbone.fpn_output3.bias\u001b[0m\n",
      "  \u001b[35mbackbone.fpn_lateral4.bias\u001b[0m\n",
      "  \u001b[35mbackbone.fpn_output4.bias\u001b[0m\n",
      "  \u001b[35mbackbone.fpn_lateral5.bias\u001b[0m\n",
      "  \u001b[35mbackbone.fpn_output5.bias\u001b[0m\n",
      "  7%|██▊                                     | 70/987 [05:35<1:15:13,  4.92s/it]"
     ]
    },
    {
     "name": "stdout",
     "output_type": "stream",
     "text": [
      "10_09_1936_00000019\n",
      "Pages/10_09_1936_00000019.tif.large.jpg\n"
     ]
    },
    {
     "name": "stderr",
     "output_type": "stream",
     "text": [
      "The checkpoint state_dict contains keys that are not used by the model:\n",
      "  \u001b[35mbackbone.fpn_lateral2.bias\u001b[0m\n",
      "  \u001b[35mbackbone.fpn_output2.bias\u001b[0m\n",
      "  \u001b[35mbackbone.fpn_lateral3.bias\u001b[0m\n",
      "  \u001b[35mbackbone.fpn_output3.bias\u001b[0m\n",
      "  \u001b[35mbackbone.fpn_lateral4.bias\u001b[0m\n",
      "  \u001b[35mbackbone.fpn_output4.bias\u001b[0m\n",
      "  \u001b[35mbackbone.fpn_lateral5.bias\u001b[0m\n",
      "  \u001b[35mbackbone.fpn_output5.bias\u001b[0m\n",
      "  7%|██▉                                     | 71/987 [05:40<1:15:39,  4.96s/it]"
     ]
    },
    {
     "name": "stdout",
     "output_type": "stream",
     "text": [
      "02_03_1936_00000008\n",
      "Pages/02_03_1936_00000008.tif.large.jpg\n"
     ]
    },
    {
     "name": "stderr",
     "output_type": "stream",
     "text": [
      "The checkpoint state_dict contains keys that are not used by the model:\n",
      "  \u001b[35mbackbone.fpn_lateral2.bias\u001b[0m\n",
      "  \u001b[35mbackbone.fpn_output2.bias\u001b[0m\n",
      "  \u001b[35mbackbone.fpn_lateral3.bias\u001b[0m\n",
      "  \u001b[35mbackbone.fpn_output3.bias\u001b[0m\n",
      "  \u001b[35mbackbone.fpn_lateral4.bias\u001b[0m\n",
      "  \u001b[35mbackbone.fpn_output4.bias\u001b[0m\n",
      "  \u001b[35mbackbone.fpn_lateral5.bias\u001b[0m\n",
      "  \u001b[35mbackbone.fpn_output5.bias\u001b[0m\n",
      "  7%|██▉                                     | 72/987 [05:45<1:15:04,  4.92s/it]"
     ]
    },
    {
     "name": "stdout",
     "output_type": "stream",
     "text": [
      "13_01_1936_00000009\n",
      "Pages/13_01_1936_00000009.tif.large.jpg\n"
     ]
    },
    {
     "name": "stderr",
     "output_type": "stream",
     "text": [
      "The checkpoint state_dict contains keys that are not used by the model:\n",
      "  \u001b[35mbackbone.fpn_lateral2.bias\u001b[0m\n",
      "  \u001b[35mbackbone.fpn_output2.bias\u001b[0m\n",
      "  \u001b[35mbackbone.fpn_lateral3.bias\u001b[0m\n",
      "  \u001b[35mbackbone.fpn_output3.bias\u001b[0m\n",
      "  \u001b[35mbackbone.fpn_lateral4.bias\u001b[0m\n",
      "  \u001b[35mbackbone.fpn_output4.bias\u001b[0m\n",
      "  \u001b[35mbackbone.fpn_lateral5.bias\u001b[0m\n",
      "  \u001b[35mbackbone.fpn_output5.bias\u001b[0m\n",
      "  7%|██▉                                     | 73/987 [05:49<1:13:27,  4.82s/it]"
     ]
    },
    {
     "name": "stdout",
     "output_type": "stream",
     "text": [
      "17_04_1936_00000001\n",
      "Pages/17_04_1936_00000001.tif.large.jpg\n"
     ]
    },
    {
     "name": "stderr",
     "output_type": "stream",
     "text": [
      "The checkpoint state_dict contains keys that are not used by the model:\n",
      "  \u001b[35mbackbone.fpn_lateral2.bias\u001b[0m\n",
      "  \u001b[35mbackbone.fpn_output2.bias\u001b[0m\n",
      "  \u001b[35mbackbone.fpn_lateral3.bias\u001b[0m\n",
      "  \u001b[35mbackbone.fpn_output3.bias\u001b[0m\n",
      "  \u001b[35mbackbone.fpn_lateral4.bias\u001b[0m\n",
      "  \u001b[35mbackbone.fpn_output4.bias\u001b[0m\n",
      "  \u001b[35mbackbone.fpn_lateral5.bias\u001b[0m\n",
      "  \u001b[35mbackbone.fpn_output5.bias\u001b[0m\n",
      "  7%|██▉                                     | 74/987 [05:54<1:13:44,  4.85s/it]"
     ]
    },
    {
     "name": "stdout",
     "output_type": "stream",
     "text": [
      "19_10_1936_00000006\n",
      "Pages/19_10_1936_00000006.tif.large.jpg\n"
     ]
    },
    {
     "name": "stderr",
     "output_type": "stream",
     "text": [
      "The checkpoint state_dict contains keys that are not used by the model:\n",
      "  \u001b[35mbackbone.fpn_lateral2.bias\u001b[0m\n",
      "  \u001b[35mbackbone.fpn_output2.bias\u001b[0m\n",
      "  \u001b[35mbackbone.fpn_lateral3.bias\u001b[0m\n",
      "  \u001b[35mbackbone.fpn_output3.bias\u001b[0m\n",
      "  \u001b[35mbackbone.fpn_lateral4.bias\u001b[0m\n",
      "  \u001b[35mbackbone.fpn_output4.bias\u001b[0m\n",
      "  \u001b[35mbackbone.fpn_lateral5.bias\u001b[0m\n",
      "  \u001b[35mbackbone.fpn_output5.bias\u001b[0m\n",
      "  8%|███                                     | 75/987 [05:59<1:13:58,  4.87s/it]"
     ]
    },
    {
     "name": "stdout",
     "output_type": "stream",
     "text": [
      "12_12_1936_00000005\n",
      "Pages/12_12_1936_00000005.tif.large.jpg\n"
     ]
    },
    {
     "name": "stderr",
     "output_type": "stream",
     "text": [
      "The checkpoint state_dict contains keys that are not used by the model:\n",
      "  \u001b[35mbackbone.fpn_lateral2.bias\u001b[0m\n",
      "  \u001b[35mbackbone.fpn_output2.bias\u001b[0m\n",
      "  \u001b[35mbackbone.fpn_lateral3.bias\u001b[0m\n",
      "  \u001b[35mbackbone.fpn_output3.bias\u001b[0m\n",
      "  \u001b[35mbackbone.fpn_lateral4.bias\u001b[0m\n",
      "  \u001b[35mbackbone.fpn_output4.bias\u001b[0m\n",
      "  \u001b[35mbackbone.fpn_lateral5.bias\u001b[0m\n",
      "  \u001b[35mbackbone.fpn_output5.bias\u001b[0m\n",
      "  8%|███                                     | 76/987 [06:04<1:14:27,  4.90s/it]"
     ]
    },
    {
     "name": "stdout",
     "output_type": "stream",
     "text": [
      "22_01_1936_00000007\n",
      "Pages/22_01_1936_00000007.tif.large.jpg\n"
     ]
    },
    {
     "name": "stderr",
     "output_type": "stream",
     "text": [
      "The checkpoint state_dict contains keys that are not used by the model:\n",
      "  \u001b[35mbackbone.fpn_lateral2.bias\u001b[0m\n",
      "  \u001b[35mbackbone.fpn_output2.bias\u001b[0m\n",
      "  \u001b[35mbackbone.fpn_lateral3.bias\u001b[0m\n",
      "  \u001b[35mbackbone.fpn_output3.bias\u001b[0m\n",
      "  \u001b[35mbackbone.fpn_lateral4.bias\u001b[0m\n",
      "  \u001b[35mbackbone.fpn_output4.bias\u001b[0m\n",
      "  \u001b[35mbackbone.fpn_lateral5.bias\u001b[0m\n",
      "  \u001b[35mbackbone.fpn_output5.bias\u001b[0m\n",
      "  8%|███                                     | 77/987 [06:09<1:13:18,  4.83s/it]"
     ]
    },
    {
     "name": "stdout",
     "output_type": "stream",
     "text": [
      "27_02_1936_00000017\n",
      "Pages/27_02_1936_00000017.tif.large.jpg\n"
     ]
    },
    {
     "name": "stderr",
     "output_type": "stream",
     "text": [
      "The checkpoint state_dict contains keys that are not used by the model:\n",
      "  \u001b[35mbackbone.fpn_lateral2.bias\u001b[0m\n",
      "  \u001b[35mbackbone.fpn_output2.bias\u001b[0m\n",
      "  \u001b[35mbackbone.fpn_lateral3.bias\u001b[0m\n",
      "  \u001b[35mbackbone.fpn_output3.bias\u001b[0m\n",
      "  \u001b[35mbackbone.fpn_lateral4.bias\u001b[0m\n",
      "  \u001b[35mbackbone.fpn_output4.bias\u001b[0m\n",
      "  \u001b[35mbackbone.fpn_lateral5.bias\u001b[0m\n",
      "  \u001b[35mbackbone.fpn_output5.bias\u001b[0m\n",
      "  8%|███▏                                    | 78/987 [06:14<1:13:00,  4.82s/it]"
     ]
    },
    {
     "name": "stdout",
     "output_type": "stream",
     "text": [
      "15_03_1936_00000009\n",
      "Pages/15_03_1936_00000009.tif.large.jpg\n"
     ]
    },
    {
     "name": "stderr",
     "output_type": "stream",
     "text": [
      "The checkpoint state_dict contains keys that are not used by the model:\n",
      "  \u001b[35mbackbone.fpn_lateral2.bias\u001b[0m\n",
      "  \u001b[35mbackbone.fpn_output2.bias\u001b[0m\n",
      "  \u001b[35mbackbone.fpn_lateral3.bias\u001b[0m\n",
      "  \u001b[35mbackbone.fpn_output3.bias\u001b[0m\n",
      "  \u001b[35mbackbone.fpn_lateral4.bias\u001b[0m\n",
      "  \u001b[35mbackbone.fpn_output4.bias\u001b[0m\n",
      "  \u001b[35mbackbone.fpn_lateral5.bias\u001b[0m\n",
      "  \u001b[35mbackbone.fpn_output5.bias\u001b[0m\n",
      "  8%|███▏                                    | 79/987 [06:18<1:12:16,  4.78s/it]"
     ]
    },
    {
     "name": "stdout",
     "output_type": "stream",
     "text": [
      "05_04_1936_00000014\n",
      "Pages/05_04_1936_00000014.tif.large.jpg\n"
     ]
    },
    {
     "name": "stderr",
     "output_type": "stream",
     "text": [
      "The checkpoint state_dict contains keys that are not used by the model:\n",
      "  \u001b[35mbackbone.fpn_lateral2.bias\u001b[0m\n",
      "  \u001b[35mbackbone.fpn_output2.bias\u001b[0m\n",
      "  \u001b[35mbackbone.fpn_lateral3.bias\u001b[0m\n",
      "  \u001b[35mbackbone.fpn_output3.bias\u001b[0m\n",
      "  \u001b[35mbackbone.fpn_lateral4.bias\u001b[0m\n",
      "  \u001b[35mbackbone.fpn_output4.bias\u001b[0m\n",
      "  \u001b[35mbackbone.fpn_lateral5.bias\u001b[0m\n",
      "  \u001b[35mbackbone.fpn_output5.bias\u001b[0m\n",
      "  8%|███▏                                    | 80/987 [06:23<1:12:12,  4.78s/it]"
     ]
    },
    {
     "name": "stdout",
     "output_type": "stream",
     "text": [
      "18_11_1936_00000013\n",
      "Pages/18_11_1936_00000013.tif.large.jpg\n"
     ]
    },
    {
     "name": "stderr",
     "output_type": "stream",
     "text": [
      "The checkpoint state_dict contains keys that are not used by the model:\n",
      "  \u001b[35mbackbone.fpn_lateral2.bias\u001b[0m\n",
      "  \u001b[35mbackbone.fpn_output2.bias\u001b[0m\n",
      "  \u001b[35mbackbone.fpn_lateral3.bias\u001b[0m\n",
      "  \u001b[35mbackbone.fpn_output3.bias\u001b[0m\n",
      "  \u001b[35mbackbone.fpn_lateral4.bias\u001b[0m\n",
      "  \u001b[35mbackbone.fpn_output4.bias\u001b[0m\n",
      "  \u001b[35mbackbone.fpn_lateral5.bias\u001b[0m\n",
      "  \u001b[35mbackbone.fpn_output5.bias\u001b[0m\n",
      "  8%|███▎                                    | 81/987 [06:28<1:11:46,  4.75s/it]"
     ]
    },
    {
     "name": "stdout",
     "output_type": "stream",
     "text": [
      "12_10_1936_00000016\n",
      "Pages/12_10_1936_00000016.tif.large.jpg\n"
     ]
    },
    {
     "name": "stderr",
     "output_type": "stream",
     "text": [
      "The checkpoint state_dict contains keys that are not used by the model:\n",
      "  \u001b[35mbackbone.fpn_lateral2.bias\u001b[0m\n",
      "  \u001b[35mbackbone.fpn_output2.bias\u001b[0m\n",
      "  \u001b[35mbackbone.fpn_lateral3.bias\u001b[0m\n",
      "  \u001b[35mbackbone.fpn_output3.bias\u001b[0m\n",
      "  \u001b[35mbackbone.fpn_lateral4.bias\u001b[0m\n",
      "  \u001b[35mbackbone.fpn_output4.bias\u001b[0m\n",
      "  \u001b[35mbackbone.fpn_lateral5.bias\u001b[0m\n",
      "  \u001b[35mbackbone.fpn_output5.bias\u001b[0m\n",
      "  8%|███▎                                    | 82/987 [06:32<1:11:18,  4.73s/it]"
     ]
    },
    {
     "name": "stdout",
     "output_type": "stream",
     "text": [
      "22_10_1936_00000003\n",
      "Pages/22_10_1936_00000003.tif.large.jpg\n"
     ]
    },
    {
     "name": "stderr",
     "output_type": "stream",
     "text": [
      "The checkpoint state_dict contains keys that are not used by the model:\n",
      "  \u001b[35mbackbone.fpn_lateral2.bias\u001b[0m\n",
      "  \u001b[35mbackbone.fpn_output2.bias\u001b[0m\n",
      "  \u001b[35mbackbone.fpn_lateral3.bias\u001b[0m\n",
      "  \u001b[35mbackbone.fpn_output3.bias\u001b[0m\n",
      "  \u001b[35mbackbone.fpn_lateral4.bias\u001b[0m\n",
      "  \u001b[35mbackbone.fpn_output4.bias\u001b[0m\n",
      "  \u001b[35mbackbone.fpn_lateral5.bias\u001b[0m\n",
      "  \u001b[35mbackbone.fpn_output5.bias\u001b[0m\n",
      "  8%|███▎                                    | 83/987 [06:37<1:10:50,  4.70s/it]"
     ]
    },
    {
     "name": "stdout",
     "output_type": "stream",
     "text": [
      "05_12_1936_00000006\n",
      "Pages/05_12_1936_00000006.tif.large.jpg\n"
     ]
    },
    {
     "name": "stderr",
     "output_type": "stream",
     "text": [
      "The checkpoint state_dict contains keys that are not used by the model:\n",
      "  \u001b[35mbackbone.fpn_lateral2.bias\u001b[0m\n",
      "  \u001b[35mbackbone.fpn_output2.bias\u001b[0m\n",
      "  \u001b[35mbackbone.fpn_lateral3.bias\u001b[0m\n",
      "  \u001b[35mbackbone.fpn_output3.bias\u001b[0m\n",
      "  \u001b[35mbackbone.fpn_lateral4.bias\u001b[0m\n",
      "  \u001b[35mbackbone.fpn_output4.bias\u001b[0m\n",
      "  \u001b[35mbackbone.fpn_lateral5.bias\u001b[0m\n",
      "  \u001b[35mbackbone.fpn_output5.bias\u001b[0m\n",
      "  9%|███▍                                    | 84/987 [06:42<1:10:03,  4.66s/it]"
     ]
    },
    {
     "name": "stdout",
     "output_type": "stream",
     "text": [
      "17_08_1936_00000004\n",
      "Pages/17_08_1936_00000004.tif.large.jpg\n"
     ]
    },
    {
     "name": "stderr",
     "output_type": "stream",
     "text": [
      "The checkpoint state_dict contains keys that are not used by the model:\n",
      "  \u001b[35mbackbone.fpn_lateral2.bias\u001b[0m\n",
      "  \u001b[35mbackbone.fpn_output2.bias\u001b[0m\n",
      "  \u001b[35mbackbone.fpn_lateral3.bias\u001b[0m\n",
      "  \u001b[35mbackbone.fpn_output3.bias\u001b[0m\n",
      "  \u001b[35mbackbone.fpn_lateral4.bias\u001b[0m\n",
      "  \u001b[35mbackbone.fpn_output4.bias\u001b[0m\n",
      "  \u001b[35mbackbone.fpn_lateral5.bias\u001b[0m\n",
      "  \u001b[35mbackbone.fpn_output5.bias\u001b[0m\n",
      "  9%|███▍                                    | 85/987 [06:46<1:10:27,  4.69s/it]"
     ]
    },
    {
     "name": "stdout",
     "output_type": "stream",
     "text": [
      "18_09_1936_00000013\n",
      "Pages/18_09_1936_00000013.tif.large.jpg\n"
     ]
    },
    {
     "name": "stderr",
     "output_type": "stream",
     "text": [
      "The checkpoint state_dict contains keys that are not used by the model:\n",
      "  \u001b[35mbackbone.fpn_lateral2.bias\u001b[0m\n",
      "  \u001b[35mbackbone.fpn_output2.bias\u001b[0m\n",
      "  \u001b[35mbackbone.fpn_lateral3.bias\u001b[0m\n",
      "  \u001b[35mbackbone.fpn_output3.bias\u001b[0m\n",
      "  \u001b[35mbackbone.fpn_lateral4.bias\u001b[0m\n",
      "  \u001b[35mbackbone.fpn_output4.bias\u001b[0m\n",
      "  \u001b[35mbackbone.fpn_lateral5.bias\u001b[0m\n",
      "  \u001b[35mbackbone.fpn_output5.bias\u001b[0m\n",
      "  9%|███▍                                    | 86/987 [06:51<1:10:53,  4.72s/it]"
     ]
    },
    {
     "name": "stdout",
     "output_type": "stream",
     "text": [
      "27_10_1936_00000002\n",
      "Pages/27_10_1936_00000002.tif.large.jpg\n"
     ]
    },
    {
     "name": "stderr",
     "output_type": "stream",
     "text": [
      "The checkpoint state_dict contains keys that are not used by the model:\n",
      "  \u001b[35mbackbone.fpn_lateral2.bias\u001b[0m\n",
      "  \u001b[35mbackbone.fpn_output2.bias\u001b[0m\n",
      "  \u001b[35mbackbone.fpn_lateral3.bias\u001b[0m\n",
      "  \u001b[35mbackbone.fpn_output3.bias\u001b[0m\n",
      "  \u001b[35mbackbone.fpn_lateral4.bias\u001b[0m\n",
      "  \u001b[35mbackbone.fpn_output4.bias\u001b[0m\n",
      "  \u001b[35mbackbone.fpn_lateral5.bias\u001b[0m\n",
      "  \u001b[35mbackbone.fpn_output5.bias\u001b[0m\n",
      "  9%|███▌                                    | 87/987 [06:56<1:10:40,  4.71s/it]"
     ]
    },
    {
     "name": "stdout",
     "output_type": "stream",
     "text": [
      "27_11_1936_00000011\n",
      "Pages/27_11_1936_00000011.tif.large.jpg\n"
     ]
    },
    {
     "name": "stderr",
     "output_type": "stream",
     "text": [
      "The checkpoint state_dict contains keys that are not used by the model:\n",
      "  \u001b[35mbackbone.fpn_lateral2.bias\u001b[0m\n",
      "  \u001b[35mbackbone.fpn_output2.bias\u001b[0m\n",
      "  \u001b[35mbackbone.fpn_lateral3.bias\u001b[0m\n",
      "  \u001b[35mbackbone.fpn_output3.bias\u001b[0m\n",
      "  \u001b[35mbackbone.fpn_lateral4.bias\u001b[0m\n",
      "  \u001b[35mbackbone.fpn_output4.bias\u001b[0m\n",
      "  \u001b[35mbackbone.fpn_lateral5.bias\u001b[0m\n",
      "  \u001b[35mbackbone.fpn_output5.bias\u001b[0m\n",
      "  9%|███▌                                    | 88/987 [07:01<1:10:26,  4.70s/it]"
     ]
    },
    {
     "name": "stdout",
     "output_type": "stream",
     "text": [
      "12_04_1936_00000008\n",
      "Pages/12_04_1936_00000008.tif.large.jpg\n"
     ]
    },
    {
     "name": "stderr",
     "output_type": "stream",
     "text": [
      "The checkpoint state_dict contains keys that are not used by the model:\n",
      "  \u001b[35mbackbone.fpn_lateral2.bias\u001b[0m\n",
      "  \u001b[35mbackbone.fpn_output2.bias\u001b[0m\n",
      "  \u001b[35mbackbone.fpn_lateral3.bias\u001b[0m\n",
      "  \u001b[35mbackbone.fpn_output3.bias\u001b[0m\n",
      "  \u001b[35mbackbone.fpn_lateral4.bias\u001b[0m\n",
      "  \u001b[35mbackbone.fpn_output4.bias\u001b[0m\n",
      "  \u001b[35mbackbone.fpn_lateral5.bias\u001b[0m\n",
      "  \u001b[35mbackbone.fpn_output5.bias\u001b[0m\n",
      "  9%|███▌                                    | 89/987 [07:05<1:08:56,  4.61s/it]"
     ]
    },
    {
     "name": "stdout",
     "output_type": "stream",
     "text": [
      "24_03_1936_00000006\n",
      "Pages/24_03_1936_00000006.tif.large.jpg\n"
     ]
    },
    {
     "name": "stderr",
     "output_type": "stream",
     "text": [
      "The checkpoint state_dict contains keys that are not used by the model:\n",
      "  \u001b[35mbackbone.fpn_lateral2.bias\u001b[0m\n",
      "  \u001b[35mbackbone.fpn_output2.bias\u001b[0m\n",
      "  \u001b[35mbackbone.fpn_lateral3.bias\u001b[0m\n",
      "  \u001b[35mbackbone.fpn_output3.bias\u001b[0m\n",
      "  \u001b[35mbackbone.fpn_lateral4.bias\u001b[0m\n",
      "  \u001b[35mbackbone.fpn_output4.bias\u001b[0m\n",
      "  \u001b[35mbackbone.fpn_lateral5.bias\u001b[0m\n",
      "  \u001b[35mbackbone.fpn_output5.bias\u001b[0m\n",
      "  9%|███▋                                    | 90/987 [07:10<1:13:03,  4.89s/it]"
     ]
    },
    {
     "name": "stdout",
     "output_type": "stream",
     "text": [
      "27_03_1936_00000018\n",
      "Pages/27_03_1936_00000018.tif.large.jpg\n"
     ]
    },
    {
     "name": "stderr",
     "output_type": "stream",
     "text": [
      "The checkpoint state_dict contains keys that are not used by the model:\n",
      "  \u001b[35mbackbone.fpn_lateral2.bias\u001b[0m\n",
      "  \u001b[35mbackbone.fpn_output2.bias\u001b[0m\n",
      "  \u001b[35mbackbone.fpn_lateral3.bias\u001b[0m\n",
      "  \u001b[35mbackbone.fpn_output3.bias\u001b[0m\n",
      "  \u001b[35mbackbone.fpn_lateral4.bias\u001b[0m\n",
      "  \u001b[35mbackbone.fpn_output4.bias\u001b[0m\n",
      "  \u001b[35mbackbone.fpn_lateral5.bias\u001b[0m\n",
      "  \u001b[35mbackbone.fpn_output5.bias\u001b[0m\n",
      "  9%|███▋                                    | 91/987 [07:15<1:11:30,  4.79s/it]"
     ]
    },
    {
     "name": "stdout",
     "output_type": "stream",
     "text": [
      "21_01_1936_00000009\n",
      "Pages/21_01_1936_00000009.tif.large.jpg\n"
     ]
    },
    {
     "name": "stderr",
     "output_type": "stream",
     "text": [
      "The checkpoint state_dict contains keys that are not used by the model:\n",
      "  \u001b[35mbackbone.fpn_lateral2.bias\u001b[0m\n",
      "  \u001b[35mbackbone.fpn_output2.bias\u001b[0m\n",
      "  \u001b[35mbackbone.fpn_lateral3.bias\u001b[0m\n",
      "  \u001b[35mbackbone.fpn_output3.bias\u001b[0m\n",
      "  \u001b[35mbackbone.fpn_lateral4.bias\u001b[0m\n",
      "  \u001b[35mbackbone.fpn_output4.bias\u001b[0m\n",
      "  \u001b[35mbackbone.fpn_lateral5.bias\u001b[0m\n",
      "  \u001b[35mbackbone.fpn_output5.bias\u001b[0m\n",
      "  9%|███▋                                    | 92/987 [07:20<1:11:39,  4.80s/it]"
     ]
    },
    {
     "name": "stdout",
     "output_type": "stream",
     "text": [
      "05_01_1936_00000008\n",
      "Pages/05_01_1936_00000008.tif.large.jpg\n"
     ]
    },
    {
     "name": "stderr",
     "output_type": "stream",
     "text": [
      "The checkpoint state_dict contains keys that are not used by the model:\n",
      "  \u001b[35mbackbone.fpn_lateral2.bias\u001b[0m\n",
      "  \u001b[35mbackbone.fpn_output2.bias\u001b[0m\n",
      "  \u001b[35mbackbone.fpn_lateral3.bias\u001b[0m\n",
      "  \u001b[35mbackbone.fpn_output3.bias\u001b[0m\n",
      "  \u001b[35mbackbone.fpn_lateral4.bias\u001b[0m\n",
      "  \u001b[35mbackbone.fpn_output4.bias\u001b[0m\n",
      "  \u001b[35mbackbone.fpn_lateral5.bias\u001b[0m\n",
      "  \u001b[35mbackbone.fpn_output5.bias\u001b[0m\n",
      "  9%|███▊                                    | 93/987 [07:25<1:11:07,  4.77s/it]"
     ]
    },
    {
     "name": "stdout",
     "output_type": "stream",
     "text": [
      "14_03_1936_00000007\n",
      "Pages/14_03_1936_00000007.tif.large.jpg\n"
     ]
    },
    {
     "name": "stderr",
     "output_type": "stream",
     "text": [
      "The checkpoint state_dict contains keys that are not used by the model:\n",
      "  \u001b[35mbackbone.fpn_lateral2.bias\u001b[0m\n",
      "  \u001b[35mbackbone.fpn_output2.bias\u001b[0m\n",
      "  \u001b[35mbackbone.fpn_lateral3.bias\u001b[0m\n",
      "  \u001b[35mbackbone.fpn_output3.bias\u001b[0m\n",
      "  \u001b[35mbackbone.fpn_lateral4.bias\u001b[0m\n",
      "  \u001b[35mbackbone.fpn_output4.bias\u001b[0m\n",
      "  \u001b[35mbackbone.fpn_lateral5.bias\u001b[0m\n",
      "  \u001b[35mbackbone.fpn_output5.bias\u001b[0m\n",
      " 10%|███▊                                    | 94/987 [07:29<1:11:30,  4.80s/it]"
     ]
    },
    {
     "name": "stdout",
     "output_type": "stream",
     "text": [
      "22_03_1936_00000015\n",
      "Pages/22_03_1936_00000015.tif.large.jpg\n"
     ]
    },
    {
     "name": "stderr",
     "output_type": "stream",
     "text": [
      "The checkpoint state_dict contains keys that are not used by the model:\n",
      "  \u001b[35mbackbone.fpn_lateral2.bias\u001b[0m\n",
      "  \u001b[35mbackbone.fpn_output2.bias\u001b[0m\n",
      "  \u001b[35mbackbone.fpn_lateral3.bias\u001b[0m\n",
      "  \u001b[35mbackbone.fpn_output3.bias\u001b[0m\n",
      "  \u001b[35mbackbone.fpn_lateral4.bias\u001b[0m\n",
      "  \u001b[35mbackbone.fpn_output4.bias\u001b[0m\n",
      "  \u001b[35mbackbone.fpn_lateral5.bias\u001b[0m\n",
      "  \u001b[35mbackbone.fpn_output5.bias\u001b[0m\n",
      " 10%|███▊                                    | 95/987 [07:34<1:10:01,  4.71s/it]"
     ]
    },
    {
     "name": "stdout",
     "output_type": "stream",
     "text": [
      "24_04_1936_00000007\n",
      "Pages/24_04_1936_00000007.tif.large.jpg\n"
     ]
    },
    {
     "name": "stderr",
     "output_type": "stream",
     "text": [
      "The checkpoint state_dict contains keys that are not used by the model:\n",
      "  \u001b[35mbackbone.fpn_lateral2.bias\u001b[0m\n",
      "  \u001b[35mbackbone.fpn_output2.bias\u001b[0m\n",
      "  \u001b[35mbackbone.fpn_lateral3.bias\u001b[0m\n",
      "  \u001b[35mbackbone.fpn_output3.bias\u001b[0m\n",
      "  \u001b[35mbackbone.fpn_lateral4.bias\u001b[0m\n",
      "  \u001b[35mbackbone.fpn_output4.bias\u001b[0m\n",
      "  \u001b[35mbackbone.fpn_lateral5.bias\u001b[0m\n",
      "  \u001b[35mbackbone.fpn_output5.bias\u001b[0m\n",
      " 10%|███▉                                    | 96/987 [07:38<1:09:07,  4.65s/it]"
     ]
    },
    {
     "name": "stdout",
     "output_type": "stream",
     "text": [
      "30_10_1936_00000007\n",
      "Pages/30_10_1936_00000007.tif.large.jpg\n"
     ]
    },
    {
     "name": "stderr",
     "output_type": "stream",
     "text": [
      "The checkpoint state_dict contains keys that are not used by the model:\n",
      "  \u001b[35mbackbone.fpn_lateral2.bias\u001b[0m\n",
      "  \u001b[35mbackbone.fpn_output2.bias\u001b[0m\n",
      "  \u001b[35mbackbone.fpn_lateral3.bias\u001b[0m\n",
      "  \u001b[35mbackbone.fpn_output3.bias\u001b[0m\n",
      "  \u001b[35mbackbone.fpn_lateral4.bias\u001b[0m\n",
      "  \u001b[35mbackbone.fpn_output4.bias\u001b[0m\n",
      "  \u001b[35mbackbone.fpn_lateral5.bias\u001b[0m\n",
      "  \u001b[35mbackbone.fpn_output5.bias\u001b[0m\n",
      " 10%|███▉                                    | 97/987 [07:43<1:10:28,  4.75s/it]"
     ]
    },
    {
     "name": "stdout",
     "output_type": "stream",
     "text": [
      "18_10_1936_00000014\n",
      "Pages/18_10_1936_00000014.tif.large.jpg\n"
     ]
    },
    {
     "name": "stderr",
     "output_type": "stream",
     "text": [
      "The checkpoint state_dict contains keys that are not used by the model:\n",
      "  \u001b[35mbackbone.fpn_lateral2.bias\u001b[0m\n",
      "  \u001b[35mbackbone.fpn_output2.bias\u001b[0m\n",
      "  \u001b[35mbackbone.fpn_lateral3.bias\u001b[0m\n",
      "  \u001b[35mbackbone.fpn_output3.bias\u001b[0m\n",
      "  \u001b[35mbackbone.fpn_lateral4.bias\u001b[0m\n",
      "  \u001b[35mbackbone.fpn_output4.bias\u001b[0m\n",
      "  \u001b[35mbackbone.fpn_lateral5.bias\u001b[0m\n",
      "  \u001b[35mbackbone.fpn_output5.bias\u001b[0m\n",
      " 10%|███▉                                    | 98/987 [07:48<1:10:20,  4.75s/it]"
     ]
    },
    {
     "name": "stdout",
     "output_type": "stream",
     "text": [
      "29_10_1936_00000008\n",
      "Pages/29_10_1936_00000008.tif.large.jpg\n"
     ]
    },
    {
     "name": "stderr",
     "output_type": "stream",
     "text": [
      "The checkpoint state_dict contains keys that are not used by the model:\n",
      "  \u001b[35mbackbone.fpn_lateral2.bias\u001b[0m\n",
      "  \u001b[35mbackbone.fpn_output2.bias\u001b[0m\n",
      "  \u001b[35mbackbone.fpn_lateral3.bias\u001b[0m\n",
      "  \u001b[35mbackbone.fpn_output3.bias\u001b[0m\n",
      "  \u001b[35mbackbone.fpn_lateral4.bias\u001b[0m\n",
      "  \u001b[35mbackbone.fpn_output4.bias\u001b[0m\n",
      "  \u001b[35mbackbone.fpn_lateral5.bias\u001b[0m\n",
      "  \u001b[35mbackbone.fpn_output5.bias\u001b[0m\n",
      " 10%|████                                    | 99/987 [07:53<1:09:54,  4.72s/it]"
     ]
    },
    {
     "name": "stdout",
     "output_type": "stream",
     "text": [
      "13_11_1936_00000012\n",
      "Pages/13_11_1936_00000012.tif.large.jpg\n"
     ]
    },
    {
     "name": "stderr",
     "output_type": "stream",
     "text": [
      "The checkpoint state_dict contains keys that are not used by the model:\n",
      "  \u001b[35mbackbone.fpn_lateral2.bias\u001b[0m\n",
      "  \u001b[35mbackbone.fpn_output2.bias\u001b[0m\n",
      "  \u001b[35mbackbone.fpn_lateral3.bias\u001b[0m\n",
      "  \u001b[35mbackbone.fpn_output3.bias\u001b[0m\n",
      "  \u001b[35mbackbone.fpn_lateral4.bias\u001b[0m\n",
      "  \u001b[35mbackbone.fpn_output4.bias\u001b[0m\n",
      "  \u001b[35mbackbone.fpn_lateral5.bias\u001b[0m\n",
      "  \u001b[35mbackbone.fpn_output5.bias\u001b[0m\n",
      " 10%|███▉                                   | 100/987 [07:58<1:09:58,  4.73s/it]"
     ]
    },
    {
     "name": "stdout",
     "output_type": "stream",
     "text": [
      "07_10_1936_00000008\n",
      "Pages/07_10_1936_00000008.tif.large.jpg\n"
     ]
    },
    {
     "name": "stderr",
     "output_type": "stream",
     "text": [
      "The checkpoint state_dict contains keys that are not used by the model:\n",
      "  \u001b[35mbackbone.fpn_lateral2.bias\u001b[0m\n",
      "  \u001b[35mbackbone.fpn_output2.bias\u001b[0m\n",
      "  \u001b[35mbackbone.fpn_lateral3.bias\u001b[0m\n",
      "  \u001b[35mbackbone.fpn_output3.bias\u001b[0m\n",
      "  \u001b[35mbackbone.fpn_lateral4.bias\u001b[0m\n",
      "  \u001b[35mbackbone.fpn_output4.bias\u001b[0m\n",
      "  \u001b[35mbackbone.fpn_lateral5.bias\u001b[0m\n",
      "  \u001b[35mbackbone.fpn_output5.bias\u001b[0m\n",
      " 10%|███▉                                   | 101/987 [08:02<1:10:10,  4.75s/it]"
     ]
    },
    {
     "name": "stdout",
     "output_type": "stream",
     "text": [
      "30_03_1936_00000007\n",
      "Pages/30_03_1936_00000007.tif.large.jpg\n"
     ]
    },
    {
     "name": "stderr",
     "output_type": "stream",
     "text": [
      "The checkpoint state_dict contains keys that are not used by the model:\n",
      "  \u001b[35mbackbone.fpn_lateral2.bias\u001b[0m\n",
      "  \u001b[35mbackbone.fpn_output2.bias\u001b[0m\n",
      "  \u001b[35mbackbone.fpn_lateral3.bias\u001b[0m\n",
      "  \u001b[35mbackbone.fpn_output3.bias\u001b[0m\n",
      "  \u001b[35mbackbone.fpn_lateral4.bias\u001b[0m\n",
      "  \u001b[35mbackbone.fpn_output4.bias\u001b[0m\n",
      "  \u001b[35mbackbone.fpn_lateral5.bias\u001b[0m\n",
      "  \u001b[35mbackbone.fpn_output5.bias\u001b[0m\n",
      " 10%|████                                   | 102/987 [08:07<1:11:09,  4.82s/it]"
     ]
    },
    {
     "name": "stdout",
     "output_type": "stream",
     "text": [
      "22_02_1936_00000015\n",
      "Pages/22_02_1936_00000015.tif.large.jpg\n"
     ]
    },
    {
     "name": "stderr",
     "output_type": "stream",
     "text": [
      "The checkpoint state_dict contains keys that are not used by the model:\n",
      "  \u001b[35mbackbone.fpn_lateral2.bias\u001b[0m\n",
      "  \u001b[35mbackbone.fpn_output2.bias\u001b[0m\n",
      "  \u001b[35mbackbone.fpn_lateral3.bias\u001b[0m\n",
      "  \u001b[35mbackbone.fpn_output3.bias\u001b[0m\n",
      "  \u001b[35mbackbone.fpn_lateral4.bias\u001b[0m\n",
      "  \u001b[35mbackbone.fpn_output4.bias\u001b[0m\n",
      "  \u001b[35mbackbone.fpn_lateral5.bias\u001b[0m\n",
      "  \u001b[35mbackbone.fpn_output5.bias\u001b[0m\n",
      " 10%|████                                   | 103/987 [08:12<1:09:04,  4.69s/it]"
     ]
    },
    {
     "name": "stdout",
     "output_type": "stream",
     "text": [
      "27_08_1936_00000006\n",
      "Pages/27_08_1936_00000006.tif.large.jpg\n"
     ]
    },
    {
     "name": "stderr",
     "output_type": "stream",
     "text": [
      "The checkpoint state_dict contains keys that are not used by the model:\n",
      "  \u001b[35mbackbone.fpn_lateral2.bias\u001b[0m\n",
      "  \u001b[35mbackbone.fpn_output2.bias\u001b[0m\n",
      "  \u001b[35mbackbone.fpn_lateral3.bias\u001b[0m\n",
      "  \u001b[35mbackbone.fpn_output3.bias\u001b[0m\n",
      "  \u001b[35mbackbone.fpn_lateral4.bias\u001b[0m\n",
      "  \u001b[35mbackbone.fpn_output4.bias\u001b[0m\n",
      "  \u001b[35mbackbone.fpn_lateral5.bias\u001b[0m\n",
      "  \u001b[35mbackbone.fpn_output5.bias\u001b[0m\n",
      " 11%|████                                   | 104/987 [08:18<1:13:47,  5.01s/it]"
     ]
    },
    {
     "name": "stdout",
     "output_type": "stream",
     "text": [
      "31_03_1936_00000003\n",
      "Pages/31_03_1936_00000003.tif.large.jpg\n"
     ]
    },
    {
     "name": "stderr",
     "output_type": "stream",
     "text": [
      "The checkpoint state_dict contains keys that are not used by the model:\n",
      "  \u001b[35mbackbone.fpn_lateral2.bias\u001b[0m\n",
      "  \u001b[35mbackbone.fpn_output2.bias\u001b[0m\n",
      "  \u001b[35mbackbone.fpn_lateral3.bias\u001b[0m\n",
      "  \u001b[35mbackbone.fpn_output3.bias\u001b[0m\n",
      "  \u001b[35mbackbone.fpn_lateral4.bias\u001b[0m\n",
      "  \u001b[35mbackbone.fpn_output4.bias\u001b[0m\n",
      "  \u001b[35mbackbone.fpn_lateral5.bias\u001b[0m\n",
      "  \u001b[35mbackbone.fpn_output5.bias\u001b[0m\n",
      " 11%|████▏                                  | 105/987 [08:23<1:15:53,  5.16s/it]"
     ]
    },
    {
     "name": "stdout",
     "output_type": "stream",
     "text": [
      "20_09_1936_00000009\n",
      "Pages/20_09_1936_00000009.tif.large.jpg\n"
     ]
    },
    {
     "name": "stderr",
     "output_type": "stream",
     "text": [
      "The checkpoint state_dict contains keys that are not used by the model:\n",
      "  \u001b[35mbackbone.fpn_lateral2.bias\u001b[0m\n",
      "  \u001b[35mbackbone.fpn_output2.bias\u001b[0m\n",
      "  \u001b[35mbackbone.fpn_lateral3.bias\u001b[0m\n",
      "  \u001b[35mbackbone.fpn_output3.bias\u001b[0m\n",
      "  \u001b[35mbackbone.fpn_lateral4.bias\u001b[0m\n",
      "  \u001b[35mbackbone.fpn_output4.bias\u001b[0m\n",
      "  \u001b[35mbackbone.fpn_lateral5.bias\u001b[0m\n",
      "  \u001b[35mbackbone.fpn_output5.bias\u001b[0m\n",
      " 11%|████▏                                  | 106/987 [08:28<1:17:15,  5.26s/it]"
     ]
    },
    {
     "name": "stdout",
     "output_type": "stream",
     "text": [
      "23_02_1936_00000007\n",
      "Pages/23_02_1936_00000007.tif.large.jpg\n"
     ]
    },
    {
     "name": "stderr",
     "output_type": "stream",
     "text": [
      "The checkpoint state_dict contains keys that are not used by the model:\n",
      "  \u001b[35mbackbone.fpn_lateral2.bias\u001b[0m\n",
      "  \u001b[35mbackbone.fpn_output2.bias\u001b[0m\n",
      "  \u001b[35mbackbone.fpn_lateral3.bias\u001b[0m\n",
      "  \u001b[35mbackbone.fpn_output3.bias\u001b[0m\n",
      "  \u001b[35mbackbone.fpn_lateral4.bias\u001b[0m\n",
      "  \u001b[35mbackbone.fpn_output4.bias\u001b[0m\n",
      "  \u001b[35mbackbone.fpn_lateral5.bias\u001b[0m\n",
      "  \u001b[35mbackbone.fpn_output5.bias\u001b[0m\n",
      " 11%|████▏                                  | 107/987 [08:34<1:18:22,  5.34s/it]"
     ]
    },
    {
     "name": "stdout",
     "output_type": "stream",
     "text": [
      "12_10_1936_00000005\n",
      "Pages/12_10_1936_00000005.tif.large.jpg\n"
     ]
    },
    {
     "name": "stderr",
     "output_type": "stream",
     "text": [
      "The checkpoint state_dict contains keys that are not used by the model:\n",
      "  \u001b[35mbackbone.fpn_lateral2.bias\u001b[0m\n",
      "  \u001b[35mbackbone.fpn_output2.bias\u001b[0m\n",
      "  \u001b[35mbackbone.fpn_lateral3.bias\u001b[0m\n",
      "  \u001b[35mbackbone.fpn_output3.bias\u001b[0m\n",
      "  \u001b[35mbackbone.fpn_lateral4.bias\u001b[0m\n",
      "  \u001b[35mbackbone.fpn_output4.bias\u001b[0m\n",
      "  \u001b[35mbackbone.fpn_lateral5.bias\u001b[0m\n",
      "  \u001b[35mbackbone.fpn_output5.bias\u001b[0m\n",
      " 11%|████▎                                  | 108/987 [08:39<1:18:04,  5.33s/it]"
     ]
    },
    {
     "name": "stdout",
     "output_type": "stream",
     "text": [
      "14_12_1936_00000007\n",
      "Pages/14_12_1936_00000007.tif.large.jpg\n"
     ]
    },
    {
     "name": "stderr",
     "output_type": "stream",
     "text": [
      "The checkpoint state_dict contains keys that are not used by the model:\n",
      "  \u001b[35mbackbone.fpn_lateral2.bias\u001b[0m\n",
      "  \u001b[35mbackbone.fpn_output2.bias\u001b[0m\n",
      "  \u001b[35mbackbone.fpn_lateral3.bias\u001b[0m\n",
      "  \u001b[35mbackbone.fpn_output3.bias\u001b[0m\n",
      "  \u001b[35mbackbone.fpn_lateral4.bias\u001b[0m\n",
      "  \u001b[35mbackbone.fpn_output4.bias\u001b[0m\n",
      "  \u001b[35mbackbone.fpn_lateral5.bias\u001b[0m\n",
      "  \u001b[35mbackbone.fpn_output5.bias\u001b[0m\n",
      " 11%|████▎                                  | 109/987 [08:44<1:16:25,  5.22s/it]"
     ]
    },
    {
     "name": "stdout",
     "output_type": "stream",
     "text": [
      "09_08_1936_00000003\n",
      "Pages/09_08_1936_00000003.tif.large.jpg\n"
     ]
    },
    {
     "name": "stderr",
     "output_type": "stream",
     "text": [
      "The checkpoint state_dict contains keys that are not used by the model:\n",
      "  \u001b[35mbackbone.fpn_lateral2.bias\u001b[0m\n",
      "  \u001b[35mbackbone.fpn_output2.bias\u001b[0m\n",
      "  \u001b[35mbackbone.fpn_lateral3.bias\u001b[0m\n",
      "  \u001b[35mbackbone.fpn_output3.bias\u001b[0m\n",
      "  \u001b[35mbackbone.fpn_lateral4.bias\u001b[0m\n",
      "  \u001b[35mbackbone.fpn_output4.bias\u001b[0m\n",
      "  \u001b[35mbackbone.fpn_lateral5.bias\u001b[0m\n",
      "  \u001b[35mbackbone.fpn_output5.bias\u001b[0m\n",
      " 11%|████▎                                  | 110/987 [08:49<1:14:05,  5.07s/it]"
     ]
    },
    {
     "name": "stdout",
     "output_type": "stream",
     "text": [
      "25_10_1936_00000009\n",
      "Pages/25_10_1936_00000009.tif.large.jpg\n"
     ]
    },
    {
     "name": "stderr",
     "output_type": "stream",
     "text": [
      "The checkpoint state_dict contains keys that are not used by the model:\n",
      "  \u001b[35mbackbone.fpn_lateral2.bias\u001b[0m\n",
      "  \u001b[35mbackbone.fpn_output2.bias\u001b[0m\n",
      "  \u001b[35mbackbone.fpn_lateral3.bias\u001b[0m\n",
      "  \u001b[35mbackbone.fpn_output3.bias\u001b[0m\n",
      "  \u001b[35mbackbone.fpn_lateral4.bias\u001b[0m\n",
      "  \u001b[35mbackbone.fpn_output4.bias\u001b[0m\n",
      "  \u001b[35mbackbone.fpn_lateral5.bias\u001b[0m\n",
      "  \u001b[35mbackbone.fpn_output5.bias\u001b[0m\n",
      " 11%|████▍                                  | 111/987 [08:54<1:12:30,  4.97s/it]"
     ]
    },
    {
     "name": "stdout",
     "output_type": "stream",
     "text": [
      "24_10_1936_00000006\n",
      "Pages/24_10_1936_00000006.tif.large.jpg\n"
     ]
    },
    {
     "name": "stderr",
     "output_type": "stream",
     "text": [
      "The checkpoint state_dict contains keys that are not used by the model:\n",
      "  \u001b[35mbackbone.fpn_lateral2.bias\u001b[0m\n",
      "  \u001b[35mbackbone.fpn_output2.bias\u001b[0m\n",
      "  \u001b[35mbackbone.fpn_lateral3.bias\u001b[0m\n",
      "  \u001b[35mbackbone.fpn_output3.bias\u001b[0m\n",
      "  \u001b[35mbackbone.fpn_lateral4.bias\u001b[0m\n",
      "  \u001b[35mbackbone.fpn_output4.bias\u001b[0m\n",
      "  \u001b[35mbackbone.fpn_lateral5.bias\u001b[0m\n",
      "  \u001b[35mbackbone.fpn_output5.bias\u001b[0m\n",
      " 11%|████▍                                  | 112/987 [08:59<1:13:56,  5.07s/it]"
     ]
    },
    {
     "name": "stdout",
     "output_type": "stream",
     "text": [
      "18_03_1936_00000017\n",
      "Pages/18_03_1936_00000017.tif.large.jpg\n"
     ]
    },
    {
     "name": "stderr",
     "output_type": "stream",
     "text": [
      "The checkpoint state_dict contains keys that are not used by the model:\n",
      "  \u001b[35mbackbone.fpn_lateral2.bias\u001b[0m\n",
      "  \u001b[35mbackbone.fpn_output2.bias\u001b[0m\n",
      "  \u001b[35mbackbone.fpn_lateral3.bias\u001b[0m\n",
      "  \u001b[35mbackbone.fpn_output3.bias\u001b[0m\n",
      "  \u001b[35mbackbone.fpn_lateral4.bias\u001b[0m\n",
      "  \u001b[35mbackbone.fpn_output4.bias\u001b[0m\n",
      "  \u001b[35mbackbone.fpn_lateral5.bias\u001b[0m\n",
      "  \u001b[35mbackbone.fpn_output5.bias\u001b[0m\n",
      " 11%|████▍                                  | 113/987 [09:06<1:22:07,  5.64s/it]"
     ]
    },
    {
     "name": "stdout",
     "output_type": "stream",
     "text": [
      "16_03_1936_00000007\n",
      "Pages/16_03_1936_00000007.tif.large.jpg\n"
     ]
    },
    {
     "name": "stderr",
     "output_type": "stream",
     "text": [
      "The checkpoint state_dict contains keys that are not used by the model:\n",
      "  \u001b[35mbackbone.fpn_lateral2.bias\u001b[0m\n",
      "  \u001b[35mbackbone.fpn_output2.bias\u001b[0m\n",
      "  \u001b[35mbackbone.fpn_lateral3.bias\u001b[0m\n",
      "  \u001b[35mbackbone.fpn_output3.bias\u001b[0m\n",
      "  \u001b[35mbackbone.fpn_lateral4.bias\u001b[0m\n",
      "  \u001b[35mbackbone.fpn_output4.bias\u001b[0m\n",
      "  \u001b[35mbackbone.fpn_lateral5.bias\u001b[0m\n",
      "  \u001b[35mbackbone.fpn_output5.bias\u001b[0m\n",
      " 12%|████▌                                  | 114/987 [09:11<1:21:02,  5.57s/it]"
     ]
    },
    {
     "name": "stdout",
     "output_type": "stream",
     "text": [
      "28_07_1936_00000001\n",
      "Pages/28_07_1936_00000001.tif.large.jpg\n"
     ]
    },
    {
     "name": "stderr",
     "output_type": "stream",
     "text": [
      "The checkpoint state_dict contains keys that are not used by the model:\n",
      "  \u001b[35mbackbone.fpn_lateral2.bias\u001b[0m\n",
      "  \u001b[35mbackbone.fpn_output2.bias\u001b[0m\n",
      "  \u001b[35mbackbone.fpn_lateral3.bias\u001b[0m\n",
      "  \u001b[35mbackbone.fpn_output3.bias\u001b[0m\n",
      "  \u001b[35mbackbone.fpn_lateral4.bias\u001b[0m\n",
      "  \u001b[35mbackbone.fpn_output4.bias\u001b[0m\n",
      "  \u001b[35mbackbone.fpn_lateral5.bias\u001b[0m\n",
      "  \u001b[35mbackbone.fpn_output5.bias\u001b[0m\n",
      " 12%|████▌                                  | 115/987 [09:16<1:17:04,  5.30s/it]"
     ]
    },
    {
     "name": "stdout",
     "output_type": "stream",
     "text": [
      "04_12_1936_00000005\n",
      "Pages/04_12_1936_00000005.tif.large.jpg\n"
     ]
    },
    {
     "name": "stderr",
     "output_type": "stream",
     "text": [
      "The checkpoint state_dict contains keys that are not used by the model:\n",
      "  \u001b[35mbackbone.fpn_lateral2.bias\u001b[0m\n",
      "  \u001b[35mbackbone.fpn_output2.bias\u001b[0m\n",
      "  \u001b[35mbackbone.fpn_lateral3.bias\u001b[0m\n",
      "  \u001b[35mbackbone.fpn_output3.bias\u001b[0m\n",
      "  \u001b[35mbackbone.fpn_lateral4.bias\u001b[0m\n",
      "  \u001b[35mbackbone.fpn_output4.bias\u001b[0m\n",
      "  \u001b[35mbackbone.fpn_lateral5.bias\u001b[0m\n",
      "  \u001b[35mbackbone.fpn_output5.bias\u001b[0m\n",
      " 12%|████▌                                  | 116/987 [09:22<1:19:33,  5.48s/it]"
     ]
    },
    {
     "name": "stdout",
     "output_type": "stream",
     "text": [
      "06_12_1936_00000016\n",
      "Pages/06_12_1936_00000016.tif.large.jpg\n"
     ]
    },
    {
     "name": "stderr",
     "output_type": "stream",
     "text": [
      "The checkpoint state_dict contains keys that are not used by the model:\n",
      "  \u001b[35mbackbone.fpn_lateral2.bias\u001b[0m\n",
      "  \u001b[35mbackbone.fpn_output2.bias\u001b[0m\n",
      "  \u001b[35mbackbone.fpn_lateral3.bias\u001b[0m\n",
      "  \u001b[35mbackbone.fpn_output3.bias\u001b[0m\n",
      "  \u001b[35mbackbone.fpn_lateral4.bias\u001b[0m\n",
      "  \u001b[35mbackbone.fpn_output4.bias\u001b[0m\n",
      "  \u001b[35mbackbone.fpn_lateral5.bias\u001b[0m\n",
      "  \u001b[35mbackbone.fpn_output5.bias\u001b[0m\n",
      " 12%|████▌                                  | 117/987 [09:27<1:16:14,  5.26s/it]"
     ]
    },
    {
     "name": "stdout",
     "output_type": "stream",
     "text": [
      "22_12_1936_00000002\n",
      "Pages/22_12_1936_00000002.tif.large.jpg\n"
     ]
    },
    {
     "name": "stderr",
     "output_type": "stream",
     "text": [
      "The checkpoint state_dict contains keys that are not used by the model:\n",
      "  \u001b[35mbackbone.fpn_lateral2.bias\u001b[0m\n",
      "  \u001b[35mbackbone.fpn_output2.bias\u001b[0m\n",
      "  \u001b[35mbackbone.fpn_lateral3.bias\u001b[0m\n",
      "  \u001b[35mbackbone.fpn_output3.bias\u001b[0m\n",
      "  \u001b[35mbackbone.fpn_lateral4.bias\u001b[0m\n",
      "  \u001b[35mbackbone.fpn_output4.bias\u001b[0m\n",
      "  \u001b[35mbackbone.fpn_lateral5.bias\u001b[0m\n",
      "  \u001b[35mbackbone.fpn_output5.bias\u001b[0m\n",
      " 12%|████▋                                  | 118/987 [09:32<1:14:01,  5.11s/it]"
     ]
    },
    {
     "name": "stdout",
     "output_type": "stream",
     "text": [
      "28_03_1936_00000014\n",
      "Pages/28_03_1936_00000014.tif.large.jpg\n"
     ]
    },
    {
     "name": "stderr",
     "output_type": "stream",
     "text": [
      "The checkpoint state_dict contains keys that are not used by the model:\n",
      "  \u001b[35mbackbone.fpn_lateral2.bias\u001b[0m\n",
      "  \u001b[35mbackbone.fpn_output2.bias\u001b[0m\n",
      "  \u001b[35mbackbone.fpn_lateral3.bias\u001b[0m\n",
      "  \u001b[35mbackbone.fpn_output3.bias\u001b[0m\n",
      "  \u001b[35mbackbone.fpn_lateral4.bias\u001b[0m\n",
      "  \u001b[35mbackbone.fpn_output4.bias\u001b[0m\n",
      "  \u001b[35mbackbone.fpn_lateral5.bias\u001b[0m\n",
      "  \u001b[35mbackbone.fpn_output5.bias\u001b[0m\n",
      " 12%|████▋                                  | 119/987 [09:36<1:11:27,  4.94s/it]"
     ]
    },
    {
     "name": "stdout",
     "output_type": "stream",
     "text": [
      "29_07_1936_00000003\n",
      "Pages/29_07_1936_00000003.tif.large.jpg\n"
     ]
    },
    {
     "name": "stderr",
     "output_type": "stream",
     "text": [
      "The checkpoint state_dict contains keys that are not used by the model:\n",
      "  \u001b[35mbackbone.fpn_lateral2.bias\u001b[0m\n",
      "  \u001b[35mbackbone.fpn_output2.bias\u001b[0m\n",
      "  \u001b[35mbackbone.fpn_lateral3.bias\u001b[0m\n",
      "  \u001b[35mbackbone.fpn_output3.bias\u001b[0m\n",
      "  \u001b[35mbackbone.fpn_lateral4.bias\u001b[0m\n",
      "  \u001b[35mbackbone.fpn_output4.bias\u001b[0m\n",
      "  \u001b[35mbackbone.fpn_lateral5.bias\u001b[0m\n",
      "  \u001b[35mbackbone.fpn_output5.bias\u001b[0m\n",
      " 12%|████▋                                  | 120/987 [09:41<1:10:58,  4.91s/it]"
     ]
    },
    {
     "name": "stdout",
     "output_type": "stream",
     "text": [
      "03_12_1936_00000006\n",
      "Pages/03_12_1936_00000006.tif.large.jpg\n"
     ]
    },
    {
     "name": "stderr",
     "output_type": "stream",
     "text": [
      "The checkpoint state_dict contains keys that are not used by the model:\n",
      "  \u001b[35mbackbone.fpn_lateral2.bias\u001b[0m\n",
      "  \u001b[35mbackbone.fpn_output2.bias\u001b[0m\n",
      "  \u001b[35mbackbone.fpn_lateral3.bias\u001b[0m\n",
      "  \u001b[35mbackbone.fpn_output3.bias\u001b[0m\n",
      "  \u001b[35mbackbone.fpn_lateral4.bias\u001b[0m\n",
      "  \u001b[35mbackbone.fpn_output4.bias\u001b[0m\n",
      "  \u001b[35mbackbone.fpn_lateral5.bias\u001b[0m\n",
      "  \u001b[35mbackbone.fpn_output5.bias\u001b[0m\n",
      " 12%|████▊                                  | 121/987 [09:46<1:10:45,  4.90s/it]"
     ]
    },
    {
     "name": "stdout",
     "output_type": "stream",
     "text": [
      "21_08_1936_00000008\n",
      "Pages/21_08_1936_00000008.tif.large.jpg\n"
     ]
    },
    {
     "name": "stderr",
     "output_type": "stream",
     "text": [
      "The checkpoint state_dict contains keys that are not used by the model:\n",
      "  \u001b[35mbackbone.fpn_lateral2.bias\u001b[0m\n",
      "  \u001b[35mbackbone.fpn_output2.bias\u001b[0m\n",
      "  \u001b[35mbackbone.fpn_lateral3.bias\u001b[0m\n",
      "  \u001b[35mbackbone.fpn_output3.bias\u001b[0m\n",
      "  \u001b[35mbackbone.fpn_lateral4.bias\u001b[0m\n",
      "  \u001b[35mbackbone.fpn_output4.bias\u001b[0m\n",
      "  \u001b[35mbackbone.fpn_lateral5.bias\u001b[0m\n",
      "  \u001b[35mbackbone.fpn_output5.bias\u001b[0m\n",
      " 12%|████▊                                  | 122/987 [09:51<1:09:57,  4.85s/it]"
     ]
    },
    {
     "name": "stdout",
     "output_type": "stream",
     "text": [
      "26_04_1936_00000002\n",
      "Pages/26_04_1936_00000002.tif.large.jpg\n"
     ]
    },
    {
     "name": "stderr",
     "output_type": "stream",
     "text": [
      "The checkpoint state_dict contains keys that are not used by the model:\n",
      "  \u001b[35mbackbone.fpn_lateral2.bias\u001b[0m\n",
      "  \u001b[35mbackbone.fpn_output2.bias\u001b[0m\n",
      "  \u001b[35mbackbone.fpn_lateral3.bias\u001b[0m\n",
      "  \u001b[35mbackbone.fpn_output3.bias\u001b[0m\n",
      "  \u001b[35mbackbone.fpn_lateral4.bias\u001b[0m\n",
      "  \u001b[35mbackbone.fpn_output4.bias\u001b[0m\n",
      "  \u001b[35mbackbone.fpn_lateral5.bias\u001b[0m\n",
      "  \u001b[35mbackbone.fpn_output5.bias\u001b[0m\n",
      " 12%|████▊                                  | 123/987 [09:55<1:10:02,  4.86s/it]"
     ]
    },
    {
     "name": "stdout",
     "output_type": "stream",
     "text": [
      "12_08_1936_00000006\n",
      "Pages/12_08_1936_00000006.tif.large.jpg\n"
     ]
    },
    {
     "name": "stderr",
     "output_type": "stream",
     "text": [
      "The checkpoint state_dict contains keys that are not used by the model:\n",
      "  \u001b[35mbackbone.fpn_lateral2.bias\u001b[0m\n",
      "  \u001b[35mbackbone.fpn_output2.bias\u001b[0m\n",
      "  \u001b[35mbackbone.fpn_lateral3.bias\u001b[0m\n",
      "  \u001b[35mbackbone.fpn_output3.bias\u001b[0m\n",
      "  \u001b[35mbackbone.fpn_lateral4.bias\u001b[0m\n",
      "  \u001b[35mbackbone.fpn_output4.bias\u001b[0m\n",
      "  \u001b[35mbackbone.fpn_lateral5.bias\u001b[0m\n",
      "  \u001b[35mbackbone.fpn_output5.bias\u001b[0m\n",
      " 13%|████▉                                  | 124/987 [10:00<1:08:31,  4.76s/it]"
     ]
    },
    {
     "name": "stdout",
     "output_type": "stream",
     "text": [
      "30_09_1936_00000008\n",
      "Pages/30_09_1936_00000008.tif.large.jpg\n"
     ]
    },
    {
     "name": "stderr",
     "output_type": "stream",
     "text": [
      "The checkpoint state_dict contains keys that are not used by the model:\n",
      "  \u001b[35mbackbone.fpn_lateral2.bias\u001b[0m\n",
      "  \u001b[35mbackbone.fpn_output2.bias\u001b[0m\n",
      "  \u001b[35mbackbone.fpn_lateral3.bias\u001b[0m\n",
      "  \u001b[35mbackbone.fpn_output3.bias\u001b[0m\n",
      "  \u001b[35mbackbone.fpn_lateral4.bias\u001b[0m\n",
      "  \u001b[35mbackbone.fpn_output4.bias\u001b[0m\n",
      "  \u001b[35mbackbone.fpn_lateral5.bias\u001b[0m\n",
      "  \u001b[35mbackbone.fpn_output5.bias\u001b[0m\n",
      " 13%|████▉                                  | 125/987 [10:05<1:07:44,  4.71s/it]"
     ]
    },
    {
     "name": "stdout",
     "output_type": "stream",
     "text": [
      "22_07_1936_00000006\n",
      "Pages/22_07_1936_00000006.tif.large.jpg\n"
     ]
    },
    {
     "name": "stderr",
     "output_type": "stream",
     "text": [
      "The checkpoint state_dict contains keys that are not used by the model:\n",
      "  \u001b[35mbackbone.fpn_lateral2.bias\u001b[0m\n",
      "  \u001b[35mbackbone.fpn_output2.bias\u001b[0m\n",
      "  \u001b[35mbackbone.fpn_lateral3.bias\u001b[0m\n",
      "  \u001b[35mbackbone.fpn_output3.bias\u001b[0m\n",
      "  \u001b[35mbackbone.fpn_lateral4.bias\u001b[0m\n",
      "  \u001b[35mbackbone.fpn_output4.bias\u001b[0m\n",
      "  \u001b[35mbackbone.fpn_lateral5.bias\u001b[0m\n",
      "  \u001b[35mbackbone.fpn_output5.bias\u001b[0m\n",
      " 13%|████▉                                  | 126/987 [10:09<1:06:37,  4.64s/it]"
     ]
    },
    {
     "name": "stdout",
     "output_type": "stream",
     "text": [
      "03_04_1936_00000009\n",
      "Pages/03_04_1936_00000009.tif.large.jpg\n"
     ]
    },
    {
     "name": "stderr",
     "output_type": "stream",
     "text": [
      "The checkpoint state_dict contains keys that are not used by the model:\n",
      "  \u001b[35mbackbone.fpn_lateral2.bias\u001b[0m\n",
      "  \u001b[35mbackbone.fpn_output2.bias\u001b[0m\n",
      "  \u001b[35mbackbone.fpn_lateral3.bias\u001b[0m\n",
      "  \u001b[35mbackbone.fpn_output3.bias\u001b[0m\n",
      "  \u001b[35mbackbone.fpn_lateral4.bias\u001b[0m\n",
      "  \u001b[35mbackbone.fpn_output4.bias\u001b[0m\n",
      "  \u001b[35mbackbone.fpn_lateral5.bias\u001b[0m\n",
      "  \u001b[35mbackbone.fpn_output5.bias\u001b[0m\n",
      " 13%|█████                                  | 127/987 [10:13<1:05:27,  4.57s/it]"
     ]
    },
    {
     "name": "stdout",
     "output_type": "stream",
     "text": [
      "20_10_1936_00000007\n",
      "Pages/20_10_1936_00000007.tif.large.jpg\n"
     ]
    },
    {
     "name": "stderr",
     "output_type": "stream",
     "text": [
      "The checkpoint state_dict contains keys that are not used by the model:\n",
      "  \u001b[35mbackbone.fpn_lateral2.bias\u001b[0m\n",
      "  \u001b[35mbackbone.fpn_output2.bias\u001b[0m\n",
      "  \u001b[35mbackbone.fpn_lateral3.bias\u001b[0m\n",
      "  \u001b[35mbackbone.fpn_output3.bias\u001b[0m\n",
      "  \u001b[35mbackbone.fpn_lateral4.bias\u001b[0m\n",
      "  \u001b[35mbackbone.fpn_output4.bias\u001b[0m\n",
      "  \u001b[35mbackbone.fpn_lateral5.bias\u001b[0m\n",
      "  \u001b[35mbackbone.fpn_output5.bias\u001b[0m\n",
      " 13%|█████                                  | 128/987 [10:18<1:05:17,  4.56s/it]"
     ]
    },
    {
     "name": "stdout",
     "output_type": "stream",
     "text": [
      "01_10_1936_00000005\n",
      "Pages/01_10_1936_00000005.tif.large.jpg\n"
     ]
    },
    {
     "name": "stderr",
     "output_type": "stream",
     "text": [
      "The checkpoint state_dict contains keys that are not used by the model:\n",
      "  \u001b[35mbackbone.fpn_lateral2.bias\u001b[0m\n",
      "  \u001b[35mbackbone.fpn_output2.bias\u001b[0m\n",
      "  \u001b[35mbackbone.fpn_lateral3.bias\u001b[0m\n",
      "  \u001b[35mbackbone.fpn_output3.bias\u001b[0m\n",
      "  \u001b[35mbackbone.fpn_lateral4.bias\u001b[0m\n",
      "  \u001b[35mbackbone.fpn_output4.bias\u001b[0m\n",
      "  \u001b[35mbackbone.fpn_lateral5.bias\u001b[0m\n",
      "  \u001b[35mbackbone.fpn_output5.bias\u001b[0m\n",
      " 13%|█████                                  | 129/987 [10:22<1:04:45,  4.53s/it]"
     ]
    },
    {
     "name": "stdout",
     "output_type": "stream",
     "text": [
      "28_11_1936_00000007\n",
      "Pages/28_11_1936_00000007.tif.large.jpg\n"
     ]
    },
    {
     "name": "stderr",
     "output_type": "stream",
     "text": [
      "The checkpoint state_dict contains keys that are not used by the model:\n",
      "  \u001b[35mbackbone.fpn_lateral2.bias\u001b[0m\n",
      "  \u001b[35mbackbone.fpn_output2.bias\u001b[0m\n",
      "  \u001b[35mbackbone.fpn_lateral3.bias\u001b[0m\n",
      "  \u001b[35mbackbone.fpn_output3.bias\u001b[0m\n",
      "  \u001b[35mbackbone.fpn_lateral4.bias\u001b[0m\n",
      "  \u001b[35mbackbone.fpn_output4.bias\u001b[0m\n",
      "  \u001b[35mbackbone.fpn_lateral5.bias\u001b[0m\n",
      "  \u001b[35mbackbone.fpn_output5.bias\u001b[0m\n",
      " 13%|█████▏                                 | 130/987 [10:27<1:04:50,  4.54s/it]"
     ]
    },
    {
     "name": "stdout",
     "output_type": "stream",
     "text": [
      "23_03_1936_00000007\n",
      "Pages/23_03_1936_00000007.tif.large.jpg\n"
     ]
    },
    {
     "name": "stderr",
     "output_type": "stream",
     "text": [
      "The checkpoint state_dict contains keys that are not used by the model:\n",
      "  \u001b[35mbackbone.fpn_lateral2.bias\u001b[0m\n",
      "  \u001b[35mbackbone.fpn_output2.bias\u001b[0m\n",
      "  \u001b[35mbackbone.fpn_lateral3.bias\u001b[0m\n",
      "  \u001b[35mbackbone.fpn_output3.bias\u001b[0m\n",
      "  \u001b[35mbackbone.fpn_lateral4.bias\u001b[0m\n",
      "  \u001b[35mbackbone.fpn_output4.bias\u001b[0m\n",
      "  \u001b[35mbackbone.fpn_lateral5.bias\u001b[0m\n",
      "  \u001b[35mbackbone.fpn_output5.bias\u001b[0m\n",
      " 13%|█████▏                                 | 131/987 [10:32<1:05:05,  4.56s/it]"
     ]
    },
    {
     "name": "stdout",
     "output_type": "stream",
     "text": [
      "27_01_1936_00000007\n",
      "Pages/27_01_1936_00000007.tif.large.jpg\n"
     ]
    },
    {
     "name": "stderr",
     "output_type": "stream",
     "text": [
      "The checkpoint state_dict contains keys that are not used by the model:\n",
      "  \u001b[35mbackbone.fpn_lateral2.bias\u001b[0m\n",
      "  \u001b[35mbackbone.fpn_output2.bias\u001b[0m\n",
      "  \u001b[35mbackbone.fpn_lateral3.bias\u001b[0m\n",
      "  \u001b[35mbackbone.fpn_output3.bias\u001b[0m\n",
      "  \u001b[35mbackbone.fpn_lateral4.bias\u001b[0m\n",
      "  \u001b[35mbackbone.fpn_output4.bias\u001b[0m\n",
      "  \u001b[35mbackbone.fpn_lateral5.bias\u001b[0m\n",
      "  \u001b[35mbackbone.fpn_output5.bias\u001b[0m\n",
      " 13%|█████▏                                 | 132/987 [10:37<1:08:05,  4.78s/it]"
     ]
    },
    {
     "name": "stdout",
     "output_type": "stream",
     "text": [
      "19_03_1936_00000010\n",
      "Pages/19_03_1936_00000010.tif.large.jpg\n"
     ]
    },
    {
     "name": "stderr",
     "output_type": "stream",
     "text": [
      "The checkpoint state_dict contains keys that are not used by the model:\n",
      "  \u001b[35mbackbone.fpn_lateral2.bias\u001b[0m\n",
      "  \u001b[35mbackbone.fpn_output2.bias\u001b[0m\n",
      "  \u001b[35mbackbone.fpn_lateral3.bias\u001b[0m\n",
      "  \u001b[35mbackbone.fpn_output3.bias\u001b[0m\n",
      "  \u001b[35mbackbone.fpn_lateral4.bias\u001b[0m\n",
      "  \u001b[35mbackbone.fpn_output4.bias\u001b[0m\n",
      "  \u001b[35mbackbone.fpn_lateral5.bias\u001b[0m\n",
      "  \u001b[35mbackbone.fpn_output5.bias\u001b[0m\n",
      " 13%|█████▎                                 | 133/987 [10:42<1:09:20,  4.87s/it]"
     ]
    },
    {
     "name": "stdout",
     "output_type": "stream",
     "text": [
      "13_02_1936_00000012\n",
      "Pages/13_02_1936_00000012.tif.large.jpg\n"
     ]
    },
    {
     "name": "stderr",
     "output_type": "stream",
     "text": [
      "The checkpoint state_dict contains keys that are not used by the model:\n",
      "  \u001b[35mbackbone.fpn_lateral2.bias\u001b[0m\n",
      "  \u001b[35mbackbone.fpn_output2.bias\u001b[0m\n",
      "  \u001b[35mbackbone.fpn_lateral3.bias\u001b[0m\n",
      "  \u001b[35mbackbone.fpn_output3.bias\u001b[0m\n",
      "  \u001b[35mbackbone.fpn_lateral4.bias\u001b[0m\n",
      "  \u001b[35mbackbone.fpn_output4.bias\u001b[0m\n",
      "  \u001b[35mbackbone.fpn_lateral5.bias\u001b[0m\n",
      "  \u001b[35mbackbone.fpn_output5.bias\u001b[0m\n",
      " 14%|█████▎                                 | 134/987 [10:47<1:08:17,  4.80s/it]"
     ]
    },
    {
     "name": "stdout",
     "output_type": "stream",
     "text": [
      "27_08_1936_00000004\n",
      "Pages/27_08_1936_00000004.tif.large.jpg\n"
     ]
    },
    {
     "name": "stderr",
     "output_type": "stream",
     "text": [
      "The checkpoint state_dict contains keys that are not used by the model:\n",
      "  \u001b[35mbackbone.fpn_lateral2.bias\u001b[0m\n",
      "  \u001b[35mbackbone.fpn_output2.bias\u001b[0m\n",
      "  \u001b[35mbackbone.fpn_lateral3.bias\u001b[0m\n",
      "  \u001b[35mbackbone.fpn_output3.bias\u001b[0m\n",
      "  \u001b[35mbackbone.fpn_lateral4.bias\u001b[0m\n",
      "  \u001b[35mbackbone.fpn_output4.bias\u001b[0m\n",
      "  \u001b[35mbackbone.fpn_lateral5.bias\u001b[0m\n",
      "  \u001b[35mbackbone.fpn_output5.bias\u001b[0m\n",
      " 14%|█████▎                                 | 135/987 [10:51<1:07:19,  4.74s/it]"
     ]
    },
    {
     "name": "stdout",
     "output_type": "stream",
     "text": [
      "05_12_1936_00000004\n",
      "Pages/05_12_1936_00000004.tif.large.jpg\n"
     ]
    },
    {
     "name": "stderr",
     "output_type": "stream",
     "text": [
      "The checkpoint state_dict contains keys that are not used by the model:\n",
      "  \u001b[35mbackbone.fpn_lateral2.bias\u001b[0m\n",
      "  \u001b[35mbackbone.fpn_output2.bias\u001b[0m\n",
      "  \u001b[35mbackbone.fpn_lateral3.bias\u001b[0m\n",
      "  \u001b[35mbackbone.fpn_output3.bias\u001b[0m\n",
      "  \u001b[35mbackbone.fpn_lateral4.bias\u001b[0m\n",
      "  \u001b[35mbackbone.fpn_output4.bias\u001b[0m\n",
      "  \u001b[35mbackbone.fpn_lateral5.bias\u001b[0m\n",
      "  \u001b[35mbackbone.fpn_output5.bias\u001b[0m\n",
      " 14%|█████▎                                 | 136/987 [10:56<1:06:12,  4.67s/it]"
     ]
    },
    {
     "name": "stdout",
     "output_type": "stream",
     "text": [
      "27_09_1936_00000007\n",
      "Pages/27_09_1936_00000007.tif.large.jpg\n"
     ]
    },
    {
     "name": "stderr",
     "output_type": "stream",
     "text": [
      "The checkpoint state_dict contains keys that are not used by the model:\n",
      "  \u001b[35mbackbone.fpn_lateral2.bias\u001b[0m\n",
      "  \u001b[35mbackbone.fpn_output2.bias\u001b[0m\n",
      "  \u001b[35mbackbone.fpn_lateral3.bias\u001b[0m\n",
      "  \u001b[35mbackbone.fpn_output3.bias\u001b[0m\n",
      "  \u001b[35mbackbone.fpn_lateral4.bias\u001b[0m\n",
      "  \u001b[35mbackbone.fpn_output4.bias\u001b[0m\n",
      "  \u001b[35mbackbone.fpn_lateral5.bias\u001b[0m\n",
      "  \u001b[35mbackbone.fpn_output5.bias\u001b[0m\n",
      " 14%|█████▍                                 | 137/987 [11:00<1:04:52,  4.58s/it]"
     ]
    },
    {
     "name": "stdout",
     "output_type": "stream",
     "text": [
      "23_12_1936_00000005\n",
      "Pages/23_12_1936_00000005.tif.large.jpg\n"
     ]
    },
    {
     "name": "stderr",
     "output_type": "stream",
     "text": [
      "The checkpoint state_dict contains keys that are not used by the model:\n",
      "  \u001b[35mbackbone.fpn_lateral2.bias\u001b[0m\n",
      "  \u001b[35mbackbone.fpn_output2.bias\u001b[0m\n",
      "  \u001b[35mbackbone.fpn_lateral3.bias\u001b[0m\n",
      "  \u001b[35mbackbone.fpn_output3.bias\u001b[0m\n",
      "  \u001b[35mbackbone.fpn_lateral4.bias\u001b[0m\n",
      "  \u001b[35mbackbone.fpn_output4.bias\u001b[0m\n",
      "  \u001b[35mbackbone.fpn_lateral5.bias\u001b[0m\n",
      "  \u001b[35mbackbone.fpn_output5.bias\u001b[0m\n",
      " 14%|█████▍                                 | 138/987 [11:05<1:04:59,  4.59s/it]"
     ]
    },
    {
     "name": "stdout",
     "output_type": "stream",
     "text": [
      "31_10_1936_00000045\n",
      "Pages/31_10_1936_00000045.tif.large.jpg\n"
     ]
    },
    {
     "name": "stderr",
     "output_type": "stream",
     "text": [
      "The checkpoint state_dict contains keys that are not used by the model:\n",
      "  \u001b[35mbackbone.fpn_lateral2.bias\u001b[0m\n",
      "  \u001b[35mbackbone.fpn_output2.bias\u001b[0m\n",
      "  \u001b[35mbackbone.fpn_lateral3.bias\u001b[0m\n",
      "  \u001b[35mbackbone.fpn_output3.bias\u001b[0m\n",
      "  \u001b[35mbackbone.fpn_lateral4.bias\u001b[0m\n",
      "  \u001b[35mbackbone.fpn_output4.bias\u001b[0m\n",
      "  \u001b[35mbackbone.fpn_lateral5.bias\u001b[0m\n",
      "  \u001b[35mbackbone.fpn_output5.bias\u001b[0m\n",
      " 14%|█████▍                                 | 139/987 [11:09<1:04:17,  4.55s/it]"
     ]
    },
    {
     "name": "stdout",
     "output_type": "stream",
     "text": [
      "10_08_1936_00000006\n",
      "Pages/10_08_1936_00000006.tif.large.jpg\n"
     ]
    },
    {
     "name": "stderr",
     "output_type": "stream",
     "text": [
      "The checkpoint state_dict contains keys that are not used by the model:\n",
      "  \u001b[35mbackbone.fpn_lateral2.bias\u001b[0m\n",
      "  \u001b[35mbackbone.fpn_output2.bias\u001b[0m\n",
      "  \u001b[35mbackbone.fpn_lateral3.bias\u001b[0m\n",
      "  \u001b[35mbackbone.fpn_output3.bias\u001b[0m\n",
      "  \u001b[35mbackbone.fpn_lateral4.bias\u001b[0m\n",
      "  \u001b[35mbackbone.fpn_output4.bias\u001b[0m\n",
      "  \u001b[35mbackbone.fpn_lateral5.bias\u001b[0m\n",
      "  \u001b[35mbackbone.fpn_output5.bias\u001b[0m\n",
      " 14%|█████▌                                 | 140/987 [11:14<1:03:47,  4.52s/it]"
     ]
    },
    {
     "name": "stdout",
     "output_type": "stream",
     "text": [
      "10_02_1936_00000011\n",
      "Pages/10_02_1936_00000011.tif.large.jpg\n"
     ]
    },
    {
     "name": "stderr",
     "output_type": "stream",
     "text": [
      "The checkpoint state_dict contains keys that are not used by the model:\n",
      "  \u001b[35mbackbone.fpn_lateral2.bias\u001b[0m\n",
      "  \u001b[35mbackbone.fpn_output2.bias\u001b[0m\n",
      "  \u001b[35mbackbone.fpn_lateral3.bias\u001b[0m\n",
      "  \u001b[35mbackbone.fpn_output3.bias\u001b[0m\n",
      "  \u001b[35mbackbone.fpn_lateral4.bias\u001b[0m\n",
      "  \u001b[35mbackbone.fpn_output4.bias\u001b[0m\n",
      "  \u001b[35mbackbone.fpn_lateral5.bias\u001b[0m\n",
      "  \u001b[35mbackbone.fpn_output5.bias\u001b[0m\n",
      " 14%|█████▌                                 | 141/987 [11:18<1:04:08,  4.55s/it]"
     ]
    },
    {
     "name": "stdout",
     "output_type": "stream",
     "text": [
      "26_03_1936_00000012\n",
      "Pages/26_03_1936_00000012.tif.large.jpg\n"
     ]
    },
    {
     "name": "stderr",
     "output_type": "stream",
     "text": [
      "The checkpoint state_dict contains keys that are not used by the model:\n",
      "  \u001b[35mbackbone.fpn_lateral2.bias\u001b[0m\n",
      "  \u001b[35mbackbone.fpn_output2.bias\u001b[0m\n",
      "  \u001b[35mbackbone.fpn_lateral3.bias\u001b[0m\n",
      "  \u001b[35mbackbone.fpn_output3.bias\u001b[0m\n",
      "  \u001b[35mbackbone.fpn_lateral4.bias\u001b[0m\n",
      "  \u001b[35mbackbone.fpn_output4.bias\u001b[0m\n",
      "  \u001b[35mbackbone.fpn_lateral5.bias\u001b[0m\n",
      "  \u001b[35mbackbone.fpn_output5.bias\u001b[0m\n",
      " 14%|█████▌                                 | 142/987 [11:23<1:05:23,  4.64s/it]"
     ]
    },
    {
     "name": "stdout",
     "output_type": "stream",
     "text": [
      "02_09_1936_00000007\n",
      "Pages/02_09_1936_00000007.tif.large.jpg\n"
     ]
    },
    {
     "name": "stderr",
     "output_type": "stream",
     "text": [
      "The checkpoint state_dict contains keys that are not used by the model:\n",
      "  \u001b[35mbackbone.fpn_lateral2.bias\u001b[0m\n",
      "  \u001b[35mbackbone.fpn_output2.bias\u001b[0m\n",
      "  \u001b[35mbackbone.fpn_lateral3.bias\u001b[0m\n",
      "  \u001b[35mbackbone.fpn_output3.bias\u001b[0m\n",
      "  \u001b[35mbackbone.fpn_lateral4.bias\u001b[0m\n",
      "  \u001b[35mbackbone.fpn_output4.bias\u001b[0m\n",
      "  \u001b[35mbackbone.fpn_lateral5.bias\u001b[0m\n",
      "  \u001b[35mbackbone.fpn_output5.bias\u001b[0m\n",
      " 14%|█████▋                                 | 143/987 [11:28<1:06:04,  4.70s/it]"
     ]
    },
    {
     "name": "stdout",
     "output_type": "stream",
     "text": [
      "22_07_1936_00000016\n",
      "Pages/22_07_1936_00000016.tif.large.jpg\n"
     ]
    },
    {
     "name": "stderr",
     "output_type": "stream",
     "text": [
      "The checkpoint state_dict contains keys that are not used by the model:\n",
      "  \u001b[35mbackbone.fpn_lateral2.bias\u001b[0m\n",
      "  \u001b[35mbackbone.fpn_output2.bias\u001b[0m\n",
      "  \u001b[35mbackbone.fpn_lateral3.bias\u001b[0m\n",
      "  \u001b[35mbackbone.fpn_output3.bias\u001b[0m\n",
      "  \u001b[35mbackbone.fpn_lateral4.bias\u001b[0m\n",
      "  \u001b[35mbackbone.fpn_output4.bias\u001b[0m\n",
      "  \u001b[35mbackbone.fpn_lateral5.bias\u001b[0m\n",
      "  \u001b[35mbackbone.fpn_output5.bias\u001b[0m\n",
      " 15%|█████▋                                 | 144/987 [11:33<1:08:04,  4.85s/it]"
     ]
    },
    {
     "name": "stdout",
     "output_type": "stream",
     "text": [
      "22_10_1936_00000006\n",
      "Pages/22_10_1936_00000006.tif.large.jpg\n"
     ]
    },
    {
     "name": "stderr",
     "output_type": "stream",
     "text": [
      "The checkpoint state_dict contains keys that are not used by the model:\n",
      "  \u001b[35mbackbone.fpn_lateral2.bias\u001b[0m\n",
      "  \u001b[35mbackbone.fpn_output2.bias\u001b[0m\n",
      "  \u001b[35mbackbone.fpn_lateral3.bias\u001b[0m\n",
      "  \u001b[35mbackbone.fpn_output3.bias\u001b[0m\n",
      "  \u001b[35mbackbone.fpn_lateral4.bias\u001b[0m\n",
      "  \u001b[35mbackbone.fpn_output4.bias\u001b[0m\n",
      "  \u001b[35mbackbone.fpn_lateral5.bias\u001b[0m\n",
      "  \u001b[35mbackbone.fpn_output5.bias\u001b[0m\n",
      " 15%|█████▋                                 | 145/987 [11:38<1:09:02,  4.92s/it]"
     ]
    },
    {
     "name": "stdout",
     "output_type": "stream",
     "text": [
      "01_08_1936_00000006\n",
      "Pages/01_08_1936_00000006.tif.large.jpg\n"
     ]
    },
    {
     "name": "stderr",
     "output_type": "stream",
     "text": [
      "The checkpoint state_dict contains keys that are not used by the model:\n",
      "  \u001b[35mbackbone.fpn_lateral2.bias\u001b[0m\n",
      "  \u001b[35mbackbone.fpn_output2.bias\u001b[0m\n",
      "  \u001b[35mbackbone.fpn_lateral3.bias\u001b[0m\n",
      "  \u001b[35mbackbone.fpn_output3.bias\u001b[0m\n",
      "  \u001b[35mbackbone.fpn_lateral4.bias\u001b[0m\n",
      "  \u001b[35mbackbone.fpn_output4.bias\u001b[0m\n",
      "  \u001b[35mbackbone.fpn_lateral5.bias\u001b[0m\n",
      "  \u001b[35mbackbone.fpn_output5.bias\u001b[0m\n",
      " 15%|█████▊                                 | 146/987 [11:43<1:07:49,  4.84s/it]"
     ]
    },
    {
     "name": "stdout",
     "output_type": "stream",
     "text": [
      "27_09_1936_00000025\n",
      "Pages/27_09_1936_00000025.tif.large.jpg\n"
     ]
    },
    {
     "name": "stderr",
     "output_type": "stream",
     "text": [
      "The checkpoint state_dict contains keys that are not used by the model:\n",
      "  \u001b[35mbackbone.fpn_lateral2.bias\u001b[0m\n",
      "  \u001b[35mbackbone.fpn_output2.bias\u001b[0m\n",
      "  \u001b[35mbackbone.fpn_lateral3.bias\u001b[0m\n",
      "  \u001b[35mbackbone.fpn_output3.bias\u001b[0m\n",
      "  \u001b[35mbackbone.fpn_lateral4.bias\u001b[0m\n",
      "  \u001b[35mbackbone.fpn_output4.bias\u001b[0m\n",
      "  \u001b[35mbackbone.fpn_lateral5.bias\u001b[0m\n",
      "  \u001b[35mbackbone.fpn_output5.bias\u001b[0m\n",
      " 15%|█████▊                                 | 147/987 [11:48<1:07:43,  4.84s/it]"
     ]
    },
    {
     "name": "stdout",
     "output_type": "stream",
     "text": [
      "10_09_1936_00000006\n",
      "Pages/10_09_1936_00000006.tif.large.jpg\n"
     ]
    },
    {
     "name": "stderr",
     "output_type": "stream",
     "text": [
      "The checkpoint state_dict contains keys that are not used by the model:\n",
      "  \u001b[35mbackbone.fpn_lateral2.bias\u001b[0m\n",
      "  \u001b[35mbackbone.fpn_output2.bias\u001b[0m\n",
      "  \u001b[35mbackbone.fpn_lateral3.bias\u001b[0m\n",
      "  \u001b[35mbackbone.fpn_output3.bias\u001b[0m\n",
      "  \u001b[35mbackbone.fpn_lateral4.bias\u001b[0m\n",
      "  \u001b[35mbackbone.fpn_output4.bias\u001b[0m\n",
      "  \u001b[35mbackbone.fpn_lateral5.bias\u001b[0m\n",
      "  \u001b[35mbackbone.fpn_output5.bias\u001b[0m\n",
      " 15%|█████▊                                 | 148/987 [11:52<1:07:34,  4.83s/it]"
     ]
    },
    {
     "name": "stdout",
     "output_type": "stream",
     "text": [
      "05_03_1936_00000006\n",
      "Pages/05_03_1936_00000006.tif.large.jpg\n"
     ]
    },
    {
     "name": "stderr",
     "output_type": "stream",
     "text": [
      "The checkpoint state_dict contains keys that are not used by the model:\n",
      "  \u001b[35mbackbone.fpn_lateral2.bias\u001b[0m\n",
      "  \u001b[35mbackbone.fpn_output2.bias\u001b[0m\n",
      "  \u001b[35mbackbone.fpn_lateral3.bias\u001b[0m\n",
      "  \u001b[35mbackbone.fpn_output3.bias\u001b[0m\n",
      "  \u001b[35mbackbone.fpn_lateral4.bias\u001b[0m\n",
      "  \u001b[35mbackbone.fpn_output4.bias\u001b[0m\n",
      "  \u001b[35mbackbone.fpn_lateral5.bias\u001b[0m\n",
      "  \u001b[35mbackbone.fpn_output5.bias\u001b[0m\n",
      " 15%|█████▉                                 | 149/987 [11:57<1:07:43,  4.85s/it]"
     ]
    },
    {
     "name": "stdout",
     "output_type": "stream",
     "text": [
      "29_04_1936_00000006\n",
      "Pages/29_04_1936_00000006.tif.large.jpg\n"
     ]
    },
    {
     "name": "stderr",
     "output_type": "stream",
     "text": [
      "The checkpoint state_dict contains keys that are not used by the model:\n",
      "  \u001b[35mbackbone.fpn_lateral2.bias\u001b[0m\n",
      "  \u001b[35mbackbone.fpn_output2.bias\u001b[0m\n",
      "  \u001b[35mbackbone.fpn_lateral3.bias\u001b[0m\n",
      "  \u001b[35mbackbone.fpn_output3.bias\u001b[0m\n",
      "  \u001b[35mbackbone.fpn_lateral4.bias\u001b[0m\n",
      "  \u001b[35mbackbone.fpn_output4.bias\u001b[0m\n",
      "  \u001b[35mbackbone.fpn_lateral5.bias\u001b[0m\n",
      "  \u001b[35mbackbone.fpn_output5.bias\u001b[0m\n",
      " 15%|█████▉                                 | 150/987 [12:03<1:12:06,  5.17s/it]"
     ]
    },
    {
     "name": "stdout",
     "output_type": "stream",
     "text": [
      "31_10_1936_00000002\n",
      "Pages/31_10_1936_00000002.tif.large.jpg\n"
     ]
    },
    {
     "name": "stderr",
     "output_type": "stream",
     "text": [
      "The checkpoint state_dict contains keys that are not used by the model:\n",
      "  \u001b[35mbackbone.fpn_lateral2.bias\u001b[0m\n",
      "  \u001b[35mbackbone.fpn_output2.bias\u001b[0m\n",
      "  \u001b[35mbackbone.fpn_lateral3.bias\u001b[0m\n",
      "  \u001b[35mbackbone.fpn_output3.bias\u001b[0m\n",
      "  \u001b[35mbackbone.fpn_lateral4.bias\u001b[0m\n",
      "  \u001b[35mbackbone.fpn_output4.bias\u001b[0m\n",
      "  \u001b[35mbackbone.fpn_lateral5.bias\u001b[0m\n",
      "  \u001b[35mbackbone.fpn_output5.bias\u001b[0m\n",
      " 15%|█████▉                                 | 151/987 [12:11<1:23:04,  5.96s/it]"
     ]
    },
    {
     "name": "stdout",
     "output_type": "stream",
     "text": [
      "18_10_1936_00000011\n",
      "Pages/18_10_1936_00000011.tif.large.jpg\n"
     ]
    },
    {
     "name": "stderr",
     "output_type": "stream",
     "text": [
      "The checkpoint state_dict contains keys that are not used by the model:\n",
      "  \u001b[35mbackbone.fpn_lateral2.bias\u001b[0m\n",
      "  \u001b[35mbackbone.fpn_output2.bias\u001b[0m\n",
      "  \u001b[35mbackbone.fpn_lateral3.bias\u001b[0m\n",
      "  \u001b[35mbackbone.fpn_output3.bias\u001b[0m\n",
      "  \u001b[35mbackbone.fpn_lateral4.bias\u001b[0m\n",
      "  \u001b[35mbackbone.fpn_output4.bias\u001b[0m\n",
      "  \u001b[35mbackbone.fpn_lateral5.bias\u001b[0m\n",
      "  \u001b[35mbackbone.fpn_output5.bias\u001b[0m\n",
      " 15%|██████                                 | 152/987 [12:17<1:21:19,  5.84s/it]"
     ]
    },
    {
     "name": "stdout",
     "output_type": "stream",
     "text": [
      "24_11_1936_00000013\n",
      "Pages/24_11_1936_00000013.tif.large.jpg\n"
     ]
    },
    {
     "name": "stderr",
     "output_type": "stream",
     "text": [
      "The checkpoint state_dict contains keys that are not used by the model:\n",
      "  \u001b[35mbackbone.fpn_lateral2.bias\u001b[0m\n",
      "  \u001b[35mbackbone.fpn_output2.bias\u001b[0m\n",
      "  \u001b[35mbackbone.fpn_lateral3.bias\u001b[0m\n",
      "  \u001b[35mbackbone.fpn_output3.bias\u001b[0m\n",
      "  \u001b[35mbackbone.fpn_lateral4.bias\u001b[0m\n",
      "  \u001b[35mbackbone.fpn_output4.bias\u001b[0m\n",
      "  \u001b[35mbackbone.fpn_lateral5.bias\u001b[0m\n",
      "  \u001b[35mbackbone.fpn_output5.bias\u001b[0m\n",
      " 16%|██████                                 | 153/987 [12:22<1:17:18,  5.56s/it]"
     ]
    },
    {
     "name": "stdout",
     "output_type": "stream",
     "text": [
      "20_09_1936_00000014\n",
      "Pages/20_09_1936_00000014.tif.large.jpg\n"
     ]
    },
    {
     "name": "stderr",
     "output_type": "stream",
     "text": [
      "The checkpoint state_dict contains keys that are not used by the model:\n",
      "  \u001b[35mbackbone.fpn_lateral2.bias\u001b[0m\n",
      "  \u001b[35mbackbone.fpn_output2.bias\u001b[0m\n",
      "  \u001b[35mbackbone.fpn_lateral3.bias\u001b[0m\n",
      "  \u001b[35mbackbone.fpn_output3.bias\u001b[0m\n",
      "  \u001b[35mbackbone.fpn_lateral4.bias\u001b[0m\n",
      "  \u001b[35mbackbone.fpn_output4.bias\u001b[0m\n",
      "  \u001b[35mbackbone.fpn_lateral5.bias\u001b[0m\n",
      "  \u001b[35mbackbone.fpn_output5.bias\u001b[0m\n",
      " 16%|██████                                 | 154/987 [12:26<1:13:43,  5.31s/it]"
     ]
    },
    {
     "name": "stdout",
     "output_type": "stream",
     "text": [
      "06_02_1936_00000008\n",
      "Pages/06_02_1936_00000008.tif.large.jpg\n"
     ]
    },
    {
     "name": "stderr",
     "output_type": "stream",
     "text": [
      "The checkpoint state_dict contains keys that are not used by the model:\n",
      "  \u001b[35mbackbone.fpn_lateral2.bias\u001b[0m\n",
      "  \u001b[35mbackbone.fpn_output2.bias\u001b[0m\n",
      "  \u001b[35mbackbone.fpn_lateral3.bias\u001b[0m\n",
      "  \u001b[35mbackbone.fpn_output3.bias\u001b[0m\n",
      "  \u001b[35mbackbone.fpn_lateral4.bias\u001b[0m\n",
      "  \u001b[35mbackbone.fpn_output4.bias\u001b[0m\n",
      "  \u001b[35mbackbone.fpn_lateral5.bias\u001b[0m\n",
      "  \u001b[35mbackbone.fpn_output5.bias\u001b[0m\n",
      " 16%|██████                                 | 155/987 [12:32<1:14:28,  5.37s/it]"
     ]
    },
    {
     "name": "stdout",
     "output_type": "stream",
     "text": [
      "10_04_1936_00000002\n",
      "Pages/10_04_1936_00000002.tif.large.jpg\n"
     ]
    },
    {
     "name": "stderr",
     "output_type": "stream",
     "text": [
      "The checkpoint state_dict contains keys that are not used by the model:\n",
      "  \u001b[35mbackbone.fpn_lateral2.bias\u001b[0m\n",
      "  \u001b[35mbackbone.fpn_output2.bias\u001b[0m\n",
      "  \u001b[35mbackbone.fpn_lateral3.bias\u001b[0m\n",
      "  \u001b[35mbackbone.fpn_output3.bias\u001b[0m\n",
      "  \u001b[35mbackbone.fpn_lateral4.bias\u001b[0m\n",
      "  \u001b[35mbackbone.fpn_output4.bias\u001b[0m\n",
      "  \u001b[35mbackbone.fpn_lateral5.bias\u001b[0m\n",
      "  \u001b[35mbackbone.fpn_output5.bias\u001b[0m\n",
      " 16%|██████▏                                | 156/987 [12:36<1:10:19,  5.08s/it]"
     ]
    },
    {
     "name": "stdout",
     "output_type": "stream",
     "text": [
      "23_03_1936_00000001\n",
      "Pages/23_03_1936_00000001.tif.large.jpg\n"
     ]
    },
    {
     "name": "stderr",
     "output_type": "stream",
     "text": [
      "The checkpoint state_dict contains keys that are not used by the model:\n",
      "  \u001b[35mbackbone.fpn_lateral2.bias\u001b[0m\n",
      "  \u001b[35mbackbone.fpn_output2.bias\u001b[0m\n",
      "  \u001b[35mbackbone.fpn_lateral3.bias\u001b[0m\n",
      "  \u001b[35mbackbone.fpn_output3.bias\u001b[0m\n",
      "  \u001b[35mbackbone.fpn_lateral4.bias\u001b[0m\n",
      "  \u001b[35mbackbone.fpn_output4.bias\u001b[0m\n",
      "  \u001b[35mbackbone.fpn_lateral5.bias\u001b[0m\n",
      "  \u001b[35mbackbone.fpn_output5.bias\u001b[0m\n",
      " 16%|██████▏                                | 157/987 [12:41<1:08:33,  4.96s/it]"
     ]
    },
    {
     "name": "stdout",
     "output_type": "stream",
     "text": [
      "12_02_1936_00000008\n",
      "Pages/12_02_1936_00000008.tif.large.jpg\n"
     ]
    },
    {
     "name": "stderr",
     "output_type": "stream",
     "text": [
      "The checkpoint state_dict contains keys that are not used by the model:\n",
      "  \u001b[35mbackbone.fpn_lateral2.bias\u001b[0m\n",
      "  \u001b[35mbackbone.fpn_output2.bias\u001b[0m\n",
      "  \u001b[35mbackbone.fpn_lateral3.bias\u001b[0m\n",
      "  \u001b[35mbackbone.fpn_output3.bias\u001b[0m\n",
      "  \u001b[35mbackbone.fpn_lateral4.bias\u001b[0m\n",
      "  \u001b[35mbackbone.fpn_output4.bias\u001b[0m\n",
      "  \u001b[35mbackbone.fpn_lateral5.bias\u001b[0m\n",
      "  \u001b[35mbackbone.fpn_output5.bias\u001b[0m\n",
      " 16%|██████▏                                | 158/987 [12:46<1:11:05,  5.15s/it]"
     ]
    },
    {
     "name": "stdout",
     "output_type": "stream",
     "text": [
      "24_04_1936_00000001\n",
      "Pages/24_04_1936_00000001.tif.large.jpg\n"
     ]
    },
    {
     "name": "stderr",
     "output_type": "stream",
     "text": [
      "The checkpoint state_dict contains keys that are not used by the model:\n",
      "  \u001b[35mbackbone.fpn_lateral2.bias\u001b[0m\n",
      "  \u001b[35mbackbone.fpn_output2.bias\u001b[0m\n",
      "  \u001b[35mbackbone.fpn_lateral3.bias\u001b[0m\n",
      "  \u001b[35mbackbone.fpn_output3.bias\u001b[0m\n",
      "  \u001b[35mbackbone.fpn_lateral4.bias\u001b[0m\n",
      "  \u001b[35mbackbone.fpn_output4.bias\u001b[0m\n",
      "  \u001b[35mbackbone.fpn_lateral5.bias\u001b[0m\n",
      "  \u001b[35mbackbone.fpn_output5.bias\u001b[0m\n",
      " 16%|██████▎                                | 159/987 [12:54<1:18:53,  5.72s/it]"
     ]
    },
    {
     "name": "stdout",
     "output_type": "stream",
     "text": [
      "26_02_1936_00000018\n",
      "Pages/26_02_1936_00000018.tif.large.jpg\n"
     ]
    },
    {
     "name": "stderr",
     "output_type": "stream",
     "text": [
      "The checkpoint state_dict contains keys that are not used by the model:\n",
      "  \u001b[35mbackbone.fpn_lateral2.bias\u001b[0m\n",
      "  \u001b[35mbackbone.fpn_output2.bias\u001b[0m\n",
      "  \u001b[35mbackbone.fpn_lateral3.bias\u001b[0m\n",
      "  \u001b[35mbackbone.fpn_output3.bias\u001b[0m\n",
      "  \u001b[35mbackbone.fpn_lateral4.bias\u001b[0m\n",
      "  \u001b[35mbackbone.fpn_output4.bias\u001b[0m\n",
      "  \u001b[35mbackbone.fpn_lateral5.bias\u001b[0m\n",
      "  \u001b[35mbackbone.fpn_output5.bias\u001b[0m\n",
      " 16%|██████▎                                | 160/987 [12:59<1:19:08,  5.74s/it]"
     ]
    },
    {
     "name": "stdout",
     "output_type": "stream",
     "text": [
      "28_04_1936_00000006\n",
      "Pages/28_04_1936_00000006.tif.large.jpg\n"
     ]
    },
    {
     "name": "stderr",
     "output_type": "stream",
     "text": [
      "The checkpoint state_dict contains keys that are not used by the model:\n",
      "  \u001b[35mbackbone.fpn_lateral2.bias\u001b[0m\n",
      "  \u001b[35mbackbone.fpn_output2.bias\u001b[0m\n",
      "  \u001b[35mbackbone.fpn_lateral3.bias\u001b[0m\n",
      "  \u001b[35mbackbone.fpn_output3.bias\u001b[0m\n",
      "  \u001b[35mbackbone.fpn_lateral4.bias\u001b[0m\n",
      "  \u001b[35mbackbone.fpn_output4.bias\u001b[0m\n",
      "  \u001b[35mbackbone.fpn_lateral5.bias\u001b[0m\n",
      "  \u001b[35mbackbone.fpn_output5.bias\u001b[0m\n",
      " 16%|██████▎                                | 161/987 [13:06<1:24:19,  6.13s/it]"
     ]
    },
    {
     "name": "stdout",
     "output_type": "stream",
     "text": [
      "24_03_1936_00000001\n",
      "Pages/24_03_1936_00000001.tif.large.jpg\n"
     ]
    },
    {
     "name": "stderr",
     "output_type": "stream",
     "text": [
      "The checkpoint state_dict contains keys that are not used by the model:\n",
      "  \u001b[35mbackbone.fpn_lateral2.bias\u001b[0m\n",
      "  \u001b[35mbackbone.fpn_output2.bias\u001b[0m\n",
      "  \u001b[35mbackbone.fpn_lateral3.bias\u001b[0m\n",
      "  \u001b[35mbackbone.fpn_output3.bias\u001b[0m\n",
      "  \u001b[35mbackbone.fpn_lateral4.bias\u001b[0m\n",
      "  \u001b[35mbackbone.fpn_output4.bias\u001b[0m\n",
      "  \u001b[35mbackbone.fpn_lateral5.bias\u001b[0m\n",
      "  \u001b[35mbackbone.fpn_output5.bias\u001b[0m\n",
      " 16%|██████▍                                | 162/987 [13:11<1:18:38,  5.72s/it]"
     ]
    },
    {
     "name": "stdout",
     "output_type": "stream",
     "text": [
      "30_04_1936_00000005\n",
      "Pages/30_04_1936_00000005.tif.large.jpg\n"
     ]
    },
    {
     "name": "stderr",
     "output_type": "stream",
     "text": [
      "The checkpoint state_dict contains keys that are not used by the model:\n",
      "  \u001b[35mbackbone.fpn_lateral2.bias\u001b[0m\n",
      "  \u001b[35mbackbone.fpn_output2.bias\u001b[0m\n",
      "  \u001b[35mbackbone.fpn_lateral3.bias\u001b[0m\n",
      "  \u001b[35mbackbone.fpn_output3.bias\u001b[0m\n",
      "  \u001b[35mbackbone.fpn_lateral4.bias\u001b[0m\n",
      "  \u001b[35mbackbone.fpn_output4.bias\u001b[0m\n",
      "  \u001b[35mbackbone.fpn_lateral5.bias\u001b[0m\n",
      "  \u001b[35mbackbone.fpn_output5.bias\u001b[0m\n",
      " 17%|██████▍                                | 163/987 [13:16<1:14:12,  5.40s/it]"
     ]
    },
    {
     "name": "stdout",
     "output_type": "stream",
     "text": [
      "12_02_1936_00000006\n",
      "Pages/12_02_1936_00000006.tif.large.jpg\n"
     ]
    },
    {
     "name": "stderr",
     "output_type": "stream",
     "text": [
      "The checkpoint state_dict contains keys that are not used by the model:\n",
      "  \u001b[35mbackbone.fpn_lateral2.bias\u001b[0m\n",
      "  \u001b[35mbackbone.fpn_output2.bias\u001b[0m\n",
      "  \u001b[35mbackbone.fpn_lateral3.bias\u001b[0m\n",
      "  \u001b[35mbackbone.fpn_output3.bias\u001b[0m\n",
      "  \u001b[35mbackbone.fpn_lateral4.bias\u001b[0m\n",
      "  \u001b[35mbackbone.fpn_output4.bias\u001b[0m\n",
      "  \u001b[35mbackbone.fpn_lateral5.bias\u001b[0m\n",
      "  \u001b[35mbackbone.fpn_output5.bias\u001b[0m\n",
      " 17%|██████▍                                | 164/987 [13:20<1:10:18,  5.13s/it]"
     ]
    },
    {
     "name": "stdout",
     "output_type": "stream",
     "text": [
      "31_03_1936_00000010\n",
      "Pages/31_03_1936_00000010.tif.large.jpg\n"
     ]
    },
    {
     "name": "stderr",
     "output_type": "stream",
     "text": [
      "The checkpoint state_dict contains keys that are not used by the model:\n",
      "  \u001b[35mbackbone.fpn_lateral2.bias\u001b[0m\n",
      "  \u001b[35mbackbone.fpn_output2.bias\u001b[0m\n",
      "  \u001b[35mbackbone.fpn_lateral3.bias\u001b[0m\n",
      "  \u001b[35mbackbone.fpn_output3.bias\u001b[0m\n",
      "  \u001b[35mbackbone.fpn_lateral4.bias\u001b[0m\n",
      "  \u001b[35mbackbone.fpn_output4.bias\u001b[0m\n",
      "  \u001b[35mbackbone.fpn_lateral5.bias\u001b[0m\n",
      "  \u001b[35mbackbone.fpn_output5.bias\u001b[0m\n",
      " 17%|██████▌                                | 165/987 [13:25<1:07:22,  4.92s/it]"
     ]
    },
    {
     "name": "stdout",
     "output_type": "stream",
     "text": [
      "31_07_1936_00000014\n",
      "Pages/31_07_1936_00000014.tif.large.jpg\n"
     ]
    },
    {
     "name": "stderr",
     "output_type": "stream",
     "text": [
      "The checkpoint state_dict contains keys that are not used by the model:\n",
      "  \u001b[35mbackbone.fpn_lateral2.bias\u001b[0m\n",
      "  \u001b[35mbackbone.fpn_output2.bias\u001b[0m\n",
      "  \u001b[35mbackbone.fpn_lateral3.bias\u001b[0m\n",
      "  \u001b[35mbackbone.fpn_output3.bias\u001b[0m\n",
      "  \u001b[35mbackbone.fpn_lateral4.bias\u001b[0m\n",
      "  \u001b[35mbackbone.fpn_output4.bias\u001b[0m\n",
      "  \u001b[35mbackbone.fpn_lateral5.bias\u001b[0m\n",
      "  \u001b[35mbackbone.fpn_output5.bias\u001b[0m\n",
      " 17%|██████▌                                | 166/987 [13:29<1:05:41,  4.80s/it]"
     ]
    },
    {
     "name": "stdout",
     "output_type": "stream",
     "text": [
      "01_09_1936_00000008\n",
      "Pages/01_09_1936_00000008.tif.large.jpg\n"
     ]
    },
    {
     "name": "stderr",
     "output_type": "stream",
     "text": [
      "The checkpoint state_dict contains keys that are not used by the model:\n",
      "  \u001b[35mbackbone.fpn_lateral2.bias\u001b[0m\n",
      "  \u001b[35mbackbone.fpn_output2.bias\u001b[0m\n",
      "  \u001b[35mbackbone.fpn_lateral3.bias\u001b[0m\n",
      "  \u001b[35mbackbone.fpn_output3.bias\u001b[0m\n",
      "  \u001b[35mbackbone.fpn_lateral4.bias\u001b[0m\n",
      "  \u001b[35mbackbone.fpn_output4.bias\u001b[0m\n",
      "  \u001b[35mbackbone.fpn_lateral5.bias\u001b[0m\n",
      "  \u001b[35mbackbone.fpn_output5.bias\u001b[0m\n",
      " 17%|██████▌                                | 167/987 [13:34<1:04:26,  4.72s/it]"
     ]
    },
    {
     "name": "stdout",
     "output_type": "stream",
     "text": [
      "08_04_1936_00000010\n",
      "Pages/08_04_1936_00000010.tif.large.jpg\n"
     ]
    },
    {
     "name": "stderr",
     "output_type": "stream",
     "text": [
      "The checkpoint state_dict contains keys that are not used by the model:\n",
      "  \u001b[35mbackbone.fpn_lateral2.bias\u001b[0m\n",
      "  \u001b[35mbackbone.fpn_output2.bias\u001b[0m\n",
      "  \u001b[35mbackbone.fpn_lateral3.bias\u001b[0m\n",
      "  \u001b[35mbackbone.fpn_output3.bias\u001b[0m\n",
      "  \u001b[35mbackbone.fpn_lateral4.bias\u001b[0m\n",
      "  \u001b[35mbackbone.fpn_output4.bias\u001b[0m\n",
      "  \u001b[35mbackbone.fpn_lateral5.bias\u001b[0m\n",
      "  \u001b[35mbackbone.fpn_output5.bias\u001b[0m\n",
      " 17%|██████▋                                | 168/987 [13:38<1:03:41,  4.67s/it]"
     ]
    },
    {
     "name": "stdout",
     "output_type": "stream",
     "text": [
      "11_04_1936_00000007\n",
      "Pages/11_04_1936_00000007.tif.large.jpg\n"
     ]
    },
    {
     "name": "stderr",
     "output_type": "stream",
     "text": [
      "The checkpoint state_dict contains keys that are not used by the model:\n",
      "  \u001b[35mbackbone.fpn_lateral2.bias\u001b[0m\n",
      "  \u001b[35mbackbone.fpn_output2.bias\u001b[0m\n",
      "  \u001b[35mbackbone.fpn_lateral3.bias\u001b[0m\n",
      "  \u001b[35mbackbone.fpn_output3.bias\u001b[0m\n",
      "  \u001b[35mbackbone.fpn_lateral4.bias\u001b[0m\n",
      "  \u001b[35mbackbone.fpn_output4.bias\u001b[0m\n",
      "  \u001b[35mbackbone.fpn_lateral5.bias\u001b[0m\n",
      "  \u001b[35mbackbone.fpn_output5.bias\u001b[0m\n",
      " 17%|██████▋                                | 169/987 [13:43<1:02:46,  4.60s/it]"
     ]
    },
    {
     "name": "stdout",
     "output_type": "stream",
     "text": [
      "04_12_1936_00000007\n",
      "Pages/04_12_1936_00000007.tif.large.jpg\n"
     ]
    },
    {
     "name": "stderr",
     "output_type": "stream",
     "text": [
      "The checkpoint state_dict contains keys that are not used by the model:\n",
      "  \u001b[35mbackbone.fpn_lateral2.bias\u001b[0m\n",
      "  \u001b[35mbackbone.fpn_output2.bias\u001b[0m\n",
      "  \u001b[35mbackbone.fpn_lateral3.bias\u001b[0m\n",
      "  \u001b[35mbackbone.fpn_output3.bias\u001b[0m\n",
      "  \u001b[35mbackbone.fpn_lateral4.bias\u001b[0m\n",
      "  \u001b[35mbackbone.fpn_output4.bias\u001b[0m\n",
      "  \u001b[35mbackbone.fpn_lateral5.bias\u001b[0m\n",
      "  \u001b[35mbackbone.fpn_output5.bias\u001b[0m\n",
      " 17%|██████▋                                | 170/987 [13:47<1:02:13,  4.57s/it]"
     ]
    },
    {
     "name": "stdout",
     "output_type": "stream",
     "text": [
      "05_08_1936_00000001\n",
      "Pages/05_08_1936_00000001.tif.large.jpg\n"
     ]
    },
    {
     "name": "stderr",
     "output_type": "stream",
     "text": [
      "The checkpoint state_dict contains keys that are not used by the model:\n",
      "  \u001b[35mbackbone.fpn_lateral2.bias\u001b[0m\n",
      "  \u001b[35mbackbone.fpn_output2.bias\u001b[0m\n",
      "  \u001b[35mbackbone.fpn_lateral3.bias\u001b[0m\n",
      "  \u001b[35mbackbone.fpn_output3.bias\u001b[0m\n",
      "  \u001b[35mbackbone.fpn_lateral4.bias\u001b[0m\n",
      "  \u001b[35mbackbone.fpn_output4.bias\u001b[0m\n",
      "  \u001b[35mbackbone.fpn_lateral5.bias\u001b[0m\n",
      "  \u001b[35mbackbone.fpn_output5.bias\u001b[0m\n",
      " 17%|██████▊                                | 171/987 [13:52<1:01:38,  4.53s/it]"
     ]
    },
    {
     "name": "stdout",
     "output_type": "stream",
     "text": [
      "17_02_1936_00000002\n",
      "Pages/17_02_1936_00000002.tif.large.jpg\n"
     ]
    },
    {
     "name": "stderr",
     "output_type": "stream",
     "text": [
      "The checkpoint state_dict contains keys that are not used by the model:\n",
      "  \u001b[35mbackbone.fpn_lateral2.bias\u001b[0m\n",
      "  \u001b[35mbackbone.fpn_output2.bias\u001b[0m\n",
      "  \u001b[35mbackbone.fpn_lateral3.bias\u001b[0m\n",
      "  \u001b[35mbackbone.fpn_output3.bias\u001b[0m\n",
      "  \u001b[35mbackbone.fpn_lateral4.bias\u001b[0m\n",
      "  \u001b[35mbackbone.fpn_output4.bias\u001b[0m\n",
      "  \u001b[35mbackbone.fpn_lateral5.bias\u001b[0m\n",
      "  \u001b[35mbackbone.fpn_output5.bias\u001b[0m\n",
      " 17%|██████▊                                | 172/987 [13:56<1:01:28,  4.53s/it]"
     ]
    },
    {
     "name": "stdout",
     "output_type": "stream",
     "text": [
      "04_12_1936_00000003\n",
      "Pages/04_12_1936_00000003.tif.large.jpg\n"
     ]
    },
    {
     "name": "stderr",
     "output_type": "stream",
     "text": [
      "The checkpoint state_dict contains keys that are not used by the model:\n",
      "  \u001b[35mbackbone.fpn_lateral2.bias\u001b[0m\n",
      "  \u001b[35mbackbone.fpn_output2.bias\u001b[0m\n",
      "  \u001b[35mbackbone.fpn_lateral3.bias\u001b[0m\n",
      "  \u001b[35mbackbone.fpn_output3.bias\u001b[0m\n",
      "  \u001b[35mbackbone.fpn_lateral4.bias\u001b[0m\n",
      "  \u001b[35mbackbone.fpn_output4.bias\u001b[0m\n",
      "  \u001b[35mbackbone.fpn_lateral5.bias\u001b[0m\n",
      "  \u001b[35mbackbone.fpn_output5.bias\u001b[0m\n",
      " 18%|██████▊                                | 173/987 [14:01<1:01:11,  4.51s/it]"
     ]
    },
    {
     "name": "stdout",
     "output_type": "stream",
     "text": [
      "25_03_1936_00000021\n",
      "Pages/25_03_1936_00000021.tif.large.jpg\n"
     ]
    },
    {
     "name": "stderr",
     "output_type": "stream",
     "text": [
      "The checkpoint state_dict contains keys that are not used by the model:\n",
      "  \u001b[35mbackbone.fpn_lateral2.bias\u001b[0m\n",
      "  \u001b[35mbackbone.fpn_output2.bias\u001b[0m\n",
      "  \u001b[35mbackbone.fpn_lateral3.bias\u001b[0m\n",
      "  \u001b[35mbackbone.fpn_output3.bias\u001b[0m\n",
      "  \u001b[35mbackbone.fpn_lateral4.bias\u001b[0m\n",
      "  \u001b[35mbackbone.fpn_output4.bias\u001b[0m\n",
      "  \u001b[35mbackbone.fpn_lateral5.bias\u001b[0m\n",
      "  \u001b[35mbackbone.fpn_output5.bias\u001b[0m\n",
      " 18%|██████▉                                | 174/987 [14:05<1:01:22,  4.53s/it]"
     ]
    },
    {
     "name": "stdout",
     "output_type": "stream",
     "text": [
      "25_08_1936_00000004\n",
      "Pages/25_08_1936_00000004.tif.large.jpg\n"
     ]
    },
    {
     "name": "stderr",
     "output_type": "stream",
     "text": [
      "The checkpoint state_dict contains keys that are not used by the model:\n",
      "  \u001b[35mbackbone.fpn_lateral2.bias\u001b[0m\n",
      "  \u001b[35mbackbone.fpn_output2.bias\u001b[0m\n",
      "  \u001b[35mbackbone.fpn_lateral3.bias\u001b[0m\n",
      "  \u001b[35mbackbone.fpn_output3.bias\u001b[0m\n",
      "  \u001b[35mbackbone.fpn_lateral4.bias\u001b[0m\n",
      "  \u001b[35mbackbone.fpn_output4.bias\u001b[0m\n",
      "  \u001b[35mbackbone.fpn_lateral5.bias\u001b[0m\n",
      "  \u001b[35mbackbone.fpn_output5.bias\u001b[0m\n",
      " 18%|██████▉                                | 175/987 [14:10<1:01:19,  4.53s/it]"
     ]
    },
    {
     "name": "stdout",
     "output_type": "stream",
     "text": [
      "06_03_1936_00000005\n",
      "Pages/06_03_1936_00000005.tif.large.jpg\n"
     ]
    },
    {
     "name": "stderr",
     "output_type": "stream",
     "text": [
      "The checkpoint state_dict contains keys that are not used by the model:\n",
      "  \u001b[35mbackbone.fpn_lateral2.bias\u001b[0m\n",
      "  \u001b[35mbackbone.fpn_output2.bias\u001b[0m\n",
      "  \u001b[35mbackbone.fpn_lateral3.bias\u001b[0m\n",
      "  \u001b[35mbackbone.fpn_output3.bias\u001b[0m\n",
      "  \u001b[35mbackbone.fpn_lateral4.bias\u001b[0m\n",
      "  \u001b[35mbackbone.fpn_output4.bias\u001b[0m\n",
      "  \u001b[35mbackbone.fpn_lateral5.bias\u001b[0m\n",
      "  \u001b[35mbackbone.fpn_output5.bias\u001b[0m\n",
      " 18%|██████▉                                | 176/987 [14:14<1:01:06,  4.52s/it]"
     ]
    },
    {
     "name": "stdout",
     "output_type": "stream",
     "text": [
      "27_03_1936_00000006\n",
      "Pages/27_03_1936_00000006.tif.large.jpg\n"
     ]
    },
    {
     "name": "stderr",
     "output_type": "stream",
     "text": [
      "The checkpoint state_dict contains keys that are not used by the model:\n",
      "  \u001b[35mbackbone.fpn_lateral2.bias\u001b[0m\n",
      "  \u001b[35mbackbone.fpn_output2.bias\u001b[0m\n",
      "  \u001b[35mbackbone.fpn_lateral3.bias\u001b[0m\n",
      "  \u001b[35mbackbone.fpn_output3.bias\u001b[0m\n",
      "  \u001b[35mbackbone.fpn_lateral4.bias\u001b[0m\n",
      "  \u001b[35mbackbone.fpn_output4.bias\u001b[0m\n",
      "  \u001b[35mbackbone.fpn_lateral5.bias\u001b[0m\n",
      "  \u001b[35mbackbone.fpn_output5.bias\u001b[0m\n",
      " 18%|██████▉                                | 177/987 [14:19<1:00:25,  4.48s/it]"
     ]
    },
    {
     "name": "stdout",
     "output_type": "stream",
     "text": [
      "28_04_1936_00000009\n",
      "Pages/28_04_1936_00000009.tif.large.jpg\n"
     ]
    },
    {
     "name": "stderr",
     "output_type": "stream",
     "text": [
      "The checkpoint state_dict contains keys that are not used by the model:\n",
      "  \u001b[35mbackbone.fpn_lateral2.bias\u001b[0m\n",
      "  \u001b[35mbackbone.fpn_output2.bias\u001b[0m\n",
      "  \u001b[35mbackbone.fpn_lateral3.bias\u001b[0m\n",
      "  \u001b[35mbackbone.fpn_output3.bias\u001b[0m\n",
      "  \u001b[35mbackbone.fpn_lateral4.bias\u001b[0m\n",
      "  \u001b[35mbackbone.fpn_output4.bias\u001b[0m\n",
      "  \u001b[35mbackbone.fpn_lateral5.bias\u001b[0m\n",
      "  \u001b[35mbackbone.fpn_output5.bias\u001b[0m\n",
      " 18%|███████                                | 178/987 [14:23<1:00:41,  4.50s/it]"
     ]
    },
    {
     "name": "stdout",
     "output_type": "stream",
     "text": [
      "07_09_1936_00000002\n",
      "Pages/07_09_1936_00000002.tif.large.jpg\n"
     ]
    },
    {
     "name": "stderr",
     "output_type": "stream",
     "text": [
      "The checkpoint state_dict contains keys that are not used by the model:\n",
      "  \u001b[35mbackbone.fpn_lateral2.bias\u001b[0m\n",
      "  \u001b[35mbackbone.fpn_output2.bias\u001b[0m\n",
      "  \u001b[35mbackbone.fpn_lateral3.bias\u001b[0m\n",
      "  \u001b[35mbackbone.fpn_output3.bias\u001b[0m\n",
      "  \u001b[35mbackbone.fpn_lateral4.bias\u001b[0m\n",
      "  \u001b[35mbackbone.fpn_output4.bias\u001b[0m\n",
      "  \u001b[35mbackbone.fpn_lateral5.bias\u001b[0m\n",
      "  \u001b[35mbackbone.fpn_output5.bias\u001b[0m\n",
      " 18%|███████                                | 179/987 [14:28<1:00:38,  4.50s/it]"
     ]
    },
    {
     "name": "stdout",
     "output_type": "stream",
     "text": [
      "20_07_1936_00000006\n",
      "Pages/20_07_1936_00000006.tif.large.jpg\n"
     ]
    },
    {
     "name": "stderr",
     "output_type": "stream",
     "text": [
      "The checkpoint state_dict contains keys that are not used by the model:\n",
      "  \u001b[35mbackbone.fpn_lateral2.bias\u001b[0m\n",
      "  \u001b[35mbackbone.fpn_output2.bias\u001b[0m\n",
      "  \u001b[35mbackbone.fpn_lateral3.bias\u001b[0m\n",
      "  \u001b[35mbackbone.fpn_output3.bias\u001b[0m\n",
      "  \u001b[35mbackbone.fpn_lateral4.bias\u001b[0m\n",
      "  \u001b[35mbackbone.fpn_output4.bias\u001b[0m\n",
      "  \u001b[35mbackbone.fpn_lateral5.bias\u001b[0m\n",
      "  \u001b[35mbackbone.fpn_output5.bias\u001b[0m\n",
      " 18%|███████                                | 180/987 [14:32<1:00:34,  4.50s/it]"
     ]
    },
    {
     "name": "stdout",
     "output_type": "stream",
     "text": [
      "12_04_1936_00000046\n",
      "Pages/12_04_1936_00000046.tif.large.jpg\n"
     ]
    },
    {
     "name": "stderr",
     "output_type": "stream",
     "text": [
      "The checkpoint state_dict contains keys that are not used by the model:\n",
      "  \u001b[35mbackbone.fpn_lateral2.bias\u001b[0m\n",
      "  \u001b[35mbackbone.fpn_output2.bias\u001b[0m\n",
      "  \u001b[35mbackbone.fpn_lateral3.bias\u001b[0m\n",
      "  \u001b[35mbackbone.fpn_output3.bias\u001b[0m\n",
      "  \u001b[35mbackbone.fpn_lateral4.bias\u001b[0m\n",
      "  \u001b[35mbackbone.fpn_output4.bias\u001b[0m\n",
      "  \u001b[35mbackbone.fpn_lateral5.bias\u001b[0m\n",
      "  \u001b[35mbackbone.fpn_output5.bias\u001b[0m\n",
      " 18%|███████▌                                 | 181/987 [14:37<59:51,  4.46s/it]"
     ]
    },
    {
     "name": "stdout",
     "output_type": "stream",
     "text": [
      "17_03_1936_00000012\n",
      "Pages/17_03_1936_00000012.tif.large.jpg\n"
     ]
    },
    {
     "name": "stderr",
     "output_type": "stream",
     "text": [
      "The checkpoint state_dict contains keys that are not used by the model:\n",
      "  \u001b[35mbackbone.fpn_lateral2.bias\u001b[0m\n",
      "  \u001b[35mbackbone.fpn_output2.bias\u001b[0m\n",
      "  \u001b[35mbackbone.fpn_lateral3.bias\u001b[0m\n",
      "  \u001b[35mbackbone.fpn_output3.bias\u001b[0m\n",
      "  \u001b[35mbackbone.fpn_lateral4.bias\u001b[0m\n",
      "  \u001b[35mbackbone.fpn_output4.bias\u001b[0m\n",
      "  \u001b[35mbackbone.fpn_lateral5.bias\u001b[0m\n",
      "  \u001b[35mbackbone.fpn_output5.bias\u001b[0m\n",
      " 18%|███████▌                                 | 182/987 [14:41<59:58,  4.47s/it]"
     ]
    },
    {
     "name": "stdout",
     "output_type": "stream",
     "text": [
      "09_11_1936_00000013\n",
      "Pages/09_11_1936_00000013.tif.large.jpg\n"
     ]
    },
    {
     "name": "stderr",
     "output_type": "stream",
     "text": [
      "The checkpoint state_dict contains keys that are not used by the model:\n",
      "  \u001b[35mbackbone.fpn_lateral2.bias\u001b[0m\n",
      "  \u001b[35mbackbone.fpn_output2.bias\u001b[0m\n",
      "  \u001b[35mbackbone.fpn_lateral3.bias\u001b[0m\n",
      "  \u001b[35mbackbone.fpn_output3.bias\u001b[0m\n",
      "  \u001b[35mbackbone.fpn_lateral4.bias\u001b[0m\n",
      "  \u001b[35mbackbone.fpn_output4.bias\u001b[0m\n",
      "  \u001b[35mbackbone.fpn_lateral5.bias\u001b[0m\n",
      "  \u001b[35mbackbone.fpn_output5.bias\u001b[0m\n",
      " 19%|███████▏                               | 183/987 [14:46<1:01:17,  4.57s/it]"
     ]
    },
    {
     "name": "stdout",
     "output_type": "stream",
     "text": [
      "06_01_1936_00000007\n",
      "Pages/06_01_1936_00000007.tif.large.jpg\n"
     ]
    },
    {
     "name": "stderr",
     "output_type": "stream",
     "text": [
      "The checkpoint state_dict contains keys that are not used by the model:\n",
      "  \u001b[35mbackbone.fpn_lateral2.bias\u001b[0m\n",
      "  \u001b[35mbackbone.fpn_output2.bias\u001b[0m\n",
      "  \u001b[35mbackbone.fpn_lateral3.bias\u001b[0m\n",
      "  \u001b[35mbackbone.fpn_output3.bias\u001b[0m\n",
      "  \u001b[35mbackbone.fpn_lateral4.bias\u001b[0m\n",
      "  \u001b[35mbackbone.fpn_output4.bias\u001b[0m\n",
      "  \u001b[35mbackbone.fpn_lateral5.bias\u001b[0m\n",
      "  \u001b[35mbackbone.fpn_output5.bias\u001b[0m\n",
      " 19%|███████▎                               | 184/987 [14:50<1:01:08,  4.57s/it]"
     ]
    },
    {
     "name": "stdout",
     "output_type": "stream",
     "text": [
      "02_10_1936_00000018\n",
      "Pages/02_10_1936_00000018.tif.large.jpg\n"
     ]
    },
    {
     "name": "stderr",
     "output_type": "stream",
     "text": [
      "The checkpoint state_dict contains keys that are not used by the model:\n",
      "  \u001b[35mbackbone.fpn_lateral2.bias\u001b[0m\n",
      "  \u001b[35mbackbone.fpn_output2.bias\u001b[0m\n",
      "  \u001b[35mbackbone.fpn_lateral3.bias\u001b[0m\n",
      "  \u001b[35mbackbone.fpn_output3.bias\u001b[0m\n",
      "  \u001b[35mbackbone.fpn_lateral4.bias\u001b[0m\n",
      "  \u001b[35mbackbone.fpn_output4.bias\u001b[0m\n",
      "  \u001b[35mbackbone.fpn_lateral5.bias\u001b[0m\n",
      "  \u001b[35mbackbone.fpn_output5.bias\u001b[0m\n",
      " 19%|███████▎                               | 185/987 [14:55<1:00:22,  4.52s/it]"
     ]
    },
    {
     "name": "stdout",
     "output_type": "stream",
     "text": [
      "08_11_1936_00000007\n",
      "Pages/08_11_1936_00000007.tif.large.jpg\n"
     ]
    },
    {
     "name": "stderr",
     "output_type": "stream",
     "text": [
      "The checkpoint state_dict contains keys that are not used by the model:\n",
      "  \u001b[35mbackbone.fpn_lateral2.bias\u001b[0m\n",
      "  \u001b[35mbackbone.fpn_output2.bias\u001b[0m\n",
      "  \u001b[35mbackbone.fpn_lateral3.bias\u001b[0m\n",
      "  \u001b[35mbackbone.fpn_output3.bias\u001b[0m\n",
      "  \u001b[35mbackbone.fpn_lateral4.bias\u001b[0m\n",
      "  \u001b[35mbackbone.fpn_output4.bias\u001b[0m\n",
      "  \u001b[35mbackbone.fpn_lateral5.bias\u001b[0m\n",
      "  \u001b[35mbackbone.fpn_output5.bias\u001b[0m\n",
      " 19%|███████▎                               | 186/987 [14:59<1:00:34,  4.54s/it]"
     ]
    },
    {
     "name": "stdout",
     "output_type": "stream",
     "text": [
      "18_04_1936_00000002\n",
      "Pages/18_04_1936_00000002.tif.large.jpg\n"
     ]
    },
    {
     "name": "stderr",
     "output_type": "stream",
     "text": [
      "The checkpoint state_dict contains keys that are not used by the model:\n",
      "  \u001b[35mbackbone.fpn_lateral2.bias\u001b[0m\n",
      "  \u001b[35mbackbone.fpn_output2.bias\u001b[0m\n",
      "  \u001b[35mbackbone.fpn_lateral3.bias\u001b[0m\n",
      "  \u001b[35mbackbone.fpn_output3.bias\u001b[0m\n",
      "  \u001b[35mbackbone.fpn_lateral4.bias\u001b[0m\n",
      "  \u001b[35mbackbone.fpn_output4.bias\u001b[0m\n",
      "  \u001b[35mbackbone.fpn_lateral5.bias\u001b[0m\n",
      "  \u001b[35mbackbone.fpn_output5.bias\u001b[0m\n",
      " 19%|███████▍                               | 187/987 [15:04<1:00:28,  4.54s/it]"
     ]
    },
    {
     "name": "stdout",
     "output_type": "stream",
     "text": [
      "17_04_1936_00000013\n",
      "Pages/17_04_1936_00000013.tif.large.jpg\n"
     ]
    },
    {
     "name": "stderr",
     "output_type": "stream",
     "text": [
      "The checkpoint state_dict contains keys that are not used by the model:\n",
      "  \u001b[35mbackbone.fpn_lateral2.bias\u001b[0m\n",
      "  \u001b[35mbackbone.fpn_output2.bias\u001b[0m\n",
      "  \u001b[35mbackbone.fpn_lateral3.bias\u001b[0m\n",
      "  \u001b[35mbackbone.fpn_output3.bias\u001b[0m\n",
      "  \u001b[35mbackbone.fpn_lateral4.bias\u001b[0m\n",
      "  \u001b[35mbackbone.fpn_output4.bias\u001b[0m\n",
      "  \u001b[35mbackbone.fpn_lateral5.bias\u001b[0m\n",
      "  \u001b[35mbackbone.fpn_output5.bias\u001b[0m\n",
      " 19%|███████▍                               | 188/987 [15:08<1:00:27,  4.54s/it]"
     ]
    },
    {
     "name": "stdout",
     "output_type": "stream",
     "text": [
      "04_02_1936_00000006\n",
      "Pages/04_02_1936_00000006.tif.large.jpg\n"
     ]
    },
    {
     "name": "stderr",
     "output_type": "stream",
     "text": [
      "The checkpoint state_dict contains keys that are not used by the model:\n",
      "  \u001b[35mbackbone.fpn_lateral2.bias\u001b[0m\n",
      "  \u001b[35mbackbone.fpn_output2.bias\u001b[0m\n",
      "  \u001b[35mbackbone.fpn_lateral3.bias\u001b[0m\n",
      "  \u001b[35mbackbone.fpn_output3.bias\u001b[0m\n",
      "  \u001b[35mbackbone.fpn_lateral4.bias\u001b[0m\n",
      "  \u001b[35mbackbone.fpn_output4.bias\u001b[0m\n",
      "  \u001b[35mbackbone.fpn_lateral5.bias\u001b[0m\n",
      "  \u001b[35mbackbone.fpn_output5.bias\u001b[0m\n",
      " 19%|███████▍                               | 189/987 [15:13<1:00:23,  4.54s/it]"
     ]
    },
    {
     "name": "stdout",
     "output_type": "stream",
     "text": [
      "28_08_1936_00000002\n",
      "Pages/28_08_1936_00000002.tif.large.jpg\n"
     ]
    },
    {
     "name": "stderr",
     "output_type": "stream",
     "text": [
      "The checkpoint state_dict contains keys that are not used by the model:\n",
      "  \u001b[35mbackbone.fpn_lateral2.bias\u001b[0m\n",
      "  \u001b[35mbackbone.fpn_output2.bias\u001b[0m\n",
      "  \u001b[35mbackbone.fpn_lateral3.bias\u001b[0m\n",
      "  \u001b[35mbackbone.fpn_output3.bias\u001b[0m\n",
      "  \u001b[35mbackbone.fpn_lateral4.bias\u001b[0m\n",
      "  \u001b[35mbackbone.fpn_output4.bias\u001b[0m\n",
      "  \u001b[35mbackbone.fpn_lateral5.bias\u001b[0m\n",
      "  \u001b[35mbackbone.fpn_output5.bias\u001b[0m\n",
      " 19%|███████▌                               | 190/987 [15:18<1:01:15,  4.61s/it]"
     ]
    },
    {
     "name": "stdout",
     "output_type": "stream",
     "text": [
      "04_12_1936_00000012\n",
      "Pages/04_12_1936_00000012.tif.large.jpg\n"
     ]
    },
    {
     "name": "stderr",
     "output_type": "stream",
     "text": [
      "The checkpoint state_dict contains keys that are not used by the model:\n",
      "  \u001b[35mbackbone.fpn_lateral2.bias\u001b[0m\n",
      "  \u001b[35mbackbone.fpn_output2.bias\u001b[0m\n",
      "  \u001b[35mbackbone.fpn_lateral3.bias\u001b[0m\n",
      "  \u001b[35mbackbone.fpn_output3.bias\u001b[0m\n",
      "  \u001b[35mbackbone.fpn_lateral4.bias\u001b[0m\n",
      "  \u001b[35mbackbone.fpn_output4.bias\u001b[0m\n",
      "  \u001b[35mbackbone.fpn_lateral5.bias\u001b[0m\n",
      "  \u001b[35mbackbone.fpn_output5.bias\u001b[0m\n",
      " 19%|███████▌                               | 191/987 [15:23<1:05:04,  4.91s/it]"
     ]
    },
    {
     "name": "stdout",
     "output_type": "stream",
     "text": [
      "14_08_1936_00000008\n",
      "Pages/14_08_1936_00000008.tif.large.jpg\n"
     ]
    },
    {
     "name": "stderr",
     "output_type": "stream",
     "text": [
      "The checkpoint state_dict contains keys that are not used by the model:\n",
      "  \u001b[35mbackbone.fpn_lateral2.bias\u001b[0m\n",
      "  \u001b[35mbackbone.fpn_output2.bias\u001b[0m\n",
      "  \u001b[35mbackbone.fpn_lateral3.bias\u001b[0m\n",
      "  \u001b[35mbackbone.fpn_output3.bias\u001b[0m\n",
      "  \u001b[35mbackbone.fpn_lateral4.bias\u001b[0m\n",
      "  \u001b[35mbackbone.fpn_output4.bias\u001b[0m\n",
      "  \u001b[35mbackbone.fpn_lateral5.bias\u001b[0m\n",
      "  \u001b[35mbackbone.fpn_output5.bias\u001b[0m\n",
      " 19%|███████▌                               | 192/987 [15:31<1:16:05,  5.74s/it]"
     ]
    },
    {
     "name": "stdout",
     "output_type": "stream",
     "text": [
      "27_11_1936_00000007\n",
      "Pages/27_11_1936_00000007.tif.large.jpg\n"
     ]
    },
    {
     "name": "stderr",
     "output_type": "stream",
     "text": [
      "The checkpoint state_dict contains keys that are not used by the model:\n",
      "  \u001b[35mbackbone.fpn_lateral2.bias\u001b[0m\n",
      "  \u001b[35mbackbone.fpn_output2.bias\u001b[0m\n",
      "  \u001b[35mbackbone.fpn_lateral3.bias\u001b[0m\n",
      "  \u001b[35mbackbone.fpn_output3.bias\u001b[0m\n",
      "  \u001b[35mbackbone.fpn_lateral4.bias\u001b[0m\n",
      "  \u001b[35mbackbone.fpn_output4.bias\u001b[0m\n",
      "  \u001b[35mbackbone.fpn_lateral5.bias\u001b[0m\n",
      "  \u001b[35mbackbone.fpn_output5.bias\u001b[0m\n",
      " 20%|███████▋                               | 193/987 [15:39<1:23:22,  6.30s/it]"
     ]
    },
    {
     "name": "stdout",
     "output_type": "stream",
     "text": [
      "28_09_1936_00000006\n",
      "Pages/28_09_1936_00000006.tif.large.jpg\n"
     ]
    },
    {
     "name": "stderr",
     "output_type": "stream",
     "text": [
      "The checkpoint state_dict contains keys that are not used by the model:\n",
      "  \u001b[35mbackbone.fpn_lateral2.bias\u001b[0m\n",
      "  \u001b[35mbackbone.fpn_output2.bias\u001b[0m\n",
      "  \u001b[35mbackbone.fpn_lateral3.bias\u001b[0m\n",
      "  \u001b[35mbackbone.fpn_output3.bias\u001b[0m\n",
      "  \u001b[35mbackbone.fpn_lateral4.bias\u001b[0m\n",
      "  \u001b[35mbackbone.fpn_output4.bias\u001b[0m\n",
      "  \u001b[35mbackbone.fpn_lateral5.bias\u001b[0m\n",
      "  \u001b[35mbackbone.fpn_output5.bias\u001b[0m\n",
      " 20%|███████▋                               | 194/987 [15:46<1:26:24,  6.54s/it]"
     ]
    },
    {
     "name": "stdout",
     "output_type": "stream",
     "text": [
      "27_10_1936_00000006\n",
      "Pages/27_10_1936_00000006.tif.large.jpg\n"
     ]
    },
    {
     "name": "stderr",
     "output_type": "stream",
     "text": [
      "The checkpoint state_dict contains keys that are not used by the model:\n",
      "  \u001b[35mbackbone.fpn_lateral2.bias\u001b[0m\n",
      "  \u001b[35mbackbone.fpn_output2.bias\u001b[0m\n",
      "  \u001b[35mbackbone.fpn_lateral3.bias\u001b[0m\n",
      "  \u001b[35mbackbone.fpn_output3.bias\u001b[0m\n",
      "  \u001b[35mbackbone.fpn_lateral4.bias\u001b[0m\n",
      "  \u001b[35mbackbone.fpn_output4.bias\u001b[0m\n",
      "  \u001b[35mbackbone.fpn_lateral5.bias\u001b[0m\n",
      "  \u001b[35mbackbone.fpn_output5.bias\u001b[0m\n",
      " 20%|███████▋                               | 195/987 [15:53<1:29:30,  6.78s/it]"
     ]
    },
    {
     "name": "stdout",
     "output_type": "stream",
     "text": [
      "11_10_1936_00000006\n",
      "Pages/11_10_1936_00000006.tif.large.jpg\n"
     ]
    },
    {
     "name": "stderr",
     "output_type": "stream",
     "text": [
      "The checkpoint state_dict contains keys that are not used by the model:\n",
      "  \u001b[35mbackbone.fpn_lateral2.bias\u001b[0m\n",
      "  \u001b[35mbackbone.fpn_output2.bias\u001b[0m\n",
      "  \u001b[35mbackbone.fpn_lateral3.bias\u001b[0m\n",
      "  \u001b[35mbackbone.fpn_output3.bias\u001b[0m\n",
      "  \u001b[35mbackbone.fpn_lateral4.bias\u001b[0m\n",
      "  \u001b[35mbackbone.fpn_output4.bias\u001b[0m\n",
      "  \u001b[35mbackbone.fpn_lateral5.bias\u001b[0m\n",
      "  \u001b[35mbackbone.fpn_output5.bias\u001b[0m\n",
      " 20%|███████▋                               | 196/987 [15:58<1:21:01,  6.15s/it]"
     ]
    },
    {
     "name": "stdout",
     "output_type": "stream",
     "text": [
      "16_04_1936_00000003\n",
      "Pages/16_04_1936_00000003.tif.large.jpg\n"
     ]
    },
    {
     "name": "stderr",
     "output_type": "stream",
     "text": [
      "The checkpoint state_dict contains keys that are not used by the model:\n",
      "  \u001b[35mbackbone.fpn_lateral2.bias\u001b[0m\n",
      "  \u001b[35mbackbone.fpn_output2.bias\u001b[0m\n",
      "  \u001b[35mbackbone.fpn_lateral3.bias\u001b[0m\n",
      "  \u001b[35mbackbone.fpn_output3.bias\u001b[0m\n",
      "  \u001b[35mbackbone.fpn_lateral4.bias\u001b[0m\n",
      "  \u001b[35mbackbone.fpn_output4.bias\u001b[0m\n",
      "  \u001b[35mbackbone.fpn_lateral5.bias\u001b[0m\n",
      "  \u001b[35mbackbone.fpn_output5.bias\u001b[0m\n",
      " 20%|███████▊                               | 197/987 [16:03<1:17:16,  5.87s/it]"
     ]
    },
    {
     "name": "stdout",
     "output_type": "stream",
     "text": [
      "23_04_1936_00000002\n",
      "Pages/23_04_1936_00000002.tif.large.jpg\n"
     ]
    },
    {
     "name": "stderr",
     "output_type": "stream",
     "text": [
      "The checkpoint state_dict contains keys that are not used by the model:\n",
      "  \u001b[35mbackbone.fpn_lateral2.bias\u001b[0m\n",
      "  \u001b[35mbackbone.fpn_output2.bias\u001b[0m\n",
      "  \u001b[35mbackbone.fpn_lateral3.bias\u001b[0m\n",
      "  \u001b[35mbackbone.fpn_output3.bias\u001b[0m\n",
      "  \u001b[35mbackbone.fpn_lateral4.bias\u001b[0m\n",
      "  \u001b[35mbackbone.fpn_output4.bias\u001b[0m\n",
      "  \u001b[35mbackbone.fpn_lateral5.bias\u001b[0m\n",
      "  \u001b[35mbackbone.fpn_output5.bias\u001b[0m\n",
      " 20%|███████▊                               | 198/987 [16:10<1:21:42,  6.21s/it]"
     ]
    },
    {
     "name": "stdout",
     "output_type": "stream",
     "text": [
      "02_12_1936_00000005\n",
      "Pages/02_12_1936_00000005.tif.large.jpg\n"
     ]
    },
    {
     "name": "stderr",
     "output_type": "stream",
     "text": [
      "The checkpoint state_dict contains keys that are not used by the model:\n",
      "  \u001b[35mbackbone.fpn_lateral2.bias\u001b[0m\n",
      "  \u001b[35mbackbone.fpn_output2.bias\u001b[0m\n",
      "  \u001b[35mbackbone.fpn_lateral3.bias\u001b[0m\n",
      "  \u001b[35mbackbone.fpn_output3.bias\u001b[0m\n",
      "  \u001b[35mbackbone.fpn_lateral4.bias\u001b[0m\n",
      "  \u001b[35mbackbone.fpn_output4.bias\u001b[0m\n",
      "  \u001b[35mbackbone.fpn_lateral5.bias\u001b[0m\n",
      "  \u001b[35mbackbone.fpn_output5.bias\u001b[0m\n",
      " 20%|███████▊                               | 199/987 [16:16<1:19:22,  6.04s/it]"
     ]
    },
    {
     "name": "stdout",
     "output_type": "stream",
     "text": [
      "15_08_1936_00000002\n",
      "Pages/15_08_1936_00000002.tif.large.jpg\n"
     ]
    },
    {
     "name": "stderr",
     "output_type": "stream",
     "text": [
      "The checkpoint state_dict contains keys that are not used by the model:\n",
      "  \u001b[35mbackbone.fpn_lateral2.bias\u001b[0m\n",
      "  \u001b[35mbackbone.fpn_output2.bias\u001b[0m\n",
      "  \u001b[35mbackbone.fpn_lateral3.bias\u001b[0m\n",
      "  \u001b[35mbackbone.fpn_output3.bias\u001b[0m\n",
      "  \u001b[35mbackbone.fpn_lateral4.bias\u001b[0m\n",
      "  \u001b[35mbackbone.fpn_output4.bias\u001b[0m\n",
      "  \u001b[35mbackbone.fpn_lateral5.bias\u001b[0m\n",
      "  \u001b[35mbackbone.fpn_output5.bias\u001b[0m\n",
      " 20%|███████▉                               | 200/987 [16:21<1:17:59,  5.95s/it]"
     ]
    },
    {
     "name": "stdout",
     "output_type": "stream",
     "text": [
      "04_08_1936_00000013\n",
      "Pages/04_08_1936_00000013.tif.large.jpg\n"
     ]
    },
    {
     "name": "stderr",
     "output_type": "stream",
     "text": [
      "The checkpoint state_dict contains keys that are not used by the model:\n",
      "  \u001b[35mbackbone.fpn_lateral2.bias\u001b[0m\n",
      "  \u001b[35mbackbone.fpn_output2.bias\u001b[0m\n",
      "  \u001b[35mbackbone.fpn_lateral3.bias\u001b[0m\n",
      "  \u001b[35mbackbone.fpn_output3.bias\u001b[0m\n",
      "  \u001b[35mbackbone.fpn_lateral4.bias\u001b[0m\n",
      "  \u001b[35mbackbone.fpn_output4.bias\u001b[0m\n",
      "  \u001b[35mbackbone.fpn_lateral5.bias\u001b[0m\n",
      "  \u001b[35mbackbone.fpn_output5.bias\u001b[0m\n",
      " 20%|███████▉                               | 201/987 [16:27<1:14:52,  5.72s/it]"
     ]
    },
    {
     "name": "stdout",
     "output_type": "stream",
     "text": [
      "14_02_1936_00000006\n",
      "Pages/14_02_1936_00000006.tif.large.jpg\n"
     ]
    },
    {
     "name": "stderr",
     "output_type": "stream",
     "text": [
      "The checkpoint state_dict contains keys that are not used by the model:\n",
      "  \u001b[35mbackbone.fpn_lateral2.bias\u001b[0m\n",
      "  \u001b[35mbackbone.fpn_output2.bias\u001b[0m\n",
      "  \u001b[35mbackbone.fpn_lateral3.bias\u001b[0m\n",
      "  \u001b[35mbackbone.fpn_output3.bias\u001b[0m\n",
      "  \u001b[35mbackbone.fpn_lateral4.bias\u001b[0m\n",
      "  \u001b[35mbackbone.fpn_output4.bias\u001b[0m\n",
      "  \u001b[35mbackbone.fpn_lateral5.bias\u001b[0m\n",
      "  \u001b[35mbackbone.fpn_output5.bias\u001b[0m\n",
      " 20%|███████▉                               | 202/987 [16:32<1:12:06,  5.51s/it]"
     ]
    },
    {
     "name": "stdout",
     "output_type": "stream",
     "text": [
      "14_08_1936_00000006\n",
      "Pages/14_08_1936_00000006.tif.large.jpg\n"
     ]
    },
    {
     "name": "stderr",
     "output_type": "stream",
     "text": [
      "The checkpoint state_dict contains keys that are not used by the model:\n",
      "  \u001b[35mbackbone.fpn_lateral2.bias\u001b[0m\n",
      "  \u001b[35mbackbone.fpn_output2.bias\u001b[0m\n",
      "  \u001b[35mbackbone.fpn_lateral3.bias\u001b[0m\n",
      "  \u001b[35mbackbone.fpn_output3.bias\u001b[0m\n",
      "  \u001b[35mbackbone.fpn_lateral4.bias\u001b[0m\n",
      "  \u001b[35mbackbone.fpn_output4.bias\u001b[0m\n",
      "  \u001b[35mbackbone.fpn_lateral5.bias\u001b[0m\n",
      "  \u001b[35mbackbone.fpn_output5.bias\u001b[0m\n",
      " 21%|████████                               | 203/987 [16:36<1:08:10,  5.22s/it]"
     ]
    },
    {
     "name": "stdout",
     "output_type": "stream",
     "text": [
      "19_08_1936_00000003\n",
      "Pages/19_08_1936_00000003.tif.large.jpg\n"
     ]
    },
    {
     "name": "stderr",
     "output_type": "stream",
     "text": [
      "The checkpoint state_dict contains keys that are not used by the model:\n",
      "  \u001b[35mbackbone.fpn_lateral2.bias\u001b[0m\n",
      "  \u001b[35mbackbone.fpn_output2.bias\u001b[0m\n",
      "  \u001b[35mbackbone.fpn_lateral3.bias\u001b[0m\n",
      "  \u001b[35mbackbone.fpn_output3.bias\u001b[0m\n",
      "  \u001b[35mbackbone.fpn_lateral4.bias\u001b[0m\n",
      "  \u001b[35mbackbone.fpn_output4.bias\u001b[0m\n",
      "  \u001b[35mbackbone.fpn_lateral5.bias\u001b[0m\n",
      "  \u001b[35mbackbone.fpn_output5.bias\u001b[0m\n",
      " 21%|████████                               | 204/987 [16:41<1:05:24,  5.01s/it]"
     ]
    },
    {
     "name": "stdout",
     "output_type": "stream",
     "text": [
      "25_08_1936_00000013\n",
      "Pages/25_08_1936_00000013.tif.large.jpg\n"
     ]
    },
    {
     "name": "stderr",
     "output_type": "stream",
     "text": [
      "The checkpoint state_dict contains keys that are not used by the model:\n",
      "  \u001b[35mbackbone.fpn_lateral2.bias\u001b[0m\n",
      "  \u001b[35mbackbone.fpn_output2.bias\u001b[0m\n",
      "  \u001b[35mbackbone.fpn_lateral3.bias\u001b[0m\n",
      "  \u001b[35mbackbone.fpn_output3.bias\u001b[0m\n",
      "  \u001b[35mbackbone.fpn_lateral4.bias\u001b[0m\n",
      "  \u001b[35mbackbone.fpn_output4.bias\u001b[0m\n",
      "  \u001b[35mbackbone.fpn_lateral5.bias\u001b[0m\n",
      "  \u001b[35mbackbone.fpn_output5.bias\u001b[0m\n",
      " 21%|████████                               | 205/987 [16:45<1:04:03,  4.91s/it]"
     ]
    },
    {
     "name": "stdout",
     "output_type": "stream",
     "text": [
      "30_01_1936_00000011\n",
      "Pages/30_01_1936_00000011.tif.large.jpg\n"
     ]
    },
    {
     "name": "stderr",
     "output_type": "stream",
     "text": [
      "The checkpoint state_dict contains keys that are not used by the model:\n",
      "  \u001b[35mbackbone.fpn_lateral2.bias\u001b[0m\n",
      "  \u001b[35mbackbone.fpn_output2.bias\u001b[0m\n",
      "  \u001b[35mbackbone.fpn_lateral3.bias\u001b[0m\n",
      "  \u001b[35mbackbone.fpn_output3.bias\u001b[0m\n",
      "  \u001b[35mbackbone.fpn_lateral4.bias\u001b[0m\n",
      "  \u001b[35mbackbone.fpn_output4.bias\u001b[0m\n",
      "  \u001b[35mbackbone.fpn_lateral5.bias\u001b[0m\n",
      "  \u001b[35mbackbone.fpn_output5.bias\u001b[0m\n",
      " 21%|████████▏                              | 206/987 [16:50<1:02:12,  4.78s/it]"
     ]
    },
    {
     "name": "stdout",
     "output_type": "stream",
     "text": [
      "31_10_1936_00000024\n",
      "Pages/31_10_1936_00000024.tif.large.jpg\n"
     ]
    },
    {
     "name": "stderr",
     "output_type": "stream",
     "text": [
      "The checkpoint state_dict contains keys that are not used by the model:\n",
      "  \u001b[35mbackbone.fpn_lateral2.bias\u001b[0m\n",
      "  \u001b[35mbackbone.fpn_output2.bias\u001b[0m\n",
      "  \u001b[35mbackbone.fpn_lateral3.bias\u001b[0m\n",
      "  \u001b[35mbackbone.fpn_output3.bias\u001b[0m\n",
      "  \u001b[35mbackbone.fpn_lateral4.bias\u001b[0m\n",
      "  \u001b[35mbackbone.fpn_output4.bias\u001b[0m\n",
      "  \u001b[35mbackbone.fpn_lateral5.bias\u001b[0m\n",
      "  \u001b[35mbackbone.fpn_output5.bias\u001b[0m\n",
      " 21%|████████▏                              | 207/987 [16:55<1:02:05,  4.78s/it]"
     ]
    },
    {
     "name": "stdout",
     "output_type": "stream",
     "text": [
      "08_03_1936_00000005\n",
      "Pages/08_03_1936_00000005.tif.large.jpg\n"
     ]
    },
    {
     "name": "stderr",
     "output_type": "stream",
     "text": [
      "The checkpoint state_dict contains keys that are not used by the model:\n",
      "  \u001b[35mbackbone.fpn_lateral2.bias\u001b[0m\n",
      "  \u001b[35mbackbone.fpn_output2.bias\u001b[0m\n",
      "  \u001b[35mbackbone.fpn_lateral3.bias\u001b[0m\n",
      "  \u001b[35mbackbone.fpn_output3.bias\u001b[0m\n",
      "  \u001b[35mbackbone.fpn_lateral4.bias\u001b[0m\n",
      "  \u001b[35mbackbone.fpn_output4.bias\u001b[0m\n",
      "  \u001b[35mbackbone.fpn_lateral5.bias\u001b[0m\n",
      "  \u001b[35mbackbone.fpn_output5.bias\u001b[0m\n",
      " 21%|████████▏                              | 208/987 [17:00<1:04:57,  5.00s/it]"
     ]
    },
    {
     "name": "stdout",
     "output_type": "stream",
     "text": [
      "14_10_1936_00000010\n",
      "Pages/14_10_1936_00000010.tif.large.jpg\n"
     ]
    },
    {
     "name": "stderr",
     "output_type": "stream",
     "text": [
      "The checkpoint state_dict contains keys that are not used by the model:\n",
      "  \u001b[35mbackbone.fpn_lateral2.bias\u001b[0m\n",
      "  \u001b[35mbackbone.fpn_output2.bias\u001b[0m\n",
      "  \u001b[35mbackbone.fpn_lateral3.bias\u001b[0m\n",
      "  \u001b[35mbackbone.fpn_output3.bias\u001b[0m\n",
      "  \u001b[35mbackbone.fpn_lateral4.bias\u001b[0m\n",
      "  \u001b[35mbackbone.fpn_output4.bias\u001b[0m\n",
      "  \u001b[35mbackbone.fpn_lateral5.bias\u001b[0m\n",
      "  \u001b[35mbackbone.fpn_output5.bias\u001b[0m\n",
      " 21%|████████▎                              | 209/987 [17:05<1:04:17,  4.96s/it]"
     ]
    },
    {
     "name": "stdout",
     "output_type": "stream",
     "text": [
      "22_08_1936_00000006\n",
      "Pages/22_08_1936_00000006.tif.large.jpg\n"
     ]
    },
    {
     "name": "stderr",
     "output_type": "stream",
     "text": [
      "The checkpoint state_dict contains keys that are not used by the model:\n",
      "  \u001b[35mbackbone.fpn_lateral2.bias\u001b[0m\n",
      "  \u001b[35mbackbone.fpn_output2.bias\u001b[0m\n",
      "  \u001b[35mbackbone.fpn_lateral3.bias\u001b[0m\n",
      "  \u001b[35mbackbone.fpn_output3.bias\u001b[0m\n",
      "  \u001b[35mbackbone.fpn_lateral4.bias\u001b[0m\n",
      "  \u001b[35mbackbone.fpn_output4.bias\u001b[0m\n",
      "  \u001b[35mbackbone.fpn_lateral5.bias\u001b[0m\n",
      "  \u001b[35mbackbone.fpn_output5.bias\u001b[0m\n",
      " 21%|████████▎                              | 210/987 [17:10<1:03:29,  4.90s/it]"
     ]
    },
    {
     "name": "stdout",
     "output_type": "stream",
     "text": [
      "04_09_1936_00000017\n",
      "Pages/04_09_1936_00000017.tif.large.jpg\n"
     ]
    },
    {
     "name": "stderr",
     "output_type": "stream",
     "text": [
      "The checkpoint state_dict contains keys that are not used by the model:\n",
      "  \u001b[35mbackbone.fpn_lateral2.bias\u001b[0m\n",
      "  \u001b[35mbackbone.fpn_output2.bias\u001b[0m\n",
      "  \u001b[35mbackbone.fpn_lateral3.bias\u001b[0m\n",
      "  \u001b[35mbackbone.fpn_output3.bias\u001b[0m\n",
      "  \u001b[35mbackbone.fpn_lateral4.bias\u001b[0m\n",
      "  \u001b[35mbackbone.fpn_output4.bias\u001b[0m\n",
      "  \u001b[35mbackbone.fpn_lateral5.bias\u001b[0m\n",
      "  \u001b[35mbackbone.fpn_output5.bias\u001b[0m\n",
      " 21%|████████▎                              | 211/987 [17:14<1:02:16,  4.82s/it]"
     ]
    },
    {
     "name": "stdout",
     "output_type": "stream",
     "text": [
      "09_08_1936_00000021\n",
      "Pages/09_08_1936_00000021.tif.large.jpg\n"
     ]
    },
    {
     "name": "stderr",
     "output_type": "stream",
     "text": [
      "The checkpoint state_dict contains keys that are not used by the model:\n",
      "  \u001b[35mbackbone.fpn_lateral2.bias\u001b[0m\n",
      "  \u001b[35mbackbone.fpn_output2.bias\u001b[0m\n",
      "  \u001b[35mbackbone.fpn_lateral3.bias\u001b[0m\n",
      "  \u001b[35mbackbone.fpn_output3.bias\u001b[0m\n",
      "  \u001b[35mbackbone.fpn_lateral4.bias\u001b[0m\n",
      "  \u001b[35mbackbone.fpn_output4.bias\u001b[0m\n",
      "  \u001b[35mbackbone.fpn_lateral5.bias\u001b[0m\n",
      "  \u001b[35mbackbone.fpn_output5.bias\u001b[0m\n",
      " 21%|████████▍                              | 212/987 [17:19<1:01:19,  4.75s/it]"
     ]
    },
    {
     "name": "stdout",
     "output_type": "stream",
     "text": [
      "03_11_1936_00000013\n",
      "Pages/03_11_1936_00000013.tif.large.jpg\n"
     ]
    },
    {
     "name": "stderr",
     "output_type": "stream",
     "text": [
      "The checkpoint state_dict contains keys that are not used by the model:\n",
      "  \u001b[35mbackbone.fpn_lateral2.bias\u001b[0m\n",
      "  \u001b[35mbackbone.fpn_output2.bias\u001b[0m\n",
      "  \u001b[35mbackbone.fpn_lateral3.bias\u001b[0m\n",
      "  \u001b[35mbackbone.fpn_output3.bias\u001b[0m\n",
      "  \u001b[35mbackbone.fpn_lateral4.bias\u001b[0m\n",
      "  \u001b[35mbackbone.fpn_output4.bias\u001b[0m\n",
      "  \u001b[35mbackbone.fpn_lateral5.bias\u001b[0m\n",
      "  \u001b[35mbackbone.fpn_output5.bias\u001b[0m\n",
      " 22%|████████▍                              | 213/987 [17:24<1:00:59,  4.73s/it]"
     ]
    },
    {
     "name": "stdout",
     "output_type": "stream",
     "text": [
      "23_11_1936_00000005\n",
      "Pages/23_11_1936_00000005.tif.large.jpg\n"
     ]
    },
    {
     "name": "stderr",
     "output_type": "stream",
     "text": [
      "The checkpoint state_dict contains keys that are not used by the model:\n",
      "  \u001b[35mbackbone.fpn_lateral2.bias\u001b[0m\n",
      "  \u001b[35mbackbone.fpn_output2.bias\u001b[0m\n",
      "  \u001b[35mbackbone.fpn_lateral3.bias\u001b[0m\n",
      "  \u001b[35mbackbone.fpn_output3.bias\u001b[0m\n",
      "  \u001b[35mbackbone.fpn_lateral4.bias\u001b[0m\n",
      "  \u001b[35mbackbone.fpn_output4.bias\u001b[0m\n",
      "  \u001b[35mbackbone.fpn_lateral5.bias\u001b[0m\n",
      "  \u001b[35mbackbone.fpn_output5.bias\u001b[0m\n",
      " 22%|████████▍                              | 214/987 [17:28<1:00:30,  4.70s/it]"
     ]
    },
    {
     "name": "stdout",
     "output_type": "stream",
     "text": [
      "03_11_1936_00000017\n",
      "Pages/03_11_1936_00000017.tif.large.jpg\n"
     ]
    },
    {
     "name": "stderr",
     "output_type": "stream",
     "text": [
      "The checkpoint state_dict contains keys that are not used by the model:\n",
      "  \u001b[35mbackbone.fpn_lateral2.bias\u001b[0m\n",
      "  \u001b[35mbackbone.fpn_output2.bias\u001b[0m\n",
      "  \u001b[35mbackbone.fpn_lateral3.bias\u001b[0m\n",
      "  \u001b[35mbackbone.fpn_output3.bias\u001b[0m\n",
      "  \u001b[35mbackbone.fpn_lateral4.bias\u001b[0m\n",
      "  \u001b[35mbackbone.fpn_output4.bias\u001b[0m\n",
      "  \u001b[35mbackbone.fpn_lateral5.bias\u001b[0m\n",
      "  \u001b[35mbackbone.fpn_output5.bias\u001b[0m\n",
      " 22%|████████▍                              | 215/987 [17:33<1:00:20,  4.69s/it]"
     ]
    },
    {
     "name": "stdout",
     "output_type": "stream",
     "text": [
      "12_11_1936_00000006\n",
      "Pages/12_11_1936_00000006.tif.large.jpg\n"
     ]
    },
    {
     "name": "stderr",
     "output_type": "stream",
     "text": [
      "The checkpoint state_dict contains keys that are not used by the model:\n",
      "  \u001b[35mbackbone.fpn_lateral2.bias\u001b[0m\n",
      "  \u001b[35mbackbone.fpn_output2.bias\u001b[0m\n",
      "  \u001b[35mbackbone.fpn_lateral3.bias\u001b[0m\n",
      "  \u001b[35mbackbone.fpn_output3.bias\u001b[0m\n",
      "  \u001b[35mbackbone.fpn_lateral4.bias\u001b[0m\n",
      "  \u001b[35mbackbone.fpn_output4.bias\u001b[0m\n",
      "  \u001b[35mbackbone.fpn_lateral5.bias\u001b[0m\n",
      "  \u001b[35mbackbone.fpn_output5.bias\u001b[0m\n",
      " 22%|████████▌                              | 216/987 [17:38<1:00:49,  4.73s/it]"
     ]
    },
    {
     "name": "stdout",
     "output_type": "stream",
     "text": [
      "21_02_1936_00000005\n",
      "Pages/21_02_1936_00000005.tif.large.jpg\n"
     ]
    },
    {
     "name": "stderr",
     "output_type": "stream",
     "text": [
      "The checkpoint state_dict contains keys that are not used by the model:\n",
      "  \u001b[35mbackbone.fpn_lateral2.bias\u001b[0m\n",
      "  \u001b[35mbackbone.fpn_output2.bias\u001b[0m\n",
      "  \u001b[35mbackbone.fpn_lateral3.bias\u001b[0m\n",
      "  \u001b[35mbackbone.fpn_output3.bias\u001b[0m\n",
      "  \u001b[35mbackbone.fpn_lateral4.bias\u001b[0m\n",
      "  \u001b[35mbackbone.fpn_output4.bias\u001b[0m\n",
      "  \u001b[35mbackbone.fpn_lateral5.bias\u001b[0m\n",
      "  \u001b[35mbackbone.fpn_output5.bias\u001b[0m\n",
      " 22%|████████▌                              | 217/987 [17:43<1:00:42,  4.73s/it]"
     ]
    },
    {
     "name": "stdout",
     "output_type": "stream",
     "text": [
      "04_03_1936_00000001\n",
      "Pages/04_03_1936_00000001.tif.large.jpg\n"
     ]
    },
    {
     "name": "stderr",
     "output_type": "stream",
     "text": [
      "The checkpoint state_dict contains keys that are not used by the model:\n",
      "  \u001b[35mbackbone.fpn_lateral2.bias\u001b[0m\n",
      "  \u001b[35mbackbone.fpn_output2.bias\u001b[0m\n",
      "  \u001b[35mbackbone.fpn_lateral3.bias\u001b[0m\n",
      "  \u001b[35mbackbone.fpn_output3.bias\u001b[0m\n",
      "  \u001b[35mbackbone.fpn_lateral4.bias\u001b[0m\n",
      "  \u001b[35mbackbone.fpn_output4.bias\u001b[0m\n",
      "  \u001b[35mbackbone.fpn_lateral5.bias\u001b[0m\n",
      "  \u001b[35mbackbone.fpn_output5.bias\u001b[0m\n",
      " 22%|████████▌                              | 218/987 [17:47<1:00:10,  4.70s/it]"
     ]
    },
    {
     "name": "stdout",
     "output_type": "stream",
     "text": [
      "03_10_1936_00000008\n",
      "Pages/03_10_1936_00000008.tif.large.jpg\n"
     ]
    },
    {
     "name": "stderr",
     "output_type": "stream",
     "text": [
      "The checkpoint state_dict contains keys that are not used by the model:\n",
      "  \u001b[35mbackbone.fpn_lateral2.bias\u001b[0m\n",
      "  \u001b[35mbackbone.fpn_output2.bias\u001b[0m\n",
      "  \u001b[35mbackbone.fpn_lateral3.bias\u001b[0m\n",
      "  \u001b[35mbackbone.fpn_output3.bias\u001b[0m\n",
      "  \u001b[35mbackbone.fpn_lateral4.bias\u001b[0m\n",
      "  \u001b[35mbackbone.fpn_output4.bias\u001b[0m\n",
      "  \u001b[35mbackbone.fpn_lateral5.bias\u001b[0m\n",
      "  \u001b[35mbackbone.fpn_output5.bias\u001b[0m\n",
      " 22%|█████████                                | 219/987 [17:52<59:26,  4.64s/it]"
     ]
    },
    {
     "name": "stdout",
     "output_type": "stream",
     "text": [
      "23_08_1936_00000009\n",
      "Pages/23_08_1936_00000009.tif.large.jpg\n"
     ]
    },
    {
     "name": "stderr",
     "output_type": "stream",
     "text": [
      "The checkpoint state_dict contains keys that are not used by the model:\n",
      "  \u001b[35mbackbone.fpn_lateral2.bias\u001b[0m\n",
      "  \u001b[35mbackbone.fpn_output2.bias\u001b[0m\n",
      "  \u001b[35mbackbone.fpn_lateral3.bias\u001b[0m\n",
      "  \u001b[35mbackbone.fpn_output3.bias\u001b[0m\n",
      "  \u001b[35mbackbone.fpn_lateral4.bias\u001b[0m\n",
      "  \u001b[35mbackbone.fpn_output4.bias\u001b[0m\n",
      "  \u001b[35mbackbone.fpn_lateral5.bias\u001b[0m\n",
      "  \u001b[35mbackbone.fpn_output5.bias\u001b[0m\n",
      " 22%|█████████▏                               | 220/987 [17:56<59:48,  4.68s/it]"
     ]
    },
    {
     "name": "stdout",
     "output_type": "stream",
     "text": [
      "24_11_1936_00000012\n",
      "Pages/24_11_1936_00000012.tif.large.jpg\n"
     ]
    },
    {
     "name": "stderr",
     "output_type": "stream",
     "text": [
      "The checkpoint state_dict contains keys that are not used by the model:\n",
      "  \u001b[35mbackbone.fpn_lateral2.bias\u001b[0m\n",
      "  \u001b[35mbackbone.fpn_output2.bias\u001b[0m\n",
      "  \u001b[35mbackbone.fpn_lateral3.bias\u001b[0m\n",
      "  \u001b[35mbackbone.fpn_output3.bias\u001b[0m\n",
      "  \u001b[35mbackbone.fpn_lateral4.bias\u001b[0m\n",
      "  \u001b[35mbackbone.fpn_output4.bias\u001b[0m\n",
      "  \u001b[35mbackbone.fpn_lateral5.bias\u001b[0m\n",
      "  \u001b[35mbackbone.fpn_output5.bias\u001b[0m\n",
      " 22%|█████████▏                               | 221/987 [18:01<59:32,  4.66s/it]"
     ]
    },
    {
     "name": "stdout",
     "output_type": "stream",
     "text": [
      "26_08_1936_00000012\n",
      "Pages/26_08_1936_00000012.tif.large.jpg\n"
     ]
    },
    {
     "name": "stderr",
     "output_type": "stream",
     "text": [
      "The checkpoint state_dict contains keys that are not used by the model:\n",
      "  \u001b[35mbackbone.fpn_lateral2.bias\u001b[0m\n",
      "  \u001b[35mbackbone.fpn_output2.bias\u001b[0m\n",
      "  \u001b[35mbackbone.fpn_lateral3.bias\u001b[0m\n",
      "  \u001b[35mbackbone.fpn_output3.bias\u001b[0m\n",
      "  \u001b[35mbackbone.fpn_lateral4.bias\u001b[0m\n",
      "  \u001b[35mbackbone.fpn_output4.bias\u001b[0m\n",
      "  \u001b[35mbackbone.fpn_lateral5.bias\u001b[0m\n",
      "  \u001b[35mbackbone.fpn_output5.bias\u001b[0m\n",
      " 22%|████████▊                              | 222/987 [18:06<1:00:59,  4.78s/it]"
     ]
    },
    {
     "name": "stdout",
     "output_type": "stream",
     "text": [
      "09_10_1936_00000009\n",
      "Pages/09_10_1936_00000009.tif.large.jpg\n"
     ]
    },
    {
     "name": "stderr",
     "output_type": "stream",
     "text": [
      "The checkpoint state_dict contains keys that are not used by the model:\n",
      "  \u001b[35mbackbone.fpn_lateral2.bias\u001b[0m\n",
      "  \u001b[35mbackbone.fpn_output2.bias\u001b[0m\n",
      "  \u001b[35mbackbone.fpn_lateral3.bias\u001b[0m\n",
      "  \u001b[35mbackbone.fpn_output3.bias\u001b[0m\n",
      "  \u001b[35mbackbone.fpn_lateral4.bias\u001b[0m\n",
      "  \u001b[35mbackbone.fpn_output4.bias\u001b[0m\n",
      "  \u001b[35mbackbone.fpn_lateral5.bias\u001b[0m\n",
      "  \u001b[35mbackbone.fpn_output5.bias\u001b[0m\n",
      " 23%|████████▊                              | 223/987 [18:11<1:01:14,  4.81s/it]"
     ]
    },
    {
     "name": "stdout",
     "output_type": "stream",
     "text": [
      "22_11_1936_00000004\n",
      "Pages/22_11_1936_00000004.tif.large.jpg\n"
     ]
    },
    {
     "name": "stderr",
     "output_type": "stream",
     "text": [
      "The checkpoint state_dict contains keys that are not used by the model:\n",
      "  \u001b[35mbackbone.fpn_lateral2.bias\u001b[0m\n",
      "  \u001b[35mbackbone.fpn_output2.bias\u001b[0m\n",
      "  \u001b[35mbackbone.fpn_lateral3.bias\u001b[0m\n",
      "  \u001b[35mbackbone.fpn_output3.bias\u001b[0m\n",
      "  \u001b[35mbackbone.fpn_lateral4.bias\u001b[0m\n",
      "  \u001b[35mbackbone.fpn_output4.bias\u001b[0m\n",
      "  \u001b[35mbackbone.fpn_lateral5.bias\u001b[0m\n",
      "  \u001b[35mbackbone.fpn_output5.bias\u001b[0m\n",
      " 23%|████████▊                              | 224/987 [18:16<1:01:24,  4.83s/it]"
     ]
    },
    {
     "name": "stdout",
     "output_type": "stream",
     "text": [
      "27_03_1936_00000007\n",
      "Pages/27_03_1936_00000007.tif.large.jpg\n"
     ]
    },
    {
     "name": "stderr",
     "output_type": "stream",
     "text": [
      "The checkpoint state_dict contains keys that are not used by the model:\n",
      "  \u001b[35mbackbone.fpn_lateral2.bias\u001b[0m\n",
      "  \u001b[35mbackbone.fpn_output2.bias\u001b[0m\n",
      "  \u001b[35mbackbone.fpn_lateral3.bias\u001b[0m\n",
      "  \u001b[35mbackbone.fpn_output3.bias\u001b[0m\n",
      "  \u001b[35mbackbone.fpn_lateral4.bias\u001b[0m\n",
      "  \u001b[35mbackbone.fpn_output4.bias\u001b[0m\n",
      "  \u001b[35mbackbone.fpn_lateral5.bias\u001b[0m\n",
      "  \u001b[35mbackbone.fpn_output5.bias\u001b[0m\n",
      " 23%|████████▉                              | 225/987 [18:20<1:00:17,  4.75s/it]"
     ]
    },
    {
     "name": "stdout",
     "output_type": "stream",
     "text": [
      "20_12_1936_00000038\n",
      "Pages/20_12_1936_00000038.tif.large.jpg\n"
     ]
    },
    {
     "name": "stderr",
     "output_type": "stream",
     "text": [
      "The checkpoint state_dict contains keys that are not used by the model:\n",
      "  \u001b[35mbackbone.fpn_lateral2.bias\u001b[0m\n",
      "  \u001b[35mbackbone.fpn_output2.bias\u001b[0m\n",
      "  \u001b[35mbackbone.fpn_lateral3.bias\u001b[0m\n",
      "  \u001b[35mbackbone.fpn_output3.bias\u001b[0m\n",
      "  \u001b[35mbackbone.fpn_lateral4.bias\u001b[0m\n",
      "  \u001b[35mbackbone.fpn_output4.bias\u001b[0m\n",
      "  \u001b[35mbackbone.fpn_lateral5.bias\u001b[0m\n",
      "  \u001b[35mbackbone.fpn_output5.bias\u001b[0m\n",
      " 23%|█████████▍                               | 226/987 [18:25<59:58,  4.73s/it]"
     ]
    },
    {
     "name": "stdout",
     "output_type": "stream",
     "text": [
      "09_11_1936_00000007\n",
      "Pages/09_11_1936_00000007.tif.large.jpg\n"
     ]
    },
    {
     "name": "stderr",
     "output_type": "stream",
     "text": [
      "The checkpoint state_dict contains keys that are not used by the model:\n",
      "  \u001b[35mbackbone.fpn_lateral2.bias\u001b[0m\n",
      "  \u001b[35mbackbone.fpn_output2.bias\u001b[0m\n",
      "  \u001b[35mbackbone.fpn_lateral3.bias\u001b[0m\n",
      "  \u001b[35mbackbone.fpn_output3.bias\u001b[0m\n",
      "  \u001b[35mbackbone.fpn_lateral4.bias\u001b[0m\n",
      "  \u001b[35mbackbone.fpn_output4.bias\u001b[0m\n",
      "  \u001b[35mbackbone.fpn_lateral5.bias\u001b[0m\n",
      "  \u001b[35mbackbone.fpn_output5.bias\u001b[0m\n",
      " 23%|████████▉                              | 227/987 [18:30<1:00:57,  4.81s/it]"
     ]
    },
    {
     "name": "stdout",
     "output_type": "stream",
     "text": [
      "18_03_1936_00000008\n",
      "Pages/18_03_1936_00000008.tif.large.jpg\n"
     ]
    },
    {
     "name": "stderr",
     "output_type": "stream",
     "text": [
      "The checkpoint state_dict contains keys that are not used by the model:\n",
      "  \u001b[35mbackbone.fpn_lateral2.bias\u001b[0m\n",
      "  \u001b[35mbackbone.fpn_output2.bias\u001b[0m\n",
      "  \u001b[35mbackbone.fpn_lateral3.bias\u001b[0m\n",
      "  \u001b[35mbackbone.fpn_output3.bias\u001b[0m\n",
      "  \u001b[35mbackbone.fpn_lateral4.bias\u001b[0m\n",
      "  \u001b[35mbackbone.fpn_output4.bias\u001b[0m\n",
      "  \u001b[35mbackbone.fpn_lateral5.bias\u001b[0m\n",
      "  \u001b[35mbackbone.fpn_output5.bias\u001b[0m\n",
      " 23%|█████████                              | 228/987 [18:35<1:01:20,  4.85s/it]"
     ]
    },
    {
     "name": "stdout",
     "output_type": "stream",
     "text": [
      "23_03_1936_00000008\n",
      "Pages/23_03_1936_00000008.tif.large.jpg\n"
     ]
    },
    {
     "name": "stderr",
     "output_type": "stream",
     "text": [
      "The checkpoint state_dict contains keys that are not used by the model:\n",
      "  \u001b[35mbackbone.fpn_lateral2.bias\u001b[0m\n",
      "  \u001b[35mbackbone.fpn_output2.bias\u001b[0m\n",
      "  \u001b[35mbackbone.fpn_lateral3.bias\u001b[0m\n",
      "  \u001b[35mbackbone.fpn_output3.bias\u001b[0m\n",
      "  \u001b[35mbackbone.fpn_lateral4.bias\u001b[0m\n",
      "  \u001b[35mbackbone.fpn_output4.bias\u001b[0m\n",
      "  \u001b[35mbackbone.fpn_lateral5.bias\u001b[0m\n",
      "  \u001b[35mbackbone.fpn_output5.bias\u001b[0m\n",
      " 23%|█████████▌                               | 229/987 [18:39<59:39,  4.72s/it]"
     ]
    },
    {
     "name": "stdout",
     "output_type": "stream",
     "text": [
      "06_11_1936_00000007\n",
      "Pages/06_11_1936_00000007.tif.large.jpg\n"
     ]
    },
    {
     "name": "stderr",
     "output_type": "stream",
     "text": [
      "The checkpoint state_dict contains keys that are not used by the model:\n",
      "  \u001b[35mbackbone.fpn_lateral2.bias\u001b[0m\n",
      "  \u001b[35mbackbone.fpn_output2.bias\u001b[0m\n",
      "  \u001b[35mbackbone.fpn_lateral3.bias\u001b[0m\n",
      "  \u001b[35mbackbone.fpn_output3.bias\u001b[0m\n",
      "  \u001b[35mbackbone.fpn_lateral4.bias\u001b[0m\n",
      "  \u001b[35mbackbone.fpn_output4.bias\u001b[0m\n",
      "  \u001b[35mbackbone.fpn_lateral5.bias\u001b[0m\n",
      "  \u001b[35mbackbone.fpn_output5.bias\u001b[0m\n",
      " 23%|█████████▌                               | 230/987 [18:44<59:08,  4.69s/it]"
     ]
    },
    {
     "name": "stdout",
     "output_type": "stream",
     "text": [
      "15_11_1936_00000006\n",
      "Pages/15_11_1936_00000006.tif.large.jpg\n"
     ]
    },
    {
     "name": "stderr",
     "output_type": "stream",
     "text": [
      "The checkpoint state_dict contains keys that are not used by the model:\n",
      "  \u001b[35mbackbone.fpn_lateral2.bias\u001b[0m\n",
      "  \u001b[35mbackbone.fpn_output2.bias\u001b[0m\n",
      "  \u001b[35mbackbone.fpn_lateral3.bias\u001b[0m\n",
      "  \u001b[35mbackbone.fpn_output3.bias\u001b[0m\n",
      "  \u001b[35mbackbone.fpn_lateral4.bias\u001b[0m\n",
      "  \u001b[35mbackbone.fpn_output4.bias\u001b[0m\n",
      "  \u001b[35mbackbone.fpn_lateral5.bias\u001b[0m\n",
      "  \u001b[35mbackbone.fpn_output5.bias\u001b[0m\n",
      " 23%|█████████▌                               | 231/987 [18:49<59:37,  4.73s/it]"
     ]
    },
    {
     "name": "stdout",
     "output_type": "stream",
     "text": [
      "07_09_1936_00000008\n",
      "Pages/07_09_1936_00000008.tif.large.jpg\n"
     ]
    },
    {
     "name": "stderr",
     "output_type": "stream",
     "text": [
      "The checkpoint state_dict contains keys that are not used by the model:\n",
      "  \u001b[35mbackbone.fpn_lateral2.bias\u001b[0m\n",
      "  \u001b[35mbackbone.fpn_output2.bias\u001b[0m\n",
      "  \u001b[35mbackbone.fpn_lateral3.bias\u001b[0m\n",
      "  \u001b[35mbackbone.fpn_output3.bias\u001b[0m\n",
      "  \u001b[35mbackbone.fpn_lateral4.bias\u001b[0m\n",
      "  \u001b[35mbackbone.fpn_output4.bias\u001b[0m\n",
      "  \u001b[35mbackbone.fpn_lateral5.bias\u001b[0m\n",
      "  \u001b[35mbackbone.fpn_output5.bias\u001b[0m\n",
      " 24%|█████████▏                             | 232/987 [18:54<1:02:19,  4.95s/it]"
     ]
    },
    {
     "name": "stdout",
     "output_type": "stream",
     "text": [
      "11_12_1936_00000012\n",
      "Pages/11_12_1936_00000012.tif.large.jpg\n"
     ]
    },
    {
     "name": "stderr",
     "output_type": "stream",
     "text": [
      "The checkpoint state_dict contains keys that are not used by the model:\n",
      "  \u001b[35mbackbone.fpn_lateral2.bias\u001b[0m\n",
      "  \u001b[35mbackbone.fpn_output2.bias\u001b[0m\n",
      "  \u001b[35mbackbone.fpn_lateral3.bias\u001b[0m\n",
      "  \u001b[35mbackbone.fpn_output3.bias\u001b[0m\n",
      "  \u001b[35mbackbone.fpn_lateral4.bias\u001b[0m\n",
      "  \u001b[35mbackbone.fpn_output4.bias\u001b[0m\n",
      "  \u001b[35mbackbone.fpn_lateral5.bias\u001b[0m\n",
      "  \u001b[35mbackbone.fpn_output5.bias\u001b[0m\n",
      " 24%|█████████▏                             | 233/987 [18:59<1:01:45,  4.91s/it]"
     ]
    },
    {
     "name": "stdout",
     "output_type": "stream",
     "text": [
      "29_08_1936_00000007\n",
      "Pages/29_08_1936_00000007.tif.large.jpg\n"
     ]
    },
    {
     "name": "stderr",
     "output_type": "stream",
     "text": [
      "The checkpoint state_dict contains keys that are not used by the model:\n",
      "  \u001b[35mbackbone.fpn_lateral2.bias\u001b[0m\n",
      "  \u001b[35mbackbone.fpn_output2.bias\u001b[0m\n",
      "  \u001b[35mbackbone.fpn_lateral3.bias\u001b[0m\n",
      "  \u001b[35mbackbone.fpn_output3.bias\u001b[0m\n",
      "  \u001b[35mbackbone.fpn_lateral4.bias\u001b[0m\n",
      "  \u001b[35mbackbone.fpn_output4.bias\u001b[0m\n",
      "  \u001b[35mbackbone.fpn_lateral5.bias\u001b[0m\n",
      "  \u001b[35mbackbone.fpn_output5.bias\u001b[0m\n",
      " 24%|█████████▏                             | 234/987 [19:05<1:05:34,  5.22s/it]"
     ]
    },
    {
     "name": "stdout",
     "output_type": "stream",
     "text": [
      "22_03_1936_00000002\n",
      "Pages/22_03_1936_00000002.tif.large.jpg\n"
     ]
    },
    {
     "name": "stderr",
     "output_type": "stream",
     "text": [
      "The checkpoint state_dict contains keys that are not used by the model:\n",
      "  \u001b[35mbackbone.fpn_lateral2.bias\u001b[0m\n",
      "  \u001b[35mbackbone.fpn_output2.bias\u001b[0m\n",
      "  \u001b[35mbackbone.fpn_lateral3.bias\u001b[0m\n",
      "  \u001b[35mbackbone.fpn_output3.bias\u001b[0m\n",
      "  \u001b[35mbackbone.fpn_lateral4.bias\u001b[0m\n",
      "  \u001b[35mbackbone.fpn_output4.bias\u001b[0m\n",
      "  \u001b[35mbackbone.fpn_lateral5.bias\u001b[0m\n",
      "  \u001b[35mbackbone.fpn_output5.bias\u001b[0m\n",
      " 24%|█████████▎                             | 235/987 [19:10<1:05:29,  5.23s/it]"
     ]
    },
    {
     "name": "stdout",
     "output_type": "stream",
     "text": [
      "08_02_1936_00000002\n",
      "Pages/08_02_1936_00000002.tif.large.jpg\n"
     ]
    },
    {
     "name": "stderr",
     "output_type": "stream",
     "text": [
      "The checkpoint state_dict contains keys that are not used by the model:\n",
      "  \u001b[35mbackbone.fpn_lateral2.bias\u001b[0m\n",
      "  \u001b[35mbackbone.fpn_output2.bias\u001b[0m\n",
      "  \u001b[35mbackbone.fpn_lateral3.bias\u001b[0m\n",
      "  \u001b[35mbackbone.fpn_output3.bias\u001b[0m\n",
      "  \u001b[35mbackbone.fpn_lateral4.bias\u001b[0m\n",
      "  \u001b[35mbackbone.fpn_output4.bias\u001b[0m\n",
      "  \u001b[35mbackbone.fpn_lateral5.bias\u001b[0m\n",
      "  \u001b[35mbackbone.fpn_output5.bias\u001b[0m\n",
      " 24%|█████████▎                             | 236/987 [19:16<1:06:09,  5.29s/it]"
     ]
    },
    {
     "name": "stdout",
     "output_type": "stream",
     "text": [
      "28_09_1936_00000005\n",
      "Pages/28_09_1936_00000005.tif.large.jpg\n"
     ]
    },
    {
     "name": "stderr",
     "output_type": "stream",
     "text": [
      "The checkpoint state_dict contains keys that are not used by the model:\n",
      "  \u001b[35mbackbone.fpn_lateral2.bias\u001b[0m\n",
      "  \u001b[35mbackbone.fpn_output2.bias\u001b[0m\n",
      "  \u001b[35mbackbone.fpn_lateral3.bias\u001b[0m\n",
      "  \u001b[35mbackbone.fpn_output3.bias\u001b[0m\n",
      "  \u001b[35mbackbone.fpn_lateral4.bias\u001b[0m\n",
      "  \u001b[35mbackbone.fpn_output4.bias\u001b[0m\n",
      "  \u001b[35mbackbone.fpn_lateral5.bias\u001b[0m\n",
      "  \u001b[35mbackbone.fpn_output5.bias\u001b[0m\n",
      " 24%|█████████▎                             | 237/987 [19:21<1:06:02,  5.28s/it]"
     ]
    },
    {
     "name": "stdout",
     "output_type": "stream",
     "text": [
      "08_12_1936_00000001\n",
      "Pages/08_12_1936_00000001.tif.large.jpg\n"
     ]
    },
    {
     "name": "stderr",
     "output_type": "stream",
     "text": [
      "The checkpoint state_dict contains keys that are not used by the model:\n",
      "  \u001b[35mbackbone.fpn_lateral2.bias\u001b[0m\n",
      "  \u001b[35mbackbone.fpn_output2.bias\u001b[0m\n",
      "  \u001b[35mbackbone.fpn_lateral3.bias\u001b[0m\n",
      "  \u001b[35mbackbone.fpn_output3.bias\u001b[0m\n",
      "  \u001b[35mbackbone.fpn_lateral4.bias\u001b[0m\n",
      "  \u001b[35mbackbone.fpn_output4.bias\u001b[0m\n",
      "  \u001b[35mbackbone.fpn_lateral5.bias\u001b[0m\n",
      "  \u001b[35mbackbone.fpn_output5.bias\u001b[0m\n",
      " 24%|█████████▍                             | 238/987 [19:27<1:07:17,  5.39s/it]"
     ]
    },
    {
     "name": "stdout",
     "output_type": "stream",
     "text": [
      "23_07_1936_00000008\n",
      "Pages/23_07_1936_00000008.tif.large.jpg\n"
     ]
    },
    {
     "name": "stderr",
     "output_type": "stream",
     "text": [
      "The checkpoint state_dict contains keys that are not used by the model:\n",
      "  \u001b[35mbackbone.fpn_lateral2.bias\u001b[0m\n",
      "  \u001b[35mbackbone.fpn_output2.bias\u001b[0m\n",
      "  \u001b[35mbackbone.fpn_lateral3.bias\u001b[0m\n",
      "  \u001b[35mbackbone.fpn_output3.bias\u001b[0m\n",
      "  \u001b[35mbackbone.fpn_lateral4.bias\u001b[0m\n",
      "  \u001b[35mbackbone.fpn_output4.bias\u001b[0m\n",
      "  \u001b[35mbackbone.fpn_lateral5.bias\u001b[0m\n",
      "  \u001b[35mbackbone.fpn_output5.bias\u001b[0m\n",
      " 24%|█████████▍                             | 239/987 [19:32<1:05:46,  5.28s/it]"
     ]
    },
    {
     "name": "stdout",
     "output_type": "stream",
     "text": [
      "02_12_1936_00000004\n",
      "Pages/02_12_1936_00000004.tif.large.jpg\n"
     ]
    },
    {
     "name": "stderr",
     "output_type": "stream",
     "text": [
      "The checkpoint state_dict contains keys that are not used by the model:\n",
      "  \u001b[35mbackbone.fpn_lateral2.bias\u001b[0m\n",
      "  \u001b[35mbackbone.fpn_output2.bias\u001b[0m\n",
      "  \u001b[35mbackbone.fpn_lateral3.bias\u001b[0m\n",
      "  \u001b[35mbackbone.fpn_output3.bias\u001b[0m\n",
      "  \u001b[35mbackbone.fpn_lateral4.bias\u001b[0m\n",
      "  \u001b[35mbackbone.fpn_output4.bias\u001b[0m\n",
      "  \u001b[35mbackbone.fpn_lateral5.bias\u001b[0m\n",
      "  \u001b[35mbackbone.fpn_output5.bias\u001b[0m\n",
      " 24%|█████████▍                             | 240/987 [19:37<1:07:24,  5.41s/it]"
     ]
    },
    {
     "name": "stdout",
     "output_type": "stream",
     "text": [
      "08_09_1936_00000005\n",
      "Pages/08_09_1936_00000005.tif.large.jpg\n"
     ]
    },
    {
     "name": "stderr",
     "output_type": "stream",
     "text": [
      "The checkpoint state_dict contains keys that are not used by the model:\n",
      "  \u001b[35mbackbone.fpn_lateral2.bias\u001b[0m\n",
      "  \u001b[35mbackbone.fpn_output2.bias\u001b[0m\n",
      "  \u001b[35mbackbone.fpn_lateral3.bias\u001b[0m\n",
      "  \u001b[35mbackbone.fpn_output3.bias\u001b[0m\n",
      "  \u001b[35mbackbone.fpn_lateral4.bias\u001b[0m\n",
      "  \u001b[35mbackbone.fpn_output4.bias\u001b[0m\n",
      "  \u001b[35mbackbone.fpn_lateral5.bias\u001b[0m\n",
      "  \u001b[35mbackbone.fpn_output5.bias\u001b[0m\n",
      " 24%|█████████▌                             | 241/987 [19:42<1:05:28,  5.27s/it]"
     ]
    },
    {
     "name": "stdout",
     "output_type": "stream",
     "text": [
      "18_01_1936_00000005\n",
      "Pages/18_01_1936_00000005.tif.large.jpg\n"
     ]
    },
    {
     "name": "stderr",
     "output_type": "stream",
     "text": [
      "The checkpoint state_dict contains keys that are not used by the model:\n",
      "  \u001b[35mbackbone.fpn_lateral2.bias\u001b[0m\n",
      "  \u001b[35mbackbone.fpn_output2.bias\u001b[0m\n",
      "  \u001b[35mbackbone.fpn_lateral3.bias\u001b[0m\n",
      "  \u001b[35mbackbone.fpn_output3.bias\u001b[0m\n",
      "  \u001b[35mbackbone.fpn_lateral4.bias\u001b[0m\n",
      "  \u001b[35mbackbone.fpn_output4.bias\u001b[0m\n",
      "  \u001b[35mbackbone.fpn_lateral5.bias\u001b[0m\n",
      "  \u001b[35mbackbone.fpn_output5.bias\u001b[0m\n",
      " 25%|█████████▌                             | 242/987 [19:47<1:03:05,  5.08s/it]"
     ]
    },
    {
     "name": "stdout",
     "output_type": "stream",
     "text": [
      "30_01_1936_00000007\n",
      "Pages/30_01_1936_00000007.tif.large.jpg\n"
     ]
    },
    {
     "name": "stderr",
     "output_type": "stream",
     "text": [
      "The checkpoint state_dict contains keys that are not used by the model:\n",
      "  \u001b[35mbackbone.fpn_lateral2.bias\u001b[0m\n",
      "  \u001b[35mbackbone.fpn_output2.bias\u001b[0m\n",
      "  \u001b[35mbackbone.fpn_lateral3.bias\u001b[0m\n",
      "  \u001b[35mbackbone.fpn_output3.bias\u001b[0m\n",
      "  \u001b[35mbackbone.fpn_lateral4.bias\u001b[0m\n",
      "  \u001b[35mbackbone.fpn_output4.bias\u001b[0m\n",
      "  \u001b[35mbackbone.fpn_lateral5.bias\u001b[0m\n",
      "  \u001b[35mbackbone.fpn_output5.bias\u001b[0m\n",
      " 25%|█████████▌                             | 243/987 [19:52<1:01:13,  4.94s/it]"
     ]
    },
    {
     "name": "stdout",
     "output_type": "stream",
     "text": [
      "06_12_1936_00000011\n",
      "Pages/06_12_1936_00000011.tif.large.jpg\n"
     ]
    },
    {
     "name": "stderr",
     "output_type": "stream",
     "text": [
      "The checkpoint state_dict contains keys that are not used by the model:\n",
      "  \u001b[35mbackbone.fpn_lateral2.bias\u001b[0m\n",
      "  \u001b[35mbackbone.fpn_output2.bias\u001b[0m\n",
      "  \u001b[35mbackbone.fpn_lateral3.bias\u001b[0m\n",
      "  \u001b[35mbackbone.fpn_output3.bias\u001b[0m\n",
      "  \u001b[35mbackbone.fpn_lateral4.bias\u001b[0m\n",
      "  \u001b[35mbackbone.fpn_output4.bias\u001b[0m\n",
      "  \u001b[35mbackbone.fpn_lateral5.bias\u001b[0m\n",
      "  \u001b[35mbackbone.fpn_output5.bias\u001b[0m\n",
      " 25%|█████████▋                             | 244/987 [19:56<1:00:23,  4.88s/it]"
     ]
    },
    {
     "name": "stdout",
     "output_type": "stream",
     "text": [
      "18_11_1936_00000006\n",
      "Pages/18_11_1936_00000006.tif.large.jpg\n"
     ]
    },
    {
     "name": "stderr",
     "output_type": "stream",
     "text": [
      "The checkpoint state_dict contains keys that are not used by the model:\n",
      "  \u001b[35mbackbone.fpn_lateral2.bias\u001b[0m\n",
      "  \u001b[35mbackbone.fpn_output2.bias\u001b[0m\n",
      "  \u001b[35mbackbone.fpn_lateral3.bias\u001b[0m\n",
      "  \u001b[35mbackbone.fpn_output3.bias\u001b[0m\n",
      "  \u001b[35mbackbone.fpn_lateral4.bias\u001b[0m\n",
      "  \u001b[35mbackbone.fpn_output4.bias\u001b[0m\n",
      "  \u001b[35mbackbone.fpn_lateral5.bias\u001b[0m\n",
      "  \u001b[35mbackbone.fpn_output5.bias\u001b[0m\n",
      " 25%|██████████▏                              | 245/987 [20:01<59:11,  4.79s/it]"
     ]
    },
    {
     "name": "stdout",
     "output_type": "stream",
     "text": [
      "13_10_1936_00000010\n",
      "Pages/13_10_1936_00000010.tif.large.jpg\n"
     ]
    },
    {
     "name": "stderr",
     "output_type": "stream",
     "text": [
      "The checkpoint state_dict contains keys that are not used by the model:\n",
      "  \u001b[35mbackbone.fpn_lateral2.bias\u001b[0m\n",
      "  \u001b[35mbackbone.fpn_output2.bias\u001b[0m\n",
      "  \u001b[35mbackbone.fpn_lateral3.bias\u001b[0m\n",
      "  \u001b[35mbackbone.fpn_output3.bias\u001b[0m\n",
      "  \u001b[35mbackbone.fpn_lateral4.bias\u001b[0m\n",
      "  \u001b[35mbackbone.fpn_output4.bias\u001b[0m\n",
      "  \u001b[35mbackbone.fpn_lateral5.bias\u001b[0m\n",
      "  \u001b[35mbackbone.fpn_output5.bias\u001b[0m\n",
      " 25%|█████████▋                             | 246/987 [20:07<1:02:40,  5.08s/it]"
     ]
    },
    {
     "name": "stdout",
     "output_type": "stream",
     "text": [
      "27_11_1936_00000006\n",
      "Pages/27_11_1936_00000006.tif.large.jpg\n"
     ]
    },
    {
     "name": "stderr",
     "output_type": "stream",
     "text": [
      "The checkpoint state_dict contains keys that are not used by the model:\n",
      "  \u001b[35mbackbone.fpn_lateral2.bias\u001b[0m\n",
      "  \u001b[35mbackbone.fpn_output2.bias\u001b[0m\n",
      "  \u001b[35mbackbone.fpn_lateral3.bias\u001b[0m\n",
      "  \u001b[35mbackbone.fpn_output3.bias\u001b[0m\n",
      "  \u001b[35mbackbone.fpn_lateral4.bias\u001b[0m\n",
      "  \u001b[35mbackbone.fpn_output4.bias\u001b[0m\n",
      "  \u001b[35mbackbone.fpn_lateral5.bias\u001b[0m\n",
      "  \u001b[35mbackbone.fpn_output5.bias\u001b[0m\n",
      " 25%|█████████▊                             | 247/987 [20:12<1:03:05,  5.12s/it]"
     ]
    },
    {
     "name": "stdout",
     "output_type": "stream",
     "text": [
      "20_08_1936_00000005\n",
      "Pages/20_08_1936_00000005.tif.large.jpg\n"
     ]
    },
    {
     "name": "stderr",
     "output_type": "stream",
     "text": [
      "The checkpoint state_dict contains keys that are not used by the model:\n",
      "  \u001b[35mbackbone.fpn_lateral2.bias\u001b[0m\n",
      "  \u001b[35mbackbone.fpn_output2.bias\u001b[0m\n",
      "  \u001b[35mbackbone.fpn_lateral3.bias\u001b[0m\n",
      "  \u001b[35mbackbone.fpn_output3.bias\u001b[0m\n",
      "  \u001b[35mbackbone.fpn_lateral4.bias\u001b[0m\n",
      "  \u001b[35mbackbone.fpn_output4.bias\u001b[0m\n",
      "  \u001b[35mbackbone.fpn_lateral5.bias\u001b[0m\n",
      "  \u001b[35mbackbone.fpn_output5.bias\u001b[0m\n",
      " 25%|█████████▊                             | 248/987 [20:17<1:01:54,  5.03s/it]"
     ]
    },
    {
     "name": "stdout",
     "output_type": "stream",
     "text": [
      "13_08_1936_00000008\n",
      "Pages/13_08_1936_00000008.tif.large.jpg\n"
     ]
    },
    {
     "name": "stderr",
     "output_type": "stream",
     "text": [
      "The checkpoint state_dict contains keys that are not used by the model:\n",
      "  \u001b[35mbackbone.fpn_lateral2.bias\u001b[0m\n",
      "  \u001b[35mbackbone.fpn_output2.bias\u001b[0m\n",
      "  \u001b[35mbackbone.fpn_lateral3.bias\u001b[0m\n",
      "  \u001b[35mbackbone.fpn_output3.bias\u001b[0m\n",
      "  \u001b[35mbackbone.fpn_lateral4.bias\u001b[0m\n",
      "  \u001b[35mbackbone.fpn_output4.bias\u001b[0m\n",
      "  \u001b[35mbackbone.fpn_lateral5.bias\u001b[0m\n",
      "  \u001b[35mbackbone.fpn_output5.bias\u001b[0m\n",
      " 25%|█████████▊                             | 249/987 [20:22<1:03:53,  5.19s/it]"
     ]
    },
    {
     "name": "stdout",
     "output_type": "stream",
     "text": [
      "15_02_1936_00000006\n",
      "Pages/15_02_1936_00000006.tif.large.jpg\n"
     ]
    },
    {
     "name": "stderr",
     "output_type": "stream",
     "text": [
      "The checkpoint state_dict contains keys that are not used by the model:\n",
      "  \u001b[35mbackbone.fpn_lateral2.bias\u001b[0m\n",
      "  \u001b[35mbackbone.fpn_output2.bias\u001b[0m\n",
      "  \u001b[35mbackbone.fpn_lateral3.bias\u001b[0m\n",
      "  \u001b[35mbackbone.fpn_output3.bias\u001b[0m\n",
      "  \u001b[35mbackbone.fpn_lateral4.bias\u001b[0m\n",
      "  \u001b[35mbackbone.fpn_output4.bias\u001b[0m\n",
      "  \u001b[35mbackbone.fpn_lateral5.bias\u001b[0m\n",
      "  \u001b[35mbackbone.fpn_output5.bias\u001b[0m\n",
      " 25%|█████████▉                             | 250/987 [20:28<1:06:13,  5.39s/it]"
     ]
    },
    {
     "name": "stdout",
     "output_type": "stream",
     "text": [
      "18_01_1936_00000006\n",
      "Pages/18_01_1936_00000006.tif.large.jpg\n"
     ]
    },
    {
     "name": "stderr",
     "output_type": "stream",
     "text": [
      "The checkpoint state_dict contains keys that are not used by the model:\n",
      "  \u001b[35mbackbone.fpn_lateral2.bias\u001b[0m\n",
      "  \u001b[35mbackbone.fpn_output2.bias\u001b[0m\n",
      "  \u001b[35mbackbone.fpn_lateral3.bias\u001b[0m\n",
      "  \u001b[35mbackbone.fpn_output3.bias\u001b[0m\n",
      "  \u001b[35mbackbone.fpn_lateral4.bias\u001b[0m\n",
      "  \u001b[35mbackbone.fpn_output4.bias\u001b[0m\n",
      "  \u001b[35mbackbone.fpn_lateral5.bias\u001b[0m\n",
      "  \u001b[35mbackbone.fpn_output5.bias\u001b[0m\n",
      " 25%|█████████▉                             | 251/987 [20:38<1:21:04,  6.61s/it]"
     ]
    },
    {
     "name": "stdout",
     "output_type": "stream",
     "text": [
      "22_11_1936_00000017\n",
      "Pages/22_11_1936_00000017.tif.large.jpg\n"
     ]
    },
    {
     "name": "stderr",
     "output_type": "stream",
     "text": [
      "The checkpoint state_dict contains keys that are not used by the model:\n",
      "  \u001b[35mbackbone.fpn_lateral2.bias\u001b[0m\n",
      "  \u001b[35mbackbone.fpn_output2.bias\u001b[0m\n",
      "  \u001b[35mbackbone.fpn_lateral3.bias\u001b[0m\n",
      "  \u001b[35mbackbone.fpn_output3.bias\u001b[0m\n",
      "  \u001b[35mbackbone.fpn_lateral4.bias\u001b[0m\n",
      "  \u001b[35mbackbone.fpn_output4.bias\u001b[0m\n",
      "  \u001b[35mbackbone.fpn_lateral5.bias\u001b[0m\n",
      "  \u001b[35mbackbone.fpn_output5.bias\u001b[0m\n",
      " 26%|█████████▉                             | 252/987 [20:48<1:35:18,  7.78s/it]"
     ]
    },
    {
     "name": "stdout",
     "output_type": "stream",
     "text": [
      "08_03_1936_00000008\n",
      "Pages/08_03_1936_00000008.tif.large.jpg\n"
     ]
    },
    {
     "name": "stderr",
     "output_type": "stream",
     "text": [
      "The checkpoint state_dict contains keys that are not used by the model:\n",
      "  \u001b[35mbackbone.fpn_lateral2.bias\u001b[0m\n",
      "  \u001b[35mbackbone.fpn_output2.bias\u001b[0m\n",
      "  \u001b[35mbackbone.fpn_lateral3.bias\u001b[0m\n",
      "  \u001b[35mbackbone.fpn_output3.bias\u001b[0m\n",
      "  \u001b[35mbackbone.fpn_lateral4.bias\u001b[0m\n",
      "  \u001b[35mbackbone.fpn_output4.bias\u001b[0m\n",
      "  \u001b[35mbackbone.fpn_lateral5.bias\u001b[0m\n",
      "  \u001b[35mbackbone.fpn_output5.bias\u001b[0m\n",
      " 26%|█████████▉                             | 253/987 [20:59<1:47:15,  8.77s/it]"
     ]
    },
    {
     "name": "stdout",
     "output_type": "stream",
     "text": [
      "09_09_1936_00000009\n",
      "Pages/09_09_1936_00000009.tif.large.jpg\n"
     ]
    },
    {
     "name": "stderr",
     "output_type": "stream",
     "text": [
      "The checkpoint state_dict contains keys that are not used by the model:\n",
      "  \u001b[35mbackbone.fpn_lateral2.bias\u001b[0m\n",
      "  \u001b[35mbackbone.fpn_output2.bias\u001b[0m\n",
      "  \u001b[35mbackbone.fpn_lateral3.bias\u001b[0m\n",
      "  \u001b[35mbackbone.fpn_output3.bias\u001b[0m\n",
      "  \u001b[35mbackbone.fpn_lateral4.bias\u001b[0m\n",
      "  \u001b[35mbackbone.fpn_output4.bias\u001b[0m\n",
      "  \u001b[35mbackbone.fpn_lateral5.bias\u001b[0m\n",
      "  \u001b[35mbackbone.fpn_output5.bias\u001b[0m\n",
      " 26%|██████████                             | 254/987 [21:11<1:59:15,  9.76s/it]"
     ]
    },
    {
     "name": "stdout",
     "output_type": "stream",
     "text": [
      "08_03_1936_00000034\n",
      "Pages/08_03_1936_00000034.tif.large.jpg\n"
     ]
    },
    {
     "name": "stderr",
     "output_type": "stream",
     "text": [
      "The checkpoint state_dict contains keys that are not used by the model:\n",
      "  \u001b[35mbackbone.fpn_lateral2.bias\u001b[0m\n",
      "  \u001b[35mbackbone.fpn_output2.bias\u001b[0m\n",
      "  \u001b[35mbackbone.fpn_lateral3.bias\u001b[0m\n",
      "  \u001b[35mbackbone.fpn_output3.bias\u001b[0m\n",
      "  \u001b[35mbackbone.fpn_lateral4.bias\u001b[0m\n",
      "  \u001b[35mbackbone.fpn_output4.bias\u001b[0m\n",
      "  \u001b[35mbackbone.fpn_lateral5.bias\u001b[0m\n",
      "  \u001b[35mbackbone.fpn_output5.bias\u001b[0m\n",
      " 26%|██████████                             | 255/987 [21:24<2:10:15, 10.68s/it]"
     ]
    },
    {
     "name": "stdout",
     "output_type": "stream",
     "text": [
      "19_10_1936_00000001\n",
      "Pages/19_10_1936_00000001.tif.large.jpg\n"
     ]
    },
    {
     "name": "stderr",
     "output_type": "stream",
     "text": [
      "The checkpoint state_dict contains keys that are not used by the model:\n",
      "  \u001b[35mbackbone.fpn_lateral2.bias\u001b[0m\n",
      "  \u001b[35mbackbone.fpn_output2.bias\u001b[0m\n",
      "  \u001b[35mbackbone.fpn_lateral3.bias\u001b[0m\n",
      "  \u001b[35mbackbone.fpn_output3.bias\u001b[0m\n",
      "  \u001b[35mbackbone.fpn_lateral4.bias\u001b[0m\n",
      "  \u001b[35mbackbone.fpn_output4.bias\u001b[0m\n",
      "  \u001b[35mbackbone.fpn_lateral5.bias\u001b[0m\n",
      "  \u001b[35mbackbone.fpn_output5.bias\u001b[0m\n",
      " 26%|██████████                             | 256/987 [21:34<2:05:48, 10.33s/it]"
     ]
    },
    {
     "name": "stdout",
     "output_type": "stream",
     "text": [
      "31_07_1936_00000009\n",
      "Pages/31_07_1936_00000009.tif.large.jpg\n"
     ]
    },
    {
     "name": "stderr",
     "output_type": "stream",
     "text": [
      "The checkpoint state_dict contains keys that are not used by the model:\n",
      "  \u001b[35mbackbone.fpn_lateral2.bias\u001b[0m\n",
      "  \u001b[35mbackbone.fpn_output2.bias\u001b[0m\n",
      "  \u001b[35mbackbone.fpn_lateral3.bias\u001b[0m\n",
      "  \u001b[35mbackbone.fpn_output3.bias\u001b[0m\n",
      "  \u001b[35mbackbone.fpn_lateral4.bias\u001b[0m\n",
      "  \u001b[35mbackbone.fpn_output4.bias\u001b[0m\n",
      "  \u001b[35mbackbone.fpn_lateral5.bias\u001b[0m\n",
      "  \u001b[35mbackbone.fpn_output5.bias\u001b[0m\n",
      " 26%|██████████▏                            | 257/987 [21:46<2:11:38, 10.82s/it]"
     ]
    },
    {
     "name": "stdout",
     "output_type": "stream",
     "text": [
      "20_03_1936_00000009\n",
      "Pages/20_03_1936_00000009.tif.large.jpg\n"
     ]
    },
    {
     "name": "stderr",
     "output_type": "stream",
     "text": [
      "The checkpoint state_dict contains keys that are not used by the model:\n",
      "  \u001b[35mbackbone.fpn_lateral2.bias\u001b[0m\n",
      "  \u001b[35mbackbone.fpn_output2.bias\u001b[0m\n",
      "  \u001b[35mbackbone.fpn_lateral3.bias\u001b[0m\n",
      "  \u001b[35mbackbone.fpn_output3.bias\u001b[0m\n",
      "  \u001b[35mbackbone.fpn_lateral4.bias\u001b[0m\n",
      "  \u001b[35mbackbone.fpn_output4.bias\u001b[0m\n",
      "  \u001b[35mbackbone.fpn_lateral5.bias\u001b[0m\n",
      "  \u001b[35mbackbone.fpn_output5.bias\u001b[0m\n",
      " 26%|██████████▏                            | 258/987 [21:59<2:21:59, 11.69s/it]"
     ]
    },
    {
     "name": "stdout",
     "output_type": "stream",
     "text": [
      "29_03_1936_00000008\n",
      "Pages/29_03_1936_00000008.tif.large.jpg\n"
     ]
    },
    {
     "name": "stderr",
     "output_type": "stream",
     "text": [
      "The checkpoint state_dict contains keys that are not used by the model:\n",
      "  \u001b[35mbackbone.fpn_lateral2.bias\u001b[0m\n",
      "  \u001b[35mbackbone.fpn_output2.bias\u001b[0m\n",
      "  \u001b[35mbackbone.fpn_lateral3.bias\u001b[0m\n",
      "  \u001b[35mbackbone.fpn_output3.bias\u001b[0m\n",
      "  \u001b[35mbackbone.fpn_lateral4.bias\u001b[0m\n",
      "  \u001b[35mbackbone.fpn_output4.bias\u001b[0m\n",
      "  \u001b[35mbackbone.fpn_lateral5.bias\u001b[0m\n",
      "  \u001b[35mbackbone.fpn_output5.bias\u001b[0m\n",
      " 26%|██████████▏                            | 259/987 [22:11<2:22:25, 11.74s/it]"
     ]
    },
    {
     "name": "stdout",
     "output_type": "stream",
     "text": [
      "12_04_1936_00000005\n",
      "Pages/12_04_1936_00000005.tif.large.jpg\n"
     ]
    },
    {
     "name": "stderr",
     "output_type": "stream",
     "text": [
      "The checkpoint state_dict contains keys that are not used by the model:\n",
      "  \u001b[35mbackbone.fpn_lateral2.bias\u001b[0m\n",
      "  \u001b[35mbackbone.fpn_output2.bias\u001b[0m\n",
      "  \u001b[35mbackbone.fpn_lateral3.bias\u001b[0m\n",
      "  \u001b[35mbackbone.fpn_output3.bias\u001b[0m\n",
      "  \u001b[35mbackbone.fpn_lateral4.bias\u001b[0m\n",
      "  \u001b[35mbackbone.fpn_output4.bias\u001b[0m\n",
      "  \u001b[35mbackbone.fpn_lateral5.bias\u001b[0m\n",
      "  \u001b[35mbackbone.fpn_output5.bias\u001b[0m\n",
      " 26%|██████████▎                            | 260/987 [22:17<1:59:35,  9.87s/it]"
     ]
    },
    {
     "name": "stdout",
     "output_type": "stream",
     "text": [
      "23_07_1936_00000009\n",
      "Pages/23_07_1936_00000009.tif.large.jpg\n"
     ]
    },
    {
     "name": "stderr",
     "output_type": "stream",
     "text": [
      "The checkpoint state_dict contains keys that are not used by the model:\n",
      "  \u001b[35mbackbone.fpn_lateral2.bias\u001b[0m\n",
      "  \u001b[35mbackbone.fpn_output2.bias\u001b[0m\n",
      "  \u001b[35mbackbone.fpn_lateral3.bias\u001b[0m\n",
      "  \u001b[35mbackbone.fpn_output3.bias\u001b[0m\n",
      "  \u001b[35mbackbone.fpn_lateral4.bias\u001b[0m\n",
      "  \u001b[35mbackbone.fpn_output4.bias\u001b[0m\n",
      "  \u001b[35mbackbone.fpn_lateral5.bias\u001b[0m\n",
      "  \u001b[35mbackbone.fpn_output5.bias\u001b[0m\n",
      " 26%|██████████▎                            | 261/987 [22:21<1:40:32,  8.31s/it]"
     ]
    },
    {
     "name": "stdout",
     "output_type": "stream",
     "text": [
      "06_03_1936_00000009\n",
      "Pages/06_03_1936_00000009.tif.large.jpg\n"
     ]
    },
    {
     "name": "stderr",
     "output_type": "stream",
     "text": [
      "The checkpoint state_dict contains keys that are not used by the model:\n",
      "  \u001b[35mbackbone.fpn_lateral2.bias\u001b[0m\n",
      "  \u001b[35mbackbone.fpn_output2.bias\u001b[0m\n",
      "  \u001b[35mbackbone.fpn_lateral3.bias\u001b[0m\n",
      "  \u001b[35mbackbone.fpn_output3.bias\u001b[0m\n",
      "  \u001b[35mbackbone.fpn_lateral4.bias\u001b[0m\n",
      "  \u001b[35mbackbone.fpn_output4.bias\u001b[0m\n",
      "  \u001b[35mbackbone.fpn_lateral5.bias\u001b[0m\n",
      "  \u001b[35mbackbone.fpn_output5.bias\u001b[0m\n",
      " 27%|██████████▎                            | 262/987 [22:26<1:26:41,  7.17s/it]"
     ]
    },
    {
     "name": "stdout",
     "output_type": "stream",
     "text": [
      "16_10_1936_00000002\n",
      "Pages/16_10_1936_00000002.tif.large.jpg\n"
     ]
    },
    {
     "name": "stderr",
     "output_type": "stream",
     "text": [
      "The checkpoint state_dict contains keys that are not used by the model:\n",
      "  \u001b[35mbackbone.fpn_lateral2.bias\u001b[0m\n",
      "  \u001b[35mbackbone.fpn_output2.bias\u001b[0m\n",
      "  \u001b[35mbackbone.fpn_lateral3.bias\u001b[0m\n",
      "  \u001b[35mbackbone.fpn_output3.bias\u001b[0m\n",
      "  \u001b[35mbackbone.fpn_lateral4.bias\u001b[0m\n",
      "  \u001b[35mbackbone.fpn_output4.bias\u001b[0m\n",
      "  \u001b[35mbackbone.fpn_lateral5.bias\u001b[0m\n",
      "  \u001b[35mbackbone.fpn_output5.bias\u001b[0m\n",
      " 27%|██████████▍                            | 263/987 [22:30<1:16:56,  6.38s/it]"
     ]
    },
    {
     "name": "stdout",
     "output_type": "stream",
     "text": [
      "23_03_1936_00000013\n",
      "Pages/23_03_1936_00000013.tif.large.jpg\n"
     ]
    },
    {
     "name": "stderr",
     "output_type": "stream",
     "text": [
      "The checkpoint state_dict contains keys that are not used by the model:\n",
      "  \u001b[35mbackbone.fpn_lateral2.bias\u001b[0m\n",
      "  \u001b[35mbackbone.fpn_output2.bias\u001b[0m\n",
      "  \u001b[35mbackbone.fpn_lateral3.bias\u001b[0m\n",
      "  \u001b[35mbackbone.fpn_output3.bias\u001b[0m\n",
      "  \u001b[35mbackbone.fpn_lateral4.bias\u001b[0m\n",
      "  \u001b[35mbackbone.fpn_output4.bias\u001b[0m\n",
      "  \u001b[35mbackbone.fpn_lateral5.bias\u001b[0m\n",
      "  \u001b[35mbackbone.fpn_output5.bias\u001b[0m\n",
      " 27%|██████████▍                            | 264/987 [22:35<1:10:23,  5.84s/it]"
     ]
    },
    {
     "name": "stdout",
     "output_type": "stream",
     "text": [
      "05_04_1936_00000005\n",
      "Pages/05_04_1936_00000005.tif.large.jpg\n"
     ]
    },
    {
     "name": "stderr",
     "output_type": "stream",
     "text": [
      "The checkpoint state_dict contains keys that are not used by the model:\n",
      "  \u001b[35mbackbone.fpn_lateral2.bias\u001b[0m\n",
      "  \u001b[35mbackbone.fpn_output2.bias\u001b[0m\n",
      "  \u001b[35mbackbone.fpn_lateral3.bias\u001b[0m\n",
      "  \u001b[35mbackbone.fpn_output3.bias\u001b[0m\n",
      "  \u001b[35mbackbone.fpn_lateral4.bias\u001b[0m\n",
      "  \u001b[35mbackbone.fpn_output4.bias\u001b[0m\n",
      "  \u001b[35mbackbone.fpn_lateral5.bias\u001b[0m\n",
      "  \u001b[35mbackbone.fpn_output5.bias\u001b[0m\n",
      " 27%|██████████▍                            | 265/987 [22:40<1:07:01,  5.57s/it]"
     ]
    },
    {
     "name": "stdout",
     "output_type": "stream",
     "text": [
      "12_10_1936_00000002\n",
      "Pages/12_10_1936_00000002.tif.large.jpg\n"
     ]
    },
    {
     "name": "stderr",
     "output_type": "stream",
     "text": [
      "The checkpoint state_dict contains keys that are not used by the model:\n",
      "  \u001b[35mbackbone.fpn_lateral2.bias\u001b[0m\n",
      "  \u001b[35mbackbone.fpn_output2.bias\u001b[0m\n",
      "  \u001b[35mbackbone.fpn_lateral3.bias\u001b[0m\n",
      "  \u001b[35mbackbone.fpn_output3.bias\u001b[0m\n",
      "  \u001b[35mbackbone.fpn_lateral4.bias\u001b[0m\n",
      "  \u001b[35mbackbone.fpn_output4.bias\u001b[0m\n",
      "  \u001b[35mbackbone.fpn_lateral5.bias\u001b[0m\n",
      "  \u001b[35mbackbone.fpn_output5.bias\u001b[0m\n",
      " 27%|██████████▌                            | 266/987 [22:45<1:06:17,  5.52s/it]"
     ]
    },
    {
     "name": "stdout",
     "output_type": "stream",
     "text": [
      "26_04_1936_00000024\n",
      "Pages/26_04_1936_00000024.tif.large.jpg\n"
     ]
    },
    {
     "name": "stderr",
     "output_type": "stream",
     "text": [
      "The checkpoint state_dict contains keys that are not used by the model:\n",
      "  \u001b[35mbackbone.fpn_lateral2.bias\u001b[0m\n",
      "  \u001b[35mbackbone.fpn_output2.bias\u001b[0m\n",
      "  \u001b[35mbackbone.fpn_lateral3.bias\u001b[0m\n",
      "  \u001b[35mbackbone.fpn_output3.bias\u001b[0m\n",
      "  \u001b[35mbackbone.fpn_lateral4.bias\u001b[0m\n",
      "  \u001b[35mbackbone.fpn_output4.bias\u001b[0m\n",
      "  \u001b[35mbackbone.fpn_lateral5.bias\u001b[0m\n",
      "  \u001b[35mbackbone.fpn_output5.bias\u001b[0m\n",
      " 27%|██████████▌                            | 267/987 [22:51<1:05:37,  5.47s/it]"
     ]
    },
    {
     "name": "stdout",
     "output_type": "stream",
     "text": [
      "19_12_1936_00000005\n",
      "Pages/19_12_1936_00000005.tif.large.jpg\n"
     ]
    },
    {
     "name": "stderr",
     "output_type": "stream",
     "text": [
      "The checkpoint state_dict contains keys that are not used by the model:\n",
      "  \u001b[35mbackbone.fpn_lateral2.bias\u001b[0m\n",
      "  \u001b[35mbackbone.fpn_output2.bias\u001b[0m\n",
      "  \u001b[35mbackbone.fpn_lateral3.bias\u001b[0m\n",
      "  \u001b[35mbackbone.fpn_output3.bias\u001b[0m\n",
      "  \u001b[35mbackbone.fpn_lateral4.bias\u001b[0m\n",
      "  \u001b[35mbackbone.fpn_output4.bias\u001b[0m\n",
      "  \u001b[35mbackbone.fpn_lateral5.bias\u001b[0m\n",
      "  \u001b[35mbackbone.fpn_output5.bias\u001b[0m\n",
      " 27%|██████████▌                            | 268/987 [22:56<1:05:49,  5.49s/it]"
     ]
    },
    {
     "name": "stdout",
     "output_type": "stream",
     "text": [
      "09_04_1936_00000022\n",
      "Pages/09_04_1936_00000022.tif.large.jpg\n"
     ]
    },
    {
     "name": "stderr",
     "output_type": "stream",
     "text": [
      "The checkpoint state_dict contains keys that are not used by the model:\n",
      "  \u001b[35mbackbone.fpn_lateral2.bias\u001b[0m\n",
      "  \u001b[35mbackbone.fpn_output2.bias\u001b[0m\n",
      "  \u001b[35mbackbone.fpn_lateral3.bias\u001b[0m\n",
      "  \u001b[35mbackbone.fpn_output3.bias\u001b[0m\n",
      "  \u001b[35mbackbone.fpn_lateral4.bias\u001b[0m\n",
      "  \u001b[35mbackbone.fpn_output4.bias\u001b[0m\n",
      "  \u001b[35mbackbone.fpn_lateral5.bias\u001b[0m\n",
      "  \u001b[35mbackbone.fpn_output5.bias\u001b[0m\n",
      " 27%|██████████▋                            | 269/987 [23:02<1:06:13,  5.53s/it]"
     ]
    },
    {
     "name": "stdout",
     "output_type": "stream",
     "text": [
      "18_03_1936_00000002\n",
      "Pages/18_03_1936_00000002.tif.large.jpg\n"
     ]
    },
    {
     "name": "stderr",
     "output_type": "stream",
     "text": [
      "The checkpoint state_dict contains keys that are not used by the model:\n",
      "  \u001b[35mbackbone.fpn_lateral2.bias\u001b[0m\n",
      "  \u001b[35mbackbone.fpn_output2.bias\u001b[0m\n",
      "  \u001b[35mbackbone.fpn_lateral3.bias\u001b[0m\n",
      "  \u001b[35mbackbone.fpn_output3.bias\u001b[0m\n",
      "  \u001b[35mbackbone.fpn_lateral4.bias\u001b[0m\n",
      "  \u001b[35mbackbone.fpn_output4.bias\u001b[0m\n",
      "  \u001b[35mbackbone.fpn_lateral5.bias\u001b[0m\n",
      "  \u001b[35mbackbone.fpn_output5.bias\u001b[0m\n",
      " 27%|██████████▋                            | 270/987 [23:07<1:06:09,  5.54s/it]"
     ]
    },
    {
     "name": "stdout",
     "output_type": "stream",
     "text": [
      "03_11_1936_00000012\n",
      "Pages/03_11_1936_00000012.tif.large.jpg\n"
     ]
    },
    {
     "name": "stderr",
     "output_type": "stream",
     "text": [
      "The checkpoint state_dict contains keys that are not used by the model:\n",
      "  \u001b[35mbackbone.fpn_lateral2.bias\u001b[0m\n",
      "  \u001b[35mbackbone.fpn_output2.bias\u001b[0m\n",
      "  \u001b[35mbackbone.fpn_lateral3.bias\u001b[0m\n",
      "  \u001b[35mbackbone.fpn_output3.bias\u001b[0m\n",
      "  \u001b[35mbackbone.fpn_lateral4.bias\u001b[0m\n",
      "  \u001b[35mbackbone.fpn_output4.bias\u001b[0m\n",
      "  \u001b[35mbackbone.fpn_lateral5.bias\u001b[0m\n",
      "  \u001b[35mbackbone.fpn_output5.bias\u001b[0m\n",
      " 27%|██████████▋                            | 271/987 [23:12<1:03:50,  5.35s/it]"
     ]
    },
    {
     "name": "stdout",
     "output_type": "stream",
     "text": [
      "20_12_1936_00000005\n",
      "Pages/20_12_1936_00000005.tif.large.jpg\n"
     ]
    },
    {
     "name": "stderr",
     "output_type": "stream",
     "text": [
      "The checkpoint state_dict contains keys that are not used by the model:\n",
      "  \u001b[35mbackbone.fpn_lateral2.bias\u001b[0m\n",
      "  \u001b[35mbackbone.fpn_output2.bias\u001b[0m\n",
      "  \u001b[35mbackbone.fpn_lateral3.bias\u001b[0m\n",
      "  \u001b[35mbackbone.fpn_output3.bias\u001b[0m\n",
      "  \u001b[35mbackbone.fpn_lateral4.bias\u001b[0m\n",
      "  \u001b[35mbackbone.fpn_output4.bias\u001b[0m\n",
      "  \u001b[35mbackbone.fpn_lateral5.bias\u001b[0m\n",
      "  \u001b[35mbackbone.fpn_output5.bias\u001b[0m\n",
      " 28%|██████████▋                            | 272/987 [23:17<1:01:36,  5.17s/it]"
     ]
    },
    {
     "name": "stdout",
     "output_type": "stream",
     "text": [
      "19_10_1936_00000002\n",
      "Pages/19_10_1936_00000002.tif.large.jpg\n"
     ]
    },
    {
     "name": "stderr",
     "output_type": "stream",
     "text": [
      "The checkpoint state_dict contains keys that are not used by the model:\n",
      "  \u001b[35mbackbone.fpn_lateral2.bias\u001b[0m\n",
      "  \u001b[35mbackbone.fpn_output2.bias\u001b[0m\n",
      "  \u001b[35mbackbone.fpn_lateral3.bias\u001b[0m\n",
      "  \u001b[35mbackbone.fpn_output3.bias\u001b[0m\n",
      "  \u001b[35mbackbone.fpn_lateral4.bias\u001b[0m\n",
      "  \u001b[35mbackbone.fpn_output4.bias\u001b[0m\n",
      "  \u001b[35mbackbone.fpn_lateral5.bias\u001b[0m\n",
      "  \u001b[35mbackbone.fpn_output5.bias\u001b[0m\n",
      " 28%|██████████▊                            | 273/987 [23:22<1:01:27,  5.16s/it]"
     ]
    },
    {
     "name": "stdout",
     "output_type": "stream",
     "text": [
      "25_03_1936_00000002\n",
      "Pages/25_03_1936_00000002.tif.large.jpg\n"
     ]
    },
    {
     "name": "stderr",
     "output_type": "stream",
     "text": [
      "The checkpoint state_dict contains keys that are not used by the model:\n",
      "  \u001b[35mbackbone.fpn_lateral2.bias\u001b[0m\n",
      "  \u001b[35mbackbone.fpn_output2.bias\u001b[0m\n",
      "  \u001b[35mbackbone.fpn_lateral3.bias\u001b[0m\n",
      "  \u001b[35mbackbone.fpn_output3.bias\u001b[0m\n",
      "  \u001b[35mbackbone.fpn_lateral4.bias\u001b[0m\n",
      "  \u001b[35mbackbone.fpn_output4.bias\u001b[0m\n",
      "  \u001b[35mbackbone.fpn_lateral5.bias\u001b[0m\n",
      "  \u001b[35mbackbone.fpn_output5.bias\u001b[0m\n",
      " 28%|██████████▊                            | 274/987 [23:27<1:01:09,  5.15s/it]"
     ]
    },
    {
     "name": "stdout",
     "output_type": "stream",
     "text": [
      "17_09_1936_00000013\n",
      "Pages/17_09_1936_00000013.tif.large.jpg\n"
     ]
    },
    {
     "name": "stderr",
     "output_type": "stream",
     "text": [
      "The checkpoint state_dict contains keys that are not used by the model:\n",
      "  \u001b[35mbackbone.fpn_lateral2.bias\u001b[0m\n",
      "  \u001b[35mbackbone.fpn_output2.bias\u001b[0m\n",
      "  \u001b[35mbackbone.fpn_lateral3.bias\u001b[0m\n",
      "  \u001b[35mbackbone.fpn_output3.bias\u001b[0m\n",
      "  \u001b[35mbackbone.fpn_lateral4.bias\u001b[0m\n",
      "  \u001b[35mbackbone.fpn_output4.bias\u001b[0m\n",
      "  \u001b[35mbackbone.fpn_lateral5.bias\u001b[0m\n",
      "  \u001b[35mbackbone.fpn_output5.bias\u001b[0m\n",
      " 28%|███████████▍                             | 275/987 [23:32<59:07,  4.98s/it]"
     ]
    },
    {
     "name": "stdout",
     "output_type": "stream",
     "text": [
      "27_07_1936_00000006\n",
      "Pages/27_07_1936_00000006.tif.large.jpg\n"
     ]
    },
    {
     "name": "stderr",
     "output_type": "stream",
     "text": [
      "The checkpoint state_dict contains keys that are not used by the model:\n",
      "  \u001b[35mbackbone.fpn_lateral2.bias\u001b[0m\n",
      "  \u001b[35mbackbone.fpn_output2.bias\u001b[0m\n",
      "  \u001b[35mbackbone.fpn_lateral3.bias\u001b[0m\n",
      "  \u001b[35mbackbone.fpn_output3.bias\u001b[0m\n",
      "  \u001b[35mbackbone.fpn_lateral4.bias\u001b[0m\n",
      "  \u001b[35mbackbone.fpn_output4.bias\u001b[0m\n",
      "  \u001b[35mbackbone.fpn_lateral5.bias\u001b[0m\n",
      "  \u001b[35mbackbone.fpn_output5.bias\u001b[0m\n",
      " 28%|███████████▍                             | 276/987 [23:36<57:21,  4.84s/it]"
     ]
    },
    {
     "name": "stdout",
     "output_type": "stream",
     "text": [
      "12_08_1936_00000015\n",
      "Pages/12_08_1936_00000015.tif.large.jpg\n"
     ]
    },
    {
     "name": "stderr",
     "output_type": "stream",
     "text": [
      "The checkpoint state_dict contains keys that are not used by the model:\n",
      "  \u001b[35mbackbone.fpn_lateral2.bias\u001b[0m\n",
      "  \u001b[35mbackbone.fpn_output2.bias\u001b[0m\n",
      "  \u001b[35mbackbone.fpn_lateral3.bias\u001b[0m\n",
      "  \u001b[35mbackbone.fpn_output3.bias\u001b[0m\n",
      "  \u001b[35mbackbone.fpn_lateral4.bias\u001b[0m\n",
      "  \u001b[35mbackbone.fpn_output4.bias\u001b[0m\n",
      "  \u001b[35mbackbone.fpn_lateral5.bias\u001b[0m\n",
      "  \u001b[35mbackbone.fpn_output5.bias\u001b[0m\n",
      " 28%|███████████▌                             | 277/987 [23:42<59:45,  5.05s/it]"
     ]
    },
    {
     "name": "stdout",
     "output_type": "stream",
     "text": [
      "28_07_1936_00000006\n",
      "Pages/28_07_1936_00000006.tif.large.jpg\n"
     ]
    },
    {
     "name": "stderr",
     "output_type": "stream",
     "text": [
      "The checkpoint state_dict contains keys that are not used by the model:\n",
      "  \u001b[35mbackbone.fpn_lateral2.bias\u001b[0m\n",
      "  \u001b[35mbackbone.fpn_output2.bias\u001b[0m\n",
      "  \u001b[35mbackbone.fpn_lateral3.bias\u001b[0m\n",
      "  \u001b[35mbackbone.fpn_output3.bias\u001b[0m\n",
      "  \u001b[35mbackbone.fpn_lateral4.bias\u001b[0m\n",
      "  \u001b[35mbackbone.fpn_output4.bias\u001b[0m\n",
      "  \u001b[35mbackbone.fpn_lateral5.bias\u001b[0m\n",
      "  \u001b[35mbackbone.fpn_output5.bias\u001b[0m\n",
      " 28%|██████████▉                            | 278/987 [23:47<1:00:24,  5.11s/it]"
     ]
    },
    {
     "name": "stdout",
     "output_type": "stream",
     "text": [
      "12_02_1936_00000003\n",
      "Pages/12_02_1936_00000003.tif.large.jpg\n"
     ]
    },
    {
     "name": "stderr",
     "output_type": "stream",
     "text": [
      "The checkpoint state_dict contains keys that are not used by the model:\n",
      "  \u001b[35mbackbone.fpn_lateral2.bias\u001b[0m\n",
      "  \u001b[35mbackbone.fpn_output2.bias\u001b[0m\n",
      "  \u001b[35mbackbone.fpn_lateral3.bias\u001b[0m\n",
      "  \u001b[35mbackbone.fpn_output3.bias\u001b[0m\n",
      "  \u001b[35mbackbone.fpn_lateral4.bias\u001b[0m\n",
      "  \u001b[35mbackbone.fpn_output4.bias\u001b[0m\n",
      "  \u001b[35mbackbone.fpn_lateral5.bias\u001b[0m\n",
      "  \u001b[35mbackbone.fpn_output5.bias\u001b[0m\n",
      " 28%|███████████                            | 279/987 [23:52<1:00:55,  5.16s/it]"
     ]
    },
    {
     "name": "stdout",
     "output_type": "stream",
     "text": [
      "22_04_1936_00000019\n",
      "Pages/22_04_1936_00000019.tif.large.jpg\n"
     ]
    },
    {
     "name": "stderr",
     "output_type": "stream",
     "text": [
      "The checkpoint state_dict contains keys that are not used by the model:\n",
      "  \u001b[35mbackbone.fpn_lateral2.bias\u001b[0m\n",
      "  \u001b[35mbackbone.fpn_output2.bias\u001b[0m\n",
      "  \u001b[35mbackbone.fpn_lateral3.bias\u001b[0m\n",
      "  \u001b[35mbackbone.fpn_output3.bias\u001b[0m\n",
      "  \u001b[35mbackbone.fpn_lateral4.bias\u001b[0m\n",
      "  \u001b[35mbackbone.fpn_output4.bias\u001b[0m\n",
      "  \u001b[35mbackbone.fpn_lateral5.bias\u001b[0m\n",
      "  \u001b[35mbackbone.fpn_output5.bias\u001b[0m\n",
      " 28%|███████████                            | 280/987 [23:58<1:01:56,  5.26s/it]"
     ]
    },
    {
     "name": "stdout",
     "output_type": "stream",
     "text": [
      "13_09_1936_00000011\n",
      "Pages/13_09_1936_00000011.tif.large.jpg\n"
     ]
    },
    {
     "name": "stderr",
     "output_type": "stream",
     "text": [
      "The checkpoint state_dict contains keys that are not used by the model:\n",
      "  \u001b[35mbackbone.fpn_lateral2.bias\u001b[0m\n",
      "  \u001b[35mbackbone.fpn_output2.bias\u001b[0m\n",
      "  \u001b[35mbackbone.fpn_lateral3.bias\u001b[0m\n",
      "  \u001b[35mbackbone.fpn_output3.bias\u001b[0m\n",
      "  \u001b[35mbackbone.fpn_lateral4.bias\u001b[0m\n",
      "  \u001b[35mbackbone.fpn_output4.bias\u001b[0m\n",
      "  \u001b[35mbackbone.fpn_lateral5.bias\u001b[0m\n",
      "  \u001b[35mbackbone.fpn_output5.bias\u001b[0m\n",
      " 28%|███████████▋                             | 281/987 [24:02<59:23,  5.05s/it]"
     ]
    },
    {
     "name": "stdout",
     "output_type": "stream",
     "text": [
      "19_04_1936_00000007\n",
      "Pages/19_04_1936_00000007.tif.large.jpg\n"
     ]
    },
    {
     "name": "stderr",
     "output_type": "stream",
     "text": [
      "The checkpoint state_dict contains keys that are not used by the model:\n",
      "  \u001b[35mbackbone.fpn_lateral2.bias\u001b[0m\n",
      "  \u001b[35mbackbone.fpn_output2.bias\u001b[0m\n",
      "  \u001b[35mbackbone.fpn_lateral3.bias\u001b[0m\n",
      "  \u001b[35mbackbone.fpn_output3.bias\u001b[0m\n",
      "  \u001b[35mbackbone.fpn_lateral4.bias\u001b[0m\n",
      "  \u001b[35mbackbone.fpn_output4.bias\u001b[0m\n",
      "  \u001b[35mbackbone.fpn_lateral5.bias\u001b[0m\n",
      "  \u001b[35mbackbone.fpn_output5.bias\u001b[0m\n",
      " 29%|███████████▋                             | 282/987 [24:07<58:43,  5.00s/it]"
     ]
    },
    {
     "name": "stdout",
     "output_type": "stream",
     "text": [
      "04_11_1936_00000006\n",
      "Pages/04_11_1936_00000006.tif.large.jpg\n"
     ]
    },
    {
     "name": "stderr",
     "output_type": "stream",
     "text": [
      "The checkpoint state_dict contains keys that are not used by the model:\n",
      "  \u001b[35mbackbone.fpn_lateral2.bias\u001b[0m\n",
      "  \u001b[35mbackbone.fpn_output2.bias\u001b[0m\n",
      "  \u001b[35mbackbone.fpn_lateral3.bias\u001b[0m\n",
      "  \u001b[35mbackbone.fpn_output3.bias\u001b[0m\n",
      "  \u001b[35mbackbone.fpn_lateral4.bias\u001b[0m\n",
      "  \u001b[35mbackbone.fpn_output4.bias\u001b[0m\n",
      "  \u001b[35mbackbone.fpn_lateral5.bias\u001b[0m\n",
      "  \u001b[35mbackbone.fpn_output5.bias\u001b[0m\n",
      " 29%|███████████▊                             | 283/987 [24:12<57:42,  4.92s/it]"
     ]
    },
    {
     "name": "stdout",
     "output_type": "stream",
     "text": [
      "29_03_1936_00000006\n",
      "Pages/29_03_1936_00000006.tif.large.jpg\n"
     ]
    },
    {
     "name": "stderr",
     "output_type": "stream",
     "text": [
      "The checkpoint state_dict contains keys that are not used by the model:\n",
      "  \u001b[35mbackbone.fpn_lateral2.bias\u001b[0m\n",
      "  \u001b[35mbackbone.fpn_output2.bias\u001b[0m\n",
      "  \u001b[35mbackbone.fpn_lateral3.bias\u001b[0m\n",
      "  \u001b[35mbackbone.fpn_output3.bias\u001b[0m\n",
      "  \u001b[35mbackbone.fpn_lateral4.bias\u001b[0m\n",
      "  \u001b[35mbackbone.fpn_output4.bias\u001b[0m\n",
      "  \u001b[35mbackbone.fpn_lateral5.bias\u001b[0m\n",
      "  \u001b[35mbackbone.fpn_output5.bias\u001b[0m\n",
      " 29%|███████████▊                             | 284/987 [24:17<56:35,  4.83s/it]"
     ]
    },
    {
     "name": "stdout",
     "output_type": "stream",
     "text": [
      "01_12_1936_00000014\n",
      "Pages/01_12_1936_00000014.tif.large.jpg\n"
     ]
    },
    {
     "name": "stderr",
     "output_type": "stream",
     "text": [
      "The checkpoint state_dict contains keys that are not used by the model:\n",
      "  \u001b[35mbackbone.fpn_lateral2.bias\u001b[0m\n",
      "  \u001b[35mbackbone.fpn_output2.bias\u001b[0m\n",
      "  \u001b[35mbackbone.fpn_lateral3.bias\u001b[0m\n",
      "  \u001b[35mbackbone.fpn_output3.bias\u001b[0m\n",
      "  \u001b[35mbackbone.fpn_lateral4.bias\u001b[0m\n",
      "  \u001b[35mbackbone.fpn_output4.bias\u001b[0m\n",
      "  \u001b[35mbackbone.fpn_lateral5.bias\u001b[0m\n",
      "  \u001b[35mbackbone.fpn_output5.bias\u001b[0m\n",
      " 29%|███████████▊                             | 285/987 [24:21<55:46,  4.77s/it]"
     ]
    },
    {
     "name": "stdout",
     "output_type": "stream",
     "text": [
      "29_10_1936_00000014\n",
      "Pages/29_10_1936_00000014.tif.large.jpg\n"
     ]
    },
    {
     "name": "stderr",
     "output_type": "stream",
     "text": [
      "The checkpoint state_dict contains keys that are not used by the model:\n",
      "  \u001b[35mbackbone.fpn_lateral2.bias\u001b[0m\n",
      "  \u001b[35mbackbone.fpn_output2.bias\u001b[0m\n",
      "  \u001b[35mbackbone.fpn_lateral3.bias\u001b[0m\n",
      "  \u001b[35mbackbone.fpn_output3.bias\u001b[0m\n",
      "  \u001b[35mbackbone.fpn_lateral4.bias\u001b[0m\n",
      "  \u001b[35mbackbone.fpn_output4.bias\u001b[0m\n",
      "  \u001b[35mbackbone.fpn_lateral5.bias\u001b[0m\n",
      "  \u001b[35mbackbone.fpn_output5.bias\u001b[0m\n",
      " 29%|███████████▉                             | 286/987 [24:26<54:55,  4.70s/it]"
     ]
    },
    {
     "name": "stdout",
     "output_type": "stream",
     "text": [
      "14_08_1936_00000002\n",
      "Pages/14_08_1936_00000002.tif.large.jpg\n"
     ]
    },
    {
     "name": "stderr",
     "output_type": "stream",
     "text": [
      "The checkpoint state_dict contains keys that are not used by the model:\n",
      "  \u001b[35mbackbone.fpn_lateral2.bias\u001b[0m\n",
      "  \u001b[35mbackbone.fpn_output2.bias\u001b[0m\n",
      "  \u001b[35mbackbone.fpn_lateral3.bias\u001b[0m\n",
      "  \u001b[35mbackbone.fpn_output3.bias\u001b[0m\n",
      "  \u001b[35mbackbone.fpn_lateral4.bias\u001b[0m\n",
      "  \u001b[35mbackbone.fpn_output4.bias\u001b[0m\n",
      "  \u001b[35mbackbone.fpn_lateral5.bias\u001b[0m\n",
      "  \u001b[35mbackbone.fpn_output5.bias\u001b[0m\n",
      " 29%|███████████▉                             | 287/987 [24:30<54:16,  4.65s/it]"
     ]
    },
    {
     "name": "stdout",
     "output_type": "stream",
     "text": [
      "18_08_1936_00000001\n",
      "Pages/18_08_1936_00000001.tif.large.jpg\n"
     ]
    },
    {
     "name": "stderr",
     "output_type": "stream",
     "text": [
      "The checkpoint state_dict contains keys that are not used by the model:\n",
      "  \u001b[35mbackbone.fpn_lateral2.bias\u001b[0m\n",
      "  \u001b[35mbackbone.fpn_output2.bias\u001b[0m\n",
      "  \u001b[35mbackbone.fpn_lateral3.bias\u001b[0m\n",
      "  \u001b[35mbackbone.fpn_output3.bias\u001b[0m\n",
      "  \u001b[35mbackbone.fpn_lateral4.bias\u001b[0m\n",
      "  \u001b[35mbackbone.fpn_output4.bias\u001b[0m\n",
      "  \u001b[35mbackbone.fpn_lateral5.bias\u001b[0m\n",
      "  \u001b[35mbackbone.fpn_output5.bias\u001b[0m\n",
      " 29%|███████████▉                             | 288/987 [24:35<54:02,  4.64s/it]"
     ]
    },
    {
     "name": "stdout",
     "output_type": "stream",
     "text": [
      "07_03_1936_00000005\n",
      "Pages/07_03_1936_00000005.tif.large.jpg\n"
     ]
    },
    {
     "name": "stderr",
     "output_type": "stream",
     "text": [
      "The checkpoint state_dict contains keys that are not used by the model:\n",
      "  \u001b[35mbackbone.fpn_lateral2.bias\u001b[0m\n",
      "  \u001b[35mbackbone.fpn_output2.bias\u001b[0m\n",
      "  \u001b[35mbackbone.fpn_lateral3.bias\u001b[0m\n",
      "  \u001b[35mbackbone.fpn_output3.bias\u001b[0m\n",
      "  \u001b[35mbackbone.fpn_lateral4.bias\u001b[0m\n",
      "  \u001b[35mbackbone.fpn_output4.bias\u001b[0m\n",
      "  \u001b[35mbackbone.fpn_lateral5.bias\u001b[0m\n",
      "  \u001b[35mbackbone.fpn_output5.bias\u001b[0m\n",
      " 29%|████████████                             | 289/987 [24:40<53:36,  4.61s/it]"
     ]
    },
    {
     "name": "stdout",
     "output_type": "stream",
     "text": [
      "26_03_1936_00000002\n",
      "Pages/26_03_1936_00000002.tif.large.jpg\n"
     ]
    },
    {
     "name": "stderr",
     "output_type": "stream",
     "text": [
      "The checkpoint state_dict contains keys that are not used by the model:\n",
      "  \u001b[35mbackbone.fpn_lateral2.bias\u001b[0m\n",
      "  \u001b[35mbackbone.fpn_output2.bias\u001b[0m\n",
      "  \u001b[35mbackbone.fpn_lateral3.bias\u001b[0m\n",
      "  \u001b[35mbackbone.fpn_output3.bias\u001b[0m\n",
      "  \u001b[35mbackbone.fpn_lateral4.bias\u001b[0m\n",
      "  \u001b[35mbackbone.fpn_output4.bias\u001b[0m\n",
      "  \u001b[35mbackbone.fpn_lateral5.bias\u001b[0m\n",
      "  \u001b[35mbackbone.fpn_output5.bias\u001b[0m\n",
      " 29%|████████████                             | 290/987 [24:44<52:56,  4.56s/it]"
     ]
    },
    {
     "name": "stdout",
     "output_type": "stream",
     "text": [
      "04_10_1936_00000018\n",
      "Pages/04_10_1936_00000018.tif.large.jpg\n"
     ]
    },
    {
     "name": "stderr",
     "output_type": "stream",
     "text": [
      "The checkpoint state_dict contains keys that are not used by the model:\n",
      "  \u001b[35mbackbone.fpn_lateral2.bias\u001b[0m\n",
      "  \u001b[35mbackbone.fpn_output2.bias\u001b[0m\n",
      "  \u001b[35mbackbone.fpn_lateral3.bias\u001b[0m\n",
      "  \u001b[35mbackbone.fpn_output3.bias\u001b[0m\n",
      "  \u001b[35mbackbone.fpn_lateral4.bias\u001b[0m\n",
      "  \u001b[35mbackbone.fpn_output4.bias\u001b[0m\n",
      "  \u001b[35mbackbone.fpn_lateral5.bias\u001b[0m\n",
      "  \u001b[35mbackbone.fpn_output5.bias\u001b[0m\n",
      " 29%|████████████                             | 291/987 [24:49<52:49,  4.55s/it]"
     ]
    },
    {
     "name": "stdout",
     "output_type": "stream",
     "text": [
      "30_11_1936_00000005\n",
      "Pages/30_11_1936_00000005.tif.large.jpg\n"
     ]
    },
    {
     "name": "stderr",
     "output_type": "stream",
     "text": [
      "The checkpoint state_dict contains keys that are not used by the model:\n",
      "  \u001b[35mbackbone.fpn_lateral2.bias\u001b[0m\n",
      "  \u001b[35mbackbone.fpn_output2.bias\u001b[0m\n",
      "  \u001b[35mbackbone.fpn_lateral3.bias\u001b[0m\n",
      "  \u001b[35mbackbone.fpn_output3.bias\u001b[0m\n",
      "  \u001b[35mbackbone.fpn_lateral4.bias\u001b[0m\n",
      "  \u001b[35mbackbone.fpn_output4.bias\u001b[0m\n",
      "  \u001b[35mbackbone.fpn_lateral5.bias\u001b[0m\n",
      "  \u001b[35mbackbone.fpn_output5.bias\u001b[0m\n",
      " 30%|████████████▏                            | 292/987 [24:53<52:49,  4.56s/it]"
     ]
    },
    {
     "name": "stdout",
     "output_type": "stream",
     "text": [
      "11_09_1936_00000002\n",
      "Pages/11_09_1936_00000002.tif.large.jpg\n"
     ]
    },
    {
     "name": "stderr",
     "output_type": "stream",
     "text": [
      "The checkpoint state_dict contains keys that are not used by the model:\n",
      "  \u001b[35mbackbone.fpn_lateral2.bias\u001b[0m\n",
      "  \u001b[35mbackbone.fpn_output2.bias\u001b[0m\n",
      "  \u001b[35mbackbone.fpn_lateral3.bias\u001b[0m\n",
      "  \u001b[35mbackbone.fpn_output3.bias\u001b[0m\n",
      "  \u001b[35mbackbone.fpn_lateral4.bias\u001b[0m\n",
      "  \u001b[35mbackbone.fpn_output4.bias\u001b[0m\n",
      "  \u001b[35mbackbone.fpn_lateral5.bias\u001b[0m\n",
      "  \u001b[35mbackbone.fpn_output5.bias\u001b[0m\n",
      " 30%|████████████▏                            | 293/987 [24:58<52:35,  4.55s/it]"
     ]
    },
    {
     "name": "stdout",
     "output_type": "stream",
     "text": [
      "03_12_1936_00000011\n",
      "Pages/03_12_1936_00000011.tif.large.jpg\n"
     ]
    },
    {
     "name": "stderr",
     "output_type": "stream",
     "text": [
      "The checkpoint state_dict contains keys that are not used by the model:\n",
      "  \u001b[35mbackbone.fpn_lateral2.bias\u001b[0m\n",
      "  \u001b[35mbackbone.fpn_output2.bias\u001b[0m\n",
      "  \u001b[35mbackbone.fpn_lateral3.bias\u001b[0m\n",
      "  \u001b[35mbackbone.fpn_output3.bias\u001b[0m\n",
      "  \u001b[35mbackbone.fpn_lateral4.bias\u001b[0m\n",
      "  \u001b[35mbackbone.fpn_output4.bias\u001b[0m\n",
      "  \u001b[35mbackbone.fpn_lateral5.bias\u001b[0m\n",
      "  \u001b[35mbackbone.fpn_output5.bias\u001b[0m\n",
      " 30%|████████████▏                            | 294/987 [25:02<52:18,  4.53s/it]"
     ]
    },
    {
     "name": "stdout",
     "output_type": "stream",
     "text": [
      "10_04_1936_00000012\n",
      "Pages/10_04_1936_00000012.tif.large.jpg\n"
     ]
    },
    {
     "name": "stderr",
     "output_type": "stream",
     "text": [
      "The checkpoint state_dict contains keys that are not used by the model:\n",
      "  \u001b[35mbackbone.fpn_lateral2.bias\u001b[0m\n",
      "  \u001b[35mbackbone.fpn_output2.bias\u001b[0m\n",
      "  \u001b[35mbackbone.fpn_lateral3.bias\u001b[0m\n",
      "  \u001b[35mbackbone.fpn_output3.bias\u001b[0m\n",
      "  \u001b[35mbackbone.fpn_lateral4.bias\u001b[0m\n",
      "  \u001b[35mbackbone.fpn_output4.bias\u001b[0m\n",
      "  \u001b[35mbackbone.fpn_lateral5.bias\u001b[0m\n",
      "  \u001b[35mbackbone.fpn_output5.bias\u001b[0m\n",
      " 30%|████████████▎                            | 295/987 [25:07<52:18,  4.54s/it]"
     ]
    },
    {
     "name": "stdout",
     "output_type": "stream",
     "text": [
      "04_11_1936_00000011\n",
      "Pages/04_11_1936_00000011.tif.large.jpg\n"
     ]
    },
    {
     "name": "stderr",
     "output_type": "stream",
     "text": [
      "The checkpoint state_dict contains keys that are not used by the model:\n",
      "  \u001b[35mbackbone.fpn_lateral2.bias\u001b[0m\n",
      "  \u001b[35mbackbone.fpn_output2.bias\u001b[0m\n",
      "  \u001b[35mbackbone.fpn_lateral3.bias\u001b[0m\n",
      "  \u001b[35mbackbone.fpn_output3.bias\u001b[0m\n",
      "  \u001b[35mbackbone.fpn_lateral4.bias\u001b[0m\n",
      "  \u001b[35mbackbone.fpn_output4.bias\u001b[0m\n",
      "  \u001b[35mbackbone.fpn_lateral5.bias\u001b[0m\n",
      "  \u001b[35mbackbone.fpn_output5.bias\u001b[0m\n",
      " 30%|████████████▎                            | 296/987 [25:11<52:16,  4.54s/it]"
     ]
    },
    {
     "name": "stdout",
     "output_type": "stream",
     "text": [
      "19_01_1936_00000005\n",
      "Pages/19_01_1936_00000005.tif.large.jpg\n"
     ]
    },
    {
     "name": "stderr",
     "output_type": "stream",
     "text": [
      "The checkpoint state_dict contains keys that are not used by the model:\n",
      "  \u001b[35mbackbone.fpn_lateral2.bias\u001b[0m\n",
      "  \u001b[35mbackbone.fpn_output2.bias\u001b[0m\n",
      "  \u001b[35mbackbone.fpn_lateral3.bias\u001b[0m\n",
      "  \u001b[35mbackbone.fpn_output3.bias\u001b[0m\n",
      "  \u001b[35mbackbone.fpn_lateral4.bias\u001b[0m\n",
      "  \u001b[35mbackbone.fpn_output4.bias\u001b[0m\n",
      "  \u001b[35mbackbone.fpn_lateral5.bias\u001b[0m\n",
      "  \u001b[35mbackbone.fpn_output5.bias\u001b[0m\n",
      " 30%|████████████▎                            | 297/987 [25:16<52:14,  4.54s/it]"
     ]
    },
    {
     "name": "stdout",
     "output_type": "stream",
     "text": [
      "23_03_1936_00000006\n",
      "Pages/23_03_1936_00000006.tif.large.jpg\n"
     ]
    },
    {
     "name": "stderr",
     "output_type": "stream",
     "text": [
      "The checkpoint state_dict contains keys that are not used by the model:\n",
      "  \u001b[35mbackbone.fpn_lateral2.bias\u001b[0m\n",
      "  \u001b[35mbackbone.fpn_output2.bias\u001b[0m\n",
      "  \u001b[35mbackbone.fpn_lateral3.bias\u001b[0m\n",
      "  \u001b[35mbackbone.fpn_output3.bias\u001b[0m\n",
      "  \u001b[35mbackbone.fpn_lateral4.bias\u001b[0m\n",
      "  \u001b[35mbackbone.fpn_output4.bias\u001b[0m\n",
      "  \u001b[35mbackbone.fpn_lateral5.bias\u001b[0m\n",
      "  \u001b[35mbackbone.fpn_output5.bias\u001b[0m\n",
      " 30%|████████████▍                            | 298/987 [25:20<52:10,  4.54s/it]"
     ]
    },
    {
     "name": "stdout",
     "output_type": "stream",
     "text": [
      "06_01_1936_00000005\n",
      "Pages/06_01_1936_00000005.tif.large.jpg\n"
     ]
    },
    {
     "name": "stderr",
     "output_type": "stream",
     "text": [
      "The checkpoint state_dict contains keys that are not used by the model:\n",
      "  \u001b[35mbackbone.fpn_lateral2.bias\u001b[0m\n",
      "  \u001b[35mbackbone.fpn_output2.bias\u001b[0m\n",
      "  \u001b[35mbackbone.fpn_lateral3.bias\u001b[0m\n",
      "  \u001b[35mbackbone.fpn_output3.bias\u001b[0m\n",
      "  \u001b[35mbackbone.fpn_lateral4.bias\u001b[0m\n",
      "  \u001b[35mbackbone.fpn_output4.bias\u001b[0m\n",
      "  \u001b[35mbackbone.fpn_lateral5.bias\u001b[0m\n",
      "  \u001b[35mbackbone.fpn_output5.bias\u001b[0m\n",
      " 30%|████████████▍                            | 299/987 [25:25<52:21,  4.57s/it]"
     ]
    },
    {
     "name": "stdout",
     "output_type": "stream",
     "text": [
      "10_11_1936_00000012\n",
      "Pages/10_11_1936_00000012.tif.large.jpg\n"
     ]
    },
    {
     "name": "stderr",
     "output_type": "stream",
     "text": [
      "The checkpoint state_dict contains keys that are not used by the model:\n",
      "  \u001b[35mbackbone.fpn_lateral2.bias\u001b[0m\n",
      "  \u001b[35mbackbone.fpn_output2.bias\u001b[0m\n",
      "  \u001b[35mbackbone.fpn_lateral3.bias\u001b[0m\n",
      "  \u001b[35mbackbone.fpn_output3.bias\u001b[0m\n",
      "  \u001b[35mbackbone.fpn_lateral4.bias\u001b[0m\n",
      "  \u001b[35mbackbone.fpn_output4.bias\u001b[0m\n",
      "  \u001b[35mbackbone.fpn_lateral5.bias\u001b[0m\n",
      "  \u001b[35mbackbone.fpn_output5.bias\u001b[0m\n",
      " 30%|████████████▍                            | 300/987 [25:30<52:27,  4.58s/it]"
     ]
    },
    {
     "name": "stdout",
     "output_type": "stream",
     "text": [
      "11_03_1936_00000005\n",
      "Pages/11_03_1936_00000005.tif.large.jpg\n"
     ]
    },
    {
     "name": "stderr",
     "output_type": "stream",
     "text": [
      "The checkpoint state_dict contains keys that are not used by the model:\n",
      "  \u001b[35mbackbone.fpn_lateral2.bias\u001b[0m\n",
      "  \u001b[35mbackbone.fpn_output2.bias\u001b[0m\n",
      "  \u001b[35mbackbone.fpn_lateral3.bias\u001b[0m\n",
      "  \u001b[35mbackbone.fpn_output3.bias\u001b[0m\n",
      "  \u001b[35mbackbone.fpn_lateral4.bias\u001b[0m\n",
      "  \u001b[35mbackbone.fpn_output4.bias\u001b[0m\n",
      "  \u001b[35mbackbone.fpn_lateral5.bias\u001b[0m\n",
      "  \u001b[35mbackbone.fpn_output5.bias\u001b[0m\n",
      " 30%|████████████▌                            | 301/987 [25:34<52:16,  4.57s/it]"
     ]
    },
    {
     "name": "stdout",
     "output_type": "stream",
     "text": [
      "15_08_1936_00000007\n",
      "Pages/15_08_1936_00000007.tif.large.jpg\n"
     ]
    },
    {
     "name": "stderr",
     "output_type": "stream",
     "text": [
      "The checkpoint state_dict contains keys that are not used by the model:\n",
      "  \u001b[35mbackbone.fpn_lateral2.bias\u001b[0m\n",
      "  \u001b[35mbackbone.fpn_output2.bias\u001b[0m\n",
      "  \u001b[35mbackbone.fpn_lateral3.bias\u001b[0m\n",
      "  \u001b[35mbackbone.fpn_output3.bias\u001b[0m\n",
      "  \u001b[35mbackbone.fpn_lateral4.bias\u001b[0m\n",
      "  \u001b[35mbackbone.fpn_output4.bias\u001b[0m\n",
      "  \u001b[35mbackbone.fpn_lateral5.bias\u001b[0m\n",
      "  \u001b[35mbackbone.fpn_output5.bias\u001b[0m\n",
      " 31%|████████████▌                            | 302/987 [25:39<51:57,  4.55s/it]"
     ]
    },
    {
     "name": "stdout",
     "output_type": "stream",
     "text": [
      "03_09_1936_00000007\n",
      "Pages/03_09_1936_00000007.tif.large.jpg\n"
     ]
    },
    {
     "name": "stderr",
     "output_type": "stream",
     "text": [
      "The checkpoint state_dict contains keys that are not used by the model:\n",
      "  \u001b[35mbackbone.fpn_lateral2.bias\u001b[0m\n",
      "  \u001b[35mbackbone.fpn_output2.bias\u001b[0m\n",
      "  \u001b[35mbackbone.fpn_lateral3.bias\u001b[0m\n",
      "  \u001b[35mbackbone.fpn_output3.bias\u001b[0m\n",
      "  \u001b[35mbackbone.fpn_lateral4.bias\u001b[0m\n",
      "  \u001b[35mbackbone.fpn_output4.bias\u001b[0m\n",
      "  \u001b[35mbackbone.fpn_lateral5.bias\u001b[0m\n",
      "  \u001b[35mbackbone.fpn_output5.bias\u001b[0m\n",
      " 31%|████████████▌                            | 303/987 [25:43<51:45,  4.54s/it]"
     ]
    },
    {
     "name": "stdout",
     "output_type": "stream",
     "text": [
      "12_01_1936_00000008\n",
      "Pages/12_01_1936_00000008.tif.large.jpg\n"
     ]
    },
    {
     "name": "stderr",
     "output_type": "stream",
     "text": [
      "The checkpoint state_dict contains keys that are not used by the model:\n",
      "  \u001b[35mbackbone.fpn_lateral2.bias\u001b[0m\n",
      "  \u001b[35mbackbone.fpn_output2.bias\u001b[0m\n",
      "  \u001b[35mbackbone.fpn_lateral3.bias\u001b[0m\n",
      "  \u001b[35mbackbone.fpn_output3.bias\u001b[0m\n",
      "  \u001b[35mbackbone.fpn_lateral4.bias\u001b[0m\n",
      "  \u001b[35mbackbone.fpn_output4.bias\u001b[0m\n",
      "  \u001b[35mbackbone.fpn_lateral5.bias\u001b[0m\n",
      "  \u001b[35mbackbone.fpn_output5.bias\u001b[0m\n",
      " 31%|████████████▋                            | 304/987 [25:48<51:50,  4.55s/it]"
     ]
    },
    {
     "name": "stdout",
     "output_type": "stream",
     "text": [
      "05_09_1936_00000007\n",
      "Pages/05_09_1936_00000007.tif.large.jpg\n"
     ]
    },
    {
     "name": "stderr",
     "output_type": "stream",
     "text": [
      "The checkpoint state_dict contains keys that are not used by the model:\n",
      "  \u001b[35mbackbone.fpn_lateral2.bias\u001b[0m\n",
      "  \u001b[35mbackbone.fpn_output2.bias\u001b[0m\n",
      "  \u001b[35mbackbone.fpn_lateral3.bias\u001b[0m\n",
      "  \u001b[35mbackbone.fpn_output3.bias\u001b[0m\n",
      "  \u001b[35mbackbone.fpn_lateral4.bias\u001b[0m\n",
      "  \u001b[35mbackbone.fpn_output4.bias\u001b[0m\n",
      "  \u001b[35mbackbone.fpn_lateral5.bias\u001b[0m\n",
      "  \u001b[35mbackbone.fpn_output5.bias\u001b[0m\n",
      " 31%|████████████▋                            | 305/987 [25:52<51:44,  4.55s/it]"
     ]
    },
    {
     "name": "stdout",
     "output_type": "stream",
     "text": [
      "27_04_1936_00000007\n",
      "Pages/27_04_1936_00000007.tif.large.jpg\n"
     ]
    },
    {
     "name": "stderr",
     "output_type": "stream",
     "text": [
      "The checkpoint state_dict contains keys that are not used by the model:\n",
      "  \u001b[35mbackbone.fpn_lateral2.bias\u001b[0m\n",
      "  \u001b[35mbackbone.fpn_output2.bias\u001b[0m\n",
      "  \u001b[35mbackbone.fpn_lateral3.bias\u001b[0m\n",
      "  \u001b[35mbackbone.fpn_output3.bias\u001b[0m\n",
      "  \u001b[35mbackbone.fpn_lateral4.bias\u001b[0m\n",
      "  \u001b[35mbackbone.fpn_output4.bias\u001b[0m\n",
      "  \u001b[35mbackbone.fpn_lateral5.bias\u001b[0m\n",
      "  \u001b[35mbackbone.fpn_output5.bias\u001b[0m\n",
      " 31%|████████████▋                            | 306/987 [25:57<52:10,  4.60s/it]"
     ]
    },
    {
     "name": "stdout",
     "output_type": "stream",
     "text": [
      "12_04_1936_00000049\n",
      "Pages/12_04_1936_00000049.tif.large.jpg\n"
     ]
    },
    {
     "name": "stderr",
     "output_type": "stream",
     "text": [
      "The checkpoint state_dict contains keys that are not used by the model:\n",
      "  \u001b[35mbackbone.fpn_lateral2.bias\u001b[0m\n",
      "  \u001b[35mbackbone.fpn_output2.bias\u001b[0m\n",
      "  \u001b[35mbackbone.fpn_lateral3.bias\u001b[0m\n",
      "  \u001b[35mbackbone.fpn_output3.bias\u001b[0m\n",
      "  \u001b[35mbackbone.fpn_lateral4.bias\u001b[0m\n",
      "  \u001b[35mbackbone.fpn_output4.bias\u001b[0m\n",
      "  \u001b[35mbackbone.fpn_lateral5.bias\u001b[0m\n",
      "  \u001b[35mbackbone.fpn_output5.bias\u001b[0m\n",
      " 31%|████████████▊                            | 307/987 [26:02<51:53,  4.58s/it]"
     ]
    },
    {
     "name": "stdout",
     "output_type": "stream",
     "text": [
      "13_10_1936_00000017\n",
      "Pages/13_10_1936_00000017.tif.large.jpg\n"
     ]
    },
    {
     "name": "stderr",
     "output_type": "stream",
     "text": [
      "The checkpoint state_dict contains keys that are not used by the model:\n",
      "  \u001b[35mbackbone.fpn_lateral2.bias\u001b[0m\n",
      "  \u001b[35mbackbone.fpn_output2.bias\u001b[0m\n",
      "  \u001b[35mbackbone.fpn_lateral3.bias\u001b[0m\n",
      "  \u001b[35mbackbone.fpn_output3.bias\u001b[0m\n",
      "  \u001b[35mbackbone.fpn_lateral4.bias\u001b[0m\n",
      "  \u001b[35mbackbone.fpn_output4.bias\u001b[0m\n",
      "  \u001b[35mbackbone.fpn_lateral5.bias\u001b[0m\n",
      "  \u001b[35mbackbone.fpn_output5.bias\u001b[0m\n",
      " 31%|████████████▊                            | 308/987 [26:06<52:09,  4.61s/it]"
     ]
    },
    {
     "name": "stdout",
     "output_type": "stream",
     "text": [
      "09_01_1936_00000005\n",
      "Pages/09_01_1936_00000005.tif.large.jpg\n"
     ]
    },
    {
     "name": "stderr",
     "output_type": "stream",
     "text": [
      "The checkpoint state_dict contains keys that are not used by the model:\n",
      "  \u001b[35mbackbone.fpn_lateral2.bias\u001b[0m\n",
      "  \u001b[35mbackbone.fpn_output2.bias\u001b[0m\n",
      "  \u001b[35mbackbone.fpn_lateral3.bias\u001b[0m\n",
      "  \u001b[35mbackbone.fpn_output3.bias\u001b[0m\n",
      "  \u001b[35mbackbone.fpn_lateral4.bias\u001b[0m\n",
      "  \u001b[35mbackbone.fpn_output4.bias\u001b[0m\n",
      "  \u001b[35mbackbone.fpn_lateral5.bias\u001b[0m\n",
      "  \u001b[35mbackbone.fpn_output5.bias\u001b[0m\n",
      " 31%|████████████▊                            | 309/987 [26:11<52:41,  4.66s/it]"
     ]
    },
    {
     "name": "stdout",
     "output_type": "stream",
     "text": [
      "05_08_1936_00000008\n",
      "Pages/05_08_1936_00000008.tif.large.jpg\n"
     ]
    },
    {
     "name": "stderr",
     "output_type": "stream",
     "text": [
      "The checkpoint state_dict contains keys that are not used by the model:\n",
      "  \u001b[35mbackbone.fpn_lateral2.bias\u001b[0m\n",
      "  \u001b[35mbackbone.fpn_output2.bias\u001b[0m\n",
      "  \u001b[35mbackbone.fpn_lateral3.bias\u001b[0m\n",
      "  \u001b[35mbackbone.fpn_output3.bias\u001b[0m\n",
      "  \u001b[35mbackbone.fpn_lateral4.bias\u001b[0m\n",
      "  \u001b[35mbackbone.fpn_output4.bias\u001b[0m\n",
      "  \u001b[35mbackbone.fpn_lateral5.bias\u001b[0m\n",
      "  \u001b[35mbackbone.fpn_output5.bias\u001b[0m\n",
      " 31%|████████████▉                            | 310/987 [26:16<52:24,  4.65s/it]"
     ]
    },
    {
     "name": "stdout",
     "output_type": "stream",
     "text": [
      "15_11_1936_00000005\n",
      "Pages/15_11_1936_00000005.tif.large.jpg\n"
     ]
    },
    {
     "name": "stderr",
     "output_type": "stream",
     "text": [
      "The checkpoint state_dict contains keys that are not used by the model:\n",
      "  \u001b[35mbackbone.fpn_lateral2.bias\u001b[0m\n",
      "  \u001b[35mbackbone.fpn_output2.bias\u001b[0m\n",
      "  \u001b[35mbackbone.fpn_lateral3.bias\u001b[0m\n",
      "  \u001b[35mbackbone.fpn_output3.bias\u001b[0m\n",
      "  \u001b[35mbackbone.fpn_lateral4.bias\u001b[0m\n",
      "  \u001b[35mbackbone.fpn_output4.bias\u001b[0m\n",
      "  \u001b[35mbackbone.fpn_lateral5.bias\u001b[0m\n",
      "  \u001b[35mbackbone.fpn_output5.bias\u001b[0m\n",
      " 32%|████████████▉                            | 311/987 [26:20<52:20,  4.65s/it]"
     ]
    },
    {
     "name": "stdout",
     "output_type": "stream",
     "text": [
      "03_12_1936_00000005\n",
      "Pages/03_12_1936_00000005.tif.large.jpg\n"
     ]
    },
    {
     "name": "stderr",
     "output_type": "stream",
     "text": [
      "The checkpoint state_dict contains keys that are not used by the model:\n",
      "  \u001b[35mbackbone.fpn_lateral2.bias\u001b[0m\n",
      "  \u001b[35mbackbone.fpn_output2.bias\u001b[0m\n",
      "  \u001b[35mbackbone.fpn_lateral3.bias\u001b[0m\n",
      "  \u001b[35mbackbone.fpn_output3.bias\u001b[0m\n",
      "  \u001b[35mbackbone.fpn_lateral4.bias\u001b[0m\n",
      "  \u001b[35mbackbone.fpn_output4.bias\u001b[0m\n",
      "  \u001b[35mbackbone.fpn_lateral5.bias\u001b[0m\n",
      "  \u001b[35mbackbone.fpn_output5.bias\u001b[0m\n",
      " 32%|████████████▉                            | 312/987 [26:25<52:08,  4.64s/it]"
     ]
    },
    {
     "name": "stdout",
     "output_type": "stream",
     "text": [
      "26_08_1936_00000008\n",
      "Pages/26_08_1936_00000008.tif.large.jpg\n"
     ]
    },
    {
     "name": "stderr",
     "output_type": "stream",
     "text": [
      "The checkpoint state_dict contains keys that are not used by the model:\n",
      "  \u001b[35mbackbone.fpn_lateral2.bias\u001b[0m\n",
      "  \u001b[35mbackbone.fpn_output2.bias\u001b[0m\n",
      "  \u001b[35mbackbone.fpn_lateral3.bias\u001b[0m\n",
      "  \u001b[35mbackbone.fpn_output3.bias\u001b[0m\n",
      "  \u001b[35mbackbone.fpn_lateral4.bias\u001b[0m\n",
      "  \u001b[35mbackbone.fpn_output4.bias\u001b[0m\n",
      "  \u001b[35mbackbone.fpn_lateral5.bias\u001b[0m\n",
      "  \u001b[35mbackbone.fpn_output5.bias\u001b[0m\n",
      " 32%|█████████████                            | 313/987 [26:30<52:26,  4.67s/it]"
     ]
    },
    {
     "name": "stdout",
     "output_type": "stream",
     "text": [
      "31_03_1936_00000001\n",
      "Pages/31_03_1936_00000001.tif.large.jpg\n"
     ]
    },
    {
     "name": "stderr",
     "output_type": "stream",
     "text": [
      "The checkpoint state_dict contains keys that are not used by the model:\n",
      "  \u001b[35mbackbone.fpn_lateral2.bias\u001b[0m\n",
      "  \u001b[35mbackbone.fpn_output2.bias\u001b[0m\n",
      "  \u001b[35mbackbone.fpn_lateral3.bias\u001b[0m\n",
      "  \u001b[35mbackbone.fpn_output3.bias\u001b[0m\n",
      "  \u001b[35mbackbone.fpn_lateral4.bias\u001b[0m\n",
      "  \u001b[35mbackbone.fpn_output4.bias\u001b[0m\n",
      "  \u001b[35mbackbone.fpn_lateral5.bias\u001b[0m\n",
      "  \u001b[35mbackbone.fpn_output5.bias\u001b[0m\n",
      " 32%|█████████████                            | 314/987 [26:34<51:46,  4.62s/it]"
     ]
    },
    {
     "name": "stdout",
     "output_type": "stream",
     "text": [
      "30_03_1936_00000003\n",
      "Pages/30_03_1936_00000003.tif.large.jpg\n"
     ]
    },
    {
     "name": "stderr",
     "output_type": "stream",
     "text": [
      "The checkpoint state_dict contains keys that are not used by the model:\n",
      "  \u001b[35mbackbone.fpn_lateral2.bias\u001b[0m\n",
      "  \u001b[35mbackbone.fpn_output2.bias\u001b[0m\n",
      "  \u001b[35mbackbone.fpn_lateral3.bias\u001b[0m\n",
      "  \u001b[35mbackbone.fpn_output3.bias\u001b[0m\n",
      "  \u001b[35mbackbone.fpn_lateral4.bias\u001b[0m\n",
      "  \u001b[35mbackbone.fpn_output4.bias\u001b[0m\n",
      "  \u001b[35mbackbone.fpn_lateral5.bias\u001b[0m\n",
      "  \u001b[35mbackbone.fpn_output5.bias\u001b[0m\n",
      " 32%|█████████████                            | 315/987 [26:39<51:23,  4.59s/it]"
     ]
    },
    {
     "name": "stdout",
     "output_type": "stream",
     "text": [
      "07_04_1936_00000001\n",
      "Pages/07_04_1936_00000001.tif.large.jpg\n"
     ]
    },
    {
     "name": "stderr",
     "output_type": "stream",
     "text": [
      "The checkpoint state_dict contains keys that are not used by the model:\n",
      "  \u001b[35mbackbone.fpn_lateral2.bias\u001b[0m\n",
      "  \u001b[35mbackbone.fpn_output2.bias\u001b[0m\n",
      "  \u001b[35mbackbone.fpn_lateral3.bias\u001b[0m\n",
      "  \u001b[35mbackbone.fpn_output3.bias\u001b[0m\n",
      "  \u001b[35mbackbone.fpn_lateral4.bias\u001b[0m\n",
      "  \u001b[35mbackbone.fpn_output4.bias\u001b[0m\n",
      "  \u001b[35mbackbone.fpn_lateral5.bias\u001b[0m\n",
      "  \u001b[35mbackbone.fpn_output5.bias\u001b[0m\n",
      " 32%|█████████████▏                           | 316/987 [26:43<51:00,  4.56s/it]"
     ]
    },
    {
     "name": "stdout",
     "output_type": "stream",
     "text": [
      "24_02_1936_00000013\n",
      "Pages/24_02_1936_00000013.tif.large.jpg\n"
     ]
    },
    {
     "name": "stderr",
     "output_type": "stream",
     "text": [
      "The checkpoint state_dict contains keys that are not used by the model:\n",
      "  \u001b[35mbackbone.fpn_lateral2.bias\u001b[0m\n",
      "  \u001b[35mbackbone.fpn_output2.bias\u001b[0m\n",
      "  \u001b[35mbackbone.fpn_lateral3.bias\u001b[0m\n",
      "  \u001b[35mbackbone.fpn_output3.bias\u001b[0m\n",
      "  \u001b[35mbackbone.fpn_lateral4.bias\u001b[0m\n",
      "  \u001b[35mbackbone.fpn_output4.bias\u001b[0m\n",
      "  \u001b[35mbackbone.fpn_lateral5.bias\u001b[0m\n",
      "  \u001b[35mbackbone.fpn_output5.bias\u001b[0m\n",
      " 32%|█████████████▏                           | 317/987 [26:48<51:04,  4.57s/it]"
     ]
    },
    {
     "name": "stdout",
     "output_type": "stream",
     "text": [
      "10_12_1936_00000006\n",
      "Pages/10_12_1936_00000006.tif.large.jpg\n"
     ]
    },
    {
     "name": "stderr",
     "output_type": "stream",
     "text": [
      "The checkpoint state_dict contains keys that are not used by the model:\n",
      "  \u001b[35mbackbone.fpn_lateral2.bias\u001b[0m\n",
      "  \u001b[35mbackbone.fpn_output2.bias\u001b[0m\n",
      "  \u001b[35mbackbone.fpn_lateral3.bias\u001b[0m\n",
      "  \u001b[35mbackbone.fpn_output3.bias\u001b[0m\n",
      "  \u001b[35mbackbone.fpn_lateral4.bias\u001b[0m\n",
      "  \u001b[35mbackbone.fpn_output4.bias\u001b[0m\n",
      "  \u001b[35mbackbone.fpn_lateral5.bias\u001b[0m\n",
      "  \u001b[35mbackbone.fpn_output5.bias\u001b[0m\n",
      " 32%|█████████████▏                           | 318/987 [26:52<51:13,  4.59s/it]"
     ]
    },
    {
     "name": "stdout",
     "output_type": "stream",
     "text": [
      "06_03_1936_00000001\n",
      "Pages/06_03_1936_00000001.tif.large.jpg\n"
     ]
    },
    {
     "name": "stderr",
     "output_type": "stream",
     "text": [
      "The checkpoint state_dict contains keys that are not used by the model:\n",
      "  \u001b[35mbackbone.fpn_lateral2.bias\u001b[0m\n",
      "  \u001b[35mbackbone.fpn_output2.bias\u001b[0m\n",
      "  \u001b[35mbackbone.fpn_lateral3.bias\u001b[0m\n",
      "  \u001b[35mbackbone.fpn_output3.bias\u001b[0m\n",
      "  \u001b[35mbackbone.fpn_lateral4.bias\u001b[0m\n",
      "  \u001b[35mbackbone.fpn_output4.bias\u001b[0m\n",
      "  \u001b[35mbackbone.fpn_lateral5.bias\u001b[0m\n",
      "  \u001b[35mbackbone.fpn_output5.bias\u001b[0m\n",
      " 32%|█████████████▎                           | 319/987 [26:57<51:13,  4.60s/it]"
     ]
    },
    {
     "name": "stdout",
     "output_type": "stream",
     "text": [
      "26_08_1936_00000011\n",
      "Pages/26_08_1936_00000011.tif.large.jpg\n"
     ]
    },
    {
     "name": "stderr",
     "output_type": "stream",
     "text": [
      "The checkpoint state_dict contains keys that are not used by the model:\n",
      "  \u001b[35mbackbone.fpn_lateral2.bias\u001b[0m\n",
      "  \u001b[35mbackbone.fpn_output2.bias\u001b[0m\n",
      "  \u001b[35mbackbone.fpn_lateral3.bias\u001b[0m\n",
      "  \u001b[35mbackbone.fpn_output3.bias\u001b[0m\n",
      "  \u001b[35mbackbone.fpn_lateral4.bias\u001b[0m\n",
      "  \u001b[35mbackbone.fpn_output4.bias\u001b[0m\n",
      "  \u001b[35mbackbone.fpn_lateral5.bias\u001b[0m\n",
      "  \u001b[35mbackbone.fpn_output5.bias\u001b[0m\n",
      " 32%|█████████████▎                           | 320/987 [27:02<51:38,  4.64s/it]"
     ]
    },
    {
     "name": "stdout",
     "output_type": "stream",
     "text": [
      "20_09_1936_00000005\n",
      "Pages/20_09_1936_00000005.tif.large.jpg\n"
     ]
    },
    {
     "name": "stderr",
     "output_type": "stream",
     "text": [
      "The checkpoint state_dict contains keys that are not used by the model:\n",
      "  \u001b[35mbackbone.fpn_lateral2.bias\u001b[0m\n",
      "  \u001b[35mbackbone.fpn_output2.bias\u001b[0m\n",
      "  \u001b[35mbackbone.fpn_lateral3.bias\u001b[0m\n",
      "  \u001b[35mbackbone.fpn_output3.bias\u001b[0m\n",
      "  \u001b[35mbackbone.fpn_lateral4.bias\u001b[0m\n",
      "  \u001b[35mbackbone.fpn_output4.bias\u001b[0m\n",
      "  \u001b[35mbackbone.fpn_lateral5.bias\u001b[0m\n",
      "  \u001b[35mbackbone.fpn_output5.bias\u001b[0m\n",
      " 33%|█████████████▎                           | 321/987 [27:06<51:25,  4.63s/it]"
     ]
    },
    {
     "name": "stdout",
     "output_type": "stream",
     "text": [
      "27_08_1936_00000005\n",
      "Pages/27_08_1936_00000005.tif.large.jpg\n"
     ]
    },
    {
     "name": "stderr",
     "output_type": "stream",
     "text": [
      "The checkpoint state_dict contains keys that are not used by the model:\n",
      "  \u001b[35mbackbone.fpn_lateral2.bias\u001b[0m\n",
      "  \u001b[35mbackbone.fpn_output2.bias\u001b[0m\n",
      "  \u001b[35mbackbone.fpn_lateral3.bias\u001b[0m\n",
      "  \u001b[35mbackbone.fpn_output3.bias\u001b[0m\n",
      "  \u001b[35mbackbone.fpn_lateral4.bias\u001b[0m\n",
      "  \u001b[35mbackbone.fpn_output4.bias\u001b[0m\n",
      "  \u001b[35mbackbone.fpn_lateral5.bias\u001b[0m\n",
      "  \u001b[35mbackbone.fpn_output5.bias\u001b[0m\n",
      " 33%|█████████████▍                           | 322/987 [27:11<51:27,  4.64s/it]"
     ]
    },
    {
     "name": "stdout",
     "output_type": "stream",
     "text": [
      "19_10_1936_00000015\n",
      "Pages/19_10_1936_00000015.tif.large.jpg\n"
     ]
    },
    {
     "name": "stderr",
     "output_type": "stream",
     "text": [
      "The checkpoint state_dict contains keys that are not used by the model:\n",
      "  \u001b[35mbackbone.fpn_lateral2.bias\u001b[0m\n",
      "  \u001b[35mbackbone.fpn_output2.bias\u001b[0m\n",
      "  \u001b[35mbackbone.fpn_lateral3.bias\u001b[0m\n",
      "  \u001b[35mbackbone.fpn_output3.bias\u001b[0m\n",
      "  \u001b[35mbackbone.fpn_lateral4.bias\u001b[0m\n",
      "  \u001b[35mbackbone.fpn_output4.bias\u001b[0m\n",
      "  \u001b[35mbackbone.fpn_lateral5.bias\u001b[0m\n",
      "  \u001b[35mbackbone.fpn_output5.bias\u001b[0m\n",
      " 33%|█████████████▍                           | 323/987 [27:16<51:16,  4.63s/it]"
     ]
    },
    {
     "name": "stdout",
     "output_type": "stream",
     "text": [
      "29_08_1936_00000013\n",
      "Pages/29_08_1936_00000013.tif.large.jpg\n"
     ]
    },
    {
     "name": "stderr",
     "output_type": "stream",
     "text": [
      "The checkpoint state_dict contains keys that are not used by the model:\n",
      "  \u001b[35mbackbone.fpn_lateral2.bias\u001b[0m\n",
      "  \u001b[35mbackbone.fpn_output2.bias\u001b[0m\n",
      "  \u001b[35mbackbone.fpn_lateral3.bias\u001b[0m\n",
      "  \u001b[35mbackbone.fpn_output3.bias\u001b[0m\n",
      "  \u001b[35mbackbone.fpn_lateral4.bias\u001b[0m\n",
      "  \u001b[35mbackbone.fpn_output4.bias\u001b[0m\n",
      "  \u001b[35mbackbone.fpn_lateral5.bias\u001b[0m\n",
      "  \u001b[35mbackbone.fpn_output5.bias\u001b[0m\n",
      " 33%|█████████████▍                           | 324/987 [27:20<51:43,  4.68s/it]"
     ]
    },
    {
     "name": "stdout",
     "output_type": "stream",
     "text": [
      "25_04_1936_00000002\n",
      "Pages/25_04_1936_00000002.tif.large.jpg\n"
     ]
    },
    {
     "name": "stderr",
     "output_type": "stream",
     "text": [
      "The checkpoint state_dict contains keys that are not used by the model:\n",
      "  \u001b[35mbackbone.fpn_lateral2.bias\u001b[0m\n",
      "  \u001b[35mbackbone.fpn_output2.bias\u001b[0m\n",
      "  \u001b[35mbackbone.fpn_lateral3.bias\u001b[0m\n",
      "  \u001b[35mbackbone.fpn_output3.bias\u001b[0m\n",
      "  \u001b[35mbackbone.fpn_lateral4.bias\u001b[0m\n",
      "  \u001b[35mbackbone.fpn_output4.bias\u001b[0m\n",
      "  \u001b[35mbackbone.fpn_lateral5.bias\u001b[0m\n",
      "  \u001b[35mbackbone.fpn_output5.bias\u001b[0m\n",
      " 33%|█████████████▌                           | 325/987 [27:25<51:07,  4.63s/it]"
     ]
    },
    {
     "name": "stdout",
     "output_type": "stream",
     "text": [
      "21_09_1936_00000006\n",
      "Pages/21_09_1936_00000006.tif.large.jpg\n"
     ]
    },
    {
     "name": "stderr",
     "output_type": "stream",
     "text": [
      "The checkpoint state_dict contains keys that are not used by the model:\n",
      "  \u001b[35mbackbone.fpn_lateral2.bias\u001b[0m\n",
      "  \u001b[35mbackbone.fpn_output2.bias\u001b[0m\n",
      "  \u001b[35mbackbone.fpn_lateral3.bias\u001b[0m\n",
      "  \u001b[35mbackbone.fpn_output3.bias\u001b[0m\n",
      "  \u001b[35mbackbone.fpn_lateral4.bias\u001b[0m\n",
      "  \u001b[35mbackbone.fpn_output4.bias\u001b[0m\n",
      "  \u001b[35mbackbone.fpn_lateral5.bias\u001b[0m\n",
      "  \u001b[35mbackbone.fpn_output5.bias\u001b[0m\n",
      " 33%|█████████████▌                           | 326/987 [27:29<50:35,  4.59s/it]"
     ]
    },
    {
     "name": "stdout",
     "output_type": "stream",
     "text": [
      "09_03_1936_00000006\n",
      "Pages/09_03_1936_00000006.tif.large.jpg\n"
     ]
    },
    {
     "name": "stderr",
     "output_type": "stream",
     "text": [
      "The checkpoint state_dict contains keys that are not used by the model:\n",
      "  \u001b[35mbackbone.fpn_lateral2.bias\u001b[0m\n",
      "  \u001b[35mbackbone.fpn_output2.bias\u001b[0m\n",
      "  \u001b[35mbackbone.fpn_lateral3.bias\u001b[0m\n",
      "  \u001b[35mbackbone.fpn_output3.bias\u001b[0m\n",
      "  \u001b[35mbackbone.fpn_lateral4.bias\u001b[0m\n",
      "  \u001b[35mbackbone.fpn_output4.bias\u001b[0m\n",
      "  \u001b[35mbackbone.fpn_lateral5.bias\u001b[0m\n",
      "  \u001b[35mbackbone.fpn_output5.bias\u001b[0m\n",
      " 33%|█████████████▌                           | 327/987 [27:34<50:12,  4.56s/it]"
     ]
    },
    {
     "name": "stdout",
     "output_type": "stream",
     "text": [
      "27_07_1936_00000007\n",
      "Pages/27_07_1936_00000007.tif.large.jpg\n"
     ]
    },
    {
     "name": "stderr",
     "output_type": "stream",
     "text": [
      "The checkpoint state_dict contains keys that are not used by the model:\n",
      "  \u001b[35mbackbone.fpn_lateral2.bias\u001b[0m\n",
      "  \u001b[35mbackbone.fpn_output2.bias\u001b[0m\n",
      "  \u001b[35mbackbone.fpn_lateral3.bias\u001b[0m\n",
      "  \u001b[35mbackbone.fpn_output3.bias\u001b[0m\n",
      "  \u001b[35mbackbone.fpn_lateral4.bias\u001b[0m\n",
      "  \u001b[35mbackbone.fpn_output4.bias\u001b[0m\n",
      "  \u001b[35mbackbone.fpn_lateral5.bias\u001b[0m\n",
      "  \u001b[35mbackbone.fpn_output5.bias\u001b[0m\n",
      " 33%|█████████████▋                           | 328/987 [27:38<49:52,  4.54s/it]"
     ]
    },
    {
     "name": "stdout",
     "output_type": "stream",
     "text": [
      "28_04_1936_00000005\n",
      "Pages/28_04_1936_00000005.tif.large.jpg\n"
     ]
    },
    {
     "name": "stderr",
     "output_type": "stream",
     "text": [
      "The checkpoint state_dict contains keys that are not used by the model:\n",
      "  \u001b[35mbackbone.fpn_lateral2.bias\u001b[0m\n",
      "  \u001b[35mbackbone.fpn_output2.bias\u001b[0m\n",
      "  \u001b[35mbackbone.fpn_lateral3.bias\u001b[0m\n",
      "  \u001b[35mbackbone.fpn_output3.bias\u001b[0m\n",
      "  \u001b[35mbackbone.fpn_lateral4.bias\u001b[0m\n",
      "  \u001b[35mbackbone.fpn_output4.bias\u001b[0m\n",
      "  \u001b[35mbackbone.fpn_lateral5.bias\u001b[0m\n",
      "  \u001b[35mbackbone.fpn_output5.bias\u001b[0m\n",
      " 33%|█████████████▋                           | 329/987 [27:43<49:58,  4.56s/it]"
     ]
    },
    {
     "name": "stdout",
     "output_type": "stream",
     "text": [
      "25_07_1936_00000001\n",
      "Pages/25_07_1936_00000001.tif.large.jpg\n"
     ]
    },
    {
     "name": "stderr",
     "output_type": "stream",
     "text": [
      "The checkpoint state_dict contains keys that are not used by the model:\n",
      "  \u001b[35mbackbone.fpn_lateral2.bias\u001b[0m\n",
      "  \u001b[35mbackbone.fpn_output2.bias\u001b[0m\n",
      "  \u001b[35mbackbone.fpn_lateral3.bias\u001b[0m\n",
      "  \u001b[35mbackbone.fpn_output3.bias\u001b[0m\n",
      "  \u001b[35mbackbone.fpn_lateral4.bias\u001b[0m\n",
      "  \u001b[35mbackbone.fpn_output4.bias\u001b[0m\n",
      "  \u001b[35mbackbone.fpn_lateral5.bias\u001b[0m\n",
      "  \u001b[35mbackbone.fpn_output5.bias\u001b[0m\n",
      " 33%|█████████████▋                           | 330/987 [27:48<49:50,  4.55s/it]"
     ]
    },
    {
     "name": "stdout",
     "output_type": "stream",
     "text": [
      "30_04_1936_00000001\n",
      "Pages/30_04_1936_00000001.tif.large.jpg\n"
     ]
    },
    {
     "name": "stderr",
     "output_type": "stream",
     "text": [
      "The checkpoint state_dict contains keys that are not used by the model:\n",
      "  \u001b[35mbackbone.fpn_lateral2.bias\u001b[0m\n",
      "  \u001b[35mbackbone.fpn_output2.bias\u001b[0m\n",
      "  \u001b[35mbackbone.fpn_lateral3.bias\u001b[0m\n",
      "  \u001b[35mbackbone.fpn_output3.bias\u001b[0m\n",
      "  \u001b[35mbackbone.fpn_lateral4.bias\u001b[0m\n",
      "  \u001b[35mbackbone.fpn_output4.bias\u001b[0m\n",
      "  \u001b[35mbackbone.fpn_lateral5.bias\u001b[0m\n",
      "  \u001b[35mbackbone.fpn_output5.bias\u001b[0m\n",
      " 34%|█████████████▋                           | 331/987 [27:52<50:08,  4.59s/it]"
     ]
    },
    {
     "name": "stdout",
     "output_type": "stream",
     "text": [
      "16_09_1936_00000019\n",
      "Pages/16_09_1936_00000019.tif.large.jpg\n"
     ]
    },
    {
     "name": "stderr",
     "output_type": "stream",
     "text": [
      "The checkpoint state_dict contains keys that are not used by the model:\n",
      "  \u001b[35mbackbone.fpn_lateral2.bias\u001b[0m\n",
      "  \u001b[35mbackbone.fpn_output2.bias\u001b[0m\n",
      "  \u001b[35mbackbone.fpn_lateral3.bias\u001b[0m\n",
      "  \u001b[35mbackbone.fpn_output3.bias\u001b[0m\n",
      "  \u001b[35mbackbone.fpn_lateral4.bias\u001b[0m\n",
      "  \u001b[35mbackbone.fpn_output4.bias\u001b[0m\n",
      "  \u001b[35mbackbone.fpn_lateral5.bias\u001b[0m\n",
      "  \u001b[35mbackbone.fpn_output5.bias\u001b[0m\n",
      " 34%|█████████████▊                           | 332/987 [27:57<50:15,  4.60s/it]"
     ]
    },
    {
     "name": "stdout",
     "output_type": "stream",
     "text": [
      "13_11_1936_00000002\n",
      "Pages/13_11_1936_00000002.tif.large.jpg\n"
     ]
    },
    {
     "name": "stderr",
     "output_type": "stream",
     "text": [
      "The checkpoint state_dict contains keys that are not used by the model:\n",
      "  \u001b[35mbackbone.fpn_lateral2.bias\u001b[0m\n",
      "  \u001b[35mbackbone.fpn_output2.bias\u001b[0m\n",
      "  \u001b[35mbackbone.fpn_lateral3.bias\u001b[0m\n",
      "  \u001b[35mbackbone.fpn_output3.bias\u001b[0m\n",
      "  \u001b[35mbackbone.fpn_lateral4.bias\u001b[0m\n",
      "  \u001b[35mbackbone.fpn_output4.bias\u001b[0m\n",
      "  \u001b[35mbackbone.fpn_lateral5.bias\u001b[0m\n",
      "  \u001b[35mbackbone.fpn_output5.bias\u001b[0m\n",
      " 34%|█████████████▊                           | 333/987 [28:01<50:09,  4.60s/it]"
     ]
    },
    {
     "name": "stdout",
     "output_type": "stream",
     "text": [
      "13_08_1936_00000006\n",
      "Pages/13_08_1936_00000006.tif.large.jpg\n"
     ]
    },
    {
     "name": "stderr",
     "output_type": "stream",
     "text": [
      "The checkpoint state_dict contains keys that are not used by the model:\n",
      "  \u001b[35mbackbone.fpn_lateral2.bias\u001b[0m\n",
      "  \u001b[35mbackbone.fpn_output2.bias\u001b[0m\n",
      "  \u001b[35mbackbone.fpn_lateral3.bias\u001b[0m\n",
      "  \u001b[35mbackbone.fpn_output3.bias\u001b[0m\n",
      "  \u001b[35mbackbone.fpn_lateral4.bias\u001b[0m\n",
      "  \u001b[35mbackbone.fpn_output4.bias\u001b[0m\n",
      "  \u001b[35mbackbone.fpn_lateral5.bias\u001b[0m\n",
      "  \u001b[35mbackbone.fpn_output5.bias\u001b[0m\n",
      " 34%|█████████████▊                           | 334/987 [28:06<50:21,  4.63s/it]"
     ]
    },
    {
     "name": "stdout",
     "output_type": "stream",
     "text": [
      "08_10_1936_00000006\n",
      "Pages/08_10_1936_00000006.tif.large.jpg\n"
     ]
    },
    {
     "name": "stderr",
     "output_type": "stream",
     "text": [
      "The checkpoint state_dict contains keys that are not used by the model:\n",
      "  \u001b[35mbackbone.fpn_lateral2.bias\u001b[0m\n",
      "  \u001b[35mbackbone.fpn_output2.bias\u001b[0m\n",
      "  \u001b[35mbackbone.fpn_lateral3.bias\u001b[0m\n",
      "  \u001b[35mbackbone.fpn_output3.bias\u001b[0m\n",
      "  \u001b[35mbackbone.fpn_lateral4.bias\u001b[0m\n",
      "  \u001b[35mbackbone.fpn_output4.bias\u001b[0m\n",
      "  \u001b[35mbackbone.fpn_lateral5.bias\u001b[0m\n",
      "  \u001b[35mbackbone.fpn_output5.bias\u001b[0m\n",
      " 34%|█████████████▉                           | 335/987 [28:10<49:29,  4.55s/it]"
     ]
    },
    {
     "name": "stdout",
     "output_type": "stream",
     "text": [
      "20_09_1936_00000006\n",
      "Pages/20_09_1936_00000006.tif.large.jpg\n"
     ]
    },
    {
     "name": "stderr",
     "output_type": "stream",
     "text": [
      "The checkpoint state_dict contains keys that are not used by the model:\n",
      "  \u001b[35mbackbone.fpn_lateral2.bias\u001b[0m\n",
      "  \u001b[35mbackbone.fpn_output2.bias\u001b[0m\n",
      "  \u001b[35mbackbone.fpn_lateral3.bias\u001b[0m\n",
      "  \u001b[35mbackbone.fpn_output3.bias\u001b[0m\n",
      "  \u001b[35mbackbone.fpn_lateral4.bias\u001b[0m\n",
      "  \u001b[35mbackbone.fpn_output4.bias\u001b[0m\n",
      "  \u001b[35mbackbone.fpn_lateral5.bias\u001b[0m\n",
      "  \u001b[35mbackbone.fpn_output5.bias\u001b[0m\n",
      " 34%|█████████████▉                           | 336/987 [28:15<49:12,  4.54s/it]"
     ]
    },
    {
     "name": "stdout",
     "output_type": "stream",
     "text": [
      "08_10_1936_00000003\n",
      "Pages/08_10_1936_00000003.tif.large.jpg\n"
     ]
    },
    {
     "name": "stderr",
     "output_type": "stream",
     "text": [
      "The checkpoint state_dict contains keys that are not used by the model:\n",
      "  \u001b[35mbackbone.fpn_lateral2.bias\u001b[0m\n",
      "  \u001b[35mbackbone.fpn_output2.bias\u001b[0m\n",
      "  \u001b[35mbackbone.fpn_lateral3.bias\u001b[0m\n",
      "  \u001b[35mbackbone.fpn_output3.bias\u001b[0m\n",
      "  \u001b[35mbackbone.fpn_lateral4.bias\u001b[0m\n",
      "  \u001b[35mbackbone.fpn_output4.bias\u001b[0m\n",
      "  \u001b[35mbackbone.fpn_lateral5.bias\u001b[0m\n",
      "  \u001b[35mbackbone.fpn_output5.bias\u001b[0m\n",
      " 34%|█████████████▉                           | 337/987 [28:19<48:53,  4.51s/it]"
     ]
    },
    {
     "name": "stdout",
     "output_type": "stream",
     "text": [
      "28_11_1936_00000016\n",
      "Pages/28_11_1936_00000016.tif.large.jpg\n"
     ]
    },
    {
     "name": "stderr",
     "output_type": "stream",
     "text": [
      "The checkpoint state_dict contains keys that are not used by the model:\n",
      "  \u001b[35mbackbone.fpn_lateral2.bias\u001b[0m\n",
      "  \u001b[35mbackbone.fpn_output2.bias\u001b[0m\n",
      "  \u001b[35mbackbone.fpn_lateral3.bias\u001b[0m\n",
      "  \u001b[35mbackbone.fpn_output3.bias\u001b[0m\n",
      "  \u001b[35mbackbone.fpn_lateral4.bias\u001b[0m\n",
      "  \u001b[35mbackbone.fpn_output4.bias\u001b[0m\n",
      "  \u001b[35mbackbone.fpn_lateral5.bias\u001b[0m\n",
      "  \u001b[35mbackbone.fpn_output5.bias\u001b[0m\n",
      " 34%|██████████████                           | 338/987 [28:24<48:45,  4.51s/it]"
     ]
    },
    {
     "name": "stdout",
     "output_type": "stream",
     "text": [
      "21_07_1936_00000013\n",
      "Pages/21_07_1936_00000013.tif.large.jpg\n"
     ]
    },
    {
     "name": "stderr",
     "output_type": "stream",
     "text": [
      "The checkpoint state_dict contains keys that are not used by the model:\n",
      "  \u001b[35mbackbone.fpn_lateral2.bias\u001b[0m\n",
      "  \u001b[35mbackbone.fpn_output2.bias\u001b[0m\n",
      "  \u001b[35mbackbone.fpn_lateral3.bias\u001b[0m\n",
      "  \u001b[35mbackbone.fpn_output3.bias\u001b[0m\n",
      "  \u001b[35mbackbone.fpn_lateral4.bias\u001b[0m\n",
      "  \u001b[35mbackbone.fpn_output4.bias\u001b[0m\n",
      "  \u001b[35mbackbone.fpn_lateral5.bias\u001b[0m\n",
      "  \u001b[35mbackbone.fpn_output5.bias\u001b[0m\n",
      " 34%|██████████████                           | 339/987 [28:28<48:45,  4.52s/it]"
     ]
    },
    {
     "name": "stdout",
     "output_type": "stream",
     "text": [
      "21_08_1936_00000009\n",
      "Pages/21_08_1936_00000009.tif.large.jpg\n"
     ]
    },
    {
     "name": "stderr",
     "output_type": "stream",
     "text": [
      "The checkpoint state_dict contains keys that are not used by the model:\n",
      "  \u001b[35mbackbone.fpn_lateral2.bias\u001b[0m\n",
      "  \u001b[35mbackbone.fpn_output2.bias\u001b[0m\n",
      "  \u001b[35mbackbone.fpn_lateral3.bias\u001b[0m\n",
      "  \u001b[35mbackbone.fpn_output3.bias\u001b[0m\n",
      "  \u001b[35mbackbone.fpn_lateral4.bias\u001b[0m\n",
      "  \u001b[35mbackbone.fpn_output4.bias\u001b[0m\n",
      "  \u001b[35mbackbone.fpn_lateral5.bias\u001b[0m\n",
      "  \u001b[35mbackbone.fpn_output5.bias\u001b[0m\n",
      " 34%|██████████████                           | 340/987 [28:33<48:35,  4.51s/it]"
     ]
    },
    {
     "name": "stdout",
     "output_type": "stream",
     "text": [
      "16_08_1936_00000019\n",
      "Pages/16_08_1936_00000019.tif.large.jpg\n"
     ]
    },
    {
     "name": "stderr",
     "output_type": "stream",
     "text": [
      "The checkpoint state_dict contains keys that are not used by the model:\n",
      "  \u001b[35mbackbone.fpn_lateral2.bias\u001b[0m\n",
      "  \u001b[35mbackbone.fpn_output2.bias\u001b[0m\n",
      "  \u001b[35mbackbone.fpn_lateral3.bias\u001b[0m\n",
      "  \u001b[35mbackbone.fpn_output3.bias\u001b[0m\n",
      "  \u001b[35mbackbone.fpn_lateral4.bias\u001b[0m\n",
      "  \u001b[35mbackbone.fpn_output4.bias\u001b[0m\n",
      "  \u001b[35mbackbone.fpn_lateral5.bias\u001b[0m\n",
      "  \u001b[35mbackbone.fpn_output5.bias\u001b[0m\n",
      " 35%|██████████████▏                          | 341/987 [28:37<48:30,  4.51s/it]"
     ]
    },
    {
     "name": "stdout",
     "output_type": "stream",
     "text": [
      "24_12_1936_00000004\n",
      "Pages/24_12_1936_00000004.tif.large.jpg\n"
     ]
    },
    {
     "name": "stderr",
     "output_type": "stream",
     "text": [
      "The checkpoint state_dict contains keys that are not used by the model:\n",
      "  \u001b[35mbackbone.fpn_lateral2.bias\u001b[0m\n",
      "  \u001b[35mbackbone.fpn_output2.bias\u001b[0m\n",
      "  \u001b[35mbackbone.fpn_lateral3.bias\u001b[0m\n",
      "  \u001b[35mbackbone.fpn_output3.bias\u001b[0m\n",
      "  \u001b[35mbackbone.fpn_lateral4.bias\u001b[0m\n",
      "  \u001b[35mbackbone.fpn_output4.bias\u001b[0m\n",
      "  \u001b[35mbackbone.fpn_lateral5.bias\u001b[0m\n",
      "  \u001b[35mbackbone.fpn_output5.bias\u001b[0m\n",
      " 35%|██████████████▏                          | 342/987 [28:42<48:44,  4.53s/it]"
     ]
    },
    {
     "name": "stdout",
     "output_type": "stream",
     "text": [
      "22_01_1936_00000004\n",
      "Pages/22_01_1936_00000004.tif.large.jpg\n"
     ]
    },
    {
     "name": "stderr",
     "output_type": "stream",
     "text": [
      "The checkpoint state_dict contains keys that are not used by the model:\n",
      "  \u001b[35mbackbone.fpn_lateral2.bias\u001b[0m\n",
      "  \u001b[35mbackbone.fpn_output2.bias\u001b[0m\n",
      "  \u001b[35mbackbone.fpn_lateral3.bias\u001b[0m\n",
      "  \u001b[35mbackbone.fpn_output3.bias\u001b[0m\n",
      "  \u001b[35mbackbone.fpn_lateral4.bias\u001b[0m\n",
      "  \u001b[35mbackbone.fpn_output4.bias\u001b[0m\n",
      "  \u001b[35mbackbone.fpn_lateral5.bias\u001b[0m\n",
      "  \u001b[35mbackbone.fpn_output5.bias\u001b[0m\n",
      " 35%|██████████████▏                          | 343/987 [28:47<48:52,  4.55s/it]"
     ]
    },
    {
     "name": "stdout",
     "output_type": "stream",
     "text": [
      "25_01_1936_00000005\n",
      "Pages/25_01_1936_00000005.tif.large.jpg\n"
     ]
    },
    {
     "name": "stderr",
     "output_type": "stream",
     "text": [
      "The checkpoint state_dict contains keys that are not used by the model:\n",
      "  \u001b[35mbackbone.fpn_lateral2.bias\u001b[0m\n",
      "  \u001b[35mbackbone.fpn_output2.bias\u001b[0m\n",
      "  \u001b[35mbackbone.fpn_lateral3.bias\u001b[0m\n",
      "  \u001b[35mbackbone.fpn_output3.bias\u001b[0m\n",
      "  \u001b[35mbackbone.fpn_lateral4.bias\u001b[0m\n",
      "  \u001b[35mbackbone.fpn_output4.bias\u001b[0m\n",
      "  \u001b[35mbackbone.fpn_lateral5.bias\u001b[0m\n",
      "  \u001b[35mbackbone.fpn_output5.bias\u001b[0m\n",
      " 35%|██████████████▎                          | 344/987 [28:51<48:35,  4.53s/it]"
     ]
    },
    {
     "name": "stdout",
     "output_type": "stream",
     "text": [
      "03_10_1936_00000009\n",
      "Pages/03_10_1936_00000009.tif.large.jpg\n"
     ]
    },
    {
     "name": "stderr",
     "output_type": "stream",
     "text": [
      "The checkpoint state_dict contains keys that are not used by the model:\n",
      "  \u001b[35mbackbone.fpn_lateral2.bias\u001b[0m\n",
      "  \u001b[35mbackbone.fpn_output2.bias\u001b[0m\n",
      "  \u001b[35mbackbone.fpn_lateral3.bias\u001b[0m\n",
      "  \u001b[35mbackbone.fpn_output3.bias\u001b[0m\n",
      "  \u001b[35mbackbone.fpn_lateral4.bias\u001b[0m\n",
      "  \u001b[35mbackbone.fpn_output4.bias\u001b[0m\n",
      "  \u001b[35mbackbone.fpn_lateral5.bias\u001b[0m\n",
      "  \u001b[35mbackbone.fpn_output5.bias\u001b[0m\n",
      " 35%|██████████████▎                          | 345/987 [28:56<48:10,  4.50s/it]"
     ]
    },
    {
     "name": "stdout",
     "output_type": "stream",
     "text": [
      "27_01_1936_00000005\n",
      "Pages/27_01_1936_00000005.tif.large.jpg\n"
     ]
    },
    {
     "name": "stderr",
     "output_type": "stream",
     "text": [
      "The checkpoint state_dict contains keys that are not used by the model:\n",
      "  \u001b[35mbackbone.fpn_lateral2.bias\u001b[0m\n",
      "  \u001b[35mbackbone.fpn_output2.bias\u001b[0m\n",
      "  \u001b[35mbackbone.fpn_lateral3.bias\u001b[0m\n",
      "  \u001b[35mbackbone.fpn_output3.bias\u001b[0m\n",
      "  \u001b[35mbackbone.fpn_lateral4.bias\u001b[0m\n",
      "  \u001b[35mbackbone.fpn_output4.bias\u001b[0m\n",
      "  \u001b[35mbackbone.fpn_lateral5.bias\u001b[0m\n",
      "  \u001b[35mbackbone.fpn_output5.bias\u001b[0m\n",
      " 35%|██████████████▎                          | 346/987 [29:00<47:56,  4.49s/it]"
     ]
    },
    {
     "name": "stdout",
     "output_type": "stream",
     "text": [
      "02_02_1936_00000001\n",
      "Pages/02_02_1936_00000001.tif.large.jpg\n"
     ]
    },
    {
     "name": "stderr",
     "output_type": "stream",
     "text": [
      "The checkpoint state_dict contains keys that are not used by the model:\n",
      "  \u001b[35mbackbone.fpn_lateral2.bias\u001b[0m\n",
      "  \u001b[35mbackbone.fpn_output2.bias\u001b[0m\n",
      "  \u001b[35mbackbone.fpn_lateral3.bias\u001b[0m\n",
      "  \u001b[35mbackbone.fpn_output3.bias\u001b[0m\n",
      "  \u001b[35mbackbone.fpn_lateral4.bias\u001b[0m\n",
      "  \u001b[35mbackbone.fpn_output4.bias\u001b[0m\n",
      "  \u001b[35mbackbone.fpn_lateral5.bias\u001b[0m\n",
      "  \u001b[35mbackbone.fpn_output5.bias\u001b[0m\n",
      " 35%|██████████████▍                          | 347/987 [29:05<48:25,  4.54s/it]"
     ]
    },
    {
     "name": "stdout",
     "output_type": "stream",
     "text": [
      "08_02_1936_00000008\n",
      "Pages/08_02_1936_00000008.tif.large.jpg\n"
     ]
    },
    {
     "name": "stderr",
     "output_type": "stream",
     "text": [
      "The checkpoint state_dict contains keys that are not used by the model:\n",
      "  \u001b[35mbackbone.fpn_lateral2.bias\u001b[0m\n",
      "  \u001b[35mbackbone.fpn_output2.bias\u001b[0m\n",
      "  \u001b[35mbackbone.fpn_lateral3.bias\u001b[0m\n",
      "  \u001b[35mbackbone.fpn_output3.bias\u001b[0m\n",
      "  \u001b[35mbackbone.fpn_lateral4.bias\u001b[0m\n",
      "  \u001b[35mbackbone.fpn_output4.bias\u001b[0m\n",
      "  \u001b[35mbackbone.fpn_lateral5.bias\u001b[0m\n",
      "  \u001b[35mbackbone.fpn_output5.bias\u001b[0m\n",
      " 35%|██████████████▍                          | 348/987 [29:09<48:44,  4.58s/it]"
     ]
    },
    {
     "name": "stdout",
     "output_type": "stream",
     "text": [
      "21_08_1936_00000005\n",
      "Pages/21_08_1936_00000005.tif.large.jpg\n"
     ]
    },
    {
     "name": "stderr",
     "output_type": "stream",
     "text": [
      "The checkpoint state_dict contains keys that are not used by the model:\n",
      "  \u001b[35mbackbone.fpn_lateral2.bias\u001b[0m\n",
      "  \u001b[35mbackbone.fpn_output2.bias\u001b[0m\n",
      "  \u001b[35mbackbone.fpn_lateral3.bias\u001b[0m\n",
      "  \u001b[35mbackbone.fpn_output3.bias\u001b[0m\n",
      "  \u001b[35mbackbone.fpn_lateral4.bias\u001b[0m\n",
      "  \u001b[35mbackbone.fpn_output4.bias\u001b[0m\n",
      "  \u001b[35mbackbone.fpn_lateral5.bias\u001b[0m\n",
      "  \u001b[35mbackbone.fpn_output5.bias\u001b[0m\n",
      " 35%|██████████████▍                          | 349/987 [29:14<48:24,  4.55s/it]"
     ]
    },
    {
     "name": "stdout",
     "output_type": "stream",
     "text": [
      "13_08_1936_00000011\n",
      "Pages/13_08_1936_00000011.tif.large.jpg\n"
     ]
    },
    {
     "name": "stderr",
     "output_type": "stream",
     "text": [
      "The checkpoint state_dict contains keys that are not used by the model:\n",
      "  \u001b[35mbackbone.fpn_lateral2.bias\u001b[0m\n",
      "  \u001b[35mbackbone.fpn_output2.bias\u001b[0m\n",
      "  \u001b[35mbackbone.fpn_lateral3.bias\u001b[0m\n",
      "  \u001b[35mbackbone.fpn_output3.bias\u001b[0m\n",
      "  \u001b[35mbackbone.fpn_lateral4.bias\u001b[0m\n",
      "  \u001b[35mbackbone.fpn_output4.bias\u001b[0m\n",
      "  \u001b[35mbackbone.fpn_lateral5.bias\u001b[0m\n",
      "  \u001b[35mbackbone.fpn_output5.bias\u001b[0m\n",
      " 35%|██████████████▌                          | 350/987 [29:18<48:28,  4.57s/it]"
     ]
    },
    {
     "name": "stdout",
     "output_type": "stream",
     "text": [
      "30_01_1936_00000010\n",
      "Pages/30_01_1936_00000010.tif.large.jpg\n"
     ]
    },
    {
     "name": "stderr",
     "output_type": "stream",
     "text": [
      "The checkpoint state_dict contains keys that are not used by the model:\n",
      "  \u001b[35mbackbone.fpn_lateral2.bias\u001b[0m\n",
      "  \u001b[35mbackbone.fpn_output2.bias\u001b[0m\n",
      "  \u001b[35mbackbone.fpn_lateral3.bias\u001b[0m\n",
      "  \u001b[35mbackbone.fpn_output3.bias\u001b[0m\n",
      "  \u001b[35mbackbone.fpn_lateral4.bias\u001b[0m\n",
      "  \u001b[35mbackbone.fpn_output4.bias\u001b[0m\n",
      "  \u001b[35mbackbone.fpn_lateral5.bias\u001b[0m\n",
      "  \u001b[35mbackbone.fpn_output5.bias\u001b[0m\n",
      " 36%|██████████████▌                          | 351/987 [29:24<51:06,  4.82s/it]"
     ]
    },
    {
     "name": "stdout",
     "output_type": "stream",
     "text": [
      "20_12_1936_00000001\n",
      "Pages/20_12_1936_00000001.tif.large.jpg\n"
     ]
    },
    {
     "name": "stderr",
     "output_type": "stream",
     "text": [
      "The checkpoint state_dict contains keys that are not used by the model:\n",
      "  \u001b[35mbackbone.fpn_lateral2.bias\u001b[0m\n",
      "  \u001b[35mbackbone.fpn_output2.bias\u001b[0m\n",
      "  \u001b[35mbackbone.fpn_lateral3.bias\u001b[0m\n",
      "  \u001b[35mbackbone.fpn_output3.bias\u001b[0m\n",
      "  \u001b[35mbackbone.fpn_lateral4.bias\u001b[0m\n",
      "  \u001b[35mbackbone.fpn_output4.bias\u001b[0m\n",
      "  \u001b[35mbackbone.fpn_lateral5.bias\u001b[0m\n",
      "  \u001b[35mbackbone.fpn_output5.bias\u001b[0m\n",
      " 36%|██████████████▌                          | 352/987 [29:29<50:56,  4.81s/it]"
     ]
    },
    {
     "name": "stdout",
     "output_type": "stream",
     "text": [
      "16_10_1936_00000007\n",
      "Pages/16_10_1936_00000007.tif.large.jpg\n"
     ]
    },
    {
     "name": "stderr",
     "output_type": "stream",
     "text": [
      "The checkpoint state_dict contains keys that are not used by the model:\n",
      "  \u001b[35mbackbone.fpn_lateral2.bias\u001b[0m\n",
      "  \u001b[35mbackbone.fpn_output2.bias\u001b[0m\n",
      "  \u001b[35mbackbone.fpn_lateral3.bias\u001b[0m\n",
      "  \u001b[35mbackbone.fpn_output3.bias\u001b[0m\n",
      "  \u001b[35mbackbone.fpn_lateral4.bias\u001b[0m\n",
      "  \u001b[35mbackbone.fpn_output4.bias\u001b[0m\n",
      "  \u001b[35mbackbone.fpn_lateral5.bias\u001b[0m\n",
      "  \u001b[35mbackbone.fpn_output5.bias\u001b[0m\n",
      " 36%|██████████████▋                          | 353/987 [29:33<50:00,  4.73s/it]"
     ]
    },
    {
     "name": "stdout",
     "output_type": "stream",
     "text": [
      "04_04_1936_00000005\n",
      "Pages/04_04_1936_00000005.tif.large.jpg\n"
     ]
    },
    {
     "name": "stderr",
     "output_type": "stream",
     "text": [
      "The checkpoint state_dict contains keys that are not used by the model:\n",
      "  \u001b[35mbackbone.fpn_lateral2.bias\u001b[0m\n",
      "  \u001b[35mbackbone.fpn_output2.bias\u001b[0m\n",
      "  \u001b[35mbackbone.fpn_lateral3.bias\u001b[0m\n",
      "  \u001b[35mbackbone.fpn_output3.bias\u001b[0m\n",
      "  \u001b[35mbackbone.fpn_lateral4.bias\u001b[0m\n",
      "  \u001b[35mbackbone.fpn_output4.bias\u001b[0m\n",
      "  \u001b[35mbackbone.fpn_lateral5.bias\u001b[0m\n",
      "  \u001b[35mbackbone.fpn_output5.bias\u001b[0m\n",
      " 36%|██████████████▋                          | 354/987 [29:38<48:57,  4.64s/it]"
     ]
    },
    {
     "name": "stdout",
     "output_type": "stream",
     "text": [
      "05_11_1936_00000006\n",
      "Pages/05_11_1936_00000006.tif.large.jpg\n"
     ]
    },
    {
     "name": "stderr",
     "output_type": "stream",
     "text": [
      "The checkpoint state_dict contains keys that are not used by the model:\n",
      "  \u001b[35mbackbone.fpn_lateral2.bias\u001b[0m\n",
      "  \u001b[35mbackbone.fpn_output2.bias\u001b[0m\n",
      "  \u001b[35mbackbone.fpn_lateral3.bias\u001b[0m\n",
      "  \u001b[35mbackbone.fpn_output3.bias\u001b[0m\n",
      "  \u001b[35mbackbone.fpn_lateral4.bias\u001b[0m\n",
      "  \u001b[35mbackbone.fpn_output4.bias\u001b[0m\n",
      "  \u001b[35mbackbone.fpn_lateral5.bias\u001b[0m\n",
      "  \u001b[35mbackbone.fpn_output5.bias\u001b[0m\n",
      " 36%|██████████████▋                          | 355/987 [29:43<49:50,  4.73s/it]"
     ]
    },
    {
     "name": "stdout",
     "output_type": "stream",
     "text": [
      "12_10_1936_00000007\n",
      "Pages/12_10_1936_00000007.tif.large.jpg\n"
     ]
    },
    {
     "name": "stderr",
     "output_type": "stream",
     "text": [
      "The checkpoint state_dict contains keys that are not used by the model:\n",
      "  \u001b[35mbackbone.fpn_lateral2.bias\u001b[0m\n",
      "  \u001b[35mbackbone.fpn_output2.bias\u001b[0m\n",
      "  \u001b[35mbackbone.fpn_lateral3.bias\u001b[0m\n",
      "  \u001b[35mbackbone.fpn_output3.bias\u001b[0m\n",
      "  \u001b[35mbackbone.fpn_lateral4.bias\u001b[0m\n",
      "  \u001b[35mbackbone.fpn_output4.bias\u001b[0m\n",
      "  \u001b[35mbackbone.fpn_lateral5.bias\u001b[0m\n",
      "  \u001b[35mbackbone.fpn_output5.bias\u001b[0m\n",
      " 36%|██████████████▊                          | 356/987 [29:47<49:31,  4.71s/it]"
     ]
    },
    {
     "name": "stdout",
     "output_type": "stream",
     "text": [
      "22_01_1936_00000013\n",
      "Pages/22_01_1936_00000013.tif.large.jpg\n"
     ]
    },
    {
     "name": "stderr",
     "output_type": "stream",
     "text": [
      "The checkpoint state_dict contains keys that are not used by the model:\n",
      "  \u001b[35mbackbone.fpn_lateral2.bias\u001b[0m\n",
      "  \u001b[35mbackbone.fpn_output2.bias\u001b[0m\n",
      "  \u001b[35mbackbone.fpn_lateral3.bias\u001b[0m\n",
      "  \u001b[35mbackbone.fpn_output3.bias\u001b[0m\n",
      "  \u001b[35mbackbone.fpn_lateral4.bias\u001b[0m\n",
      "  \u001b[35mbackbone.fpn_output4.bias\u001b[0m\n",
      "  \u001b[35mbackbone.fpn_lateral5.bias\u001b[0m\n",
      "  \u001b[35mbackbone.fpn_output5.bias\u001b[0m\n",
      " 36%|██████████████▊                          | 357/987 [29:52<49:18,  4.70s/it]"
     ]
    },
    {
     "name": "stdout",
     "output_type": "stream",
     "text": [
      "22_11_1936_00000005\n",
      "Pages/22_11_1936_00000005.tif.large.jpg\n"
     ]
    },
    {
     "name": "stderr",
     "output_type": "stream",
     "text": [
      "The checkpoint state_dict contains keys that are not used by the model:\n",
      "  \u001b[35mbackbone.fpn_lateral2.bias\u001b[0m\n",
      "  \u001b[35mbackbone.fpn_output2.bias\u001b[0m\n",
      "  \u001b[35mbackbone.fpn_lateral3.bias\u001b[0m\n",
      "  \u001b[35mbackbone.fpn_output3.bias\u001b[0m\n",
      "  \u001b[35mbackbone.fpn_lateral4.bias\u001b[0m\n",
      "  \u001b[35mbackbone.fpn_output4.bias\u001b[0m\n",
      "  \u001b[35mbackbone.fpn_lateral5.bias\u001b[0m\n",
      "  \u001b[35mbackbone.fpn_output5.bias\u001b[0m\n",
      " 36%|██████████████▊                          | 358/987 [29:57<49:20,  4.71s/it]"
     ]
    },
    {
     "name": "stdout",
     "output_type": "stream",
     "text": [
      "20_11_1936_00000019\n",
      "Pages/20_11_1936_00000019.tif.large.jpg\n"
     ]
    },
    {
     "name": "stderr",
     "output_type": "stream",
     "text": [
      "The checkpoint state_dict contains keys that are not used by the model:\n",
      "  \u001b[35mbackbone.fpn_lateral2.bias\u001b[0m\n",
      "  \u001b[35mbackbone.fpn_output2.bias\u001b[0m\n",
      "  \u001b[35mbackbone.fpn_lateral3.bias\u001b[0m\n",
      "  \u001b[35mbackbone.fpn_output3.bias\u001b[0m\n",
      "  \u001b[35mbackbone.fpn_lateral4.bias\u001b[0m\n",
      "  \u001b[35mbackbone.fpn_output4.bias\u001b[0m\n",
      "  \u001b[35mbackbone.fpn_lateral5.bias\u001b[0m\n",
      "  \u001b[35mbackbone.fpn_output5.bias\u001b[0m\n",
      " 36%|██████████████▉                          | 359/987 [30:01<49:16,  4.71s/it]"
     ]
    },
    {
     "name": "stdout",
     "output_type": "stream",
     "text": [
      "05_09_1936_00000009\n",
      "Pages/05_09_1936_00000009.tif.large.jpg\n"
     ]
    },
    {
     "name": "stderr",
     "output_type": "stream",
     "text": [
      "The checkpoint state_dict contains keys that are not used by the model:\n",
      "  \u001b[35mbackbone.fpn_lateral2.bias\u001b[0m\n",
      "  \u001b[35mbackbone.fpn_output2.bias\u001b[0m\n",
      "  \u001b[35mbackbone.fpn_lateral3.bias\u001b[0m\n",
      "  \u001b[35mbackbone.fpn_output3.bias\u001b[0m\n",
      "  \u001b[35mbackbone.fpn_lateral4.bias\u001b[0m\n",
      "  \u001b[35mbackbone.fpn_output4.bias\u001b[0m\n",
      "  \u001b[35mbackbone.fpn_lateral5.bias\u001b[0m\n",
      "  \u001b[35mbackbone.fpn_output5.bias\u001b[0m\n",
      " 36%|██████████████▉                          | 360/987 [30:06<49:50,  4.77s/it]"
     ]
    },
    {
     "name": "stdout",
     "output_type": "stream",
     "text": [
      "26_02_1936_00000007\n",
      "Pages/26_02_1936_00000007.tif.large.jpg\n"
     ]
    },
    {
     "name": "stderr",
     "output_type": "stream",
     "text": [
      "The checkpoint state_dict contains keys that are not used by the model:\n",
      "  \u001b[35mbackbone.fpn_lateral2.bias\u001b[0m\n",
      "  \u001b[35mbackbone.fpn_output2.bias\u001b[0m\n",
      "  \u001b[35mbackbone.fpn_lateral3.bias\u001b[0m\n",
      "  \u001b[35mbackbone.fpn_output3.bias\u001b[0m\n",
      "  \u001b[35mbackbone.fpn_lateral4.bias\u001b[0m\n",
      "  \u001b[35mbackbone.fpn_output4.bias\u001b[0m\n",
      "  \u001b[35mbackbone.fpn_lateral5.bias\u001b[0m\n",
      "  \u001b[35mbackbone.fpn_output5.bias\u001b[0m\n",
      " 37%|██████████████▉                          | 361/987 [30:11<50:11,  4.81s/it]"
     ]
    },
    {
     "name": "stdout",
     "output_type": "stream",
     "text": [
      "27_04_1936_00000002\n",
      "Pages/27_04_1936_00000002.tif.large.jpg\n"
     ]
    },
    {
     "name": "stderr",
     "output_type": "stream",
     "text": [
      "The checkpoint state_dict contains keys that are not used by the model:\n",
      "  \u001b[35mbackbone.fpn_lateral2.bias\u001b[0m\n",
      "  \u001b[35mbackbone.fpn_output2.bias\u001b[0m\n",
      "  \u001b[35mbackbone.fpn_lateral3.bias\u001b[0m\n",
      "  \u001b[35mbackbone.fpn_output3.bias\u001b[0m\n",
      "  \u001b[35mbackbone.fpn_lateral4.bias\u001b[0m\n",
      "  \u001b[35mbackbone.fpn_output4.bias\u001b[0m\n",
      "  \u001b[35mbackbone.fpn_lateral5.bias\u001b[0m\n",
      "  \u001b[35mbackbone.fpn_output5.bias\u001b[0m\n",
      " 37%|███████████████                          | 362/987 [30:16<50:50,  4.88s/it]"
     ]
    },
    {
     "name": "stdout",
     "output_type": "stream",
     "text": [
      "07_02_1936_00000017\n",
      "Pages/07_02_1936_00000017.tif.large.jpg\n"
     ]
    },
    {
     "name": "stderr",
     "output_type": "stream",
     "text": [
      "The checkpoint state_dict contains keys that are not used by the model:\n",
      "  \u001b[35mbackbone.fpn_lateral2.bias\u001b[0m\n",
      "  \u001b[35mbackbone.fpn_output2.bias\u001b[0m\n",
      "  \u001b[35mbackbone.fpn_lateral3.bias\u001b[0m\n",
      "  \u001b[35mbackbone.fpn_output3.bias\u001b[0m\n",
      "  \u001b[35mbackbone.fpn_lateral4.bias\u001b[0m\n",
      "  \u001b[35mbackbone.fpn_output4.bias\u001b[0m\n",
      "  \u001b[35mbackbone.fpn_lateral5.bias\u001b[0m\n",
      "  \u001b[35mbackbone.fpn_output5.bias\u001b[0m\n",
      " 37%|███████████████                          | 363/987 [30:21<49:39,  4.78s/it]"
     ]
    },
    {
     "name": "stdout",
     "output_type": "stream",
     "text": [
      "26_07_1936_00000001\n",
      "Pages/26_07_1936_00000001.tif.large.jpg\n"
     ]
    },
    {
     "name": "stderr",
     "output_type": "stream",
     "text": [
      "The checkpoint state_dict contains keys that are not used by the model:\n",
      "  \u001b[35mbackbone.fpn_lateral2.bias\u001b[0m\n",
      "  \u001b[35mbackbone.fpn_output2.bias\u001b[0m\n",
      "  \u001b[35mbackbone.fpn_lateral3.bias\u001b[0m\n",
      "  \u001b[35mbackbone.fpn_output3.bias\u001b[0m\n",
      "  \u001b[35mbackbone.fpn_lateral4.bias\u001b[0m\n",
      "  \u001b[35mbackbone.fpn_output4.bias\u001b[0m\n",
      "  \u001b[35mbackbone.fpn_lateral5.bias\u001b[0m\n",
      "  \u001b[35mbackbone.fpn_output5.bias\u001b[0m\n",
      " 37%|███████████████                          | 364/987 [30:25<48:42,  4.69s/it]"
     ]
    },
    {
     "name": "stdout",
     "output_type": "stream",
     "text": [
      "15_01_1936_00000005\n",
      "Pages/15_01_1936_00000005.tif.large.jpg\n"
     ]
    },
    {
     "name": "stderr",
     "output_type": "stream",
     "text": [
      "The checkpoint state_dict contains keys that are not used by the model:\n",
      "  \u001b[35mbackbone.fpn_lateral2.bias\u001b[0m\n",
      "  \u001b[35mbackbone.fpn_output2.bias\u001b[0m\n",
      "  \u001b[35mbackbone.fpn_lateral3.bias\u001b[0m\n",
      "  \u001b[35mbackbone.fpn_output3.bias\u001b[0m\n",
      "  \u001b[35mbackbone.fpn_lateral4.bias\u001b[0m\n",
      "  \u001b[35mbackbone.fpn_output4.bias\u001b[0m\n",
      "  \u001b[35mbackbone.fpn_lateral5.bias\u001b[0m\n",
      "  \u001b[35mbackbone.fpn_output5.bias\u001b[0m\n",
      " 37%|███████████████▏                         | 365/987 [30:30<48:17,  4.66s/it]"
     ]
    },
    {
     "name": "stdout",
     "output_type": "stream",
     "text": [
      "05_09_1936_00000006\n",
      "Pages/05_09_1936_00000006.tif.large.jpg\n"
     ]
    },
    {
     "name": "stderr",
     "output_type": "stream",
     "text": [
      "The checkpoint state_dict contains keys that are not used by the model:\n",
      "  \u001b[35mbackbone.fpn_lateral2.bias\u001b[0m\n",
      "  \u001b[35mbackbone.fpn_output2.bias\u001b[0m\n",
      "  \u001b[35mbackbone.fpn_lateral3.bias\u001b[0m\n",
      "  \u001b[35mbackbone.fpn_output3.bias\u001b[0m\n",
      "  \u001b[35mbackbone.fpn_lateral4.bias\u001b[0m\n",
      "  \u001b[35mbackbone.fpn_output4.bias\u001b[0m\n",
      "  \u001b[35mbackbone.fpn_lateral5.bias\u001b[0m\n",
      "  \u001b[35mbackbone.fpn_output5.bias\u001b[0m\n",
      " 37%|███████████████▏                         | 366/987 [30:34<47:43,  4.61s/it]"
     ]
    },
    {
     "name": "stdout",
     "output_type": "stream",
     "text": [
      "24_02_1936_00000009\n",
      "Pages/24_02_1936_00000009.tif.large.jpg\n"
     ]
    },
    {
     "name": "stderr",
     "output_type": "stream",
     "text": [
      "The checkpoint state_dict contains keys that are not used by the model:\n",
      "  \u001b[35mbackbone.fpn_lateral2.bias\u001b[0m\n",
      "  \u001b[35mbackbone.fpn_output2.bias\u001b[0m\n",
      "  \u001b[35mbackbone.fpn_lateral3.bias\u001b[0m\n",
      "  \u001b[35mbackbone.fpn_output3.bias\u001b[0m\n",
      "  \u001b[35mbackbone.fpn_lateral4.bias\u001b[0m\n",
      "  \u001b[35mbackbone.fpn_output4.bias\u001b[0m\n",
      "  \u001b[35mbackbone.fpn_lateral5.bias\u001b[0m\n",
      "  \u001b[35mbackbone.fpn_output5.bias\u001b[0m\n",
      " 37%|███████████████▏                         | 367/987 [30:39<48:01,  4.65s/it]"
     ]
    },
    {
     "name": "stdout",
     "output_type": "stream",
     "text": [
      "03_08_1936_00000003\n",
      "Pages/03_08_1936_00000003.tif.large.jpg\n"
     ]
    },
    {
     "name": "stderr",
     "output_type": "stream",
     "text": [
      "The checkpoint state_dict contains keys that are not used by the model:\n",
      "  \u001b[35mbackbone.fpn_lateral2.bias\u001b[0m\n",
      "  \u001b[35mbackbone.fpn_output2.bias\u001b[0m\n",
      "  \u001b[35mbackbone.fpn_lateral3.bias\u001b[0m\n",
      "  \u001b[35mbackbone.fpn_output3.bias\u001b[0m\n",
      "  \u001b[35mbackbone.fpn_lateral4.bias\u001b[0m\n",
      "  \u001b[35mbackbone.fpn_output4.bias\u001b[0m\n",
      "  \u001b[35mbackbone.fpn_lateral5.bias\u001b[0m\n",
      "  \u001b[35mbackbone.fpn_output5.bias\u001b[0m\n",
      " 37%|███████████████▎                         | 368/987 [30:44<48:25,  4.69s/it]"
     ]
    },
    {
     "name": "stdout",
     "output_type": "stream",
     "text": [
      "09_04_1936_00000007\n",
      "Pages/09_04_1936_00000007.tif.large.jpg\n"
     ]
    },
    {
     "name": "stderr",
     "output_type": "stream",
     "text": [
      "The checkpoint state_dict contains keys that are not used by the model:\n",
      "  \u001b[35mbackbone.fpn_lateral2.bias\u001b[0m\n",
      "  \u001b[35mbackbone.fpn_output2.bias\u001b[0m\n",
      "  \u001b[35mbackbone.fpn_lateral3.bias\u001b[0m\n",
      "  \u001b[35mbackbone.fpn_output3.bias\u001b[0m\n",
      "  \u001b[35mbackbone.fpn_lateral4.bias\u001b[0m\n",
      "  \u001b[35mbackbone.fpn_output4.bias\u001b[0m\n",
      "  \u001b[35mbackbone.fpn_lateral5.bias\u001b[0m\n",
      "  \u001b[35mbackbone.fpn_output5.bias\u001b[0m\n",
      " 37%|███████████████▎                         | 369/987 [30:50<51:41,  5.02s/it]"
     ]
    },
    {
     "name": "stdout",
     "output_type": "stream",
     "text": [
      "19_02_1936_00000006\n",
      "Pages/19_02_1936_00000006.tif.large.jpg\n"
     ]
    },
    {
     "name": "stderr",
     "output_type": "stream",
     "text": [
      "The checkpoint state_dict contains keys that are not used by the model:\n",
      "  \u001b[35mbackbone.fpn_lateral2.bias\u001b[0m\n",
      "  \u001b[35mbackbone.fpn_output2.bias\u001b[0m\n",
      "  \u001b[35mbackbone.fpn_lateral3.bias\u001b[0m\n",
      "  \u001b[35mbackbone.fpn_output3.bias\u001b[0m\n",
      "  \u001b[35mbackbone.fpn_lateral4.bias\u001b[0m\n",
      "  \u001b[35mbackbone.fpn_output4.bias\u001b[0m\n",
      "  \u001b[35mbackbone.fpn_lateral5.bias\u001b[0m\n",
      "  \u001b[35mbackbone.fpn_output5.bias\u001b[0m\n",
      " 37%|███████████████▎                         | 370/987 [30:55<51:11,  4.98s/it]"
     ]
    },
    {
     "name": "stdout",
     "output_type": "stream",
     "text": [
      "24_04_1936_00000005\n",
      "Pages/24_04_1936_00000005.tif.large.jpg\n"
     ]
    },
    {
     "name": "stderr",
     "output_type": "stream",
     "text": [
      "The checkpoint state_dict contains keys that are not used by the model:\n",
      "  \u001b[35mbackbone.fpn_lateral2.bias\u001b[0m\n",
      "  \u001b[35mbackbone.fpn_output2.bias\u001b[0m\n",
      "  \u001b[35mbackbone.fpn_lateral3.bias\u001b[0m\n",
      "  \u001b[35mbackbone.fpn_output3.bias\u001b[0m\n",
      "  \u001b[35mbackbone.fpn_lateral4.bias\u001b[0m\n",
      "  \u001b[35mbackbone.fpn_output4.bias\u001b[0m\n",
      "  \u001b[35mbackbone.fpn_lateral5.bias\u001b[0m\n",
      "  \u001b[35mbackbone.fpn_output5.bias\u001b[0m\n",
      " 38%|███████████████▍                         | 371/987 [30:59<49:45,  4.85s/it]"
     ]
    },
    {
     "name": "stdout",
     "output_type": "stream",
     "text": [
      "06_12_1936_00000002\n",
      "Pages/06_12_1936_00000002.tif.large.jpg\n"
     ]
    },
    {
     "name": "stderr",
     "output_type": "stream",
     "text": [
      "The checkpoint state_dict contains keys that are not used by the model:\n",
      "  \u001b[35mbackbone.fpn_lateral2.bias\u001b[0m\n",
      "  \u001b[35mbackbone.fpn_output2.bias\u001b[0m\n",
      "  \u001b[35mbackbone.fpn_lateral3.bias\u001b[0m\n",
      "  \u001b[35mbackbone.fpn_output3.bias\u001b[0m\n",
      "  \u001b[35mbackbone.fpn_lateral4.bias\u001b[0m\n",
      "  \u001b[35mbackbone.fpn_output4.bias\u001b[0m\n",
      "  \u001b[35mbackbone.fpn_lateral5.bias\u001b[0m\n",
      "  \u001b[35mbackbone.fpn_output5.bias\u001b[0m\n",
      " 38%|███████████████▍                         | 372/987 [31:04<48:46,  4.76s/it]"
     ]
    },
    {
     "name": "stdout",
     "output_type": "stream",
     "text": [
      "22_11_1936_00000024\n",
      "Pages/22_11_1936_00000024.tif.large.jpg\n"
     ]
    },
    {
     "name": "stderr",
     "output_type": "stream",
     "text": [
      "The checkpoint state_dict contains keys that are not used by the model:\n",
      "  \u001b[35mbackbone.fpn_lateral2.bias\u001b[0m\n",
      "  \u001b[35mbackbone.fpn_output2.bias\u001b[0m\n",
      "  \u001b[35mbackbone.fpn_lateral3.bias\u001b[0m\n",
      "  \u001b[35mbackbone.fpn_output3.bias\u001b[0m\n",
      "  \u001b[35mbackbone.fpn_lateral4.bias\u001b[0m\n",
      "  \u001b[35mbackbone.fpn_output4.bias\u001b[0m\n",
      "  \u001b[35mbackbone.fpn_lateral5.bias\u001b[0m\n",
      "  \u001b[35mbackbone.fpn_output5.bias\u001b[0m\n",
      " 38%|███████████████▍                         | 373/987 [31:08<47:50,  4.67s/it]"
     ]
    },
    {
     "name": "stdout",
     "output_type": "stream",
     "text": [
      "07_10_1936_00000020\n",
      "Pages/07_10_1936_00000020.tif.large.jpg\n"
     ]
    },
    {
     "name": "stderr",
     "output_type": "stream",
     "text": [
      "The checkpoint state_dict contains keys that are not used by the model:\n",
      "  \u001b[35mbackbone.fpn_lateral2.bias\u001b[0m\n",
      "  \u001b[35mbackbone.fpn_output2.bias\u001b[0m\n",
      "  \u001b[35mbackbone.fpn_lateral3.bias\u001b[0m\n",
      "  \u001b[35mbackbone.fpn_output3.bias\u001b[0m\n",
      "  \u001b[35mbackbone.fpn_lateral4.bias\u001b[0m\n",
      "  \u001b[35mbackbone.fpn_output4.bias\u001b[0m\n",
      "  \u001b[35mbackbone.fpn_lateral5.bias\u001b[0m\n",
      "  \u001b[35mbackbone.fpn_output5.bias\u001b[0m\n",
      " 38%|███████████████▌                         | 374/987 [31:13<46:59,  4.60s/it]"
     ]
    },
    {
     "name": "stdout",
     "output_type": "stream",
     "text": [
      "14_03_1936_00000008\n",
      "Pages/14_03_1936_00000008.tif.large.jpg\n"
     ]
    },
    {
     "name": "stderr",
     "output_type": "stream",
     "text": [
      "The checkpoint state_dict contains keys that are not used by the model:\n",
      "  \u001b[35mbackbone.fpn_lateral2.bias\u001b[0m\n",
      "  \u001b[35mbackbone.fpn_output2.bias\u001b[0m\n",
      "  \u001b[35mbackbone.fpn_lateral3.bias\u001b[0m\n",
      "  \u001b[35mbackbone.fpn_output3.bias\u001b[0m\n",
      "  \u001b[35mbackbone.fpn_lateral4.bias\u001b[0m\n",
      "  \u001b[35mbackbone.fpn_output4.bias\u001b[0m\n",
      "  \u001b[35mbackbone.fpn_lateral5.bias\u001b[0m\n",
      "  \u001b[35mbackbone.fpn_output5.bias\u001b[0m\n",
      " 38%|███████████████▌                         | 375/987 [31:17<46:40,  4.58s/it]"
     ]
    },
    {
     "name": "stdout",
     "output_type": "stream",
     "text": [
      "15_11_1936_00000013\n",
      "Pages/15_11_1936_00000013.tif.large.jpg\n"
     ]
    },
    {
     "name": "stderr",
     "output_type": "stream",
     "text": [
      "The checkpoint state_dict contains keys that are not used by the model:\n",
      "  \u001b[35mbackbone.fpn_lateral2.bias\u001b[0m\n",
      "  \u001b[35mbackbone.fpn_output2.bias\u001b[0m\n",
      "  \u001b[35mbackbone.fpn_lateral3.bias\u001b[0m\n",
      "  \u001b[35mbackbone.fpn_output3.bias\u001b[0m\n",
      "  \u001b[35mbackbone.fpn_lateral4.bias\u001b[0m\n",
      "  \u001b[35mbackbone.fpn_output4.bias\u001b[0m\n",
      "  \u001b[35mbackbone.fpn_lateral5.bias\u001b[0m\n",
      "  \u001b[35mbackbone.fpn_output5.bias\u001b[0m\n",
      " 38%|███████████████▌                         | 376/987 [31:22<46:28,  4.56s/it]"
     ]
    },
    {
     "name": "stdout",
     "output_type": "stream",
     "text": [
      "21_11_1936_00000002\n",
      "Pages/21_11_1936_00000002.tif.large.jpg\n"
     ]
    },
    {
     "name": "stderr",
     "output_type": "stream",
     "text": [
      "The checkpoint state_dict contains keys that are not used by the model:\n",
      "  \u001b[35mbackbone.fpn_lateral2.bias\u001b[0m\n",
      "  \u001b[35mbackbone.fpn_output2.bias\u001b[0m\n",
      "  \u001b[35mbackbone.fpn_lateral3.bias\u001b[0m\n",
      "  \u001b[35mbackbone.fpn_output3.bias\u001b[0m\n",
      "  \u001b[35mbackbone.fpn_lateral4.bias\u001b[0m\n",
      "  \u001b[35mbackbone.fpn_output4.bias\u001b[0m\n",
      "  \u001b[35mbackbone.fpn_lateral5.bias\u001b[0m\n",
      "  \u001b[35mbackbone.fpn_output5.bias\u001b[0m\n",
      " 38%|███████████████▋                         | 377/987 [31:26<46:08,  4.54s/it]"
     ]
    },
    {
     "name": "stdout",
     "output_type": "stream",
     "text": [
      "30_10_1936_00000011\n",
      "Pages/30_10_1936_00000011.tif.large.jpg\n"
     ]
    },
    {
     "name": "stderr",
     "output_type": "stream",
     "text": [
      "The checkpoint state_dict contains keys that are not used by the model:\n",
      "  \u001b[35mbackbone.fpn_lateral2.bias\u001b[0m\n",
      "  \u001b[35mbackbone.fpn_output2.bias\u001b[0m\n",
      "  \u001b[35mbackbone.fpn_lateral3.bias\u001b[0m\n",
      "  \u001b[35mbackbone.fpn_output3.bias\u001b[0m\n",
      "  \u001b[35mbackbone.fpn_lateral4.bias\u001b[0m\n",
      "  \u001b[35mbackbone.fpn_output4.bias\u001b[0m\n",
      "  \u001b[35mbackbone.fpn_lateral5.bias\u001b[0m\n",
      "  \u001b[35mbackbone.fpn_output5.bias\u001b[0m\n",
      " 38%|███████████████▋                         | 378/987 [31:31<46:05,  4.54s/it]"
     ]
    },
    {
     "name": "stdout",
     "output_type": "stream",
     "text": [
      "15_09_1936_00000009\n",
      "Pages/15_09_1936_00000009.tif.large.jpg\n"
     ]
    },
    {
     "name": "stderr",
     "output_type": "stream",
     "text": [
      "The checkpoint state_dict contains keys that are not used by the model:\n",
      "  \u001b[35mbackbone.fpn_lateral2.bias\u001b[0m\n",
      "  \u001b[35mbackbone.fpn_output2.bias\u001b[0m\n",
      "  \u001b[35mbackbone.fpn_lateral3.bias\u001b[0m\n",
      "  \u001b[35mbackbone.fpn_output3.bias\u001b[0m\n",
      "  \u001b[35mbackbone.fpn_lateral4.bias\u001b[0m\n",
      "  \u001b[35mbackbone.fpn_output4.bias\u001b[0m\n",
      "  \u001b[35mbackbone.fpn_lateral5.bias\u001b[0m\n",
      "  \u001b[35mbackbone.fpn_output5.bias\u001b[0m\n",
      " 38%|███████████████▋                         | 379/987 [31:35<46:11,  4.56s/it]"
     ]
    },
    {
     "name": "stdout",
     "output_type": "stream",
     "text": [
      "29_08_1936_00000002\n",
      "Pages/29_08_1936_00000002.tif.large.jpg\n"
     ]
    },
    {
     "name": "stderr",
     "output_type": "stream",
     "text": [
      "The checkpoint state_dict contains keys that are not used by the model:\n",
      "  \u001b[35mbackbone.fpn_lateral2.bias\u001b[0m\n",
      "  \u001b[35mbackbone.fpn_output2.bias\u001b[0m\n",
      "  \u001b[35mbackbone.fpn_lateral3.bias\u001b[0m\n",
      "  \u001b[35mbackbone.fpn_output3.bias\u001b[0m\n",
      "  \u001b[35mbackbone.fpn_lateral4.bias\u001b[0m\n",
      "  \u001b[35mbackbone.fpn_output4.bias\u001b[0m\n",
      "  \u001b[35mbackbone.fpn_lateral5.bias\u001b[0m\n",
      "  \u001b[35mbackbone.fpn_output5.bias\u001b[0m\n",
      " 39%|███████████████▊                         | 380/987 [31:40<46:21,  4.58s/it]"
     ]
    },
    {
     "name": "stdout",
     "output_type": "stream",
     "text": [
      "25_03_1936_00000009\n",
      "Pages/25_03_1936_00000009.tif.large.jpg\n"
     ]
    },
    {
     "name": "stderr",
     "output_type": "stream",
     "text": [
      "The checkpoint state_dict contains keys that are not used by the model:\n",
      "  \u001b[35mbackbone.fpn_lateral2.bias\u001b[0m\n",
      "  \u001b[35mbackbone.fpn_output2.bias\u001b[0m\n",
      "  \u001b[35mbackbone.fpn_lateral3.bias\u001b[0m\n",
      "  \u001b[35mbackbone.fpn_output3.bias\u001b[0m\n",
      "  \u001b[35mbackbone.fpn_lateral4.bias\u001b[0m\n",
      "  \u001b[35mbackbone.fpn_output4.bias\u001b[0m\n",
      "  \u001b[35mbackbone.fpn_lateral5.bias\u001b[0m\n",
      "  \u001b[35mbackbone.fpn_output5.bias\u001b[0m\n",
      " 39%|███████████████▊                         | 381/987 [31:44<46:13,  4.58s/it]"
     ]
    },
    {
     "name": "stdout",
     "output_type": "stream",
     "text": [
      "17_09_1936_00000007\n",
      "Pages/17_09_1936_00000007.tif.large.jpg\n"
     ]
    },
    {
     "name": "stderr",
     "output_type": "stream",
     "text": [
      "The checkpoint state_dict contains keys that are not used by the model:\n",
      "  \u001b[35mbackbone.fpn_lateral2.bias\u001b[0m\n",
      "  \u001b[35mbackbone.fpn_output2.bias\u001b[0m\n",
      "  \u001b[35mbackbone.fpn_lateral3.bias\u001b[0m\n",
      "  \u001b[35mbackbone.fpn_output3.bias\u001b[0m\n",
      "  \u001b[35mbackbone.fpn_lateral4.bias\u001b[0m\n",
      "  \u001b[35mbackbone.fpn_output4.bias\u001b[0m\n",
      "  \u001b[35mbackbone.fpn_lateral5.bias\u001b[0m\n",
      "  \u001b[35mbackbone.fpn_output5.bias\u001b[0m\n",
      " 39%|███████████████▊                         | 382/987 [31:49<46:17,  4.59s/it]"
     ]
    },
    {
     "name": "stdout",
     "output_type": "stream",
     "text": [
      "21_01_1936_00000013\n",
      "Pages/21_01_1936_00000013.tif.large.jpg\n"
     ]
    },
    {
     "name": "stderr",
     "output_type": "stream",
     "text": [
      "The checkpoint state_dict contains keys that are not used by the model:\n",
      "  \u001b[35mbackbone.fpn_lateral2.bias\u001b[0m\n",
      "  \u001b[35mbackbone.fpn_output2.bias\u001b[0m\n",
      "  \u001b[35mbackbone.fpn_lateral3.bias\u001b[0m\n",
      "  \u001b[35mbackbone.fpn_output3.bias\u001b[0m\n",
      "  \u001b[35mbackbone.fpn_lateral4.bias\u001b[0m\n",
      "  \u001b[35mbackbone.fpn_output4.bias\u001b[0m\n",
      "  \u001b[35mbackbone.fpn_lateral5.bias\u001b[0m\n",
      "  \u001b[35mbackbone.fpn_output5.bias\u001b[0m\n",
      " 39%|███████████████▉                         | 383/987 [31:54<46:22,  4.61s/it]"
     ]
    },
    {
     "name": "stdout",
     "output_type": "stream",
     "text": [
      "10_04_1936_00000019\n",
      "Pages/10_04_1936_00000019.tif.large.jpg\n"
     ]
    },
    {
     "name": "stderr",
     "output_type": "stream",
     "text": [
      "The checkpoint state_dict contains keys that are not used by the model:\n",
      "  \u001b[35mbackbone.fpn_lateral2.bias\u001b[0m\n",
      "  \u001b[35mbackbone.fpn_output2.bias\u001b[0m\n",
      "  \u001b[35mbackbone.fpn_lateral3.bias\u001b[0m\n",
      "  \u001b[35mbackbone.fpn_output3.bias\u001b[0m\n",
      "  \u001b[35mbackbone.fpn_lateral4.bias\u001b[0m\n",
      "  \u001b[35mbackbone.fpn_output4.bias\u001b[0m\n",
      "  \u001b[35mbackbone.fpn_lateral5.bias\u001b[0m\n",
      "  \u001b[35mbackbone.fpn_output5.bias\u001b[0m\n",
      " 39%|███████████████▉                         | 384/987 [31:58<46:40,  4.64s/it]"
     ]
    },
    {
     "name": "stdout",
     "output_type": "stream",
     "text": [
      "16_03_1936_00000006\n",
      "Pages/16_03_1936_00000006.tif.large.jpg\n"
     ]
    },
    {
     "name": "stderr",
     "output_type": "stream",
     "text": [
      "The checkpoint state_dict contains keys that are not used by the model:\n",
      "  \u001b[35mbackbone.fpn_lateral2.bias\u001b[0m\n",
      "  \u001b[35mbackbone.fpn_output2.bias\u001b[0m\n",
      "  \u001b[35mbackbone.fpn_lateral3.bias\u001b[0m\n",
      "  \u001b[35mbackbone.fpn_output3.bias\u001b[0m\n",
      "  \u001b[35mbackbone.fpn_lateral4.bias\u001b[0m\n",
      "  \u001b[35mbackbone.fpn_output4.bias\u001b[0m\n",
      "  \u001b[35mbackbone.fpn_lateral5.bias\u001b[0m\n",
      "  \u001b[35mbackbone.fpn_output5.bias\u001b[0m\n",
      " 39%|███████████████▉                         | 385/987 [32:04<49:17,  4.91s/it]"
     ]
    },
    {
     "name": "stdout",
     "output_type": "stream",
     "text": [
      "06_10_1936_00000007\n",
      "Pages/06_10_1936_00000007.tif.large.jpg\n"
     ]
    },
    {
     "name": "stderr",
     "output_type": "stream",
     "text": [
      "The checkpoint state_dict contains keys that are not used by the model:\n",
      "  \u001b[35mbackbone.fpn_lateral2.bias\u001b[0m\n",
      "  \u001b[35mbackbone.fpn_output2.bias\u001b[0m\n",
      "  \u001b[35mbackbone.fpn_lateral3.bias\u001b[0m\n",
      "  \u001b[35mbackbone.fpn_output3.bias\u001b[0m\n",
      "  \u001b[35mbackbone.fpn_lateral4.bias\u001b[0m\n",
      "  \u001b[35mbackbone.fpn_output4.bias\u001b[0m\n",
      "  \u001b[35mbackbone.fpn_lateral5.bias\u001b[0m\n",
      "  \u001b[35mbackbone.fpn_output5.bias\u001b[0m\n",
      " 39%|████████████████                         | 386/987 [32:09<48:42,  4.86s/it]"
     ]
    },
    {
     "name": "stdout",
     "output_type": "stream",
     "text": [
      "11_10_1936_00000005\n",
      "Pages/11_10_1936_00000005.tif.large.jpg\n"
     ]
    },
    {
     "name": "stderr",
     "output_type": "stream",
     "text": [
      "The checkpoint state_dict contains keys that are not used by the model:\n",
      "  \u001b[35mbackbone.fpn_lateral2.bias\u001b[0m\n",
      "  \u001b[35mbackbone.fpn_output2.bias\u001b[0m\n",
      "  \u001b[35mbackbone.fpn_lateral3.bias\u001b[0m\n",
      "  \u001b[35mbackbone.fpn_output3.bias\u001b[0m\n",
      "  \u001b[35mbackbone.fpn_lateral4.bias\u001b[0m\n",
      "  \u001b[35mbackbone.fpn_output4.bias\u001b[0m\n",
      "  \u001b[35mbackbone.fpn_lateral5.bias\u001b[0m\n",
      "  \u001b[35mbackbone.fpn_output5.bias\u001b[0m\n",
      " 39%|████████████████                         | 387/987 [32:14<49:25,  4.94s/it]"
     ]
    },
    {
     "name": "stdout",
     "output_type": "stream",
     "text": [
      "07_01_1936_00000001\n",
      "Pages/07_01_1936_00000001.tif.large.jpg\n"
     ]
    },
    {
     "name": "stderr",
     "output_type": "stream",
     "text": [
      "The checkpoint state_dict contains keys that are not used by the model:\n",
      "  \u001b[35mbackbone.fpn_lateral2.bias\u001b[0m\n",
      "  \u001b[35mbackbone.fpn_output2.bias\u001b[0m\n",
      "  \u001b[35mbackbone.fpn_lateral3.bias\u001b[0m\n",
      "  \u001b[35mbackbone.fpn_output3.bias\u001b[0m\n",
      "  \u001b[35mbackbone.fpn_lateral4.bias\u001b[0m\n",
      "  \u001b[35mbackbone.fpn_output4.bias\u001b[0m\n",
      "  \u001b[35mbackbone.fpn_lateral5.bias\u001b[0m\n",
      "  \u001b[35mbackbone.fpn_output5.bias\u001b[0m\n",
      " 39%|████████████████                         | 388/987 [32:19<49:44,  4.98s/it]"
     ]
    },
    {
     "name": "stdout",
     "output_type": "stream",
     "text": [
      "27_02_1936_00000006\n",
      "Pages/27_02_1936_00000006.tif.large.jpg\n"
     ]
    },
    {
     "name": "stderr",
     "output_type": "stream",
     "text": [
      "The checkpoint state_dict contains keys that are not used by the model:\n",
      "  \u001b[35mbackbone.fpn_lateral2.bias\u001b[0m\n",
      "  \u001b[35mbackbone.fpn_output2.bias\u001b[0m\n",
      "  \u001b[35mbackbone.fpn_lateral3.bias\u001b[0m\n",
      "  \u001b[35mbackbone.fpn_output3.bias\u001b[0m\n",
      "  \u001b[35mbackbone.fpn_lateral4.bias\u001b[0m\n",
      "  \u001b[35mbackbone.fpn_output4.bias\u001b[0m\n",
      "  \u001b[35mbackbone.fpn_lateral5.bias\u001b[0m\n",
      "  \u001b[35mbackbone.fpn_output5.bias\u001b[0m\n",
      " 39%|████████████████▏                        | 389/987 [32:24<49:47,  5.00s/it]"
     ]
    },
    {
     "name": "stdout",
     "output_type": "stream",
     "text": [
      "14_08_1936_00000005\n",
      "Pages/14_08_1936_00000005.tif.large.jpg\n"
     ]
    },
    {
     "name": "stderr",
     "output_type": "stream",
     "text": [
      "The checkpoint state_dict contains keys that are not used by the model:\n",
      "  \u001b[35mbackbone.fpn_lateral2.bias\u001b[0m\n",
      "  \u001b[35mbackbone.fpn_output2.bias\u001b[0m\n",
      "  \u001b[35mbackbone.fpn_lateral3.bias\u001b[0m\n",
      "  \u001b[35mbackbone.fpn_output3.bias\u001b[0m\n",
      "  \u001b[35mbackbone.fpn_lateral4.bias\u001b[0m\n",
      "  \u001b[35mbackbone.fpn_output4.bias\u001b[0m\n",
      "  \u001b[35mbackbone.fpn_lateral5.bias\u001b[0m\n",
      "  \u001b[35mbackbone.fpn_output5.bias\u001b[0m\n",
      " 40%|████████████████▏                        | 390/987 [32:29<50:47,  5.10s/it]"
     ]
    },
    {
     "name": "stdout",
     "output_type": "stream",
     "text": [
      "18_10_1936_00000009\n",
      "Pages/18_10_1936_00000009.tif.large.jpg\n"
     ]
    },
    {
     "name": "stderr",
     "output_type": "stream",
     "text": [
      "The checkpoint state_dict contains keys that are not used by the model:\n",
      "  \u001b[35mbackbone.fpn_lateral2.bias\u001b[0m\n",
      "  \u001b[35mbackbone.fpn_output2.bias\u001b[0m\n",
      "  \u001b[35mbackbone.fpn_lateral3.bias\u001b[0m\n",
      "  \u001b[35mbackbone.fpn_output3.bias\u001b[0m\n",
      "  \u001b[35mbackbone.fpn_lateral4.bias\u001b[0m\n",
      "  \u001b[35mbackbone.fpn_output4.bias\u001b[0m\n",
      "  \u001b[35mbackbone.fpn_lateral5.bias\u001b[0m\n",
      "  \u001b[35mbackbone.fpn_output5.bias\u001b[0m\n",
      " 40%|████████████████▏                        | 391/987 [32:35<51:07,  5.15s/it]"
     ]
    },
    {
     "name": "stdout",
     "output_type": "stream",
     "text": [
      "07_02_1936_00000004\n",
      "Pages/07_02_1936_00000004.tif.large.jpg\n"
     ]
    },
    {
     "name": "stderr",
     "output_type": "stream",
     "text": [
      "The checkpoint state_dict contains keys that are not used by the model:\n",
      "  \u001b[35mbackbone.fpn_lateral2.bias\u001b[0m\n",
      "  \u001b[35mbackbone.fpn_output2.bias\u001b[0m\n",
      "  \u001b[35mbackbone.fpn_lateral3.bias\u001b[0m\n",
      "  \u001b[35mbackbone.fpn_output3.bias\u001b[0m\n",
      "  \u001b[35mbackbone.fpn_lateral4.bias\u001b[0m\n",
      "  \u001b[35mbackbone.fpn_output4.bias\u001b[0m\n",
      "  \u001b[35mbackbone.fpn_lateral5.bias\u001b[0m\n",
      "  \u001b[35mbackbone.fpn_output5.bias\u001b[0m\n",
      " 40%|████████████████▎                        | 392/987 [32:39<50:22,  5.08s/it]"
     ]
    },
    {
     "name": "stdout",
     "output_type": "stream",
     "text": [
      "09_04_1936_00000021\n",
      "Pages/09_04_1936_00000021.tif.large.jpg\n"
     ]
    },
    {
     "name": "stderr",
     "output_type": "stream",
     "text": [
      "The checkpoint state_dict contains keys that are not used by the model:\n",
      "  \u001b[35mbackbone.fpn_lateral2.bias\u001b[0m\n",
      "  \u001b[35mbackbone.fpn_output2.bias\u001b[0m\n",
      "  \u001b[35mbackbone.fpn_lateral3.bias\u001b[0m\n",
      "  \u001b[35mbackbone.fpn_output3.bias\u001b[0m\n",
      "  \u001b[35mbackbone.fpn_lateral4.bias\u001b[0m\n",
      "  \u001b[35mbackbone.fpn_output4.bias\u001b[0m\n",
      "  \u001b[35mbackbone.fpn_lateral5.bias\u001b[0m\n",
      "  \u001b[35mbackbone.fpn_output5.bias\u001b[0m\n",
      " 40%|████████████████▎                        | 393/987 [32:44<49:40,  5.02s/it]"
     ]
    },
    {
     "name": "stdout",
     "output_type": "stream",
     "text": [
      "07_04_1936_00000013\n",
      "Pages/07_04_1936_00000013.tif.large.jpg\n"
     ]
    },
    {
     "name": "stderr",
     "output_type": "stream",
     "text": [
      "The checkpoint state_dict contains keys that are not used by the model:\n",
      "  \u001b[35mbackbone.fpn_lateral2.bias\u001b[0m\n",
      "  \u001b[35mbackbone.fpn_output2.bias\u001b[0m\n",
      "  \u001b[35mbackbone.fpn_lateral3.bias\u001b[0m\n",
      "  \u001b[35mbackbone.fpn_output3.bias\u001b[0m\n",
      "  \u001b[35mbackbone.fpn_lateral4.bias\u001b[0m\n",
      "  \u001b[35mbackbone.fpn_output4.bias\u001b[0m\n",
      "  \u001b[35mbackbone.fpn_lateral5.bias\u001b[0m\n",
      "  \u001b[35mbackbone.fpn_output5.bias\u001b[0m\n",
      " 40%|████████████████▎                        | 394/987 [32:49<47:59,  4.86s/it]"
     ]
    },
    {
     "name": "stdout",
     "output_type": "stream",
     "text": [
      "26_02_1936_00000013\n",
      "Pages/26_02_1936_00000013.tif.large.jpg\n"
     ]
    },
    {
     "name": "stderr",
     "output_type": "stream",
     "text": [
      "The checkpoint state_dict contains keys that are not used by the model:\n",
      "  \u001b[35mbackbone.fpn_lateral2.bias\u001b[0m\n",
      "  \u001b[35mbackbone.fpn_output2.bias\u001b[0m\n",
      "  \u001b[35mbackbone.fpn_lateral3.bias\u001b[0m\n",
      "  \u001b[35mbackbone.fpn_output3.bias\u001b[0m\n",
      "  \u001b[35mbackbone.fpn_lateral4.bias\u001b[0m\n",
      "  \u001b[35mbackbone.fpn_output4.bias\u001b[0m\n",
      "  \u001b[35mbackbone.fpn_lateral5.bias\u001b[0m\n",
      "  \u001b[35mbackbone.fpn_output5.bias\u001b[0m\n",
      " 40%|████████████████▍                        | 395/987 [32:53<46:54,  4.75s/it]"
     ]
    },
    {
     "name": "stdout",
     "output_type": "stream",
     "text": [
      "28_04_1936_00000010\n",
      "Pages/28_04_1936_00000010.tif.large.jpg\n"
     ]
    },
    {
     "name": "stderr",
     "output_type": "stream",
     "text": [
      "The checkpoint state_dict contains keys that are not used by the model:\n",
      "  \u001b[35mbackbone.fpn_lateral2.bias\u001b[0m\n",
      "  \u001b[35mbackbone.fpn_output2.bias\u001b[0m\n",
      "  \u001b[35mbackbone.fpn_lateral3.bias\u001b[0m\n",
      "  \u001b[35mbackbone.fpn_output3.bias\u001b[0m\n",
      "  \u001b[35mbackbone.fpn_lateral4.bias\u001b[0m\n",
      "  \u001b[35mbackbone.fpn_output4.bias\u001b[0m\n",
      "  \u001b[35mbackbone.fpn_lateral5.bias\u001b[0m\n",
      "  \u001b[35mbackbone.fpn_output5.bias\u001b[0m\n",
      " 40%|████████████████▍                        | 396/987 [32:58<46:12,  4.69s/it]"
     ]
    },
    {
     "name": "stdout",
     "output_type": "stream",
     "text": [
      "24_09_1936_00000007\n",
      "Pages/24_09_1936_00000007.tif.large.jpg\n"
     ]
    },
    {
     "name": "stderr",
     "output_type": "stream",
     "text": [
      "The checkpoint state_dict contains keys that are not used by the model:\n",
      "  \u001b[35mbackbone.fpn_lateral2.bias\u001b[0m\n",
      "  \u001b[35mbackbone.fpn_output2.bias\u001b[0m\n",
      "  \u001b[35mbackbone.fpn_lateral3.bias\u001b[0m\n",
      "  \u001b[35mbackbone.fpn_output3.bias\u001b[0m\n",
      "  \u001b[35mbackbone.fpn_lateral4.bias\u001b[0m\n",
      "  \u001b[35mbackbone.fpn_output4.bias\u001b[0m\n",
      "  \u001b[35mbackbone.fpn_lateral5.bias\u001b[0m\n",
      "  \u001b[35mbackbone.fpn_output5.bias\u001b[0m\n",
      " 40%|████████████████▍                        | 397/987 [33:02<45:41,  4.65s/it]"
     ]
    },
    {
     "name": "stdout",
     "output_type": "stream",
     "text": [
      "05_10_1936_00000013\n",
      "Pages/05_10_1936_00000013.tif.large.jpg\n"
     ]
    },
    {
     "name": "stderr",
     "output_type": "stream",
     "text": [
      "The checkpoint state_dict contains keys that are not used by the model:\n",
      "  \u001b[35mbackbone.fpn_lateral2.bias\u001b[0m\n",
      "  \u001b[35mbackbone.fpn_output2.bias\u001b[0m\n",
      "  \u001b[35mbackbone.fpn_lateral3.bias\u001b[0m\n",
      "  \u001b[35mbackbone.fpn_output3.bias\u001b[0m\n",
      "  \u001b[35mbackbone.fpn_lateral4.bias\u001b[0m\n",
      "  \u001b[35mbackbone.fpn_output4.bias\u001b[0m\n",
      "  \u001b[35mbackbone.fpn_lateral5.bias\u001b[0m\n",
      "  \u001b[35mbackbone.fpn_output5.bias\u001b[0m\n",
      " 40%|████████████████▌                        | 398/987 [33:07<44:55,  4.58s/it]"
     ]
    },
    {
     "name": "stdout",
     "output_type": "stream",
     "text": [
      "20_08_1936_00000003\n",
      "Pages/20_08_1936_00000003.tif.large.jpg\n"
     ]
    },
    {
     "name": "stderr",
     "output_type": "stream",
     "text": [
      "The checkpoint state_dict contains keys that are not used by the model:\n",
      "  \u001b[35mbackbone.fpn_lateral2.bias\u001b[0m\n",
      "  \u001b[35mbackbone.fpn_output2.bias\u001b[0m\n",
      "  \u001b[35mbackbone.fpn_lateral3.bias\u001b[0m\n",
      "  \u001b[35mbackbone.fpn_output3.bias\u001b[0m\n",
      "  \u001b[35mbackbone.fpn_lateral4.bias\u001b[0m\n",
      "  \u001b[35mbackbone.fpn_output4.bias\u001b[0m\n",
      "  \u001b[35mbackbone.fpn_lateral5.bias\u001b[0m\n",
      "  \u001b[35mbackbone.fpn_output5.bias\u001b[0m\n",
      " 40%|████████████████▌                        | 399/987 [33:11<44:31,  4.54s/it]"
     ]
    },
    {
     "name": "stdout",
     "output_type": "stream",
     "text": [
      "04_10_1936_00000006\n",
      "Pages/04_10_1936_00000006.tif.large.jpg\n"
     ]
    },
    {
     "name": "stderr",
     "output_type": "stream",
     "text": [
      "The checkpoint state_dict contains keys that are not used by the model:\n",
      "  \u001b[35mbackbone.fpn_lateral2.bias\u001b[0m\n",
      "  \u001b[35mbackbone.fpn_output2.bias\u001b[0m\n",
      "  \u001b[35mbackbone.fpn_lateral3.bias\u001b[0m\n",
      "  \u001b[35mbackbone.fpn_output3.bias\u001b[0m\n",
      "  \u001b[35mbackbone.fpn_lateral4.bias\u001b[0m\n",
      "  \u001b[35mbackbone.fpn_output4.bias\u001b[0m\n",
      "  \u001b[35mbackbone.fpn_lateral5.bias\u001b[0m\n",
      "  \u001b[35mbackbone.fpn_output5.bias\u001b[0m\n",
      " 41%|████████████████▌                        | 400/987 [33:16<44:09,  4.51s/it]"
     ]
    },
    {
     "name": "stdout",
     "output_type": "stream",
     "text": [
      "04_10_1936_00000002\n",
      "Pages/04_10_1936_00000002.tif.large.jpg\n"
     ]
    },
    {
     "name": "stderr",
     "output_type": "stream",
     "text": [
      "The checkpoint state_dict contains keys that are not used by the model:\n",
      "  \u001b[35mbackbone.fpn_lateral2.bias\u001b[0m\n",
      "  \u001b[35mbackbone.fpn_output2.bias\u001b[0m\n",
      "  \u001b[35mbackbone.fpn_lateral3.bias\u001b[0m\n",
      "  \u001b[35mbackbone.fpn_output3.bias\u001b[0m\n",
      "  \u001b[35mbackbone.fpn_lateral4.bias\u001b[0m\n",
      "  \u001b[35mbackbone.fpn_output4.bias\u001b[0m\n",
      "  \u001b[35mbackbone.fpn_lateral5.bias\u001b[0m\n",
      "  \u001b[35mbackbone.fpn_output5.bias\u001b[0m\n",
      " 41%|████████████████▋                        | 401/987 [33:20<43:44,  4.48s/it]"
     ]
    },
    {
     "name": "stdout",
     "output_type": "stream",
     "text": [
      "24_08_1936_00000009\n",
      "Pages/24_08_1936_00000009.tif.large.jpg\n"
     ]
    },
    {
     "name": "stderr",
     "output_type": "stream",
     "text": [
      "The checkpoint state_dict contains keys that are not used by the model:\n",
      "  \u001b[35mbackbone.fpn_lateral2.bias\u001b[0m\n",
      "  \u001b[35mbackbone.fpn_output2.bias\u001b[0m\n",
      "  \u001b[35mbackbone.fpn_lateral3.bias\u001b[0m\n",
      "  \u001b[35mbackbone.fpn_output3.bias\u001b[0m\n",
      "  \u001b[35mbackbone.fpn_lateral4.bias\u001b[0m\n",
      "  \u001b[35mbackbone.fpn_output4.bias\u001b[0m\n",
      "  \u001b[35mbackbone.fpn_lateral5.bias\u001b[0m\n",
      "  \u001b[35mbackbone.fpn_output5.bias\u001b[0m\n",
      " 41%|████████████████▋                        | 402/987 [33:25<44:07,  4.53s/it]"
     ]
    },
    {
     "name": "stdout",
     "output_type": "stream",
     "text": [
      "27_09_1936_00000013\n",
      "Pages/27_09_1936_00000013.tif.large.jpg\n"
     ]
    },
    {
     "name": "stderr",
     "output_type": "stream",
     "text": [
      "The checkpoint state_dict contains keys that are not used by the model:\n",
      "  \u001b[35mbackbone.fpn_lateral2.bias\u001b[0m\n",
      "  \u001b[35mbackbone.fpn_output2.bias\u001b[0m\n",
      "  \u001b[35mbackbone.fpn_lateral3.bias\u001b[0m\n",
      "  \u001b[35mbackbone.fpn_output3.bias\u001b[0m\n",
      "  \u001b[35mbackbone.fpn_lateral4.bias\u001b[0m\n",
      "  \u001b[35mbackbone.fpn_output4.bias\u001b[0m\n",
      "  \u001b[35mbackbone.fpn_lateral5.bias\u001b[0m\n",
      "  \u001b[35mbackbone.fpn_output5.bias\u001b[0m\n",
      " 41%|████████████████▋                        | 403/987 [33:29<43:37,  4.48s/it]"
     ]
    },
    {
     "name": "stdout",
     "output_type": "stream",
     "text": [
      "08_03_1936_00000010\n",
      "Pages/08_03_1936_00000010.tif.large.jpg\n"
     ]
    },
    {
     "name": "stderr",
     "output_type": "stream",
     "text": [
      "The checkpoint state_dict contains keys that are not used by the model:\n",
      "  \u001b[35mbackbone.fpn_lateral2.bias\u001b[0m\n",
      "  \u001b[35mbackbone.fpn_output2.bias\u001b[0m\n",
      "  \u001b[35mbackbone.fpn_lateral3.bias\u001b[0m\n",
      "  \u001b[35mbackbone.fpn_output3.bias\u001b[0m\n",
      "  \u001b[35mbackbone.fpn_lateral4.bias\u001b[0m\n",
      "  \u001b[35mbackbone.fpn_output4.bias\u001b[0m\n",
      "  \u001b[35mbackbone.fpn_lateral5.bias\u001b[0m\n",
      "  \u001b[35mbackbone.fpn_output5.bias\u001b[0m\n",
      " 41%|████████████████▊                        | 404/987 [33:34<43:36,  4.49s/it]"
     ]
    },
    {
     "name": "stdout",
     "output_type": "stream",
     "text": [
      "28_08_1936_00000008\n",
      "Pages/28_08_1936_00000008.tif.large.jpg\n"
     ]
    },
    {
     "name": "stderr",
     "output_type": "stream",
     "text": [
      "The checkpoint state_dict contains keys that are not used by the model:\n",
      "  \u001b[35mbackbone.fpn_lateral2.bias\u001b[0m\n",
      "  \u001b[35mbackbone.fpn_output2.bias\u001b[0m\n",
      "  \u001b[35mbackbone.fpn_lateral3.bias\u001b[0m\n",
      "  \u001b[35mbackbone.fpn_output3.bias\u001b[0m\n",
      "  \u001b[35mbackbone.fpn_lateral4.bias\u001b[0m\n",
      "  \u001b[35mbackbone.fpn_output4.bias\u001b[0m\n",
      "  \u001b[35mbackbone.fpn_lateral5.bias\u001b[0m\n",
      "  \u001b[35mbackbone.fpn_output5.bias\u001b[0m\n",
      " 41%|████████████████▊                        | 405/987 [33:38<43:57,  4.53s/it]"
     ]
    },
    {
     "name": "stdout",
     "output_type": "stream",
     "text": [
      "15_01_1936_00000006\n",
      "Pages/15_01_1936_00000006.tif.large.jpg\n"
     ]
    },
    {
     "name": "stderr",
     "output_type": "stream",
     "text": [
      "The checkpoint state_dict contains keys that are not used by the model:\n",
      "  \u001b[35mbackbone.fpn_lateral2.bias\u001b[0m\n",
      "  \u001b[35mbackbone.fpn_output2.bias\u001b[0m\n",
      "  \u001b[35mbackbone.fpn_lateral3.bias\u001b[0m\n",
      "  \u001b[35mbackbone.fpn_output3.bias\u001b[0m\n",
      "  \u001b[35mbackbone.fpn_lateral4.bias\u001b[0m\n",
      "  \u001b[35mbackbone.fpn_output4.bias\u001b[0m\n",
      "  \u001b[35mbackbone.fpn_lateral5.bias\u001b[0m\n",
      "  \u001b[35mbackbone.fpn_output5.bias\u001b[0m\n",
      " 41%|████████████████▊                        | 406/987 [33:43<44:08,  4.56s/it]"
     ]
    },
    {
     "name": "stdout",
     "output_type": "stream",
     "text": [
      "01_04_1936_00000006\n",
      "Pages/01_04_1936_00000006.tif.large.jpg\n"
     ]
    },
    {
     "name": "stderr",
     "output_type": "stream",
     "text": [
      "The checkpoint state_dict contains keys that are not used by the model:\n",
      "  \u001b[35mbackbone.fpn_lateral2.bias\u001b[0m\n",
      "  \u001b[35mbackbone.fpn_output2.bias\u001b[0m\n",
      "  \u001b[35mbackbone.fpn_lateral3.bias\u001b[0m\n",
      "  \u001b[35mbackbone.fpn_output3.bias\u001b[0m\n",
      "  \u001b[35mbackbone.fpn_lateral4.bias\u001b[0m\n",
      "  \u001b[35mbackbone.fpn_output4.bias\u001b[0m\n",
      "  \u001b[35mbackbone.fpn_lateral5.bias\u001b[0m\n",
      "  \u001b[35mbackbone.fpn_output5.bias\u001b[0m\n",
      " 41%|████████████████▉                        | 407/987 [33:47<43:44,  4.52s/it]"
     ]
    },
    {
     "name": "stdout",
     "output_type": "stream",
     "text": [
      "08_08_1936_00000005\n",
      "Pages/08_08_1936_00000005.tif.large.jpg\n"
     ]
    },
    {
     "name": "stderr",
     "output_type": "stream",
     "text": [
      "The checkpoint state_dict contains keys that are not used by the model:\n",
      "  \u001b[35mbackbone.fpn_lateral2.bias\u001b[0m\n",
      "  \u001b[35mbackbone.fpn_output2.bias\u001b[0m\n",
      "  \u001b[35mbackbone.fpn_lateral3.bias\u001b[0m\n",
      "  \u001b[35mbackbone.fpn_output3.bias\u001b[0m\n",
      "  \u001b[35mbackbone.fpn_lateral4.bias\u001b[0m\n",
      "  \u001b[35mbackbone.fpn_output4.bias\u001b[0m\n",
      "  \u001b[35mbackbone.fpn_lateral5.bias\u001b[0m\n",
      "  \u001b[35mbackbone.fpn_output5.bias\u001b[0m\n",
      " 41%|████████████████▉                        | 408/987 [33:52<43:37,  4.52s/it]"
     ]
    },
    {
     "name": "stdout",
     "output_type": "stream",
     "text": [
      "18_12_1936_00000005\n",
      "Pages/18_12_1936_00000005.tif.large.jpg\n"
     ]
    },
    {
     "name": "stderr",
     "output_type": "stream",
     "text": [
      "The checkpoint state_dict contains keys that are not used by the model:\n",
      "  \u001b[35mbackbone.fpn_lateral2.bias\u001b[0m\n",
      "  \u001b[35mbackbone.fpn_output2.bias\u001b[0m\n",
      "  \u001b[35mbackbone.fpn_lateral3.bias\u001b[0m\n",
      "  \u001b[35mbackbone.fpn_output3.bias\u001b[0m\n",
      "  \u001b[35mbackbone.fpn_lateral4.bias\u001b[0m\n",
      "  \u001b[35mbackbone.fpn_output4.bias\u001b[0m\n",
      "  \u001b[35mbackbone.fpn_lateral5.bias\u001b[0m\n",
      "  \u001b[35mbackbone.fpn_output5.bias\u001b[0m\n",
      " 41%|████████████████▉                        | 409/987 [33:56<43:28,  4.51s/it]"
     ]
    },
    {
     "name": "stdout",
     "output_type": "stream",
     "text": [
      "28_03_1936_00000017\n",
      "Pages/28_03_1936_00000017.tif.large.jpg\n"
     ]
    },
    {
     "name": "stderr",
     "output_type": "stream",
     "text": [
      "The checkpoint state_dict contains keys that are not used by the model:\n",
      "  \u001b[35mbackbone.fpn_lateral2.bias\u001b[0m\n",
      "  \u001b[35mbackbone.fpn_output2.bias\u001b[0m\n",
      "  \u001b[35mbackbone.fpn_lateral3.bias\u001b[0m\n",
      "  \u001b[35mbackbone.fpn_output3.bias\u001b[0m\n",
      "  \u001b[35mbackbone.fpn_lateral4.bias\u001b[0m\n",
      "  \u001b[35mbackbone.fpn_output4.bias\u001b[0m\n",
      "  \u001b[35mbackbone.fpn_lateral5.bias\u001b[0m\n",
      "  \u001b[35mbackbone.fpn_output5.bias\u001b[0m\n",
      " 42%|█████████████████                        | 410/987 [34:01<43:04,  4.48s/it]"
     ]
    },
    {
     "name": "stdout",
     "output_type": "stream",
     "text": [
      "13_11_1936_00000008\n",
      "Pages/13_11_1936_00000008.tif.large.jpg\n"
     ]
    },
    {
     "name": "stderr",
     "output_type": "stream",
     "text": [
      "The checkpoint state_dict contains keys that are not used by the model:\n",
      "  \u001b[35mbackbone.fpn_lateral2.bias\u001b[0m\n",
      "  \u001b[35mbackbone.fpn_output2.bias\u001b[0m\n",
      "  \u001b[35mbackbone.fpn_lateral3.bias\u001b[0m\n",
      "  \u001b[35mbackbone.fpn_output3.bias\u001b[0m\n",
      "  \u001b[35mbackbone.fpn_lateral4.bias\u001b[0m\n",
      "  \u001b[35mbackbone.fpn_output4.bias\u001b[0m\n",
      "  \u001b[35mbackbone.fpn_lateral5.bias\u001b[0m\n",
      "  \u001b[35mbackbone.fpn_output5.bias\u001b[0m\n",
      " 42%|█████████████████                        | 411/987 [34:05<43:19,  4.51s/it]"
     ]
    },
    {
     "name": "stdout",
     "output_type": "stream",
     "text": [
      "08_04_1936_00000007\n",
      "Pages/08_04_1936_00000007.tif.large.jpg\n"
     ]
    },
    {
     "name": "stderr",
     "output_type": "stream",
     "text": [
      "The checkpoint state_dict contains keys that are not used by the model:\n",
      "  \u001b[35mbackbone.fpn_lateral2.bias\u001b[0m\n",
      "  \u001b[35mbackbone.fpn_output2.bias\u001b[0m\n",
      "  \u001b[35mbackbone.fpn_lateral3.bias\u001b[0m\n",
      "  \u001b[35mbackbone.fpn_output3.bias\u001b[0m\n",
      "  \u001b[35mbackbone.fpn_lateral4.bias\u001b[0m\n",
      "  \u001b[35mbackbone.fpn_output4.bias\u001b[0m\n",
      "  \u001b[35mbackbone.fpn_lateral5.bias\u001b[0m\n",
      "  \u001b[35mbackbone.fpn_output5.bias\u001b[0m\n",
      " 42%|█████████████████                        | 412/987 [34:10<43:44,  4.56s/it]"
     ]
    },
    {
     "name": "stdout",
     "output_type": "stream",
     "text": [
      "11_02_1936_00000003\n",
      "Pages/11_02_1936_00000003.tif.large.jpg\n"
     ]
    },
    {
     "name": "stderr",
     "output_type": "stream",
     "text": [
      "The checkpoint state_dict contains keys that are not used by the model:\n",
      "  \u001b[35mbackbone.fpn_lateral2.bias\u001b[0m\n",
      "  \u001b[35mbackbone.fpn_output2.bias\u001b[0m\n",
      "  \u001b[35mbackbone.fpn_lateral3.bias\u001b[0m\n",
      "  \u001b[35mbackbone.fpn_output3.bias\u001b[0m\n",
      "  \u001b[35mbackbone.fpn_lateral4.bias\u001b[0m\n",
      "  \u001b[35mbackbone.fpn_output4.bias\u001b[0m\n",
      "  \u001b[35mbackbone.fpn_lateral5.bias\u001b[0m\n",
      "  \u001b[35mbackbone.fpn_output5.bias\u001b[0m\n",
      " 42%|█████████████████▏                       | 413/987 [34:15<43:31,  4.55s/it]"
     ]
    },
    {
     "name": "stdout",
     "output_type": "stream",
     "text": [
      "06_09_1936_00000005\n",
      "Pages/06_09_1936_00000005.tif.large.jpg\n"
     ]
    },
    {
     "name": "stderr",
     "output_type": "stream",
     "text": [
      "The checkpoint state_dict contains keys that are not used by the model:\n",
      "  \u001b[35mbackbone.fpn_lateral2.bias\u001b[0m\n",
      "  \u001b[35mbackbone.fpn_output2.bias\u001b[0m\n",
      "  \u001b[35mbackbone.fpn_lateral3.bias\u001b[0m\n",
      "  \u001b[35mbackbone.fpn_output3.bias\u001b[0m\n",
      "  \u001b[35mbackbone.fpn_lateral4.bias\u001b[0m\n",
      "  \u001b[35mbackbone.fpn_output4.bias\u001b[0m\n",
      "  \u001b[35mbackbone.fpn_lateral5.bias\u001b[0m\n",
      "  \u001b[35mbackbone.fpn_output5.bias\u001b[0m\n",
      " 42%|█████████████████▏                       | 414/987 [34:19<43:25,  4.55s/it]"
     ]
    },
    {
     "name": "stdout",
     "output_type": "stream",
     "text": [
      "17_12_1936_00000008\n",
      "Pages/17_12_1936_00000008.tif.large.jpg\n"
     ]
    },
    {
     "name": "stderr",
     "output_type": "stream",
     "text": [
      "The checkpoint state_dict contains keys that are not used by the model:\n",
      "  \u001b[35mbackbone.fpn_lateral2.bias\u001b[0m\n",
      "  \u001b[35mbackbone.fpn_output2.bias\u001b[0m\n",
      "  \u001b[35mbackbone.fpn_lateral3.bias\u001b[0m\n",
      "  \u001b[35mbackbone.fpn_output3.bias\u001b[0m\n",
      "  \u001b[35mbackbone.fpn_lateral4.bias\u001b[0m\n",
      "  \u001b[35mbackbone.fpn_output4.bias\u001b[0m\n",
      "  \u001b[35mbackbone.fpn_lateral5.bias\u001b[0m\n",
      "  \u001b[35mbackbone.fpn_output5.bias\u001b[0m\n",
      " 42%|█████████████████▏                       | 415/987 [34:24<43:21,  4.55s/it]"
     ]
    },
    {
     "name": "stdout",
     "output_type": "stream",
     "text": [
      "14_11_1936_00000004\n",
      "Pages/14_11_1936_00000004.tif.large.jpg\n"
     ]
    },
    {
     "name": "stderr",
     "output_type": "stream",
     "text": [
      "The checkpoint state_dict contains keys that are not used by the model:\n",
      "  \u001b[35mbackbone.fpn_lateral2.bias\u001b[0m\n",
      "  \u001b[35mbackbone.fpn_output2.bias\u001b[0m\n",
      "  \u001b[35mbackbone.fpn_lateral3.bias\u001b[0m\n",
      "  \u001b[35mbackbone.fpn_output3.bias\u001b[0m\n",
      "  \u001b[35mbackbone.fpn_lateral4.bias\u001b[0m\n",
      "  \u001b[35mbackbone.fpn_output4.bias\u001b[0m\n",
      "  \u001b[35mbackbone.fpn_lateral5.bias\u001b[0m\n",
      "  \u001b[35mbackbone.fpn_output5.bias\u001b[0m\n",
      " 42%|█████████████████▎                       | 416/987 [34:28<43:23,  4.56s/it]"
     ]
    },
    {
     "name": "stdout",
     "output_type": "stream",
     "text": [
      "17_10_1936_00000006\n",
      "Pages/17_10_1936_00000006.tif.large.jpg\n"
     ]
    },
    {
     "name": "stderr",
     "output_type": "stream",
     "text": [
      "The checkpoint state_dict contains keys that are not used by the model:\n",
      "  \u001b[35mbackbone.fpn_lateral2.bias\u001b[0m\n",
      "  \u001b[35mbackbone.fpn_output2.bias\u001b[0m\n",
      "  \u001b[35mbackbone.fpn_lateral3.bias\u001b[0m\n",
      "  \u001b[35mbackbone.fpn_output3.bias\u001b[0m\n",
      "  \u001b[35mbackbone.fpn_lateral4.bias\u001b[0m\n",
      "  \u001b[35mbackbone.fpn_output4.bias\u001b[0m\n",
      "  \u001b[35mbackbone.fpn_lateral5.bias\u001b[0m\n",
      "  \u001b[35mbackbone.fpn_output5.bias\u001b[0m\n",
      " 42%|█████████████████▎                       | 417/987 [34:33<43:10,  4.54s/it]"
     ]
    },
    {
     "name": "stdout",
     "output_type": "stream",
     "text": [
      "23_07_1936_00000005\n",
      "Pages/23_07_1936_00000005.tif.large.jpg\n"
     ]
    },
    {
     "name": "stderr",
     "output_type": "stream",
     "text": [
      "The checkpoint state_dict contains keys that are not used by the model:\n",
      "  \u001b[35mbackbone.fpn_lateral2.bias\u001b[0m\n",
      "  \u001b[35mbackbone.fpn_output2.bias\u001b[0m\n",
      "  \u001b[35mbackbone.fpn_lateral3.bias\u001b[0m\n",
      "  \u001b[35mbackbone.fpn_output3.bias\u001b[0m\n",
      "  \u001b[35mbackbone.fpn_lateral4.bias\u001b[0m\n",
      "  \u001b[35mbackbone.fpn_output4.bias\u001b[0m\n",
      "  \u001b[35mbackbone.fpn_lateral5.bias\u001b[0m\n",
      "  \u001b[35mbackbone.fpn_output5.bias\u001b[0m\n",
      " 42%|█████████████████▎                       | 418/987 [34:37<43:07,  4.55s/it]"
     ]
    },
    {
     "name": "stdout",
     "output_type": "stream",
     "text": [
      "12_09_1936_00000010\n",
      "Pages/12_09_1936_00000010.tif.large.jpg\n"
     ]
    },
    {
     "name": "stderr",
     "output_type": "stream",
     "text": [
      "The checkpoint state_dict contains keys that are not used by the model:\n",
      "  \u001b[35mbackbone.fpn_lateral2.bias\u001b[0m\n",
      "  \u001b[35mbackbone.fpn_output2.bias\u001b[0m\n",
      "  \u001b[35mbackbone.fpn_lateral3.bias\u001b[0m\n",
      "  \u001b[35mbackbone.fpn_output3.bias\u001b[0m\n",
      "  \u001b[35mbackbone.fpn_lateral4.bias\u001b[0m\n",
      "  \u001b[35mbackbone.fpn_output4.bias\u001b[0m\n",
      "  \u001b[35mbackbone.fpn_lateral5.bias\u001b[0m\n",
      "  \u001b[35mbackbone.fpn_output5.bias\u001b[0m\n",
      " 42%|█████████████████▍                       | 419/987 [34:42<42:56,  4.54s/it]"
     ]
    },
    {
     "name": "stdout",
     "output_type": "stream",
     "text": [
      "31_10_1936_00000038\n",
      "Pages/31_10_1936_00000038.tif.large.jpg\n"
     ]
    },
    {
     "name": "stderr",
     "output_type": "stream",
     "text": [
      "The checkpoint state_dict contains keys that are not used by the model:\n",
      "  \u001b[35mbackbone.fpn_lateral2.bias\u001b[0m\n",
      "  \u001b[35mbackbone.fpn_output2.bias\u001b[0m\n",
      "  \u001b[35mbackbone.fpn_lateral3.bias\u001b[0m\n",
      "  \u001b[35mbackbone.fpn_output3.bias\u001b[0m\n",
      "  \u001b[35mbackbone.fpn_lateral4.bias\u001b[0m\n",
      "  \u001b[35mbackbone.fpn_output4.bias\u001b[0m\n",
      "  \u001b[35mbackbone.fpn_lateral5.bias\u001b[0m\n",
      "  \u001b[35mbackbone.fpn_output5.bias\u001b[0m\n",
      " 43%|█████████████████▍                       | 420/987 [34:46<42:47,  4.53s/it]"
     ]
    },
    {
     "name": "stdout",
     "output_type": "stream",
     "text": [
      "26_08_1936_00000007\n",
      "Pages/26_08_1936_00000007.tif.large.jpg\n"
     ]
    },
    {
     "name": "stderr",
     "output_type": "stream",
     "text": [
      "The checkpoint state_dict contains keys that are not used by the model:\n",
      "  \u001b[35mbackbone.fpn_lateral2.bias\u001b[0m\n",
      "  \u001b[35mbackbone.fpn_output2.bias\u001b[0m\n",
      "  \u001b[35mbackbone.fpn_lateral3.bias\u001b[0m\n",
      "  \u001b[35mbackbone.fpn_output3.bias\u001b[0m\n",
      "  \u001b[35mbackbone.fpn_lateral4.bias\u001b[0m\n",
      "  \u001b[35mbackbone.fpn_output4.bias\u001b[0m\n",
      "  \u001b[35mbackbone.fpn_lateral5.bias\u001b[0m\n",
      "  \u001b[35mbackbone.fpn_output5.bias\u001b[0m\n",
      " 43%|█████████████████▍                       | 421/987 [34:51<42:49,  4.54s/it]"
     ]
    },
    {
     "name": "stdout",
     "output_type": "stream",
     "text": [
      "16_11_1936_00000005\n",
      "Pages/16_11_1936_00000005.tif.large.jpg\n"
     ]
    },
    {
     "name": "stderr",
     "output_type": "stream",
     "text": [
      "The checkpoint state_dict contains keys that are not used by the model:\n",
      "  \u001b[35mbackbone.fpn_lateral2.bias\u001b[0m\n",
      "  \u001b[35mbackbone.fpn_output2.bias\u001b[0m\n",
      "  \u001b[35mbackbone.fpn_lateral3.bias\u001b[0m\n",
      "  \u001b[35mbackbone.fpn_output3.bias\u001b[0m\n",
      "  \u001b[35mbackbone.fpn_lateral4.bias\u001b[0m\n",
      "  \u001b[35mbackbone.fpn_output4.bias\u001b[0m\n",
      "  \u001b[35mbackbone.fpn_lateral5.bias\u001b[0m\n",
      "  \u001b[35mbackbone.fpn_output5.bias\u001b[0m\n",
      " 43%|█████████████████▌                       | 422/987 [34:55<42:36,  4.52s/it]"
     ]
    },
    {
     "name": "stdout",
     "output_type": "stream",
     "text": [
      "01_03_1936_00000005\n",
      "Pages/01_03_1936_00000005.tif.large.jpg\n"
     ]
    },
    {
     "name": "stderr",
     "output_type": "stream",
     "text": [
      "The checkpoint state_dict contains keys that are not used by the model:\n",
      "  \u001b[35mbackbone.fpn_lateral2.bias\u001b[0m\n",
      "  \u001b[35mbackbone.fpn_output2.bias\u001b[0m\n",
      "  \u001b[35mbackbone.fpn_lateral3.bias\u001b[0m\n",
      "  \u001b[35mbackbone.fpn_output3.bias\u001b[0m\n",
      "  \u001b[35mbackbone.fpn_lateral4.bias\u001b[0m\n",
      "  \u001b[35mbackbone.fpn_output4.bias\u001b[0m\n",
      "  \u001b[35mbackbone.fpn_lateral5.bias\u001b[0m\n",
      "  \u001b[35mbackbone.fpn_output5.bias\u001b[0m\n",
      " 43%|█████████████████▌                       | 423/987 [35:00<42:39,  4.54s/it]"
     ]
    },
    {
     "name": "stdout",
     "output_type": "stream",
     "text": [
      "01_12_1936_00000006\n",
      "Pages/01_12_1936_00000006.tif.large.jpg\n"
     ]
    },
    {
     "name": "stderr",
     "output_type": "stream",
     "text": [
      "The checkpoint state_dict contains keys that are not used by the model:\n",
      "  \u001b[35mbackbone.fpn_lateral2.bias\u001b[0m\n",
      "  \u001b[35mbackbone.fpn_output2.bias\u001b[0m\n",
      "  \u001b[35mbackbone.fpn_lateral3.bias\u001b[0m\n",
      "  \u001b[35mbackbone.fpn_output3.bias\u001b[0m\n",
      "  \u001b[35mbackbone.fpn_lateral4.bias\u001b[0m\n",
      "  \u001b[35mbackbone.fpn_output4.bias\u001b[0m\n",
      "  \u001b[35mbackbone.fpn_lateral5.bias\u001b[0m\n",
      "  \u001b[35mbackbone.fpn_output5.bias\u001b[0m\n",
      " 43%|█████████████████▌                       | 424/987 [35:05<43:52,  4.68s/it]"
     ]
    },
    {
     "name": "stdout",
     "output_type": "stream",
     "text": [
      "06_03_1936_00000008\n",
      "Pages/06_03_1936_00000008.tif.large.jpg\n"
     ]
    },
    {
     "name": "stderr",
     "output_type": "stream",
     "text": [
      "The checkpoint state_dict contains keys that are not used by the model:\n",
      "  \u001b[35mbackbone.fpn_lateral2.bias\u001b[0m\n",
      "  \u001b[35mbackbone.fpn_output2.bias\u001b[0m\n",
      "  \u001b[35mbackbone.fpn_lateral3.bias\u001b[0m\n",
      "  \u001b[35mbackbone.fpn_output3.bias\u001b[0m\n",
      "  \u001b[35mbackbone.fpn_lateral4.bias\u001b[0m\n",
      "  \u001b[35mbackbone.fpn_output4.bias\u001b[0m\n",
      "  \u001b[35mbackbone.fpn_lateral5.bias\u001b[0m\n",
      "  \u001b[35mbackbone.fpn_output5.bias\u001b[0m\n",
      " 43%|█████████████████▋                       | 425/987 [35:10<45:37,  4.87s/it]"
     ]
    },
    {
     "name": "stdout",
     "output_type": "stream",
     "text": [
      "25_08_1936_00000011\n",
      "Pages/25_08_1936_00000011.tif.large.jpg\n"
     ]
    },
    {
     "name": "stderr",
     "output_type": "stream",
     "text": [
      "The checkpoint state_dict contains keys that are not used by the model:\n",
      "  \u001b[35mbackbone.fpn_lateral2.bias\u001b[0m\n",
      "  \u001b[35mbackbone.fpn_output2.bias\u001b[0m\n",
      "  \u001b[35mbackbone.fpn_lateral3.bias\u001b[0m\n",
      "  \u001b[35mbackbone.fpn_output3.bias\u001b[0m\n",
      "  \u001b[35mbackbone.fpn_lateral4.bias\u001b[0m\n",
      "  \u001b[35mbackbone.fpn_output4.bias\u001b[0m\n",
      "  \u001b[35mbackbone.fpn_lateral5.bias\u001b[0m\n",
      "  \u001b[35mbackbone.fpn_output5.bias\u001b[0m\n",
      " 43%|█████████████████▋                       | 426/987 [35:15<44:42,  4.78s/it]"
     ]
    },
    {
     "name": "stdout",
     "output_type": "stream",
     "text": [
      "26_07_1936_00000013\n",
      "Pages/26_07_1936_00000013.tif.large.jpg\n"
     ]
    },
    {
     "name": "stderr",
     "output_type": "stream",
     "text": [
      "The checkpoint state_dict contains keys that are not used by the model:\n",
      "  \u001b[35mbackbone.fpn_lateral2.bias\u001b[0m\n",
      "  \u001b[35mbackbone.fpn_output2.bias\u001b[0m\n",
      "  \u001b[35mbackbone.fpn_lateral3.bias\u001b[0m\n",
      "  \u001b[35mbackbone.fpn_output3.bias\u001b[0m\n",
      "  \u001b[35mbackbone.fpn_lateral4.bias\u001b[0m\n",
      "  \u001b[35mbackbone.fpn_output4.bias\u001b[0m\n",
      "  \u001b[35mbackbone.fpn_lateral5.bias\u001b[0m\n",
      "  \u001b[35mbackbone.fpn_output5.bias\u001b[0m\n",
      " 43%|█████████████████▋                       | 427/987 [35:19<43:51,  4.70s/it]"
     ]
    },
    {
     "name": "stdout",
     "output_type": "stream",
     "text": [
      "11_02_1936_00000011\n",
      "Pages/11_02_1936_00000011.tif.large.jpg\n"
     ]
    },
    {
     "name": "stderr",
     "output_type": "stream",
     "text": [
      "The checkpoint state_dict contains keys that are not used by the model:\n",
      "  \u001b[35mbackbone.fpn_lateral2.bias\u001b[0m\n",
      "  \u001b[35mbackbone.fpn_output2.bias\u001b[0m\n",
      "  \u001b[35mbackbone.fpn_lateral3.bias\u001b[0m\n",
      "  \u001b[35mbackbone.fpn_output3.bias\u001b[0m\n",
      "  \u001b[35mbackbone.fpn_lateral4.bias\u001b[0m\n",
      "  \u001b[35mbackbone.fpn_output4.bias\u001b[0m\n",
      "  \u001b[35mbackbone.fpn_lateral5.bias\u001b[0m\n",
      "  \u001b[35mbackbone.fpn_output5.bias\u001b[0m\n",
      " 43%|█████████████████▊                       | 428/987 [35:24<43:27,  4.67s/it]"
     ]
    },
    {
     "name": "stdout",
     "output_type": "stream",
     "text": [
      "22_02_1936_00000009\n",
      "Pages/22_02_1936_00000009.tif.large.jpg\n"
     ]
    },
    {
     "name": "stderr",
     "output_type": "stream",
     "text": [
      "The checkpoint state_dict contains keys that are not used by the model:\n",
      "  \u001b[35mbackbone.fpn_lateral2.bias\u001b[0m\n",
      "  \u001b[35mbackbone.fpn_output2.bias\u001b[0m\n",
      "  \u001b[35mbackbone.fpn_lateral3.bias\u001b[0m\n",
      "  \u001b[35mbackbone.fpn_output3.bias\u001b[0m\n",
      "  \u001b[35mbackbone.fpn_lateral4.bias\u001b[0m\n",
      "  \u001b[35mbackbone.fpn_output4.bias\u001b[0m\n",
      "  \u001b[35mbackbone.fpn_lateral5.bias\u001b[0m\n",
      "  \u001b[35mbackbone.fpn_output5.bias\u001b[0m\n",
      " 43%|█████████████████▊                       | 429/987 [35:28<43:01,  4.63s/it]"
     ]
    },
    {
     "name": "stdout",
     "output_type": "stream",
     "text": [
      "08_12_1936_00000002\n",
      "Pages/08_12_1936_00000002.tif.large.jpg\n"
     ]
    },
    {
     "name": "stderr",
     "output_type": "stream",
     "text": [
      "The checkpoint state_dict contains keys that are not used by the model:\n",
      "  \u001b[35mbackbone.fpn_lateral2.bias\u001b[0m\n",
      "  \u001b[35mbackbone.fpn_output2.bias\u001b[0m\n",
      "  \u001b[35mbackbone.fpn_lateral3.bias\u001b[0m\n",
      "  \u001b[35mbackbone.fpn_output3.bias\u001b[0m\n",
      "  \u001b[35mbackbone.fpn_lateral4.bias\u001b[0m\n",
      "  \u001b[35mbackbone.fpn_output4.bias\u001b[0m\n",
      "  \u001b[35mbackbone.fpn_lateral5.bias\u001b[0m\n",
      "  \u001b[35mbackbone.fpn_output5.bias\u001b[0m\n",
      " 44%|█████████████████▊                       | 430/987 [35:33<42:38,  4.59s/it]"
     ]
    },
    {
     "name": "stdout",
     "output_type": "stream",
     "text": [
      "04_09_1936_00000007\n",
      "Pages/04_09_1936_00000007.tif.large.jpg\n"
     ]
    },
    {
     "name": "stderr",
     "output_type": "stream",
     "text": [
      "The checkpoint state_dict contains keys that are not used by the model:\n",
      "  \u001b[35mbackbone.fpn_lateral2.bias\u001b[0m\n",
      "  \u001b[35mbackbone.fpn_output2.bias\u001b[0m\n",
      "  \u001b[35mbackbone.fpn_lateral3.bias\u001b[0m\n",
      "  \u001b[35mbackbone.fpn_output3.bias\u001b[0m\n",
      "  \u001b[35mbackbone.fpn_lateral4.bias\u001b[0m\n",
      "  \u001b[35mbackbone.fpn_output4.bias\u001b[0m\n",
      "  \u001b[35mbackbone.fpn_lateral5.bias\u001b[0m\n",
      "  \u001b[35mbackbone.fpn_output5.bias\u001b[0m\n",
      " 44%|█████████████████▉                       | 431/987 [35:37<42:20,  4.57s/it]"
     ]
    },
    {
     "name": "stdout",
     "output_type": "stream",
     "text": [
      "28_08_1936_00000010\n",
      "Pages/28_08_1936_00000010.tif.large.jpg\n"
     ]
    },
    {
     "name": "stderr",
     "output_type": "stream",
     "text": [
      "The checkpoint state_dict contains keys that are not used by the model:\n",
      "  \u001b[35mbackbone.fpn_lateral2.bias\u001b[0m\n",
      "  \u001b[35mbackbone.fpn_output2.bias\u001b[0m\n",
      "  \u001b[35mbackbone.fpn_lateral3.bias\u001b[0m\n",
      "  \u001b[35mbackbone.fpn_output3.bias\u001b[0m\n",
      "  \u001b[35mbackbone.fpn_lateral4.bias\u001b[0m\n",
      "  \u001b[35mbackbone.fpn_output4.bias\u001b[0m\n",
      "  \u001b[35mbackbone.fpn_lateral5.bias\u001b[0m\n",
      "  \u001b[35mbackbone.fpn_output5.bias\u001b[0m\n",
      " 44%|█████████████████▉                       | 432/987 [35:42<42:14,  4.57s/it]"
     ]
    },
    {
     "name": "stdout",
     "output_type": "stream",
     "text": [
      "09_08_1936_00000001\n",
      "Pages/09_08_1936_00000001.tif.large.jpg\n"
     ]
    },
    {
     "name": "stderr",
     "output_type": "stream",
     "text": [
      "The checkpoint state_dict contains keys that are not used by the model:\n",
      "  \u001b[35mbackbone.fpn_lateral2.bias\u001b[0m\n",
      "  \u001b[35mbackbone.fpn_output2.bias\u001b[0m\n",
      "  \u001b[35mbackbone.fpn_lateral3.bias\u001b[0m\n",
      "  \u001b[35mbackbone.fpn_output3.bias\u001b[0m\n",
      "  \u001b[35mbackbone.fpn_lateral4.bias\u001b[0m\n",
      "  \u001b[35mbackbone.fpn_output4.bias\u001b[0m\n",
      "  \u001b[35mbackbone.fpn_lateral5.bias\u001b[0m\n",
      "  \u001b[35mbackbone.fpn_output5.bias\u001b[0m\n",
      " 44%|█████████████████▉                       | 433/987 [35:46<41:53,  4.54s/it]"
     ]
    },
    {
     "name": "stdout",
     "output_type": "stream",
     "text": [
      "18_10_1936_00000006\n",
      "Pages/18_10_1936_00000006.tif.large.jpg\n"
     ]
    },
    {
     "name": "stderr",
     "output_type": "stream",
     "text": [
      "The checkpoint state_dict contains keys that are not used by the model:\n",
      "  \u001b[35mbackbone.fpn_lateral2.bias\u001b[0m\n",
      "  \u001b[35mbackbone.fpn_output2.bias\u001b[0m\n",
      "  \u001b[35mbackbone.fpn_lateral3.bias\u001b[0m\n",
      "  \u001b[35mbackbone.fpn_output3.bias\u001b[0m\n",
      "  \u001b[35mbackbone.fpn_lateral4.bias\u001b[0m\n",
      "  \u001b[35mbackbone.fpn_output4.bias\u001b[0m\n",
      "  \u001b[35mbackbone.fpn_lateral5.bias\u001b[0m\n",
      "  \u001b[35mbackbone.fpn_output5.bias\u001b[0m\n",
      " 44%|██████████████████                       | 434/987 [35:51<41:49,  4.54s/it]"
     ]
    },
    {
     "name": "stdout",
     "output_type": "stream",
     "text": [
      "08_10_1936_00000005\n",
      "Pages/08_10_1936_00000005.tif.large.jpg\n"
     ]
    },
    {
     "name": "stderr",
     "output_type": "stream",
     "text": [
      "The checkpoint state_dict contains keys that are not used by the model:\n",
      "  \u001b[35mbackbone.fpn_lateral2.bias\u001b[0m\n",
      "  \u001b[35mbackbone.fpn_output2.bias\u001b[0m\n",
      "  \u001b[35mbackbone.fpn_lateral3.bias\u001b[0m\n",
      "  \u001b[35mbackbone.fpn_output3.bias\u001b[0m\n",
      "  \u001b[35mbackbone.fpn_lateral4.bias\u001b[0m\n",
      "  \u001b[35mbackbone.fpn_output4.bias\u001b[0m\n",
      "  \u001b[35mbackbone.fpn_lateral5.bias\u001b[0m\n",
      "  \u001b[35mbackbone.fpn_output5.bias\u001b[0m\n",
      " 44%|██████████████████                       | 435/987 [35:55<41:30,  4.51s/it]"
     ]
    },
    {
     "name": "stdout",
     "output_type": "stream",
     "text": [
      "13_02_1936_00000005\n",
      "Pages/13_02_1936_00000005.tif.large.jpg\n"
     ]
    },
    {
     "name": "stderr",
     "output_type": "stream",
     "text": [
      "The checkpoint state_dict contains keys that are not used by the model:\n",
      "  \u001b[35mbackbone.fpn_lateral2.bias\u001b[0m\n",
      "  \u001b[35mbackbone.fpn_output2.bias\u001b[0m\n",
      "  \u001b[35mbackbone.fpn_lateral3.bias\u001b[0m\n",
      "  \u001b[35mbackbone.fpn_output3.bias\u001b[0m\n",
      "  \u001b[35mbackbone.fpn_lateral4.bias\u001b[0m\n",
      "  \u001b[35mbackbone.fpn_output4.bias\u001b[0m\n",
      "  \u001b[35mbackbone.fpn_lateral5.bias\u001b[0m\n",
      "  \u001b[35mbackbone.fpn_output5.bias\u001b[0m\n",
      " 44%|██████████████████                       | 436/987 [36:00<41:22,  4.51s/it]"
     ]
    },
    {
     "name": "stdout",
     "output_type": "stream",
     "text": [
      "25_08_1936_00000007\n",
      "Pages/25_08_1936_00000007.tif.large.jpg\n"
     ]
    },
    {
     "name": "stderr",
     "output_type": "stream",
     "text": [
      "The checkpoint state_dict contains keys that are not used by the model:\n",
      "  \u001b[35mbackbone.fpn_lateral2.bias\u001b[0m\n",
      "  \u001b[35mbackbone.fpn_output2.bias\u001b[0m\n",
      "  \u001b[35mbackbone.fpn_lateral3.bias\u001b[0m\n",
      "  \u001b[35mbackbone.fpn_output3.bias\u001b[0m\n",
      "  \u001b[35mbackbone.fpn_lateral4.bias\u001b[0m\n",
      "  \u001b[35mbackbone.fpn_output4.bias\u001b[0m\n",
      "  \u001b[35mbackbone.fpn_lateral5.bias\u001b[0m\n",
      "  \u001b[35mbackbone.fpn_output5.bias\u001b[0m\n",
      " 44%|██████████████████▏                      | 437/987 [36:05<41:35,  4.54s/it]"
     ]
    },
    {
     "name": "stdout",
     "output_type": "stream",
     "text": [
      "22_03_1936_00000008\n",
      "Pages/22_03_1936_00000008.tif.large.jpg\n"
     ]
    },
    {
     "name": "stderr",
     "output_type": "stream",
     "text": [
      "The checkpoint state_dict contains keys that are not used by the model:\n",
      "  \u001b[35mbackbone.fpn_lateral2.bias\u001b[0m\n",
      "  \u001b[35mbackbone.fpn_output2.bias\u001b[0m\n",
      "  \u001b[35mbackbone.fpn_lateral3.bias\u001b[0m\n",
      "  \u001b[35mbackbone.fpn_output3.bias\u001b[0m\n",
      "  \u001b[35mbackbone.fpn_lateral4.bias\u001b[0m\n",
      "  \u001b[35mbackbone.fpn_output4.bias\u001b[0m\n",
      "  \u001b[35mbackbone.fpn_lateral5.bias\u001b[0m\n",
      "  \u001b[35mbackbone.fpn_output5.bias\u001b[0m\n",
      " 44%|██████████████████▏                      | 438/987 [36:09<41:55,  4.58s/it]"
     ]
    },
    {
     "name": "stdout",
     "output_type": "stream",
     "text": [
      "30_07_1936_00000012\n",
      "Pages/30_07_1936_00000012.tif.large.jpg\n"
     ]
    },
    {
     "name": "stderr",
     "output_type": "stream",
     "text": [
      "The checkpoint state_dict contains keys that are not used by the model:\n",
      "  \u001b[35mbackbone.fpn_lateral2.bias\u001b[0m\n",
      "  \u001b[35mbackbone.fpn_output2.bias\u001b[0m\n",
      "  \u001b[35mbackbone.fpn_lateral3.bias\u001b[0m\n",
      "  \u001b[35mbackbone.fpn_output3.bias\u001b[0m\n",
      "  \u001b[35mbackbone.fpn_lateral4.bias\u001b[0m\n",
      "  \u001b[35mbackbone.fpn_output4.bias\u001b[0m\n",
      "  \u001b[35mbackbone.fpn_lateral5.bias\u001b[0m\n",
      "  \u001b[35mbackbone.fpn_output5.bias\u001b[0m\n",
      " 44%|██████████████████▏                      | 439/987 [36:14<41:26,  4.54s/it]"
     ]
    },
    {
     "name": "stdout",
     "output_type": "stream",
     "text": [
      "23_08_1936_00000022\n",
      "Pages/23_08_1936_00000022.tif.large.jpg\n"
     ]
    },
    {
     "name": "stderr",
     "output_type": "stream",
     "text": [
      "The checkpoint state_dict contains keys that are not used by the model:\n",
      "  \u001b[35mbackbone.fpn_lateral2.bias\u001b[0m\n",
      "  \u001b[35mbackbone.fpn_output2.bias\u001b[0m\n",
      "  \u001b[35mbackbone.fpn_lateral3.bias\u001b[0m\n",
      "  \u001b[35mbackbone.fpn_output3.bias\u001b[0m\n",
      "  \u001b[35mbackbone.fpn_lateral4.bias\u001b[0m\n",
      "  \u001b[35mbackbone.fpn_output4.bias\u001b[0m\n",
      "  \u001b[35mbackbone.fpn_lateral5.bias\u001b[0m\n",
      "  \u001b[35mbackbone.fpn_output5.bias\u001b[0m\n",
      " 45%|██████████████████▎                      | 440/987 [36:18<41:28,  4.55s/it]"
     ]
    },
    {
     "name": "stdout",
     "output_type": "stream",
     "text": [
      "16_09_1936_00000012\n",
      "Pages/16_09_1936_00000012.tif.large.jpg\n"
     ]
    },
    {
     "name": "stderr",
     "output_type": "stream",
     "text": [
      "The checkpoint state_dict contains keys that are not used by the model:\n",
      "  \u001b[35mbackbone.fpn_lateral2.bias\u001b[0m\n",
      "  \u001b[35mbackbone.fpn_output2.bias\u001b[0m\n",
      "  \u001b[35mbackbone.fpn_lateral3.bias\u001b[0m\n",
      "  \u001b[35mbackbone.fpn_output3.bias\u001b[0m\n",
      "  \u001b[35mbackbone.fpn_lateral4.bias\u001b[0m\n",
      "  \u001b[35mbackbone.fpn_output4.bias\u001b[0m\n",
      "  \u001b[35mbackbone.fpn_lateral5.bias\u001b[0m\n",
      "  \u001b[35mbackbone.fpn_output5.bias\u001b[0m\n",
      " 45%|██████████████████▎                      | 441/987 [36:23<41:16,  4.54s/it]"
     ]
    },
    {
     "name": "stdout",
     "output_type": "stream",
     "text": [
      "05_12_1936_00000003\n",
      "Pages/05_12_1936_00000003.tif.large.jpg\n"
     ]
    },
    {
     "name": "stderr",
     "output_type": "stream",
     "text": [
      "The checkpoint state_dict contains keys that are not used by the model:\n",
      "  \u001b[35mbackbone.fpn_lateral2.bias\u001b[0m\n",
      "  \u001b[35mbackbone.fpn_output2.bias\u001b[0m\n",
      "  \u001b[35mbackbone.fpn_lateral3.bias\u001b[0m\n",
      "  \u001b[35mbackbone.fpn_output3.bias\u001b[0m\n",
      "  \u001b[35mbackbone.fpn_lateral4.bias\u001b[0m\n",
      "  \u001b[35mbackbone.fpn_output4.bias\u001b[0m\n",
      "  \u001b[35mbackbone.fpn_lateral5.bias\u001b[0m\n",
      "  \u001b[35mbackbone.fpn_output5.bias\u001b[0m\n",
      " 45%|██████████████████▎                      | 442/987 [36:27<41:12,  4.54s/it]"
     ]
    },
    {
     "name": "stdout",
     "output_type": "stream",
     "text": [
      "14_12_1936_00000005\n",
      "Pages/14_12_1936_00000005.tif.large.jpg\n"
     ]
    },
    {
     "name": "stderr",
     "output_type": "stream",
     "text": [
      "The checkpoint state_dict contains keys that are not used by the model:\n",
      "  \u001b[35mbackbone.fpn_lateral2.bias\u001b[0m\n",
      "  \u001b[35mbackbone.fpn_output2.bias\u001b[0m\n",
      "  \u001b[35mbackbone.fpn_lateral3.bias\u001b[0m\n",
      "  \u001b[35mbackbone.fpn_output3.bias\u001b[0m\n",
      "  \u001b[35mbackbone.fpn_lateral4.bias\u001b[0m\n",
      "  \u001b[35mbackbone.fpn_output4.bias\u001b[0m\n",
      "  \u001b[35mbackbone.fpn_lateral5.bias\u001b[0m\n",
      "  \u001b[35mbackbone.fpn_output5.bias\u001b[0m\n",
      " 45%|██████████████████▍                      | 443/987 [36:32<41:40,  4.60s/it]"
     ]
    },
    {
     "name": "stdout",
     "output_type": "stream",
     "text": [
      "21_10_1936_00000006\n",
      "Pages/21_10_1936_00000006.tif.large.jpg\n"
     ]
    },
    {
     "name": "stderr",
     "output_type": "stream",
     "text": [
      "The checkpoint state_dict contains keys that are not used by the model:\n",
      "  \u001b[35mbackbone.fpn_lateral2.bias\u001b[0m\n",
      "  \u001b[35mbackbone.fpn_output2.bias\u001b[0m\n",
      "  \u001b[35mbackbone.fpn_lateral3.bias\u001b[0m\n",
      "  \u001b[35mbackbone.fpn_output3.bias\u001b[0m\n",
      "  \u001b[35mbackbone.fpn_lateral4.bias\u001b[0m\n",
      "  \u001b[35mbackbone.fpn_output4.bias\u001b[0m\n",
      "  \u001b[35mbackbone.fpn_lateral5.bias\u001b[0m\n",
      "  \u001b[35mbackbone.fpn_output5.bias\u001b[0m\n",
      " 45%|██████████████████▍                      | 444/987 [36:37<41:30,  4.59s/it]"
     ]
    },
    {
     "name": "stdout",
     "output_type": "stream",
     "text": [
      "25_10_1936_00000014\n",
      "Pages/25_10_1936_00000014.tif.large.jpg\n"
     ]
    },
    {
     "name": "stderr",
     "output_type": "stream",
     "text": [
      "The checkpoint state_dict contains keys that are not used by the model:\n",
      "  \u001b[35mbackbone.fpn_lateral2.bias\u001b[0m\n",
      "  \u001b[35mbackbone.fpn_output2.bias\u001b[0m\n",
      "  \u001b[35mbackbone.fpn_lateral3.bias\u001b[0m\n",
      "  \u001b[35mbackbone.fpn_output3.bias\u001b[0m\n",
      "  \u001b[35mbackbone.fpn_lateral4.bias\u001b[0m\n",
      "  \u001b[35mbackbone.fpn_output4.bias\u001b[0m\n",
      "  \u001b[35mbackbone.fpn_lateral5.bias\u001b[0m\n",
      "  \u001b[35mbackbone.fpn_output5.bias\u001b[0m\n",
      " 45%|██████████████████▍                      | 445/987 [36:41<41:13,  4.56s/it]"
     ]
    },
    {
     "name": "stdout",
     "output_type": "stream",
     "text": [
      "25_01_1936_00000002\n",
      "Pages/25_01_1936_00000002.tif.large.jpg\n"
     ]
    },
    {
     "name": "stderr",
     "output_type": "stream",
     "text": [
      "The checkpoint state_dict contains keys that are not used by the model:\n",
      "  \u001b[35mbackbone.fpn_lateral2.bias\u001b[0m\n",
      "  \u001b[35mbackbone.fpn_output2.bias\u001b[0m\n",
      "  \u001b[35mbackbone.fpn_lateral3.bias\u001b[0m\n",
      "  \u001b[35mbackbone.fpn_output3.bias\u001b[0m\n",
      "  \u001b[35mbackbone.fpn_lateral4.bias\u001b[0m\n",
      "  \u001b[35mbackbone.fpn_output4.bias\u001b[0m\n",
      "  \u001b[35mbackbone.fpn_lateral5.bias\u001b[0m\n",
      "  \u001b[35mbackbone.fpn_output5.bias\u001b[0m\n",
      " 45%|██████████████████▌                      | 446/987 [36:46<41:10,  4.57s/it]"
     ]
    },
    {
     "name": "stdout",
     "output_type": "stream",
     "text": [
      "06_12_1936_00000006\n",
      "Pages/06_12_1936_00000006.tif.large.jpg\n"
     ]
    },
    {
     "name": "stderr",
     "output_type": "stream",
     "text": [
      "The checkpoint state_dict contains keys that are not used by the model:\n",
      "  \u001b[35mbackbone.fpn_lateral2.bias\u001b[0m\n",
      "  \u001b[35mbackbone.fpn_output2.bias\u001b[0m\n",
      "  \u001b[35mbackbone.fpn_lateral3.bias\u001b[0m\n",
      "  \u001b[35mbackbone.fpn_output3.bias\u001b[0m\n",
      "  \u001b[35mbackbone.fpn_lateral4.bias\u001b[0m\n",
      "  \u001b[35mbackbone.fpn_output4.bias\u001b[0m\n",
      "  \u001b[35mbackbone.fpn_lateral5.bias\u001b[0m\n",
      "  \u001b[35mbackbone.fpn_output5.bias\u001b[0m\n",
      " 45%|██████████████████▌                      | 447/987 [36:50<41:05,  4.57s/it]"
     ]
    },
    {
     "name": "stdout",
     "output_type": "stream",
     "text": [
      "21_02_1936_00000009\n",
      "Pages/21_02_1936_00000009.tif.large.jpg\n"
     ]
    },
    {
     "name": "stderr",
     "output_type": "stream",
     "text": [
      "The checkpoint state_dict contains keys that are not used by the model:\n",
      "  \u001b[35mbackbone.fpn_lateral2.bias\u001b[0m\n",
      "  \u001b[35mbackbone.fpn_output2.bias\u001b[0m\n",
      "  \u001b[35mbackbone.fpn_lateral3.bias\u001b[0m\n",
      "  \u001b[35mbackbone.fpn_output3.bias\u001b[0m\n",
      "  \u001b[35mbackbone.fpn_lateral4.bias\u001b[0m\n",
      "  \u001b[35mbackbone.fpn_output4.bias\u001b[0m\n",
      "  \u001b[35mbackbone.fpn_lateral5.bias\u001b[0m\n",
      "  \u001b[35mbackbone.fpn_output5.bias\u001b[0m\n",
      " 45%|██████████████████▌                      | 448/987 [36:55<41:20,  4.60s/it]"
     ]
    },
    {
     "name": "stdout",
     "output_type": "stream",
     "text": [
      "12_03_1936_00000009\n",
      "Pages/12_03_1936_00000009.tif.large.jpg\n"
     ]
    },
    {
     "name": "stderr",
     "output_type": "stream",
     "text": [
      "The checkpoint state_dict contains keys that are not used by the model:\n",
      "  \u001b[35mbackbone.fpn_lateral2.bias\u001b[0m\n",
      "  \u001b[35mbackbone.fpn_output2.bias\u001b[0m\n",
      "  \u001b[35mbackbone.fpn_lateral3.bias\u001b[0m\n",
      "  \u001b[35mbackbone.fpn_output3.bias\u001b[0m\n",
      "  \u001b[35mbackbone.fpn_lateral4.bias\u001b[0m\n",
      "  \u001b[35mbackbone.fpn_output4.bias\u001b[0m\n",
      "  \u001b[35mbackbone.fpn_lateral5.bias\u001b[0m\n",
      "  \u001b[35mbackbone.fpn_output5.bias\u001b[0m\n",
      " 45%|██████████████████▋                      | 449/987 [36:59<41:00,  4.57s/it]"
     ]
    },
    {
     "name": "stdout",
     "output_type": "stream",
     "text": [
      "21_03_1936_00000005\n",
      "Pages/21_03_1936_00000005.tif.large.jpg\n"
     ]
    },
    {
     "name": "stderr",
     "output_type": "stream",
     "text": [
      "The checkpoint state_dict contains keys that are not used by the model:\n",
      "  \u001b[35mbackbone.fpn_lateral2.bias\u001b[0m\n",
      "  \u001b[35mbackbone.fpn_output2.bias\u001b[0m\n",
      "  \u001b[35mbackbone.fpn_lateral3.bias\u001b[0m\n",
      "  \u001b[35mbackbone.fpn_output3.bias\u001b[0m\n",
      "  \u001b[35mbackbone.fpn_lateral4.bias\u001b[0m\n",
      "  \u001b[35mbackbone.fpn_output4.bias\u001b[0m\n",
      "  \u001b[35mbackbone.fpn_lateral5.bias\u001b[0m\n",
      "  \u001b[35mbackbone.fpn_output5.bias\u001b[0m\n",
      " 46%|██████████████████▋                      | 450/987 [37:04<40:34,  4.53s/it]"
     ]
    },
    {
     "name": "stdout",
     "output_type": "stream",
     "text": [
      "24_01_1936_00000008\n",
      "Pages/24_01_1936_00000008.tif.large.jpg\n"
     ]
    },
    {
     "name": "stderr",
     "output_type": "stream",
     "text": [
      "The checkpoint state_dict contains keys that are not used by the model:\n",
      "  \u001b[35mbackbone.fpn_lateral2.bias\u001b[0m\n",
      "  \u001b[35mbackbone.fpn_output2.bias\u001b[0m\n",
      "  \u001b[35mbackbone.fpn_lateral3.bias\u001b[0m\n",
      "  \u001b[35mbackbone.fpn_output3.bias\u001b[0m\n",
      "  \u001b[35mbackbone.fpn_lateral4.bias\u001b[0m\n",
      "  \u001b[35mbackbone.fpn_output4.bias\u001b[0m\n",
      "  \u001b[35mbackbone.fpn_lateral5.bias\u001b[0m\n",
      "  \u001b[35mbackbone.fpn_output5.bias\u001b[0m\n",
      " 46%|██████████████████▋                      | 451/987 [37:09<40:43,  4.56s/it]"
     ]
    },
    {
     "name": "stdout",
     "output_type": "stream",
     "text": [
      "16_09_1936_00000009\n",
      "Pages/16_09_1936_00000009.tif.large.jpg\n"
     ]
    },
    {
     "name": "stderr",
     "output_type": "stream",
     "text": [
      "The checkpoint state_dict contains keys that are not used by the model:\n",
      "  \u001b[35mbackbone.fpn_lateral2.bias\u001b[0m\n",
      "  \u001b[35mbackbone.fpn_output2.bias\u001b[0m\n",
      "  \u001b[35mbackbone.fpn_lateral3.bias\u001b[0m\n",
      "  \u001b[35mbackbone.fpn_output3.bias\u001b[0m\n",
      "  \u001b[35mbackbone.fpn_lateral4.bias\u001b[0m\n",
      "  \u001b[35mbackbone.fpn_output4.bias\u001b[0m\n",
      "  \u001b[35mbackbone.fpn_lateral5.bias\u001b[0m\n",
      "  \u001b[35mbackbone.fpn_output5.bias\u001b[0m\n",
      " 46%|██████████████████▊                      | 452/987 [37:13<40:43,  4.57s/it]"
     ]
    },
    {
     "name": "stdout",
     "output_type": "stream",
     "text": [
      "13_08_1936_00000004\n",
      "Pages/13_08_1936_00000004.tif.large.jpg\n"
     ]
    },
    {
     "name": "stderr",
     "output_type": "stream",
     "text": [
      "The checkpoint state_dict contains keys that are not used by the model:\n",
      "  \u001b[35mbackbone.fpn_lateral2.bias\u001b[0m\n",
      "  \u001b[35mbackbone.fpn_output2.bias\u001b[0m\n",
      "  \u001b[35mbackbone.fpn_lateral3.bias\u001b[0m\n",
      "  \u001b[35mbackbone.fpn_output3.bias\u001b[0m\n",
      "  \u001b[35mbackbone.fpn_lateral4.bias\u001b[0m\n",
      "  \u001b[35mbackbone.fpn_output4.bias\u001b[0m\n",
      "  \u001b[35mbackbone.fpn_lateral5.bias\u001b[0m\n",
      "  \u001b[35mbackbone.fpn_output5.bias\u001b[0m\n",
      " 46%|██████████████████▊                      | 453/987 [37:18<40:34,  4.56s/it]"
     ]
    },
    {
     "name": "stdout",
     "output_type": "stream",
     "text": [
      "22_04_1936_00000020\n",
      "Pages/22_04_1936_00000020.tif.large.jpg\n"
     ]
    },
    {
     "name": "stderr",
     "output_type": "stream",
     "text": [
      "The checkpoint state_dict contains keys that are not used by the model:\n",
      "  \u001b[35mbackbone.fpn_lateral2.bias\u001b[0m\n",
      "  \u001b[35mbackbone.fpn_output2.bias\u001b[0m\n",
      "  \u001b[35mbackbone.fpn_lateral3.bias\u001b[0m\n",
      "  \u001b[35mbackbone.fpn_output3.bias\u001b[0m\n",
      "  \u001b[35mbackbone.fpn_lateral4.bias\u001b[0m\n",
      "  \u001b[35mbackbone.fpn_output4.bias\u001b[0m\n",
      "  \u001b[35mbackbone.fpn_lateral5.bias\u001b[0m\n",
      "  \u001b[35mbackbone.fpn_output5.bias\u001b[0m\n",
      " 46%|██████████████████▊                      | 454/987 [37:22<40:38,  4.57s/it]"
     ]
    },
    {
     "name": "stdout",
     "output_type": "stream",
     "text": [
      "23_09_1936_00000009\n",
      "Pages/23_09_1936_00000009.tif.large.jpg\n"
     ]
    },
    {
     "name": "stderr",
     "output_type": "stream",
     "text": [
      "The checkpoint state_dict contains keys that are not used by the model:\n",
      "  \u001b[35mbackbone.fpn_lateral2.bias\u001b[0m\n",
      "  \u001b[35mbackbone.fpn_output2.bias\u001b[0m\n",
      "  \u001b[35mbackbone.fpn_lateral3.bias\u001b[0m\n",
      "  \u001b[35mbackbone.fpn_output3.bias\u001b[0m\n",
      "  \u001b[35mbackbone.fpn_lateral4.bias\u001b[0m\n",
      "  \u001b[35mbackbone.fpn_output4.bias\u001b[0m\n",
      "  \u001b[35mbackbone.fpn_lateral5.bias\u001b[0m\n",
      "  \u001b[35mbackbone.fpn_output5.bias\u001b[0m\n",
      " 46%|██████████████████▉                      | 455/987 [37:27<40:22,  4.55s/it]"
     ]
    },
    {
     "name": "stdout",
     "output_type": "stream",
     "text": [
      "16_12_1936_00000011\n",
      "Pages/16_12_1936_00000011.tif.large.jpg\n"
     ]
    },
    {
     "name": "stderr",
     "output_type": "stream",
     "text": [
      "The checkpoint state_dict contains keys that are not used by the model:\n",
      "  \u001b[35mbackbone.fpn_lateral2.bias\u001b[0m\n",
      "  \u001b[35mbackbone.fpn_output2.bias\u001b[0m\n",
      "  \u001b[35mbackbone.fpn_lateral3.bias\u001b[0m\n",
      "  \u001b[35mbackbone.fpn_output3.bias\u001b[0m\n",
      "  \u001b[35mbackbone.fpn_lateral4.bias\u001b[0m\n",
      "  \u001b[35mbackbone.fpn_output4.bias\u001b[0m\n",
      "  \u001b[35mbackbone.fpn_lateral5.bias\u001b[0m\n",
      "  \u001b[35mbackbone.fpn_output5.bias\u001b[0m\n",
      " 46%|██████████████████▉                      | 456/987 [37:32<41:55,  4.74s/it]"
     ]
    },
    {
     "name": "stdout",
     "output_type": "stream",
     "text": [
      "21_07_1936_00000001\n",
      "Pages/21_07_1936_00000001.tif.large.jpg\n"
     ]
    },
    {
     "name": "stderr",
     "output_type": "stream",
     "text": [
      "The checkpoint state_dict contains keys that are not used by the model:\n",
      "  \u001b[35mbackbone.fpn_lateral2.bias\u001b[0m\n",
      "  \u001b[35mbackbone.fpn_output2.bias\u001b[0m\n",
      "  \u001b[35mbackbone.fpn_lateral3.bias\u001b[0m\n",
      "  \u001b[35mbackbone.fpn_output3.bias\u001b[0m\n",
      "  \u001b[35mbackbone.fpn_lateral4.bias\u001b[0m\n",
      "  \u001b[35mbackbone.fpn_output4.bias\u001b[0m\n",
      "  \u001b[35mbackbone.fpn_lateral5.bias\u001b[0m\n",
      "  \u001b[35mbackbone.fpn_output5.bias\u001b[0m\n",
      " 46%|██████████████████▉                      | 457/987 [37:36<41:11,  4.66s/it]"
     ]
    },
    {
     "name": "stdout",
     "output_type": "stream",
     "text": [
      "10_09_1936_00000007\n",
      "Pages/10_09_1936_00000007.tif.large.jpg\n"
     ]
    },
    {
     "name": "stderr",
     "output_type": "stream",
     "text": [
      "The checkpoint state_dict contains keys that are not used by the model:\n",
      "  \u001b[35mbackbone.fpn_lateral2.bias\u001b[0m\n",
      "  \u001b[35mbackbone.fpn_output2.bias\u001b[0m\n",
      "  \u001b[35mbackbone.fpn_lateral3.bias\u001b[0m\n",
      "  \u001b[35mbackbone.fpn_output3.bias\u001b[0m\n",
      "  \u001b[35mbackbone.fpn_lateral4.bias\u001b[0m\n",
      "  \u001b[35mbackbone.fpn_output4.bias\u001b[0m\n",
      "  \u001b[35mbackbone.fpn_lateral5.bias\u001b[0m\n",
      "  \u001b[35mbackbone.fpn_output5.bias\u001b[0m\n",
      " 46%|███████████████████                      | 458/987 [37:41<40:45,  4.62s/it]"
     ]
    },
    {
     "name": "stdout",
     "output_type": "stream",
     "text": [
      "28_10_1936_00000012\n",
      "Pages/28_10_1936_00000012.tif.large.jpg\n"
     ]
    },
    {
     "name": "stderr",
     "output_type": "stream",
     "text": [
      "The checkpoint state_dict contains keys that are not used by the model:\n",
      "  \u001b[35mbackbone.fpn_lateral2.bias\u001b[0m\n",
      "  \u001b[35mbackbone.fpn_output2.bias\u001b[0m\n",
      "  \u001b[35mbackbone.fpn_lateral3.bias\u001b[0m\n",
      "  \u001b[35mbackbone.fpn_output3.bias\u001b[0m\n",
      "  \u001b[35mbackbone.fpn_lateral4.bias\u001b[0m\n",
      "  \u001b[35mbackbone.fpn_output4.bias\u001b[0m\n",
      "  \u001b[35mbackbone.fpn_lateral5.bias\u001b[0m\n",
      "  \u001b[35mbackbone.fpn_output5.bias\u001b[0m\n",
      " 47%|███████████████████                      | 459/987 [37:45<40:26,  4.60s/it]"
     ]
    },
    {
     "name": "stdout",
     "output_type": "stream",
     "text": [
      "20_08_1936_00000006\n",
      "Pages/20_08_1936_00000006.tif.large.jpg\n"
     ]
    },
    {
     "name": "stderr",
     "output_type": "stream",
     "text": [
      "The checkpoint state_dict contains keys that are not used by the model:\n",
      "  \u001b[35mbackbone.fpn_lateral2.bias\u001b[0m\n",
      "  \u001b[35mbackbone.fpn_output2.bias\u001b[0m\n",
      "  \u001b[35mbackbone.fpn_lateral3.bias\u001b[0m\n",
      "  \u001b[35mbackbone.fpn_output3.bias\u001b[0m\n",
      "  \u001b[35mbackbone.fpn_lateral4.bias\u001b[0m\n",
      "  \u001b[35mbackbone.fpn_output4.bias\u001b[0m\n",
      "  \u001b[35mbackbone.fpn_lateral5.bias\u001b[0m\n",
      "  \u001b[35mbackbone.fpn_output5.bias\u001b[0m\n",
      " 47%|███████████████████                      | 460/987 [37:50<40:16,  4.59s/it]"
     ]
    },
    {
     "name": "stdout",
     "output_type": "stream",
     "text": [
      "26_04_1936_00000006\n",
      "Pages/26_04_1936_00000006.tif.large.jpg\n"
     ]
    },
    {
     "name": "stderr",
     "output_type": "stream",
     "text": [
      "The checkpoint state_dict contains keys that are not used by the model:\n",
      "  \u001b[35mbackbone.fpn_lateral2.bias\u001b[0m\n",
      "  \u001b[35mbackbone.fpn_output2.bias\u001b[0m\n",
      "  \u001b[35mbackbone.fpn_lateral3.bias\u001b[0m\n",
      "  \u001b[35mbackbone.fpn_output3.bias\u001b[0m\n",
      "  \u001b[35mbackbone.fpn_lateral4.bias\u001b[0m\n",
      "  \u001b[35mbackbone.fpn_output4.bias\u001b[0m\n",
      "  \u001b[35mbackbone.fpn_lateral5.bias\u001b[0m\n",
      "  \u001b[35mbackbone.fpn_output5.bias\u001b[0m\n",
      " 47%|███████████████████▏                     | 461/987 [37:55<40:17,  4.60s/it]"
     ]
    },
    {
     "name": "stdout",
     "output_type": "stream",
     "text": [
      "27_02_1936_00000014\n",
      "Pages/27_02_1936_00000014.tif.large.jpg\n"
     ]
    },
    {
     "name": "stderr",
     "output_type": "stream",
     "text": [
      "The checkpoint state_dict contains keys that are not used by the model:\n",
      "  \u001b[35mbackbone.fpn_lateral2.bias\u001b[0m\n",
      "  \u001b[35mbackbone.fpn_output2.bias\u001b[0m\n",
      "  \u001b[35mbackbone.fpn_lateral3.bias\u001b[0m\n",
      "  \u001b[35mbackbone.fpn_output3.bias\u001b[0m\n",
      "  \u001b[35mbackbone.fpn_lateral4.bias\u001b[0m\n",
      "  \u001b[35mbackbone.fpn_output4.bias\u001b[0m\n",
      "  \u001b[35mbackbone.fpn_lateral5.bias\u001b[0m\n",
      "  \u001b[35mbackbone.fpn_output5.bias\u001b[0m\n",
      " 47%|███████████████████▏                     | 462/987 [37:59<40:18,  4.61s/it]"
     ]
    },
    {
     "name": "stdout",
     "output_type": "stream",
     "text": [
      "02_08_1936_00000005\n",
      "Pages/02_08_1936_00000005.tif.large.jpg\n"
     ]
    },
    {
     "name": "stderr",
     "output_type": "stream",
     "text": [
      "The checkpoint state_dict contains keys that are not used by the model:\n",
      "  \u001b[35mbackbone.fpn_lateral2.bias\u001b[0m\n",
      "  \u001b[35mbackbone.fpn_output2.bias\u001b[0m\n",
      "  \u001b[35mbackbone.fpn_lateral3.bias\u001b[0m\n",
      "  \u001b[35mbackbone.fpn_output3.bias\u001b[0m\n",
      "  \u001b[35mbackbone.fpn_lateral4.bias\u001b[0m\n",
      "  \u001b[35mbackbone.fpn_output4.bias\u001b[0m\n",
      "  \u001b[35mbackbone.fpn_lateral5.bias\u001b[0m\n",
      "  \u001b[35mbackbone.fpn_output5.bias\u001b[0m\n",
      " 47%|███████████████████▏                     | 463/987 [38:04<39:53,  4.57s/it]"
     ]
    },
    {
     "name": "stdout",
     "output_type": "stream",
     "text": [
      "23_12_1936_00000017\n",
      "Pages/23_12_1936_00000017.tif.large.jpg\n"
     ]
    },
    {
     "name": "stderr",
     "output_type": "stream",
     "text": [
      "The checkpoint state_dict contains keys that are not used by the model:\n",
      "  \u001b[35mbackbone.fpn_lateral2.bias\u001b[0m\n",
      "  \u001b[35mbackbone.fpn_output2.bias\u001b[0m\n",
      "  \u001b[35mbackbone.fpn_lateral3.bias\u001b[0m\n",
      "  \u001b[35mbackbone.fpn_output3.bias\u001b[0m\n",
      "  \u001b[35mbackbone.fpn_lateral4.bias\u001b[0m\n",
      "  \u001b[35mbackbone.fpn_output4.bias\u001b[0m\n",
      "  \u001b[35mbackbone.fpn_lateral5.bias\u001b[0m\n",
      "  \u001b[35mbackbone.fpn_output5.bias\u001b[0m\n",
      " 47%|███████████████████▎                     | 464/987 [38:09<41:04,  4.71s/it]"
     ]
    },
    {
     "name": "stdout",
     "output_type": "stream",
     "text": [
      "21_08_1936_00000001\n",
      "Pages/21_08_1936_00000001.tif.large.jpg\n"
     ]
    },
    {
     "name": "stderr",
     "output_type": "stream",
     "text": [
      "The checkpoint state_dict contains keys that are not used by the model:\n",
      "  \u001b[35mbackbone.fpn_lateral2.bias\u001b[0m\n",
      "  \u001b[35mbackbone.fpn_output2.bias\u001b[0m\n",
      "  \u001b[35mbackbone.fpn_lateral3.bias\u001b[0m\n",
      "  \u001b[35mbackbone.fpn_output3.bias\u001b[0m\n",
      "  \u001b[35mbackbone.fpn_lateral4.bias\u001b[0m\n",
      "  \u001b[35mbackbone.fpn_output4.bias\u001b[0m\n",
      "  \u001b[35mbackbone.fpn_lateral5.bias\u001b[0m\n",
      "  \u001b[35mbackbone.fpn_output5.bias\u001b[0m\n",
      " 47%|███████████████████▎                     | 465/987 [38:13<40:19,  4.64s/it]"
     ]
    },
    {
     "name": "stdout",
     "output_type": "stream",
     "text": [
      "31_07_1936_00000011\n",
      "Pages/31_07_1936_00000011.tif.large.jpg\n"
     ]
    },
    {
     "name": "stderr",
     "output_type": "stream",
     "text": [
      "The checkpoint state_dict contains keys that are not used by the model:\n",
      "  \u001b[35mbackbone.fpn_lateral2.bias\u001b[0m\n",
      "  \u001b[35mbackbone.fpn_output2.bias\u001b[0m\n",
      "  \u001b[35mbackbone.fpn_lateral3.bias\u001b[0m\n",
      "  \u001b[35mbackbone.fpn_output3.bias\u001b[0m\n",
      "  \u001b[35mbackbone.fpn_lateral4.bias\u001b[0m\n",
      "  \u001b[35mbackbone.fpn_output4.bias\u001b[0m\n",
      "  \u001b[35mbackbone.fpn_lateral5.bias\u001b[0m\n",
      "  \u001b[35mbackbone.fpn_output5.bias\u001b[0m\n",
      " 47%|███████████████████▎                     | 466/987 [38:18<39:58,  4.60s/it]"
     ]
    },
    {
     "name": "stdout",
     "output_type": "stream",
     "text": [
      "07_11_1936_00000009\n",
      "Pages/07_11_1936_00000009.tif.large.jpg\n"
     ]
    },
    {
     "name": "stderr",
     "output_type": "stream",
     "text": [
      "The checkpoint state_dict contains keys that are not used by the model:\n",
      "  \u001b[35mbackbone.fpn_lateral2.bias\u001b[0m\n",
      "  \u001b[35mbackbone.fpn_output2.bias\u001b[0m\n",
      "  \u001b[35mbackbone.fpn_lateral3.bias\u001b[0m\n",
      "  \u001b[35mbackbone.fpn_output3.bias\u001b[0m\n",
      "  \u001b[35mbackbone.fpn_lateral4.bias\u001b[0m\n",
      "  \u001b[35mbackbone.fpn_output4.bias\u001b[0m\n",
      "  \u001b[35mbackbone.fpn_lateral5.bias\u001b[0m\n",
      "  \u001b[35mbackbone.fpn_output5.bias\u001b[0m\n",
      " 47%|███████████████████▍                     | 467/987 [38:22<40:01,  4.62s/it]"
     ]
    },
    {
     "name": "stdout",
     "output_type": "stream",
     "text": [
      "27_03_1936_00000012\n",
      "Pages/27_03_1936_00000012.tif.large.jpg\n"
     ]
    },
    {
     "name": "stderr",
     "output_type": "stream",
     "text": [
      "The checkpoint state_dict contains keys that are not used by the model:\n",
      "  \u001b[35mbackbone.fpn_lateral2.bias\u001b[0m\n",
      "  \u001b[35mbackbone.fpn_output2.bias\u001b[0m\n",
      "  \u001b[35mbackbone.fpn_lateral3.bias\u001b[0m\n",
      "  \u001b[35mbackbone.fpn_output3.bias\u001b[0m\n",
      "  \u001b[35mbackbone.fpn_lateral4.bias\u001b[0m\n",
      "  \u001b[35mbackbone.fpn_output4.bias\u001b[0m\n",
      "  \u001b[35mbackbone.fpn_lateral5.bias\u001b[0m\n",
      "  \u001b[35mbackbone.fpn_output5.bias\u001b[0m\n",
      " 47%|███████████████████▍                     | 468/987 [38:27<39:23,  4.55s/it]"
     ]
    },
    {
     "name": "stdout",
     "output_type": "stream",
     "text": [
      "13_12_1936_00000003\n",
      "Pages/13_12_1936_00000003.tif.large.jpg\n"
     ]
    },
    {
     "name": "stderr",
     "output_type": "stream",
     "text": [
      "The checkpoint state_dict contains keys that are not used by the model:\n",
      "  \u001b[35mbackbone.fpn_lateral2.bias\u001b[0m\n",
      "  \u001b[35mbackbone.fpn_output2.bias\u001b[0m\n",
      "  \u001b[35mbackbone.fpn_lateral3.bias\u001b[0m\n",
      "  \u001b[35mbackbone.fpn_output3.bias\u001b[0m\n",
      "  \u001b[35mbackbone.fpn_lateral4.bias\u001b[0m\n",
      "  \u001b[35mbackbone.fpn_output4.bias\u001b[0m\n",
      "  \u001b[35mbackbone.fpn_lateral5.bias\u001b[0m\n",
      "  \u001b[35mbackbone.fpn_output5.bias\u001b[0m\n",
      " 48%|███████████████████▍                     | 469/987 [38:32<40:14,  4.66s/it]"
     ]
    },
    {
     "name": "stdout",
     "output_type": "stream",
     "text": [
      "20_10_1936_00000004\n",
      "Pages/20_10_1936_00000004.tif.large.jpg\n"
     ]
    },
    {
     "name": "stderr",
     "output_type": "stream",
     "text": [
      "The checkpoint state_dict contains keys that are not used by the model:\n",
      "  \u001b[35mbackbone.fpn_lateral2.bias\u001b[0m\n",
      "  \u001b[35mbackbone.fpn_output2.bias\u001b[0m\n",
      "  \u001b[35mbackbone.fpn_lateral3.bias\u001b[0m\n",
      "  \u001b[35mbackbone.fpn_output3.bias\u001b[0m\n",
      "  \u001b[35mbackbone.fpn_lateral4.bias\u001b[0m\n",
      "  \u001b[35mbackbone.fpn_output4.bias\u001b[0m\n",
      "  \u001b[35mbackbone.fpn_lateral5.bias\u001b[0m\n",
      "  \u001b[35mbackbone.fpn_output5.bias\u001b[0m\n",
      " 48%|███████████████████▌                     | 470/987 [38:38<43:04,  5.00s/it]"
     ]
    },
    {
     "name": "stdout",
     "output_type": "stream",
     "text": [
      "13_09_1936_00000007\n",
      "Pages/13_09_1936_00000007.tif.large.jpg\n"
     ]
    },
    {
     "name": "stderr",
     "output_type": "stream",
     "text": [
      "The checkpoint state_dict contains keys that are not used by the model:\n",
      "  \u001b[35mbackbone.fpn_lateral2.bias\u001b[0m\n",
      "  \u001b[35mbackbone.fpn_output2.bias\u001b[0m\n",
      "  \u001b[35mbackbone.fpn_lateral3.bias\u001b[0m\n",
      "  \u001b[35mbackbone.fpn_output3.bias\u001b[0m\n",
      "  \u001b[35mbackbone.fpn_lateral4.bias\u001b[0m\n",
      "  \u001b[35mbackbone.fpn_output4.bias\u001b[0m\n",
      "  \u001b[35mbackbone.fpn_lateral5.bias\u001b[0m\n",
      "  \u001b[35mbackbone.fpn_output5.bias\u001b[0m\n",
      " 48%|███████████████████▌                     | 471/987 [38:42<42:43,  4.97s/it]"
     ]
    },
    {
     "name": "stdout",
     "output_type": "stream",
     "text": [
      "03_01_1936_00000005\n",
      "Pages/03_01_1936_00000005.tif.large.jpg\n"
     ]
    },
    {
     "name": "stderr",
     "output_type": "stream",
     "text": [
      "The checkpoint state_dict contains keys that are not used by the model:\n",
      "  \u001b[35mbackbone.fpn_lateral2.bias\u001b[0m\n",
      "  \u001b[35mbackbone.fpn_output2.bias\u001b[0m\n",
      "  \u001b[35mbackbone.fpn_lateral3.bias\u001b[0m\n",
      "  \u001b[35mbackbone.fpn_output3.bias\u001b[0m\n",
      "  \u001b[35mbackbone.fpn_lateral4.bias\u001b[0m\n",
      "  \u001b[35mbackbone.fpn_output4.bias\u001b[0m\n",
      "  \u001b[35mbackbone.fpn_lateral5.bias\u001b[0m\n",
      "  \u001b[35mbackbone.fpn_output5.bias\u001b[0m\n",
      " 48%|███████████████████▌                     | 472/987 [38:47<41:56,  4.89s/it]"
     ]
    },
    {
     "name": "stdout",
     "output_type": "stream",
     "text": [
      "01_03_1936_00000008\n",
      "Pages/01_03_1936_00000008.tif.large.jpg\n"
     ]
    },
    {
     "name": "stderr",
     "output_type": "stream",
     "text": [
      "The checkpoint state_dict contains keys that are not used by the model:\n",
      "  \u001b[35mbackbone.fpn_lateral2.bias\u001b[0m\n",
      "  \u001b[35mbackbone.fpn_output2.bias\u001b[0m\n",
      "  \u001b[35mbackbone.fpn_lateral3.bias\u001b[0m\n",
      "  \u001b[35mbackbone.fpn_output3.bias\u001b[0m\n",
      "  \u001b[35mbackbone.fpn_lateral4.bias\u001b[0m\n",
      "  \u001b[35mbackbone.fpn_output4.bias\u001b[0m\n",
      "  \u001b[35mbackbone.fpn_lateral5.bias\u001b[0m\n",
      "  \u001b[35mbackbone.fpn_output5.bias\u001b[0m\n",
      " 48%|███████████████████▋                     | 473/987 [38:52<41:21,  4.83s/it]"
     ]
    },
    {
     "name": "stdout",
     "output_type": "stream",
     "text": [
      "24_12_1936_00000006\n",
      "Pages/24_12_1936_00000006.tif.large.jpg\n"
     ]
    },
    {
     "name": "stderr",
     "output_type": "stream",
     "text": [
      "The checkpoint state_dict contains keys that are not used by the model:\n",
      "  \u001b[35mbackbone.fpn_lateral2.bias\u001b[0m\n",
      "  \u001b[35mbackbone.fpn_output2.bias\u001b[0m\n",
      "  \u001b[35mbackbone.fpn_lateral3.bias\u001b[0m\n",
      "  \u001b[35mbackbone.fpn_output3.bias\u001b[0m\n",
      "  \u001b[35mbackbone.fpn_lateral4.bias\u001b[0m\n",
      "  \u001b[35mbackbone.fpn_output4.bias\u001b[0m\n",
      "  \u001b[35mbackbone.fpn_lateral5.bias\u001b[0m\n",
      "  \u001b[35mbackbone.fpn_output5.bias\u001b[0m\n",
      " 48%|███████████████████▋                     | 474/987 [38:57<41:11,  4.82s/it]"
     ]
    },
    {
     "name": "stdout",
     "output_type": "stream",
     "text": [
      "03_10_1936_00000014\n",
      "Pages/03_10_1936_00000014.tif.large.jpg\n"
     ]
    },
    {
     "name": "stderr",
     "output_type": "stream",
     "text": [
      "The checkpoint state_dict contains keys that are not used by the model:\n",
      "  \u001b[35mbackbone.fpn_lateral2.bias\u001b[0m\n",
      "  \u001b[35mbackbone.fpn_output2.bias\u001b[0m\n",
      "  \u001b[35mbackbone.fpn_lateral3.bias\u001b[0m\n",
      "  \u001b[35mbackbone.fpn_output3.bias\u001b[0m\n",
      "  \u001b[35mbackbone.fpn_lateral4.bias\u001b[0m\n",
      "  \u001b[35mbackbone.fpn_output4.bias\u001b[0m\n",
      "  \u001b[35mbackbone.fpn_lateral5.bias\u001b[0m\n",
      "  \u001b[35mbackbone.fpn_output5.bias\u001b[0m\n",
      " 48%|███████████████████▋                     | 475/987 [39:01<40:19,  4.73s/it]"
     ]
    },
    {
     "name": "stdout",
     "output_type": "stream",
     "text": [
      "24_09_1936_00000006\n",
      "Pages/24_09_1936_00000006.tif.large.jpg\n"
     ]
    },
    {
     "name": "stderr",
     "output_type": "stream",
     "text": [
      "The checkpoint state_dict contains keys that are not used by the model:\n",
      "  \u001b[35mbackbone.fpn_lateral2.bias\u001b[0m\n",
      "  \u001b[35mbackbone.fpn_output2.bias\u001b[0m\n",
      "  \u001b[35mbackbone.fpn_lateral3.bias\u001b[0m\n",
      "  \u001b[35mbackbone.fpn_output3.bias\u001b[0m\n",
      "  \u001b[35mbackbone.fpn_lateral4.bias\u001b[0m\n",
      "  \u001b[35mbackbone.fpn_output4.bias\u001b[0m\n",
      "  \u001b[35mbackbone.fpn_lateral5.bias\u001b[0m\n",
      "  \u001b[35mbackbone.fpn_output5.bias\u001b[0m\n",
      " 48%|███████████████████▊                     | 476/987 [39:06<39:59,  4.70s/it]"
     ]
    },
    {
     "name": "stdout",
     "output_type": "stream",
     "text": [
      "23_01_1936_00000005\n",
      "Pages/23_01_1936_00000005.tif.large.jpg\n"
     ]
    },
    {
     "name": "stderr",
     "output_type": "stream",
     "text": [
      "The checkpoint state_dict contains keys that are not used by the model:\n",
      "  \u001b[35mbackbone.fpn_lateral2.bias\u001b[0m\n",
      "  \u001b[35mbackbone.fpn_output2.bias\u001b[0m\n",
      "  \u001b[35mbackbone.fpn_lateral3.bias\u001b[0m\n",
      "  \u001b[35mbackbone.fpn_output3.bias\u001b[0m\n",
      "  \u001b[35mbackbone.fpn_lateral4.bias\u001b[0m\n",
      "  \u001b[35mbackbone.fpn_output4.bias\u001b[0m\n",
      "  \u001b[35mbackbone.fpn_lateral5.bias\u001b[0m\n",
      "  \u001b[35mbackbone.fpn_output5.bias\u001b[0m\n",
      " 48%|███████████████████▊                     | 477/987 [39:10<39:34,  4.66s/it]"
     ]
    },
    {
     "name": "stdout",
     "output_type": "stream",
     "text": [
      "12_08_1936_00000010\n",
      "Pages/12_08_1936_00000010.tif.large.jpg\n"
     ]
    },
    {
     "name": "stderr",
     "output_type": "stream",
     "text": [
      "The checkpoint state_dict contains keys that are not used by the model:\n",
      "  \u001b[35mbackbone.fpn_lateral2.bias\u001b[0m\n",
      "  \u001b[35mbackbone.fpn_output2.bias\u001b[0m\n",
      "  \u001b[35mbackbone.fpn_lateral3.bias\u001b[0m\n",
      "  \u001b[35mbackbone.fpn_output3.bias\u001b[0m\n",
      "  \u001b[35mbackbone.fpn_lateral4.bias\u001b[0m\n",
      "  \u001b[35mbackbone.fpn_output4.bias\u001b[0m\n",
      "  \u001b[35mbackbone.fpn_lateral5.bias\u001b[0m\n",
      "  \u001b[35mbackbone.fpn_output5.bias\u001b[0m\n",
      " 48%|███████████████████▊                     | 478/987 [39:15<39:24,  4.65s/it]"
     ]
    },
    {
     "name": "stdout",
     "output_type": "stream",
     "text": [
      "05_10_1936_00000015\n",
      "Pages/05_10_1936_00000015.tif.large.jpg\n"
     ]
    },
    {
     "name": "stderr",
     "output_type": "stream",
     "text": [
      "The checkpoint state_dict contains keys that are not used by the model:\n",
      "  \u001b[35mbackbone.fpn_lateral2.bias\u001b[0m\n",
      "  \u001b[35mbackbone.fpn_output2.bias\u001b[0m\n",
      "  \u001b[35mbackbone.fpn_lateral3.bias\u001b[0m\n",
      "  \u001b[35mbackbone.fpn_output3.bias\u001b[0m\n",
      "  \u001b[35mbackbone.fpn_lateral4.bias\u001b[0m\n",
      "  \u001b[35mbackbone.fpn_output4.bias\u001b[0m\n",
      "  \u001b[35mbackbone.fpn_lateral5.bias\u001b[0m\n",
      "  \u001b[35mbackbone.fpn_output5.bias\u001b[0m\n",
      " 49%|███████████████████▉                     | 479/987 [39:20<39:12,  4.63s/it]"
     ]
    },
    {
     "name": "stdout",
     "output_type": "stream",
     "text": [
      "08_12_1936_00000006\n",
      "Pages/08_12_1936_00000006.tif.large.jpg\n"
     ]
    },
    {
     "name": "stderr",
     "output_type": "stream",
     "text": [
      "The checkpoint state_dict contains keys that are not used by the model:\n",
      "  \u001b[35mbackbone.fpn_lateral2.bias\u001b[0m\n",
      "  \u001b[35mbackbone.fpn_output2.bias\u001b[0m\n",
      "  \u001b[35mbackbone.fpn_lateral3.bias\u001b[0m\n",
      "  \u001b[35mbackbone.fpn_output3.bias\u001b[0m\n",
      "  \u001b[35mbackbone.fpn_lateral4.bias\u001b[0m\n",
      "  \u001b[35mbackbone.fpn_output4.bias\u001b[0m\n",
      "  \u001b[35mbackbone.fpn_lateral5.bias\u001b[0m\n",
      "  \u001b[35mbackbone.fpn_output5.bias\u001b[0m\n",
      " 49%|███████████████████▉                     | 480/987 [39:24<39:13,  4.64s/it]"
     ]
    },
    {
     "name": "stdout",
     "output_type": "stream",
     "text": [
      "18_03_1936_00000009\n",
      "Pages/18_03_1936_00000009.tif.large.jpg\n"
     ]
    },
    {
     "name": "stderr",
     "output_type": "stream",
     "text": [
      "The checkpoint state_dict contains keys that are not used by the model:\n",
      "  \u001b[35mbackbone.fpn_lateral2.bias\u001b[0m\n",
      "  \u001b[35mbackbone.fpn_output2.bias\u001b[0m\n",
      "  \u001b[35mbackbone.fpn_lateral3.bias\u001b[0m\n",
      "  \u001b[35mbackbone.fpn_output3.bias\u001b[0m\n",
      "  \u001b[35mbackbone.fpn_lateral4.bias\u001b[0m\n",
      "  \u001b[35mbackbone.fpn_output4.bias\u001b[0m\n",
      "  \u001b[35mbackbone.fpn_lateral5.bias\u001b[0m\n",
      "  \u001b[35mbackbone.fpn_output5.bias\u001b[0m\n",
      " 49%|███████████████████▉                     | 481/987 [39:29<39:12,  4.65s/it]"
     ]
    },
    {
     "name": "stdout",
     "output_type": "stream",
     "text": [
      "08_08_1936_00000008\n",
      "Pages/08_08_1936_00000008.tif.large.jpg\n"
     ]
    },
    {
     "name": "stderr",
     "output_type": "stream",
     "text": [
      "The checkpoint state_dict contains keys that are not used by the model:\n",
      "  \u001b[35mbackbone.fpn_lateral2.bias\u001b[0m\n",
      "  \u001b[35mbackbone.fpn_output2.bias\u001b[0m\n",
      "  \u001b[35mbackbone.fpn_lateral3.bias\u001b[0m\n",
      "  \u001b[35mbackbone.fpn_output3.bias\u001b[0m\n",
      "  \u001b[35mbackbone.fpn_lateral4.bias\u001b[0m\n",
      "  \u001b[35mbackbone.fpn_output4.bias\u001b[0m\n",
      "  \u001b[35mbackbone.fpn_lateral5.bias\u001b[0m\n",
      "  \u001b[35mbackbone.fpn_output5.bias\u001b[0m\n",
      " 49%|████████████████████                     | 482/987 [39:34<39:09,  4.65s/it]"
     ]
    },
    {
     "name": "stdout",
     "output_type": "stream",
     "text": [
      "12_10_1936_00000004\n",
      "Pages/12_10_1936_00000004.tif.large.jpg\n"
     ]
    },
    {
     "name": "stderr",
     "output_type": "stream",
     "text": [
      "The checkpoint state_dict contains keys that are not used by the model:\n",
      "  \u001b[35mbackbone.fpn_lateral2.bias\u001b[0m\n",
      "  \u001b[35mbackbone.fpn_output2.bias\u001b[0m\n",
      "  \u001b[35mbackbone.fpn_lateral3.bias\u001b[0m\n",
      "  \u001b[35mbackbone.fpn_output3.bias\u001b[0m\n",
      "  \u001b[35mbackbone.fpn_lateral4.bias\u001b[0m\n",
      "  \u001b[35mbackbone.fpn_output4.bias\u001b[0m\n",
      "  \u001b[35mbackbone.fpn_lateral5.bias\u001b[0m\n",
      "  \u001b[35mbackbone.fpn_output5.bias\u001b[0m\n",
      " 49%|████████████████████                     | 483/987 [39:38<38:54,  4.63s/it]"
     ]
    },
    {
     "name": "stdout",
     "output_type": "stream",
     "text": [
      "03_02_1936_00000007\n",
      "Pages/03_02_1936_00000007.tif.large.jpg\n"
     ]
    },
    {
     "name": "stderr",
     "output_type": "stream",
     "text": [
      "The checkpoint state_dict contains keys that are not used by the model:\n",
      "  \u001b[35mbackbone.fpn_lateral2.bias\u001b[0m\n",
      "  \u001b[35mbackbone.fpn_output2.bias\u001b[0m\n",
      "  \u001b[35mbackbone.fpn_lateral3.bias\u001b[0m\n",
      "  \u001b[35mbackbone.fpn_output3.bias\u001b[0m\n",
      "  \u001b[35mbackbone.fpn_lateral4.bias\u001b[0m\n",
      "  \u001b[35mbackbone.fpn_output4.bias\u001b[0m\n",
      "  \u001b[35mbackbone.fpn_lateral5.bias\u001b[0m\n",
      "  \u001b[35mbackbone.fpn_output5.bias\u001b[0m\n",
      " 49%|████████████████████                     | 484/987 [39:43<38:47,  4.63s/it]"
     ]
    },
    {
     "name": "stdout",
     "output_type": "stream",
     "text": [
      "05_12_1936_00000001\n",
      "Pages/05_12_1936_00000001.tif.large.jpg\n"
     ]
    },
    {
     "name": "stderr",
     "output_type": "stream",
     "text": [
      "The checkpoint state_dict contains keys that are not used by the model:\n",
      "  \u001b[35mbackbone.fpn_lateral2.bias\u001b[0m\n",
      "  \u001b[35mbackbone.fpn_output2.bias\u001b[0m\n",
      "  \u001b[35mbackbone.fpn_lateral3.bias\u001b[0m\n",
      "  \u001b[35mbackbone.fpn_output3.bias\u001b[0m\n",
      "  \u001b[35mbackbone.fpn_lateral4.bias\u001b[0m\n",
      "  \u001b[35mbackbone.fpn_output4.bias\u001b[0m\n",
      "  \u001b[35mbackbone.fpn_lateral5.bias\u001b[0m\n",
      "  \u001b[35mbackbone.fpn_output5.bias\u001b[0m\n",
      " 49%|████████████████████▏                    | 485/987 [39:47<38:33,  4.61s/it]"
     ]
    },
    {
     "name": "stdout",
     "output_type": "stream",
     "text": [
      "06_09_1936_00000003\n",
      "Pages/06_09_1936_00000003.tif.large.jpg\n"
     ]
    },
    {
     "name": "stderr",
     "output_type": "stream",
     "text": [
      "The checkpoint state_dict contains keys that are not used by the model:\n",
      "  \u001b[35mbackbone.fpn_lateral2.bias\u001b[0m\n",
      "  \u001b[35mbackbone.fpn_output2.bias\u001b[0m\n",
      "  \u001b[35mbackbone.fpn_lateral3.bias\u001b[0m\n",
      "  \u001b[35mbackbone.fpn_output3.bias\u001b[0m\n",
      "  \u001b[35mbackbone.fpn_lateral4.bias\u001b[0m\n",
      "  \u001b[35mbackbone.fpn_output4.bias\u001b[0m\n",
      "  \u001b[35mbackbone.fpn_lateral5.bias\u001b[0m\n",
      "  \u001b[35mbackbone.fpn_output5.bias\u001b[0m\n",
      " 49%|████████████████████▏                    | 486/987 [39:52<38:42,  4.64s/it]"
     ]
    },
    {
     "name": "stdout",
     "output_type": "stream",
     "text": [
      "25_07_1936_00000008\n",
      "Pages/25_07_1936_00000008.tif.large.jpg\n"
     ]
    },
    {
     "name": "stderr",
     "output_type": "stream",
     "text": [
      "The checkpoint state_dict contains keys that are not used by the model:\n",
      "  \u001b[35mbackbone.fpn_lateral2.bias\u001b[0m\n",
      "  \u001b[35mbackbone.fpn_output2.bias\u001b[0m\n",
      "  \u001b[35mbackbone.fpn_lateral3.bias\u001b[0m\n",
      "  \u001b[35mbackbone.fpn_output3.bias\u001b[0m\n",
      "  \u001b[35mbackbone.fpn_lateral4.bias\u001b[0m\n",
      "  \u001b[35mbackbone.fpn_output4.bias\u001b[0m\n",
      "  \u001b[35mbackbone.fpn_lateral5.bias\u001b[0m\n",
      "  \u001b[35mbackbone.fpn_output5.bias\u001b[0m\n",
      " 49%|████████████████████▏                    | 487/987 [39:57<38:38,  4.64s/it]"
     ]
    },
    {
     "name": "stdout",
     "output_type": "stream",
     "text": [
      "20_11_1936_00000005\n",
      "Pages/20_11_1936_00000005.tif.large.jpg\n"
     ]
    },
    {
     "name": "stderr",
     "output_type": "stream",
     "text": [
      "The checkpoint state_dict contains keys that are not used by the model:\n",
      "  \u001b[35mbackbone.fpn_lateral2.bias\u001b[0m\n",
      "  \u001b[35mbackbone.fpn_output2.bias\u001b[0m\n",
      "  \u001b[35mbackbone.fpn_lateral3.bias\u001b[0m\n",
      "  \u001b[35mbackbone.fpn_output3.bias\u001b[0m\n",
      "  \u001b[35mbackbone.fpn_lateral4.bias\u001b[0m\n",
      "  \u001b[35mbackbone.fpn_output4.bias\u001b[0m\n",
      "  \u001b[35mbackbone.fpn_lateral5.bias\u001b[0m\n",
      "  \u001b[35mbackbone.fpn_output5.bias\u001b[0m\n",
      " 49%|████████████████████▎                    | 488/987 [40:01<39:01,  4.69s/it]"
     ]
    },
    {
     "name": "stdout",
     "output_type": "stream",
     "text": [
      "01_12_1936_00000007\n",
      "Pages/01_12_1936_00000007.tif.large.jpg\n"
     ]
    },
    {
     "name": "stderr",
     "output_type": "stream",
     "text": [
      "The checkpoint state_dict contains keys that are not used by the model:\n",
      "  \u001b[35mbackbone.fpn_lateral2.bias\u001b[0m\n",
      "  \u001b[35mbackbone.fpn_output2.bias\u001b[0m\n",
      "  \u001b[35mbackbone.fpn_lateral3.bias\u001b[0m\n",
      "  \u001b[35mbackbone.fpn_output3.bias\u001b[0m\n",
      "  \u001b[35mbackbone.fpn_lateral4.bias\u001b[0m\n",
      "  \u001b[35mbackbone.fpn_output4.bias\u001b[0m\n",
      "  \u001b[35mbackbone.fpn_lateral5.bias\u001b[0m\n",
      "  \u001b[35mbackbone.fpn_output5.bias\u001b[0m\n",
      " 50%|████████████████████▎                    | 489/987 [40:06<38:47,  4.67s/it]"
     ]
    },
    {
     "name": "stdout",
     "output_type": "stream",
     "text": [
      "06_11_1936_00000002\n",
      "Pages/06_11_1936_00000002.tif.large.jpg\n"
     ]
    },
    {
     "name": "stderr",
     "output_type": "stream",
     "text": [
      "The checkpoint state_dict contains keys that are not used by the model:\n",
      "  \u001b[35mbackbone.fpn_lateral2.bias\u001b[0m\n",
      "  \u001b[35mbackbone.fpn_output2.bias\u001b[0m\n",
      "  \u001b[35mbackbone.fpn_lateral3.bias\u001b[0m\n",
      "  \u001b[35mbackbone.fpn_output3.bias\u001b[0m\n",
      "  \u001b[35mbackbone.fpn_lateral4.bias\u001b[0m\n",
      "  \u001b[35mbackbone.fpn_output4.bias\u001b[0m\n",
      "  \u001b[35mbackbone.fpn_lateral5.bias\u001b[0m\n",
      "  \u001b[35mbackbone.fpn_output5.bias\u001b[0m\n",
      " 50%|████████████████████▎                    | 490/987 [40:11<38:46,  4.68s/it]"
     ]
    },
    {
     "name": "stdout",
     "output_type": "stream",
     "text": [
      "22_01_1936_00000005\n",
      "Pages/22_01_1936_00000005.tif.large.jpg\n"
     ]
    },
    {
     "name": "stderr",
     "output_type": "stream",
     "text": [
      "The checkpoint state_dict contains keys that are not used by the model:\n",
      "  \u001b[35mbackbone.fpn_lateral2.bias\u001b[0m\n",
      "  \u001b[35mbackbone.fpn_output2.bias\u001b[0m\n",
      "  \u001b[35mbackbone.fpn_lateral3.bias\u001b[0m\n",
      "  \u001b[35mbackbone.fpn_output3.bias\u001b[0m\n",
      "  \u001b[35mbackbone.fpn_lateral4.bias\u001b[0m\n",
      "  \u001b[35mbackbone.fpn_output4.bias\u001b[0m\n",
      "  \u001b[35mbackbone.fpn_lateral5.bias\u001b[0m\n",
      "  \u001b[35mbackbone.fpn_output5.bias\u001b[0m\n",
      " 50%|████████████████████▍                    | 491/987 [40:16<38:58,  4.71s/it]"
     ]
    },
    {
     "name": "stdout",
     "output_type": "stream",
     "text": [
      "31_07_1936_00000007\n",
      "Pages/31_07_1936_00000007.tif.large.jpg\n"
     ]
    },
    {
     "name": "stderr",
     "output_type": "stream",
     "text": [
      "The checkpoint state_dict contains keys that are not used by the model:\n",
      "  \u001b[35mbackbone.fpn_lateral2.bias\u001b[0m\n",
      "  \u001b[35mbackbone.fpn_output2.bias\u001b[0m\n",
      "  \u001b[35mbackbone.fpn_lateral3.bias\u001b[0m\n",
      "  \u001b[35mbackbone.fpn_output3.bias\u001b[0m\n",
      "  \u001b[35mbackbone.fpn_lateral4.bias\u001b[0m\n",
      "  \u001b[35mbackbone.fpn_output4.bias\u001b[0m\n",
      "  \u001b[35mbackbone.fpn_lateral5.bias\u001b[0m\n",
      "  \u001b[35mbackbone.fpn_output5.bias\u001b[0m\n",
      " 50%|████████████████████▍                    | 492/987 [40:20<38:31,  4.67s/it]"
     ]
    },
    {
     "name": "stdout",
     "output_type": "stream",
     "text": [
      "24_07_1936_00000006\n",
      "Pages/24_07_1936_00000006.tif.large.jpg\n"
     ]
    },
    {
     "name": "stderr",
     "output_type": "stream",
     "text": [
      "The checkpoint state_dict contains keys that are not used by the model:\n",
      "  \u001b[35mbackbone.fpn_lateral2.bias\u001b[0m\n",
      "  \u001b[35mbackbone.fpn_output2.bias\u001b[0m\n",
      "  \u001b[35mbackbone.fpn_lateral3.bias\u001b[0m\n",
      "  \u001b[35mbackbone.fpn_output3.bias\u001b[0m\n",
      "  \u001b[35mbackbone.fpn_lateral4.bias\u001b[0m\n",
      "  \u001b[35mbackbone.fpn_output4.bias\u001b[0m\n",
      "  \u001b[35mbackbone.fpn_lateral5.bias\u001b[0m\n",
      "  \u001b[35mbackbone.fpn_output5.bias\u001b[0m\n",
      " 50%|████████████████████▍                    | 493/987 [40:25<38:14,  4.65s/it]"
     ]
    },
    {
     "name": "stdout",
     "output_type": "stream",
     "text": [
      "06_11_1936_00000006\n",
      "Pages/06_11_1936_00000006.tif.large.jpg\n"
     ]
    },
    {
     "name": "stderr",
     "output_type": "stream",
     "text": [
      "The checkpoint state_dict contains keys that are not used by the model:\n",
      "  \u001b[35mbackbone.fpn_lateral2.bias\u001b[0m\n",
      "  \u001b[35mbackbone.fpn_output2.bias\u001b[0m\n",
      "  \u001b[35mbackbone.fpn_lateral3.bias\u001b[0m\n",
      "  \u001b[35mbackbone.fpn_output3.bias\u001b[0m\n",
      "  \u001b[35mbackbone.fpn_lateral4.bias\u001b[0m\n",
      "  \u001b[35mbackbone.fpn_output4.bias\u001b[0m\n",
      "  \u001b[35mbackbone.fpn_lateral5.bias\u001b[0m\n",
      "  \u001b[35mbackbone.fpn_output5.bias\u001b[0m\n",
      " 50%|████████████████████▌                    | 494/987 [40:30<38:45,  4.72s/it]"
     ]
    },
    {
     "name": "stdout",
     "output_type": "stream",
     "text": [
      "09_03_1936_00000015\n",
      "Pages/09_03_1936_00000015.tif.large.jpg\n"
     ]
    },
    {
     "name": "stderr",
     "output_type": "stream",
     "text": [
      "The checkpoint state_dict contains keys that are not used by the model:\n",
      "  \u001b[35mbackbone.fpn_lateral2.bias\u001b[0m\n",
      "  \u001b[35mbackbone.fpn_output2.bias\u001b[0m\n",
      "  \u001b[35mbackbone.fpn_lateral3.bias\u001b[0m\n",
      "  \u001b[35mbackbone.fpn_output3.bias\u001b[0m\n",
      "  \u001b[35mbackbone.fpn_lateral4.bias\u001b[0m\n",
      "  \u001b[35mbackbone.fpn_output4.bias\u001b[0m\n",
      "  \u001b[35mbackbone.fpn_lateral5.bias\u001b[0m\n",
      "  \u001b[35mbackbone.fpn_output5.bias\u001b[0m\n",
      " 50%|████████████████████▌                    | 495/987 [40:34<38:33,  4.70s/it]"
     ]
    },
    {
     "name": "stdout",
     "output_type": "stream",
     "text": [
      "02_11_1936_00000005\n",
      "Pages/02_11_1936_00000005.tif.large.jpg\n"
     ]
    },
    {
     "name": "stderr",
     "output_type": "stream",
     "text": [
      "The checkpoint state_dict contains keys that are not used by the model:\n",
      "  \u001b[35mbackbone.fpn_lateral2.bias\u001b[0m\n",
      "  \u001b[35mbackbone.fpn_output2.bias\u001b[0m\n",
      "  \u001b[35mbackbone.fpn_lateral3.bias\u001b[0m\n",
      "  \u001b[35mbackbone.fpn_output3.bias\u001b[0m\n",
      "  \u001b[35mbackbone.fpn_lateral4.bias\u001b[0m\n",
      "  \u001b[35mbackbone.fpn_output4.bias\u001b[0m\n",
      "  \u001b[35mbackbone.fpn_lateral5.bias\u001b[0m\n",
      "  \u001b[35mbackbone.fpn_output5.bias\u001b[0m\n",
      " 50%|████████████████████▌                    | 496/987 [40:39<38:30,  4.71s/it]"
     ]
    },
    {
     "name": "stdout",
     "output_type": "stream",
     "text": [
      "11_09_1936_00000009\n",
      "Pages/11_09_1936_00000009.tif.large.jpg\n"
     ]
    },
    {
     "name": "stderr",
     "output_type": "stream",
     "text": [
      "The checkpoint state_dict contains keys that are not used by the model:\n",
      "  \u001b[35mbackbone.fpn_lateral2.bias\u001b[0m\n",
      "  \u001b[35mbackbone.fpn_output2.bias\u001b[0m\n",
      "  \u001b[35mbackbone.fpn_lateral3.bias\u001b[0m\n",
      "  \u001b[35mbackbone.fpn_output3.bias\u001b[0m\n",
      "  \u001b[35mbackbone.fpn_lateral4.bias\u001b[0m\n",
      "  \u001b[35mbackbone.fpn_output4.bias\u001b[0m\n",
      "  \u001b[35mbackbone.fpn_lateral5.bias\u001b[0m\n",
      "  \u001b[35mbackbone.fpn_output5.bias\u001b[0m\n",
      " 50%|████████████████████▋                    | 497/987 [40:44<38:08,  4.67s/it]"
     ]
    },
    {
     "name": "stdout",
     "output_type": "stream",
     "text": [
      "23_03_1936_00000004\n",
      "Pages/23_03_1936_00000004.tif.large.jpg\n"
     ]
    },
    {
     "name": "stderr",
     "output_type": "stream",
     "text": [
      "The checkpoint state_dict contains keys that are not used by the model:\n",
      "  \u001b[35mbackbone.fpn_lateral2.bias\u001b[0m\n",
      "  \u001b[35mbackbone.fpn_output2.bias\u001b[0m\n",
      "  \u001b[35mbackbone.fpn_lateral3.bias\u001b[0m\n",
      "  \u001b[35mbackbone.fpn_output3.bias\u001b[0m\n",
      "  \u001b[35mbackbone.fpn_lateral4.bias\u001b[0m\n",
      "  \u001b[35mbackbone.fpn_output4.bias\u001b[0m\n",
      "  \u001b[35mbackbone.fpn_lateral5.bias\u001b[0m\n",
      "  \u001b[35mbackbone.fpn_output5.bias\u001b[0m\n",
      " 50%|████████████████████▋                    | 498/987 [40:48<37:36,  4.62s/it]"
     ]
    },
    {
     "name": "stdout",
     "output_type": "stream",
     "text": [
      "22_11_1936_00000006\n",
      "Pages/22_11_1936_00000006.tif.large.jpg\n"
     ]
    },
    {
     "name": "stderr",
     "output_type": "stream",
     "text": [
      "The checkpoint state_dict contains keys that are not used by the model:\n",
      "  \u001b[35mbackbone.fpn_lateral2.bias\u001b[0m\n",
      "  \u001b[35mbackbone.fpn_output2.bias\u001b[0m\n",
      "  \u001b[35mbackbone.fpn_lateral3.bias\u001b[0m\n",
      "  \u001b[35mbackbone.fpn_output3.bias\u001b[0m\n",
      "  \u001b[35mbackbone.fpn_lateral4.bias\u001b[0m\n",
      "  \u001b[35mbackbone.fpn_output4.bias\u001b[0m\n",
      "  \u001b[35mbackbone.fpn_lateral5.bias\u001b[0m\n",
      "  \u001b[35mbackbone.fpn_output5.bias\u001b[0m\n",
      " 51%|████████████████████▋                    | 499/987 [40:53<37:29,  4.61s/it]"
     ]
    },
    {
     "name": "stdout",
     "output_type": "stream",
     "text": [
      "16_12_1936_00000002\n",
      "Pages/16_12_1936_00000002.tif.large.jpg\n"
     ]
    },
    {
     "name": "stderr",
     "output_type": "stream",
     "text": [
      "The checkpoint state_dict contains keys that are not used by the model:\n",
      "  \u001b[35mbackbone.fpn_lateral2.bias\u001b[0m\n",
      "  \u001b[35mbackbone.fpn_output2.bias\u001b[0m\n",
      "  \u001b[35mbackbone.fpn_lateral3.bias\u001b[0m\n",
      "  \u001b[35mbackbone.fpn_output3.bias\u001b[0m\n",
      "  \u001b[35mbackbone.fpn_lateral4.bias\u001b[0m\n",
      "  \u001b[35mbackbone.fpn_output4.bias\u001b[0m\n",
      "  \u001b[35mbackbone.fpn_lateral5.bias\u001b[0m\n",
      "  \u001b[35mbackbone.fpn_output5.bias\u001b[0m\n",
      " 51%|████████████████████▊                    | 500/987 [40:57<37:28,  4.62s/it]"
     ]
    },
    {
     "name": "stdout",
     "output_type": "stream",
     "text": [
      "15_04_1936_00000006\n",
      "Pages/15_04_1936_00000006.tif.large.jpg\n"
     ]
    },
    {
     "name": "stderr",
     "output_type": "stream",
     "text": [
      "The checkpoint state_dict contains keys that are not used by the model:\n",
      "  \u001b[35mbackbone.fpn_lateral2.bias\u001b[0m\n",
      "  \u001b[35mbackbone.fpn_output2.bias\u001b[0m\n",
      "  \u001b[35mbackbone.fpn_lateral3.bias\u001b[0m\n",
      "  \u001b[35mbackbone.fpn_output3.bias\u001b[0m\n",
      "  \u001b[35mbackbone.fpn_lateral4.bias\u001b[0m\n",
      "  \u001b[35mbackbone.fpn_output4.bias\u001b[0m\n",
      "  \u001b[35mbackbone.fpn_lateral5.bias\u001b[0m\n",
      "  \u001b[35mbackbone.fpn_output5.bias\u001b[0m\n",
      " 51%|████████████████████▊                    | 501/987 [41:02<37:20,  4.61s/it]"
     ]
    },
    {
     "name": "stdout",
     "output_type": "stream",
     "text": [
      "11_10_1936_00000002\n",
      "Pages/11_10_1936_00000002.tif.large.jpg\n"
     ]
    },
    {
     "name": "stderr",
     "output_type": "stream",
     "text": [
      "The checkpoint state_dict contains keys that are not used by the model:\n",
      "  \u001b[35mbackbone.fpn_lateral2.bias\u001b[0m\n",
      "  \u001b[35mbackbone.fpn_output2.bias\u001b[0m\n",
      "  \u001b[35mbackbone.fpn_lateral3.bias\u001b[0m\n",
      "  \u001b[35mbackbone.fpn_output3.bias\u001b[0m\n",
      "  \u001b[35mbackbone.fpn_lateral4.bias\u001b[0m\n",
      "  \u001b[35mbackbone.fpn_output4.bias\u001b[0m\n",
      "  \u001b[35mbackbone.fpn_lateral5.bias\u001b[0m\n",
      "  \u001b[35mbackbone.fpn_output5.bias\u001b[0m\n",
      " 51%|████████████████████▊                    | 502/987 [41:06<37:03,  4.59s/it]"
     ]
    },
    {
     "name": "stdout",
     "output_type": "stream",
     "text": [
      "18_08_1936_00000010\n",
      "Pages/18_08_1936_00000010.tif.large.jpg\n"
     ]
    },
    {
     "name": "stderr",
     "output_type": "stream",
     "text": [
      "The checkpoint state_dict contains keys that are not used by the model:\n",
      "  \u001b[35mbackbone.fpn_lateral2.bias\u001b[0m\n",
      "  \u001b[35mbackbone.fpn_output2.bias\u001b[0m\n",
      "  \u001b[35mbackbone.fpn_lateral3.bias\u001b[0m\n",
      "  \u001b[35mbackbone.fpn_output3.bias\u001b[0m\n",
      "  \u001b[35mbackbone.fpn_lateral4.bias\u001b[0m\n",
      "  \u001b[35mbackbone.fpn_output4.bias\u001b[0m\n",
      "  \u001b[35mbackbone.fpn_lateral5.bias\u001b[0m\n",
      "  \u001b[35mbackbone.fpn_output5.bias\u001b[0m\n",
      " 51%|████████████████████▉                    | 503/987 [41:11<37:26,  4.64s/it]"
     ]
    },
    {
     "name": "stdout",
     "output_type": "stream",
     "text": [
      "17_08_1936_00000006\n",
      "Pages/17_08_1936_00000006.tif.large.jpg\n"
     ]
    },
    {
     "name": "stderr",
     "output_type": "stream",
     "text": [
      "The checkpoint state_dict contains keys that are not used by the model:\n",
      "  \u001b[35mbackbone.fpn_lateral2.bias\u001b[0m\n",
      "  \u001b[35mbackbone.fpn_output2.bias\u001b[0m\n",
      "  \u001b[35mbackbone.fpn_lateral3.bias\u001b[0m\n",
      "  \u001b[35mbackbone.fpn_output3.bias\u001b[0m\n",
      "  \u001b[35mbackbone.fpn_lateral4.bias\u001b[0m\n",
      "  \u001b[35mbackbone.fpn_output4.bias\u001b[0m\n",
      "  \u001b[35mbackbone.fpn_lateral5.bias\u001b[0m\n",
      "  \u001b[35mbackbone.fpn_output5.bias\u001b[0m\n",
      " 51%|████████████████████▉                    | 504/987 [41:16<37:15,  4.63s/it]"
     ]
    },
    {
     "name": "stdout",
     "output_type": "stream",
     "text": [
      "18_10_1936_00000008\n",
      "Pages/18_10_1936_00000008.tif.large.jpg\n"
     ]
    },
    {
     "name": "stderr",
     "output_type": "stream",
     "text": [
      "The checkpoint state_dict contains keys that are not used by the model:\n",
      "  \u001b[35mbackbone.fpn_lateral2.bias\u001b[0m\n",
      "  \u001b[35mbackbone.fpn_output2.bias\u001b[0m\n",
      "  \u001b[35mbackbone.fpn_lateral3.bias\u001b[0m\n",
      "  \u001b[35mbackbone.fpn_output3.bias\u001b[0m\n",
      "  \u001b[35mbackbone.fpn_lateral4.bias\u001b[0m\n",
      "  \u001b[35mbackbone.fpn_output4.bias\u001b[0m\n",
      "  \u001b[35mbackbone.fpn_lateral5.bias\u001b[0m\n",
      "  \u001b[35mbackbone.fpn_output5.bias\u001b[0m\n",
      " 51%|████████████████████▉                    | 505/987 [41:20<37:05,  4.62s/it]"
     ]
    },
    {
     "name": "stdout",
     "output_type": "stream",
     "text": [
      "11_04_1936_00000003\n",
      "Pages/11_04_1936_00000003.tif.large.jpg\n"
     ]
    },
    {
     "name": "stderr",
     "output_type": "stream",
     "text": [
      "The checkpoint state_dict contains keys that are not used by the model:\n",
      "  \u001b[35mbackbone.fpn_lateral2.bias\u001b[0m\n",
      "  \u001b[35mbackbone.fpn_output2.bias\u001b[0m\n",
      "  \u001b[35mbackbone.fpn_lateral3.bias\u001b[0m\n",
      "  \u001b[35mbackbone.fpn_output3.bias\u001b[0m\n",
      "  \u001b[35mbackbone.fpn_lateral4.bias\u001b[0m\n",
      "  \u001b[35mbackbone.fpn_output4.bias\u001b[0m\n",
      "  \u001b[35mbackbone.fpn_lateral5.bias\u001b[0m\n",
      "  \u001b[35mbackbone.fpn_output5.bias\u001b[0m\n",
      " 51%|█████████████████████                    | 506/987 [41:25<36:58,  4.61s/it]"
     ]
    },
    {
     "name": "stdout",
     "output_type": "stream",
     "text": [
      "26_02_1936_00000003\n",
      "Pages/26_02_1936_00000003.tif.large.jpg\n"
     ]
    },
    {
     "name": "stderr",
     "output_type": "stream",
     "text": [
      "The checkpoint state_dict contains keys that are not used by the model:\n",
      "  \u001b[35mbackbone.fpn_lateral2.bias\u001b[0m\n",
      "  \u001b[35mbackbone.fpn_output2.bias\u001b[0m\n",
      "  \u001b[35mbackbone.fpn_lateral3.bias\u001b[0m\n",
      "  \u001b[35mbackbone.fpn_output3.bias\u001b[0m\n",
      "  \u001b[35mbackbone.fpn_lateral4.bias\u001b[0m\n",
      "  \u001b[35mbackbone.fpn_output4.bias\u001b[0m\n",
      "  \u001b[35mbackbone.fpn_lateral5.bias\u001b[0m\n",
      "  \u001b[35mbackbone.fpn_output5.bias\u001b[0m\n",
      " 51%|█████████████████████                    | 507/987 [41:30<36:53,  4.61s/it]"
     ]
    },
    {
     "name": "stdout",
     "output_type": "stream",
     "text": [
      "25_11_1936_00000001\n",
      "Pages/25_11_1936_00000001.tif.large.jpg\n"
     ]
    },
    {
     "name": "stderr",
     "output_type": "stream",
     "text": [
      "The checkpoint state_dict contains keys that are not used by the model:\n",
      "  \u001b[35mbackbone.fpn_lateral2.bias\u001b[0m\n",
      "  \u001b[35mbackbone.fpn_output2.bias\u001b[0m\n",
      "  \u001b[35mbackbone.fpn_lateral3.bias\u001b[0m\n",
      "  \u001b[35mbackbone.fpn_output3.bias\u001b[0m\n",
      "  \u001b[35mbackbone.fpn_lateral4.bias\u001b[0m\n",
      "  \u001b[35mbackbone.fpn_output4.bias\u001b[0m\n",
      "  \u001b[35mbackbone.fpn_lateral5.bias\u001b[0m\n",
      "  \u001b[35mbackbone.fpn_output5.bias\u001b[0m\n",
      " 51%|█████████████████████                    | 508/987 [41:34<37:05,  4.65s/it]"
     ]
    },
    {
     "name": "stdout",
     "output_type": "stream",
     "text": [
      "16_08_1936_00000006\n",
      "Pages/16_08_1936_00000006.tif.large.jpg\n"
     ]
    },
    {
     "name": "stderr",
     "output_type": "stream",
     "text": [
      "The checkpoint state_dict contains keys that are not used by the model:\n",
      "  \u001b[35mbackbone.fpn_lateral2.bias\u001b[0m\n",
      "  \u001b[35mbackbone.fpn_output2.bias\u001b[0m\n",
      "  \u001b[35mbackbone.fpn_lateral3.bias\u001b[0m\n",
      "  \u001b[35mbackbone.fpn_output3.bias\u001b[0m\n",
      "  \u001b[35mbackbone.fpn_lateral4.bias\u001b[0m\n",
      "  \u001b[35mbackbone.fpn_output4.bias\u001b[0m\n",
      "  \u001b[35mbackbone.fpn_lateral5.bias\u001b[0m\n",
      "  \u001b[35mbackbone.fpn_output5.bias\u001b[0m\n",
      " 52%|█████████████████████▏                   | 509/987 [41:39<36:49,  4.62s/it]"
     ]
    },
    {
     "name": "stdout",
     "output_type": "stream",
     "text": [
      "13_08_1936_00000017\n",
      "Pages/13_08_1936_00000017.tif.large.jpg\n"
     ]
    },
    {
     "name": "stderr",
     "output_type": "stream",
     "text": [
      "The checkpoint state_dict contains keys that are not used by the model:\n",
      "  \u001b[35mbackbone.fpn_lateral2.bias\u001b[0m\n",
      "  \u001b[35mbackbone.fpn_output2.bias\u001b[0m\n",
      "  \u001b[35mbackbone.fpn_lateral3.bias\u001b[0m\n",
      "  \u001b[35mbackbone.fpn_output3.bias\u001b[0m\n",
      "  \u001b[35mbackbone.fpn_lateral4.bias\u001b[0m\n",
      "  \u001b[35mbackbone.fpn_output4.bias\u001b[0m\n",
      "  \u001b[35mbackbone.fpn_lateral5.bias\u001b[0m\n",
      "  \u001b[35mbackbone.fpn_output5.bias\u001b[0m\n",
      " 52%|█████████████████████▏                   | 510/987 [41:43<36:28,  4.59s/it]"
     ]
    },
    {
     "name": "stdout",
     "output_type": "stream",
     "text": [
      "22_03_1936_00000017\n",
      "Pages/22_03_1936_00000017.tif.large.jpg\n"
     ]
    },
    {
     "name": "stderr",
     "output_type": "stream",
     "text": [
      "The checkpoint state_dict contains keys that are not used by the model:\n",
      "  \u001b[35mbackbone.fpn_lateral2.bias\u001b[0m\n",
      "  \u001b[35mbackbone.fpn_output2.bias\u001b[0m\n",
      "  \u001b[35mbackbone.fpn_lateral3.bias\u001b[0m\n",
      "  \u001b[35mbackbone.fpn_output3.bias\u001b[0m\n",
      "  \u001b[35mbackbone.fpn_lateral4.bias\u001b[0m\n",
      "  \u001b[35mbackbone.fpn_output4.bias\u001b[0m\n",
      "  \u001b[35mbackbone.fpn_lateral5.bias\u001b[0m\n",
      "  \u001b[35mbackbone.fpn_output5.bias\u001b[0m\n",
      " 52%|█████████████████████▏                   | 511/987 [41:48<36:14,  4.57s/it]"
     ]
    },
    {
     "name": "stdout",
     "output_type": "stream",
     "text": [
      "14_04_1936_00000001\n",
      "Pages/14_04_1936_00000001.tif.large.jpg\n"
     ]
    },
    {
     "name": "stderr",
     "output_type": "stream",
     "text": [
      "The checkpoint state_dict contains keys that are not used by the model:\n",
      "  \u001b[35mbackbone.fpn_lateral2.bias\u001b[0m\n",
      "  \u001b[35mbackbone.fpn_output2.bias\u001b[0m\n",
      "  \u001b[35mbackbone.fpn_lateral3.bias\u001b[0m\n",
      "  \u001b[35mbackbone.fpn_output3.bias\u001b[0m\n",
      "  \u001b[35mbackbone.fpn_lateral4.bias\u001b[0m\n",
      "  \u001b[35mbackbone.fpn_output4.bias\u001b[0m\n",
      "  \u001b[35mbackbone.fpn_lateral5.bias\u001b[0m\n",
      "  \u001b[35mbackbone.fpn_output5.bias\u001b[0m\n",
      " 52%|█████████████████████▎                   | 512/987 [41:53<36:13,  4.58s/it]"
     ]
    },
    {
     "name": "stdout",
     "output_type": "stream",
     "text": [
      "13_12_1936_00000044\n",
      "Pages/13_12_1936_00000044.tif.large.jpg\n"
     ]
    },
    {
     "name": "stderr",
     "output_type": "stream",
     "text": [
      "The checkpoint state_dict contains keys that are not used by the model:\n",
      "  \u001b[35mbackbone.fpn_lateral2.bias\u001b[0m\n",
      "  \u001b[35mbackbone.fpn_output2.bias\u001b[0m\n",
      "  \u001b[35mbackbone.fpn_lateral3.bias\u001b[0m\n",
      "  \u001b[35mbackbone.fpn_output3.bias\u001b[0m\n",
      "  \u001b[35mbackbone.fpn_lateral4.bias\u001b[0m\n",
      "  \u001b[35mbackbone.fpn_output4.bias\u001b[0m\n",
      "  \u001b[35mbackbone.fpn_lateral5.bias\u001b[0m\n",
      "  \u001b[35mbackbone.fpn_output5.bias\u001b[0m\n",
      " 52%|█████████████████████▎                   | 513/987 [41:57<36:07,  4.57s/it]"
     ]
    },
    {
     "name": "stdout",
     "output_type": "stream",
     "text": [
      "08_04_1936_00000005\n",
      "Pages/08_04_1936_00000005.tif.large.jpg\n"
     ]
    },
    {
     "name": "stderr",
     "output_type": "stream",
     "text": [
      "The checkpoint state_dict contains keys that are not used by the model:\n",
      "  \u001b[35mbackbone.fpn_lateral2.bias\u001b[0m\n",
      "  \u001b[35mbackbone.fpn_output2.bias\u001b[0m\n",
      "  \u001b[35mbackbone.fpn_lateral3.bias\u001b[0m\n",
      "  \u001b[35mbackbone.fpn_output3.bias\u001b[0m\n",
      "  \u001b[35mbackbone.fpn_lateral4.bias\u001b[0m\n",
      "  \u001b[35mbackbone.fpn_output4.bias\u001b[0m\n",
      "  \u001b[35mbackbone.fpn_lateral5.bias\u001b[0m\n",
      "  \u001b[35mbackbone.fpn_output5.bias\u001b[0m\n",
      " 52%|█████████████████████▎                   | 514/987 [42:02<35:48,  4.54s/it]"
     ]
    },
    {
     "name": "stdout",
     "output_type": "stream",
     "text": [
      "21_10_1936_00000003\n",
      "Pages/21_10_1936_00000003.tif.large.jpg\n"
     ]
    },
    {
     "name": "stderr",
     "output_type": "stream",
     "text": [
      "The checkpoint state_dict contains keys that are not used by the model:\n",
      "  \u001b[35mbackbone.fpn_lateral2.bias\u001b[0m\n",
      "  \u001b[35mbackbone.fpn_output2.bias\u001b[0m\n",
      "  \u001b[35mbackbone.fpn_lateral3.bias\u001b[0m\n",
      "  \u001b[35mbackbone.fpn_output3.bias\u001b[0m\n",
      "  \u001b[35mbackbone.fpn_lateral4.bias\u001b[0m\n",
      "  \u001b[35mbackbone.fpn_output4.bias\u001b[0m\n",
      "  \u001b[35mbackbone.fpn_lateral5.bias\u001b[0m\n",
      "  \u001b[35mbackbone.fpn_output5.bias\u001b[0m\n",
      " 52%|█████████████████████▍                   | 515/987 [42:06<36:11,  4.60s/it]"
     ]
    },
    {
     "name": "stdout",
     "output_type": "stream",
     "text": [
      "01_10_1936_00000004\n",
      "Pages/01_10_1936_00000004.tif.large.jpg\n"
     ]
    },
    {
     "name": "stderr",
     "output_type": "stream",
     "text": [
      "The checkpoint state_dict contains keys that are not used by the model:\n",
      "  \u001b[35mbackbone.fpn_lateral2.bias\u001b[0m\n",
      "  \u001b[35mbackbone.fpn_output2.bias\u001b[0m\n",
      "  \u001b[35mbackbone.fpn_lateral3.bias\u001b[0m\n",
      "  \u001b[35mbackbone.fpn_output3.bias\u001b[0m\n",
      "  \u001b[35mbackbone.fpn_lateral4.bias\u001b[0m\n",
      "  \u001b[35mbackbone.fpn_output4.bias\u001b[0m\n",
      "  \u001b[35mbackbone.fpn_lateral5.bias\u001b[0m\n",
      "  \u001b[35mbackbone.fpn_output5.bias\u001b[0m\n",
      " 52%|█████████████████████▍                   | 516/987 [42:11<36:38,  4.67s/it]"
     ]
    },
    {
     "name": "stdout",
     "output_type": "stream",
     "text": [
      "12_04_1936_00000004\n",
      "Pages/12_04_1936_00000004.tif.large.jpg\n"
     ]
    },
    {
     "name": "stderr",
     "output_type": "stream",
     "text": [
      "The checkpoint state_dict contains keys that are not used by the model:\n",
      "  \u001b[35mbackbone.fpn_lateral2.bias\u001b[0m\n",
      "  \u001b[35mbackbone.fpn_output2.bias\u001b[0m\n",
      "  \u001b[35mbackbone.fpn_lateral3.bias\u001b[0m\n",
      "  \u001b[35mbackbone.fpn_output3.bias\u001b[0m\n",
      "  \u001b[35mbackbone.fpn_lateral4.bias\u001b[0m\n",
      "  \u001b[35mbackbone.fpn_output4.bias\u001b[0m\n",
      "  \u001b[35mbackbone.fpn_lateral5.bias\u001b[0m\n",
      "  \u001b[35mbackbone.fpn_output5.bias\u001b[0m\n",
      " 52%|█████████████████████▍                   | 517/987 [42:16<36:28,  4.66s/it]"
     ]
    },
    {
     "name": "stdout",
     "output_type": "stream",
     "text": [
      "05_04_1936_00000006\n",
      "Pages/05_04_1936_00000006.tif.large.jpg\n"
     ]
    },
    {
     "name": "stderr",
     "output_type": "stream",
     "text": [
      "The checkpoint state_dict contains keys that are not used by the model:\n",
      "  \u001b[35mbackbone.fpn_lateral2.bias\u001b[0m\n",
      "  \u001b[35mbackbone.fpn_output2.bias\u001b[0m\n",
      "  \u001b[35mbackbone.fpn_lateral3.bias\u001b[0m\n",
      "  \u001b[35mbackbone.fpn_output3.bias\u001b[0m\n",
      "  \u001b[35mbackbone.fpn_lateral4.bias\u001b[0m\n",
      "  \u001b[35mbackbone.fpn_output4.bias\u001b[0m\n",
      "  \u001b[35mbackbone.fpn_lateral5.bias\u001b[0m\n",
      "  \u001b[35mbackbone.fpn_output5.bias\u001b[0m\n",
      " 52%|█████████████████████▌                   | 518/987 [42:20<36:02,  4.61s/it]"
     ]
    },
    {
     "name": "stdout",
     "output_type": "stream",
     "text": [
      "07_10_1936_00000004\n",
      "Pages/07_10_1936_00000004.tif.large.jpg\n"
     ]
    },
    {
     "name": "stderr",
     "output_type": "stream",
     "text": [
      "The checkpoint state_dict contains keys that are not used by the model:\n",
      "  \u001b[35mbackbone.fpn_lateral2.bias\u001b[0m\n",
      "  \u001b[35mbackbone.fpn_output2.bias\u001b[0m\n",
      "  \u001b[35mbackbone.fpn_lateral3.bias\u001b[0m\n",
      "  \u001b[35mbackbone.fpn_output3.bias\u001b[0m\n",
      "  \u001b[35mbackbone.fpn_lateral4.bias\u001b[0m\n",
      "  \u001b[35mbackbone.fpn_output4.bias\u001b[0m\n",
      "  \u001b[35mbackbone.fpn_lateral5.bias\u001b[0m\n",
      "  \u001b[35mbackbone.fpn_output5.bias\u001b[0m\n",
      " 53%|█████████████████████▌                   | 519/987 [42:25<35:38,  4.57s/it]"
     ]
    },
    {
     "name": "stdout",
     "output_type": "stream",
     "text": [
      "22_09_1936_00000014\n",
      "Pages/22_09_1936_00000014.tif.large.jpg\n"
     ]
    },
    {
     "name": "stderr",
     "output_type": "stream",
     "text": [
      "The checkpoint state_dict contains keys that are not used by the model:\n",
      "  \u001b[35mbackbone.fpn_lateral2.bias\u001b[0m\n",
      "  \u001b[35mbackbone.fpn_output2.bias\u001b[0m\n",
      "  \u001b[35mbackbone.fpn_lateral3.bias\u001b[0m\n",
      "  \u001b[35mbackbone.fpn_output3.bias\u001b[0m\n",
      "  \u001b[35mbackbone.fpn_lateral4.bias\u001b[0m\n",
      "  \u001b[35mbackbone.fpn_output4.bias\u001b[0m\n",
      "  \u001b[35mbackbone.fpn_lateral5.bias\u001b[0m\n",
      "  \u001b[35mbackbone.fpn_output5.bias\u001b[0m\n",
      " 53%|█████████████████████▌                   | 520/987 [42:29<35:30,  4.56s/it]"
     ]
    },
    {
     "name": "stdout",
     "output_type": "stream",
     "text": [
      "13_03_1936_00000002\n",
      "Pages/13_03_1936_00000002.tif.large.jpg\n"
     ]
    },
    {
     "name": "stderr",
     "output_type": "stream",
     "text": [
      "The checkpoint state_dict contains keys that are not used by the model:\n",
      "  \u001b[35mbackbone.fpn_lateral2.bias\u001b[0m\n",
      "  \u001b[35mbackbone.fpn_output2.bias\u001b[0m\n",
      "  \u001b[35mbackbone.fpn_lateral3.bias\u001b[0m\n",
      "  \u001b[35mbackbone.fpn_output3.bias\u001b[0m\n",
      "  \u001b[35mbackbone.fpn_lateral4.bias\u001b[0m\n",
      "  \u001b[35mbackbone.fpn_output4.bias\u001b[0m\n",
      "  \u001b[35mbackbone.fpn_lateral5.bias\u001b[0m\n",
      "  \u001b[35mbackbone.fpn_output5.bias\u001b[0m\n",
      " 53%|█████████████████████▋                   | 521/987 [42:34<35:51,  4.62s/it]"
     ]
    },
    {
     "name": "stdout",
     "output_type": "stream",
     "text": [
      "08_08_1936_00000006\n",
      "Pages/08_08_1936_00000006.tif.large.jpg\n"
     ]
    },
    {
     "name": "stderr",
     "output_type": "stream",
     "text": [
      "The checkpoint state_dict contains keys that are not used by the model:\n",
      "  \u001b[35mbackbone.fpn_lateral2.bias\u001b[0m\n",
      "  \u001b[35mbackbone.fpn_output2.bias\u001b[0m\n",
      "  \u001b[35mbackbone.fpn_lateral3.bias\u001b[0m\n",
      "  \u001b[35mbackbone.fpn_output3.bias\u001b[0m\n",
      "  \u001b[35mbackbone.fpn_lateral4.bias\u001b[0m\n",
      "  \u001b[35mbackbone.fpn_output4.bias\u001b[0m\n",
      "  \u001b[35mbackbone.fpn_lateral5.bias\u001b[0m\n",
      "  \u001b[35mbackbone.fpn_output5.bias\u001b[0m\n",
      " 53%|█████████████████████▋                   | 522/987 [42:39<35:54,  4.63s/it]"
     ]
    },
    {
     "name": "stdout",
     "output_type": "stream",
     "text": [
      "24_09_1936_00000010\n",
      "Pages/24_09_1936_00000010.tif.large.jpg\n"
     ]
    },
    {
     "name": "stderr",
     "output_type": "stream",
     "text": [
      "The checkpoint state_dict contains keys that are not used by the model:\n",
      "  \u001b[35mbackbone.fpn_lateral2.bias\u001b[0m\n",
      "  \u001b[35mbackbone.fpn_output2.bias\u001b[0m\n",
      "  \u001b[35mbackbone.fpn_lateral3.bias\u001b[0m\n",
      "  \u001b[35mbackbone.fpn_output3.bias\u001b[0m\n",
      "  \u001b[35mbackbone.fpn_lateral4.bias\u001b[0m\n",
      "  \u001b[35mbackbone.fpn_output4.bias\u001b[0m\n",
      "  \u001b[35mbackbone.fpn_lateral5.bias\u001b[0m\n",
      "  \u001b[35mbackbone.fpn_output5.bias\u001b[0m\n",
      " 53%|█████████████████████▋                   | 523/987 [42:43<35:52,  4.64s/it]"
     ]
    },
    {
     "name": "stdout",
     "output_type": "stream",
     "text": [
      "23_09_1936_00000007\n",
      "Pages/23_09_1936_00000007.tif.large.jpg\n"
     ]
    },
    {
     "name": "stderr",
     "output_type": "stream",
     "text": [
      "The checkpoint state_dict contains keys that are not used by the model:\n",
      "  \u001b[35mbackbone.fpn_lateral2.bias\u001b[0m\n",
      "  \u001b[35mbackbone.fpn_output2.bias\u001b[0m\n",
      "  \u001b[35mbackbone.fpn_lateral3.bias\u001b[0m\n",
      "  \u001b[35mbackbone.fpn_output3.bias\u001b[0m\n",
      "  \u001b[35mbackbone.fpn_lateral4.bias\u001b[0m\n",
      "  \u001b[35mbackbone.fpn_output4.bias\u001b[0m\n",
      "  \u001b[35mbackbone.fpn_lateral5.bias\u001b[0m\n",
      "  \u001b[35mbackbone.fpn_output5.bias\u001b[0m\n",
      " 53%|█████████████████████▊                   | 524/987 [42:48<35:45,  4.63s/it]"
     ]
    },
    {
     "name": "stdout",
     "output_type": "stream",
     "text": [
      "31_07_1936_00000017\n",
      "Pages/31_07_1936_00000017.tif.large.jpg\n"
     ]
    },
    {
     "name": "stderr",
     "output_type": "stream",
     "text": [
      "The checkpoint state_dict contains keys that are not used by the model:\n",
      "  \u001b[35mbackbone.fpn_lateral2.bias\u001b[0m\n",
      "  \u001b[35mbackbone.fpn_output2.bias\u001b[0m\n",
      "  \u001b[35mbackbone.fpn_lateral3.bias\u001b[0m\n",
      "  \u001b[35mbackbone.fpn_output3.bias\u001b[0m\n",
      "  \u001b[35mbackbone.fpn_lateral4.bias\u001b[0m\n",
      "  \u001b[35mbackbone.fpn_output4.bias\u001b[0m\n",
      "  \u001b[35mbackbone.fpn_lateral5.bias\u001b[0m\n",
      "  \u001b[35mbackbone.fpn_output5.bias\u001b[0m\n",
      " 53%|█████████████████████▊                   | 525/987 [42:53<35:34,  4.62s/it]"
     ]
    },
    {
     "name": "stdout",
     "output_type": "stream",
     "text": [
      "26_04_1936_00000008\n",
      "Pages/26_04_1936_00000008.tif.large.jpg\n"
     ]
    },
    {
     "name": "stderr",
     "output_type": "stream",
     "text": [
      "The checkpoint state_dict contains keys that are not used by the model:\n",
      "  \u001b[35mbackbone.fpn_lateral2.bias\u001b[0m\n",
      "  \u001b[35mbackbone.fpn_output2.bias\u001b[0m\n",
      "  \u001b[35mbackbone.fpn_lateral3.bias\u001b[0m\n",
      "  \u001b[35mbackbone.fpn_output3.bias\u001b[0m\n",
      "  \u001b[35mbackbone.fpn_lateral4.bias\u001b[0m\n",
      "  \u001b[35mbackbone.fpn_output4.bias\u001b[0m\n",
      "  \u001b[35mbackbone.fpn_lateral5.bias\u001b[0m\n",
      "  \u001b[35mbackbone.fpn_output5.bias\u001b[0m\n",
      " 53%|█████████████████████▊                   | 526/987 [42:57<35:49,  4.66s/it]"
     ]
    },
    {
     "name": "stdout",
     "output_type": "stream",
     "text": [
      "17_08_1936_00000008\n",
      "Pages/17_08_1936_00000008.tif.large.jpg\n"
     ]
    },
    {
     "name": "stderr",
     "output_type": "stream",
     "text": [
      "The checkpoint state_dict contains keys that are not used by the model:\n",
      "  \u001b[35mbackbone.fpn_lateral2.bias\u001b[0m\n",
      "  \u001b[35mbackbone.fpn_output2.bias\u001b[0m\n",
      "  \u001b[35mbackbone.fpn_lateral3.bias\u001b[0m\n",
      "  \u001b[35mbackbone.fpn_output3.bias\u001b[0m\n",
      "  \u001b[35mbackbone.fpn_lateral4.bias\u001b[0m\n",
      "  \u001b[35mbackbone.fpn_output4.bias\u001b[0m\n",
      "  \u001b[35mbackbone.fpn_lateral5.bias\u001b[0m\n",
      "  \u001b[35mbackbone.fpn_output5.bias\u001b[0m\n",
      " 53%|█████████████████████▉                   | 527/987 [43:02<35:38,  4.65s/it]"
     ]
    },
    {
     "name": "stdout",
     "output_type": "stream",
     "text": [
      "02_12_1936_00000017\n",
      "Pages/02_12_1936_00000017.tif.large.jpg\n"
     ]
    },
    {
     "name": "stderr",
     "output_type": "stream",
     "text": [
      "The checkpoint state_dict contains keys that are not used by the model:\n",
      "  \u001b[35mbackbone.fpn_lateral2.bias\u001b[0m\n",
      "  \u001b[35mbackbone.fpn_output2.bias\u001b[0m\n",
      "  \u001b[35mbackbone.fpn_lateral3.bias\u001b[0m\n",
      "  \u001b[35mbackbone.fpn_output3.bias\u001b[0m\n",
      "  \u001b[35mbackbone.fpn_lateral4.bias\u001b[0m\n",
      "  \u001b[35mbackbone.fpn_output4.bias\u001b[0m\n",
      "  \u001b[35mbackbone.fpn_lateral5.bias\u001b[0m\n",
      "  \u001b[35mbackbone.fpn_output5.bias\u001b[0m\n",
      " 53%|█████████████████████▉                   | 528/987 [43:07<35:49,  4.68s/it]"
     ]
    },
    {
     "name": "stdout",
     "output_type": "stream",
     "text": [
      "07_12_1936_00000002\n",
      "Pages/07_12_1936_00000002.tif.large.jpg\n"
     ]
    },
    {
     "name": "stderr",
     "output_type": "stream",
     "text": [
      "The checkpoint state_dict contains keys that are not used by the model:\n",
      "  \u001b[35mbackbone.fpn_lateral2.bias\u001b[0m\n",
      "  \u001b[35mbackbone.fpn_output2.bias\u001b[0m\n",
      "  \u001b[35mbackbone.fpn_lateral3.bias\u001b[0m\n",
      "  \u001b[35mbackbone.fpn_output3.bias\u001b[0m\n",
      "  \u001b[35mbackbone.fpn_lateral4.bias\u001b[0m\n",
      "  \u001b[35mbackbone.fpn_output4.bias\u001b[0m\n",
      "  \u001b[35mbackbone.fpn_lateral5.bias\u001b[0m\n",
      "  \u001b[35mbackbone.fpn_output5.bias\u001b[0m\n",
      " 54%|█████████████████████▉                   | 529/987 [43:11<35:35,  4.66s/it]"
     ]
    },
    {
     "name": "stdout",
     "output_type": "stream",
     "text": [
      "20_07_1936_00000011\n",
      "Pages/20_07_1936_00000011.tif.large.jpg\n"
     ]
    },
    {
     "name": "stderr",
     "output_type": "stream",
     "text": [
      "The checkpoint state_dict contains keys that are not used by the model:\n",
      "  \u001b[35mbackbone.fpn_lateral2.bias\u001b[0m\n",
      "  \u001b[35mbackbone.fpn_output2.bias\u001b[0m\n",
      "  \u001b[35mbackbone.fpn_lateral3.bias\u001b[0m\n",
      "  \u001b[35mbackbone.fpn_output3.bias\u001b[0m\n",
      "  \u001b[35mbackbone.fpn_lateral4.bias\u001b[0m\n",
      "  \u001b[35mbackbone.fpn_output4.bias\u001b[0m\n",
      "  \u001b[35mbackbone.fpn_lateral5.bias\u001b[0m\n",
      "  \u001b[35mbackbone.fpn_output5.bias\u001b[0m\n",
      " 54%|██████████████████████                   | 530/987 [43:16<35:15,  4.63s/it]"
     ]
    },
    {
     "name": "stdout",
     "output_type": "stream",
     "text": [
      "16_03_1936_00000008\n",
      "Pages/16_03_1936_00000008.tif.large.jpg\n"
     ]
    },
    {
     "name": "stderr",
     "output_type": "stream",
     "text": [
      "The checkpoint state_dict contains keys that are not used by the model:\n",
      "  \u001b[35mbackbone.fpn_lateral2.bias\u001b[0m\n",
      "  \u001b[35mbackbone.fpn_output2.bias\u001b[0m\n",
      "  \u001b[35mbackbone.fpn_lateral3.bias\u001b[0m\n",
      "  \u001b[35mbackbone.fpn_output3.bias\u001b[0m\n",
      "  \u001b[35mbackbone.fpn_lateral4.bias\u001b[0m\n",
      "  \u001b[35mbackbone.fpn_output4.bias\u001b[0m\n",
      "  \u001b[35mbackbone.fpn_lateral5.bias\u001b[0m\n",
      "  \u001b[35mbackbone.fpn_output5.bias\u001b[0m\n",
      " 54%|██████████████████████                   | 531/987 [43:21<35:22,  4.65s/it]"
     ]
    },
    {
     "name": "stdout",
     "output_type": "stream",
     "text": [
      "06_04_1936_00000006\n",
      "Pages/06_04_1936_00000006.tif.large.jpg\n"
     ]
    },
    {
     "name": "stderr",
     "output_type": "stream",
     "text": [
      "The checkpoint state_dict contains keys that are not used by the model:\n",
      "  \u001b[35mbackbone.fpn_lateral2.bias\u001b[0m\n",
      "  \u001b[35mbackbone.fpn_output2.bias\u001b[0m\n",
      "  \u001b[35mbackbone.fpn_lateral3.bias\u001b[0m\n",
      "  \u001b[35mbackbone.fpn_output3.bias\u001b[0m\n",
      "  \u001b[35mbackbone.fpn_lateral4.bias\u001b[0m\n",
      "  \u001b[35mbackbone.fpn_output4.bias\u001b[0m\n",
      "  \u001b[35mbackbone.fpn_lateral5.bias\u001b[0m\n",
      "  \u001b[35mbackbone.fpn_output5.bias\u001b[0m\n",
      " 54%|██████████████████████                   | 532/987 [43:25<35:03,  4.62s/it]"
     ]
    },
    {
     "name": "stdout",
     "output_type": "stream",
     "text": [
      "13_11_1936_00000005\n",
      "Pages/13_11_1936_00000005.tif.large.jpg\n"
     ]
    },
    {
     "name": "stderr",
     "output_type": "stream",
     "text": [
      "The checkpoint state_dict contains keys that are not used by the model:\n",
      "  \u001b[35mbackbone.fpn_lateral2.bias\u001b[0m\n",
      "  \u001b[35mbackbone.fpn_output2.bias\u001b[0m\n",
      "  \u001b[35mbackbone.fpn_lateral3.bias\u001b[0m\n",
      "  \u001b[35mbackbone.fpn_output3.bias\u001b[0m\n",
      "  \u001b[35mbackbone.fpn_lateral4.bias\u001b[0m\n",
      "  \u001b[35mbackbone.fpn_output4.bias\u001b[0m\n",
      "  \u001b[35mbackbone.fpn_lateral5.bias\u001b[0m\n",
      "  \u001b[35mbackbone.fpn_output5.bias\u001b[0m\n",
      " 54%|██████████████████████▏                  | 533/987 [43:30<35:03,  4.63s/it]"
     ]
    },
    {
     "name": "stdout",
     "output_type": "stream",
     "text": [
      "22_11_1936_00000033\n",
      "Pages/22_11_1936_00000033.tif.large.jpg\n"
     ]
    },
    {
     "name": "stderr",
     "output_type": "stream",
     "text": [
      "The checkpoint state_dict contains keys that are not used by the model:\n",
      "  \u001b[35mbackbone.fpn_lateral2.bias\u001b[0m\n",
      "  \u001b[35mbackbone.fpn_output2.bias\u001b[0m\n",
      "  \u001b[35mbackbone.fpn_lateral3.bias\u001b[0m\n",
      "  \u001b[35mbackbone.fpn_output3.bias\u001b[0m\n",
      "  \u001b[35mbackbone.fpn_lateral4.bias\u001b[0m\n",
      "  \u001b[35mbackbone.fpn_output4.bias\u001b[0m\n",
      "  \u001b[35mbackbone.fpn_lateral5.bias\u001b[0m\n",
      "  \u001b[35mbackbone.fpn_output5.bias\u001b[0m\n",
      " 54%|██████████████████████▏                  | 534/987 [43:34<35:05,  4.65s/it]"
     ]
    },
    {
     "name": "stdout",
     "output_type": "stream",
     "text": [
      "10_12_1936_00000011\n",
      "Pages/10_12_1936_00000011.tif.large.jpg\n"
     ]
    },
    {
     "name": "stderr",
     "output_type": "stream",
     "text": [
      "The checkpoint state_dict contains keys that are not used by the model:\n",
      "  \u001b[35mbackbone.fpn_lateral2.bias\u001b[0m\n",
      "  \u001b[35mbackbone.fpn_output2.bias\u001b[0m\n",
      "  \u001b[35mbackbone.fpn_lateral3.bias\u001b[0m\n",
      "  \u001b[35mbackbone.fpn_output3.bias\u001b[0m\n",
      "  \u001b[35mbackbone.fpn_lateral4.bias\u001b[0m\n",
      "  \u001b[35mbackbone.fpn_output4.bias\u001b[0m\n",
      "  \u001b[35mbackbone.fpn_lateral5.bias\u001b[0m\n",
      "  \u001b[35mbackbone.fpn_output5.bias\u001b[0m\n",
      " 54%|██████████████████████▏                  | 535/987 [43:39<35:08,  4.67s/it]"
     ]
    },
    {
     "name": "stdout",
     "output_type": "stream",
     "text": [
      "16_10_1936_00000011\n",
      "Pages/16_10_1936_00000011.tif.large.jpg\n"
     ]
    },
    {
     "name": "stderr",
     "output_type": "stream",
     "text": [
      "The checkpoint state_dict contains keys that are not used by the model:\n",
      "  \u001b[35mbackbone.fpn_lateral2.bias\u001b[0m\n",
      "  \u001b[35mbackbone.fpn_output2.bias\u001b[0m\n",
      "  \u001b[35mbackbone.fpn_lateral3.bias\u001b[0m\n",
      "  \u001b[35mbackbone.fpn_output3.bias\u001b[0m\n",
      "  \u001b[35mbackbone.fpn_lateral4.bias\u001b[0m\n",
      "  \u001b[35mbackbone.fpn_output4.bias\u001b[0m\n",
      "  \u001b[35mbackbone.fpn_lateral5.bias\u001b[0m\n",
      "  \u001b[35mbackbone.fpn_output5.bias\u001b[0m\n",
      " 54%|██████████████████████▎                  | 536/987 [43:44<34:49,  4.63s/it]"
     ]
    },
    {
     "name": "stdout",
     "output_type": "stream",
     "text": [
      "09_03_1936_00000007\n",
      "Pages/09_03_1936_00000007.tif.large.jpg\n"
     ]
    },
    {
     "name": "stderr",
     "output_type": "stream",
     "text": [
      "The checkpoint state_dict contains keys that are not used by the model:\n",
      "  \u001b[35mbackbone.fpn_lateral2.bias\u001b[0m\n",
      "  \u001b[35mbackbone.fpn_output2.bias\u001b[0m\n",
      "  \u001b[35mbackbone.fpn_lateral3.bias\u001b[0m\n",
      "  \u001b[35mbackbone.fpn_output3.bias\u001b[0m\n",
      "  \u001b[35mbackbone.fpn_lateral4.bias\u001b[0m\n",
      "  \u001b[35mbackbone.fpn_output4.bias\u001b[0m\n",
      "  \u001b[35mbackbone.fpn_lateral5.bias\u001b[0m\n",
      "  \u001b[35mbackbone.fpn_output5.bias\u001b[0m\n",
      " 54%|██████████████████████▎                  | 537/987 [43:48<34:41,  4.63s/it]"
     ]
    },
    {
     "name": "stdout",
     "output_type": "stream",
     "text": [
      "31_07_1936_00000005\n",
      "Pages/31_07_1936_00000005.tif.large.jpg\n"
     ]
    },
    {
     "name": "stderr",
     "output_type": "stream",
     "text": [
      "The checkpoint state_dict contains keys that are not used by the model:\n",
      "  \u001b[35mbackbone.fpn_lateral2.bias\u001b[0m\n",
      "  \u001b[35mbackbone.fpn_output2.bias\u001b[0m\n",
      "  \u001b[35mbackbone.fpn_lateral3.bias\u001b[0m\n",
      "  \u001b[35mbackbone.fpn_output3.bias\u001b[0m\n",
      "  \u001b[35mbackbone.fpn_lateral4.bias\u001b[0m\n",
      "  \u001b[35mbackbone.fpn_output4.bias\u001b[0m\n",
      "  \u001b[35mbackbone.fpn_lateral5.bias\u001b[0m\n",
      "  \u001b[35mbackbone.fpn_output5.bias\u001b[0m\n",
      " 55%|██████████████████████▎                  | 538/987 [43:53<34:34,  4.62s/it]"
     ]
    },
    {
     "name": "stdout",
     "output_type": "stream",
     "text": [
      "29_03_1936_00000005\n",
      "Pages/29_03_1936_00000005.tif.large.jpg\n"
     ]
    },
    {
     "name": "stderr",
     "output_type": "stream",
     "text": [
      "The checkpoint state_dict contains keys that are not used by the model:\n",
      "  \u001b[35mbackbone.fpn_lateral2.bias\u001b[0m\n",
      "  \u001b[35mbackbone.fpn_output2.bias\u001b[0m\n",
      "  \u001b[35mbackbone.fpn_lateral3.bias\u001b[0m\n",
      "  \u001b[35mbackbone.fpn_output3.bias\u001b[0m\n",
      "  \u001b[35mbackbone.fpn_lateral4.bias\u001b[0m\n",
      "  \u001b[35mbackbone.fpn_output4.bias\u001b[0m\n",
      "  \u001b[35mbackbone.fpn_lateral5.bias\u001b[0m\n",
      "  \u001b[35mbackbone.fpn_output5.bias\u001b[0m\n",
      " 55%|██████████████████████▍                  | 539/987 [43:58<34:24,  4.61s/it]"
     ]
    },
    {
     "name": "stdout",
     "output_type": "stream",
     "text": [
      "03_09_1936_00000011\n",
      "Pages/03_09_1936_00000011.tif.large.jpg\n"
     ]
    },
    {
     "name": "stderr",
     "output_type": "stream",
     "text": [
      "The checkpoint state_dict contains keys that are not used by the model:\n",
      "  \u001b[35mbackbone.fpn_lateral2.bias\u001b[0m\n",
      "  \u001b[35mbackbone.fpn_output2.bias\u001b[0m\n",
      "  \u001b[35mbackbone.fpn_lateral3.bias\u001b[0m\n",
      "  \u001b[35mbackbone.fpn_output3.bias\u001b[0m\n",
      "  \u001b[35mbackbone.fpn_lateral4.bias\u001b[0m\n",
      "  \u001b[35mbackbone.fpn_output4.bias\u001b[0m\n",
      "  \u001b[35mbackbone.fpn_lateral5.bias\u001b[0m\n",
      "  \u001b[35mbackbone.fpn_output5.bias\u001b[0m\n",
      " 55%|██████████████████████▍                  | 540/987 [44:02<34:13,  4.59s/it]"
     ]
    },
    {
     "name": "stdout",
     "output_type": "stream",
     "text": [
      "05_09_1936_00000002\n",
      "Pages/05_09_1936_00000002.tif.large.jpg\n"
     ]
    },
    {
     "name": "stderr",
     "output_type": "stream",
     "text": [
      "The checkpoint state_dict contains keys that are not used by the model:\n",
      "  \u001b[35mbackbone.fpn_lateral2.bias\u001b[0m\n",
      "  \u001b[35mbackbone.fpn_output2.bias\u001b[0m\n",
      "  \u001b[35mbackbone.fpn_lateral3.bias\u001b[0m\n",
      "  \u001b[35mbackbone.fpn_output3.bias\u001b[0m\n",
      "  \u001b[35mbackbone.fpn_lateral4.bias\u001b[0m\n",
      "  \u001b[35mbackbone.fpn_output4.bias\u001b[0m\n",
      "  \u001b[35mbackbone.fpn_lateral5.bias\u001b[0m\n",
      "  \u001b[35mbackbone.fpn_output5.bias\u001b[0m\n",
      " 55%|██████████████████████▍                  | 541/987 [44:07<34:11,  4.60s/it]"
     ]
    },
    {
     "name": "stdout",
     "output_type": "stream",
     "text": [
      "11_09_1936_00000004\n",
      "Pages/11_09_1936_00000004.tif.large.jpg\n"
     ]
    },
    {
     "name": "stderr",
     "output_type": "stream",
     "text": [
      "The checkpoint state_dict contains keys that are not used by the model:\n",
      "  \u001b[35mbackbone.fpn_lateral2.bias\u001b[0m\n",
      "  \u001b[35mbackbone.fpn_output2.bias\u001b[0m\n",
      "  \u001b[35mbackbone.fpn_lateral3.bias\u001b[0m\n",
      "  \u001b[35mbackbone.fpn_output3.bias\u001b[0m\n",
      "  \u001b[35mbackbone.fpn_lateral4.bias\u001b[0m\n",
      "  \u001b[35mbackbone.fpn_output4.bias\u001b[0m\n",
      "  \u001b[35mbackbone.fpn_lateral5.bias\u001b[0m\n",
      "  \u001b[35mbackbone.fpn_output5.bias\u001b[0m\n",
      " 55%|██████████████████████▌                  | 542/987 [44:11<34:14,  4.62s/it]"
     ]
    },
    {
     "name": "stdout",
     "output_type": "stream",
     "text": [
      "25_11_1936_00000007\n",
      "Pages/25_11_1936_00000007.tif.large.jpg\n"
     ]
    },
    {
     "name": "stderr",
     "output_type": "stream",
     "text": [
      "The checkpoint state_dict contains keys that are not used by the model:\n",
      "  \u001b[35mbackbone.fpn_lateral2.bias\u001b[0m\n",
      "  \u001b[35mbackbone.fpn_output2.bias\u001b[0m\n",
      "  \u001b[35mbackbone.fpn_lateral3.bias\u001b[0m\n",
      "  \u001b[35mbackbone.fpn_output3.bias\u001b[0m\n",
      "  \u001b[35mbackbone.fpn_lateral4.bias\u001b[0m\n",
      "  \u001b[35mbackbone.fpn_output4.bias\u001b[0m\n",
      "  \u001b[35mbackbone.fpn_lateral5.bias\u001b[0m\n",
      "  \u001b[35mbackbone.fpn_output5.bias\u001b[0m\n",
      " 55%|██████████████████████▌                  | 543/987 [44:16<34:08,  4.61s/it]"
     ]
    },
    {
     "name": "stdout",
     "output_type": "stream",
     "text": [
      "31_03_1936_00000005\n",
      "Pages/31_03_1936_00000005.tif.large.jpg\n"
     ]
    },
    {
     "name": "stderr",
     "output_type": "stream",
     "text": [
      "The checkpoint state_dict contains keys that are not used by the model:\n",
      "  \u001b[35mbackbone.fpn_lateral2.bias\u001b[0m\n",
      "  \u001b[35mbackbone.fpn_output2.bias\u001b[0m\n",
      "  \u001b[35mbackbone.fpn_lateral3.bias\u001b[0m\n",
      "  \u001b[35mbackbone.fpn_output3.bias\u001b[0m\n",
      "  \u001b[35mbackbone.fpn_lateral4.bias\u001b[0m\n",
      "  \u001b[35mbackbone.fpn_output4.bias\u001b[0m\n",
      "  \u001b[35mbackbone.fpn_lateral5.bias\u001b[0m\n",
      "  \u001b[35mbackbone.fpn_output5.bias\u001b[0m\n",
      " 55%|██████████████████████▌                  | 544/987 [44:21<34:16,  4.64s/it]"
     ]
    },
    {
     "name": "stdout",
     "output_type": "stream",
     "text": [
      "29_01_1936_00000008\n",
      "Pages/29_01_1936_00000008.tif.large.jpg\n"
     ]
    },
    {
     "name": "stderr",
     "output_type": "stream",
     "text": [
      "The checkpoint state_dict contains keys that are not used by the model:\n",
      "  \u001b[35mbackbone.fpn_lateral2.bias\u001b[0m\n",
      "  \u001b[35mbackbone.fpn_output2.bias\u001b[0m\n",
      "  \u001b[35mbackbone.fpn_lateral3.bias\u001b[0m\n",
      "  \u001b[35mbackbone.fpn_output3.bias\u001b[0m\n",
      "  \u001b[35mbackbone.fpn_lateral4.bias\u001b[0m\n",
      "  \u001b[35mbackbone.fpn_output4.bias\u001b[0m\n",
      "  \u001b[35mbackbone.fpn_lateral5.bias\u001b[0m\n",
      "  \u001b[35mbackbone.fpn_output5.bias\u001b[0m\n",
      " 55%|██████████████████████▋                  | 545/987 [44:25<34:07,  4.63s/it]"
     ]
    },
    {
     "name": "stdout",
     "output_type": "stream",
     "text": [
      "13_02_1936_00000002\n",
      "Pages/13_02_1936_00000002.tif.large.jpg\n"
     ]
    },
    {
     "name": "stderr",
     "output_type": "stream",
     "text": [
      "The checkpoint state_dict contains keys that are not used by the model:\n",
      "  \u001b[35mbackbone.fpn_lateral2.bias\u001b[0m\n",
      "  \u001b[35mbackbone.fpn_output2.bias\u001b[0m\n",
      "  \u001b[35mbackbone.fpn_lateral3.bias\u001b[0m\n",
      "  \u001b[35mbackbone.fpn_output3.bias\u001b[0m\n",
      "  \u001b[35mbackbone.fpn_lateral4.bias\u001b[0m\n",
      "  \u001b[35mbackbone.fpn_output4.bias\u001b[0m\n",
      "  \u001b[35mbackbone.fpn_lateral5.bias\u001b[0m\n",
      "  \u001b[35mbackbone.fpn_output5.bias\u001b[0m\n",
      " 55%|██████████████████████▋                  | 546/987 [44:30<34:20,  4.67s/it]"
     ]
    },
    {
     "name": "stdout",
     "output_type": "stream",
     "text": [
      "12_02_1936_00000007\n",
      "Pages/12_02_1936_00000007.tif.large.jpg\n"
     ]
    },
    {
     "name": "stderr",
     "output_type": "stream",
     "text": [
      "The checkpoint state_dict contains keys that are not used by the model:\n",
      "  \u001b[35mbackbone.fpn_lateral2.bias\u001b[0m\n",
      "  \u001b[35mbackbone.fpn_output2.bias\u001b[0m\n",
      "  \u001b[35mbackbone.fpn_lateral3.bias\u001b[0m\n",
      "  \u001b[35mbackbone.fpn_output3.bias\u001b[0m\n",
      "  \u001b[35mbackbone.fpn_lateral4.bias\u001b[0m\n",
      "  \u001b[35mbackbone.fpn_output4.bias\u001b[0m\n",
      "  \u001b[35mbackbone.fpn_lateral5.bias\u001b[0m\n",
      "  \u001b[35mbackbone.fpn_output5.bias\u001b[0m\n",
      " 55%|██████████████████████▋                  | 547/987 [44:35<34:01,  4.64s/it]"
     ]
    },
    {
     "name": "stdout",
     "output_type": "stream",
     "text": [
      "18_11_1936_00000002\n",
      "Pages/18_11_1936_00000002.tif.large.jpg\n"
     ]
    },
    {
     "name": "stderr",
     "output_type": "stream",
     "text": [
      "The checkpoint state_dict contains keys that are not used by the model:\n",
      "  \u001b[35mbackbone.fpn_lateral2.bias\u001b[0m\n",
      "  \u001b[35mbackbone.fpn_output2.bias\u001b[0m\n",
      "  \u001b[35mbackbone.fpn_lateral3.bias\u001b[0m\n",
      "  \u001b[35mbackbone.fpn_output3.bias\u001b[0m\n",
      "  \u001b[35mbackbone.fpn_lateral4.bias\u001b[0m\n",
      "  \u001b[35mbackbone.fpn_output4.bias\u001b[0m\n",
      "  \u001b[35mbackbone.fpn_lateral5.bias\u001b[0m\n",
      "  \u001b[35mbackbone.fpn_output5.bias\u001b[0m\n",
      " 56%|██████████████████████▊                  | 548/987 [44:39<33:50,  4.63s/it]"
     ]
    },
    {
     "name": "stdout",
     "output_type": "stream",
     "text": [
      "02_02_1936_00000005\n",
      "Pages/02_02_1936_00000005.tif.large.jpg\n"
     ]
    },
    {
     "name": "stderr",
     "output_type": "stream",
     "text": [
      "The checkpoint state_dict contains keys that are not used by the model:\n",
      "  \u001b[35mbackbone.fpn_lateral2.bias\u001b[0m\n",
      "  \u001b[35mbackbone.fpn_output2.bias\u001b[0m\n",
      "  \u001b[35mbackbone.fpn_lateral3.bias\u001b[0m\n",
      "  \u001b[35mbackbone.fpn_output3.bias\u001b[0m\n",
      "  \u001b[35mbackbone.fpn_lateral4.bias\u001b[0m\n",
      "  \u001b[35mbackbone.fpn_output4.bias\u001b[0m\n",
      "  \u001b[35mbackbone.fpn_lateral5.bias\u001b[0m\n",
      "  \u001b[35mbackbone.fpn_output5.bias\u001b[0m\n",
      " 56%|██████████████████████▊                  | 549/987 [44:44<33:43,  4.62s/it]"
     ]
    },
    {
     "name": "stdout",
     "output_type": "stream",
     "text": [
      "08_09_1936_00000003\n",
      "Pages/08_09_1936_00000003.tif.large.jpg\n"
     ]
    },
    {
     "name": "stderr",
     "output_type": "stream",
     "text": [
      "The checkpoint state_dict contains keys that are not used by the model:\n",
      "  \u001b[35mbackbone.fpn_lateral2.bias\u001b[0m\n",
      "  \u001b[35mbackbone.fpn_output2.bias\u001b[0m\n",
      "  \u001b[35mbackbone.fpn_lateral3.bias\u001b[0m\n",
      "  \u001b[35mbackbone.fpn_output3.bias\u001b[0m\n",
      "  \u001b[35mbackbone.fpn_lateral4.bias\u001b[0m\n",
      "  \u001b[35mbackbone.fpn_output4.bias\u001b[0m\n",
      "  \u001b[35mbackbone.fpn_lateral5.bias\u001b[0m\n",
      "  \u001b[35mbackbone.fpn_output5.bias\u001b[0m\n",
      " 56%|██████████████████████▊                  | 550/987 [44:49<34:07,  4.68s/it]"
     ]
    },
    {
     "name": "stdout",
     "output_type": "stream",
     "text": [
      "24_09_1936_00000002\n",
      "Pages/24_09_1936_00000002.tif.large.jpg\n"
     ]
    },
    {
     "name": "stderr",
     "output_type": "stream",
     "text": [
      "The checkpoint state_dict contains keys that are not used by the model:\n",
      "  \u001b[35mbackbone.fpn_lateral2.bias\u001b[0m\n",
      "  \u001b[35mbackbone.fpn_output2.bias\u001b[0m\n",
      "  \u001b[35mbackbone.fpn_lateral3.bias\u001b[0m\n",
      "  \u001b[35mbackbone.fpn_output3.bias\u001b[0m\n",
      "  \u001b[35mbackbone.fpn_lateral4.bias\u001b[0m\n",
      "  \u001b[35mbackbone.fpn_output4.bias\u001b[0m\n",
      "  \u001b[35mbackbone.fpn_lateral5.bias\u001b[0m\n",
      "  \u001b[35mbackbone.fpn_output5.bias\u001b[0m\n",
      " 56%|██████████████████████▉                  | 551/987 [44:53<33:56,  4.67s/it]"
     ]
    },
    {
     "name": "stdout",
     "output_type": "stream",
     "text": [
      "24_03_1936_00000019\n",
      "Pages/24_03_1936_00000019.tif.large.jpg\n"
     ]
    },
    {
     "name": "stderr",
     "output_type": "stream",
     "text": [
      "The checkpoint state_dict contains keys that are not used by the model:\n",
      "  \u001b[35mbackbone.fpn_lateral2.bias\u001b[0m\n",
      "  \u001b[35mbackbone.fpn_output2.bias\u001b[0m\n",
      "  \u001b[35mbackbone.fpn_lateral3.bias\u001b[0m\n",
      "  \u001b[35mbackbone.fpn_output3.bias\u001b[0m\n",
      "  \u001b[35mbackbone.fpn_lateral4.bias\u001b[0m\n",
      "  \u001b[35mbackbone.fpn_output4.bias\u001b[0m\n",
      "  \u001b[35mbackbone.fpn_lateral5.bias\u001b[0m\n",
      "  \u001b[35mbackbone.fpn_output5.bias\u001b[0m\n",
      " 56%|██████████████████████▉                  | 552/987 [44:58<33:28,  4.62s/it]"
     ]
    },
    {
     "name": "stdout",
     "output_type": "stream",
     "text": [
      "16_10_1936_00000014\n",
      "Pages/16_10_1936_00000014.tif.large.jpg\n"
     ]
    },
    {
     "name": "stderr",
     "output_type": "stream",
     "text": [
      "The checkpoint state_dict contains keys that are not used by the model:\n",
      "  \u001b[35mbackbone.fpn_lateral2.bias\u001b[0m\n",
      "  \u001b[35mbackbone.fpn_output2.bias\u001b[0m\n",
      "  \u001b[35mbackbone.fpn_lateral3.bias\u001b[0m\n",
      "  \u001b[35mbackbone.fpn_output3.bias\u001b[0m\n",
      "  \u001b[35mbackbone.fpn_lateral4.bias\u001b[0m\n",
      "  \u001b[35mbackbone.fpn_output4.bias\u001b[0m\n",
      "  \u001b[35mbackbone.fpn_lateral5.bias\u001b[0m\n",
      "  \u001b[35mbackbone.fpn_output5.bias\u001b[0m\n",
      " 56%|██████████████████████▉                  | 553/987 [45:02<33:11,  4.59s/it]"
     ]
    },
    {
     "name": "stdout",
     "output_type": "stream",
     "text": [
      "22_12_1936_00000007\n",
      "Pages/22_12_1936_00000007.tif.large.jpg\n"
     ]
    },
    {
     "name": "stderr",
     "output_type": "stream",
     "text": [
      "The checkpoint state_dict contains keys that are not used by the model:\n",
      "  \u001b[35mbackbone.fpn_lateral2.bias\u001b[0m\n",
      "  \u001b[35mbackbone.fpn_output2.bias\u001b[0m\n",
      "  \u001b[35mbackbone.fpn_lateral3.bias\u001b[0m\n",
      "  \u001b[35mbackbone.fpn_output3.bias\u001b[0m\n",
      "  \u001b[35mbackbone.fpn_lateral4.bias\u001b[0m\n",
      "  \u001b[35mbackbone.fpn_output4.bias\u001b[0m\n",
      "  \u001b[35mbackbone.fpn_lateral5.bias\u001b[0m\n",
      "  \u001b[35mbackbone.fpn_output5.bias\u001b[0m\n",
      " 56%|███████████████████████                  | 554/987 [45:07<33:01,  4.58s/it]"
     ]
    },
    {
     "name": "stdout",
     "output_type": "stream",
     "text": [
      "29_02_1936_00000008\n",
      "Pages/29_02_1936_00000008.tif.large.jpg\n"
     ]
    },
    {
     "name": "stderr",
     "output_type": "stream",
     "text": [
      "The checkpoint state_dict contains keys that are not used by the model:\n",
      "  \u001b[35mbackbone.fpn_lateral2.bias\u001b[0m\n",
      "  \u001b[35mbackbone.fpn_output2.bias\u001b[0m\n",
      "  \u001b[35mbackbone.fpn_lateral3.bias\u001b[0m\n",
      "  \u001b[35mbackbone.fpn_output3.bias\u001b[0m\n",
      "  \u001b[35mbackbone.fpn_lateral4.bias\u001b[0m\n",
      "  \u001b[35mbackbone.fpn_output4.bias\u001b[0m\n",
      "  \u001b[35mbackbone.fpn_lateral5.bias\u001b[0m\n",
      "  \u001b[35mbackbone.fpn_output5.bias\u001b[0m\n",
      " 56%|███████████████████████                  | 555/987 [45:12<33:09,  4.61s/it]"
     ]
    },
    {
     "name": "stdout",
     "output_type": "stream",
     "text": [
      "06_11_1936_00000008\n",
      "Pages/06_11_1936_00000008.tif.large.jpg\n"
     ]
    },
    {
     "name": "stderr",
     "output_type": "stream",
     "text": [
      "The checkpoint state_dict contains keys that are not used by the model:\n",
      "  \u001b[35mbackbone.fpn_lateral2.bias\u001b[0m\n",
      "  \u001b[35mbackbone.fpn_output2.bias\u001b[0m\n",
      "  \u001b[35mbackbone.fpn_lateral3.bias\u001b[0m\n",
      "  \u001b[35mbackbone.fpn_output3.bias\u001b[0m\n",
      "  \u001b[35mbackbone.fpn_lateral4.bias\u001b[0m\n",
      "  \u001b[35mbackbone.fpn_output4.bias\u001b[0m\n",
      "  \u001b[35mbackbone.fpn_lateral5.bias\u001b[0m\n",
      "  \u001b[35mbackbone.fpn_output5.bias\u001b[0m\n",
      " 56%|███████████████████████                  | 556/987 [45:16<33:17,  4.63s/it]"
     ]
    },
    {
     "name": "stdout",
     "output_type": "stream",
     "text": [
      "22_11_1936_00000011\n",
      "Pages/22_11_1936_00000011.tif.large.jpg\n"
     ]
    },
    {
     "name": "stderr",
     "output_type": "stream",
     "text": [
      "The checkpoint state_dict contains keys that are not used by the model:\n",
      "  \u001b[35mbackbone.fpn_lateral2.bias\u001b[0m\n",
      "  \u001b[35mbackbone.fpn_output2.bias\u001b[0m\n",
      "  \u001b[35mbackbone.fpn_lateral3.bias\u001b[0m\n",
      "  \u001b[35mbackbone.fpn_output3.bias\u001b[0m\n",
      "  \u001b[35mbackbone.fpn_lateral4.bias\u001b[0m\n",
      "  \u001b[35mbackbone.fpn_output4.bias\u001b[0m\n",
      "  \u001b[35mbackbone.fpn_lateral5.bias\u001b[0m\n",
      "  \u001b[35mbackbone.fpn_output5.bias\u001b[0m\n",
      " 56%|███████████████████████▏                 | 557/987 [45:21<33:07,  4.62s/it]"
     ]
    },
    {
     "name": "stdout",
     "output_type": "stream",
     "text": [
      "19_11_1936_00000008\n",
      "Pages/19_11_1936_00000008.tif.large.jpg\n"
     ]
    },
    {
     "name": "stderr",
     "output_type": "stream",
     "text": [
      "The checkpoint state_dict contains keys that are not used by the model:\n",
      "  \u001b[35mbackbone.fpn_lateral2.bias\u001b[0m\n",
      "  \u001b[35mbackbone.fpn_output2.bias\u001b[0m\n",
      "  \u001b[35mbackbone.fpn_lateral3.bias\u001b[0m\n",
      "  \u001b[35mbackbone.fpn_output3.bias\u001b[0m\n",
      "  \u001b[35mbackbone.fpn_lateral4.bias\u001b[0m\n",
      "  \u001b[35mbackbone.fpn_output4.bias\u001b[0m\n",
      "  \u001b[35mbackbone.fpn_lateral5.bias\u001b[0m\n",
      "  \u001b[35mbackbone.fpn_output5.bias\u001b[0m\n",
      " 57%|███████████████████████▏                 | 558/987 [45:26<33:29,  4.68s/it]"
     ]
    },
    {
     "name": "stdout",
     "output_type": "stream",
     "text": [
      "26_08_1936_00000005\n",
      "Pages/26_08_1936_00000005.tif.large.jpg\n"
     ]
    },
    {
     "name": "stderr",
     "output_type": "stream",
     "text": [
      "The checkpoint state_dict contains keys that are not used by the model:\n",
      "  \u001b[35mbackbone.fpn_lateral2.bias\u001b[0m\n",
      "  \u001b[35mbackbone.fpn_output2.bias\u001b[0m\n",
      "  \u001b[35mbackbone.fpn_lateral3.bias\u001b[0m\n",
      "  \u001b[35mbackbone.fpn_output3.bias\u001b[0m\n",
      "  \u001b[35mbackbone.fpn_lateral4.bias\u001b[0m\n",
      "  \u001b[35mbackbone.fpn_output4.bias\u001b[0m\n",
      "  \u001b[35mbackbone.fpn_lateral5.bias\u001b[0m\n",
      "  \u001b[35mbackbone.fpn_output5.bias\u001b[0m\n",
      " 57%|███████████████████████▏                 | 559/987 [45:30<33:15,  4.66s/it]"
     ]
    },
    {
     "name": "stdout",
     "output_type": "stream",
     "text": [
      "23_04_1936_00000001\n",
      "Pages/23_04_1936_00000001.tif.large.jpg\n"
     ]
    },
    {
     "name": "stderr",
     "output_type": "stream",
     "text": [
      "The checkpoint state_dict contains keys that are not used by the model:\n",
      "  \u001b[35mbackbone.fpn_lateral2.bias\u001b[0m\n",
      "  \u001b[35mbackbone.fpn_output2.bias\u001b[0m\n",
      "  \u001b[35mbackbone.fpn_lateral3.bias\u001b[0m\n",
      "  \u001b[35mbackbone.fpn_output3.bias\u001b[0m\n",
      "  \u001b[35mbackbone.fpn_lateral4.bias\u001b[0m\n",
      "  \u001b[35mbackbone.fpn_output4.bias\u001b[0m\n",
      "  \u001b[35mbackbone.fpn_lateral5.bias\u001b[0m\n",
      "  \u001b[35mbackbone.fpn_output5.bias\u001b[0m\n",
      " 57%|███████████████████████▎                 | 560/987 [45:35<32:58,  4.63s/it]"
     ]
    },
    {
     "name": "stdout",
     "output_type": "stream",
     "text": [
      "21_04_1936_00000017\n",
      "Pages/21_04_1936_00000017.tif.large.jpg\n"
     ]
    },
    {
     "name": "stderr",
     "output_type": "stream",
     "text": [
      "The checkpoint state_dict contains keys that are not used by the model:\n",
      "  \u001b[35mbackbone.fpn_lateral2.bias\u001b[0m\n",
      "  \u001b[35mbackbone.fpn_output2.bias\u001b[0m\n",
      "  \u001b[35mbackbone.fpn_lateral3.bias\u001b[0m\n",
      "  \u001b[35mbackbone.fpn_output3.bias\u001b[0m\n",
      "  \u001b[35mbackbone.fpn_lateral4.bias\u001b[0m\n",
      "  \u001b[35mbackbone.fpn_output4.bias\u001b[0m\n",
      "  \u001b[35mbackbone.fpn_lateral5.bias\u001b[0m\n",
      "  \u001b[35mbackbone.fpn_output5.bias\u001b[0m\n",
      " 57%|███████████████████████▎                 | 561/987 [45:40<33:01,  4.65s/it]"
     ]
    },
    {
     "name": "stdout",
     "output_type": "stream",
     "text": [
      "20_10_1936_00000014\n",
      "Pages/20_10_1936_00000014.tif.large.jpg\n"
     ]
    },
    {
     "name": "stderr",
     "output_type": "stream",
     "text": [
      "The checkpoint state_dict contains keys that are not used by the model:\n",
      "  \u001b[35mbackbone.fpn_lateral2.bias\u001b[0m\n",
      "  \u001b[35mbackbone.fpn_output2.bias\u001b[0m\n",
      "  \u001b[35mbackbone.fpn_lateral3.bias\u001b[0m\n",
      "  \u001b[35mbackbone.fpn_output3.bias\u001b[0m\n",
      "  \u001b[35mbackbone.fpn_lateral4.bias\u001b[0m\n",
      "  \u001b[35mbackbone.fpn_output4.bias\u001b[0m\n",
      "  \u001b[35mbackbone.fpn_lateral5.bias\u001b[0m\n",
      "  \u001b[35mbackbone.fpn_output5.bias\u001b[0m\n",
      " 57%|███████████████████████▎                 | 562/987 [45:44<32:52,  4.64s/it]"
     ]
    },
    {
     "name": "stdout",
     "output_type": "stream",
     "text": [
      "30_01_1936_00000001\n",
      "Pages/30_01_1936_00000001.tif.large.jpg\n"
     ]
    },
    {
     "name": "stderr",
     "output_type": "stream",
     "text": [
      "The checkpoint state_dict contains keys that are not used by the model:\n",
      "  \u001b[35mbackbone.fpn_lateral2.bias\u001b[0m\n",
      "  \u001b[35mbackbone.fpn_output2.bias\u001b[0m\n",
      "  \u001b[35mbackbone.fpn_lateral3.bias\u001b[0m\n",
      "  \u001b[35mbackbone.fpn_output3.bias\u001b[0m\n",
      "  \u001b[35mbackbone.fpn_lateral4.bias\u001b[0m\n",
      "  \u001b[35mbackbone.fpn_output4.bias\u001b[0m\n",
      "  \u001b[35mbackbone.fpn_lateral5.bias\u001b[0m\n",
      "  \u001b[35mbackbone.fpn_output5.bias\u001b[0m\n",
      " 57%|███████████████████████▍                 | 563/987 [45:49<32:37,  4.62s/it]"
     ]
    },
    {
     "name": "stdout",
     "output_type": "stream",
     "text": [
      "21_01_1936_00000006\n",
      "Pages/21_01_1936_00000006.tif.large.jpg\n"
     ]
    },
    {
     "name": "stderr",
     "output_type": "stream",
     "text": [
      "The checkpoint state_dict contains keys that are not used by the model:\n",
      "  \u001b[35mbackbone.fpn_lateral2.bias\u001b[0m\n",
      "  \u001b[35mbackbone.fpn_output2.bias\u001b[0m\n",
      "  \u001b[35mbackbone.fpn_lateral3.bias\u001b[0m\n",
      "  \u001b[35mbackbone.fpn_output3.bias\u001b[0m\n",
      "  \u001b[35mbackbone.fpn_lateral4.bias\u001b[0m\n",
      "  \u001b[35mbackbone.fpn_output4.bias\u001b[0m\n",
      "  \u001b[35mbackbone.fpn_lateral5.bias\u001b[0m\n",
      "  \u001b[35mbackbone.fpn_output5.bias\u001b[0m\n",
      " 57%|███████████████████████▍                 | 564/987 [45:53<32:42,  4.64s/it]"
     ]
    },
    {
     "name": "stdout",
     "output_type": "stream",
     "text": [
      "06_10_1936_00000006\n",
      "Pages/06_10_1936_00000006.tif.large.jpg\n"
     ]
    },
    {
     "name": "stderr",
     "output_type": "stream",
     "text": [
      "The checkpoint state_dict contains keys that are not used by the model:\n",
      "  \u001b[35mbackbone.fpn_lateral2.bias\u001b[0m\n",
      "  \u001b[35mbackbone.fpn_output2.bias\u001b[0m\n",
      "  \u001b[35mbackbone.fpn_lateral3.bias\u001b[0m\n",
      "  \u001b[35mbackbone.fpn_output3.bias\u001b[0m\n",
      "  \u001b[35mbackbone.fpn_lateral4.bias\u001b[0m\n",
      "  \u001b[35mbackbone.fpn_output4.bias\u001b[0m\n",
      "  \u001b[35mbackbone.fpn_lateral5.bias\u001b[0m\n",
      "  \u001b[35mbackbone.fpn_output5.bias\u001b[0m\n",
      " 57%|███████████████████████▍                 | 565/987 [45:58<32:16,  4.59s/it]"
     ]
    },
    {
     "name": "stdout",
     "output_type": "stream",
     "text": [
      "12_01_1936_00000004\n",
      "Pages/12_01_1936_00000004.tif.large.jpg\n"
     ]
    },
    {
     "name": "stderr",
     "output_type": "stream",
     "text": [
      "The checkpoint state_dict contains keys that are not used by the model:\n",
      "  \u001b[35mbackbone.fpn_lateral2.bias\u001b[0m\n",
      "  \u001b[35mbackbone.fpn_output2.bias\u001b[0m\n",
      "  \u001b[35mbackbone.fpn_lateral3.bias\u001b[0m\n",
      "  \u001b[35mbackbone.fpn_output3.bias\u001b[0m\n",
      "  \u001b[35mbackbone.fpn_lateral4.bias\u001b[0m\n",
      "  \u001b[35mbackbone.fpn_output4.bias\u001b[0m\n",
      "  \u001b[35mbackbone.fpn_lateral5.bias\u001b[0m\n",
      "  \u001b[35mbackbone.fpn_output5.bias\u001b[0m\n",
      " 57%|███████████████████████▌                 | 566/987 [46:03<32:25,  4.62s/it]"
     ]
    },
    {
     "name": "stdout",
     "output_type": "stream",
     "text": [
      "02_10_1936_00000005\n",
      "Pages/02_10_1936_00000005.tif.large.jpg\n"
     ]
    },
    {
     "name": "stderr",
     "output_type": "stream",
     "text": [
      "The checkpoint state_dict contains keys that are not used by the model:\n",
      "  \u001b[35mbackbone.fpn_lateral2.bias\u001b[0m\n",
      "  \u001b[35mbackbone.fpn_output2.bias\u001b[0m\n",
      "  \u001b[35mbackbone.fpn_lateral3.bias\u001b[0m\n",
      "  \u001b[35mbackbone.fpn_output3.bias\u001b[0m\n",
      "  \u001b[35mbackbone.fpn_lateral4.bias\u001b[0m\n",
      "  \u001b[35mbackbone.fpn_output4.bias\u001b[0m\n",
      "  \u001b[35mbackbone.fpn_lateral5.bias\u001b[0m\n",
      "  \u001b[35mbackbone.fpn_output5.bias\u001b[0m\n",
      " 57%|███████████████████████▌                 | 567/987 [46:07<32:37,  4.66s/it]"
     ]
    },
    {
     "name": "stdout",
     "output_type": "stream",
     "text": [
      "22_07_1936_00000007\n",
      "Pages/22_07_1936_00000007.tif.large.jpg\n"
     ]
    },
    {
     "name": "stderr",
     "output_type": "stream",
     "text": [
      "The checkpoint state_dict contains keys that are not used by the model:\n",
      "  \u001b[35mbackbone.fpn_lateral2.bias\u001b[0m\n",
      "  \u001b[35mbackbone.fpn_output2.bias\u001b[0m\n",
      "  \u001b[35mbackbone.fpn_lateral3.bias\u001b[0m\n",
      "  \u001b[35mbackbone.fpn_output3.bias\u001b[0m\n",
      "  \u001b[35mbackbone.fpn_lateral4.bias\u001b[0m\n",
      "  \u001b[35mbackbone.fpn_output4.bias\u001b[0m\n",
      "  \u001b[35mbackbone.fpn_lateral5.bias\u001b[0m\n",
      "  \u001b[35mbackbone.fpn_output5.bias\u001b[0m\n",
      " 58%|███████████████████████▌                 | 568/987 [46:12<32:24,  4.64s/it]"
     ]
    },
    {
     "name": "stdout",
     "output_type": "stream",
     "text": [
      "09_04_1936_00000017\n",
      "Pages/09_04_1936_00000017.tif.large.jpg\n"
     ]
    },
    {
     "name": "stderr",
     "output_type": "stream",
     "text": [
      "The checkpoint state_dict contains keys that are not used by the model:\n",
      "  \u001b[35mbackbone.fpn_lateral2.bias\u001b[0m\n",
      "  \u001b[35mbackbone.fpn_output2.bias\u001b[0m\n",
      "  \u001b[35mbackbone.fpn_lateral3.bias\u001b[0m\n",
      "  \u001b[35mbackbone.fpn_output3.bias\u001b[0m\n",
      "  \u001b[35mbackbone.fpn_lateral4.bias\u001b[0m\n",
      "  \u001b[35mbackbone.fpn_output4.bias\u001b[0m\n",
      "  \u001b[35mbackbone.fpn_lateral5.bias\u001b[0m\n",
      "  \u001b[35mbackbone.fpn_output5.bias\u001b[0m\n",
      " 58%|███████████████████████▋                 | 569/987 [46:16<32:07,  4.61s/it]"
     ]
    },
    {
     "name": "stdout",
     "output_type": "stream",
     "text": [
      "29_07_1936_00000006\n",
      "Pages/29_07_1936_00000006.tif.large.jpg\n"
     ]
    },
    {
     "name": "stderr",
     "output_type": "stream",
     "text": [
      "The checkpoint state_dict contains keys that are not used by the model:\n",
      "  \u001b[35mbackbone.fpn_lateral2.bias\u001b[0m\n",
      "  \u001b[35mbackbone.fpn_output2.bias\u001b[0m\n",
      "  \u001b[35mbackbone.fpn_lateral3.bias\u001b[0m\n",
      "  \u001b[35mbackbone.fpn_output3.bias\u001b[0m\n",
      "  \u001b[35mbackbone.fpn_lateral4.bias\u001b[0m\n",
      "  \u001b[35mbackbone.fpn_output4.bias\u001b[0m\n",
      "  \u001b[35mbackbone.fpn_lateral5.bias\u001b[0m\n",
      "  \u001b[35mbackbone.fpn_output5.bias\u001b[0m\n",
      " 58%|███████████████████████▋                 | 570/987 [46:21<32:20,  4.65s/it]"
     ]
    },
    {
     "name": "stdout",
     "output_type": "stream",
     "text": [
      "10_02_1936_00000007\n",
      "Pages/10_02_1936_00000007.tif.large.jpg\n"
     ]
    },
    {
     "name": "stderr",
     "output_type": "stream",
     "text": [
      "The checkpoint state_dict contains keys that are not used by the model:\n",
      "  \u001b[35mbackbone.fpn_lateral2.bias\u001b[0m\n",
      "  \u001b[35mbackbone.fpn_output2.bias\u001b[0m\n",
      "  \u001b[35mbackbone.fpn_lateral3.bias\u001b[0m\n",
      "  \u001b[35mbackbone.fpn_output3.bias\u001b[0m\n",
      "  \u001b[35mbackbone.fpn_lateral4.bias\u001b[0m\n",
      "  \u001b[35mbackbone.fpn_output4.bias\u001b[0m\n",
      "  \u001b[35mbackbone.fpn_lateral5.bias\u001b[0m\n",
      "  \u001b[35mbackbone.fpn_output5.bias\u001b[0m\n",
      " 58%|███████████████████████▋                 | 571/987 [46:26<32:21,  4.67s/it]"
     ]
    },
    {
     "name": "stdout",
     "output_type": "stream",
     "text": [
      "31_10_1936_00000006\n",
      "Pages/31_10_1936_00000006.tif.large.jpg\n"
     ]
    },
    {
     "name": "stderr",
     "output_type": "stream",
     "text": [
      "The checkpoint state_dict contains keys that are not used by the model:\n",
      "  \u001b[35mbackbone.fpn_lateral2.bias\u001b[0m\n",
      "  \u001b[35mbackbone.fpn_output2.bias\u001b[0m\n",
      "  \u001b[35mbackbone.fpn_lateral3.bias\u001b[0m\n",
      "  \u001b[35mbackbone.fpn_output3.bias\u001b[0m\n",
      "  \u001b[35mbackbone.fpn_lateral4.bias\u001b[0m\n",
      "  \u001b[35mbackbone.fpn_output4.bias\u001b[0m\n",
      "  \u001b[35mbackbone.fpn_lateral5.bias\u001b[0m\n",
      "  \u001b[35mbackbone.fpn_output5.bias\u001b[0m\n",
      " 58%|███████████████████████▊                 | 572/987 [46:31<32:31,  4.70s/it]"
     ]
    },
    {
     "name": "stdout",
     "output_type": "stream",
     "text": [
      "22_12_1936_00000006\n",
      "Pages/22_12_1936_00000006.tif.large.jpg\n"
     ]
    },
    {
     "name": "stderr",
     "output_type": "stream",
     "text": [
      "The checkpoint state_dict contains keys that are not used by the model:\n",
      "  \u001b[35mbackbone.fpn_lateral2.bias\u001b[0m\n",
      "  \u001b[35mbackbone.fpn_output2.bias\u001b[0m\n",
      "  \u001b[35mbackbone.fpn_lateral3.bias\u001b[0m\n",
      "  \u001b[35mbackbone.fpn_output3.bias\u001b[0m\n",
      "  \u001b[35mbackbone.fpn_lateral4.bias\u001b[0m\n",
      "  \u001b[35mbackbone.fpn_output4.bias\u001b[0m\n",
      "  \u001b[35mbackbone.fpn_lateral5.bias\u001b[0m\n",
      "  \u001b[35mbackbone.fpn_output5.bias\u001b[0m\n",
      " 58%|███████████████████████▊                 | 573/987 [46:35<32:35,  4.72s/it]"
     ]
    },
    {
     "name": "stdout",
     "output_type": "stream",
     "text": [
      "23_03_1936_00000005\n",
      "Pages/23_03_1936_00000005.tif.large.jpg\n"
     ]
    },
    {
     "name": "stderr",
     "output_type": "stream",
     "text": [
      "The checkpoint state_dict contains keys that are not used by the model:\n",
      "  \u001b[35mbackbone.fpn_lateral2.bias\u001b[0m\n",
      "  \u001b[35mbackbone.fpn_output2.bias\u001b[0m\n",
      "  \u001b[35mbackbone.fpn_lateral3.bias\u001b[0m\n",
      "  \u001b[35mbackbone.fpn_output3.bias\u001b[0m\n",
      "  \u001b[35mbackbone.fpn_lateral4.bias\u001b[0m\n",
      "  \u001b[35mbackbone.fpn_output4.bias\u001b[0m\n",
      "  \u001b[35mbackbone.fpn_lateral5.bias\u001b[0m\n",
      "  \u001b[35mbackbone.fpn_output5.bias\u001b[0m\n",
      " 58%|███████████████████████▊                 | 574/987 [46:40<31:58,  4.65s/it]"
     ]
    },
    {
     "name": "stdout",
     "output_type": "stream",
     "text": [
      "21_07_1936_00000006\n",
      "Pages/21_07_1936_00000006.tif.large.jpg\n"
     ]
    },
    {
     "name": "stderr",
     "output_type": "stream",
     "text": [
      "The checkpoint state_dict contains keys that are not used by the model:\n",
      "  \u001b[35mbackbone.fpn_lateral2.bias\u001b[0m\n",
      "  \u001b[35mbackbone.fpn_output2.bias\u001b[0m\n",
      "  \u001b[35mbackbone.fpn_lateral3.bias\u001b[0m\n",
      "  \u001b[35mbackbone.fpn_output3.bias\u001b[0m\n",
      "  \u001b[35mbackbone.fpn_lateral4.bias\u001b[0m\n",
      "  \u001b[35mbackbone.fpn_output4.bias\u001b[0m\n",
      "  \u001b[35mbackbone.fpn_lateral5.bias\u001b[0m\n",
      "  \u001b[35mbackbone.fpn_output5.bias\u001b[0m\n",
      " 58%|███████████████████████▉                 | 575/987 [46:45<32:04,  4.67s/it]"
     ]
    },
    {
     "name": "stdout",
     "output_type": "stream",
     "text": [
      "08_10_1936_00000017\n",
      "Pages/08_10_1936_00000017.tif.large.jpg\n"
     ]
    },
    {
     "name": "stderr",
     "output_type": "stream",
     "text": [
      "The checkpoint state_dict contains keys that are not used by the model:\n",
      "  \u001b[35mbackbone.fpn_lateral2.bias\u001b[0m\n",
      "  \u001b[35mbackbone.fpn_output2.bias\u001b[0m\n",
      "  \u001b[35mbackbone.fpn_lateral3.bias\u001b[0m\n",
      "  \u001b[35mbackbone.fpn_output3.bias\u001b[0m\n",
      "  \u001b[35mbackbone.fpn_lateral4.bias\u001b[0m\n",
      "  \u001b[35mbackbone.fpn_output4.bias\u001b[0m\n",
      "  \u001b[35mbackbone.fpn_lateral5.bias\u001b[0m\n",
      "  \u001b[35mbackbone.fpn_output5.bias\u001b[0m\n",
      " 58%|███████████████████████▉                 | 576/987 [46:49<31:40,  4.62s/it]"
     ]
    },
    {
     "name": "stdout",
     "output_type": "stream",
     "text": [
      "17_12_1936_00000002\n",
      "Pages/17_12_1936_00000002.tif.large.jpg\n"
     ]
    },
    {
     "name": "stderr",
     "output_type": "stream",
     "text": [
      "The checkpoint state_dict contains keys that are not used by the model:\n",
      "  \u001b[35mbackbone.fpn_lateral2.bias\u001b[0m\n",
      "  \u001b[35mbackbone.fpn_output2.bias\u001b[0m\n",
      "  \u001b[35mbackbone.fpn_lateral3.bias\u001b[0m\n",
      "  \u001b[35mbackbone.fpn_output3.bias\u001b[0m\n",
      "  \u001b[35mbackbone.fpn_lateral4.bias\u001b[0m\n",
      "  \u001b[35mbackbone.fpn_output4.bias\u001b[0m\n",
      "  \u001b[35mbackbone.fpn_lateral5.bias\u001b[0m\n",
      "  \u001b[35mbackbone.fpn_output5.bias\u001b[0m\n",
      " 58%|███████████████████████▉                 | 577/987 [46:54<31:34,  4.62s/it]"
     ]
    },
    {
     "name": "stdout",
     "output_type": "stream",
     "text": [
      "21_01_1936_00000002\n",
      "Pages/21_01_1936_00000002.tif.large.jpg\n"
     ]
    },
    {
     "name": "stderr",
     "output_type": "stream",
     "text": [
      "The checkpoint state_dict contains keys that are not used by the model:\n",
      "  \u001b[35mbackbone.fpn_lateral2.bias\u001b[0m\n",
      "  \u001b[35mbackbone.fpn_output2.bias\u001b[0m\n",
      "  \u001b[35mbackbone.fpn_lateral3.bias\u001b[0m\n",
      "  \u001b[35mbackbone.fpn_output3.bias\u001b[0m\n",
      "  \u001b[35mbackbone.fpn_lateral4.bias\u001b[0m\n",
      "  \u001b[35mbackbone.fpn_output4.bias\u001b[0m\n",
      "  \u001b[35mbackbone.fpn_lateral5.bias\u001b[0m\n",
      "  \u001b[35mbackbone.fpn_output5.bias\u001b[0m\n",
      " 59%|████████████████████████                 | 578/987 [46:59<31:49,  4.67s/it]"
     ]
    },
    {
     "name": "stdout",
     "output_type": "stream",
     "text": [
      "08_04_1936_00000011\n",
      "Pages/08_04_1936_00000011.tif.large.jpg\n"
     ]
    },
    {
     "name": "stderr",
     "output_type": "stream",
     "text": [
      "The checkpoint state_dict contains keys that are not used by the model:\n",
      "  \u001b[35mbackbone.fpn_lateral2.bias\u001b[0m\n",
      "  \u001b[35mbackbone.fpn_output2.bias\u001b[0m\n",
      "  \u001b[35mbackbone.fpn_lateral3.bias\u001b[0m\n",
      "  \u001b[35mbackbone.fpn_output3.bias\u001b[0m\n",
      "  \u001b[35mbackbone.fpn_lateral4.bias\u001b[0m\n",
      "  \u001b[35mbackbone.fpn_output4.bias\u001b[0m\n",
      "  \u001b[35mbackbone.fpn_lateral5.bias\u001b[0m\n",
      "  \u001b[35mbackbone.fpn_output5.bias\u001b[0m\n",
      " 59%|████████████████████████                 | 579/987 [47:03<31:39,  4.66s/it]"
     ]
    },
    {
     "name": "stdout",
     "output_type": "stream",
     "text": [
      "23_09_1936_00000006\n",
      "Pages/23_09_1936_00000006.tif.large.jpg\n"
     ]
    },
    {
     "name": "stderr",
     "output_type": "stream",
     "text": [
      "The checkpoint state_dict contains keys that are not used by the model:\n",
      "  \u001b[35mbackbone.fpn_lateral2.bias\u001b[0m\n",
      "  \u001b[35mbackbone.fpn_output2.bias\u001b[0m\n",
      "  \u001b[35mbackbone.fpn_lateral3.bias\u001b[0m\n",
      "  \u001b[35mbackbone.fpn_output3.bias\u001b[0m\n",
      "  \u001b[35mbackbone.fpn_lateral4.bias\u001b[0m\n",
      "  \u001b[35mbackbone.fpn_output4.bias\u001b[0m\n",
      "  \u001b[35mbackbone.fpn_lateral5.bias\u001b[0m\n",
      "  \u001b[35mbackbone.fpn_output5.bias\u001b[0m\n",
      " 59%|████████████████████████                 | 580/987 [47:08<31:39,  4.67s/it]"
     ]
    },
    {
     "name": "stdout",
     "output_type": "stream",
     "text": [
      "26_09_1936_00000006\n",
      "Pages/26_09_1936_00000006.tif.large.jpg\n"
     ]
    },
    {
     "name": "stderr",
     "output_type": "stream",
     "text": [
      "The checkpoint state_dict contains keys that are not used by the model:\n",
      "  \u001b[35mbackbone.fpn_lateral2.bias\u001b[0m\n",
      "  \u001b[35mbackbone.fpn_output2.bias\u001b[0m\n",
      "  \u001b[35mbackbone.fpn_lateral3.bias\u001b[0m\n",
      "  \u001b[35mbackbone.fpn_output3.bias\u001b[0m\n",
      "  \u001b[35mbackbone.fpn_lateral4.bias\u001b[0m\n",
      "  \u001b[35mbackbone.fpn_output4.bias\u001b[0m\n",
      "  \u001b[35mbackbone.fpn_lateral5.bias\u001b[0m\n",
      "  \u001b[35mbackbone.fpn_output5.bias\u001b[0m\n",
      " 59%|████████████████████████▏                | 581/987 [47:12<31:08,  4.60s/it]"
     ]
    },
    {
     "name": "stdout",
     "output_type": "stream",
     "text": [
      "20_09_1936_00000015\n",
      "Pages/20_09_1936_00000015.tif.large.jpg\n"
     ]
    },
    {
     "name": "stderr",
     "output_type": "stream",
     "text": [
      "The checkpoint state_dict contains keys that are not used by the model:\n",
      "  \u001b[35mbackbone.fpn_lateral2.bias\u001b[0m\n",
      "  \u001b[35mbackbone.fpn_output2.bias\u001b[0m\n",
      "  \u001b[35mbackbone.fpn_lateral3.bias\u001b[0m\n",
      "  \u001b[35mbackbone.fpn_output3.bias\u001b[0m\n",
      "  \u001b[35mbackbone.fpn_lateral4.bias\u001b[0m\n",
      "  \u001b[35mbackbone.fpn_output4.bias\u001b[0m\n",
      "  \u001b[35mbackbone.fpn_lateral5.bias\u001b[0m\n",
      "  \u001b[35mbackbone.fpn_output5.bias\u001b[0m\n",
      " 59%|████████████████████████▏                | 582/987 [47:17<31:00,  4.60s/it]"
     ]
    },
    {
     "name": "stdout",
     "output_type": "stream",
     "text": [
      "31_01_1936_00000009\n",
      "Pages/31_01_1936_00000009.tif.large.jpg\n"
     ]
    },
    {
     "name": "stderr",
     "output_type": "stream",
     "text": [
      "The checkpoint state_dict contains keys that are not used by the model:\n",
      "  \u001b[35mbackbone.fpn_lateral2.bias\u001b[0m\n",
      "  \u001b[35mbackbone.fpn_output2.bias\u001b[0m\n",
      "  \u001b[35mbackbone.fpn_lateral3.bias\u001b[0m\n",
      "  \u001b[35mbackbone.fpn_output3.bias\u001b[0m\n",
      "  \u001b[35mbackbone.fpn_lateral4.bias\u001b[0m\n",
      "  \u001b[35mbackbone.fpn_output4.bias\u001b[0m\n",
      "  \u001b[35mbackbone.fpn_lateral5.bias\u001b[0m\n",
      "  \u001b[35mbackbone.fpn_output5.bias\u001b[0m\n",
      " 59%|████████████████████████▏                | 583/987 [47:21<30:53,  4.59s/it]"
     ]
    },
    {
     "name": "stdout",
     "output_type": "stream",
     "text": [
      "06_09_1936_00000008\n",
      "Pages/06_09_1936_00000008.tif.large.jpg\n"
     ]
    },
    {
     "name": "stderr",
     "output_type": "stream",
     "text": [
      "The checkpoint state_dict contains keys that are not used by the model:\n",
      "  \u001b[35mbackbone.fpn_lateral2.bias\u001b[0m\n",
      "  \u001b[35mbackbone.fpn_output2.bias\u001b[0m\n",
      "  \u001b[35mbackbone.fpn_lateral3.bias\u001b[0m\n",
      "  \u001b[35mbackbone.fpn_output3.bias\u001b[0m\n",
      "  \u001b[35mbackbone.fpn_lateral4.bias\u001b[0m\n",
      "  \u001b[35mbackbone.fpn_output4.bias\u001b[0m\n",
      "  \u001b[35mbackbone.fpn_lateral5.bias\u001b[0m\n",
      "  \u001b[35mbackbone.fpn_output5.bias\u001b[0m\n",
      " 59%|████████████████████████▎                | 584/987 [47:26<30:50,  4.59s/it]"
     ]
    },
    {
     "name": "stdout",
     "output_type": "stream",
     "text": [
      "22_08_1936_00000005\n",
      "Pages/22_08_1936_00000005.tif.large.jpg\n"
     ]
    },
    {
     "name": "stderr",
     "output_type": "stream",
     "text": [
      "The checkpoint state_dict contains keys that are not used by the model:\n",
      "  \u001b[35mbackbone.fpn_lateral2.bias\u001b[0m\n",
      "  \u001b[35mbackbone.fpn_output2.bias\u001b[0m\n",
      "  \u001b[35mbackbone.fpn_lateral3.bias\u001b[0m\n",
      "  \u001b[35mbackbone.fpn_output3.bias\u001b[0m\n",
      "  \u001b[35mbackbone.fpn_lateral4.bias\u001b[0m\n",
      "  \u001b[35mbackbone.fpn_output4.bias\u001b[0m\n",
      "  \u001b[35mbackbone.fpn_lateral5.bias\u001b[0m\n",
      "  \u001b[35mbackbone.fpn_output5.bias\u001b[0m\n",
      " 59%|████████████████████████▎                | 585/987 [47:31<31:11,  4.66s/it]"
     ]
    },
    {
     "name": "stdout",
     "output_type": "stream",
     "text": [
      "23_01_1936_00000007\n",
      "Pages/23_01_1936_00000007.tif.large.jpg\n"
     ]
    },
    {
     "name": "stderr",
     "output_type": "stream",
     "text": [
      "The checkpoint state_dict contains keys that are not used by the model:\n",
      "  \u001b[35mbackbone.fpn_lateral2.bias\u001b[0m\n",
      "  \u001b[35mbackbone.fpn_output2.bias\u001b[0m\n",
      "  \u001b[35mbackbone.fpn_lateral3.bias\u001b[0m\n",
      "  \u001b[35mbackbone.fpn_output3.bias\u001b[0m\n",
      "  \u001b[35mbackbone.fpn_lateral4.bias\u001b[0m\n",
      "  \u001b[35mbackbone.fpn_output4.bias\u001b[0m\n",
      "  \u001b[35mbackbone.fpn_lateral5.bias\u001b[0m\n",
      "  \u001b[35mbackbone.fpn_output5.bias\u001b[0m\n",
      " 59%|████████████████████████▎                | 586/987 [47:35<30:59,  4.64s/it]"
     ]
    },
    {
     "name": "stdout",
     "output_type": "stream",
     "text": [
      "21_01_1936_00000007\n",
      "Pages/21_01_1936_00000007.tif.large.jpg\n"
     ]
    },
    {
     "name": "stderr",
     "output_type": "stream",
     "text": [
      "The checkpoint state_dict contains keys that are not used by the model:\n",
      "  \u001b[35mbackbone.fpn_lateral2.bias\u001b[0m\n",
      "  \u001b[35mbackbone.fpn_output2.bias\u001b[0m\n",
      "  \u001b[35mbackbone.fpn_lateral3.bias\u001b[0m\n",
      "  \u001b[35mbackbone.fpn_output3.bias\u001b[0m\n",
      "  \u001b[35mbackbone.fpn_lateral4.bias\u001b[0m\n",
      "  \u001b[35mbackbone.fpn_output4.bias\u001b[0m\n",
      "  \u001b[35mbackbone.fpn_lateral5.bias\u001b[0m\n",
      "  \u001b[35mbackbone.fpn_output5.bias\u001b[0m\n",
      " 59%|████████████████████████▍                | 587/987 [47:40<31:12,  4.68s/it]"
     ]
    },
    {
     "name": "stdout",
     "output_type": "stream",
     "text": [
      "08_03_1936_00000037\n",
      "Pages/08_03_1936_00000037.tif.large.jpg\n"
     ]
    },
    {
     "name": "stderr",
     "output_type": "stream",
     "text": [
      "The checkpoint state_dict contains keys that are not used by the model:\n",
      "  \u001b[35mbackbone.fpn_lateral2.bias\u001b[0m\n",
      "  \u001b[35mbackbone.fpn_output2.bias\u001b[0m\n",
      "  \u001b[35mbackbone.fpn_lateral3.bias\u001b[0m\n",
      "  \u001b[35mbackbone.fpn_output3.bias\u001b[0m\n",
      "  \u001b[35mbackbone.fpn_lateral4.bias\u001b[0m\n",
      "  \u001b[35mbackbone.fpn_output4.bias\u001b[0m\n",
      "  \u001b[35mbackbone.fpn_lateral5.bias\u001b[0m\n",
      "  \u001b[35mbackbone.fpn_output5.bias\u001b[0m\n",
      " 60%|████████████████████████▍                | 588/987 [47:45<30:54,  4.65s/it]"
     ]
    },
    {
     "name": "stdout",
     "output_type": "stream",
     "text": [
      "16_12_1936_00000014\n",
      "Pages/16_12_1936_00000014.tif.large.jpg\n"
     ]
    },
    {
     "name": "stderr",
     "output_type": "stream",
     "text": [
      "The checkpoint state_dict contains keys that are not used by the model:\n",
      "  \u001b[35mbackbone.fpn_lateral2.bias\u001b[0m\n",
      "  \u001b[35mbackbone.fpn_output2.bias\u001b[0m\n",
      "  \u001b[35mbackbone.fpn_lateral3.bias\u001b[0m\n",
      "  \u001b[35mbackbone.fpn_output3.bias\u001b[0m\n",
      "  \u001b[35mbackbone.fpn_lateral4.bias\u001b[0m\n",
      "  \u001b[35mbackbone.fpn_output4.bias\u001b[0m\n",
      "  \u001b[35mbackbone.fpn_lateral5.bias\u001b[0m\n",
      "  \u001b[35mbackbone.fpn_output5.bias\u001b[0m\n",
      " 60%|████████████████████████▍                | 589/987 [47:49<30:43,  4.63s/it]"
     ]
    },
    {
     "name": "stdout",
     "output_type": "stream",
     "text": [
      "15_04_1936_00000008\n",
      "Pages/15_04_1936_00000008.tif.large.jpg\n"
     ]
    },
    {
     "name": "stderr",
     "output_type": "stream",
     "text": [
      "The checkpoint state_dict contains keys that are not used by the model:\n",
      "  \u001b[35mbackbone.fpn_lateral2.bias\u001b[0m\n",
      "  \u001b[35mbackbone.fpn_output2.bias\u001b[0m\n",
      "  \u001b[35mbackbone.fpn_lateral3.bias\u001b[0m\n",
      "  \u001b[35mbackbone.fpn_output3.bias\u001b[0m\n",
      "  \u001b[35mbackbone.fpn_lateral4.bias\u001b[0m\n",
      "  \u001b[35mbackbone.fpn_output4.bias\u001b[0m\n",
      "  \u001b[35mbackbone.fpn_lateral5.bias\u001b[0m\n",
      "  \u001b[35mbackbone.fpn_output5.bias\u001b[0m\n",
      " 60%|████████████████████████▌                | 590/987 [47:54<30:26,  4.60s/it]"
     ]
    },
    {
     "name": "stdout",
     "output_type": "stream",
     "text": [
      "24_01_1936_00000009\n",
      "Pages/24_01_1936_00000009.tif.large.jpg\n"
     ]
    },
    {
     "name": "stderr",
     "output_type": "stream",
     "text": [
      "The checkpoint state_dict contains keys that are not used by the model:\n",
      "  \u001b[35mbackbone.fpn_lateral2.bias\u001b[0m\n",
      "  \u001b[35mbackbone.fpn_output2.bias\u001b[0m\n",
      "  \u001b[35mbackbone.fpn_lateral3.bias\u001b[0m\n",
      "  \u001b[35mbackbone.fpn_output3.bias\u001b[0m\n",
      "  \u001b[35mbackbone.fpn_lateral4.bias\u001b[0m\n",
      "  \u001b[35mbackbone.fpn_output4.bias\u001b[0m\n",
      "  \u001b[35mbackbone.fpn_lateral5.bias\u001b[0m\n",
      "  \u001b[35mbackbone.fpn_output5.bias\u001b[0m\n",
      " 60%|████████████████████████▌                | 591/987 [47:59<30:18,  4.59s/it]"
     ]
    },
    {
     "name": "stdout",
     "output_type": "stream",
     "text": [
      "13_08_1936_00000010\n",
      "Pages/13_08_1936_00000010.tif.large.jpg\n"
     ]
    },
    {
     "name": "stderr",
     "output_type": "stream",
     "text": [
      "The checkpoint state_dict contains keys that are not used by the model:\n",
      "  \u001b[35mbackbone.fpn_lateral2.bias\u001b[0m\n",
      "  \u001b[35mbackbone.fpn_output2.bias\u001b[0m\n",
      "  \u001b[35mbackbone.fpn_lateral3.bias\u001b[0m\n",
      "  \u001b[35mbackbone.fpn_output3.bias\u001b[0m\n",
      "  \u001b[35mbackbone.fpn_lateral4.bias\u001b[0m\n",
      "  \u001b[35mbackbone.fpn_output4.bias\u001b[0m\n",
      "  \u001b[35mbackbone.fpn_lateral5.bias\u001b[0m\n",
      "  \u001b[35mbackbone.fpn_output5.bias\u001b[0m\n",
      " 60%|████████████████████████▌                | 592/987 [48:03<30:13,  4.59s/it]"
     ]
    },
    {
     "name": "stdout",
     "output_type": "stream",
     "text": [
      "09_02_1936_00000007\n",
      "Pages/09_02_1936_00000007.tif.large.jpg\n"
     ]
    },
    {
     "name": "stderr",
     "output_type": "stream",
     "text": [
      "The checkpoint state_dict contains keys that are not used by the model:\n",
      "  \u001b[35mbackbone.fpn_lateral2.bias\u001b[0m\n",
      "  \u001b[35mbackbone.fpn_output2.bias\u001b[0m\n",
      "  \u001b[35mbackbone.fpn_lateral3.bias\u001b[0m\n",
      "  \u001b[35mbackbone.fpn_output3.bias\u001b[0m\n",
      "  \u001b[35mbackbone.fpn_lateral4.bias\u001b[0m\n",
      "  \u001b[35mbackbone.fpn_output4.bias\u001b[0m\n",
      "  \u001b[35mbackbone.fpn_lateral5.bias\u001b[0m\n",
      "  \u001b[35mbackbone.fpn_output5.bias\u001b[0m\n",
      " 60%|████████████████████████▋                | 593/987 [48:08<30:37,  4.66s/it]"
     ]
    },
    {
     "name": "stdout",
     "output_type": "stream",
     "text": [
      "18_03_1936_00000005\n",
      "Pages/18_03_1936_00000005.tif.large.jpg\n"
     ]
    },
    {
     "name": "stderr",
     "output_type": "stream",
     "text": [
      "The checkpoint state_dict contains keys that are not used by the model:\n",
      "  \u001b[35mbackbone.fpn_lateral2.bias\u001b[0m\n",
      "  \u001b[35mbackbone.fpn_output2.bias\u001b[0m\n",
      "  \u001b[35mbackbone.fpn_lateral3.bias\u001b[0m\n",
      "  \u001b[35mbackbone.fpn_output3.bias\u001b[0m\n",
      "  \u001b[35mbackbone.fpn_lateral4.bias\u001b[0m\n",
      "  \u001b[35mbackbone.fpn_output4.bias\u001b[0m\n",
      "  \u001b[35mbackbone.fpn_lateral5.bias\u001b[0m\n",
      "  \u001b[35mbackbone.fpn_output5.bias\u001b[0m\n",
      " 60%|████████████████████████▋                | 594/987 [48:13<30:33,  4.67s/it]"
     ]
    },
    {
     "name": "stdout",
     "output_type": "stream",
     "text": [
      "31_10_1936_00000007\n",
      "Pages/31_10_1936_00000007.tif.large.jpg\n"
     ]
    },
    {
     "name": "stderr",
     "output_type": "stream",
     "text": [
      "The checkpoint state_dict contains keys that are not used by the model:\n",
      "  \u001b[35mbackbone.fpn_lateral2.bias\u001b[0m\n",
      "  \u001b[35mbackbone.fpn_output2.bias\u001b[0m\n",
      "  \u001b[35mbackbone.fpn_lateral3.bias\u001b[0m\n",
      "  \u001b[35mbackbone.fpn_output3.bias\u001b[0m\n",
      "  \u001b[35mbackbone.fpn_lateral4.bias\u001b[0m\n",
      "  \u001b[35mbackbone.fpn_output4.bias\u001b[0m\n",
      "  \u001b[35mbackbone.fpn_lateral5.bias\u001b[0m\n",
      "  \u001b[35mbackbone.fpn_output5.bias\u001b[0m\n",
      " 60%|████████████████████████▋                | 595/987 [48:17<30:14,  4.63s/it]"
     ]
    },
    {
     "name": "stdout",
     "output_type": "stream",
     "text": [
      "23_09_1936_00000012\n",
      "Pages/23_09_1936_00000012.tif.large.jpg\n"
     ]
    },
    {
     "name": "stderr",
     "output_type": "stream",
     "text": [
      "The checkpoint state_dict contains keys that are not used by the model:\n",
      "  \u001b[35mbackbone.fpn_lateral2.bias\u001b[0m\n",
      "  \u001b[35mbackbone.fpn_output2.bias\u001b[0m\n",
      "  \u001b[35mbackbone.fpn_lateral3.bias\u001b[0m\n",
      "  \u001b[35mbackbone.fpn_output3.bias\u001b[0m\n",
      "  \u001b[35mbackbone.fpn_lateral4.bias\u001b[0m\n",
      "  \u001b[35mbackbone.fpn_output4.bias\u001b[0m\n",
      "  \u001b[35mbackbone.fpn_lateral5.bias\u001b[0m\n",
      "  \u001b[35mbackbone.fpn_output5.bias\u001b[0m\n",
      " 60%|████████████████████████▊                | 596/987 [48:22<30:16,  4.65s/it]"
     ]
    },
    {
     "name": "stdout",
     "output_type": "stream",
     "text": [
      "21_04_1936_00000008\n",
      "Pages/21_04_1936_00000008.tif.large.jpg\n"
     ]
    },
    {
     "name": "stderr",
     "output_type": "stream",
     "text": [
      "The checkpoint state_dict contains keys that are not used by the model:\n",
      "  \u001b[35mbackbone.fpn_lateral2.bias\u001b[0m\n",
      "  \u001b[35mbackbone.fpn_output2.bias\u001b[0m\n",
      "  \u001b[35mbackbone.fpn_lateral3.bias\u001b[0m\n",
      "  \u001b[35mbackbone.fpn_output3.bias\u001b[0m\n",
      "  \u001b[35mbackbone.fpn_lateral4.bias\u001b[0m\n",
      "  \u001b[35mbackbone.fpn_output4.bias\u001b[0m\n",
      "  \u001b[35mbackbone.fpn_lateral5.bias\u001b[0m\n",
      "  \u001b[35mbackbone.fpn_output5.bias\u001b[0m\n",
      " 60%|████████████████████████▊                | 597/987 [48:27<30:12,  4.65s/it]"
     ]
    },
    {
     "name": "stdout",
     "output_type": "stream",
     "text": [
      "13_09_1936_00000019\n",
      "Pages/13_09_1936_00000019.tif.large.jpg\n"
     ]
    },
    {
     "name": "stderr",
     "output_type": "stream",
     "text": [
      "The checkpoint state_dict contains keys that are not used by the model:\n",
      "  \u001b[35mbackbone.fpn_lateral2.bias\u001b[0m\n",
      "  \u001b[35mbackbone.fpn_output2.bias\u001b[0m\n",
      "  \u001b[35mbackbone.fpn_lateral3.bias\u001b[0m\n",
      "  \u001b[35mbackbone.fpn_output3.bias\u001b[0m\n",
      "  \u001b[35mbackbone.fpn_lateral4.bias\u001b[0m\n",
      "  \u001b[35mbackbone.fpn_output4.bias\u001b[0m\n",
      "  \u001b[35mbackbone.fpn_lateral5.bias\u001b[0m\n",
      "  \u001b[35mbackbone.fpn_output5.bias\u001b[0m\n",
      " 61%|████████████████████████▊                | 598/987 [48:31<29:56,  4.62s/it]"
     ]
    },
    {
     "name": "stdout",
     "output_type": "stream",
     "text": [
      "03_09_1936_00000005\n",
      "Pages/03_09_1936_00000005.tif.large.jpg\n"
     ]
    },
    {
     "name": "stderr",
     "output_type": "stream",
     "text": [
      "The checkpoint state_dict contains keys that are not used by the model:\n",
      "  \u001b[35mbackbone.fpn_lateral2.bias\u001b[0m\n",
      "  \u001b[35mbackbone.fpn_output2.bias\u001b[0m\n",
      "  \u001b[35mbackbone.fpn_lateral3.bias\u001b[0m\n",
      "  \u001b[35mbackbone.fpn_output3.bias\u001b[0m\n",
      "  \u001b[35mbackbone.fpn_lateral4.bias\u001b[0m\n",
      "  \u001b[35mbackbone.fpn_output4.bias\u001b[0m\n",
      "  \u001b[35mbackbone.fpn_lateral5.bias\u001b[0m\n",
      "  \u001b[35mbackbone.fpn_output5.bias\u001b[0m\n",
      " 61%|████████████████████████▉                | 599/987 [48:36<29:43,  4.60s/it]"
     ]
    },
    {
     "name": "stdout",
     "output_type": "stream",
     "text": [
      "01_03_1936_00000020\n",
      "Pages/01_03_1936_00000020.tif.large.jpg\n"
     ]
    },
    {
     "name": "stderr",
     "output_type": "stream",
     "text": [
      "The checkpoint state_dict contains keys that are not used by the model:\n",
      "  \u001b[35mbackbone.fpn_lateral2.bias\u001b[0m\n",
      "  \u001b[35mbackbone.fpn_output2.bias\u001b[0m\n",
      "  \u001b[35mbackbone.fpn_lateral3.bias\u001b[0m\n",
      "  \u001b[35mbackbone.fpn_output3.bias\u001b[0m\n",
      "  \u001b[35mbackbone.fpn_lateral4.bias\u001b[0m\n",
      "  \u001b[35mbackbone.fpn_output4.bias\u001b[0m\n",
      "  \u001b[35mbackbone.fpn_lateral5.bias\u001b[0m\n",
      "  \u001b[35mbackbone.fpn_output5.bias\u001b[0m\n",
      " 61%|████████████████████████▉                | 600/987 [48:40<29:38,  4.59s/it]"
     ]
    },
    {
     "name": "stdout",
     "output_type": "stream",
     "text": [
      "20_09_1936_00000010\n",
      "Pages/20_09_1936_00000010.tif.large.jpg\n"
     ]
    },
    {
     "name": "stderr",
     "output_type": "stream",
     "text": [
      "The checkpoint state_dict contains keys that are not used by the model:\n",
      "  \u001b[35mbackbone.fpn_lateral2.bias\u001b[0m\n",
      "  \u001b[35mbackbone.fpn_output2.bias\u001b[0m\n",
      "  \u001b[35mbackbone.fpn_lateral3.bias\u001b[0m\n",
      "  \u001b[35mbackbone.fpn_output3.bias\u001b[0m\n",
      "  \u001b[35mbackbone.fpn_lateral4.bias\u001b[0m\n",
      "  \u001b[35mbackbone.fpn_output4.bias\u001b[0m\n",
      "  \u001b[35mbackbone.fpn_lateral5.bias\u001b[0m\n",
      "  \u001b[35mbackbone.fpn_output5.bias\u001b[0m\n",
      " 61%|████████████████████████▉                | 601/987 [48:45<29:26,  4.58s/it]"
     ]
    },
    {
     "name": "stdout",
     "output_type": "stream",
     "text": [
      "06_02_1936_00000002\n",
      "Pages/06_02_1936_00000002.tif.large.jpg\n"
     ]
    },
    {
     "name": "stderr",
     "output_type": "stream",
     "text": [
      "The checkpoint state_dict contains keys that are not used by the model:\n",
      "  \u001b[35mbackbone.fpn_lateral2.bias\u001b[0m\n",
      "  \u001b[35mbackbone.fpn_output2.bias\u001b[0m\n",
      "  \u001b[35mbackbone.fpn_lateral3.bias\u001b[0m\n",
      "  \u001b[35mbackbone.fpn_output3.bias\u001b[0m\n",
      "  \u001b[35mbackbone.fpn_lateral4.bias\u001b[0m\n",
      "  \u001b[35mbackbone.fpn_output4.bias\u001b[0m\n",
      "  \u001b[35mbackbone.fpn_lateral5.bias\u001b[0m\n",
      "  \u001b[35mbackbone.fpn_output5.bias\u001b[0m\n",
      " 61%|█████████████████████████                | 602/987 [48:49<29:24,  4.58s/it]"
     ]
    },
    {
     "name": "stdout",
     "output_type": "stream",
     "text": [
      "26_07_1936_00000021\n",
      "Pages/26_07_1936_00000021.tif.large.jpg\n"
     ]
    },
    {
     "name": "stderr",
     "output_type": "stream",
     "text": [
      "The checkpoint state_dict contains keys that are not used by the model:\n",
      "  \u001b[35mbackbone.fpn_lateral2.bias\u001b[0m\n",
      "  \u001b[35mbackbone.fpn_output2.bias\u001b[0m\n",
      "  \u001b[35mbackbone.fpn_lateral3.bias\u001b[0m\n",
      "  \u001b[35mbackbone.fpn_output3.bias\u001b[0m\n",
      "  \u001b[35mbackbone.fpn_lateral4.bias\u001b[0m\n",
      "  \u001b[35mbackbone.fpn_output4.bias\u001b[0m\n",
      "  \u001b[35mbackbone.fpn_lateral5.bias\u001b[0m\n",
      "  \u001b[35mbackbone.fpn_output5.bias\u001b[0m\n",
      " 61%|█████████████████████████                | 603/987 [48:54<29:22,  4.59s/it]"
     ]
    },
    {
     "name": "stdout",
     "output_type": "stream",
     "text": [
      "16_12_1936_00000005\n",
      "Pages/16_12_1936_00000005.tif.large.jpg\n"
     ]
    },
    {
     "name": "stderr",
     "output_type": "stream",
     "text": [
      "The checkpoint state_dict contains keys that are not used by the model:\n",
      "  \u001b[35mbackbone.fpn_lateral2.bias\u001b[0m\n",
      "  \u001b[35mbackbone.fpn_output2.bias\u001b[0m\n",
      "  \u001b[35mbackbone.fpn_lateral3.bias\u001b[0m\n",
      "  \u001b[35mbackbone.fpn_output3.bias\u001b[0m\n",
      "  \u001b[35mbackbone.fpn_lateral4.bias\u001b[0m\n",
      "  \u001b[35mbackbone.fpn_output4.bias\u001b[0m\n",
      "  \u001b[35mbackbone.fpn_lateral5.bias\u001b[0m\n",
      "  \u001b[35mbackbone.fpn_output5.bias\u001b[0m\n",
      " 61%|█████████████████████████                | 604/987 [48:59<29:18,  4.59s/it]"
     ]
    },
    {
     "name": "stdout",
     "output_type": "stream",
     "text": [
      "17_10_1936_00000002\n",
      "Pages/17_10_1936_00000002.tif.large.jpg\n"
     ]
    },
    {
     "name": "stderr",
     "output_type": "stream",
     "text": [
      "The checkpoint state_dict contains keys that are not used by the model:\n",
      "  \u001b[35mbackbone.fpn_lateral2.bias\u001b[0m\n",
      "  \u001b[35mbackbone.fpn_output2.bias\u001b[0m\n",
      "  \u001b[35mbackbone.fpn_lateral3.bias\u001b[0m\n",
      "  \u001b[35mbackbone.fpn_output3.bias\u001b[0m\n",
      "  \u001b[35mbackbone.fpn_lateral4.bias\u001b[0m\n",
      "  \u001b[35mbackbone.fpn_output4.bias\u001b[0m\n",
      "  \u001b[35mbackbone.fpn_lateral5.bias\u001b[0m\n",
      "  \u001b[35mbackbone.fpn_output5.bias\u001b[0m\n",
      " 61%|█████████████████████████▏               | 605/987 [49:03<29:24,  4.62s/it]"
     ]
    },
    {
     "name": "stdout",
     "output_type": "stream",
     "text": [
      "12_04_1936_00000041\n",
      "Pages/12_04_1936_00000041.tif.large.jpg\n"
     ]
    },
    {
     "name": "stderr",
     "output_type": "stream",
     "text": [
      "The checkpoint state_dict contains keys that are not used by the model:\n",
      "  \u001b[35mbackbone.fpn_lateral2.bias\u001b[0m\n",
      "  \u001b[35mbackbone.fpn_output2.bias\u001b[0m\n",
      "  \u001b[35mbackbone.fpn_lateral3.bias\u001b[0m\n",
      "  \u001b[35mbackbone.fpn_output3.bias\u001b[0m\n",
      "  \u001b[35mbackbone.fpn_lateral4.bias\u001b[0m\n",
      "  \u001b[35mbackbone.fpn_output4.bias\u001b[0m\n",
      "  \u001b[35mbackbone.fpn_lateral5.bias\u001b[0m\n",
      "  \u001b[35mbackbone.fpn_output5.bias\u001b[0m\n",
      " 61%|█████████████████████████▏               | 606/987 [49:08<29:07,  4.59s/it]"
     ]
    },
    {
     "name": "stdout",
     "output_type": "stream",
     "text": [
      "16_11_1936_00000006\n",
      "Pages/16_11_1936_00000006.tif.large.jpg\n"
     ]
    },
    {
     "name": "stderr",
     "output_type": "stream",
     "text": [
      "The checkpoint state_dict contains keys that are not used by the model:\n",
      "  \u001b[35mbackbone.fpn_lateral2.bias\u001b[0m\n",
      "  \u001b[35mbackbone.fpn_output2.bias\u001b[0m\n",
      "  \u001b[35mbackbone.fpn_lateral3.bias\u001b[0m\n",
      "  \u001b[35mbackbone.fpn_output3.bias\u001b[0m\n",
      "  \u001b[35mbackbone.fpn_lateral4.bias\u001b[0m\n",
      "  \u001b[35mbackbone.fpn_output4.bias\u001b[0m\n",
      "  \u001b[35mbackbone.fpn_lateral5.bias\u001b[0m\n",
      "  \u001b[35mbackbone.fpn_output5.bias\u001b[0m\n",
      " 61%|█████████████████████████▏               | 607/987 [49:12<29:10,  4.61s/it]"
     ]
    },
    {
     "name": "stdout",
     "output_type": "stream",
     "text": [
      "26_01_1936_00000007\n",
      "Pages/26_01_1936_00000007.tif.large.jpg\n"
     ]
    },
    {
     "name": "stderr",
     "output_type": "stream",
     "text": [
      "The checkpoint state_dict contains keys that are not used by the model:\n",
      "  \u001b[35mbackbone.fpn_lateral2.bias\u001b[0m\n",
      "  \u001b[35mbackbone.fpn_output2.bias\u001b[0m\n",
      "  \u001b[35mbackbone.fpn_lateral3.bias\u001b[0m\n",
      "  \u001b[35mbackbone.fpn_output3.bias\u001b[0m\n",
      "  \u001b[35mbackbone.fpn_lateral4.bias\u001b[0m\n",
      "  \u001b[35mbackbone.fpn_output4.bias\u001b[0m\n",
      "  \u001b[35mbackbone.fpn_lateral5.bias\u001b[0m\n",
      "  \u001b[35mbackbone.fpn_output5.bias\u001b[0m\n",
      " 62%|█████████████████████████▎               | 608/987 [49:17<29:16,  4.63s/it]"
     ]
    },
    {
     "name": "stdout",
     "output_type": "stream",
     "text": [
      "28_01_1936_00000002\n",
      "Pages/28_01_1936_00000002.tif.large.jpg\n"
     ]
    },
    {
     "name": "stderr",
     "output_type": "stream",
     "text": [
      "The checkpoint state_dict contains keys that are not used by the model:\n",
      "  \u001b[35mbackbone.fpn_lateral2.bias\u001b[0m\n",
      "  \u001b[35mbackbone.fpn_output2.bias\u001b[0m\n",
      "  \u001b[35mbackbone.fpn_lateral3.bias\u001b[0m\n",
      "  \u001b[35mbackbone.fpn_output3.bias\u001b[0m\n",
      "  \u001b[35mbackbone.fpn_lateral4.bias\u001b[0m\n",
      "  \u001b[35mbackbone.fpn_output4.bias\u001b[0m\n",
      "  \u001b[35mbackbone.fpn_lateral5.bias\u001b[0m\n",
      "  \u001b[35mbackbone.fpn_output5.bias\u001b[0m\n",
      " 62%|█████████████████████████▎               | 609/987 [49:22<29:28,  4.68s/it]"
     ]
    },
    {
     "name": "stdout",
     "output_type": "stream",
     "text": [
      "09_04_1936_00000018\n",
      "Pages/09_04_1936_00000018.tif.large.jpg\n"
     ]
    },
    {
     "name": "stderr",
     "output_type": "stream",
     "text": [
      "The checkpoint state_dict contains keys that are not used by the model:\n",
      "  \u001b[35mbackbone.fpn_lateral2.bias\u001b[0m\n",
      "  \u001b[35mbackbone.fpn_output2.bias\u001b[0m\n",
      "  \u001b[35mbackbone.fpn_lateral3.bias\u001b[0m\n",
      "  \u001b[35mbackbone.fpn_output3.bias\u001b[0m\n",
      "  \u001b[35mbackbone.fpn_lateral4.bias\u001b[0m\n",
      "  \u001b[35mbackbone.fpn_output4.bias\u001b[0m\n",
      "  \u001b[35mbackbone.fpn_lateral5.bias\u001b[0m\n",
      "  \u001b[35mbackbone.fpn_output5.bias\u001b[0m\n",
      " 62%|█████████████████████████▎               | 610/987 [49:27<29:40,  4.72s/it]"
     ]
    },
    {
     "name": "stdout",
     "output_type": "stream",
     "text": [
      "21_07_1936_00000005\n",
      "Pages/21_07_1936_00000005.tif.large.jpg\n"
     ]
    },
    {
     "name": "stderr",
     "output_type": "stream",
     "text": [
      "The checkpoint state_dict contains keys that are not used by the model:\n",
      "  \u001b[35mbackbone.fpn_lateral2.bias\u001b[0m\n",
      "  \u001b[35mbackbone.fpn_output2.bias\u001b[0m\n",
      "  \u001b[35mbackbone.fpn_lateral3.bias\u001b[0m\n",
      "  \u001b[35mbackbone.fpn_output3.bias\u001b[0m\n",
      "  \u001b[35mbackbone.fpn_lateral4.bias\u001b[0m\n",
      "  \u001b[35mbackbone.fpn_output4.bias\u001b[0m\n",
      "  \u001b[35mbackbone.fpn_lateral5.bias\u001b[0m\n",
      "  \u001b[35mbackbone.fpn_output5.bias\u001b[0m\n",
      " 62%|█████████████████████████▍               | 611/987 [49:31<29:19,  4.68s/it]"
     ]
    },
    {
     "name": "stdout",
     "output_type": "stream",
     "text": [
      "25_11_1936_00000005\n",
      "Pages/25_11_1936_00000005.tif.large.jpg\n"
     ]
    },
    {
     "name": "stderr",
     "output_type": "stream",
     "text": [
      "The checkpoint state_dict contains keys that are not used by the model:\n",
      "  \u001b[35mbackbone.fpn_lateral2.bias\u001b[0m\n",
      "  \u001b[35mbackbone.fpn_output2.bias\u001b[0m\n",
      "  \u001b[35mbackbone.fpn_lateral3.bias\u001b[0m\n",
      "  \u001b[35mbackbone.fpn_output3.bias\u001b[0m\n",
      "  \u001b[35mbackbone.fpn_lateral4.bias\u001b[0m\n",
      "  \u001b[35mbackbone.fpn_output4.bias\u001b[0m\n",
      "  \u001b[35mbackbone.fpn_lateral5.bias\u001b[0m\n",
      "  \u001b[35mbackbone.fpn_output5.bias\u001b[0m\n",
      " 62%|█████████████████████████▍               | 612/987 [49:36<29:23,  4.70s/it]"
     ]
    },
    {
     "name": "stdout",
     "output_type": "stream",
     "text": [
      "05_01_1936_00000007\n",
      "Pages/05_01_1936_00000007.tif.large.jpg\n"
     ]
    },
    {
     "name": "stderr",
     "output_type": "stream",
     "text": [
      "The checkpoint state_dict contains keys that are not used by the model:\n",
      "  \u001b[35mbackbone.fpn_lateral2.bias\u001b[0m\n",
      "  \u001b[35mbackbone.fpn_output2.bias\u001b[0m\n",
      "  \u001b[35mbackbone.fpn_lateral3.bias\u001b[0m\n",
      "  \u001b[35mbackbone.fpn_output3.bias\u001b[0m\n",
      "  \u001b[35mbackbone.fpn_lateral4.bias\u001b[0m\n",
      "  \u001b[35mbackbone.fpn_output4.bias\u001b[0m\n",
      "  \u001b[35mbackbone.fpn_lateral5.bias\u001b[0m\n",
      "  \u001b[35mbackbone.fpn_output5.bias\u001b[0m\n",
      " 62%|█████████████████████████▍               | 613/987 [49:41<29:28,  4.73s/it]"
     ]
    },
    {
     "name": "stdout",
     "output_type": "stream",
     "text": [
      "28_09_1936_00000007\n",
      "Pages/28_09_1936_00000007.tif.large.jpg\n"
     ]
    },
    {
     "name": "stderr",
     "output_type": "stream",
     "text": [
      "The checkpoint state_dict contains keys that are not used by the model:\n",
      "  \u001b[35mbackbone.fpn_lateral2.bias\u001b[0m\n",
      "  \u001b[35mbackbone.fpn_output2.bias\u001b[0m\n",
      "  \u001b[35mbackbone.fpn_lateral3.bias\u001b[0m\n",
      "  \u001b[35mbackbone.fpn_output3.bias\u001b[0m\n",
      "  \u001b[35mbackbone.fpn_lateral4.bias\u001b[0m\n",
      "  \u001b[35mbackbone.fpn_output4.bias\u001b[0m\n",
      "  \u001b[35mbackbone.fpn_lateral5.bias\u001b[0m\n",
      "  \u001b[35mbackbone.fpn_output5.bias\u001b[0m\n",
      " 62%|█████████████████████████▌               | 614/987 [49:45<29:05,  4.68s/it]"
     ]
    },
    {
     "name": "stdout",
     "output_type": "stream",
     "text": [
      "06_08_1936_00000008\n",
      "Pages/06_08_1936_00000008.tif.large.jpg\n"
     ]
    },
    {
     "name": "stderr",
     "output_type": "stream",
     "text": [
      "The checkpoint state_dict contains keys that are not used by the model:\n",
      "  \u001b[35mbackbone.fpn_lateral2.bias\u001b[0m\n",
      "  \u001b[35mbackbone.fpn_output2.bias\u001b[0m\n",
      "  \u001b[35mbackbone.fpn_lateral3.bias\u001b[0m\n",
      "  \u001b[35mbackbone.fpn_output3.bias\u001b[0m\n",
      "  \u001b[35mbackbone.fpn_lateral4.bias\u001b[0m\n",
      "  \u001b[35mbackbone.fpn_output4.bias\u001b[0m\n",
      "  \u001b[35mbackbone.fpn_lateral5.bias\u001b[0m\n",
      "  \u001b[35mbackbone.fpn_output5.bias\u001b[0m\n",
      " 62%|█████████████████████████▌               | 615/987 [49:50<28:50,  4.65s/it]"
     ]
    },
    {
     "name": "stdout",
     "output_type": "stream",
     "text": [
      "04_08_1936_00000006\n",
      "Pages/04_08_1936_00000006.tif.large.jpg\n"
     ]
    },
    {
     "name": "stderr",
     "output_type": "stream",
     "text": [
      "The checkpoint state_dict contains keys that are not used by the model:\n",
      "  \u001b[35mbackbone.fpn_lateral2.bias\u001b[0m\n",
      "  \u001b[35mbackbone.fpn_output2.bias\u001b[0m\n",
      "  \u001b[35mbackbone.fpn_lateral3.bias\u001b[0m\n",
      "  \u001b[35mbackbone.fpn_output3.bias\u001b[0m\n",
      "  \u001b[35mbackbone.fpn_lateral4.bias\u001b[0m\n",
      "  \u001b[35mbackbone.fpn_output4.bias\u001b[0m\n",
      "  \u001b[35mbackbone.fpn_lateral5.bias\u001b[0m\n",
      "  \u001b[35mbackbone.fpn_output5.bias\u001b[0m\n",
      " 62%|█████████████████████████▌               | 616/987 [49:55<28:42,  4.64s/it]"
     ]
    },
    {
     "name": "stdout",
     "output_type": "stream",
     "text": [
      "08_04_1936_00000017\n",
      "Pages/08_04_1936_00000017.tif.large.jpg\n"
     ]
    },
    {
     "name": "stderr",
     "output_type": "stream",
     "text": [
      "The checkpoint state_dict contains keys that are not used by the model:\n",
      "  \u001b[35mbackbone.fpn_lateral2.bias\u001b[0m\n",
      "  \u001b[35mbackbone.fpn_output2.bias\u001b[0m\n",
      "  \u001b[35mbackbone.fpn_lateral3.bias\u001b[0m\n",
      "  \u001b[35mbackbone.fpn_output3.bias\u001b[0m\n",
      "  \u001b[35mbackbone.fpn_lateral4.bias\u001b[0m\n",
      "  \u001b[35mbackbone.fpn_output4.bias\u001b[0m\n",
      "  \u001b[35mbackbone.fpn_lateral5.bias\u001b[0m\n",
      "  \u001b[35mbackbone.fpn_output5.bias\u001b[0m\n",
      " 63%|█████████████████████████▋               | 617/987 [49:59<28:34,  4.63s/it]"
     ]
    },
    {
     "name": "stdout",
     "output_type": "stream",
     "text": [
      "16_12_1936_00000017\n",
      "Pages/16_12_1936_00000017.tif.large.jpg\n"
     ]
    },
    {
     "name": "stderr",
     "output_type": "stream",
     "text": [
      "The checkpoint state_dict contains keys that are not used by the model:\n",
      "  \u001b[35mbackbone.fpn_lateral2.bias\u001b[0m\n",
      "  \u001b[35mbackbone.fpn_output2.bias\u001b[0m\n",
      "  \u001b[35mbackbone.fpn_lateral3.bias\u001b[0m\n",
      "  \u001b[35mbackbone.fpn_output3.bias\u001b[0m\n",
      "  \u001b[35mbackbone.fpn_lateral4.bias\u001b[0m\n",
      "  \u001b[35mbackbone.fpn_output4.bias\u001b[0m\n",
      "  \u001b[35mbackbone.fpn_lateral5.bias\u001b[0m\n",
      "  \u001b[35mbackbone.fpn_output5.bias\u001b[0m\n",
      " 63%|█████████████████████████▋               | 618/987 [50:04<28:25,  4.62s/it]"
     ]
    },
    {
     "name": "stdout",
     "output_type": "stream",
     "text": [
      "23_10_1936_00000002\n",
      "Pages/23_10_1936_00000002.tif.large.jpg\n"
     ]
    },
    {
     "name": "stderr",
     "output_type": "stream",
     "text": [
      "The checkpoint state_dict contains keys that are not used by the model:\n",
      "  \u001b[35mbackbone.fpn_lateral2.bias\u001b[0m\n",
      "  \u001b[35mbackbone.fpn_output2.bias\u001b[0m\n",
      "  \u001b[35mbackbone.fpn_lateral3.bias\u001b[0m\n",
      "  \u001b[35mbackbone.fpn_output3.bias\u001b[0m\n",
      "  \u001b[35mbackbone.fpn_lateral4.bias\u001b[0m\n",
      "  \u001b[35mbackbone.fpn_output4.bias\u001b[0m\n",
      "  \u001b[35mbackbone.fpn_lateral5.bias\u001b[0m\n",
      "  \u001b[35mbackbone.fpn_output5.bias\u001b[0m\n",
      " 63%|█████████████████████████▋               | 619/987 [50:09<28:52,  4.71s/it]"
     ]
    },
    {
     "name": "stdout",
     "output_type": "stream",
     "text": [
      "07_02_1936_00000007\n",
      "Pages/07_02_1936_00000007.tif.large.jpg\n"
     ]
    },
    {
     "name": "stderr",
     "output_type": "stream",
     "text": [
      "The checkpoint state_dict contains keys that are not used by the model:\n",
      "  \u001b[35mbackbone.fpn_lateral2.bias\u001b[0m\n",
      "  \u001b[35mbackbone.fpn_output2.bias\u001b[0m\n",
      "  \u001b[35mbackbone.fpn_lateral3.bias\u001b[0m\n",
      "  \u001b[35mbackbone.fpn_output3.bias\u001b[0m\n",
      "  \u001b[35mbackbone.fpn_lateral4.bias\u001b[0m\n",
      "  \u001b[35mbackbone.fpn_output4.bias\u001b[0m\n",
      "  \u001b[35mbackbone.fpn_lateral5.bias\u001b[0m\n",
      "  \u001b[35mbackbone.fpn_output5.bias\u001b[0m\n",
      " 63%|█████████████████████████▊               | 620/987 [50:13<28:37,  4.68s/it]"
     ]
    },
    {
     "name": "stdout",
     "output_type": "stream",
     "text": [
      "22_10_1936_00000009\n",
      "Pages/22_10_1936_00000009.tif.large.jpg\n"
     ]
    },
    {
     "name": "stderr",
     "output_type": "stream",
     "text": [
      "The checkpoint state_dict contains keys that are not used by the model:\n",
      "  \u001b[35mbackbone.fpn_lateral2.bias\u001b[0m\n",
      "  \u001b[35mbackbone.fpn_output2.bias\u001b[0m\n",
      "  \u001b[35mbackbone.fpn_lateral3.bias\u001b[0m\n",
      "  \u001b[35mbackbone.fpn_output3.bias\u001b[0m\n",
      "  \u001b[35mbackbone.fpn_lateral4.bias\u001b[0m\n",
      "  \u001b[35mbackbone.fpn_output4.bias\u001b[0m\n",
      "  \u001b[35mbackbone.fpn_lateral5.bias\u001b[0m\n",
      "  \u001b[35mbackbone.fpn_output5.bias\u001b[0m\n",
      " 63%|█████████████████████████▊               | 621/987 [50:18<28:33,  4.68s/it]"
     ]
    },
    {
     "name": "stdout",
     "output_type": "stream",
     "text": [
      "11_03_1936_00000013\n",
      "Pages/11_03_1936_00000013.tif.large.jpg\n"
     ]
    },
    {
     "name": "stderr",
     "output_type": "stream",
     "text": [
      "The checkpoint state_dict contains keys that are not used by the model:\n",
      "  \u001b[35mbackbone.fpn_lateral2.bias\u001b[0m\n",
      "  \u001b[35mbackbone.fpn_output2.bias\u001b[0m\n",
      "  \u001b[35mbackbone.fpn_lateral3.bias\u001b[0m\n",
      "  \u001b[35mbackbone.fpn_output3.bias\u001b[0m\n",
      "  \u001b[35mbackbone.fpn_lateral4.bias\u001b[0m\n",
      "  \u001b[35mbackbone.fpn_output4.bias\u001b[0m\n",
      "  \u001b[35mbackbone.fpn_lateral5.bias\u001b[0m\n",
      "  \u001b[35mbackbone.fpn_output5.bias\u001b[0m\n",
      " 63%|█████████████████████████▊               | 622/987 [50:23<28:20,  4.66s/it]"
     ]
    },
    {
     "name": "stdout",
     "output_type": "stream",
     "text": [
      "30_07_1936_00000008\n",
      "Pages/30_07_1936_00000008.tif.large.jpg\n"
     ]
    },
    {
     "name": "stderr",
     "output_type": "stream",
     "text": [
      "The checkpoint state_dict contains keys that are not used by the model:\n",
      "  \u001b[35mbackbone.fpn_lateral2.bias\u001b[0m\n",
      "  \u001b[35mbackbone.fpn_output2.bias\u001b[0m\n",
      "  \u001b[35mbackbone.fpn_lateral3.bias\u001b[0m\n",
      "  \u001b[35mbackbone.fpn_output3.bias\u001b[0m\n",
      "  \u001b[35mbackbone.fpn_lateral4.bias\u001b[0m\n",
      "  \u001b[35mbackbone.fpn_output4.bias\u001b[0m\n",
      "  \u001b[35mbackbone.fpn_lateral5.bias\u001b[0m\n",
      "  \u001b[35mbackbone.fpn_output5.bias\u001b[0m\n",
      " 63%|█████████████████████████▉               | 623/987 [50:27<28:27,  4.69s/it]"
     ]
    },
    {
     "name": "stdout",
     "output_type": "stream",
     "text": [
      "11_01_1936_00000009\n",
      "Pages/11_01_1936_00000009.tif.large.jpg\n"
     ]
    },
    {
     "name": "stderr",
     "output_type": "stream",
     "text": [
      "The checkpoint state_dict contains keys that are not used by the model:\n",
      "  \u001b[35mbackbone.fpn_lateral2.bias\u001b[0m\n",
      "  \u001b[35mbackbone.fpn_output2.bias\u001b[0m\n",
      "  \u001b[35mbackbone.fpn_lateral3.bias\u001b[0m\n",
      "  \u001b[35mbackbone.fpn_output3.bias\u001b[0m\n",
      "  \u001b[35mbackbone.fpn_lateral4.bias\u001b[0m\n",
      "  \u001b[35mbackbone.fpn_output4.bias\u001b[0m\n",
      "  \u001b[35mbackbone.fpn_lateral5.bias\u001b[0m\n",
      "  \u001b[35mbackbone.fpn_output5.bias\u001b[0m\n",
      " 63%|█████████████████████████▉               | 624/987 [50:32<28:19,  4.68s/it]"
     ]
    },
    {
     "name": "stdout",
     "output_type": "stream",
     "text": [
      "29_08_1936_00000003\n",
      "Pages/29_08_1936_00000003.tif.large.jpg\n"
     ]
    },
    {
     "name": "stderr",
     "output_type": "stream",
     "text": [
      "The checkpoint state_dict contains keys that are not used by the model:\n",
      "  \u001b[35mbackbone.fpn_lateral2.bias\u001b[0m\n",
      "  \u001b[35mbackbone.fpn_output2.bias\u001b[0m\n",
      "  \u001b[35mbackbone.fpn_lateral3.bias\u001b[0m\n",
      "  \u001b[35mbackbone.fpn_output3.bias\u001b[0m\n",
      "  \u001b[35mbackbone.fpn_lateral4.bias\u001b[0m\n",
      "  \u001b[35mbackbone.fpn_output4.bias\u001b[0m\n",
      "  \u001b[35mbackbone.fpn_lateral5.bias\u001b[0m\n",
      "  \u001b[35mbackbone.fpn_output5.bias\u001b[0m\n",
      " 63%|█████████████████████████▉               | 625/987 [50:37<28:26,  4.71s/it]"
     ]
    },
    {
     "name": "stdout",
     "output_type": "stream",
     "text": [
      "08_03_1936_00000022\n",
      "Pages/08_03_1936_00000022.tif.large.jpg\n"
     ]
    },
    {
     "name": "stderr",
     "output_type": "stream",
     "text": [
      "The checkpoint state_dict contains keys that are not used by the model:\n",
      "  \u001b[35mbackbone.fpn_lateral2.bias\u001b[0m\n",
      "  \u001b[35mbackbone.fpn_output2.bias\u001b[0m\n",
      "  \u001b[35mbackbone.fpn_lateral3.bias\u001b[0m\n",
      "  \u001b[35mbackbone.fpn_output3.bias\u001b[0m\n",
      "  \u001b[35mbackbone.fpn_lateral4.bias\u001b[0m\n",
      "  \u001b[35mbackbone.fpn_output4.bias\u001b[0m\n",
      "  \u001b[35mbackbone.fpn_lateral5.bias\u001b[0m\n",
      "  \u001b[35mbackbone.fpn_output5.bias\u001b[0m\n",
      " 63%|██████████████████████████               | 626/987 [50:41<28:09,  4.68s/it]"
     ]
    },
    {
     "name": "stdout",
     "output_type": "stream",
     "text": [
      "10_09_1936_00000020\n",
      "Pages/10_09_1936_00000020.tif.large.jpg\n"
     ]
    },
    {
     "name": "stderr",
     "output_type": "stream",
     "text": [
      "The checkpoint state_dict contains keys that are not used by the model:\n",
      "  \u001b[35mbackbone.fpn_lateral2.bias\u001b[0m\n",
      "  \u001b[35mbackbone.fpn_output2.bias\u001b[0m\n",
      "  \u001b[35mbackbone.fpn_lateral3.bias\u001b[0m\n",
      "  \u001b[35mbackbone.fpn_output3.bias\u001b[0m\n",
      "  \u001b[35mbackbone.fpn_lateral4.bias\u001b[0m\n",
      "  \u001b[35mbackbone.fpn_output4.bias\u001b[0m\n",
      "  \u001b[35mbackbone.fpn_lateral5.bias\u001b[0m\n",
      "  \u001b[35mbackbone.fpn_output5.bias\u001b[0m\n",
      " 64%|██████████████████████████               | 627/987 [50:46<27:57,  4.66s/it]"
     ]
    },
    {
     "name": "stdout",
     "output_type": "stream",
     "text": [
      "08_03_1936_00000039\n",
      "Pages/08_03_1936_00000039.tif.large.jpg\n"
     ]
    },
    {
     "name": "stderr",
     "output_type": "stream",
     "text": [
      "The checkpoint state_dict contains keys that are not used by the model:\n",
      "  \u001b[35mbackbone.fpn_lateral2.bias\u001b[0m\n",
      "  \u001b[35mbackbone.fpn_output2.bias\u001b[0m\n",
      "  \u001b[35mbackbone.fpn_lateral3.bias\u001b[0m\n",
      "  \u001b[35mbackbone.fpn_output3.bias\u001b[0m\n",
      "  \u001b[35mbackbone.fpn_lateral4.bias\u001b[0m\n",
      "  \u001b[35mbackbone.fpn_output4.bias\u001b[0m\n",
      "  \u001b[35mbackbone.fpn_lateral5.bias\u001b[0m\n",
      "  \u001b[35mbackbone.fpn_output5.bias\u001b[0m\n",
      " 64%|██████████████████████████               | 628/987 [50:51<27:55,  4.67s/it]"
     ]
    },
    {
     "name": "stdout",
     "output_type": "stream",
     "text": [
      "02_09_1936_00000012\n",
      "Pages/02_09_1936_00000012.tif.large.jpg\n"
     ]
    },
    {
     "name": "stderr",
     "output_type": "stream",
     "text": [
      "The checkpoint state_dict contains keys that are not used by the model:\n",
      "  \u001b[35mbackbone.fpn_lateral2.bias\u001b[0m\n",
      "  \u001b[35mbackbone.fpn_output2.bias\u001b[0m\n",
      "  \u001b[35mbackbone.fpn_lateral3.bias\u001b[0m\n",
      "  \u001b[35mbackbone.fpn_output3.bias\u001b[0m\n",
      "  \u001b[35mbackbone.fpn_lateral4.bias\u001b[0m\n",
      "  \u001b[35mbackbone.fpn_output4.bias\u001b[0m\n",
      "  \u001b[35mbackbone.fpn_lateral5.bias\u001b[0m\n",
      "  \u001b[35mbackbone.fpn_output5.bias\u001b[0m\n",
      " 64%|██████████████████████████▏              | 629/987 [50:55<27:41,  4.64s/it]"
     ]
    },
    {
     "name": "stdout",
     "output_type": "stream",
     "text": [
      "09_02_1936_00000010\n",
      "Pages/09_02_1936_00000010.tif.large.jpg\n"
     ]
    },
    {
     "name": "stderr",
     "output_type": "stream",
     "text": [
      "The checkpoint state_dict contains keys that are not used by the model:\n",
      "  \u001b[35mbackbone.fpn_lateral2.bias\u001b[0m\n",
      "  \u001b[35mbackbone.fpn_output2.bias\u001b[0m\n",
      "  \u001b[35mbackbone.fpn_lateral3.bias\u001b[0m\n",
      "  \u001b[35mbackbone.fpn_output3.bias\u001b[0m\n",
      "  \u001b[35mbackbone.fpn_lateral4.bias\u001b[0m\n",
      "  \u001b[35mbackbone.fpn_output4.bias\u001b[0m\n",
      "  \u001b[35mbackbone.fpn_lateral5.bias\u001b[0m\n",
      "  \u001b[35mbackbone.fpn_output5.bias\u001b[0m\n",
      " 64%|██████████████████████████▏              | 630/987 [51:00<27:40,  4.65s/it]"
     ]
    },
    {
     "name": "stdout",
     "output_type": "stream",
     "text": [
      "27_11_1936_00000002\n",
      "Pages/27_11_1936_00000002.tif.large.jpg\n"
     ]
    },
    {
     "name": "stderr",
     "output_type": "stream",
     "text": [
      "The checkpoint state_dict contains keys that are not used by the model:\n",
      "  \u001b[35mbackbone.fpn_lateral2.bias\u001b[0m\n",
      "  \u001b[35mbackbone.fpn_output2.bias\u001b[0m\n",
      "  \u001b[35mbackbone.fpn_lateral3.bias\u001b[0m\n",
      "  \u001b[35mbackbone.fpn_output3.bias\u001b[0m\n",
      "  \u001b[35mbackbone.fpn_lateral4.bias\u001b[0m\n",
      "  \u001b[35mbackbone.fpn_output4.bias\u001b[0m\n",
      "  \u001b[35mbackbone.fpn_lateral5.bias\u001b[0m\n",
      "  \u001b[35mbackbone.fpn_output5.bias\u001b[0m\n",
      " 64%|██████████████████████████▏              | 631/987 [51:05<27:25,  4.62s/it]"
     ]
    },
    {
     "name": "stdout",
     "output_type": "stream",
     "text": [
      "11_02_1936_00000005\n",
      "Pages/11_02_1936_00000005.tif.large.jpg\n"
     ]
    },
    {
     "name": "stderr",
     "output_type": "stream",
     "text": [
      "The checkpoint state_dict contains keys that are not used by the model:\n",
      "  \u001b[35mbackbone.fpn_lateral2.bias\u001b[0m\n",
      "  \u001b[35mbackbone.fpn_output2.bias\u001b[0m\n",
      "  \u001b[35mbackbone.fpn_lateral3.bias\u001b[0m\n",
      "  \u001b[35mbackbone.fpn_output3.bias\u001b[0m\n",
      "  \u001b[35mbackbone.fpn_lateral4.bias\u001b[0m\n",
      "  \u001b[35mbackbone.fpn_output4.bias\u001b[0m\n",
      "  \u001b[35mbackbone.fpn_lateral5.bias\u001b[0m\n",
      "  \u001b[35mbackbone.fpn_output5.bias\u001b[0m\n",
      " 64%|██████████████████████████▎              | 632/987 [51:09<27:20,  4.62s/it]"
     ]
    },
    {
     "name": "stdout",
     "output_type": "stream",
     "text": [
      "21_02_1936_00000010\n",
      "Pages/21_02_1936_00000010.tif.large.jpg\n"
     ]
    },
    {
     "name": "stderr",
     "output_type": "stream",
     "text": [
      "The checkpoint state_dict contains keys that are not used by the model:\n",
      "  \u001b[35mbackbone.fpn_lateral2.bias\u001b[0m\n",
      "  \u001b[35mbackbone.fpn_output2.bias\u001b[0m\n",
      "  \u001b[35mbackbone.fpn_lateral3.bias\u001b[0m\n",
      "  \u001b[35mbackbone.fpn_output3.bias\u001b[0m\n",
      "  \u001b[35mbackbone.fpn_lateral4.bias\u001b[0m\n",
      "  \u001b[35mbackbone.fpn_output4.bias\u001b[0m\n",
      "  \u001b[35mbackbone.fpn_lateral5.bias\u001b[0m\n",
      "  \u001b[35mbackbone.fpn_output5.bias\u001b[0m\n",
      " 64%|██████████████████████████▎              | 633/987 [51:14<27:27,  4.65s/it]"
     ]
    },
    {
     "name": "stdout",
     "output_type": "stream",
     "text": [
      "01_10_1936_00000008\n",
      "Pages/01_10_1936_00000008.tif.large.jpg\n"
     ]
    },
    {
     "name": "stderr",
     "output_type": "stream",
     "text": [
      "The checkpoint state_dict contains keys that are not used by the model:\n",
      "  \u001b[35mbackbone.fpn_lateral2.bias\u001b[0m\n",
      "  \u001b[35mbackbone.fpn_output2.bias\u001b[0m\n",
      "  \u001b[35mbackbone.fpn_lateral3.bias\u001b[0m\n",
      "  \u001b[35mbackbone.fpn_output3.bias\u001b[0m\n",
      "  \u001b[35mbackbone.fpn_lateral4.bias\u001b[0m\n",
      "  \u001b[35mbackbone.fpn_output4.bias\u001b[0m\n",
      "  \u001b[35mbackbone.fpn_lateral5.bias\u001b[0m\n",
      "  \u001b[35mbackbone.fpn_output5.bias\u001b[0m\n",
      " 64%|██████████████████████████▎              | 634/987 [51:18<27:04,  4.60s/it]"
     ]
    },
    {
     "name": "stdout",
     "output_type": "stream",
     "text": [
      "16_02_1936_00000016\n",
      "Pages/16_02_1936_00000016.tif.large.jpg\n"
     ]
    },
    {
     "name": "stderr",
     "output_type": "stream",
     "text": [
      "The checkpoint state_dict contains keys that are not used by the model:\n",
      "  \u001b[35mbackbone.fpn_lateral2.bias\u001b[0m\n",
      "  \u001b[35mbackbone.fpn_output2.bias\u001b[0m\n",
      "  \u001b[35mbackbone.fpn_lateral3.bias\u001b[0m\n",
      "  \u001b[35mbackbone.fpn_output3.bias\u001b[0m\n",
      "  \u001b[35mbackbone.fpn_lateral4.bias\u001b[0m\n",
      "  \u001b[35mbackbone.fpn_output4.bias\u001b[0m\n",
      "  \u001b[35mbackbone.fpn_lateral5.bias\u001b[0m\n",
      "  \u001b[35mbackbone.fpn_output5.bias\u001b[0m\n",
      " 64%|██████████████████████████▍              | 635/987 [51:23<26:54,  4.59s/it]"
     ]
    },
    {
     "name": "stdout",
     "output_type": "stream",
     "text": [
      "20_04_1936_00000004\n",
      "Pages/20_04_1936_00000004.tif.large.jpg\n"
     ]
    },
    {
     "name": "stderr",
     "output_type": "stream",
     "text": [
      "The checkpoint state_dict contains keys that are not used by the model:\n",
      "  \u001b[35mbackbone.fpn_lateral2.bias\u001b[0m\n",
      "  \u001b[35mbackbone.fpn_output2.bias\u001b[0m\n",
      "  \u001b[35mbackbone.fpn_lateral3.bias\u001b[0m\n",
      "  \u001b[35mbackbone.fpn_output3.bias\u001b[0m\n",
      "  \u001b[35mbackbone.fpn_lateral4.bias\u001b[0m\n",
      "  \u001b[35mbackbone.fpn_output4.bias\u001b[0m\n",
      "  \u001b[35mbackbone.fpn_lateral5.bias\u001b[0m\n",
      "  \u001b[35mbackbone.fpn_output5.bias\u001b[0m\n",
      " 64%|██████████████████████████▍              | 636/987 [51:28<27:15,  4.66s/it]"
     ]
    },
    {
     "name": "stdout",
     "output_type": "stream",
     "text": [
      "15_03_1936_00000008\n",
      "Pages/15_03_1936_00000008.tif.large.jpg\n"
     ]
    },
    {
     "name": "stderr",
     "output_type": "stream",
     "text": [
      "The checkpoint state_dict contains keys that are not used by the model:\n",
      "  \u001b[35mbackbone.fpn_lateral2.bias\u001b[0m\n",
      "  \u001b[35mbackbone.fpn_output2.bias\u001b[0m\n",
      "  \u001b[35mbackbone.fpn_lateral3.bias\u001b[0m\n",
      "  \u001b[35mbackbone.fpn_output3.bias\u001b[0m\n",
      "  \u001b[35mbackbone.fpn_lateral4.bias\u001b[0m\n",
      "  \u001b[35mbackbone.fpn_output4.bias\u001b[0m\n",
      "  \u001b[35mbackbone.fpn_lateral5.bias\u001b[0m\n",
      "  \u001b[35mbackbone.fpn_output5.bias\u001b[0m\n",
      " 65%|██████████████████████████▍              | 637/987 [51:32<27:14,  4.67s/it]"
     ]
    },
    {
     "name": "stdout",
     "output_type": "stream",
     "text": [
      "26_01_1936_00000001\n",
      "Pages/26_01_1936_00000001.tif.large.jpg\n"
     ]
    },
    {
     "name": "stderr",
     "output_type": "stream",
     "text": [
      "The checkpoint state_dict contains keys that are not used by the model:\n",
      "  \u001b[35mbackbone.fpn_lateral2.bias\u001b[0m\n",
      "  \u001b[35mbackbone.fpn_output2.bias\u001b[0m\n",
      "  \u001b[35mbackbone.fpn_lateral3.bias\u001b[0m\n",
      "  \u001b[35mbackbone.fpn_output3.bias\u001b[0m\n",
      "  \u001b[35mbackbone.fpn_lateral4.bias\u001b[0m\n",
      "  \u001b[35mbackbone.fpn_output4.bias\u001b[0m\n",
      "  \u001b[35mbackbone.fpn_lateral5.bias\u001b[0m\n",
      "  \u001b[35mbackbone.fpn_output5.bias\u001b[0m\n",
      " 65%|██████████████████████████▌              | 638/987 [51:37<27:15,  4.69s/it]"
     ]
    },
    {
     "name": "stdout",
     "output_type": "stream",
     "text": [
      "06_12_1936_00000005\n",
      "Pages/06_12_1936_00000005.tif.large.jpg\n"
     ]
    },
    {
     "name": "stderr",
     "output_type": "stream",
     "text": [
      "The checkpoint state_dict contains keys that are not used by the model:\n",
      "  \u001b[35mbackbone.fpn_lateral2.bias\u001b[0m\n",
      "  \u001b[35mbackbone.fpn_output2.bias\u001b[0m\n",
      "  \u001b[35mbackbone.fpn_lateral3.bias\u001b[0m\n",
      "  \u001b[35mbackbone.fpn_output3.bias\u001b[0m\n",
      "  \u001b[35mbackbone.fpn_lateral4.bias\u001b[0m\n",
      "  \u001b[35mbackbone.fpn_output4.bias\u001b[0m\n",
      "  \u001b[35mbackbone.fpn_lateral5.bias\u001b[0m\n",
      "  \u001b[35mbackbone.fpn_output5.bias\u001b[0m\n",
      " 65%|██████████████████████████▌              | 639/987 [51:42<27:15,  4.70s/it]"
     ]
    },
    {
     "name": "stdout",
     "output_type": "stream",
     "text": [
      "21_09_1936_00000010\n",
      "Pages/21_09_1936_00000010.tif.large.jpg\n"
     ]
    },
    {
     "name": "stderr",
     "output_type": "stream",
     "text": [
      "The checkpoint state_dict contains keys that are not used by the model:\n",
      "  \u001b[35mbackbone.fpn_lateral2.bias\u001b[0m\n",
      "  \u001b[35mbackbone.fpn_output2.bias\u001b[0m\n",
      "  \u001b[35mbackbone.fpn_lateral3.bias\u001b[0m\n",
      "  \u001b[35mbackbone.fpn_output3.bias\u001b[0m\n",
      "  \u001b[35mbackbone.fpn_lateral4.bias\u001b[0m\n",
      "  \u001b[35mbackbone.fpn_output4.bias\u001b[0m\n",
      "  \u001b[35mbackbone.fpn_lateral5.bias\u001b[0m\n",
      "  \u001b[35mbackbone.fpn_output5.bias\u001b[0m\n",
      " 65%|██████████████████████████▌              | 640/987 [51:46<26:58,  4.67s/it]"
     ]
    },
    {
     "name": "stdout",
     "output_type": "stream",
     "text": [
      "24_04_1936_00000017\n",
      "Pages/24_04_1936_00000017.tif.large.jpg\n"
     ]
    },
    {
     "name": "stderr",
     "output_type": "stream",
     "text": [
      "The checkpoint state_dict contains keys that are not used by the model:\n",
      "  \u001b[35mbackbone.fpn_lateral2.bias\u001b[0m\n",
      "  \u001b[35mbackbone.fpn_output2.bias\u001b[0m\n",
      "  \u001b[35mbackbone.fpn_lateral3.bias\u001b[0m\n",
      "  \u001b[35mbackbone.fpn_output3.bias\u001b[0m\n",
      "  \u001b[35mbackbone.fpn_lateral4.bias\u001b[0m\n",
      "  \u001b[35mbackbone.fpn_output4.bias\u001b[0m\n",
      "  \u001b[35mbackbone.fpn_lateral5.bias\u001b[0m\n",
      "  \u001b[35mbackbone.fpn_output5.bias\u001b[0m\n",
      " 65%|██████████████████████████▋              | 641/987 [51:51<26:53,  4.66s/it]"
     ]
    },
    {
     "name": "stdout",
     "output_type": "stream",
     "text": [
      "24_02_1936_00000006\n",
      "Pages/24_02_1936_00000006.tif.large.jpg\n"
     ]
    },
    {
     "name": "stderr",
     "output_type": "stream",
     "text": [
      "The checkpoint state_dict contains keys that are not used by the model:\n",
      "  \u001b[35mbackbone.fpn_lateral2.bias\u001b[0m\n",
      "  \u001b[35mbackbone.fpn_output2.bias\u001b[0m\n",
      "  \u001b[35mbackbone.fpn_lateral3.bias\u001b[0m\n",
      "  \u001b[35mbackbone.fpn_output3.bias\u001b[0m\n",
      "  \u001b[35mbackbone.fpn_lateral4.bias\u001b[0m\n",
      "  \u001b[35mbackbone.fpn_output4.bias\u001b[0m\n",
      "  \u001b[35mbackbone.fpn_lateral5.bias\u001b[0m\n",
      "  \u001b[35mbackbone.fpn_output5.bias\u001b[0m\n",
      " 65%|██████████████████████████▋              | 642/987 [51:56<26:42,  4.64s/it]"
     ]
    },
    {
     "name": "stdout",
     "output_type": "stream",
     "text": [
      "13_10_1936_00000005\n",
      "Pages/13_10_1936_00000005.tif.large.jpg\n"
     ]
    },
    {
     "name": "stderr",
     "output_type": "stream",
     "text": [
      "The checkpoint state_dict contains keys that are not used by the model:\n",
      "  \u001b[35mbackbone.fpn_lateral2.bias\u001b[0m\n",
      "  \u001b[35mbackbone.fpn_output2.bias\u001b[0m\n",
      "  \u001b[35mbackbone.fpn_lateral3.bias\u001b[0m\n",
      "  \u001b[35mbackbone.fpn_output3.bias\u001b[0m\n",
      "  \u001b[35mbackbone.fpn_lateral4.bias\u001b[0m\n",
      "  \u001b[35mbackbone.fpn_output4.bias\u001b[0m\n",
      "  \u001b[35mbackbone.fpn_lateral5.bias\u001b[0m\n",
      "  \u001b[35mbackbone.fpn_output5.bias\u001b[0m\n",
      " 65%|██████████████████████████▋              | 643/987 [52:00<26:30,  4.62s/it]"
     ]
    },
    {
     "name": "stdout",
     "output_type": "stream",
     "text": [
      "27_03_1936_00000001\n",
      "Pages/27_03_1936_00000001.tif.large.jpg\n"
     ]
    },
    {
     "name": "stderr",
     "output_type": "stream",
     "text": [
      "The checkpoint state_dict contains keys that are not used by the model:\n",
      "  \u001b[35mbackbone.fpn_lateral2.bias\u001b[0m\n",
      "  \u001b[35mbackbone.fpn_output2.bias\u001b[0m\n",
      "  \u001b[35mbackbone.fpn_lateral3.bias\u001b[0m\n",
      "  \u001b[35mbackbone.fpn_output3.bias\u001b[0m\n",
      "  \u001b[35mbackbone.fpn_lateral4.bias\u001b[0m\n",
      "  \u001b[35mbackbone.fpn_output4.bias\u001b[0m\n",
      "  \u001b[35mbackbone.fpn_lateral5.bias\u001b[0m\n",
      "  \u001b[35mbackbone.fpn_output5.bias\u001b[0m\n",
      " 65%|██████████████████████████▊              | 644/987 [52:05<26:08,  4.57s/it]"
     ]
    },
    {
     "name": "stdout",
     "output_type": "stream",
     "text": [
      "09_11_1936_00000005\n",
      "Pages/09_11_1936_00000005.tif.large.jpg\n"
     ]
    },
    {
     "name": "stderr",
     "output_type": "stream",
     "text": [
      "The checkpoint state_dict contains keys that are not used by the model:\n",
      "  \u001b[35mbackbone.fpn_lateral2.bias\u001b[0m\n",
      "  \u001b[35mbackbone.fpn_output2.bias\u001b[0m\n",
      "  \u001b[35mbackbone.fpn_lateral3.bias\u001b[0m\n",
      "  \u001b[35mbackbone.fpn_output3.bias\u001b[0m\n",
      "  \u001b[35mbackbone.fpn_lateral4.bias\u001b[0m\n",
      "  \u001b[35mbackbone.fpn_output4.bias\u001b[0m\n",
      "  \u001b[35mbackbone.fpn_lateral5.bias\u001b[0m\n",
      "  \u001b[35mbackbone.fpn_output5.bias\u001b[0m\n",
      " 65%|██████████████████████████▊              | 645/987 [52:10<26:43,  4.69s/it]"
     ]
    },
    {
     "name": "stdout",
     "output_type": "stream",
     "text": [
      "03_09_1936_00000008\n",
      "Pages/03_09_1936_00000008.tif.large.jpg\n"
     ]
    },
    {
     "name": "stderr",
     "output_type": "stream",
     "text": [
      "The checkpoint state_dict contains keys that are not used by the model:\n",
      "  \u001b[35mbackbone.fpn_lateral2.bias\u001b[0m\n",
      "  \u001b[35mbackbone.fpn_output2.bias\u001b[0m\n",
      "  \u001b[35mbackbone.fpn_lateral3.bias\u001b[0m\n",
      "  \u001b[35mbackbone.fpn_output3.bias\u001b[0m\n",
      "  \u001b[35mbackbone.fpn_lateral4.bias\u001b[0m\n",
      "  \u001b[35mbackbone.fpn_output4.bias\u001b[0m\n",
      "  \u001b[35mbackbone.fpn_lateral5.bias\u001b[0m\n",
      "  \u001b[35mbackbone.fpn_output5.bias\u001b[0m\n",
      " 65%|██████████████████████████▊              | 646/987 [52:14<26:41,  4.70s/it]"
     ]
    },
    {
     "name": "stdout",
     "output_type": "stream",
     "text": [
      "28_03_1936_00000013\n",
      "Pages/28_03_1936_00000013.tif.large.jpg\n"
     ]
    },
    {
     "name": "stderr",
     "output_type": "stream",
     "text": [
      "The checkpoint state_dict contains keys that are not used by the model:\n",
      "  \u001b[35mbackbone.fpn_lateral2.bias\u001b[0m\n",
      "  \u001b[35mbackbone.fpn_output2.bias\u001b[0m\n",
      "  \u001b[35mbackbone.fpn_lateral3.bias\u001b[0m\n",
      "  \u001b[35mbackbone.fpn_output3.bias\u001b[0m\n",
      "  \u001b[35mbackbone.fpn_lateral4.bias\u001b[0m\n",
      "  \u001b[35mbackbone.fpn_output4.bias\u001b[0m\n",
      "  \u001b[35mbackbone.fpn_lateral5.bias\u001b[0m\n",
      "  \u001b[35mbackbone.fpn_output5.bias\u001b[0m\n",
      " 66%|██████████████████████████▉              | 647/987 [52:19<26:16,  4.64s/it]"
     ]
    },
    {
     "name": "stdout",
     "output_type": "stream",
     "text": [
      "09_09_1936_00000008\n",
      "Pages/09_09_1936_00000008.tif.large.jpg\n"
     ]
    },
    {
     "name": "stderr",
     "output_type": "stream",
     "text": [
      "The checkpoint state_dict contains keys that are not used by the model:\n",
      "  \u001b[35mbackbone.fpn_lateral2.bias\u001b[0m\n",
      "  \u001b[35mbackbone.fpn_output2.bias\u001b[0m\n",
      "  \u001b[35mbackbone.fpn_lateral3.bias\u001b[0m\n",
      "  \u001b[35mbackbone.fpn_output3.bias\u001b[0m\n",
      "  \u001b[35mbackbone.fpn_lateral4.bias\u001b[0m\n",
      "  \u001b[35mbackbone.fpn_output4.bias\u001b[0m\n",
      "  \u001b[35mbackbone.fpn_lateral5.bias\u001b[0m\n",
      "  \u001b[35mbackbone.fpn_output5.bias\u001b[0m\n",
      " 66%|██████████████████████████▉              | 648/987 [52:24<26:08,  4.63s/it]"
     ]
    },
    {
     "name": "stdout",
     "output_type": "stream",
     "text": [
      "22_03_1936_00000006\n",
      "Pages/22_03_1936_00000006.tif.large.jpg\n"
     ]
    },
    {
     "name": "stderr",
     "output_type": "stream",
     "text": [
      "The checkpoint state_dict contains keys that are not used by the model:\n",
      "  \u001b[35mbackbone.fpn_lateral2.bias\u001b[0m\n",
      "  \u001b[35mbackbone.fpn_output2.bias\u001b[0m\n",
      "  \u001b[35mbackbone.fpn_lateral3.bias\u001b[0m\n",
      "  \u001b[35mbackbone.fpn_output3.bias\u001b[0m\n",
      "  \u001b[35mbackbone.fpn_lateral4.bias\u001b[0m\n",
      "  \u001b[35mbackbone.fpn_output4.bias\u001b[0m\n",
      "  \u001b[35mbackbone.fpn_lateral5.bias\u001b[0m\n",
      "  \u001b[35mbackbone.fpn_output5.bias\u001b[0m\n",
      " 66%|██████████████████████████▉              | 649/987 [52:28<26:02,  4.62s/it]"
     ]
    },
    {
     "name": "stdout",
     "output_type": "stream",
     "text": [
      "13_09_1936_00000004\n",
      "Pages/13_09_1936_00000004.tif.large.jpg\n"
     ]
    },
    {
     "name": "stderr",
     "output_type": "stream",
     "text": [
      "The checkpoint state_dict contains keys that are not used by the model:\n",
      "  \u001b[35mbackbone.fpn_lateral2.bias\u001b[0m\n",
      "  \u001b[35mbackbone.fpn_output2.bias\u001b[0m\n",
      "  \u001b[35mbackbone.fpn_lateral3.bias\u001b[0m\n",
      "  \u001b[35mbackbone.fpn_output3.bias\u001b[0m\n",
      "  \u001b[35mbackbone.fpn_lateral4.bias\u001b[0m\n",
      "  \u001b[35mbackbone.fpn_output4.bias\u001b[0m\n",
      "  \u001b[35mbackbone.fpn_lateral5.bias\u001b[0m\n",
      "  \u001b[35mbackbone.fpn_output5.bias\u001b[0m\n",
      " 66%|███████████████████████████              | 650/987 [52:33<25:49,  4.60s/it]"
     ]
    },
    {
     "name": "stdout",
     "output_type": "stream",
     "text": [
      "31_01_1936_00000010\n",
      "Pages/31_01_1936_00000010.tif.large.jpg\n"
     ]
    },
    {
     "name": "stderr",
     "output_type": "stream",
     "text": [
      "The checkpoint state_dict contains keys that are not used by the model:\n",
      "  \u001b[35mbackbone.fpn_lateral2.bias\u001b[0m\n",
      "  \u001b[35mbackbone.fpn_output2.bias\u001b[0m\n",
      "  \u001b[35mbackbone.fpn_lateral3.bias\u001b[0m\n",
      "  \u001b[35mbackbone.fpn_output3.bias\u001b[0m\n",
      "  \u001b[35mbackbone.fpn_lateral4.bias\u001b[0m\n",
      "  \u001b[35mbackbone.fpn_output4.bias\u001b[0m\n",
      "  \u001b[35mbackbone.fpn_lateral5.bias\u001b[0m\n",
      "  \u001b[35mbackbone.fpn_output5.bias\u001b[0m\n",
      " 66%|███████████████████████████              | 651/987 [52:37<25:45,  4.60s/it]"
     ]
    },
    {
     "name": "stdout",
     "output_type": "stream",
     "text": [
      "07_09_1936_00000006\n",
      "Pages/07_09_1936_00000006.tif.large.jpg\n"
     ]
    },
    {
     "name": "stderr",
     "output_type": "stream",
     "text": [
      "The checkpoint state_dict contains keys that are not used by the model:\n",
      "  \u001b[35mbackbone.fpn_lateral2.bias\u001b[0m\n",
      "  \u001b[35mbackbone.fpn_output2.bias\u001b[0m\n",
      "  \u001b[35mbackbone.fpn_lateral3.bias\u001b[0m\n",
      "  \u001b[35mbackbone.fpn_output3.bias\u001b[0m\n",
      "  \u001b[35mbackbone.fpn_lateral4.bias\u001b[0m\n",
      "  \u001b[35mbackbone.fpn_output4.bias\u001b[0m\n",
      "  \u001b[35mbackbone.fpn_lateral5.bias\u001b[0m\n",
      "  \u001b[35mbackbone.fpn_output5.bias\u001b[0m\n",
      " 66%|███████████████████████████              | 652/987 [52:42<25:41,  4.60s/it]"
     ]
    },
    {
     "name": "stdout",
     "output_type": "stream",
     "text": [
      "06_12_1936_00000004\n",
      "Pages/06_12_1936_00000004.tif.large.jpg\n"
     ]
    },
    {
     "name": "stderr",
     "output_type": "stream",
     "text": [
      "The checkpoint state_dict contains keys that are not used by the model:\n",
      "  \u001b[35mbackbone.fpn_lateral2.bias\u001b[0m\n",
      "  \u001b[35mbackbone.fpn_output2.bias\u001b[0m\n",
      "  \u001b[35mbackbone.fpn_lateral3.bias\u001b[0m\n",
      "  \u001b[35mbackbone.fpn_output3.bias\u001b[0m\n",
      "  \u001b[35mbackbone.fpn_lateral4.bias\u001b[0m\n",
      "  \u001b[35mbackbone.fpn_output4.bias\u001b[0m\n",
      "  \u001b[35mbackbone.fpn_lateral5.bias\u001b[0m\n",
      "  \u001b[35mbackbone.fpn_output5.bias\u001b[0m\n",
      " 66%|███████████████████████████▏             | 653/987 [52:47<25:47,  4.63s/it]"
     ]
    },
    {
     "name": "stdout",
     "output_type": "stream",
     "text": [
      "29_07_1936_00000014\n",
      "Pages/29_07_1936_00000014.tif.large.jpg\n"
     ]
    },
    {
     "name": "stderr",
     "output_type": "stream",
     "text": [
      "The checkpoint state_dict contains keys that are not used by the model:\n",
      "  \u001b[35mbackbone.fpn_lateral2.bias\u001b[0m\n",
      "  \u001b[35mbackbone.fpn_output2.bias\u001b[0m\n",
      "  \u001b[35mbackbone.fpn_lateral3.bias\u001b[0m\n",
      "  \u001b[35mbackbone.fpn_output3.bias\u001b[0m\n",
      "  \u001b[35mbackbone.fpn_lateral4.bias\u001b[0m\n",
      "  \u001b[35mbackbone.fpn_output4.bias\u001b[0m\n",
      "  \u001b[35mbackbone.fpn_lateral5.bias\u001b[0m\n",
      "  \u001b[35mbackbone.fpn_output5.bias\u001b[0m\n",
      " 66%|███████████████████████████▏             | 654/987 [52:51<25:39,  4.62s/it]"
     ]
    },
    {
     "name": "stdout",
     "output_type": "stream",
     "text": [
      "31_08_1936_00000008\n",
      "Pages/31_08_1936_00000008.tif.large.jpg\n"
     ]
    },
    {
     "name": "stderr",
     "output_type": "stream",
     "text": [
      "The checkpoint state_dict contains keys that are not used by the model:\n",
      "  \u001b[35mbackbone.fpn_lateral2.bias\u001b[0m\n",
      "  \u001b[35mbackbone.fpn_output2.bias\u001b[0m\n",
      "  \u001b[35mbackbone.fpn_lateral3.bias\u001b[0m\n",
      "  \u001b[35mbackbone.fpn_output3.bias\u001b[0m\n",
      "  \u001b[35mbackbone.fpn_lateral4.bias\u001b[0m\n",
      "  \u001b[35mbackbone.fpn_output4.bias\u001b[0m\n",
      "  \u001b[35mbackbone.fpn_lateral5.bias\u001b[0m\n",
      "  \u001b[35mbackbone.fpn_output5.bias\u001b[0m\n",
      " 66%|███████████████████████████▏             | 655/987 [52:56<25:42,  4.65s/it]"
     ]
    },
    {
     "name": "stdout",
     "output_type": "stream",
     "text": [
      "29_11_1936_00000002\n",
      "Pages/29_11_1936_00000002.tif.large.jpg\n"
     ]
    },
    {
     "name": "stderr",
     "output_type": "stream",
     "text": [
      "The checkpoint state_dict contains keys that are not used by the model:\n",
      "  \u001b[35mbackbone.fpn_lateral2.bias\u001b[0m\n",
      "  \u001b[35mbackbone.fpn_output2.bias\u001b[0m\n",
      "  \u001b[35mbackbone.fpn_lateral3.bias\u001b[0m\n",
      "  \u001b[35mbackbone.fpn_output3.bias\u001b[0m\n",
      "  \u001b[35mbackbone.fpn_lateral4.bias\u001b[0m\n",
      "  \u001b[35mbackbone.fpn_output4.bias\u001b[0m\n",
      "  \u001b[35mbackbone.fpn_lateral5.bias\u001b[0m\n",
      "  \u001b[35mbackbone.fpn_output5.bias\u001b[0m\n",
      " 66%|███████████████████████████▎             | 656/987 [53:01<25:33,  4.63s/it]"
     ]
    },
    {
     "name": "stdout",
     "output_type": "stream",
     "text": [
      "02_08_1936_00000006\n",
      "Pages/02_08_1936_00000006.tif.large.jpg\n"
     ]
    },
    {
     "name": "stderr",
     "output_type": "stream",
     "text": [
      "The checkpoint state_dict contains keys that are not used by the model:\n",
      "  \u001b[35mbackbone.fpn_lateral2.bias\u001b[0m\n",
      "  \u001b[35mbackbone.fpn_output2.bias\u001b[0m\n",
      "  \u001b[35mbackbone.fpn_lateral3.bias\u001b[0m\n",
      "  \u001b[35mbackbone.fpn_output3.bias\u001b[0m\n",
      "  \u001b[35mbackbone.fpn_lateral4.bias\u001b[0m\n",
      "  \u001b[35mbackbone.fpn_output4.bias\u001b[0m\n",
      "  \u001b[35mbackbone.fpn_lateral5.bias\u001b[0m\n",
      "  \u001b[35mbackbone.fpn_output5.bias\u001b[0m\n",
      " 67%|███████████████████████████▎             | 657/987 [53:05<25:18,  4.60s/it]"
     ]
    },
    {
     "name": "stdout",
     "output_type": "stream",
     "text": [
      "15_10_1936_00000007\n",
      "Pages/15_10_1936_00000007.tif.large.jpg\n"
     ]
    },
    {
     "name": "stderr",
     "output_type": "stream",
     "text": [
      "The checkpoint state_dict contains keys that are not used by the model:\n",
      "  \u001b[35mbackbone.fpn_lateral2.bias\u001b[0m\n",
      "  \u001b[35mbackbone.fpn_output2.bias\u001b[0m\n",
      "  \u001b[35mbackbone.fpn_lateral3.bias\u001b[0m\n",
      "  \u001b[35mbackbone.fpn_output3.bias\u001b[0m\n",
      "  \u001b[35mbackbone.fpn_lateral4.bias\u001b[0m\n",
      "  \u001b[35mbackbone.fpn_output4.bias\u001b[0m\n",
      "  \u001b[35mbackbone.fpn_lateral5.bias\u001b[0m\n",
      "  \u001b[35mbackbone.fpn_output5.bias\u001b[0m\n",
      " 67%|███████████████████████████▎             | 658/987 [53:10<25:14,  4.60s/it]"
     ]
    },
    {
     "name": "stdout",
     "output_type": "stream",
     "text": [
      "07_12_1936_00000008\n",
      "Pages/07_12_1936_00000008.tif.large.jpg\n"
     ]
    },
    {
     "name": "stderr",
     "output_type": "stream",
     "text": [
      "The checkpoint state_dict contains keys that are not used by the model:\n",
      "  \u001b[35mbackbone.fpn_lateral2.bias\u001b[0m\n",
      "  \u001b[35mbackbone.fpn_output2.bias\u001b[0m\n",
      "  \u001b[35mbackbone.fpn_lateral3.bias\u001b[0m\n",
      "  \u001b[35mbackbone.fpn_output3.bias\u001b[0m\n",
      "  \u001b[35mbackbone.fpn_lateral4.bias\u001b[0m\n",
      "  \u001b[35mbackbone.fpn_output4.bias\u001b[0m\n",
      "  \u001b[35mbackbone.fpn_lateral5.bias\u001b[0m\n",
      "  \u001b[35mbackbone.fpn_output5.bias\u001b[0m\n",
      " 67%|███████████████████████████▎             | 659/987 [53:14<25:13,  4.61s/it]"
     ]
    },
    {
     "name": "stdout",
     "output_type": "stream",
     "text": [
      "30_08_1936_00000006\n",
      "Pages/30_08_1936_00000006.tif.large.jpg\n"
     ]
    },
    {
     "name": "stderr",
     "output_type": "stream",
     "text": [
      "The checkpoint state_dict contains keys that are not used by the model:\n",
      "  \u001b[35mbackbone.fpn_lateral2.bias\u001b[0m\n",
      "  \u001b[35mbackbone.fpn_output2.bias\u001b[0m\n",
      "  \u001b[35mbackbone.fpn_lateral3.bias\u001b[0m\n",
      "  \u001b[35mbackbone.fpn_output3.bias\u001b[0m\n",
      "  \u001b[35mbackbone.fpn_lateral4.bias\u001b[0m\n",
      "  \u001b[35mbackbone.fpn_output4.bias\u001b[0m\n",
      "  \u001b[35mbackbone.fpn_lateral5.bias\u001b[0m\n",
      "  \u001b[35mbackbone.fpn_output5.bias\u001b[0m\n",
      " 67%|███████████████████████████▍             | 660/987 [53:19<25:13,  4.63s/it]"
     ]
    },
    {
     "name": "stdout",
     "output_type": "stream",
     "text": [
      "28_04_1936_00000004\n",
      "Pages/28_04_1936_00000004.tif.large.jpg\n"
     ]
    },
    {
     "name": "stderr",
     "output_type": "stream",
     "text": [
      "The checkpoint state_dict contains keys that are not used by the model:\n",
      "  \u001b[35mbackbone.fpn_lateral2.bias\u001b[0m\n",
      "  \u001b[35mbackbone.fpn_output2.bias\u001b[0m\n",
      "  \u001b[35mbackbone.fpn_lateral3.bias\u001b[0m\n",
      "  \u001b[35mbackbone.fpn_output3.bias\u001b[0m\n",
      "  \u001b[35mbackbone.fpn_lateral4.bias\u001b[0m\n",
      "  \u001b[35mbackbone.fpn_output4.bias\u001b[0m\n",
      "  \u001b[35mbackbone.fpn_lateral5.bias\u001b[0m\n",
      "  \u001b[35mbackbone.fpn_output5.bias\u001b[0m\n",
      " 67%|███████████████████████████▍             | 661/987 [53:24<25:11,  4.64s/it]"
     ]
    },
    {
     "name": "stdout",
     "output_type": "stream",
     "text": [
      "24_04_1936_00000009\n",
      "Pages/24_04_1936_00000009.tif.large.jpg\n"
     ]
    },
    {
     "name": "stderr",
     "output_type": "stream",
     "text": [
      "The checkpoint state_dict contains keys that are not used by the model:\n",
      "  \u001b[35mbackbone.fpn_lateral2.bias\u001b[0m\n",
      "  \u001b[35mbackbone.fpn_output2.bias\u001b[0m\n",
      "  \u001b[35mbackbone.fpn_lateral3.bias\u001b[0m\n",
      "  \u001b[35mbackbone.fpn_output3.bias\u001b[0m\n",
      "  \u001b[35mbackbone.fpn_lateral4.bias\u001b[0m\n",
      "  \u001b[35mbackbone.fpn_output4.bias\u001b[0m\n",
      "  \u001b[35mbackbone.fpn_lateral5.bias\u001b[0m\n",
      "  \u001b[35mbackbone.fpn_output5.bias\u001b[0m\n",
      " 67%|███████████████████████████▍             | 662/987 [53:28<25:07,  4.64s/it]"
     ]
    },
    {
     "name": "stdout",
     "output_type": "stream",
     "text": [
      "27_07_1936_00000005\n",
      "Pages/27_07_1936_00000005.tif.large.jpg\n"
     ]
    },
    {
     "name": "stderr",
     "output_type": "stream",
     "text": [
      "The checkpoint state_dict contains keys that are not used by the model:\n",
      "  \u001b[35mbackbone.fpn_lateral2.bias\u001b[0m\n",
      "  \u001b[35mbackbone.fpn_output2.bias\u001b[0m\n",
      "  \u001b[35mbackbone.fpn_lateral3.bias\u001b[0m\n",
      "  \u001b[35mbackbone.fpn_output3.bias\u001b[0m\n",
      "  \u001b[35mbackbone.fpn_lateral4.bias\u001b[0m\n",
      "  \u001b[35mbackbone.fpn_output4.bias\u001b[0m\n",
      "  \u001b[35mbackbone.fpn_lateral5.bias\u001b[0m\n",
      "  \u001b[35mbackbone.fpn_output5.bias\u001b[0m\n",
      " 67%|███████████████████████████▌             | 663/987 [53:33<25:12,  4.67s/it]"
     ]
    },
    {
     "name": "stdout",
     "output_type": "stream",
     "text": [
      "30_08_1936_00000008\n",
      "Pages/30_08_1936_00000008.tif.large.jpg\n"
     ]
    },
    {
     "name": "stderr",
     "output_type": "stream",
     "text": [
      "The checkpoint state_dict contains keys that are not used by the model:\n",
      "  \u001b[35mbackbone.fpn_lateral2.bias\u001b[0m\n",
      "  \u001b[35mbackbone.fpn_output2.bias\u001b[0m\n",
      "  \u001b[35mbackbone.fpn_lateral3.bias\u001b[0m\n",
      "  \u001b[35mbackbone.fpn_output3.bias\u001b[0m\n",
      "  \u001b[35mbackbone.fpn_lateral4.bias\u001b[0m\n",
      "  \u001b[35mbackbone.fpn_output4.bias\u001b[0m\n",
      "  \u001b[35mbackbone.fpn_lateral5.bias\u001b[0m\n",
      "  \u001b[35mbackbone.fpn_output5.bias\u001b[0m\n",
      " 67%|███████████████████████████▌             | 664/987 [53:38<25:10,  4.68s/it]"
     ]
    },
    {
     "name": "stdout",
     "output_type": "stream",
     "text": [
      "05_02_1936_00000007\n",
      "Pages/05_02_1936_00000007.tif.large.jpg\n"
     ]
    },
    {
     "name": "stderr",
     "output_type": "stream",
     "text": [
      "The checkpoint state_dict contains keys that are not used by the model:\n",
      "  \u001b[35mbackbone.fpn_lateral2.bias\u001b[0m\n",
      "  \u001b[35mbackbone.fpn_output2.bias\u001b[0m\n",
      "  \u001b[35mbackbone.fpn_lateral3.bias\u001b[0m\n",
      "  \u001b[35mbackbone.fpn_output3.bias\u001b[0m\n",
      "  \u001b[35mbackbone.fpn_lateral4.bias\u001b[0m\n",
      "  \u001b[35mbackbone.fpn_output4.bias\u001b[0m\n",
      "  \u001b[35mbackbone.fpn_lateral5.bias\u001b[0m\n",
      "  \u001b[35mbackbone.fpn_output5.bias\u001b[0m\n",
      " 67%|███████████████████████████▌             | 665/987 [53:42<24:58,  4.65s/it]"
     ]
    },
    {
     "name": "stdout",
     "output_type": "stream",
     "text": [
      "18_02_1936_00000003\n",
      "Pages/18_02_1936_00000003.tif.large.jpg\n"
     ]
    },
    {
     "name": "stderr",
     "output_type": "stream",
     "text": [
      "The checkpoint state_dict contains keys that are not used by the model:\n",
      "  \u001b[35mbackbone.fpn_lateral2.bias\u001b[0m\n",
      "  \u001b[35mbackbone.fpn_output2.bias\u001b[0m\n",
      "  \u001b[35mbackbone.fpn_lateral3.bias\u001b[0m\n",
      "  \u001b[35mbackbone.fpn_output3.bias\u001b[0m\n",
      "  \u001b[35mbackbone.fpn_lateral4.bias\u001b[0m\n",
      "  \u001b[35mbackbone.fpn_output4.bias\u001b[0m\n",
      "  \u001b[35mbackbone.fpn_lateral5.bias\u001b[0m\n",
      "  \u001b[35mbackbone.fpn_output5.bias\u001b[0m\n",
      " 67%|███████████████████████████▋             | 666/987 [53:47<25:01,  4.68s/it]"
     ]
    },
    {
     "name": "stdout",
     "output_type": "stream",
     "text": [
      "23_10_1936_00000011\n",
      "Pages/23_10_1936_00000011.tif.large.jpg\n"
     ]
    },
    {
     "name": "stderr",
     "output_type": "stream",
     "text": [
      "The checkpoint state_dict contains keys that are not used by the model:\n",
      "  \u001b[35mbackbone.fpn_lateral2.bias\u001b[0m\n",
      "  \u001b[35mbackbone.fpn_output2.bias\u001b[0m\n",
      "  \u001b[35mbackbone.fpn_lateral3.bias\u001b[0m\n",
      "  \u001b[35mbackbone.fpn_output3.bias\u001b[0m\n",
      "  \u001b[35mbackbone.fpn_lateral4.bias\u001b[0m\n",
      "  \u001b[35mbackbone.fpn_output4.bias\u001b[0m\n",
      "  \u001b[35mbackbone.fpn_lateral5.bias\u001b[0m\n",
      "  \u001b[35mbackbone.fpn_output5.bias\u001b[0m\n",
      " 68%|███████████████████████████▋             | 667/987 [53:52<24:48,  4.65s/it]"
     ]
    },
    {
     "name": "stdout",
     "output_type": "stream",
     "text": [
      "02_09_1936_00000017\n",
      "Pages/02_09_1936_00000017.tif.large.jpg\n"
     ]
    },
    {
     "name": "stderr",
     "output_type": "stream",
     "text": [
      "The checkpoint state_dict contains keys that are not used by the model:\n",
      "  \u001b[35mbackbone.fpn_lateral2.bias\u001b[0m\n",
      "  \u001b[35mbackbone.fpn_output2.bias\u001b[0m\n",
      "  \u001b[35mbackbone.fpn_lateral3.bias\u001b[0m\n",
      "  \u001b[35mbackbone.fpn_output3.bias\u001b[0m\n",
      "  \u001b[35mbackbone.fpn_lateral4.bias\u001b[0m\n",
      "  \u001b[35mbackbone.fpn_output4.bias\u001b[0m\n",
      "  \u001b[35mbackbone.fpn_lateral5.bias\u001b[0m\n",
      "  \u001b[35mbackbone.fpn_output5.bias\u001b[0m\n",
      " 68%|███████████████████████████▋             | 668/987 [53:56<24:38,  4.63s/it]"
     ]
    },
    {
     "name": "stdout",
     "output_type": "stream",
     "text": [
      "06_09_1936_00000002\n",
      "Pages/06_09_1936_00000002.tif.large.jpg\n"
     ]
    },
    {
     "name": "stderr",
     "output_type": "stream",
     "text": [
      "The checkpoint state_dict contains keys that are not used by the model:\n",
      "  \u001b[35mbackbone.fpn_lateral2.bias\u001b[0m\n",
      "  \u001b[35mbackbone.fpn_output2.bias\u001b[0m\n",
      "  \u001b[35mbackbone.fpn_lateral3.bias\u001b[0m\n",
      "  \u001b[35mbackbone.fpn_output3.bias\u001b[0m\n",
      "  \u001b[35mbackbone.fpn_lateral4.bias\u001b[0m\n",
      "  \u001b[35mbackbone.fpn_output4.bias\u001b[0m\n",
      "  \u001b[35mbackbone.fpn_lateral5.bias\u001b[0m\n",
      "  \u001b[35mbackbone.fpn_output5.bias\u001b[0m\n",
      " 68%|███████████████████████████▊             | 669/987 [54:01<24:31,  4.63s/it]"
     ]
    },
    {
     "name": "stdout",
     "output_type": "stream",
     "text": [
      "02_04_1936_00000007\n",
      "Pages/02_04_1936_00000007.tif.large.jpg\n"
     ]
    },
    {
     "name": "stderr",
     "output_type": "stream",
     "text": [
      "The checkpoint state_dict contains keys that are not used by the model:\n",
      "  \u001b[35mbackbone.fpn_lateral2.bias\u001b[0m\n",
      "  \u001b[35mbackbone.fpn_output2.bias\u001b[0m\n",
      "  \u001b[35mbackbone.fpn_lateral3.bias\u001b[0m\n",
      "  \u001b[35mbackbone.fpn_output3.bias\u001b[0m\n",
      "  \u001b[35mbackbone.fpn_lateral4.bias\u001b[0m\n",
      "  \u001b[35mbackbone.fpn_output4.bias\u001b[0m\n",
      "  \u001b[35mbackbone.fpn_lateral5.bias\u001b[0m\n",
      "  \u001b[35mbackbone.fpn_output5.bias\u001b[0m\n",
      " 68%|███████████████████████████▊             | 670/987 [54:05<24:16,  4.60s/it]"
     ]
    },
    {
     "name": "stdout",
     "output_type": "stream",
     "text": [
      "15_11_1936_00000022\n",
      "Pages/15_11_1936_00000022.tif.large.jpg\n"
     ]
    },
    {
     "name": "stderr",
     "output_type": "stream",
     "text": [
      "The checkpoint state_dict contains keys that are not used by the model:\n",
      "  \u001b[35mbackbone.fpn_lateral2.bias\u001b[0m\n",
      "  \u001b[35mbackbone.fpn_output2.bias\u001b[0m\n",
      "  \u001b[35mbackbone.fpn_lateral3.bias\u001b[0m\n",
      "  \u001b[35mbackbone.fpn_output3.bias\u001b[0m\n",
      "  \u001b[35mbackbone.fpn_lateral4.bias\u001b[0m\n",
      "  \u001b[35mbackbone.fpn_output4.bias\u001b[0m\n",
      "  \u001b[35mbackbone.fpn_lateral5.bias\u001b[0m\n",
      "  \u001b[35mbackbone.fpn_output5.bias\u001b[0m\n",
      " 68%|███████████████████████████▊             | 671/987 [54:10<24:46,  4.70s/it]"
     ]
    },
    {
     "name": "stdout",
     "output_type": "stream",
     "text": [
      "23_07_1936_00000003\n",
      "Pages/23_07_1936_00000003.tif.large.jpg\n"
     ]
    },
    {
     "name": "stderr",
     "output_type": "stream",
     "text": [
      "The checkpoint state_dict contains keys that are not used by the model:\n",
      "  \u001b[35mbackbone.fpn_lateral2.bias\u001b[0m\n",
      "  \u001b[35mbackbone.fpn_output2.bias\u001b[0m\n",
      "  \u001b[35mbackbone.fpn_lateral3.bias\u001b[0m\n",
      "  \u001b[35mbackbone.fpn_output3.bias\u001b[0m\n",
      "  \u001b[35mbackbone.fpn_lateral4.bias\u001b[0m\n",
      "  \u001b[35mbackbone.fpn_output4.bias\u001b[0m\n",
      "  \u001b[35mbackbone.fpn_lateral5.bias\u001b[0m\n",
      "  \u001b[35mbackbone.fpn_output5.bias\u001b[0m\n",
      " 68%|███████████████████████████▉             | 672/987 [54:15<24:31,  4.67s/it]"
     ]
    },
    {
     "name": "stdout",
     "output_type": "stream",
     "text": [
      "23_02_1936_00000006\n",
      "Pages/23_02_1936_00000006.tif.large.jpg\n"
     ]
    },
    {
     "name": "stderr",
     "output_type": "stream",
     "text": [
      "The checkpoint state_dict contains keys that are not used by the model:\n",
      "  \u001b[35mbackbone.fpn_lateral2.bias\u001b[0m\n",
      "  \u001b[35mbackbone.fpn_output2.bias\u001b[0m\n",
      "  \u001b[35mbackbone.fpn_lateral3.bias\u001b[0m\n",
      "  \u001b[35mbackbone.fpn_output3.bias\u001b[0m\n",
      "  \u001b[35mbackbone.fpn_lateral4.bias\u001b[0m\n",
      "  \u001b[35mbackbone.fpn_output4.bias\u001b[0m\n",
      "  \u001b[35mbackbone.fpn_lateral5.bias\u001b[0m\n",
      "  \u001b[35mbackbone.fpn_output5.bias\u001b[0m\n",
      " 68%|███████████████████████████▉             | 673/987 [54:20<24:27,  4.67s/it]"
     ]
    },
    {
     "name": "stdout",
     "output_type": "stream",
     "text": [
      "03_08_1936_00000008\n",
      "Pages/03_08_1936_00000008.tif.large.jpg\n"
     ]
    },
    {
     "name": "stderr",
     "output_type": "stream",
     "text": [
      "The checkpoint state_dict contains keys that are not used by the model:\n",
      "  \u001b[35mbackbone.fpn_lateral2.bias\u001b[0m\n",
      "  \u001b[35mbackbone.fpn_output2.bias\u001b[0m\n",
      "  \u001b[35mbackbone.fpn_lateral3.bias\u001b[0m\n",
      "  \u001b[35mbackbone.fpn_output3.bias\u001b[0m\n",
      "  \u001b[35mbackbone.fpn_lateral4.bias\u001b[0m\n",
      "  \u001b[35mbackbone.fpn_output4.bias\u001b[0m\n",
      "  \u001b[35mbackbone.fpn_lateral5.bias\u001b[0m\n",
      "  \u001b[35mbackbone.fpn_output5.bias\u001b[0m\n",
      " 68%|███████████████████████████▉             | 674/987 [54:24<24:15,  4.65s/it]"
     ]
    },
    {
     "name": "stdout",
     "output_type": "stream",
     "text": [
      "22_09_1936_00000010\n",
      "Pages/22_09_1936_00000010.tif.large.jpg\n"
     ]
    },
    {
     "name": "stderr",
     "output_type": "stream",
     "text": [
      "The checkpoint state_dict contains keys that are not used by the model:\n",
      "  \u001b[35mbackbone.fpn_lateral2.bias\u001b[0m\n",
      "  \u001b[35mbackbone.fpn_output2.bias\u001b[0m\n",
      "  \u001b[35mbackbone.fpn_lateral3.bias\u001b[0m\n",
      "  \u001b[35mbackbone.fpn_output3.bias\u001b[0m\n",
      "  \u001b[35mbackbone.fpn_lateral4.bias\u001b[0m\n",
      "  \u001b[35mbackbone.fpn_output4.bias\u001b[0m\n",
      "  \u001b[35mbackbone.fpn_lateral5.bias\u001b[0m\n",
      "  \u001b[35mbackbone.fpn_output5.bias\u001b[0m\n",
      " 68%|████████████████████████████             | 675/987 [54:29<24:10,  4.65s/it]"
     ]
    },
    {
     "name": "stdout",
     "output_type": "stream",
     "text": [
      "25_02_1936_00000005\n",
      "Pages/25_02_1936_00000005.tif.large.jpg\n"
     ]
    },
    {
     "name": "stderr",
     "output_type": "stream",
     "text": [
      "The checkpoint state_dict contains keys that are not used by the model:\n",
      "  \u001b[35mbackbone.fpn_lateral2.bias\u001b[0m\n",
      "  \u001b[35mbackbone.fpn_output2.bias\u001b[0m\n",
      "  \u001b[35mbackbone.fpn_lateral3.bias\u001b[0m\n",
      "  \u001b[35mbackbone.fpn_output3.bias\u001b[0m\n",
      "  \u001b[35mbackbone.fpn_lateral4.bias\u001b[0m\n",
      "  \u001b[35mbackbone.fpn_output4.bias\u001b[0m\n",
      "  \u001b[35mbackbone.fpn_lateral5.bias\u001b[0m\n",
      "  \u001b[35mbackbone.fpn_output5.bias\u001b[0m\n",
      " 68%|████████████████████████████             | 676/987 [54:33<24:05,  4.65s/it]"
     ]
    },
    {
     "name": "stdout",
     "output_type": "stream",
     "text": [
      "25_11_1936_00000006\n",
      "Pages/25_11_1936_00000006.tif.large.jpg\n"
     ]
    },
    {
     "name": "stderr",
     "output_type": "stream",
     "text": [
      "The checkpoint state_dict contains keys that are not used by the model:\n",
      "  \u001b[35mbackbone.fpn_lateral2.bias\u001b[0m\n",
      "  \u001b[35mbackbone.fpn_output2.bias\u001b[0m\n",
      "  \u001b[35mbackbone.fpn_lateral3.bias\u001b[0m\n",
      "  \u001b[35mbackbone.fpn_output3.bias\u001b[0m\n",
      "  \u001b[35mbackbone.fpn_lateral4.bias\u001b[0m\n",
      "  \u001b[35mbackbone.fpn_output4.bias\u001b[0m\n",
      "  \u001b[35mbackbone.fpn_lateral5.bias\u001b[0m\n",
      "  \u001b[35mbackbone.fpn_output5.bias\u001b[0m\n",
      " 69%|████████████████████████████             | 677/987 [54:38<24:09,  4.68s/it]"
     ]
    },
    {
     "name": "stdout",
     "output_type": "stream",
     "text": [
      "23_02_1936_00000026\n",
      "Pages/23_02_1936_00000026.tif.large.jpg\n"
     ]
    },
    {
     "name": "stderr",
     "output_type": "stream",
     "text": [
      "The checkpoint state_dict contains keys that are not used by the model:\n",
      "  \u001b[35mbackbone.fpn_lateral2.bias\u001b[0m\n",
      "  \u001b[35mbackbone.fpn_output2.bias\u001b[0m\n",
      "  \u001b[35mbackbone.fpn_lateral3.bias\u001b[0m\n",
      "  \u001b[35mbackbone.fpn_output3.bias\u001b[0m\n",
      "  \u001b[35mbackbone.fpn_lateral4.bias\u001b[0m\n",
      "  \u001b[35mbackbone.fpn_output4.bias\u001b[0m\n",
      "  \u001b[35mbackbone.fpn_lateral5.bias\u001b[0m\n",
      "  \u001b[35mbackbone.fpn_output5.bias\u001b[0m\n",
      " 69%|████████████████████████████▏            | 678/987 [54:43<24:15,  4.71s/it]"
     ]
    },
    {
     "name": "stdout",
     "output_type": "stream",
     "text": [
      "29_10_1936_00000019\n",
      "Pages/29_10_1936_00000019.tif.large.jpg\n"
     ]
    },
    {
     "name": "stderr",
     "output_type": "stream",
     "text": [
      "The checkpoint state_dict contains keys that are not used by the model:\n",
      "  \u001b[35mbackbone.fpn_lateral2.bias\u001b[0m\n",
      "  \u001b[35mbackbone.fpn_output2.bias\u001b[0m\n",
      "  \u001b[35mbackbone.fpn_lateral3.bias\u001b[0m\n",
      "  \u001b[35mbackbone.fpn_output3.bias\u001b[0m\n",
      "  \u001b[35mbackbone.fpn_lateral4.bias\u001b[0m\n",
      "  \u001b[35mbackbone.fpn_output4.bias\u001b[0m\n",
      "  \u001b[35mbackbone.fpn_lateral5.bias\u001b[0m\n",
      "  \u001b[35mbackbone.fpn_output5.bias\u001b[0m\n",
      " 69%|████████████████████████████▏            | 679/987 [54:48<24:01,  4.68s/it]"
     ]
    },
    {
     "name": "stdout",
     "output_type": "stream",
     "text": [
      "01_09_1936_00000005\n",
      "Pages/01_09_1936_00000005.tif.large.jpg\n"
     ]
    },
    {
     "name": "stderr",
     "output_type": "stream",
     "text": [
      "The checkpoint state_dict contains keys that are not used by the model:\n",
      "  \u001b[35mbackbone.fpn_lateral2.bias\u001b[0m\n",
      "  \u001b[35mbackbone.fpn_output2.bias\u001b[0m\n",
      "  \u001b[35mbackbone.fpn_lateral3.bias\u001b[0m\n",
      "  \u001b[35mbackbone.fpn_output3.bias\u001b[0m\n",
      "  \u001b[35mbackbone.fpn_lateral4.bias\u001b[0m\n",
      "  \u001b[35mbackbone.fpn_output4.bias\u001b[0m\n",
      "  \u001b[35mbackbone.fpn_lateral5.bias\u001b[0m\n",
      "  \u001b[35mbackbone.fpn_output5.bias\u001b[0m\n",
      " 69%|████████████████████████████▏            | 680/987 [54:52<24:10,  4.72s/it]"
     ]
    },
    {
     "name": "stdout",
     "output_type": "stream",
     "text": [
      "12_11_1936_00000002\n",
      "Pages/12_11_1936_00000002.tif.large.jpg\n"
     ]
    },
    {
     "name": "stderr",
     "output_type": "stream",
     "text": [
      "The checkpoint state_dict contains keys that are not used by the model:\n",
      "  \u001b[35mbackbone.fpn_lateral2.bias\u001b[0m\n",
      "  \u001b[35mbackbone.fpn_output2.bias\u001b[0m\n",
      "  \u001b[35mbackbone.fpn_lateral3.bias\u001b[0m\n",
      "  \u001b[35mbackbone.fpn_output3.bias\u001b[0m\n",
      "  \u001b[35mbackbone.fpn_lateral4.bias\u001b[0m\n",
      "  \u001b[35mbackbone.fpn_output4.bias\u001b[0m\n",
      "  \u001b[35mbackbone.fpn_lateral5.bias\u001b[0m\n",
      "  \u001b[35mbackbone.fpn_output5.bias\u001b[0m\n",
      " 69%|████████████████████████████▎            | 681/987 [54:57<24:02,  4.71s/it]"
     ]
    },
    {
     "name": "stdout",
     "output_type": "stream",
     "text": [
      "11_02_1936_00000008\n",
      "Pages/11_02_1936_00000008.tif.large.jpg\n"
     ]
    },
    {
     "name": "stderr",
     "output_type": "stream",
     "text": [
      "The checkpoint state_dict contains keys that are not used by the model:\n",
      "  \u001b[35mbackbone.fpn_lateral2.bias\u001b[0m\n",
      "  \u001b[35mbackbone.fpn_output2.bias\u001b[0m\n",
      "  \u001b[35mbackbone.fpn_lateral3.bias\u001b[0m\n",
      "  \u001b[35mbackbone.fpn_output3.bias\u001b[0m\n",
      "  \u001b[35mbackbone.fpn_lateral4.bias\u001b[0m\n",
      "  \u001b[35mbackbone.fpn_output4.bias\u001b[0m\n",
      "  \u001b[35mbackbone.fpn_lateral5.bias\u001b[0m\n",
      "  \u001b[35mbackbone.fpn_output5.bias\u001b[0m\n",
      " 69%|████████████████████████████▎            | 682/987 [55:02<23:44,  4.67s/it]"
     ]
    },
    {
     "name": "stdout",
     "output_type": "stream",
     "text": [
      "08_01_1936_00000008\n",
      "Pages/08_01_1936_00000008.tif.large.jpg\n"
     ]
    },
    {
     "name": "stderr",
     "output_type": "stream",
     "text": [
      "The checkpoint state_dict contains keys that are not used by the model:\n",
      "  \u001b[35mbackbone.fpn_lateral2.bias\u001b[0m\n",
      "  \u001b[35mbackbone.fpn_output2.bias\u001b[0m\n",
      "  \u001b[35mbackbone.fpn_lateral3.bias\u001b[0m\n",
      "  \u001b[35mbackbone.fpn_output3.bias\u001b[0m\n",
      "  \u001b[35mbackbone.fpn_lateral4.bias\u001b[0m\n",
      "  \u001b[35mbackbone.fpn_output4.bias\u001b[0m\n",
      "  \u001b[35mbackbone.fpn_lateral5.bias\u001b[0m\n",
      "  \u001b[35mbackbone.fpn_output5.bias\u001b[0m\n",
      " 69%|████████████████████████████▎            | 683/987 [55:06<23:35,  4.66s/it]"
     ]
    },
    {
     "name": "stdout",
     "output_type": "stream",
     "text": [
      "14_12_1936_00000002\n",
      "Pages/14_12_1936_00000002.tif.large.jpg\n"
     ]
    },
    {
     "name": "stderr",
     "output_type": "stream",
     "text": [
      "The checkpoint state_dict contains keys that are not used by the model:\n",
      "  \u001b[35mbackbone.fpn_lateral2.bias\u001b[0m\n",
      "  \u001b[35mbackbone.fpn_output2.bias\u001b[0m\n",
      "  \u001b[35mbackbone.fpn_lateral3.bias\u001b[0m\n",
      "  \u001b[35mbackbone.fpn_output3.bias\u001b[0m\n",
      "  \u001b[35mbackbone.fpn_lateral4.bias\u001b[0m\n",
      "  \u001b[35mbackbone.fpn_output4.bias\u001b[0m\n",
      "  \u001b[35mbackbone.fpn_lateral5.bias\u001b[0m\n",
      "  \u001b[35mbackbone.fpn_output5.bias\u001b[0m\n",
      " 69%|████████████████████████████▍            | 684/987 [55:11<23:25,  4.64s/it]"
     ]
    },
    {
     "name": "stdout",
     "output_type": "stream",
     "text": [
      "22_12_1936_00000012\n",
      "Pages/22_12_1936_00000012.tif.large.jpg\n"
     ]
    },
    {
     "name": "stderr",
     "output_type": "stream",
     "text": [
      "The checkpoint state_dict contains keys that are not used by the model:\n",
      "  \u001b[35mbackbone.fpn_lateral2.bias\u001b[0m\n",
      "  \u001b[35mbackbone.fpn_output2.bias\u001b[0m\n",
      "  \u001b[35mbackbone.fpn_lateral3.bias\u001b[0m\n",
      "  \u001b[35mbackbone.fpn_output3.bias\u001b[0m\n",
      "  \u001b[35mbackbone.fpn_lateral4.bias\u001b[0m\n",
      "  \u001b[35mbackbone.fpn_output4.bias\u001b[0m\n",
      "  \u001b[35mbackbone.fpn_lateral5.bias\u001b[0m\n",
      "  \u001b[35mbackbone.fpn_output5.bias\u001b[0m\n",
      " 69%|████████████████████████████▍            | 685/987 [55:16<23:24,  4.65s/it]"
     ]
    },
    {
     "name": "stdout",
     "output_type": "stream",
     "text": [
      "20_09_1936_00000007\n",
      "Pages/20_09_1936_00000007.tif.large.jpg\n"
     ]
    },
    {
     "name": "stderr",
     "output_type": "stream",
     "text": [
      "The checkpoint state_dict contains keys that are not used by the model:\n",
      "  \u001b[35mbackbone.fpn_lateral2.bias\u001b[0m\n",
      "  \u001b[35mbackbone.fpn_output2.bias\u001b[0m\n",
      "  \u001b[35mbackbone.fpn_lateral3.bias\u001b[0m\n",
      "  \u001b[35mbackbone.fpn_output3.bias\u001b[0m\n",
      "  \u001b[35mbackbone.fpn_lateral4.bias\u001b[0m\n",
      "  \u001b[35mbackbone.fpn_output4.bias\u001b[0m\n",
      "  \u001b[35mbackbone.fpn_lateral5.bias\u001b[0m\n",
      "  \u001b[35mbackbone.fpn_output5.bias\u001b[0m\n",
      " 70%|████████████████████████████▍            | 686/987 [55:20<23:18,  4.65s/it]"
     ]
    },
    {
     "name": "stdout",
     "output_type": "stream",
     "text": [
      "18_09_1936_00000007\n",
      "Pages/18_09_1936_00000007.tif.large.jpg\n"
     ]
    },
    {
     "name": "stderr",
     "output_type": "stream",
     "text": [
      "The checkpoint state_dict contains keys that are not used by the model:\n",
      "  \u001b[35mbackbone.fpn_lateral2.bias\u001b[0m\n",
      "  \u001b[35mbackbone.fpn_output2.bias\u001b[0m\n",
      "  \u001b[35mbackbone.fpn_lateral3.bias\u001b[0m\n",
      "  \u001b[35mbackbone.fpn_output3.bias\u001b[0m\n",
      "  \u001b[35mbackbone.fpn_lateral4.bias\u001b[0m\n",
      "  \u001b[35mbackbone.fpn_output4.bias\u001b[0m\n",
      "  \u001b[35mbackbone.fpn_lateral5.bias\u001b[0m\n",
      "  \u001b[35mbackbone.fpn_output5.bias\u001b[0m\n",
      " 70%|████████████████████████████▌            | 687/987 [55:25<23:08,  4.63s/it]"
     ]
    },
    {
     "name": "stdout",
     "output_type": "stream",
     "text": [
      "15_12_1936_00000006\n",
      "Pages/15_12_1936_00000006.tif.large.jpg\n"
     ]
    },
    {
     "name": "stderr",
     "output_type": "stream",
     "text": [
      "The checkpoint state_dict contains keys that are not used by the model:\n",
      "  \u001b[35mbackbone.fpn_lateral2.bias\u001b[0m\n",
      "  \u001b[35mbackbone.fpn_output2.bias\u001b[0m\n",
      "  \u001b[35mbackbone.fpn_lateral3.bias\u001b[0m\n",
      "  \u001b[35mbackbone.fpn_output3.bias\u001b[0m\n",
      "  \u001b[35mbackbone.fpn_lateral4.bias\u001b[0m\n",
      "  \u001b[35mbackbone.fpn_output4.bias\u001b[0m\n",
      "  \u001b[35mbackbone.fpn_lateral5.bias\u001b[0m\n",
      "  \u001b[35mbackbone.fpn_output5.bias\u001b[0m\n",
      " 70%|████████████████████████████▌            | 688/987 [55:30<23:21,  4.69s/it]"
     ]
    },
    {
     "name": "stdout",
     "output_type": "stream",
     "text": [
      "12_04_1936_00000042\n",
      "Pages/12_04_1936_00000042.tif.large.jpg\n"
     ]
    },
    {
     "name": "stderr",
     "output_type": "stream",
     "text": [
      "The checkpoint state_dict contains keys that are not used by the model:\n",
      "  \u001b[35mbackbone.fpn_lateral2.bias\u001b[0m\n",
      "  \u001b[35mbackbone.fpn_output2.bias\u001b[0m\n",
      "  \u001b[35mbackbone.fpn_lateral3.bias\u001b[0m\n",
      "  \u001b[35mbackbone.fpn_output3.bias\u001b[0m\n",
      "  \u001b[35mbackbone.fpn_lateral4.bias\u001b[0m\n",
      "  \u001b[35mbackbone.fpn_output4.bias\u001b[0m\n",
      "  \u001b[35mbackbone.fpn_lateral5.bias\u001b[0m\n",
      "  \u001b[35mbackbone.fpn_output5.bias\u001b[0m\n",
      " 70%|████████████████████████████▌            | 689/987 [55:34<22:56,  4.62s/it]"
     ]
    },
    {
     "name": "stdout",
     "output_type": "stream",
     "text": [
      "27_04_1936_00000012\n",
      "Pages/27_04_1936_00000012.tif.large.jpg\n"
     ]
    },
    {
     "name": "stderr",
     "output_type": "stream",
     "text": [
      "The checkpoint state_dict contains keys that are not used by the model:\n",
      "  \u001b[35mbackbone.fpn_lateral2.bias\u001b[0m\n",
      "  \u001b[35mbackbone.fpn_output2.bias\u001b[0m\n",
      "  \u001b[35mbackbone.fpn_lateral3.bias\u001b[0m\n",
      "  \u001b[35mbackbone.fpn_output3.bias\u001b[0m\n",
      "  \u001b[35mbackbone.fpn_lateral4.bias\u001b[0m\n",
      "  \u001b[35mbackbone.fpn_output4.bias\u001b[0m\n",
      "  \u001b[35mbackbone.fpn_lateral5.bias\u001b[0m\n",
      "  \u001b[35mbackbone.fpn_output5.bias\u001b[0m\n",
      " 70%|████████████████████████████▋            | 690/987 [55:39<23:09,  4.68s/it]"
     ]
    },
    {
     "name": "stdout",
     "output_type": "stream",
     "text": [
      "17_04_1936_00000006\n",
      "Pages/17_04_1936_00000006.tif.large.jpg\n"
     ]
    },
    {
     "name": "stderr",
     "output_type": "stream",
     "text": [
      "The checkpoint state_dict contains keys that are not used by the model:\n",
      "  \u001b[35mbackbone.fpn_lateral2.bias\u001b[0m\n",
      "  \u001b[35mbackbone.fpn_output2.bias\u001b[0m\n",
      "  \u001b[35mbackbone.fpn_lateral3.bias\u001b[0m\n",
      "  \u001b[35mbackbone.fpn_output3.bias\u001b[0m\n",
      "  \u001b[35mbackbone.fpn_lateral4.bias\u001b[0m\n",
      "  \u001b[35mbackbone.fpn_output4.bias\u001b[0m\n",
      "  \u001b[35mbackbone.fpn_lateral5.bias\u001b[0m\n",
      "  \u001b[35mbackbone.fpn_output5.bias\u001b[0m\n",
      " 70%|████████████████████████████▋            | 691/987 [55:43<22:57,  4.65s/it]"
     ]
    },
    {
     "name": "stdout",
     "output_type": "stream",
     "text": [
      "29_10_1936_00000001\n",
      "Pages/29_10_1936_00000001.tif.large.jpg\n"
     ]
    },
    {
     "name": "stderr",
     "output_type": "stream",
     "text": [
      "The checkpoint state_dict contains keys that are not used by the model:\n",
      "  \u001b[35mbackbone.fpn_lateral2.bias\u001b[0m\n",
      "  \u001b[35mbackbone.fpn_output2.bias\u001b[0m\n",
      "  \u001b[35mbackbone.fpn_lateral3.bias\u001b[0m\n",
      "  \u001b[35mbackbone.fpn_output3.bias\u001b[0m\n",
      "  \u001b[35mbackbone.fpn_lateral4.bias\u001b[0m\n",
      "  \u001b[35mbackbone.fpn_output4.bias\u001b[0m\n",
      "  \u001b[35mbackbone.fpn_lateral5.bias\u001b[0m\n",
      "  \u001b[35mbackbone.fpn_output5.bias\u001b[0m\n",
      " 70%|████████████████████████████▋            | 692/987 [55:48<22:46,  4.63s/it]"
     ]
    },
    {
     "name": "stdout",
     "output_type": "stream",
     "text": [
      "18_12_1936_00000006\n",
      "Pages/18_12_1936_00000006.tif.large.jpg\n"
     ]
    },
    {
     "name": "stderr",
     "output_type": "stream",
     "text": [
      "The checkpoint state_dict contains keys that are not used by the model:\n",
      "  \u001b[35mbackbone.fpn_lateral2.bias\u001b[0m\n",
      "  \u001b[35mbackbone.fpn_output2.bias\u001b[0m\n",
      "  \u001b[35mbackbone.fpn_lateral3.bias\u001b[0m\n",
      "  \u001b[35mbackbone.fpn_output3.bias\u001b[0m\n",
      "  \u001b[35mbackbone.fpn_lateral4.bias\u001b[0m\n",
      "  \u001b[35mbackbone.fpn_output4.bias\u001b[0m\n",
      "  \u001b[35mbackbone.fpn_lateral5.bias\u001b[0m\n",
      "  \u001b[35mbackbone.fpn_output5.bias\u001b[0m\n",
      " 70%|████████████████████████████▊            | 693/987 [55:53<22:42,  4.63s/it]"
     ]
    },
    {
     "name": "stdout",
     "output_type": "stream",
     "text": [
      "05_08_1936_00000006\n",
      "Pages/05_08_1936_00000006.tif.large.jpg\n"
     ]
    },
    {
     "name": "stderr",
     "output_type": "stream",
     "text": [
      "The checkpoint state_dict contains keys that are not used by the model:\n",
      "  \u001b[35mbackbone.fpn_lateral2.bias\u001b[0m\n",
      "  \u001b[35mbackbone.fpn_output2.bias\u001b[0m\n",
      "  \u001b[35mbackbone.fpn_lateral3.bias\u001b[0m\n",
      "  \u001b[35mbackbone.fpn_output3.bias\u001b[0m\n",
      "  \u001b[35mbackbone.fpn_lateral4.bias\u001b[0m\n",
      "  \u001b[35mbackbone.fpn_output4.bias\u001b[0m\n",
      "  \u001b[35mbackbone.fpn_lateral5.bias\u001b[0m\n",
      "  \u001b[35mbackbone.fpn_output5.bias\u001b[0m\n",
      " 70%|████████████████████████████▊            | 694/987 [55:57<22:32,  4.61s/it]"
     ]
    },
    {
     "name": "stdout",
     "output_type": "stream",
     "text": [
      "23_10_1936_00000019\n",
      "Pages/23_10_1936_00000019.tif.large.jpg\n"
     ]
    },
    {
     "name": "stderr",
     "output_type": "stream",
     "text": [
      "The checkpoint state_dict contains keys that are not used by the model:\n",
      "  \u001b[35mbackbone.fpn_lateral2.bias\u001b[0m\n",
      "  \u001b[35mbackbone.fpn_output2.bias\u001b[0m\n",
      "  \u001b[35mbackbone.fpn_lateral3.bias\u001b[0m\n",
      "  \u001b[35mbackbone.fpn_output3.bias\u001b[0m\n",
      "  \u001b[35mbackbone.fpn_lateral4.bias\u001b[0m\n",
      "  \u001b[35mbackbone.fpn_output4.bias\u001b[0m\n",
      "  \u001b[35mbackbone.fpn_lateral5.bias\u001b[0m\n",
      "  \u001b[35mbackbone.fpn_output5.bias\u001b[0m\n",
      " 70%|████████████████████████████▊            | 695/987 [56:02<22:27,  4.61s/it]"
     ]
    },
    {
     "name": "stdout",
     "output_type": "stream",
     "text": [
      "03_12_1936_00000007\n",
      "Pages/03_12_1936_00000007.tif.large.jpg\n"
     ]
    },
    {
     "name": "stderr",
     "output_type": "stream",
     "text": [
      "The checkpoint state_dict contains keys that are not used by the model:\n",
      "  \u001b[35mbackbone.fpn_lateral2.bias\u001b[0m\n",
      "  \u001b[35mbackbone.fpn_output2.bias\u001b[0m\n",
      "  \u001b[35mbackbone.fpn_lateral3.bias\u001b[0m\n",
      "  \u001b[35mbackbone.fpn_output3.bias\u001b[0m\n",
      "  \u001b[35mbackbone.fpn_lateral4.bias\u001b[0m\n",
      "  \u001b[35mbackbone.fpn_output4.bias\u001b[0m\n",
      "  \u001b[35mbackbone.fpn_lateral5.bias\u001b[0m\n",
      "  \u001b[35mbackbone.fpn_output5.bias\u001b[0m\n",
      " 71%|████████████████████████████▉            | 696/987 [56:06<22:17,  4.60s/it]"
     ]
    },
    {
     "name": "stdout",
     "output_type": "stream",
     "text": [
      "03_03_1936_00000012\n",
      "Pages/03_03_1936_00000012.tif.large.jpg\n"
     ]
    },
    {
     "name": "stderr",
     "output_type": "stream",
     "text": [
      "The checkpoint state_dict contains keys that are not used by the model:\n",
      "  \u001b[35mbackbone.fpn_lateral2.bias\u001b[0m\n",
      "  \u001b[35mbackbone.fpn_output2.bias\u001b[0m\n",
      "  \u001b[35mbackbone.fpn_lateral3.bias\u001b[0m\n",
      "  \u001b[35mbackbone.fpn_output3.bias\u001b[0m\n",
      "  \u001b[35mbackbone.fpn_lateral4.bias\u001b[0m\n",
      "  \u001b[35mbackbone.fpn_output4.bias\u001b[0m\n",
      "  \u001b[35mbackbone.fpn_lateral5.bias\u001b[0m\n",
      "  \u001b[35mbackbone.fpn_output5.bias\u001b[0m\n",
      " 71%|████████████████████████████▉            | 697/987 [56:11<22:30,  4.66s/it]"
     ]
    },
    {
     "name": "stdout",
     "output_type": "stream",
     "text": [
      "01_04_1936_00000005\n",
      "Pages/01_04_1936_00000005.tif.large.jpg\n"
     ]
    },
    {
     "name": "stderr",
     "output_type": "stream",
     "text": [
      "The checkpoint state_dict contains keys that are not used by the model:\n",
      "  \u001b[35mbackbone.fpn_lateral2.bias\u001b[0m\n",
      "  \u001b[35mbackbone.fpn_output2.bias\u001b[0m\n",
      "  \u001b[35mbackbone.fpn_lateral3.bias\u001b[0m\n",
      "  \u001b[35mbackbone.fpn_output3.bias\u001b[0m\n",
      "  \u001b[35mbackbone.fpn_lateral4.bias\u001b[0m\n",
      "  \u001b[35mbackbone.fpn_output4.bias\u001b[0m\n",
      "  \u001b[35mbackbone.fpn_lateral5.bias\u001b[0m\n",
      "  \u001b[35mbackbone.fpn_output5.bias\u001b[0m\n",
      " 71%|████████████████████████████▉            | 698/987 [56:16<22:24,  4.65s/it]"
     ]
    },
    {
     "name": "stdout",
     "output_type": "stream",
     "text": [
      "04_03_1936_00000013\n",
      "Pages/04_03_1936_00000013.tif.large.jpg\n"
     ]
    },
    {
     "name": "stderr",
     "output_type": "stream",
     "text": [
      "The checkpoint state_dict contains keys that are not used by the model:\n",
      "  \u001b[35mbackbone.fpn_lateral2.bias\u001b[0m\n",
      "  \u001b[35mbackbone.fpn_output2.bias\u001b[0m\n",
      "  \u001b[35mbackbone.fpn_lateral3.bias\u001b[0m\n",
      "  \u001b[35mbackbone.fpn_output3.bias\u001b[0m\n",
      "  \u001b[35mbackbone.fpn_lateral4.bias\u001b[0m\n",
      "  \u001b[35mbackbone.fpn_output4.bias\u001b[0m\n",
      "  \u001b[35mbackbone.fpn_lateral5.bias\u001b[0m\n",
      "  \u001b[35mbackbone.fpn_output5.bias\u001b[0m\n",
      " 71%|█████████████████████████████            | 699/987 [56:20<22:16,  4.64s/it]"
     ]
    },
    {
     "name": "stdout",
     "output_type": "stream",
     "text": [
      "31_10_1936_00000014\n",
      "Pages/31_10_1936_00000014.tif.large.jpg\n"
     ]
    },
    {
     "name": "stderr",
     "output_type": "stream",
     "text": [
      "The checkpoint state_dict contains keys that are not used by the model:\n",
      "  \u001b[35mbackbone.fpn_lateral2.bias\u001b[0m\n",
      "  \u001b[35mbackbone.fpn_output2.bias\u001b[0m\n",
      "  \u001b[35mbackbone.fpn_lateral3.bias\u001b[0m\n",
      "  \u001b[35mbackbone.fpn_output3.bias\u001b[0m\n",
      "  \u001b[35mbackbone.fpn_lateral4.bias\u001b[0m\n",
      "  \u001b[35mbackbone.fpn_output4.bias\u001b[0m\n",
      "  \u001b[35mbackbone.fpn_lateral5.bias\u001b[0m\n",
      "  \u001b[35mbackbone.fpn_output5.bias\u001b[0m\n",
      " 71%|█████████████████████████████            | 700/987 [56:25<22:09,  4.63s/it]"
     ]
    },
    {
     "name": "stdout",
     "output_type": "stream",
     "text": [
      "06_09_1936_00000026\n",
      "Pages/06_09_1936_00000026.tif.large.jpg\n"
     ]
    },
    {
     "name": "stderr",
     "output_type": "stream",
     "text": [
      "The checkpoint state_dict contains keys that are not used by the model:\n",
      "  \u001b[35mbackbone.fpn_lateral2.bias\u001b[0m\n",
      "  \u001b[35mbackbone.fpn_output2.bias\u001b[0m\n",
      "  \u001b[35mbackbone.fpn_lateral3.bias\u001b[0m\n",
      "  \u001b[35mbackbone.fpn_output3.bias\u001b[0m\n",
      "  \u001b[35mbackbone.fpn_lateral4.bias\u001b[0m\n",
      "  \u001b[35mbackbone.fpn_output4.bias\u001b[0m\n",
      "  \u001b[35mbackbone.fpn_lateral5.bias\u001b[0m\n",
      "  \u001b[35mbackbone.fpn_output5.bias\u001b[0m\n",
      " 71%|█████████████████████████████            | 701/987 [56:30<21:51,  4.59s/it]"
     ]
    },
    {
     "name": "stdout",
     "output_type": "stream",
     "text": [
      "25_04_1936_00000003\n",
      "Pages/25_04_1936_00000003.tif.large.jpg\n"
     ]
    },
    {
     "name": "stderr",
     "output_type": "stream",
     "text": [
      "The checkpoint state_dict contains keys that are not used by the model:\n",
      "  \u001b[35mbackbone.fpn_lateral2.bias\u001b[0m\n",
      "  \u001b[35mbackbone.fpn_output2.bias\u001b[0m\n",
      "  \u001b[35mbackbone.fpn_lateral3.bias\u001b[0m\n",
      "  \u001b[35mbackbone.fpn_output3.bias\u001b[0m\n",
      "  \u001b[35mbackbone.fpn_lateral4.bias\u001b[0m\n",
      "  \u001b[35mbackbone.fpn_output4.bias\u001b[0m\n",
      "  \u001b[35mbackbone.fpn_lateral5.bias\u001b[0m\n",
      "  \u001b[35mbackbone.fpn_output5.bias\u001b[0m\n",
      " 71%|█████████████████████████████▏           | 702/987 [56:34<21:54,  4.61s/it]"
     ]
    },
    {
     "name": "stdout",
     "output_type": "stream",
     "text": [
      "20_10_1936_00000008\n",
      "Pages/20_10_1936_00000008.tif.large.jpg\n"
     ]
    },
    {
     "name": "stderr",
     "output_type": "stream",
     "text": [
      "The checkpoint state_dict contains keys that are not used by the model:\n",
      "  \u001b[35mbackbone.fpn_lateral2.bias\u001b[0m\n",
      "  \u001b[35mbackbone.fpn_output2.bias\u001b[0m\n",
      "  \u001b[35mbackbone.fpn_lateral3.bias\u001b[0m\n",
      "  \u001b[35mbackbone.fpn_output3.bias\u001b[0m\n",
      "  \u001b[35mbackbone.fpn_lateral4.bias\u001b[0m\n",
      "  \u001b[35mbackbone.fpn_output4.bias\u001b[0m\n",
      "  \u001b[35mbackbone.fpn_lateral5.bias\u001b[0m\n",
      "  \u001b[35mbackbone.fpn_output5.bias\u001b[0m\n",
      " 71%|█████████████████████████████▏           | 703/987 [56:39<21:44,  4.59s/it]"
     ]
    },
    {
     "name": "stdout",
     "output_type": "stream",
     "text": [
      "26_11_1936_00000007\n",
      "Pages/26_11_1936_00000007.tif.large.jpg\n"
     ]
    },
    {
     "name": "stderr",
     "output_type": "stream",
     "text": [
      "The checkpoint state_dict contains keys that are not used by the model:\n",
      "  \u001b[35mbackbone.fpn_lateral2.bias\u001b[0m\n",
      "  \u001b[35mbackbone.fpn_output2.bias\u001b[0m\n",
      "  \u001b[35mbackbone.fpn_lateral3.bias\u001b[0m\n",
      "  \u001b[35mbackbone.fpn_output3.bias\u001b[0m\n",
      "  \u001b[35mbackbone.fpn_lateral4.bias\u001b[0m\n",
      "  \u001b[35mbackbone.fpn_output4.bias\u001b[0m\n",
      "  \u001b[35mbackbone.fpn_lateral5.bias\u001b[0m\n",
      "  \u001b[35mbackbone.fpn_output5.bias\u001b[0m\n",
      " 71%|█████████████████████████████▏           | 704/987 [56:43<21:42,  4.60s/it]"
     ]
    },
    {
     "name": "stdout",
     "output_type": "stream",
     "text": [
      "09_01_1936_00000007\n",
      "Pages/09_01_1936_00000007.tif.large.jpg\n"
     ]
    },
    {
     "name": "stderr",
     "output_type": "stream",
     "text": [
      "The checkpoint state_dict contains keys that are not used by the model:\n",
      "  \u001b[35mbackbone.fpn_lateral2.bias\u001b[0m\n",
      "  \u001b[35mbackbone.fpn_output2.bias\u001b[0m\n",
      "  \u001b[35mbackbone.fpn_lateral3.bias\u001b[0m\n",
      "  \u001b[35mbackbone.fpn_output3.bias\u001b[0m\n",
      "  \u001b[35mbackbone.fpn_lateral4.bias\u001b[0m\n",
      "  \u001b[35mbackbone.fpn_output4.bias\u001b[0m\n",
      "  \u001b[35mbackbone.fpn_lateral5.bias\u001b[0m\n",
      "  \u001b[35mbackbone.fpn_output5.bias\u001b[0m\n",
      " 71%|█████████████████████████████▎           | 705/987 [56:48<21:43,  4.62s/it]"
     ]
    },
    {
     "name": "stdout",
     "output_type": "stream",
     "text": [
      "18_08_1936_00000006\n",
      "Pages/18_08_1936_00000006.tif.large.jpg\n"
     ]
    },
    {
     "name": "stderr",
     "output_type": "stream",
     "text": [
      "The checkpoint state_dict contains keys that are not used by the model:\n",
      "  \u001b[35mbackbone.fpn_lateral2.bias\u001b[0m\n",
      "  \u001b[35mbackbone.fpn_output2.bias\u001b[0m\n",
      "  \u001b[35mbackbone.fpn_lateral3.bias\u001b[0m\n",
      "  \u001b[35mbackbone.fpn_output3.bias\u001b[0m\n",
      "  \u001b[35mbackbone.fpn_lateral4.bias\u001b[0m\n",
      "  \u001b[35mbackbone.fpn_output4.bias\u001b[0m\n",
      "  \u001b[35mbackbone.fpn_lateral5.bias\u001b[0m\n",
      "  \u001b[35mbackbone.fpn_output5.bias\u001b[0m\n",
      " 72%|█████████████████████████████▎           | 706/987 [56:53<21:35,  4.61s/it]"
     ]
    },
    {
     "name": "stdout",
     "output_type": "stream",
     "text": [
      "25_04_1936_00000013\n",
      "Pages/25_04_1936_00000013.tif.large.jpg\n"
     ]
    },
    {
     "name": "stderr",
     "output_type": "stream",
     "text": [
      "The checkpoint state_dict contains keys that are not used by the model:\n",
      "  \u001b[35mbackbone.fpn_lateral2.bias\u001b[0m\n",
      "  \u001b[35mbackbone.fpn_output2.bias\u001b[0m\n",
      "  \u001b[35mbackbone.fpn_lateral3.bias\u001b[0m\n",
      "  \u001b[35mbackbone.fpn_output3.bias\u001b[0m\n",
      "  \u001b[35mbackbone.fpn_lateral4.bias\u001b[0m\n",
      "  \u001b[35mbackbone.fpn_output4.bias\u001b[0m\n",
      "  \u001b[35mbackbone.fpn_lateral5.bias\u001b[0m\n",
      "  \u001b[35mbackbone.fpn_output5.bias\u001b[0m\n",
      " 72%|█████████████████████████████▎           | 707/987 [56:58<21:49,  4.68s/it]"
     ]
    },
    {
     "name": "stdout",
     "output_type": "stream",
     "text": [
      "03_11_1936_00000003\n",
      "Pages/03_11_1936_00000003.tif.large.jpg\n"
     ]
    },
    {
     "name": "stderr",
     "output_type": "stream",
     "text": [
      "The checkpoint state_dict contains keys that are not used by the model:\n",
      "  \u001b[35mbackbone.fpn_lateral2.bias\u001b[0m\n",
      "  \u001b[35mbackbone.fpn_output2.bias\u001b[0m\n",
      "  \u001b[35mbackbone.fpn_lateral3.bias\u001b[0m\n",
      "  \u001b[35mbackbone.fpn_output3.bias\u001b[0m\n",
      "  \u001b[35mbackbone.fpn_lateral4.bias\u001b[0m\n",
      "  \u001b[35mbackbone.fpn_output4.bias\u001b[0m\n",
      "  \u001b[35mbackbone.fpn_lateral5.bias\u001b[0m\n",
      "  \u001b[35mbackbone.fpn_output5.bias\u001b[0m\n",
      " 72%|█████████████████████████████▍           | 708/987 [57:02<21:47,  4.69s/it]"
     ]
    },
    {
     "name": "stdout",
     "output_type": "stream",
     "text": [
      "23_10_1936_00000005\n",
      "Pages/23_10_1936_00000005.tif.large.jpg\n"
     ]
    },
    {
     "name": "stderr",
     "output_type": "stream",
     "text": [
      "The checkpoint state_dict contains keys that are not used by the model:\n",
      "  \u001b[35mbackbone.fpn_lateral2.bias\u001b[0m\n",
      "  \u001b[35mbackbone.fpn_output2.bias\u001b[0m\n",
      "  \u001b[35mbackbone.fpn_lateral3.bias\u001b[0m\n",
      "  \u001b[35mbackbone.fpn_output3.bias\u001b[0m\n",
      "  \u001b[35mbackbone.fpn_lateral4.bias\u001b[0m\n",
      "  \u001b[35mbackbone.fpn_output4.bias\u001b[0m\n",
      "  \u001b[35mbackbone.fpn_lateral5.bias\u001b[0m\n",
      "  \u001b[35mbackbone.fpn_output5.bias\u001b[0m\n",
      " 72%|█████████████████████████████▍           | 709/987 [57:07<21:37,  4.67s/it]"
     ]
    },
    {
     "name": "stdout",
     "output_type": "stream",
     "text": [
      "13_12_1936_00000038\n",
      "Pages/13_12_1936_00000038.tif.large.jpg\n"
     ]
    },
    {
     "name": "stderr",
     "output_type": "stream",
     "text": [
      "The checkpoint state_dict contains keys that are not used by the model:\n",
      "  \u001b[35mbackbone.fpn_lateral2.bias\u001b[0m\n",
      "  \u001b[35mbackbone.fpn_output2.bias\u001b[0m\n",
      "  \u001b[35mbackbone.fpn_lateral3.bias\u001b[0m\n",
      "  \u001b[35mbackbone.fpn_output3.bias\u001b[0m\n",
      "  \u001b[35mbackbone.fpn_lateral4.bias\u001b[0m\n",
      "  \u001b[35mbackbone.fpn_output4.bias\u001b[0m\n",
      "  \u001b[35mbackbone.fpn_lateral5.bias\u001b[0m\n",
      "  \u001b[35mbackbone.fpn_output5.bias\u001b[0m\n",
      " 72%|█████████████████████████████▍           | 710/987 [57:11<21:28,  4.65s/it]"
     ]
    },
    {
     "name": "stdout",
     "output_type": "stream",
     "text": [
      "17_11_1936_00000013\n",
      "Pages/17_11_1936_00000013.tif.large.jpg\n"
     ]
    },
    {
     "name": "stderr",
     "output_type": "stream",
     "text": [
      "The checkpoint state_dict contains keys that are not used by the model:\n",
      "  \u001b[35mbackbone.fpn_lateral2.bias\u001b[0m\n",
      "  \u001b[35mbackbone.fpn_output2.bias\u001b[0m\n",
      "  \u001b[35mbackbone.fpn_lateral3.bias\u001b[0m\n",
      "  \u001b[35mbackbone.fpn_output3.bias\u001b[0m\n",
      "  \u001b[35mbackbone.fpn_lateral4.bias\u001b[0m\n",
      "  \u001b[35mbackbone.fpn_output4.bias\u001b[0m\n",
      "  \u001b[35mbackbone.fpn_lateral5.bias\u001b[0m\n",
      "  \u001b[35mbackbone.fpn_output5.bias\u001b[0m\n",
      " 72%|█████████████████████████████▌           | 711/987 [57:16<21:15,  4.62s/it]"
     ]
    },
    {
     "name": "stdout",
     "output_type": "stream",
     "text": [
      "14_10_1936_00000012\n",
      "Pages/14_10_1936_00000012.tif.large.jpg\n"
     ]
    },
    {
     "name": "stderr",
     "output_type": "stream",
     "text": [
      "The checkpoint state_dict contains keys that are not used by the model:\n",
      "  \u001b[35mbackbone.fpn_lateral2.bias\u001b[0m\n",
      "  \u001b[35mbackbone.fpn_output2.bias\u001b[0m\n",
      "  \u001b[35mbackbone.fpn_lateral3.bias\u001b[0m\n",
      "  \u001b[35mbackbone.fpn_output3.bias\u001b[0m\n",
      "  \u001b[35mbackbone.fpn_lateral4.bias\u001b[0m\n",
      "  \u001b[35mbackbone.fpn_output4.bias\u001b[0m\n",
      "  \u001b[35mbackbone.fpn_lateral5.bias\u001b[0m\n",
      "  \u001b[35mbackbone.fpn_output5.bias\u001b[0m\n",
      " 72%|█████████████████████████████▌           | 712/987 [57:21<21:07,  4.61s/it]"
     ]
    },
    {
     "name": "stdout",
     "output_type": "stream",
     "text": [
      "08_12_1936_00000012\n",
      "Pages/08_12_1936_00000012.tif.large.jpg\n"
     ]
    },
    {
     "name": "stderr",
     "output_type": "stream",
     "text": [
      "The checkpoint state_dict contains keys that are not used by the model:\n",
      "  \u001b[35mbackbone.fpn_lateral2.bias\u001b[0m\n",
      "  \u001b[35mbackbone.fpn_output2.bias\u001b[0m\n",
      "  \u001b[35mbackbone.fpn_lateral3.bias\u001b[0m\n",
      "  \u001b[35mbackbone.fpn_output3.bias\u001b[0m\n",
      "  \u001b[35mbackbone.fpn_lateral4.bias\u001b[0m\n",
      "  \u001b[35mbackbone.fpn_output4.bias\u001b[0m\n",
      "  \u001b[35mbackbone.fpn_lateral5.bias\u001b[0m\n",
      "  \u001b[35mbackbone.fpn_output5.bias\u001b[0m\n",
      " 72%|█████████████████████████████▌           | 713/987 [57:25<21:02,  4.61s/it]"
     ]
    },
    {
     "name": "stdout",
     "output_type": "stream",
     "text": [
      "04_11_1936_00000002\n",
      "Pages/04_11_1936_00000002.tif.large.jpg\n"
     ]
    },
    {
     "name": "stderr",
     "output_type": "stream",
     "text": [
      "The checkpoint state_dict contains keys that are not used by the model:\n",
      "  \u001b[35mbackbone.fpn_lateral2.bias\u001b[0m\n",
      "  \u001b[35mbackbone.fpn_output2.bias\u001b[0m\n",
      "  \u001b[35mbackbone.fpn_lateral3.bias\u001b[0m\n",
      "  \u001b[35mbackbone.fpn_output3.bias\u001b[0m\n",
      "  \u001b[35mbackbone.fpn_lateral4.bias\u001b[0m\n",
      "  \u001b[35mbackbone.fpn_output4.bias\u001b[0m\n",
      "  \u001b[35mbackbone.fpn_lateral5.bias\u001b[0m\n",
      "  \u001b[35mbackbone.fpn_output5.bias\u001b[0m\n",
      " 72%|█████████████████████████████▋           | 714/987 [57:30<21:08,  4.65s/it]"
     ]
    },
    {
     "name": "stdout",
     "output_type": "stream",
     "text": [
      "17_08_1936_00000005\n",
      "Pages/17_08_1936_00000005.tif.large.jpg\n"
     ]
    },
    {
     "name": "stderr",
     "output_type": "stream",
     "text": [
      "The checkpoint state_dict contains keys that are not used by the model:\n",
      "  \u001b[35mbackbone.fpn_lateral2.bias\u001b[0m\n",
      "  \u001b[35mbackbone.fpn_output2.bias\u001b[0m\n",
      "  \u001b[35mbackbone.fpn_lateral3.bias\u001b[0m\n",
      "  \u001b[35mbackbone.fpn_output3.bias\u001b[0m\n",
      "  \u001b[35mbackbone.fpn_lateral4.bias\u001b[0m\n",
      "  \u001b[35mbackbone.fpn_output4.bias\u001b[0m\n",
      "  \u001b[35mbackbone.fpn_lateral5.bias\u001b[0m\n",
      "  \u001b[35mbackbone.fpn_output5.bias\u001b[0m\n",
      " 72%|█████████████████████████████▋           | 715/987 [57:35<21:03,  4.65s/it]"
     ]
    },
    {
     "name": "stdout",
     "output_type": "stream",
     "text": [
      "03_03_1936_00000004\n",
      "Pages/03_03_1936_00000004.tif.large.jpg\n"
     ]
    },
    {
     "name": "stderr",
     "output_type": "stream",
     "text": [
      "The checkpoint state_dict contains keys that are not used by the model:\n",
      "  \u001b[35mbackbone.fpn_lateral2.bias\u001b[0m\n",
      "  \u001b[35mbackbone.fpn_output2.bias\u001b[0m\n",
      "  \u001b[35mbackbone.fpn_lateral3.bias\u001b[0m\n",
      "  \u001b[35mbackbone.fpn_output3.bias\u001b[0m\n",
      "  \u001b[35mbackbone.fpn_lateral4.bias\u001b[0m\n",
      "  \u001b[35mbackbone.fpn_output4.bias\u001b[0m\n",
      "  \u001b[35mbackbone.fpn_lateral5.bias\u001b[0m\n",
      "  \u001b[35mbackbone.fpn_output5.bias\u001b[0m\n",
      " 73%|█████████████████████████████▋           | 716/987 [57:39<20:50,  4.61s/it]"
     ]
    },
    {
     "name": "stdout",
     "output_type": "stream",
     "text": [
      "21_02_1936_00000006\n",
      "Pages/21_02_1936_00000006.tif.large.jpg\n"
     ]
    },
    {
     "name": "stderr",
     "output_type": "stream",
     "text": [
      "The checkpoint state_dict contains keys that are not used by the model:\n",
      "  \u001b[35mbackbone.fpn_lateral2.bias\u001b[0m\n",
      "  \u001b[35mbackbone.fpn_output2.bias\u001b[0m\n",
      "  \u001b[35mbackbone.fpn_lateral3.bias\u001b[0m\n",
      "  \u001b[35mbackbone.fpn_output3.bias\u001b[0m\n",
      "  \u001b[35mbackbone.fpn_lateral4.bias\u001b[0m\n",
      "  \u001b[35mbackbone.fpn_output4.bias\u001b[0m\n",
      "  \u001b[35mbackbone.fpn_lateral5.bias\u001b[0m\n",
      "  \u001b[35mbackbone.fpn_output5.bias\u001b[0m\n",
      " 73%|█████████████████████████████▊           | 717/987 [57:44<20:53,  4.64s/it]"
     ]
    },
    {
     "name": "stdout",
     "output_type": "stream",
     "text": [
      "22_04_1936_00000009\n",
      "Pages/22_04_1936_00000009.tif.large.jpg\n"
     ]
    },
    {
     "name": "stderr",
     "output_type": "stream",
     "text": [
      "The checkpoint state_dict contains keys that are not used by the model:\n",
      "  \u001b[35mbackbone.fpn_lateral2.bias\u001b[0m\n",
      "  \u001b[35mbackbone.fpn_output2.bias\u001b[0m\n",
      "  \u001b[35mbackbone.fpn_lateral3.bias\u001b[0m\n",
      "  \u001b[35mbackbone.fpn_output3.bias\u001b[0m\n",
      "  \u001b[35mbackbone.fpn_lateral4.bias\u001b[0m\n",
      "  \u001b[35mbackbone.fpn_output4.bias\u001b[0m\n",
      "  \u001b[35mbackbone.fpn_lateral5.bias\u001b[0m\n",
      "  \u001b[35mbackbone.fpn_output5.bias\u001b[0m\n",
      " 73%|█████████████████████████████▊           | 718/987 [57:48<20:46,  4.63s/it]"
     ]
    },
    {
     "name": "stdout",
     "output_type": "stream",
     "text": [
      "10_02_1936_00000005\n",
      "Pages/10_02_1936_00000005.tif.large.jpg\n"
     ]
    },
    {
     "name": "stderr",
     "output_type": "stream",
     "text": [
      "The checkpoint state_dict contains keys that are not used by the model:\n",
      "  \u001b[35mbackbone.fpn_lateral2.bias\u001b[0m\n",
      "  \u001b[35mbackbone.fpn_output2.bias\u001b[0m\n",
      "  \u001b[35mbackbone.fpn_lateral3.bias\u001b[0m\n",
      "  \u001b[35mbackbone.fpn_output3.bias\u001b[0m\n",
      "  \u001b[35mbackbone.fpn_lateral4.bias\u001b[0m\n",
      "  \u001b[35mbackbone.fpn_output4.bias\u001b[0m\n",
      "  \u001b[35mbackbone.fpn_lateral5.bias\u001b[0m\n",
      "  \u001b[35mbackbone.fpn_output5.bias\u001b[0m\n",
      " 73%|█████████████████████████████▊           | 719/987 [57:53<20:36,  4.61s/it]"
     ]
    },
    {
     "name": "stdout",
     "output_type": "stream",
     "text": [
      "29_09_1936_00000017\n",
      "Pages/29_09_1936_00000017.tif.large.jpg\n"
     ]
    },
    {
     "name": "stderr",
     "output_type": "stream",
     "text": [
      "The checkpoint state_dict contains keys that are not used by the model:\n",
      "  \u001b[35mbackbone.fpn_lateral2.bias\u001b[0m\n",
      "  \u001b[35mbackbone.fpn_output2.bias\u001b[0m\n",
      "  \u001b[35mbackbone.fpn_lateral3.bias\u001b[0m\n",
      "  \u001b[35mbackbone.fpn_output3.bias\u001b[0m\n",
      "  \u001b[35mbackbone.fpn_lateral4.bias\u001b[0m\n",
      "  \u001b[35mbackbone.fpn_output4.bias\u001b[0m\n",
      "  \u001b[35mbackbone.fpn_lateral5.bias\u001b[0m\n",
      "  \u001b[35mbackbone.fpn_output5.bias\u001b[0m\n",
      " 73%|█████████████████████████████▉           | 720/987 [57:57<20:20,  4.57s/it]"
     ]
    },
    {
     "name": "stdout",
     "output_type": "stream",
     "text": [
      "03_11_1936_00000008\n",
      "Pages/03_11_1936_00000008.tif.large.jpg\n"
     ]
    },
    {
     "name": "stderr",
     "output_type": "stream",
     "text": [
      "The checkpoint state_dict contains keys that are not used by the model:\n",
      "  \u001b[35mbackbone.fpn_lateral2.bias\u001b[0m\n",
      "  \u001b[35mbackbone.fpn_output2.bias\u001b[0m\n",
      "  \u001b[35mbackbone.fpn_lateral3.bias\u001b[0m\n",
      "  \u001b[35mbackbone.fpn_output3.bias\u001b[0m\n",
      "  \u001b[35mbackbone.fpn_lateral4.bias\u001b[0m\n",
      "  \u001b[35mbackbone.fpn_output4.bias\u001b[0m\n",
      "  \u001b[35mbackbone.fpn_lateral5.bias\u001b[0m\n",
      "  \u001b[35mbackbone.fpn_output5.bias\u001b[0m\n",
      " 73%|█████████████████████████████▉           | 721/987 [58:02<20:28,  4.62s/it]"
     ]
    },
    {
     "name": "stdout",
     "output_type": "stream",
     "text": [
      "11_04_1936_00000001\n",
      "Pages/11_04_1936_00000001.tif.large.jpg\n"
     ]
    },
    {
     "name": "stderr",
     "output_type": "stream",
     "text": [
      "The checkpoint state_dict contains keys that are not used by the model:\n",
      "  \u001b[35mbackbone.fpn_lateral2.bias\u001b[0m\n",
      "  \u001b[35mbackbone.fpn_output2.bias\u001b[0m\n",
      "  \u001b[35mbackbone.fpn_lateral3.bias\u001b[0m\n",
      "  \u001b[35mbackbone.fpn_output3.bias\u001b[0m\n",
      "  \u001b[35mbackbone.fpn_lateral4.bias\u001b[0m\n",
      "  \u001b[35mbackbone.fpn_output4.bias\u001b[0m\n",
      "  \u001b[35mbackbone.fpn_lateral5.bias\u001b[0m\n",
      "  \u001b[35mbackbone.fpn_output5.bias\u001b[0m\n",
      " 73%|█████████████████████████████▉           | 722/987 [58:07<20:26,  4.63s/it]"
     ]
    },
    {
     "name": "stdout",
     "output_type": "stream",
     "text": [
      "20_01_1936_00000002\n",
      "Pages/20_01_1936_00000002.tif.large.jpg\n"
     ]
    },
    {
     "name": "stderr",
     "output_type": "stream",
     "text": [
      "The checkpoint state_dict contains keys that are not used by the model:\n",
      "  \u001b[35mbackbone.fpn_lateral2.bias\u001b[0m\n",
      "  \u001b[35mbackbone.fpn_output2.bias\u001b[0m\n",
      "  \u001b[35mbackbone.fpn_lateral3.bias\u001b[0m\n",
      "  \u001b[35mbackbone.fpn_output3.bias\u001b[0m\n",
      "  \u001b[35mbackbone.fpn_lateral4.bias\u001b[0m\n",
      "  \u001b[35mbackbone.fpn_output4.bias\u001b[0m\n",
      "  \u001b[35mbackbone.fpn_lateral5.bias\u001b[0m\n",
      "  \u001b[35mbackbone.fpn_output5.bias\u001b[0m\n",
      " 73%|██████████████████████████████           | 723/987 [58:12<20:56,  4.76s/it]"
     ]
    },
    {
     "name": "stdout",
     "output_type": "stream",
     "text": [
      "27_07_1936_00000013\n",
      "Pages/27_07_1936_00000013.tif.large.jpg\n"
     ]
    },
    {
     "name": "stderr",
     "output_type": "stream",
     "text": [
      "The checkpoint state_dict contains keys that are not used by the model:\n",
      "  \u001b[35mbackbone.fpn_lateral2.bias\u001b[0m\n",
      "  \u001b[35mbackbone.fpn_output2.bias\u001b[0m\n",
      "  \u001b[35mbackbone.fpn_lateral3.bias\u001b[0m\n",
      "  \u001b[35mbackbone.fpn_output3.bias\u001b[0m\n",
      "  \u001b[35mbackbone.fpn_lateral4.bias\u001b[0m\n",
      "  \u001b[35mbackbone.fpn_output4.bias\u001b[0m\n",
      "  \u001b[35mbackbone.fpn_lateral5.bias\u001b[0m\n",
      "  \u001b[35mbackbone.fpn_output5.bias\u001b[0m\n",
      " 73%|██████████████████████████████           | 724/987 [58:17<20:41,  4.72s/it]"
     ]
    },
    {
     "name": "stdout",
     "output_type": "stream",
     "text": [
      "20_04_1936_00000013\n",
      "Pages/20_04_1936_00000013.tif.large.jpg\n"
     ]
    },
    {
     "name": "stderr",
     "output_type": "stream",
     "text": [
      "The checkpoint state_dict contains keys that are not used by the model:\n",
      "  \u001b[35mbackbone.fpn_lateral2.bias\u001b[0m\n",
      "  \u001b[35mbackbone.fpn_output2.bias\u001b[0m\n",
      "  \u001b[35mbackbone.fpn_lateral3.bias\u001b[0m\n",
      "  \u001b[35mbackbone.fpn_output3.bias\u001b[0m\n",
      "  \u001b[35mbackbone.fpn_lateral4.bias\u001b[0m\n",
      "  \u001b[35mbackbone.fpn_output4.bias\u001b[0m\n",
      "  \u001b[35mbackbone.fpn_lateral5.bias\u001b[0m\n",
      "  \u001b[35mbackbone.fpn_output5.bias\u001b[0m\n",
      " 73%|██████████████████████████████           | 725/987 [58:21<20:34,  4.71s/it]"
     ]
    },
    {
     "name": "stdout",
     "output_type": "stream",
     "text": [
      "12_08_1936_00000007\n",
      "Pages/12_08_1936_00000007.tif.large.jpg\n"
     ]
    },
    {
     "name": "stderr",
     "output_type": "stream",
     "text": [
      "The checkpoint state_dict contains keys that are not used by the model:\n",
      "  \u001b[35mbackbone.fpn_lateral2.bias\u001b[0m\n",
      "  \u001b[35mbackbone.fpn_output2.bias\u001b[0m\n",
      "  \u001b[35mbackbone.fpn_lateral3.bias\u001b[0m\n",
      "  \u001b[35mbackbone.fpn_output3.bias\u001b[0m\n",
      "  \u001b[35mbackbone.fpn_lateral4.bias\u001b[0m\n",
      "  \u001b[35mbackbone.fpn_output4.bias\u001b[0m\n",
      "  \u001b[35mbackbone.fpn_lateral5.bias\u001b[0m\n",
      "  \u001b[35mbackbone.fpn_output5.bias\u001b[0m\n",
      " 74%|██████████████████████████████▏          | 726/987 [58:26<20:21,  4.68s/it]"
     ]
    },
    {
     "name": "stdout",
     "output_type": "stream",
     "text": [
      "31_03_1936_00000013\n",
      "Pages/31_03_1936_00000013.tif.large.jpg\n"
     ]
    },
    {
     "name": "stderr",
     "output_type": "stream",
     "text": [
      "The checkpoint state_dict contains keys that are not used by the model:\n",
      "  \u001b[35mbackbone.fpn_lateral2.bias\u001b[0m\n",
      "  \u001b[35mbackbone.fpn_output2.bias\u001b[0m\n",
      "  \u001b[35mbackbone.fpn_lateral3.bias\u001b[0m\n",
      "  \u001b[35mbackbone.fpn_output3.bias\u001b[0m\n",
      "  \u001b[35mbackbone.fpn_lateral4.bias\u001b[0m\n",
      "  \u001b[35mbackbone.fpn_output4.bias\u001b[0m\n",
      "  \u001b[35mbackbone.fpn_lateral5.bias\u001b[0m\n",
      "  \u001b[35mbackbone.fpn_output5.bias\u001b[0m\n",
      " 74%|██████████████████████████████▏          | 727/987 [58:30<20:11,  4.66s/it]"
     ]
    },
    {
     "name": "stdout",
     "output_type": "stream",
     "text": [
      "08_03_1936_00000007\n",
      "Pages/08_03_1936_00000007.tif.large.jpg\n"
     ]
    },
    {
     "name": "stderr",
     "output_type": "stream",
     "text": [
      "The checkpoint state_dict contains keys that are not used by the model:\n",
      "  \u001b[35mbackbone.fpn_lateral2.bias\u001b[0m\n",
      "  \u001b[35mbackbone.fpn_output2.bias\u001b[0m\n",
      "  \u001b[35mbackbone.fpn_lateral3.bias\u001b[0m\n",
      "  \u001b[35mbackbone.fpn_output3.bias\u001b[0m\n",
      "  \u001b[35mbackbone.fpn_lateral4.bias\u001b[0m\n",
      "  \u001b[35mbackbone.fpn_output4.bias\u001b[0m\n",
      "  \u001b[35mbackbone.fpn_lateral5.bias\u001b[0m\n",
      "  \u001b[35mbackbone.fpn_output5.bias\u001b[0m\n",
      " 74%|██████████████████████████████▏          | 728/987 [58:35<20:11,  4.68s/it]"
     ]
    },
    {
     "name": "stdout",
     "output_type": "stream",
     "text": [
      "11_03_1936_00000010\n",
      "Pages/11_03_1936_00000010.tif.large.jpg\n"
     ]
    },
    {
     "name": "stderr",
     "output_type": "stream",
     "text": [
      "The checkpoint state_dict contains keys that are not used by the model:\n",
      "  \u001b[35mbackbone.fpn_lateral2.bias\u001b[0m\n",
      "  \u001b[35mbackbone.fpn_output2.bias\u001b[0m\n",
      "  \u001b[35mbackbone.fpn_lateral3.bias\u001b[0m\n",
      "  \u001b[35mbackbone.fpn_output3.bias\u001b[0m\n",
      "  \u001b[35mbackbone.fpn_lateral4.bias\u001b[0m\n",
      "  \u001b[35mbackbone.fpn_output4.bias\u001b[0m\n",
      "  \u001b[35mbackbone.fpn_lateral5.bias\u001b[0m\n",
      "  \u001b[35mbackbone.fpn_output5.bias\u001b[0m\n",
      " 74%|██████████████████████████████▎          | 729/987 [58:40<20:03,  4.67s/it]"
     ]
    },
    {
     "name": "stdout",
     "output_type": "stream",
     "text": [
      "06_01_1936_00000006\n",
      "Pages/06_01_1936_00000006.tif.large.jpg\n"
     ]
    },
    {
     "name": "stderr",
     "output_type": "stream",
     "text": [
      "The checkpoint state_dict contains keys that are not used by the model:\n",
      "  \u001b[35mbackbone.fpn_lateral2.bias\u001b[0m\n",
      "  \u001b[35mbackbone.fpn_output2.bias\u001b[0m\n",
      "  \u001b[35mbackbone.fpn_lateral3.bias\u001b[0m\n",
      "  \u001b[35mbackbone.fpn_output3.bias\u001b[0m\n",
      "  \u001b[35mbackbone.fpn_lateral4.bias\u001b[0m\n",
      "  \u001b[35mbackbone.fpn_output4.bias\u001b[0m\n",
      "  \u001b[35mbackbone.fpn_lateral5.bias\u001b[0m\n",
      "  \u001b[35mbackbone.fpn_output5.bias\u001b[0m\n",
      " 74%|██████████████████████████████▎          | 730/987 [58:45<20:16,  4.73s/it]"
     ]
    },
    {
     "name": "stdout",
     "output_type": "stream",
     "text": [
      "30_04_1936_00000007\n",
      "Pages/30_04_1936_00000007.tif.large.jpg\n"
     ]
    },
    {
     "name": "stderr",
     "output_type": "stream",
     "text": [
      "The checkpoint state_dict contains keys that are not used by the model:\n",
      "  \u001b[35mbackbone.fpn_lateral2.bias\u001b[0m\n",
      "  \u001b[35mbackbone.fpn_output2.bias\u001b[0m\n",
      "  \u001b[35mbackbone.fpn_lateral3.bias\u001b[0m\n",
      "  \u001b[35mbackbone.fpn_output3.bias\u001b[0m\n",
      "  \u001b[35mbackbone.fpn_lateral4.bias\u001b[0m\n",
      "  \u001b[35mbackbone.fpn_output4.bias\u001b[0m\n",
      "  \u001b[35mbackbone.fpn_lateral5.bias\u001b[0m\n",
      "  \u001b[35mbackbone.fpn_output5.bias\u001b[0m\n",
      " 74%|██████████████████████████████▎          | 731/987 [58:49<20:09,  4.72s/it]"
     ]
    },
    {
     "name": "stdout",
     "output_type": "stream",
     "text": [
      "01_02_1936_00000003\n",
      "Pages/01_02_1936_00000003.tif.large.jpg\n"
     ]
    },
    {
     "name": "stderr",
     "output_type": "stream",
     "text": [
      "The checkpoint state_dict contains keys that are not used by the model:\n",
      "  \u001b[35mbackbone.fpn_lateral2.bias\u001b[0m\n",
      "  \u001b[35mbackbone.fpn_output2.bias\u001b[0m\n",
      "  \u001b[35mbackbone.fpn_lateral3.bias\u001b[0m\n",
      "  \u001b[35mbackbone.fpn_output3.bias\u001b[0m\n",
      "  \u001b[35mbackbone.fpn_lateral4.bias\u001b[0m\n",
      "  \u001b[35mbackbone.fpn_output4.bias\u001b[0m\n",
      "  \u001b[35mbackbone.fpn_lateral5.bias\u001b[0m\n",
      "  \u001b[35mbackbone.fpn_output5.bias\u001b[0m\n",
      " 74%|██████████████████████████████▍          | 732/987 [58:54<19:59,  4.71s/it]"
     ]
    },
    {
     "name": "stdout",
     "output_type": "stream",
     "text": [
      "30_08_1936_00000012\n",
      "Pages/30_08_1936_00000012.tif.large.jpg\n"
     ]
    },
    {
     "name": "stderr",
     "output_type": "stream",
     "text": [
      "The checkpoint state_dict contains keys that are not used by the model:\n",
      "  \u001b[35mbackbone.fpn_lateral2.bias\u001b[0m\n",
      "  \u001b[35mbackbone.fpn_output2.bias\u001b[0m\n",
      "  \u001b[35mbackbone.fpn_lateral3.bias\u001b[0m\n",
      "  \u001b[35mbackbone.fpn_output3.bias\u001b[0m\n",
      "  \u001b[35mbackbone.fpn_lateral4.bias\u001b[0m\n",
      "  \u001b[35mbackbone.fpn_output4.bias\u001b[0m\n",
      "  \u001b[35mbackbone.fpn_lateral5.bias\u001b[0m\n",
      "  \u001b[35mbackbone.fpn_output5.bias\u001b[0m\n",
      " 74%|██████████████████████████████▍          | 733/987 [58:59<19:51,  4.69s/it]"
     ]
    },
    {
     "name": "stdout",
     "output_type": "stream",
     "text": [
      "18_09_1936_00000008\n",
      "Pages/18_09_1936_00000008.tif.large.jpg\n"
     ]
    },
    {
     "name": "stderr",
     "output_type": "stream",
     "text": [
      "The checkpoint state_dict contains keys that are not used by the model:\n",
      "  \u001b[35mbackbone.fpn_lateral2.bias\u001b[0m\n",
      "  \u001b[35mbackbone.fpn_output2.bias\u001b[0m\n",
      "  \u001b[35mbackbone.fpn_lateral3.bias\u001b[0m\n",
      "  \u001b[35mbackbone.fpn_output3.bias\u001b[0m\n",
      "  \u001b[35mbackbone.fpn_lateral4.bias\u001b[0m\n",
      "  \u001b[35mbackbone.fpn_output4.bias\u001b[0m\n",
      "  \u001b[35mbackbone.fpn_lateral5.bias\u001b[0m\n",
      "  \u001b[35mbackbone.fpn_output5.bias\u001b[0m\n",
      " 74%|██████████████████████████████▍          | 734/987 [59:03<19:37,  4.65s/it]"
     ]
    },
    {
     "name": "stdout",
     "output_type": "stream",
     "text": [
      "27_10_1936_00000001\n",
      "Pages/27_10_1936_00000001.tif.large.jpg\n"
     ]
    },
    {
     "name": "stderr",
     "output_type": "stream",
     "text": [
      "The checkpoint state_dict contains keys that are not used by the model:\n",
      "  \u001b[35mbackbone.fpn_lateral2.bias\u001b[0m\n",
      "  \u001b[35mbackbone.fpn_output2.bias\u001b[0m\n",
      "  \u001b[35mbackbone.fpn_lateral3.bias\u001b[0m\n",
      "  \u001b[35mbackbone.fpn_output3.bias\u001b[0m\n",
      "  \u001b[35mbackbone.fpn_lateral4.bias\u001b[0m\n",
      "  \u001b[35mbackbone.fpn_output4.bias\u001b[0m\n",
      "  \u001b[35mbackbone.fpn_lateral5.bias\u001b[0m\n",
      "  \u001b[35mbackbone.fpn_output5.bias\u001b[0m\n",
      " 74%|██████████████████████████████▌          | 735/987 [59:08<19:38,  4.68s/it]"
     ]
    },
    {
     "name": "stdout",
     "output_type": "stream",
     "text": [
      "16_10_1936_00000004\n",
      "Pages/16_10_1936_00000004.tif.large.jpg\n"
     ]
    },
    {
     "name": "stderr",
     "output_type": "stream",
     "text": [
      "The checkpoint state_dict contains keys that are not used by the model:\n",
      "  \u001b[35mbackbone.fpn_lateral2.bias\u001b[0m\n",
      "  \u001b[35mbackbone.fpn_output2.bias\u001b[0m\n",
      "  \u001b[35mbackbone.fpn_lateral3.bias\u001b[0m\n",
      "  \u001b[35mbackbone.fpn_output3.bias\u001b[0m\n",
      "  \u001b[35mbackbone.fpn_lateral4.bias\u001b[0m\n",
      "  \u001b[35mbackbone.fpn_output4.bias\u001b[0m\n",
      "  \u001b[35mbackbone.fpn_lateral5.bias\u001b[0m\n",
      "  \u001b[35mbackbone.fpn_output5.bias\u001b[0m\n",
      " 75%|██████████████████████████████▌          | 736/987 [59:13<19:35,  4.68s/it]"
     ]
    },
    {
     "name": "stdout",
     "output_type": "stream",
     "text": [
      "16_10_1936_00000005\n",
      "Pages/16_10_1936_00000005.tif.large.jpg\n"
     ]
    },
    {
     "name": "stderr",
     "output_type": "stream",
     "text": [
      "The checkpoint state_dict contains keys that are not used by the model:\n",
      "  \u001b[35mbackbone.fpn_lateral2.bias\u001b[0m\n",
      "  \u001b[35mbackbone.fpn_output2.bias\u001b[0m\n",
      "  \u001b[35mbackbone.fpn_lateral3.bias\u001b[0m\n",
      "  \u001b[35mbackbone.fpn_output3.bias\u001b[0m\n",
      "  \u001b[35mbackbone.fpn_lateral4.bias\u001b[0m\n",
      "  \u001b[35mbackbone.fpn_output4.bias\u001b[0m\n",
      "  \u001b[35mbackbone.fpn_lateral5.bias\u001b[0m\n",
      "  \u001b[35mbackbone.fpn_output5.bias\u001b[0m\n",
      " 75%|██████████████████████████████▌          | 737/987 [59:17<19:28,  4.67s/it]"
     ]
    },
    {
     "name": "stdout",
     "output_type": "stream",
     "text": [
      "14_10_1936_00000018\n",
      "Pages/14_10_1936_00000018.tif.large.jpg\n"
     ]
    },
    {
     "name": "stderr",
     "output_type": "stream",
     "text": [
      "The checkpoint state_dict contains keys that are not used by the model:\n",
      "  \u001b[35mbackbone.fpn_lateral2.bias\u001b[0m\n",
      "  \u001b[35mbackbone.fpn_output2.bias\u001b[0m\n",
      "  \u001b[35mbackbone.fpn_lateral3.bias\u001b[0m\n",
      "  \u001b[35mbackbone.fpn_output3.bias\u001b[0m\n",
      "  \u001b[35mbackbone.fpn_lateral4.bias\u001b[0m\n",
      "  \u001b[35mbackbone.fpn_output4.bias\u001b[0m\n",
      "  \u001b[35mbackbone.fpn_lateral5.bias\u001b[0m\n",
      "  \u001b[35mbackbone.fpn_output5.bias\u001b[0m\n",
      " 75%|██████████████████████████████▋          | 738/987 [59:22<19:17,  4.65s/it]"
     ]
    },
    {
     "name": "stdout",
     "output_type": "stream",
     "text": [
      "30_11_1936_00000004\n",
      "Pages/30_11_1936_00000004.tif.large.jpg\n"
     ]
    },
    {
     "name": "stderr",
     "output_type": "stream",
     "text": [
      "The checkpoint state_dict contains keys that are not used by the model:\n",
      "  \u001b[35mbackbone.fpn_lateral2.bias\u001b[0m\n",
      "  \u001b[35mbackbone.fpn_output2.bias\u001b[0m\n",
      "  \u001b[35mbackbone.fpn_lateral3.bias\u001b[0m\n",
      "  \u001b[35mbackbone.fpn_output3.bias\u001b[0m\n",
      "  \u001b[35mbackbone.fpn_lateral4.bias\u001b[0m\n",
      "  \u001b[35mbackbone.fpn_output4.bias\u001b[0m\n",
      "  \u001b[35mbackbone.fpn_lateral5.bias\u001b[0m\n",
      "  \u001b[35mbackbone.fpn_output5.bias\u001b[0m\n",
      " 75%|██████████████████████████████▋          | 739/987 [59:27<19:09,  4.64s/it]"
     ]
    },
    {
     "name": "stdout",
     "output_type": "stream",
     "text": [
      "19_01_1936_00000017\n",
      "Pages/19_01_1936_00000017.tif.large.jpg\n"
     ]
    },
    {
     "name": "stderr",
     "output_type": "stream",
     "text": [
      "The checkpoint state_dict contains keys that are not used by the model:\n",
      "  \u001b[35mbackbone.fpn_lateral2.bias\u001b[0m\n",
      "  \u001b[35mbackbone.fpn_output2.bias\u001b[0m\n",
      "  \u001b[35mbackbone.fpn_lateral3.bias\u001b[0m\n",
      "  \u001b[35mbackbone.fpn_output3.bias\u001b[0m\n",
      "  \u001b[35mbackbone.fpn_lateral4.bias\u001b[0m\n",
      "  \u001b[35mbackbone.fpn_output4.bias\u001b[0m\n",
      "  \u001b[35mbackbone.fpn_lateral5.bias\u001b[0m\n",
      "  \u001b[35mbackbone.fpn_output5.bias\u001b[0m\n",
      " 75%|██████████████████████████████▋          | 740/987 [59:31<19:13,  4.67s/it]"
     ]
    },
    {
     "name": "stdout",
     "output_type": "stream",
     "text": [
      "27_07_1936_00000001\n",
      "Pages/27_07_1936_00000001.tif.large.jpg\n"
     ]
    },
    {
     "name": "stderr",
     "output_type": "stream",
     "text": [
      "The checkpoint state_dict contains keys that are not used by the model:\n",
      "  \u001b[35mbackbone.fpn_lateral2.bias\u001b[0m\n",
      "  \u001b[35mbackbone.fpn_output2.bias\u001b[0m\n",
      "  \u001b[35mbackbone.fpn_lateral3.bias\u001b[0m\n",
      "  \u001b[35mbackbone.fpn_output3.bias\u001b[0m\n",
      "  \u001b[35mbackbone.fpn_lateral4.bias\u001b[0m\n",
      "  \u001b[35mbackbone.fpn_output4.bias\u001b[0m\n",
      "  \u001b[35mbackbone.fpn_lateral5.bias\u001b[0m\n",
      "  \u001b[35mbackbone.fpn_output5.bias\u001b[0m\n",
      " 75%|██████████████████████████████▊          | 741/987 [59:36<18:59,  4.63s/it]"
     ]
    },
    {
     "name": "stdout",
     "output_type": "stream",
     "text": [
      "19_12_1936_00000007\n",
      "Pages/19_12_1936_00000007.tif.large.jpg\n"
     ]
    },
    {
     "name": "stderr",
     "output_type": "stream",
     "text": [
      "The checkpoint state_dict contains keys that are not used by the model:\n",
      "  \u001b[35mbackbone.fpn_lateral2.bias\u001b[0m\n",
      "  \u001b[35mbackbone.fpn_output2.bias\u001b[0m\n",
      "  \u001b[35mbackbone.fpn_lateral3.bias\u001b[0m\n",
      "  \u001b[35mbackbone.fpn_output3.bias\u001b[0m\n",
      "  \u001b[35mbackbone.fpn_lateral4.bias\u001b[0m\n",
      "  \u001b[35mbackbone.fpn_output4.bias\u001b[0m\n",
      "  \u001b[35mbackbone.fpn_lateral5.bias\u001b[0m\n",
      "  \u001b[35mbackbone.fpn_output5.bias\u001b[0m\n",
      " 75%|██████████████████████████████▊          | 742/987 [59:41<19:05,  4.67s/it]"
     ]
    },
    {
     "name": "stdout",
     "output_type": "stream",
     "text": [
      "22_01_1936_00000014\n",
      "Pages/22_01_1936_00000014.tif.large.jpg\n"
     ]
    },
    {
     "name": "stderr",
     "output_type": "stream",
     "text": [
      "The checkpoint state_dict contains keys that are not used by the model:\n",
      "  \u001b[35mbackbone.fpn_lateral2.bias\u001b[0m\n",
      "  \u001b[35mbackbone.fpn_output2.bias\u001b[0m\n",
      "  \u001b[35mbackbone.fpn_lateral3.bias\u001b[0m\n",
      "  \u001b[35mbackbone.fpn_output3.bias\u001b[0m\n",
      "  \u001b[35mbackbone.fpn_lateral4.bias\u001b[0m\n",
      "  \u001b[35mbackbone.fpn_output4.bias\u001b[0m\n",
      "  \u001b[35mbackbone.fpn_lateral5.bias\u001b[0m\n",
      "  \u001b[35mbackbone.fpn_output5.bias\u001b[0m\n",
      " 75%|██████████████████████████████▊          | 743/987 [59:45<18:55,  4.65s/it]"
     ]
    },
    {
     "name": "stdout",
     "output_type": "stream",
     "text": [
      "25_04_1936_00000007\n",
      "Pages/25_04_1936_00000007.tif.large.jpg\n"
     ]
    },
    {
     "name": "stderr",
     "output_type": "stream",
     "text": [
      "The checkpoint state_dict contains keys that are not used by the model:\n",
      "  \u001b[35mbackbone.fpn_lateral2.bias\u001b[0m\n",
      "  \u001b[35mbackbone.fpn_output2.bias\u001b[0m\n",
      "  \u001b[35mbackbone.fpn_lateral3.bias\u001b[0m\n",
      "  \u001b[35mbackbone.fpn_output3.bias\u001b[0m\n",
      "  \u001b[35mbackbone.fpn_lateral4.bias\u001b[0m\n",
      "  \u001b[35mbackbone.fpn_output4.bias\u001b[0m\n",
      "  \u001b[35mbackbone.fpn_lateral5.bias\u001b[0m\n",
      "  \u001b[35mbackbone.fpn_output5.bias\u001b[0m\n",
      " 75%|██████████████████████████████▉          | 744/987 [59:50<18:49,  4.65s/it]"
     ]
    },
    {
     "name": "stdout",
     "output_type": "stream",
     "text": [
      "14_03_1936_00000006\n",
      "Pages/14_03_1936_00000006.tif.large.jpg\n"
     ]
    },
    {
     "name": "stderr",
     "output_type": "stream",
     "text": [
      "The checkpoint state_dict contains keys that are not used by the model:\n",
      "  \u001b[35mbackbone.fpn_lateral2.bias\u001b[0m\n",
      "  \u001b[35mbackbone.fpn_output2.bias\u001b[0m\n",
      "  \u001b[35mbackbone.fpn_lateral3.bias\u001b[0m\n",
      "  \u001b[35mbackbone.fpn_output3.bias\u001b[0m\n",
      "  \u001b[35mbackbone.fpn_lateral4.bias\u001b[0m\n",
      "  \u001b[35mbackbone.fpn_output4.bias\u001b[0m\n",
      "  \u001b[35mbackbone.fpn_lateral5.bias\u001b[0m\n",
      "  \u001b[35mbackbone.fpn_output5.bias\u001b[0m\n",
      " 75%|██████████████████████████████▉          | 745/987 [59:55<18:49,  4.67s/it]"
     ]
    },
    {
     "name": "stdout",
     "output_type": "stream",
     "text": [
      "12_04_1936_00000002\n",
      "Pages/12_04_1936_00000002.tif.large.jpg\n"
     ]
    },
    {
     "name": "stderr",
     "output_type": "stream",
     "text": [
      "The checkpoint state_dict contains keys that are not used by the model:\n",
      "  \u001b[35mbackbone.fpn_lateral2.bias\u001b[0m\n",
      "  \u001b[35mbackbone.fpn_output2.bias\u001b[0m\n",
      "  \u001b[35mbackbone.fpn_lateral3.bias\u001b[0m\n",
      "  \u001b[35mbackbone.fpn_output3.bias\u001b[0m\n",
      "  \u001b[35mbackbone.fpn_lateral4.bias\u001b[0m\n",
      "  \u001b[35mbackbone.fpn_output4.bias\u001b[0m\n",
      "  \u001b[35mbackbone.fpn_lateral5.bias\u001b[0m\n",
      "  \u001b[35mbackbone.fpn_output5.bias\u001b[0m\n",
      " 76%|██████████████████████████████▉          | 746/987 [59:59<18:30,  4.61s/it]"
     ]
    },
    {
     "name": "stdout",
     "output_type": "stream",
     "text": [
      "11_09_1936_00000006\n",
      "Pages/11_09_1936_00000006.tif.large.jpg\n"
     ]
    },
    {
     "name": "stderr",
     "output_type": "stream",
     "text": [
      "The checkpoint state_dict contains keys that are not used by the model:\n",
      "  \u001b[35mbackbone.fpn_lateral2.bias\u001b[0m\n",
      "  \u001b[35mbackbone.fpn_output2.bias\u001b[0m\n",
      "  \u001b[35mbackbone.fpn_lateral3.bias\u001b[0m\n",
      "  \u001b[35mbackbone.fpn_output3.bias\u001b[0m\n",
      "  \u001b[35mbackbone.fpn_lateral4.bias\u001b[0m\n",
      "  \u001b[35mbackbone.fpn_output4.bias\u001b[0m\n",
      "  \u001b[35mbackbone.fpn_lateral5.bias\u001b[0m\n",
      "  \u001b[35mbackbone.fpn_output5.bias\u001b[0m\n",
      " 76%|█████████████████████████████▌         | 747/987 [1:00:04<18:19,  4.58s/it]"
     ]
    },
    {
     "name": "stdout",
     "output_type": "stream",
     "text": [
      "31_01_1936_00000021\n",
      "Pages/31_01_1936_00000021.tif.large.jpg\n"
     ]
    },
    {
     "name": "stderr",
     "output_type": "stream",
     "text": [
      "The checkpoint state_dict contains keys that are not used by the model:\n",
      "  \u001b[35mbackbone.fpn_lateral2.bias\u001b[0m\n",
      "  \u001b[35mbackbone.fpn_output2.bias\u001b[0m\n",
      "  \u001b[35mbackbone.fpn_lateral3.bias\u001b[0m\n",
      "  \u001b[35mbackbone.fpn_output3.bias\u001b[0m\n",
      "  \u001b[35mbackbone.fpn_lateral4.bias\u001b[0m\n",
      "  \u001b[35mbackbone.fpn_output4.bias\u001b[0m\n",
      "  \u001b[35mbackbone.fpn_lateral5.bias\u001b[0m\n",
      "  \u001b[35mbackbone.fpn_output5.bias\u001b[0m\n",
      " 76%|█████████████████████████████▌         | 748/987 [1:00:09<18:38,  4.68s/it]"
     ]
    },
    {
     "name": "stdout",
     "output_type": "stream",
     "text": [
      "31_10_1936_00000036\n",
      "Pages/31_10_1936_00000036.tif.large.jpg\n"
     ]
    },
    {
     "name": "stderr",
     "output_type": "stream",
     "text": [
      "The checkpoint state_dict contains keys that are not used by the model:\n",
      "  \u001b[35mbackbone.fpn_lateral2.bias\u001b[0m\n",
      "  \u001b[35mbackbone.fpn_output2.bias\u001b[0m\n",
      "  \u001b[35mbackbone.fpn_lateral3.bias\u001b[0m\n",
      "  \u001b[35mbackbone.fpn_output3.bias\u001b[0m\n",
      "  \u001b[35mbackbone.fpn_lateral4.bias\u001b[0m\n",
      "  \u001b[35mbackbone.fpn_output4.bias\u001b[0m\n",
      "  \u001b[35mbackbone.fpn_lateral5.bias\u001b[0m\n",
      "  \u001b[35mbackbone.fpn_output5.bias\u001b[0m\n",
      " 76%|█████████████████████████████▌         | 749/987 [1:00:13<18:25,  4.64s/it]"
     ]
    },
    {
     "name": "stdout",
     "output_type": "stream",
     "text": [
      "26_07_1936_00000006\n",
      "Pages/26_07_1936_00000006.tif.large.jpg\n"
     ]
    },
    {
     "name": "stderr",
     "output_type": "stream",
     "text": [
      "The checkpoint state_dict contains keys that are not used by the model:\n",
      "  \u001b[35mbackbone.fpn_lateral2.bias\u001b[0m\n",
      "  \u001b[35mbackbone.fpn_output2.bias\u001b[0m\n",
      "  \u001b[35mbackbone.fpn_lateral3.bias\u001b[0m\n",
      "  \u001b[35mbackbone.fpn_output3.bias\u001b[0m\n",
      "  \u001b[35mbackbone.fpn_lateral4.bias\u001b[0m\n",
      "  \u001b[35mbackbone.fpn_output4.bias\u001b[0m\n",
      "  \u001b[35mbackbone.fpn_lateral5.bias\u001b[0m\n",
      "  \u001b[35mbackbone.fpn_output5.bias\u001b[0m\n",
      " 76%|█████████████████████████████▋         | 750/987 [1:00:18<18:12,  4.61s/it]"
     ]
    },
    {
     "name": "stdout",
     "output_type": "stream",
     "text": [
      "19_01_1936_00000029\n",
      "Pages/19_01_1936_00000029.tif.large.jpg\n"
     ]
    },
    {
     "name": "stderr",
     "output_type": "stream",
     "text": [
      "The checkpoint state_dict contains keys that are not used by the model:\n",
      "  \u001b[35mbackbone.fpn_lateral2.bias\u001b[0m\n",
      "  \u001b[35mbackbone.fpn_output2.bias\u001b[0m\n",
      "  \u001b[35mbackbone.fpn_lateral3.bias\u001b[0m\n",
      "  \u001b[35mbackbone.fpn_output3.bias\u001b[0m\n",
      "  \u001b[35mbackbone.fpn_lateral4.bias\u001b[0m\n",
      "  \u001b[35mbackbone.fpn_output4.bias\u001b[0m\n",
      "  \u001b[35mbackbone.fpn_lateral5.bias\u001b[0m\n",
      "  \u001b[35mbackbone.fpn_output5.bias\u001b[0m\n",
      " 76%|█████████████████████████████▋         | 751/987 [1:00:22<18:25,  4.69s/it]"
     ]
    },
    {
     "name": "stdout",
     "output_type": "stream",
     "text": [
      "22_01_1936_00000017\n",
      "Pages/22_01_1936_00000017.tif.large.jpg\n"
     ]
    },
    {
     "name": "stderr",
     "output_type": "stream",
     "text": [
      "The checkpoint state_dict contains keys that are not used by the model:\n",
      "  \u001b[35mbackbone.fpn_lateral2.bias\u001b[0m\n",
      "  \u001b[35mbackbone.fpn_output2.bias\u001b[0m\n",
      "  \u001b[35mbackbone.fpn_lateral3.bias\u001b[0m\n",
      "  \u001b[35mbackbone.fpn_output3.bias\u001b[0m\n",
      "  \u001b[35mbackbone.fpn_lateral4.bias\u001b[0m\n",
      "  \u001b[35mbackbone.fpn_output4.bias\u001b[0m\n",
      "  \u001b[35mbackbone.fpn_lateral5.bias\u001b[0m\n",
      "  \u001b[35mbackbone.fpn_output5.bias\u001b[0m\n",
      " 76%|█████████████████████████████▋         | 752/987 [1:00:27<18:22,  4.69s/it]"
     ]
    },
    {
     "name": "stdout",
     "output_type": "stream",
     "text": [
      "28_03_1936_00000009\n",
      "Pages/28_03_1936_00000009.tif.large.jpg\n"
     ]
    },
    {
     "name": "stderr",
     "output_type": "stream",
     "text": [
      "The checkpoint state_dict contains keys that are not used by the model:\n",
      "  \u001b[35mbackbone.fpn_lateral2.bias\u001b[0m\n",
      "  \u001b[35mbackbone.fpn_output2.bias\u001b[0m\n",
      "  \u001b[35mbackbone.fpn_lateral3.bias\u001b[0m\n",
      "  \u001b[35mbackbone.fpn_output3.bias\u001b[0m\n",
      "  \u001b[35mbackbone.fpn_lateral4.bias\u001b[0m\n",
      "  \u001b[35mbackbone.fpn_output4.bias\u001b[0m\n",
      "  \u001b[35mbackbone.fpn_lateral5.bias\u001b[0m\n",
      "  \u001b[35mbackbone.fpn_output5.bias\u001b[0m\n",
      " 76%|█████████████████████████████▊         | 753/987 [1:00:32<18:15,  4.68s/it]"
     ]
    },
    {
     "name": "stdout",
     "output_type": "stream",
     "text": [
      "11_02_1936_00000007\n",
      "Pages/11_02_1936_00000007.tif.large.jpg\n"
     ]
    },
    {
     "name": "stderr",
     "output_type": "stream",
     "text": [
      "The checkpoint state_dict contains keys that are not used by the model:\n",
      "  \u001b[35mbackbone.fpn_lateral2.bias\u001b[0m\n",
      "  \u001b[35mbackbone.fpn_output2.bias\u001b[0m\n",
      "  \u001b[35mbackbone.fpn_lateral3.bias\u001b[0m\n",
      "  \u001b[35mbackbone.fpn_output3.bias\u001b[0m\n",
      "  \u001b[35mbackbone.fpn_lateral4.bias\u001b[0m\n",
      "  \u001b[35mbackbone.fpn_output4.bias\u001b[0m\n",
      "  \u001b[35mbackbone.fpn_lateral5.bias\u001b[0m\n",
      "  \u001b[35mbackbone.fpn_output5.bias\u001b[0m\n",
      " 76%|█████████████████████████████▊         | 754/987 [1:00:36<18:04,  4.65s/it]"
     ]
    },
    {
     "name": "stdout",
     "output_type": "stream",
     "text": [
      "14_01_1936_00000007\n",
      "Pages/14_01_1936_00000007.tif.large.jpg\n"
     ]
    },
    {
     "name": "stderr",
     "output_type": "stream",
     "text": [
      "The checkpoint state_dict contains keys that are not used by the model:\n",
      "  \u001b[35mbackbone.fpn_lateral2.bias\u001b[0m\n",
      "  \u001b[35mbackbone.fpn_output2.bias\u001b[0m\n",
      "  \u001b[35mbackbone.fpn_lateral3.bias\u001b[0m\n",
      "  \u001b[35mbackbone.fpn_output3.bias\u001b[0m\n",
      "  \u001b[35mbackbone.fpn_lateral4.bias\u001b[0m\n",
      "  \u001b[35mbackbone.fpn_output4.bias\u001b[0m\n",
      "  \u001b[35mbackbone.fpn_lateral5.bias\u001b[0m\n",
      "  \u001b[35mbackbone.fpn_output5.bias\u001b[0m\n",
      " 76%|█████████████████████████████▊         | 755/987 [1:00:41<18:05,  4.68s/it]"
     ]
    },
    {
     "name": "stdout",
     "output_type": "stream",
     "text": [
      "07_11_1936_00000014\n",
      "Pages/07_11_1936_00000014.tif.large.jpg\n"
     ]
    },
    {
     "name": "stderr",
     "output_type": "stream",
     "text": [
      "The checkpoint state_dict contains keys that are not used by the model:\n",
      "  \u001b[35mbackbone.fpn_lateral2.bias\u001b[0m\n",
      "  \u001b[35mbackbone.fpn_output2.bias\u001b[0m\n",
      "  \u001b[35mbackbone.fpn_lateral3.bias\u001b[0m\n",
      "  \u001b[35mbackbone.fpn_output3.bias\u001b[0m\n",
      "  \u001b[35mbackbone.fpn_lateral4.bias\u001b[0m\n",
      "  \u001b[35mbackbone.fpn_output4.bias\u001b[0m\n",
      "  \u001b[35mbackbone.fpn_lateral5.bias\u001b[0m\n",
      "  \u001b[35mbackbone.fpn_output5.bias\u001b[0m\n",
      " 77%|█████████████████████████████▊         | 756/987 [1:00:46<18:02,  4.69s/it]"
     ]
    },
    {
     "name": "stdout",
     "output_type": "stream",
     "text": [
      "28_11_1936_00000006\n",
      "Pages/28_11_1936_00000006.tif.large.jpg\n"
     ]
    },
    {
     "name": "stderr",
     "output_type": "stream",
     "text": [
      "The checkpoint state_dict contains keys that are not used by the model:\n",
      "  \u001b[35mbackbone.fpn_lateral2.bias\u001b[0m\n",
      "  \u001b[35mbackbone.fpn_output2.bias\u001b[0m\n",
      "  \u001b[35mbackbone.fpn_lateral3.bias\u001b[0m\n",
      "  \u001b[35mbackbone.fpn_output3.bias\u001b[0m\n",
      "  \u001b[35mbackbone.fpn_lateral4.bias\u001b[0m\n",
      "  \u001b[35mbackbone.fpn_output4.bias\u001b[0m\n",
      "  \u001b[35mbackbone.fpn_lateral5.bias\u001b[0m\n",
      "  \u001b[35mbackbone.fpn_output5.bias\u001b[0m\n",
      " 77%|█████████████████████████████▉         | 757/987 [1:00:50<17:52,  4.66s/it]"
     ]
    },
    {
     "name": "stdout",
     "output_type": "stream",
     "text": [
      "28_01_1936_00000005\n",
      "Pages/28_01_1936_00000005.tif.large.jpg\n"
     ]
    },
    {
     "name": "stderr",
     "output_type": "stream",
     "text": [
      "The checkpoint state_dict contains keys that are not used by the model:\n",
      "  \u001b[35mbackbone.fpn_lateral2.bias\u001b[0m\n",
      "  \u001b[35mbackbone.fpn_output2.bias\u001b[0m\n",
      "  \u001b[35mbackbone.fpn_lateral3.bias\u001b[0m\n",
      "  \u001b[35mbackbone.fpn_output3.bias\u001b[0m\n",
      "  \u001b[35mbackbone.fpn_lateral4.bias\u001b[0m\n",
      "  \u001b[35mbackbone.fpn_output4.bias\u001b[0m\n",
      "  \u001b[35mbackbone.fpn_lateral5.bias\u001b[0m\n",
      "  \u001b[35mbackbone.fpn_output5.bias\u001b[0m\n",
      " 77%|█████████████████████████████▉         | 758/987 [1:00:55<17:44,  4.65s/it]"
     ]
    },
    {
     "name": "stdout",
     "output_type": "stream",
     "text": [
      "20_07_1936_00000005\n",
      "Pages/20_07_1936_00000005.tif.large.jpg\n"
     ]
    },
    {
     "name": "stderr",
     "output_type": "stream",
     "text": [
      "The checkpoint state_dict contains keys that are not used by the model:\n",
      "  \u001b[35mbackbone.fpn_lateral2.bias\u001b[0m\n",
      "  \u001b[35mbackbone.fpn_output2.bias\u001b[0m\n",
      "  \u001b[35mbackbone.fpn_lateral3.bias\u001b[0m\n",
      "  \u001b[35mbackbone.fpn_output3.bias\u001b[0m\n",
      "  \u001b[35mbackbone.fpn_lateral4.bias\u001b[0m\n",
      "  \u001b[35mbackbone.fpn_output4.bias\u001b[0m\n",
      "  \u001b[35mbackbone.fpn_lateral5.bias\u001b[0m\n",
      "  \u001b[35mbackbone.fpn_output5.bias\u001b[0m\n",
      " 77%|█████████████████████████████▉         | 759/987 [1:01:00<17:36,  4.63s/it]"
     ]
    },
    {
     "name": "stdout",
     "output_type": "stream",
     "text": [
      "14_03_1936_00000005\n",
      "Pages/14_03_1936_00000005.tif.large.jpg\n"
     ]
    },
    {
     "name": "stderr",
     "output_type": "stream",
     "text": [
      "The checkpoint state_dict contains keys that are not used by the model:\n",
      "  \u001b[35mbackbone.fpn_lateral2.bias\u001b[0m\n",
      "  \u001b[35mbackbone.fpn_output2.bias\u001b[0m\n",
      "  \u001b[35mbackbone.fpn_lateral3.bias\u001b[0m\n",
      "  \u001b[35mbackbone.fpn_output3.bias\u001b[0m\n",
      "  \u001b[35mbackbone.fpn_lateral4.bias\u001b[0m\n",
      "  \u001b[35mbackbone.fpn_output4.bias\u001b[0m\n",
      "  \u001b[35mbackbone.fpn_lateral5.bias\u001b[0m\n",
      "  \u001b[35mbackbone.fpn_output5.bias\u001b[0m\n",
      " 77%|██████████████████████████████         | 760/987 [1:01:04<17:39,  4.67s/it]"
     ]
    },
    {
     "name": "stdout",
     "output_type": "stream",
     "text": [
      "24_07_1936_00000005\n",
      "Pages/24_07_1936_00000005.tif.large.jpg\n"
     ]
    },
    {
     "name": "stderr",
     "output_type": "stream",
     "text": [
      "The checkpoint state_dict contains keys that are not used by the model:\n",
      "  \u001b[35mbackbone.fpn_lateral2.bias\u001b[0m\n",
      "  \u001b[35mbackbone.fpn_output2.bias\u001b[0m\n",
      "  \u001b[35mbackbone.fpn_lateral3.bias\u001b[0m\n",
      "  \u001b[35mbackbone.fpn_output3.bias\u001b[0m\n",
      "  \u001b[35mbackbone.fpn_lateral4.bias\u001b[0m\n",
      "  \u001b[35mbackbone.fpn_output4.bias\u001b[0m\n",
      "  \u001b[35mbackbone.fpn_lateral5.bias\u001b[0m\n",
      "  \u001b[35mbackbone.fpn_output5.bias\u001b[0m\n",
      " 77%|██████████████████████████████         | 761/987 [1:01:09<17:32,  4.66s/it]"
     ]
    },
    {
     "name": "stdout",
     "output_type": "stream",
     "text": [
      "23_04_1936_00000006\n",
      "Pages/23_04_1936_00000006.tif.large.jpg\n"
     ]
    },
    {
     "name": "stderr",
     "output_type": "stream",
     "text": [
      "The checkpoint state_dict contains keys that are not used by the model:\n",
      "  \u001b[35mbackbone.fpn_lateral2.bias\u001b[0m\n",
      "  \u001b[35mbackbone.fpn_output2.bias\u001b[0m\n",
      "  \u001b[35mbackbone.fpn_lateral3.bias\u001b[0m\n",
      "  \u001b[35mbackbone.fpn_output3.bias\u001b[0m\n",
      "  \u001b[35mbackbone.fpn_lateral4.bias\u001b[0m\n",
      "  \u001b[35mbackbone.fpn_output4.bias\u001b[0m\n",
      "  \u001b[35mbackbone.fpn_lateral5.bias\u001b[0m\n",
      "  \u001b[35mbackbone.fpn_output5.bias\u001b[0m\n",
      " 77%|██████████████████████████████         | 762/987 [1:01:14<17:24,  4.64s/it]"
     ]
    },
    {
     "name": "stdout",
     "output_type": "stream",
     "text": [
      "30_04_1936_00000004\n",
      "Pages/30_04_1936_00000004.tif.large.jpg\n"
     ]
    },
    {
     "name": "stderr",
     "output_type": "stream",
     "text": [
      "The checkpoint state_dict contains keys that are not used by the model:\n",
      "  \u001b[35mbackbone.fpn_lateral2.bias\u001b[0m\n",
      "  \u001b[35mbackbone.fpn_output2.bias\u001b[0m\n",
      "  \u001b[35mbackbone.fpn_lateral3.bias\u001b[0m\n",
      "  \u001b[35mbackbone.fpn_output3.bias\u001b[0m\n",
      "  \u001b[35mbackbone.fpn_lateral4.bias\u001b[0m\n",
      "  \u001b[35mbackbone.fpn_output4.bias\u001b[0m\n",
      "  \u001b[35mbackbone.fpn_lateral5.bias\u001b[0m\n",
      "  \u001b[35mbackbone.fpn_output5.bias\u001b[0m\n",
      " 77%|██████████████████████████████▏        | 763/987 [1:01:18<17:29,  4.69s/it]"
     ]
    },
    {
     "name": "stdout",
     "output_type": "stream",
     "text": [
      "05_08_1936_00000005\n",
      "Pages/05_08_1936_00000005.tif.large.jpg\n"
     ]
    },
    {
     "name": "stderr",
     "output_type": "stream",
     "text": [
      "The checkpoint state_dict contains keys that are not used by the model:\n",
      "  \u001b[35mbackbone.fpn_lateral2.bias\u001b[0m\n",
      "  \u001b[35mbackbone.fpn_output2.bias\u001b[0m\n",
      "  \u001b[35mbackbone.fpn_lateral3.bias\u001b[0m\n",
      "  \u001b[35mbackbone.fpn_output3.bias\u001b[0m\n",
      "  \u001b[35mbackbone.fpn_lateral4.bias\u001b[0m\n",
      "  \u001b[35mbackbone.fpn_output4.bias\u001b[0m\n",
      "  \u001b[35mbackbone.fpn_lateral5.bias\u001b[0m\n",
      "  \u001b[35mbackbone.fpn_output5.bias\u001b[0m\n",
      " 77%|██████████████████████████████▏        | 764/987 [1:01:23<17:18,  4.66s/it]"
     ]
    },
    {
     "name": "stdout",
     "output_type": "stream",
     "text": [
      "25_02_1936_00000007\n",
      "Pages/25_02_1936_00000007.tif.large.jpg\n"
     ]
    },
    {
     "name": "stderr",
     "output_type": "stream",
     "text": [
      "The checkpoint state_dict contains keys that are not used by the model:\n",
      "  \u001b[35mbackbone.fpn_lateral2.bias\u001b[0m\n",
      "  \u001b[35mbackbone.fpn_output2.bias\u001b[0m\n",
      "  \u001b[35mbackbone.fpn_lateral3.bias\u001b[0m\n",
      "  \u001b[35mbackbone.fpn_output3.bias\u001b[0m\n",
      "  \u001b[35mbackbone.fpn_lateral4.bias\u001b[0m\n",
      "  \u001b[35mbackbone.fpn_output4.bias\u001b[0m\n",
      "  \u001b[35mbackbone.fpn_lateral5.bias\u001b[0m\n",
      "  \u001b[35mbackbone.fpn_output5.bias\u001b[0m\n",
      " 78%|██████████████████████████████▏        | 765/987 [1:01:28<17:17,  4.67s/it]"
     ]
    },
    {
     "name": "stdout",
     "output_type": "stream",
     "text": [
      "26_03_1936_00000001\n",
      "Pages/26_03_1936_00000001.tif.large.jpg\n"
     ]
    },
    {
     "name": "stderr",
     "output_type": "stream",
     "text": [
      "The checkpoint state_dict contains keys that are not used by the model:\n",
      "  \u001b[35mbackbone.fpn_lateral2.bias\u001b[0m\n",
      "  \u001b[35mbackbone.fpn_output2.bias\u001b[0m\n",
      "  \u001b[35mbackbone.fpn_lateral3.bias\u001b[0m\n",
      "  \u001b[35mbackbone.fpn_output3.bias\u001b[0m\n",
      "  \u001b[35mbackbone.fpn_lateral4.bias\u001b[0m\n",
      "  \u001b[35mbackbone.fpn_output4.bias\u001b[0m\n",
      "  \u001b[35mbackbone.fpn_lateral5.bias\u001b[0m\n",
      "  \u001b[35mbackbone.fpn_output5.bias\u001b[0m\n",
      " 78%|██████████████████████████████▎        | 766/987 [1:01:32<17:09,  4.66s/it]"
     ]
    },
    {
     "name": "stdout",
     "output_type": "stream",
     "text": [
      "17_08_1936_00000007\n",
      "Pages/17_08_1936_00000007.tif.large.jpg\n"
     ]
    },
    {
     "name": "stderr",
     "output_type": "stream",
     "text": [
      "The checkpoint state_dict contains keys that are not used by the model:\n",
      "  \u001b[35mbackbone.fpn_lateral2.bias\u001b[0m\n",
      "  \u001b[35mbackbone.fpn_output2.bias\u001b[0m\n",
      "  \u001b[35mbackbone.fpn_lateral3.bias\u001b[0m\n",
      "  \u001b[35mbackbone.fpn_output3.bias\u001b[0m\n",
      "  \u001b[35mbackbone.fpn_lateral4.bias\u001b[0m\n",
      "  \u001b[35mbackbone.fpn_output4.bias\u001b[0m\n",
      "  \u001b[35mbackbone.fpn_lateral5.bias\u001b[0m\n",
      "  \u001b[35mbackbone.fpn_output5.bias\u001b[0m\n",
      " 78%|██████████████████████████████▎        | 767/987 [1:01:37<17:08,  4.68s/it]"
     ]
    },
    {
     "name": "stdout",
     "output_type": "stream",
     "text": [
      "06_12_1936_00000008\n",
      "Pages/06_12_1936_00000008.tif.large.jpg\n"
     ]
    },
    {
     "name": "stderr",
     "output_type": "stream",
     "text": [
      "The checkpoint state_dict contains keys that are not used by the model:\n",
      "  \u001b[35mbackbone.fpn_lateral2.bias\u001b[0m\n",
      "  \u001b[35mbackbone.fpn_output2.bias\u001b[0m\n",
      "  \u001b[35mbackbone.fpn_lateral3.bias\u001b[0m\n",
      "  \u001b[35mbackbone.fpn_output3.bias\u001b[0m\n",
      "  \u001b[35mbackbone.fpn_lateral4.bias\u001b[0m\n",
      "  \u001b[35mbackbone.fpn_output4.bias\u001b[0m\n",
      "  \u001b[35mbackbone.fpn_lateral5.bias\u001b[0m\n",
      "  \u001b[35mbackbone.fpn_output5.bias\u001b[0m\n",
      " 78%|██████████████████████████████▎        | 768/987 [1:01:42<16:59,  4.66s/it]"
     ]
    },
    {
     "name": "stdout",
     "output_type": "stream",
     "text": [
      "29_07_1936_00000005\n",
      "Pages/29_07_1936_00000005.tif.large.jpg\n"
     ]
    },
    {
     "name": "stderr",
     "output_type": "stream",
     "text": [
      "The checkpoint state_dict contains keys that are not used by the model:\n",
      "  \u001b[35mbackbone.fpn_lateral2.bias\u001b[0m\n",
      "  \u001b[35mbackbone.fpn_output2.bias\u001b[0m\n",
      "  \u001b[35mbackbone.fpn_lateral3.bias\u001b[0m\n",
      "  \u001b[35mbackbone.fpn_output3.bias\u001b[0m\n",
      "  \u001b[35mbackbone.fpn_lateral4.bias\u001b[0m\n",
      "  \u001b[35mbackbone.fpn_output4.bias\u001b[0m\n",
      "  \u001b[35mbackbone.fpn_lateral5.bias\u001b[0m\n",
      "  \u001b[35mbackbone.fpn_output5.bias\u001b[0m\n",
      " 78%|██████████████████████████████▍        | 769/987 [1:01:46<16:54,  4.65s/it]"
     ]
    },
    {
     "name": "stdout",
     "output_type": "stream",
     "text": [
      "09_02_1936_00000008\n",
      "Pages/09_02_1936_00000008.tif.large.jpg\n"
     ]
    },
    {
     "name": "stderr",
     "output_type": "stream",
     "text": [
      "The checkpoint state_dict contains keys that are not used by the model:\n",
      "  \u001b[35mbackbone.fpn_lateral2.bias\u001b[0m\n",
      "  \u001b[35mbackbone.fpn_output2.bias\u001b[0m\n",
      "  \u001b[35mbackbone.fpn_lateral3.bias\u001b[0m\n",
      "  \u001b[35mbackbone.fpn_output3.bias\u001b[0m\n",
      "  \u001b[35mbackbone.fpn_lateral4.bias\u001b[0m\n",
      "  \u001b[35mbackbone.fpn_output4.bias\u001b[0m\n",
      "  \u001b[35mbackbone.fpn_lateral5.bias\u001b[0m\n",
      "  \u001b[35mbackbone.fpn_output5.bias\u001b[0m\n",
      " 78%|██████████████████████████████▍        | 770/987 [1:01:51<16:49,  4.65s/it]"
     ]
    },
    {
     "name": "stdout",
     "output_type": "stream",
     "text": [
      "10_09_1936_00000010\n",
      "Pages/10_09_1936_00000010.tif.large.jpg\n"
     ]
    },
    {
     "name": "stderr",
     "output_type": "stream",
     "text": [
      "The checkpoint state_dict contains keys that are not used by the model:\n",
      "  \u001b[35mbackbone.fpn_lateral2.bias\u001b[0m\n",
      "  \u001b[35mbackbone.fpn_output2.bias\u001b[0m\n",
      "  \u001b[35mbackbone.fpn_lateral3.bias\u001b[0m\n",
      "  \u001b[35mbackbone.fpn_output3.bias\u001b[0m\n",
      "  \u001b[35mbackbone.fpn_lateral4.bias\u001b[0m\n",
      "  \u001b[35mbackbone.fpn_output4.bias\u001b[0m\n",
      "  \u001b[35mbackbone.fpn_lateral5.bias\u001b[0m\n",
      "  \u001b[35mbackbone.fpn_output5.bias\u001b[0m\n",
      " 78%|██████████████████████████████▍        | 771/987 [1:01:56<16:41,  4.64s/it]"
     ]
    },
    {
     "name": "stdout",
     "output_type": "stream",
     "text": [
      "21_09_1936_00000005\n",
      "Pages/21_09_1936_00000005.tif.large.jpg\n"
     ]
    },
    {
     "name": "stderr",
     "output_type": "stream",
     "text": [
      "The checkpoint state_dict contains keys that are not used by the model:\n",
      "  \u001b[35mbackbone.fpn_lateral2.bias\u001b[0m\n",
      "  \u001b[35mbackbone.fpn_output2.bias\u001b[0m\n",
      "  \u001b[35mbackbone.fpn_lateral3.bias\u001b[0m\n",
      "  \u001b[35mbackbone.fpn_output3.bias\u001b[0m\n",
      "  \u001b[35mbackbone.fpn_lateral4.bias\u001b[0m\n",
      "  \u001b[35mbackbone.fpn_output4.bias\u001b[0m\n",
      "  \u001b[35mbackbone.fpn_lateral5.bias\u001b[0m\n",
      "  \u001b[35mbackbone.fpn_output5.bias\u001b[0m\n",
      " 78%|██████████████████████████████▌        | 772/987 [1:02:00<16:33,  4.62s/it]"
     ]
    },
    {
     "name": "stdout",
     "output_type": "stream",
     "text": [
      "07_09_1936_00000005\n",
      "Pages/07_09_1936_00000005.tif.large.jpg\n"
     ]
    },
    {
     "name": "stderr",
     "output_type": "stream",
     "text": [
      "The checkpoint state_dict contains keys that are not used by the model:\n",
      "  \u001b[35mbackbone.fpn_lateral2.bias\u001b[0m\n",
      "  \u001b[35mbackbone.fpn_output2.bias\u001b[0m\n",
      "  \u001b[35mbackbone.fpn_lateral3.bias\u001b[0m\n",
      "  \u001b[35mbackbone.fpn_output3.bias\u001b[0m\n",
      "  \u001b[35mbackbone.fpn_lateral4.bias\u001b[0m\n",
      "  \u001b[35mbackbone.fpn_output4.bias\u001b[0m\n",
      "  \u001b[35mbackbone.fpn_lateral5.bias\u001b[0m\n",
      "  \u001b[35mbackbone.fpn_output5.bias\u001b[0m\n",
      " 78%|██████████████████████████████▌        | 773/987 [1:02:05<16:27,  4.61s/it]"
     ]
    },
    {
     "name": "stdout",
     "output_type": "stream",
     "text": [
      "16_01_1936_00000006\n",
      "Pages/16_01_1936_00000006.tif.large.jpg\n"
     ]
    },
    {
     "name": "stderr",
     "output_type": "stream",
     "text": [
      "The checkpoint state_dict contains keys that are not used by the model:\n",
      "  \u001b[35mbackbone.fpn_lateral2.bias\u001b[0m\n",
      "  \u001b[35mbackbone.fpn_output2.bias\u001b[0m\n",
      "  \u001b[35mbackbone.fpn_lateral3.bias\u001b[0m\n",
      "  \u001b[35mbackbone.fpn_output3.bias\u001b[0m\n",
      "  \u001b[35mbackbone.fpn_lateral4.bias\u001b[0m\n",
      "  \u001b[35mbackbone.fpn_output4.bias\u001b[0m\n",
      "  \u001b[35mbackbone.fpn_lateral5.bias\u001b[0m\n",
      "  \u001b[35mbackbone.fpn_output5.bias\u001b[0m\n",
      " 78%|██████████████████████████████▌        | 774/987 [1:02:10<16:50,  4.75s/it]"
     ]
    },
    {
     "name": "stdout",
     "output_type": "stream",
     "text": [
      "24_02_1936_00000008\n",
      "Pages/24_02_1936_00000008.tif.large.jpg\n"
     ]
    },
    {
     "name": "stderr",
     "output_type": "stream",
     "text": [
      "The checkpoint state_dict contains keys that are not used by the model:\n",
      "  \u001b[35mbackbone.fpn_lateral2.bias\u001b[0m\n",
      "  \u001b[35mbackbone.fpn_output2.bias\u001b[0m\n",
      "  \u001b[35mbackbone.fpn_lateral3.bias\u001b[0m\n",
      "  \u001b[35mbackbone.fpn_output3.bias\u001b[0m\n",
      "  \u001b[35mbackbone.fpn_lateral4.bias\u001b[0m\n",
      "  \u001b[35mbackbone.fpn_output4.bias\u001b[0m\n",
      "  \u001b[35mbackbone.fpn_lateral5.bias\u001b[0m\n",
      "  \u001b[35mbackbone.fpn_output5.bias\u001b[0m\n",
      " 79%|██████████████████████████████▌        | 775/987 [1:02:14<16:34,  4.69s/it]"
     ]
    },
    {
     "name": "stdout",
     "output_type": "stream",
     "text": [
      "20_12_1936_00000008\n",
      "Pages/20_12_1936_00000008.tif.large.jpg\n"
     ]
    },
    {
     "name": "stderr",
     "output_type": "stream",
     "text": [
      "The checkpoint state_dict contains keys that are not used by the model:\n",
      "  \u001b[35mbackbone.fpn_lateral2.bias\u001b[0m\n",
      "  \u001b[35mbackbone.fpn_output2.bias\u001b[0m\n",
      "  \u001b[35mbackbone.fpn_lateral3.bias\u001b[0m\n",
      "  \u001b[35mbackbone.fpn_output3.bias\u001b[0m\n",
      "  \u001b[35mbackbone.fpn_lateral4.bias\u001b[0m\n",
      "  \u001b[35mbackbone.fpn_output4.bias\u001b[0m\n",
      "  \u001b[35mbackbone.fpn_lateral5.bias\u001b[0m\n",
      "  \u001b[35mbackbone.fpn_output5.bias\u001b[0m\n",
      " 79%|██████████████████████████████▋        | 776/987 [1:02:19<16:23,  4.66s/it]"
     ]
    },
    {
     "name": "stdout",
     "output_type": "stream",
     "text": [
      "28_10_1936_00000005\n",
      "Pages/28_10_1936_00000005.tif.large.jpg\n"
     ]
    },
    {
     "name": "stderr",
     "output_type": "stream",
     "text": [
      "The checkpoint state_dict contains keys that are not used by the model:\n",
      "  \u001b[35mbackbone.fpn_lateral2.bias\u001b[0m\n",
      "  \u001b[35mbackbone.fpn_output2.bias\u001b[0m\n",
      "  \u001b[35mbackbone.fpn_lateral3.bias\u001b[0m\n",
      "  \u001b[35mbackbone.fpn_output3.bias\u001b[0m\n",
      "  \u001b[35mbackbone.fpn_lateral4.bias\u001b[0m\n",
      "  \u001b[35mbackbone.fpn_output4.bias\u001b[0m\n",
      "  \u001b[35mbackbone.fpn_lateral5.bias\u001b[0m\n",
      "  \u001b[35mbackbone.fpn_output5.bias\u001b[0m\n",
      " 79%|██████████████████████████████▋        | 777/987 [1:02:24<16:23,  4.68s/it]"
     ]
    },
    {
     "name": "stdout",
     "output_type": "stream",
     "text": [
      "11_09_1936_00000011\n",
      "Pages/11_09_1936_00000011.tif.large.jpg\n"
     ]
    },
    {
     "name": "stderr",
     "output_type": "stream",
     "text": [
      "The checkpoint state_dict contains keys that are not used by the model:\n",
      "  \u001b[35mbackbone.fpn_lateral2.bias\u001b[0m\n",
      "  \u001b[35mbackbone.fpn_output2.bias\u001b[0m\n",
      "  \u001b[35mbackbone.fpn_lateral3.bias\u001b[0m\n",
      "  \u001b[35mbackbone.fpn_output3.bias\u001b[0m\n",
      "  \u001b[35mbackbone.fpn_lateral4.bias\u001b[0m\n",
      "  \u001b[35mbackbone.fpn_output4.bias\u001b[0m\n",
      "  \u001b[35mbackbone.fpn_lateral5.bias\u001b[0m\n",
      "  \u001b[35mbackbone.fpn_output5.bias\u001b[0m\n",
      " 79%|██████████████████████████████▋        | 778/987 [1:02:28<16:16,  4.67s/it]"
     ]
    },
    {
     "name": "stdout",
     "output_type": "stream",
     "text": [
      "08_01_1936_00000006\n",
      "Pages/08_01_1936_00000006.tif.large.jpg\n"
     ]
    },
    {
     "name": "stderr",
     "output_type": "stream",
     "text": [
      "The checkpoint state_dict contains keys that are not used by the model:\n",
      "  \u001b[35mbackbone.fpn_lateral2.bias\u001b[0m\n",
      "  \u001b[35mbackbone.fpn_output2.bias\u001b[0m\n",
      "  \u001b[35mbackbone.fpn_lateral3.bias\u001b[0m\n",
      "  \u001b[35mbackbone.fpn_output3.bias\u001b[0m\n",
      "  \u001b[35mbackbone.fpn_lateral4.bias\u001b[0m\n",
      "  \u001b[35mbackbone.fpn_output4.bias\u001b[0m\n",
      "  \u001b[35mbackbone.fpn_lateral5.bias\u001b[0m\n",
      "  \u001b[35mbackbone.fpn_output5.bias\u001b[0m\n",
      " 79%|██████████████████████████████▊        | 779/987 [1:02:33<16:22,  4.72s/it]"
     ]
    },
    {
     "name": "stdout",
     "output_type": "stream",
     "text": [
      "02_12_1936_00000007\n",
      "Pages/02_12_1936_00000007.tif.large.jpg\n"
     ]
    },
    {
     "name": "stderr",
     "output_type": "stream",
     "text": [
      "The checkpoint state_dict contains keys that are not used by the model:\n",
      "  \u001b[35mbackbone.fpn_lateral2.bias\u001b[0m\n",
      "  \u001b[35mbackbone.fpn_output2.bias\u001b[0m\n",
      "  \u001b[35mbackbone.fpn_lateral3.bias\u001b[0m\n",
      "  \u001b[35mbackbone.fpn_output3.bias\u001b[0m\n",
      "  \u001b[35mbackbone.fpn_lateral4.bias\u001b[0m\n",
      "  \u001b[35mbackbone.fpn_output4.bias\u001b[0m\n",
      "  \u001b[35mbackbone.fpn_lateral5.bias\u001b[0m\n",
      "  \u001b[35mbackbone.fpn_output5.bias\u001b[0m\n",
      " 79%|██████████████████████████████▊        | 780/987 [1:02:38<16:11,  4.69s/it]"
     ]
    },
    {
     "name": "stdout",
     "output_type": "stream",
     "text": [
      "28_07_1936_00000007\n",
      "Pages/28_07_1936_00000007.tif.large.jpg\n"
     ]
    },
    {
     "name": "stderr",
     "output_type": "stream",
     "text": [
      "The checkpoint state_dict contains keys that are not used by the model:\n",
      "  \u001b[35mbackbone.fpn_lateral2.bias\u001b[0m\n",
      "  \u001b[35mbackbone.fpn_output2.bias\u001b[0m\n",
      "  \u001b[35mbackbone.fpn_lateral3.bias\u001b[0m\n",
      "  \u001b[35mbackbone.fpn_output3.bias\u001b[0m\n",
      "  \u001b[35mbackbone.fpn_lateral4.bias\u001b[0m\n",
      "  \u001b[35mbackbone.fpn_output4.bias\u001b[0m\n",
      "  \u001b[35mbackbone.fpn_lateral5.bias\u001b[0m\n",
      "  \u001b[35mbackbone.fpn_output5.bias\u001b[0m\n",
      " 79%|██████████████████████████████▊        | 781/987 [1:02:42<16:02,  4.67s/it]"
     ]
    },
    {
     "name": "stdout",
     "output_type": "stream",
     "text": [
      "16_08_1936_00000007\n",
      "Pages/16_08_1936_00000007.tif.large.jpg\n"
     ]
    },
    {
     "name": "stderr",
     "output_type": "stream",
     "text": [
      "The checkpoint state_dict contains keys that are not used by the model:\n",
      "  \u001b[35mbackbone.fpn_lateral2.bias\u001b[0m\n",
      "  \u001b[35mbackbone.fpn_output2.bias\u001b[0m\n",
      "  \u001b[35mbackbone.fpn_lateral3.bias\u001b[0m\n",
      "  \u001b[35mbackbone.fpn_output3.bias\u001b[0m\n",
      "  \u001b[35mbackbone.fpn_lateral4.bias\u001b[0m\n",
      "  \u001b[35mbackbone.fpn_output4.bias\u001b[0m\n",
      "  \u001b[35mbackbone.fpn_lateral5.bias\u001b[0m\n",
      "  \u001b[35mbackbone.fpn_output5.bias\u001b[0m\n",
      " 79%|██████████████████████████████▉        | 782/987 [1:02:47<15:56,  4.67s/it]"
     ]
    },
    {
     "name": "stdout",
     "output_type": "stream",
     "text": [
      "27_11_1936_00000012\n",
      "Pages/27_11_1936_00000012.tif.large.jpg\n"
     ]
    },
    {
     "name": "stderr",
     "output_type": "stream",
     "text": [
      "The checkpoint state_dict contains keys that are not used by the model:\n",
      "  \u001b[35mbackbone.fpn_lateral2.bias\u001b[0m\n",
      "  \u001b[35mbackbone.fpn_output2.bias\u001b[0m\n",
      "  \u001b[35mbackbone.fpn_lateral3.bias\u001b[0m\n",
      "  \u001b[35mbackbone.fpn_output3.bias\u001b[0m\n",
      "  \u001b[35mbackbone.fpn_lateral4.bias\u001b[0m\n",
      "  \u001b[35mbackbone.fpn_output4.bias\u001b[0m\n",
      "  \u001b[35mbackbone.fpn_lateral5.bias\u001b[0m\n",
      "  \u001b[35mbackbone.fpn_output5.bias\u001b[0m\n",
      " 79%|██████████████████████████████▉        | 783/987 [1:02:52<15:46,  4.64s/it]"
     ]
    },
    {
     "name": "stdout",
     "output_type": "stream",
     "text": [
      "08_12_1936_00000005\n",
      "Pages/08_12_1936_00000005.tif.large.jpg\n"
     ]
    },
    {
     "name": "stderr",
     "output_type": "stream",
     "text": [
      "The checkpoint state_dict contains keys that are not used by the model:\n",
      "  \u001b[35mbackbone.fpn_lateral2.bias\u001b[0m\n",
      "  \u001b[35mbackbone.fpn_output2.bias\u001b[0m\n",
      "  \u001b[35mbackbone.fpn_lateral3.bias\u001b[0m\n",
      "  \u001b[35mbackbone.fpn_output3.bias\u001b[0m\n",
      "  \u001b[35mbackbone.fpn_lateral4.bias\u001b[0m\n",
      "  \u001b[35mbackbone.fpn_output4.bias\u001b[0m\n",
      "  \u001b[35mbackbone.fpn_lateral5.bias\u001b[0m\n",
      "  \u001b[35mbackbone.fpn_output5.bias\u001b[0m\n",
      " 79%|██████████████████████████████▉        | 784/987 [1:02:56<15:40,  4.63s/it]"
     ]
    },
    {
     "name": "stdout",
     "output_type": "stream",
     "text": [
      "18_11_1936_00000012\n",
      "Pages/18_11_1936_00000012.tif.large.jpg\n"
     ]
    },
    {
     "name": "stderr",
     "output_type": "stream",
     "text": [
      "The checkpoint state_dict contains keys that are not used by the model:\n",
      "  \u001b[35mbackbone.fpn_lateral2.bias\u001b[0m\n",
      "  \u001b[35mbackbone.fpn_output2.bias\u001b[0m\n",
      "  \u001b[35mbackbone.fpn_lateral3.bias\u001b[0m\n",
      "  \u001b[35mbackbone.fpn_output3.bias\u001b[0m\n",
      "  \u001b[35mbackbone.fpn_lateral4.bias\u001b[0m\n",
      "  \u001b[35mbackbone.fpn_output4.bias\u001b[0m\n",
      "  \u001b[35mbackbone.fpn_lateral5.bias\u001b[0m\n",
      "  \u001b[35mbackbone.fpn_output5.bias\u001b[0m\n",
      " 80%|███████████████████████████████        | 785/987 [1:03:01<15:43,  4.67s/it]"
     ]
    },
    {
     "name": "stdout",
     "output_type": "stream",
     "text": [
      "05_12_1936_00000002\n",
      "Pages/05_12_1936_00000002.tif.large.jpg\n"
     ]
    },
    {
     "name": "stderr",
     "output_type": "stream",
     "text": [
      "The checkpoint state_dict contains keys that are not used by the model:\n",
      "  \u001b[35mbackbone.fpn_lateral2.bias\u001b[0m\n",
      "  \u001b[35mbackbone.fpn_output2.bias\u001b[0m\n",
      "  \u001b[35mbackbone.fpn_lateral3.bias\u001b[0m\n",
      "  \u001b[35mbackbone.fpn_output3.bias\u001b[0m\n",
      "  \u001b[35mbackbone.fpn_lateral4.bias\u001b[0m\n",
      "  \u001b[35mbackbone.fpn_output4.bias\u001b[0m\n",
      "  \u001b[35mbackbone.fpn_lateral5.bias\u001b[0m\n",
      "  \u001b[35mbackbone.fpn_output5.bias\u001b[0m\n",
      " 80%|███████████████████████████████        | 786/987 [1:03:06<15:35,  4.66s/it]"
     ]
    },
    {
     "name": "stdout",
     "output_type": "stream",
     "text": [
      "18_12_1936_00000002\n",
      "Pages/18_12_1936_00000002.tif.large.jpg\n"
     ]
    },
    {
     "name": "stderr",
     "output_type": "stream",
     "text": [
      "The checkpoint state_dict contains keys that are not used by the model:\n",
      "  \u001b[35mbackbone.fpn_lateral2.bias\u001b[0m\n",
      "  \u001b[35mbackbone.fpn_output2.bias\u001b[0m\n",
      "  \u001b[35mbackbone.fpn_lateral3.bias\u001b[0m\n",
      "  \u001b[35mbackbone.fpn_output3.bias\u001b[0m\n",
      "  \u001b[35mbackbone.fpn_lateral4.bias\u001b[0m\n",
      "  \u001b[35mbackbone.fpn_output4.bias\u001b[0m\n",
      "  \u001b[35mbackbone.fpn_lateral5.bias\u001b[0m\n",
      "  \u001b[35mbackbone.fpn_output5.bias\u001b[0m\n",
      " 80%|███████████████████████████████        | 787/987 [1:03:10<15:28,  4.64s/it]"
     ]
    },
    {
     "name": "stdout",
     "output_type": "stream",
     "text": [
      "09_03_1936_00000005\n",
      "Pages/09_03_1936_00000005.tif.large.jpg\n"
     ]
    },
    {
     "name": "stderr",
     "output_type": "stream",
     "text": [
      "The checkpoint state_dict contains keys that are not used by the model:\n",
      "  \u001b[35mbackbone.fpn_lateral2.bias\u001b[0m\n",
      "  \u001b[35mbackbone.fpn_output2.bias\u001b[0m\n",
      "  \u001b[35mbackbone.fpn_lateral3.bias\u001b[0m\n",
      "  \u001b[35mbackbone.fpn_output3.bias\u001b[0m\n",
      "  \u001b[35mbackbone.fpn_lateral4.bias\u001b[0m\n",
      "  \u001b[35mbackbone.fpn_output4.bias\u001b[0m\n",
      "  \u001b[35mbackbone.fpn_lateral5.bias\u001b[0m\n",
      "  \u001b[35mbackbone.fpn_output5.bias\u001b[0m\n",
      " 80%|███████████████████████████████▏       | 788/987 [1:03:15<15:26,  4.65s/it]"
     ]
    },
    {
     "name": "stdout",
     "output_type": "stream",
     "text": [
      "24_03_1936_00000010\n",
      "Pages/24_03_1936_00000010.tif.large.jpg\n"
     ]
    },
    {
     "name": "stderr",
     "output_type": "stream",
     "text": [
      "The checkpoint state_dict contains keys that are not used by the model:\n",
      "  \u001b[35mbackbone.fpn_lateral2.bias\u001b[0m\n",
      "  \u001b[35mbackbone.fpn_output2.bias\u001b[0m\n",
      "  \u001b[35mbackbone.fpn_lateral3.bias\u001b[0m\n",
      "  \u001b[35mbackbone.fpn_output3.bias\u001b[0m\n",
      "  \u001b[35mbackbone.fpn_lateral4.bias\u001b[0m\n",
      "  \u001b[35mbackbone.fpn_output4.bias\u001b[0m\n",
      "  \u001b[35mbackbone.fpn_lateral5.bias\u001b[0m\n",
      "  \u001b[35mbackbone.fpn_output5.bias\u001b[0m\n",
      " 80%|███████████████████████████████▏       | 789/987 [1:03:20<15:14,  4.62s/it]"
     ]
    },
    {
     "name": "stdout",
     "output_type": "stream",
     "text": [
      "29_07_1936_00000001\n",
      "Pages/29_07_1936_00000001.tif.large.jpg\n"
     ]
    },
    {
     "name": "stderr",
     "output_type": "stream",
     "text": [
      "The checkpoint state_dict contains keys that are not used by the model:\n",
      "  \u001b[35mbackbone.fpn_lateral2.bias\u001b[0m\n",
      "  \u001b[35mbackbone.fpn_output2.bias\u001b[0m\n",
      "  \u001b[35mbackbone.fpn_lateral3.bias\u001b[0m\n",
      "  \u001b[35mbackbone.fpn_output3.bias\u001b[0m\n",
      "  \u001b[35mbackbone.fpn_lateral4.bias\u001b[0m\n",
      "  \u001b[35mbackbone.fpn_output4.bias\u001b[0m\n",
      "  \u001b[35mbackbone.fpn_lateral5.bias\u001b[0m\n",
      "  \u001b[35mbackbone.fpn_output5.bias\u001b[0m\n",
      " 80%|███████████████████████████████▏       | 790/987 [1:03:24<15:09,  4.62s/it]"
     ]
    },
    {
     "name": "stdout",
     "output_type": "stream",
     "text": [
      "06_09_1936_00000001\n",
      "Pages/06_09_1936_00000001.tif.large.jpg\n"
     ]
    },
    {
     "name": "stderr",
     "output_type": "stream",
     "text": [
      "The checkpoint state_dict contains keys that are not used by the model:\n",
      "  \u001b[35mbackbone.fpn_lateral2.bias\u001b[0m\n",
      "  \u001b[35mbackbone.fpn_output2.bias\u001b[0m\n",
      "  \u001b[35mbackbone.fpn_lateral3.bias\u001b[0m\n",
      "  \u001b[35mbackbone.fpn_output3.bias\u001b[0m\n",
      "  \u001b[35mbackbone.fpn_lateral4.bias\u001b[0m\n",
      "  \u001b[35mbackbone.fpn_output4.bias\u001b[0m\n",
      "  \u001b[35mbackbone.fpn_lateral5.bias\u001b[0m\n",
      "  \u001b[35mbackbone.fpn_output5.bias\u001b[0m\n",
      " 80%|███████████████████████████████▎       | 791/987 [1:03:29<15:14,  4.67s/it]"
     ]
    },
    {
     "name": "stdout",
     "output_type": "stream",
     "text": [
      "07_08_1936_00000005\n",
      "Pages/07_08_1936_00000005.tif.large.jpg\n"
     ]
    },
    {
     "name": "stderr",
     "output_type": "stream",
     "text": [
      "The checkpoint state_dict contains keys that are not used by the model:\n",
      "  \u001b[35mbackbone.fpn_lateral2.bias\u001b[0m\n",
      "  \u001b[35mbackbone.fpn_output2.bias\u001b[0m\n",
      "  \u001b[35mbackbone.fpn_lateral3.bias\u001b[0m\n",
      "  \u001b[35mbackbone.fpn_output3.bias\u001b[0m\n",
      "  \u001b[35mbackbone.fpn_lateral4.bias\u001b[0m\n",
      "  \u001b[35mbackbone.fpn_output4.bias\u001b[0m\n",
      "  \u001b[35mbackbone.fpn_lateral5.bias\u001b[0m\n",
      "  \u001b[35mbackbone.fpn_output5.bias\u001b[0m\n",
      " 80%|███████████████████████████████▎       | 792/987 [1:03:34<15:15,  4.69s/it]"
     ]
    },
    {
     "name": "stdout",
     "output_type": "stream",
     "text": [
      "25_11_1936_00000009\n",
      "Pages/25_11_1936_00000009.tif.large.jpg\n"
     ]
    },
    {
     "name": "stderr",
     "output_type": "stream",
     "text": [
      "The checkpoint state_dict contains keys that are not used by the model:\n",
      "  \u001b[35mbackbone.fpn_lateral2.bias\u001b[0m\n",
      "  \u001b[35mbackbone.fpn_output2.bias\u001b[0m\n",
      "  \u001b[35mbackbone.fpn_lateral3.bias\u001b[0m\n",
      "  \u001b[35mbackbone.fpn_output3.bias\u001b[0m\n",
      "  \u001b[35mbackbone.fpn_lateral4.bias\u001b[0m\n",
      "  \u001b[35mbackbone.fpn_output4.bias\u001b[0m\n",
      "  \u001b[35mbackbone.fpn_lateral5.bias\u001b[0m\n",
      "  \u001b[35mbackbone.fpn_output5.bias\u001b[0m\n",
      " 80%|███████████████████████████████▎       | 793/987 [1:03:38<15:04,  4.66s/it]"
     ]
    },
    {
     "name": "stdout",
     "output_type": "stream",
     "text": [
      "10_12_1936_00000008\n",
      "Pages/10_12_1936_00000008.tif.large.jpg\n"
     ]
    },
    {
     "name": "stderr",
     "output_type": "stream",
     "text": [
      "The checkpoint state_dict contains keys that are not used by the model:\n",
      "  \u001b[35mbackbone.fpn_lateral2.bias\u001b[0m\n",
      "  \u001b[35mbackbone.fpn_output2.bias\u001b[0m\n",
      "  \u001b[35mbackbone.fpn_lateral3.bias\u001b[0m\n",
      "  \u001b[35mbackbone.fpn_output3.bias\u001b[0m\n",
      "  \u001b[35mbackbone.fpn_lateral4.bias\u001b[0m\n",
      "  \u001b[35mbackbone.fpn_output4.bias\u001b[0m\n",
      "  \u001b[35mbackbone.fpn_lateral5.bias\u001b[0m\n",
      "  \u001b[35mbackbone.fpn_output5.bias\u001b[0m\n",
      " 80%|███████████████████████████████▎       | 794/987 [1:03:43<14:58,  4.65s/it]"
     ]
    },
    {
     "name": "stdout",
     "output_type": "stream",
     "text": [
      "16_02_1936_00000008\n",
      "Pages/16_02_1936_00000008.tif.large.jpg\n"
     ]
    },
    {
     "name": "stderr",
     "output_type": "stream",
     "text": [
      "The checkpoint state_dict contains keys that are not used by the model:\n",
      "  \u001b[35mbackbone.fpn_lateral2.bias\u001b[0m\n",
      "  \u001b[35mbackbone.fpn_output2.bias\u001b[0m\n",
      "  \u001b[35mbackbone.fpn_lateral3.bias\u001b[0m\n",
      "  \u001b[35mbackbone.fpn_output3.bias\u001b[0m\n",
      "  \u001b[35mbackbone.fpn_lateral4.bias\u001b[0m\n",
      "  \u001b[35mbackbone.fpn_output4.bias\u001b[0m\n",
      "  \u001b[35mbackbone.fpn_lateral5.bias\u001b[0m\n",
      "  \u001b[35mbackbone.fpn_output5.bias\u001b[0m\n",
      " 81%|███████████████████████████████▍       | 795/987 [1:03:48<14:56,  4.67s/it]"
     ]
    },
    {
     "name": "stdout",
     "output_type": "stream",
     "text": [
      "24_04_1936_00000020\n",
      "Pages/24_04_1936_00000020.tif.large.jpg\n"
     ]
    },
    {
     "name": "stderr",
     "output_type": "stream",
     "text": [
      "The checkpoint state_dict contains keys that are not used by the model:\n",
      "  \u001b[35mbackbone.fpn_lateral2.bias\u001b[0m\n",
      "  \u001b[35mbackbone.fpn_output2.bias\u001b[0m\n",
      "  \u001b[35mbackbone.fpn_lateral3.bias\u001b[0m\n",
      "  \u001b[35mbackbone.fpn_output3.bias\u001b[0m\n",
      "  \u001b[35mbackbone.fpn_lateral4.bias\u001b[0m\n",
      "  \u001b[35mbackbone.fpn_output4.bias\u001b[0m\n",
      "  \u001b[35mbackbone.fpn_lateral5.bias\u001b[0m\n",
      "  \u001b[35mbackbone.fpn_output5.bias\u001b[0m\n",
      " 81%|███████████████████████████████▍       | 796/987 [1:03:52<15:01,  4.72s/it]"
     ]
    },
    {
     "name": "stdout",
     "output_type": "stream",
     "text": [
      "13_02_1936_00000014\n",
      "Pages/13_02_1936_00000014.tif.large.jpg\n"
     ]
    },
    {
     "name": "stderr",
     "output_type": "stream",
     "text": [
      "The checkpoint state_dict contains keys that are not used by the model:\n",
      "  \u001b[35mbackbone.fpn_lateral2.bias\u001b[0m\n",
      "  \u001b[35mbackbone.fpn_output2.bias\u001b[0m\n",
      "  \u001b[35mbackbone.fpn_lateral3.bias\u001b[0m\n",
      "  \u001b[35mbackbone.fpn_output3.bias\u001b[0m\n",
      "  \u001b[35mbackbone.fpn_lateral4.bias\u001b[0m\n",
      "  \u001b[35mbackbone.fpn_output4.bias\u001b[0m\n",
      "  \u001b[35mbackbone.fpn_lateral5.bias\u001b[0m\n",
      "  \u001b[35mbackbone.fpn_output5.bias\u001b[0m\n",
      " 81%|███████████████████████████████▍       | 797/987 [1:03:57<14:59,  4.73s/it]"
     ]
    },
    {
     "name": "stdout",
     "output_type": "stream",
     "text": [
      "07_01_1936_00000011\n",
      "Pages/07_01_1936_00000011.tif.large.jpg\n"
     ]
    },
    {
     "name": "stderr",
     "output_type": "stream",
     "text": [
      "The checkpoint state_dict contains keys that are not used by the model:\n",
      "  \u001b[35mbackbone.fpn_lateral2.bias\u001b[0m\n",
      "  \u001b[35mbackbone.fpn_output2.bias\u001b[0m\n",
      "  \u001b[35mbackbone.fpn_lateral3.bias\u001b[0m\n",
      "  \u001b[35mbackbone.fpn_output3.bias\u001b[0m\n",
      "  \u001b[35mbackbone.fpn_lateral4.bias\u001b[0m\n",
      "  \u001b[35mbackbone.fpn_output4.bias\u001b[0m\n",
      "  \u001b[35mbackbone.fpn_lateral5.bias\u001b[0m\n",
      "  \u001b[35mbackbone.fpn_output5.bias\u001b[0m\n",
      " 81%|███████████████████████████████▌       | 798/987 [1:04:02<15:02,  4.77s/it]"
     ]
    },
    {
     "name": "stdout",
     "output_type": "stream",
     "text": [
      "13_01_1936_00000006\n",
      "Pages/13_01_1936_00000006.tif.large.jpg\n"
     ]
    },
    {
     "name": "stderr",
     "output_type": "stream",
     "text": [
      "The checkpoint state_dict contains keys that are not used by the model:\n",
      "  \u001b[35mbackbone.fpn_lateral2.bias\u001b[0m\n",
      "  \u001b[35mbackbone.fpn_output2.bias\u001b[0m\n",
      "  \u001b[35mbackbone.fpn_lateral3.bias\u001b[0m\n",
      "  \u001b[35mbackbone.fpn_output3.bias\u001b[0m\n",
      "  \u001b[35mbackbone.fpn_lateral4.bias\u001b[0m\n",
      "  \u001b[35mbackbone.fpn_output4.bias\u001b[0m\n",
      "  \u001b[35mbackbone.fpn_lateral5.bias\u001b[0m\n",
      "  \u001b[35mbackbone.fpn_output5.bias\u001b[0m\n",
      " 81%|███████████████████████████████▌       | 799/987 [1:04:07<15:05,  4.82s/it]"
     ]
    },
    {
     "name": "stdout",
     "output_type": "stream",
     "text": [
      "20_12_1936_00000037\n",
      "Pages/20_12_1936_00000037.tif.large.jpg\n"
     ]
    },
    {
     "name": "stderr",
     "output_type": "stream",
     "text": [
      "The checkpoint state_dict contains keys that are not used by the model:\n",
      "  \u001b[35mbackbone.fpn_lateral2.bias\u001b[0m\n",
      "  \u001b[35mbackbone.fpn_output2.bias\u001b[0m\n",
      "  \u001b[35mbackbone.fpn_lateral3.bias\u001b[0m\n",
      "  \u001b[35mbackbone.fpn_output3.bias\u001b[0m\n",
      "  \u001b[35mbackbone.fpn_lateral4.bias\u001b[0m\n",
      "  \u001b[35mbackbone.fpn_output4.bias\u001b[0m\n",
      "  \u001b[35mbackbone.fpn_lateral5.bias\u001b[0m\n",
      "  \u001b[35mbackbone.fpn_output5.bias\u001b[0m\n",
      " 81%|███████████████████████████████▌       | 800/987 [1:04:12<15:00,  4.82s/it]"
     ]
    },
    {
     "name": "stdout",
     "output_type": "stream",
     "text": [
      "16_12_1936_00000003\n",
      "Pages/16_12_1936_00000003.tif.large.jpg\n"
     ]
    },
    {
     "name": "stderr",
     "output_type": "stream",
     "text": [
      "The checkpoint state_dict contains keys that are not used by the model:\n",
      "  \u001b[35mbackbone.fpn_lateral2.bias\u001b[0m\n",
      "  \u001b[35mbackbone.fpn_output2.bias\u001b[0m\n",
      "  \u001b[35mbackbone.fpn_lateral3.bias\u001b[0m\n",
      "  \u001b[35mbackbone.fpn_output3.bias\u001b[0m\n",
      "  \u001b[35mbackbone.fpn_lateral4.bias\u001b[0m\n",
      "  \u001b[35mbackbone.fpn_output4.bias\u001b[0m\n",
      "  \u001b[35mbackbone.fpn_lateral5.bias\u001b[0m\n",
      "  \u001b[35mbackbone.fpn_output5.bias\u001b[0m\n",
      " 81%|███████████████████████████████▋       | 801/987 [1:04:16<14:47,  4.77s/it]"
     ]
    },
    {
     "name": "stdout",
     "output_type": "stream",
     "text": [
      "07_02_1936_00000008\n",
      "Pages/07_02_1936_00000008.tif.large.jpg\n"
     ]
    },
    {
     "name": "stderr",
     "output_type": "stream",
     "text": [
      "The checkpoint state_dict contains keys that are not used by the model:\n",
      "  \u001b[35mbackbone.fpn_lateral2.bias\u001b[0m\n",
      "  \u001b[35mbackbone.fpn_output2.bias\u001b[0m\n",
      "  \u001b[35mbackbone.fpn_lateral3.bias\u001b[0m\n",
      "  \u001b[35mbackbone.fpn_output3.bias\u001b[0m\n",
      "  \u001b[35mbackbone.fpn_lateral4.bias\u001b[0m\n",
      "  \u001b[35mbackbone.fpn_output4.bias\u001b[0m\n",
      "  \u001b[35mbackbone.fpn_lateral5.bias\u001b[0m\n",
      "  \u001b[35mbackbone.fpn_output5.bias\u001b[0m\n",
      " 81%|███████████████████████████████▋       | 802/987 [1:04:21<14:34,  4.73s/it]"
     ]
    },
    {
     "name": "stdout",
     "output_type": "stream",
     "text": [
      "08_12_1936_00000009\n",
      "Pages/08_12_1936_00000009.tif.large.jpg\n"
     ]
    },
    {
     "name": "stderr",
     "output_type": "stream",
     "text": [
      "The checkpoint state_dict contains keys that are not used by the model:\n",
      "  \u001b[35mbackbone.fpn_lateral2.bias\u001b[0m\n",
      "  \u001b[35mbackbone.fpn_output2.bias\u001b[0m\n",
      "  \u001b[35mbackbone.fpn_lateral3.bias\u001b[0m\n",
      "  \u001b[35mbackbone.fpn_output3.bias\u001b[0m\n",
      "  \u001b[35mbackbone.fpn_lateral4.bias\u001b[0m\n",
      "  \u001b[35mbackbone.fpn_output4.bias\u001b[0m\n",
      "  \u001b[35mbackbone.fpn_lateral5.bias\u001b[0m\n",
      "  \u001b[35mbackbone.fpn_output5.bias\u001b[0m\n",
      " 81%|███████████████████████████████▋       | 803/987 [1:04:26<14:21,  4.68s/it]"
     ]
    },
    {
     "name": "stdout",
     "output_type": "stream",
     "text": [
      "15_03_1936_00000006\n",
      "Pages/15_03_1936_00000006.tif.large.jpg\n"
     ]
    },
    {
     "name": "stderr",
     "output_type": "stream",
     "text": [
      "The checkpoint state_dict contains keys that are not used by the model:\n",
      "  \u001b[35mbackbone.fpn_lateral2.bias\u001b[0m\n",
      "  \u001b[35mbackbone.fpn_output2.bias\u001b[0m\n",
      "  \u001b[35mbackbone.fpn_lateral3.bias\u001b[0m\n",
      "  \u001b[35mbackbone.fpn_output3.bias\u001b[0m\n",
      "  \u001b[35mbackbone.fpn_lateral4.bias\u001b[0m\n",
      "  \u001b[35mbackbone.fpn_output4.bias\u001b[0m\n",
      "  \u001b[35mbackbone.fpn_lateral5.bias\u001b[0m\n",
      "  \u001b[35mbackbone.fpn_output5.bias\u001b[0m\n",
      " 81%|███████████████████████████████▊       | 804/987 [1:04:30<14:10,  4.65s/it]"
     ]
    },
    {
     "name": "stdout",
     "output_type": "stream",
     "text": [
      "25_02_1936_00000009\n",
      "Pages/25_02_1936_00000009.tif.large.jpg\n"
     ]
    },
    {
     "name": "stderr",
     "output_type": "stream",
     "text": [
      "The checkpoint state_dict contains keys that are not used by the model:\n",
      "  \u001b[35mbackbone.fpn_lateral2.bias\u001b[0m\n",
      "  \u001b[35mbackbone.fpn_output2.bias\u001b[0m\n",
      "  \u001b[35mbackbone.fpn_lateral3.bias\u001b[0m\n",
      "  \u001b[35mbackbone.fpn_output3.bias\u001b[0m\n",
      "  \u001b[35mbackbone.fpn_lateral4.bias\u001b[0m\n",
      "  \u001b[35mbackbone.fpn_output4.bias\u001b[0m\n",
      "  \u001b[35mbackbone.fpn_lateral5.bias\u001b[0m\n",
      "  \u001b[35mbackbone.fpn_output5.bias\u001b[0m\n",
      " 82%|███████████████████████████████▊       | 805/987 [1:04:35<14:02,  4.63s/it]"
     ]
    },
    {
     "name": "stdout",
     "output_type": "stream",
     "text": [
      "12_10_1936_00000009\n",
      "Pages/12_10_1936_00000009.tif.large.jpg\n"
     ]
    },
    {
     "name": "stderr",
     "output_type": "stream",
     "text": [
      "The checkpoint state_dict contains keys that are not used by the model:\n",
      "  \u001b[35mbackbone.fpn_lateral2.bias\u001b[0m\n",
      "  \u001b[35mbackbone.fpn_output2.bias\u001b[0m\n",
      "  \u001b[35mbackbone.fpn_lateral3.bias\u001b[0m\n",
      "  \u001b[35mbackbone.fpn_output3.bias\u001b[0m\n",
      "  \u001b[35mbackbone.fpn_lateral4.bias\u001b[0m\n",
      "  \u001b[35mbackbone.fpn_output4.bias\u001b[0m\n",
      "  \u001b[35mbackbone.fpn_lateral5.bias\u001b[0m\n",
      "  \u001b[35mbackbone.fpn_output5.bias\u001b[0m\n",
      " 82%|███████████████████████████████▊       | 806/987 [1:04:39<13:56,  4.62s/it]"
     ]
    },
    {
     "name": "stdout",
     "output_type": "stream",
     "text": [
      "27_10_1936_00000013\n",
      "Pages/27_10_1936_00000013.tif.large.jpg\n"
     ]
    },
    {
     "name": "stderr",
     "output_type": "stream",
     "text": [
      "The checkpoint state_dict contains keys that are not used by the model:\n",
      "  \u001b[35mbackbone.fpn_lateral2.bias\u001b[0m\n",
      "  \u001b[35mbackbone.fpn_output2.bias\u001b[0m\n",
      "  \u001b[35mbackbone.fpn_lateral3.bias\u001b[0m\n",
      "  \u001b[35mbackbone.fpn_output3.bias\u001b[0m\n",
      "  \u001b[35mbackbone.fpn_lateral4.bias\u001b[0m\n",
      "  \u001b[35mbackbone.fpn_output4.bias\u001b[0m\n",
      "  \u001b[35mbackbone.fpn_lateral5.bias\u001b[0m\n",
      "  \u001b[35mbackbone.fpn_output5.bias\u001b[0m\n",
      " 82%|███████████████████████████████▉       | 807/987 [1:04:44<13:46,  4.59s/it]"
     ]
    },
    {
     "name": "stdout",
     "output_type": "stream",
     "text": [
      "21_01_1936_00000005\n",
      "Pages/21_01_1936_00000005.tif.large.jpg\n"
     ]
    },
    {
     "name": "stderr",
     "output_type": "stream",
     "text": [
      "The checkpoint state_dict contains keys that are not used by the model:\n",
      "  \u001b[35mbackbone.fpn_lateral2.bias\u001b[0m\n",
      "  \u001b[35mbackbone.fpn_output2.bias\u001b[0m\n",
      "  \u001b[35mbackbone.fpn_lateral3.bias\u001b[0m\n",
      "  \u001b[35mbackbone.fpn_output3.bias\u001b[0m\n",
      "  \u001b[35mbackbone.fpn_lateral4.bias\u001b[0m\n",
      "  \u001b[35mbackbone.fpn_output4.bias\u001b[0m\n",
      "  \u001b[35mbackbone.fpn_lateral5.bias\u001b[0m\n",
      "  \u001b[35mbackbone.fpn_output5.bias\u001b[0m\n",
      " 82%|███████████████████████████████▉       | 808/987 [1:04:49<13:42,  4.59s/it]"
     ]
    },
    {
     "name": "stdout",
     "output_type": "stream",
     "text": [
      "03_12_1936_00000012\n",
      "Pages/03_12_1936_00000012.tif.large.jpg\n"
     ]
    },
    {
     "name": "stderr",
     "output_type": "stream",
     "text": [
      "The checkpoint state_dict contains keys that are not used by the model:\n",
      "  \u001b[35mbackbone.fpn_lateral2.bias\u001b[0m\n",
      "  \u001b[35mbackbone.fpn_output2.bias\u001b[0m\n",
      "  \u001b[35mbackbone.fpn_lateral3.bias\u001b[0m\n",
      "  \u001b[35mbackbone.fpn_output3.bias\u001b[0m\n",
      "  \u001b[35mbackbone.fpn_lateral4.bias\u001b[0m\n",
      "  \u001b[35mbackbone.fpn_output4.bias\u001b[0m\n",
      "  \u001b[35mbackbone.fpn_lateral5.bias\u001b[0m\n",
      "  \u001b[35mbackbone.fpn_output5.bias\u001b[0m\n",
      " 82%|███████████████████████████████▉       | 809/987 [1:04:53<13:37,  4.60s/it]"
     ]
    },
    {
     "name": "stdout",
     "output_type": "stream",
     "text": [
      "31_01_1936_00000003\n",
      "Pages/31_01_1936_00000003.tif.large.jpg\n"
     ]
    },
    {
     "name": "stderr",
     "output_type": "stream",
     "text": [
      "The checkpoint state_dict contains keys that are not used by the model:\n",
      "  \u001b[35mbackbone.fpn_lateral2.bias\u001b[0m\n",
      "  \u001b[35mbackbone.fpn_output2.bias\u001b[0m\n",
      "  \u001b[35mbackbone.fpn_lateral3.bias\u001b[0m\n",
      "  \u001b[35mbackbone.fpn_output3.bias\u001b[0m\n",
      "  \u001b[35mbackbone.fpn_lateral4.bias\u001b[0m\n",
      "  \u001b[35mbackbone.fpn_output4.bias\u001b[0m\n",
      "  \u001b[35mbackbone.fpn_lateral5.bias\u001b[0m\n",
      "  \u001b[35mbackbone.fpn_output5.bias\u001b[0m\n",
      " 82%|████████████████████████████████       | 810/987 [1:04:58<13:38,  4.63s/it]"
     ]
    },
    {
     "name": "stdout",
     "output_type": "stream",
     "text": [
      "29_04_1936_00000007\n",
      "Pages/29_04_1936_00000007.tif.large.jpg\n"
     ]
    },
    {
     "name": "stderr",
     "output_type": "stream",
     "text": [
      "The checkpoint state_dict contains keys that are not used by the model:\n",
      "  \u001b[35mbackbone.fpn_lateral2.bias\u001b[0m\n",
      "  \u001b[35mbackbone.fpn_output2.bias\u001b[0m\n",
      "  \u001b[35mbackbone.fpn_lateral3.bias\u001b[0m\n",
      "  \u001b[35mbackbone.fpn_output3.bias\u001b[0m\n",
      "  \u001b[35mbackbone.fpn_lateral4.bias\u001b[0m\n",
      "  \u001b[35mbackbone.fpn_output4.bias\u001b[0m\n",
      "  \u001b[35mbackbone.fpn_lateral5.bias\u001b[0m\n",
      "  \u001b[35mbackbone.fpn_output5.bias\u001b[0m\n",
      " 82%|████████████████████████████████       | 811/987 [1:05:03<13:42,  4.67s/it]"
     ]
    },
    {
     "name": "stdout",
     "output_type": "stream",
     "text": [
      "28_03_1936_00000010\n",
      "Pages/28_03_1936_00000010.tif.large.jpg\n"
     ]
    },
    {
     "name": "stderr",
     "output_type": "stream",
     "text": [
      "The checkpoint state_dict contains keys that are not used by the model:\n",
      "  \u001b[35mbackbone.fpn_lateral2.bias\u001b[0m\n",
      "  \u001b[35mbackbone.fpn_output2.bias\u001b[0m\n",
      "  \u001b[35mbackbone.fpn_lateral3.bias\u001b[0m\n",
      "  \u001b[35mbackbone.fpn_output3.bias\u001b[0m\n",
      "  \u001b[35mbackbone.fpn_lateral4.bias\u001b[0m\n",
      "  \u001b[35mbackbone.fpn_output4.bias\u001b[0m\n",
      "  \u001b[35mbackbone.fpn_lateral5.bias\u001b[0m\n",
      "  \u001b[35mbackbone.fpn_output5.bias\u001b[0m\n",
      " 82%|████████████████████████████████       | 812/987 [1:05:07<13:28,  4.62s/it]"
     ]
    },
    {
     "name": "stdout",
     "output_type": "stream",
     "text": [
      "14_11_1936_00000002\n",
      "Pages/14_11_1936_00000002.tif.large.jpg\n"
     ]
    },
    {
     "name": "stderr",
     "output_type": "stream",
     "text": [
      "The checkpoint state_dict contains keys that are not used by the model:\n",
      "  \u001b[35mbackbone.fpn_lateral2.bias\u001b[0m\n",
      "  \u001b[35mbackbone.fpn_output2.bias\u001b[0m\n",
      "  \u001b[35mbackbone.fpn_lateral3.bias\u001b[0m\n",
      "  \u001b[35mbackbone.fpn_output3.bias\u001b[0m\n",
      "  \u001b[35mbackbone.fpn_lateral4.bias\u001b[0m\n",
      "  \u001b[35mbackbone.fpn_output4.bias\u001b[0m\n",
      "  \u001b[35mbackbone.fpn_lateral5.bias\u001b[0m\n",
      "  \u001b[35mbackbone.fpn_output5.bias\u001b[0m\n",
      " 82%|████████████████████████████████       | 813/987 [1:05:12<13:23,  4.62s/it]"
     ]
    },
    {
     "name": "stdout",
     "output_type": "stream",
     "text": [
      "01_08_1936_00000015\n",
      "Pages/01_08_1936_00000015.tif.large.jpg\n"
     ]
    },
    {
     "name": "stderr",
     "output_type": "stream",
     "text": [
      "The checkpoint state_dict contains keys that are not used by the model:\n",
      "  \u001b[35mbackbone.fpn_lateral2.bias\u001b[0m\n",
      "  \u001b[35mbackbone.fpn_output2.bias\u001b[0m\n",
      "  \u001b[35mbackbone.fpn_lateral3.bias\u001b[0m\n",
      "  \u001b[35mbackbone.fpn_output3.bias\u001b[0m\n",
      "  \u001b[35mbackbone.fpn_lateral4.bias\u001b[0m\n",
      "  \u001b[35mbackbone.fpn_output4.bias\u001b[0m\n",
      "  \u001b[35mbackbone.fpn_lateral5.bias\u001b[0m\n",
      "  \u001b[35mbackbone.fpn_output5.bias\u001b[0m\n",
      " 82%|████████████████████████████████▏      | 814/987 [1:05:16<13:18,  4.62s/it]"
     ]
    },
    {
     "name": "stdout",
     "output_type": "stream",
     "text": [
      "25_10_1936_00000006\n",
      "Pages/25_10_1936_00000006.tif.large.jpg\n"
     ]
    },
    {
     "name": "stderr",
     "output_type": "stream",
     "text": [
      "The checkpoint state_dict contains keys that are not used by the model:\n",
      "  \u001b[35mbackbone.fpn_lateral2.bias\u001b[0m\n",
      "  \u001b[35mbackbone.fpn_output2.bias\u001b[0m\n",
      "  \u001b[35mbackbone.fpn_lateral3.bias\u001b[0m\n",
      "  \u001b[35mbackbone.fpn_output3.bias\u001b[0m\n",
      "  \u001b[35mbackbone.fpn_lateral4.bias\u001b[0m\n",
      "  \u001b[35mbackbone.fpn_output4.bias\u001b[0m\n",
      "  \u001b[35mbackbone.fpn_lateral5.bias\u001b[0m\n",
      "  \u001b[35mbackbone.fpn_output5.bias\u001b[0m\n",
      " 83%|████████████████████████████████▏      | 815/987 [1:05:21<13:13,  4.61s/it]"
     ]
    },
    {
     "name": "stdout",
     "output_type": "stream",
     "text": [
      "22_12_1936_00000005\n",
      "Pages/22_12_1936_00000005.tif.large.jpg\n"
     ]
    },
    {
     "name": "stderr",
     "output_type": "stream",
     "text": [
      "The checkpoint state_dict contains keys that are not used by the model:\n",
      "  \u001b[35mbackbone.fpn_lateral2.bias\u001b[0m\n",
      "  \u001b[35mbackbone.fpn_output2.bias\u001b[0m\n",
      "  \u001b[35mbackbone.fpn_lateral3.bias\u001b[0m\n",
      "  \u001b[35mbackbone.fpn_output3.bias\u001b[0m\n",
      "  \u001b[35mbackbone.fpn_lateral4.bias\u001b[0m\n",
      "  \u001b[35mbackbone.fpn_output4.bias\u001b[0m\n",
      "  \u001b[35mbackbone.fpn_lateral5.bias\u001b[0m\n",
      "  \u001b[35mbackbone.fpn_output5.bias\u001b[0m\n",
      " 83%|████████████████████████████████▏      | 816/987 [1:05:26<13:15,  4.65s/it]"
     ]
    },
    {
     "name": "stdout",
     "output_type": "stream",
     "text": [
      "05_03_1936_00000017\n",
      "Pages/05_03_1936_00000017.tif.large.jpg\n"
     ]
    },
    {
     "name": "stderr",
     "output_type": "stream",
     "text": [
      "The checkpoint state_dict contains keys that are not used by the model:\n",
      "  \u001b[35mbackbone.fpn_lateral2.bias\u001b[0m\n",
      "  \u001b[35mbackbone.fpn_output2.bias\u001b[0m\n",
      "  \u001b[35mbackbone.fpn_lateral3.bias\u001b[0m\n",
      "  \u001b[35mbackbone.fpn_output3.bias\u001b[0m\n",
      "  \u001b[35mbackbone.fpn_lateral4.bias\u001b[0m\n",
      "  \u001b[35mbackbone.fpn_output4.bias\u001b[0m\n",
      "  \u001b[35mbackbone.fpn_lateral5.bias\u001b[0m\n",
      "  \u001b[35mbackbone.fpn_output5.bias\u001b[0m\n",
      " 83%|████████████████████████████████▎      | 817/987 [1:05:30<13:05,  4.62s/it]"
     ]
    },
    {
     "name": "stdout",
     "output_type": "stream",
     "text": [
      "25_08_1936_00000006\n",
      "Pages/25_08_1936_00000006.tif.large.jpg\n"
     ]
    },
    {
     "name": "stderr",
     "output_type": "stream",
     "text": [
      "The checkpoint state_dict contains keys that are not used by the model:\n",
      "  \u001b[35mbackbone.fpn_lateral2.bias\u001b[0m\n",
      "  \u001b[35mbackbone.fpn_output2.bias\u001b[0m\n",
      "  \u001b[35mbackbone.fpn_lateral3.bias\u001b[0m\n",
      "  \u001b[35mbackbone.fpn_output3.bias\u001b[0m\n",
      "  \u001b[35mbackbone.fpn_lateral4.bias\u001b[0m\n",
      "  \u001b[35mbackbone.fpn_output4.bias\u001b[0m\n",
      "  \u001b[35mbackbone.fpn_lateral5.bias\u001b[0m\n",
      "  \u001b[35mbackbone.fpn_output5.bias\u001b[0m\n",
      " 83%|████████████████████████████████▎      | 818/987 [1:05:35<13:06,  4.66s/it]"
     ]
    },
    {
     "name": "stdout",
     "output_type": "stream",
     "text": [
      "01_02_1936_00000008\n",
      "Pages/01_02_1936_00000008.tif.large.jpg\n"
     ]
    },
    {
     "name": "stderr",
     "output_type": "stream",
     "text": [
      "The checkpoint state_dict contains keys that are not used by the model:\n",
      "  \u001b[35mbackbone.fpn_lateral2.bias\u001b[0m\n",
      "  \u001b[35mbackbone.fpn_output2.bias\u001b[0m\n",
      "  \u001b[35mbackbone.fpn_lateral3.bias\u001b[0m\n",
      "  \u001b[35mbackbone.fpn_output3.bias\u001b[0m\n",
      "  \u001b[35mbackbone.fpn_lateral4.bias\u001b[0m\n",
      "  \u001b[35mbackbone.fpn_output4.bias\u001b[0m\n",
      "  \u001b[35mbackbone.fpn_lateral5.bias\u001b[0m\n",
      "  \u001b[35mbackbone.fpn_output5.bias\u001b[0m\n",
      " 83%|████████████████████████████████▎      | 819/987 [1:05:40<12:59,  4.64s/it]"
     ]
    },
    {
     "name": "stdout",
     "output_type": "stream",
     "text": [
      "15_10_1936_00000006\n",
      "Pages/15_10_1936_00000006.tif.large.jpg\n"
     ]
    },
    {
     "name": "stderr",
     "output_type": "stream",
     "text": [
      "The checkpoint state_dict contains keys that are not used by the model:\n",
      "  \u001b[35mbackbone.fpn_lateral2.bias\u001b[0m\n",
      "  \u001b[35mbackbone.fpn_output2.bias\u001b[0m\n",
      "  \u001b[35mbackbone.fpn_lateral3.bias\u001b[0m\n",
      "  \u001b[35mbackbone.fpn_output3.bias\u001b[0m\n",
      "  \u001b[35mbackbone.fpn_lateral4.bias\u001b[0m\n",
      "  \u001b[35mbackbone.fpn_output4.bias\u001b[0m\n",
      "  \u001b[35mbackbone.fpn_lateral5.bias\u001b[0m\n",
      "  \u001b[35mbackbone.fpn_output5.bias\u001b[0m\n",
      " 83%|████████████████████████████████▍      | 820/987 [1:05:44<12:52,  4.63s/it]"
     ]
    },
    {
     "name": "stdout",
     "output_type": "stream",
     "text": [
      "18_03_1936_00000010\n",
      "Pages/18_03_1936_00000010.tif.large.jpg\n"
     ]
    },
    {
     "name": "stderr",
     "output_type": "stream",
     "text": [
      "The checkpoint state_dict contains keys that are not used by the model:\n",
      "  \u001b[35mbackbone.fpn_lateral2.bias\u001b[0m\n",
      "  \u001b[35mbackbone.fpn_output2.bias\u001b[0m\n",
      "  \u001b[35mbackbone.fpn_lateral3.bias\u001b[0m\n",
      "  \u001b[35mbackbone.fpn_output3.bias\u001b[0m\n",
      "  \u001b[35mbackbone.fpn_lateral4.bias\u001b[0m\n",
      "  \u001b[35mbackbone.fpn_output4.bias\u001b[0m\n",
      "  \u001b[35mbackbone.fpn_lateral5.bias\u001b[0m\n",
      "  \u001b[35mbackbone.fpn_output5.bias\u001b[0m\n",
      " 83%|████████████████████████████████▍      | 821/987 [1:05:49<12:45,  4.61s/it]"
     ]
    },
    {
     "name": "stdout",
     "output_type": "stream",
     "text": [
      "25_04_1936_00000008\n",
      "Pages/25_04_1936_00000008.tif.large.jpg\n"
     ]
    },
    {
     "name": "stderr",
     "output_type": "stream",
     "text": [
      "The checkpoint state_dict contains keys that are not used by the model:\n",
      "  \u001b[35mbackbone.fpn_lateral2.bias\u001b[0m\n",
      "  \u001b[35mbackbone.fpn_output2.bias\u001b[0m\n",
      "  \u001b[35mbackbone.fpn_lateral3.bias\u001b[0m\n",
      "  \u001b[35mbackbone.fpn_output3.bias\u001b[0m\n",
      "  \u001b[35mbackbone.fpn_lateral4.bias\u001b[0m\n",
      "  \u001b[35mbackbone.fpn_output4.bias\u001b[0m\n",
      "  \u001b[35mbackbone.fpn_lateral5.bias\u001b[0m\n",
      "  \u001b[35mbackbone.fpn_output5.bias\u001b[0m\n",
      " 83%|████████████████████████████████▍      | 822/987 [1:05:53<12:41,  4.61s/it]"
     ]
    },
    {
     "name": "stdout",
     "output_type": "stream",
     "text": [
      "17_09_1936_00000008\n",
      "Pages/17_09_1936_00000008.tif.large.jpg\n"
     ]
    },
    {
     "name": "stderr",
     "output_type": "stream",
     "text": [
      "The checkpoint state_dict contains keys that are not used by the model:\n",
      "  \u001b[35mbackbone.fpn_lateral2.bias\u001b[0m\n",
      "  \u001b[35mbackbone.fpn_output2.bias\u001b[0m\n",
      "  \u001b[35mbackbone.fpn_lateral3.bias\u001b[0m\n",
      "  \u001b[35mbackbone.fpn_output3.bias\u001b[0m\n",
      "  \u001b[35mbackbone.fpn_lateral4.bias\u001b[0m\n",
      "  \u001b[35mbackbone.fpn_output4.bias\u001b[0m\n",
      "  \u001b[35mbackbone.fpn_lateral5.bias\u001b[0m\n",
      "  \u001b[35mbackbone.fpn_output5.bias\u001b[0m\n",
      " 83%|████████████████████████████████▌      | 823/987 [1:05:58<12:39,  4.63s/it]"
     ]
    },
    {
     "name": "stdout",
     "output_type": "stream",
     "text": [
      "05_01_1936_00000001\n",
      "Pages/05_01_1936_00000001.tif.large.jpg\n"
     ]
    },
    {
     "name": "stderr",
     "output_type": "stream",
     "text": [
      "The checkpoint state_dict contains keys that are not used by the model:\n",
      "  \u001b[35mbackbone.fpn_lateral2.bias\u001b[0m\n",
      "  \u001b[35mbackbone.fpn_output2.bias\u001b[0m\n",
      "  \u001b[35mbackbone.fpn_lateral3.bias\u001b[0m\n",
      "  \u001b[35mbackbone.fpn_output3.bias\u001b[0m\n",
      "  \u001b[35mbackbone.fpn_lateral4.bias\u001b[0m\n",
      "  \u001b[35mbackbone.fpn_output4.bias\u001b[0m\n",
      "  \u001b[35mbackbone.fpn_lateral5.bias\u001b[0m\n",
      "  \u001b[35mbackbone.fpn_output5.bias\u001b[0m\n",
      " 83%|████████████████████████████████▌      | 824/987 [1:06:03<12:53,  4.74s/it]"
     ]
    },
    {
     "name": "stdout",
     "output_type": "stream",
     "text": [
      "10_02_1936_00000002\n",
      "Pages/10_02_1936_00000002.tif.large.jpg\n"
     ]
    },
    {
     "name": "stderr",
     "output_type": "stream",
     "text": [
      "The checkpoint state_dict contains keys that are not used by the model:\n",
      "  \u001b[35mbackbone.fpn_lateral2.bias\u001b[0m\n",
      "  \u001b[35mbackbone.fpn_output2.bias\u001b[0m\n",
      "  \u001b[35mbackbone.fpn_lateral3.bias\u001b[0m\n",
      "  \u001b[35mbackbone.fpn_output3.bias\u001b[0m\n",
      "  \u001b[35mbackbone.fpn_lateral4.bias\u001b[0m\n",
      "  \u001b[35mbackbone.fpn_output4.bias\u001b[0m\n",
      "  \u001b[35mbackbone.fpn_lateral5.bias\u001b[0m\n",
      "  \u001b[35mbackbone.fpn_output5.bias\u001b[0m\n",
      " 84%|████████████████████████████████▌      | 825/987 [1:06:08<12:51,  4.77s/it]"
     ]
    },
    {
     "name": "stdout",
     "output_type": "stream",
     "text": [
      "23_04_1936_00000008\n",
      "Pages/23_04_1936_00000008.tif.large.jpg\n"
     ]
    },
    {
     "name": "stderr",
     "output_type": "stream",
     "text": [
      "The checkpoint state_dict contains keys that are not used by the model:\n",
      "  \u001b[35mbackbone.fpn_lateral2.bias\u001b[0m\n",
      "  \u001b[35mbackbone.fpn_output2.bias\u001b[0m\n",
      "  \u001b[35mbackbone.fpn_lateral3.bias\u001b[0m\n",
      "  \u001b[35mbackbone.fpn_output3.bias\u001b[0m\n",
      "  \u001b[35mbackbone.fpn_lateral4.bias\u001b[0m\n",
      "  \u001b[35mbackbone.fpn_output4.bias\u001b[0m\n",
      "  \u001b[35mbackbone.fpn_lateral5.bias\u001b[0m\n",
      "  \u001b[35mbackbone.fpn_output5.bias\u001b[0m\n",
      " 84%|████████████████████████████████▋      | 826/987 [1:06:12<12:37,  4.70s/it]"
     ]
    },
    {
     "name": "stdout",
     "output_type": "stream",
     "text": [
      "29_04_1936_00000005\n",
      "Pages/29_04_1936_00000005.tif.large.jpg\n"
     ]
    },
    {
     "name": "stderr",
     "output_type": "stream",
     "text": [
      "The checkpoint state_dict contains keys that are not used by the model:\n",
      "  \u001b[35mbackbone.fpn_lateral2.bias\u001b[0m\n",
      "  \u001b[35mbackbone.fpn_output2.bias\u001b[0m\n",
      "  \u001b[35mbackbone.fpn_lateral3.bias\u001b[0m\n",
      "  \u001b[35mbackbone.fpn_output3.bias\u001b[0m\n",
      "  \u001b[35mbackbone.fpn_lateral4.bias\u001b[0m\n",
      "  \u001b[35mbackbone.fpn_output4.bias\u001b[0m\n",
      "  \u001b[35mbackbone.fpn_lateral5.bias\u001b[0m\n",
      "  \u001b[35mbackbone.fpn_output5.bias\u001b[0m\n",
      " 84%|████████████████████████████████▋      | 827/987 [1:06:17<12:32,  4.70s/it]"
     ]
    },
    {
     "name": "stdout",
     "output_type": "stream",
     "text": [
      "08_09_1936_00000008\n",
      "Pages/08_09_1936_00000008.tif.large.jpg\n"
     ]
    },
    {
     "name": "stderr",
     "output_type": "stream",
     "text": [
      "The checkpoint state_dict contains keys that are not used by the model:\n",
      "  \u001b[35mbackbone.fpn_lateral2.bias\u001b[0m\n",
      "  \u001b[35mbackbone.fpn_output2.bias\u001b[0m\n",
      "  \u001b[35mbackbone.fpn_lateral3.bias\u001b[0m\n",
      "  \u001b[35mbackbone.fpn_output3.bias\u001b[0m\n",
      "  \u001b[35mbackbone.fpn_lateral4.bias\u001b[0m\n",
      "  \u001b[35mbackbone.fpn_output4.bias\u001b[0m\n",
      "  \u001b[35mbackbone.fpn_lateral5.bias\u001b[0m\n",
      "  \u001b[35mbackbone.fpn_output5.bias\u001b[0m\n",
      " 84%|████████████████████████████████▋      | 828/987 [1:06:22<12:21,  4.66s/it]"
     ]
    },
    {
     "name": "stdout",
     "output_type": "stream",
     "text": [
      "24_04_1936_00000013\n",
      "Pages/24_04_1936_00000013.tif.large.jpg\n"
     ]
    },
    {
     "name": "stderr",
     "output_type": "stream",
     "text": [
      "The checkpoint state_dict contains keys that are not used by the model:\n",
      "  \u001b[35mbackbone.fpn_lateral2.bias\u001b[0m\n",
      "  \u001b[35mbackbone.fpn_output2.bias\u001b[0m\n",
      "  \u001b[35mbackbone.fpn_lateral3.bias\u001b[0m\n",
      "  \u001b[35mbackbone.fpn_output3.bias\u001b[0m\n",
      "  \u001b[35mbackbone.fpn_lateral4.bias\u001b[0m\n",
      "  \u001b[35mbackbone.fpn_output4.bias\u001b[0m\n",
      "  \u001b[35mbackbone.fpn_lateral5.bias\u001b[0m\n",
      "  \u001b[35mbackbone.fpn_output5.bias\u001b[0m\n",
      " 84%|████████████████████████████████▊      | 829/987 [1:06:26<12:11,  4.63s/it]"
     ]
    },
    {
     "name": "stdout",
     "output_type": "stream",
     "text": [
      "21_07_1936_00000004\n",
      "Pages/21_07_1936_00000004.tif.large.jpg\n"
     ]
    },
    {
     "name": "stderr",
     "output_type": "stream",
     "text": [
      "The checkpoint state_dict contains keys that are not used by the model:\n",
      "  \u001b[35mbackbone.fpn_lateral2.bias\u001b[0m\n",
      "  \u001b[35mbackbone.fpn_output2.bias\u001b[0m\n",
      "  \u001b[35mbackbone.fpn_lateral3.bias\u001b[0m\n",
      "  \u001b[35mbackbone.fpn_output3.bias\u001b[0m\n",
      "  \u001b[35mbackbone.fpn_lateral4.bias\u001b[0m\n",
      "  \u001b[35mbackbone.fpn_output4.bias\u001b[0m\n",
      "  \u001b[35mbackbone.fpn_lateral5.bias\u001b[0m\n",
      "  \u001b[35mbackbone.fpn_output5.bias\u001b[0m\n",
      " 84%|████████████████████████████████▊      | 830/987 [1:06:31<12:03,  4.61s/it]"
     ]
    },
    {
     "name": "stdout",
     "output_type": "stream",
     "text": [
      "14_01_1936_00000006\n",
      "Pages/14_01_1936_00000006.tif.large.jpg\n"
     ]
    },
    {
     "name": "stderr",
     "output_type": "stream",
     "text": [
      "The checkpoint state_dict contains keys that are not used by the model:\n",
      "  \u001b[35mbackbone.fpn_lateral2.bias\u001b[0m\n",
      "  \u001b[35mbackbone.fpn_output2.bias\u001b[0m\n",
      "  \u001b[35mbackbone.fpn_lateral3.bias\u001b[0m\n",
      "  \u001b[35mbackbone.fpn_output3.bias\u001b[0m\n",
      "  \u001b[35mbackbone.fpn_lateral4.bias\u001b[0m\n",
      "  \u001b[35mbackbone.fpn_output4.bias\u001b[0m\n",
      "  \u001b[35mbackbone.fpn_lateral5.bias\u001b[0m\n",
      "  \u001b[35mbackbone.fpn_output5.bias\u001b[0m\n",
      " 84%|████████████████████████████████▊      | 831/987 [1:06:35<12:01,  4.62s/it]"
     ]
    },
    {
     "name": "stdout",
     "output_type": "stream",
     "text": [
      "27_07_1936_00000002\n",
      "Pages/27_07_1936_00000002.tif.large.jpg\n"
     ]
    },
    {
     "name": "stderr",
     "output_type": "stream",
     "text": [
      "The checkpoint state_dict contains keys that are not used by the model:\n",
      "  \u001b[35mbackbone.fpn_lateral2.bias\u001b[0m\n",
      "  \u001b[35mbackbone.fpn_output2.bias\u001b[0m\n",
      "  \u001b[35mbackbone.fpn_lateral3.bias\u001b[0m\n",
      "  \u001b[35mbackbone.fpn_output3.bias\u001b[0m\n",
      "  \u001b[35mbackbone.fpn_lateral4.bias\u001b[0m\n",
      "  \u001b[35mbackbone.fpn_output4.bias\u001b[0m\n",
      "  \u001b[35mbackbone.fpn_lateral5.bias\u001b[0m\n",
      "  \u001b[35mbackbone.fpn_output5.bias\u001b[0m\n",
      " 84%|████████████████████████████████▉      | 832/987 [1:06:40<12:02,  4.66s/it]"
     ]
    },
    {
     "name": "stdout",
     "output_type": "stream",
     "text": [
      "10_08_1936_00000007\n",
      "Pages/10_08_1936_00000007.tif.large.jpg\n"
     ]
    },
    {
     "name": "stderr",
     "output_type": "stream",
     "text": [
      "The checkpoint state_dict contains keys that are not used by the model:\n",
      "  \u001b[35mbackbone.fpn_lateral2.bias\u001b[0m\n",
      "  \u001b[35mbackbone.fpn_output2.bias\u001b[0m\n",
      "  \u001b[35mbackbone.fpn_lateral3.bias\u001b[0m\n",
      "  \u001b[35mbackbone.fpn_output3.bias\u001b[0m\n",
      "  \u001b[35mbackbone.fpn_lateral4.bias\u001b[0m\n",
      "  \u001b[35mbackbone.fpn_output4.bias\u001b[0m\n",
      "  \u001b[35mbackbone.fpn_lateral5.bias\u001b[0m\n",
      "  \u001b[35mbackbone.fpn_output5.bias\u001b[0m\n",
      " 84%|████████████████████████████████▉      | 833/987 [1:06:45<11:53,  4.63s/it]"
     ]
    },
    {
     "name": "stdout",
     "output_type": "stream",
     "text": [
      "29_04_1936_00000009\n",
      "Pages/29_04_1936_00000009.tif.large.jpg\n"
     ]
    },
    {
     "name": "stderr",
     "output_type": "stream",
     "text": [
      "The checkpoint state_dict contains keys that are not used by the model:\n",
      "  \u001b[35mbackbone.fpn_lateral2.bias\u001b[0m\n",
      "  \u001b[35mbackbone.fpn_output2.bias\u001b[0m\n",
      "  \u001b[35mbackbone.fpn_lateral3.bias\u001b[0m\n",
      "  \u001b[35mbackbone.fpn_output3.bias\u001b[0m\n",
      "  \u001b[35mbackbone.fpn_lateral4.bias\u001b[0m\n",
      "  \u001b[35mbackbone.fpn_output4.bias\u001b[0m\n",
      "  \u001b[35mbackbone.fpn_lateral5.bias\u001b[0m\n",
      "  \u001b[35mbackbone.fpn_output5.bias\u001b[0m\n",
      " 84%|████████████████████████████████▉      | 834/987 [1:06:50<11:57,  4.69s/it]"
     ]
    },
    {
     "name": "stdout",
     "output_type": "stream",
     "text": [
      "22_12_1936_00000009\n",
      "Pages/22_12_1936_00000009.tif.large.jpg\n"
     ]
    },
    {
     "name": "stderr",
     "output_type": "stream",
     "text": [
      "The checkpoint state_dict contains keys that are not used by the model:\n",
      "  \u001b[35mbackbone.fpn_lateral2.bias\u001b[0m\n",
      "  \u001b[35mbackbone.fpn_output2.bias\u001b[0m\n",
      "  \u001b[35mbackbone.fpn_lateral3.bias\u001b[0m\n",
      "  \u001b[35mbackbone.fpn_output3.bias\u001b[0m\n",
      "  \u001b[35mbackbone.fpn_lateral4.bias\u001b[0m\n",
      "  \u001b[35mbackbone.fpn_output4.bias\u001b[0m\n",
      "  \u001b[35mbackbone.fpn_lateral5.bias\u001b[0m\n",
      "  \u001b[35mbackbone.fpn_output5.bias\u001b[0m\n",
      " 85%|████████████████████████████████▉      | 835/987 [1:06:54<11:53,  4.70s/it]"
     ]
    },
    {
     "name": "stdout",
     "output_type": "stream",
     "text": [
      "25_10_1936_00000036\n",
      "Pages/25_10_1936_00000036.tif.large.jpg\n"
     ]
    },
    {
     "name": "stderr",
     "output_type": "stream",
     "text": [
      "The checkpoint state_dict contains keys that are not used by the model:\n",
      "  \u001b[35mbackbone.fpn_lateral2.bias\u001b[0m\n",
      "  \u001b[35mbackbone.fpn_output2.bias\u001b[0m\n",
      "  \u001b[35mbackbone.fpn_lateral3.bias\u001b[0m\n",
      "  \u001b[35mbackbone.fpn_output3.bias\u001b[0m\n",
      "  \u001b[35mbackbone.fpn_lateral4.bias\u001b[0m\n",
      "  \u001b[35mbackbone.fpn_output4.bias\u001b[0m\n",
      "  \u001b[35mbackbone.fpn_lateral5.bias\u001b[0m\n",
      "  \u001b[35mbackbone.fpn_output5.bias\u001b[0m\n",
      " 85%|█████████████████████████████████      | 836/987 [1:06:59<11:42,  4.65s/it]"
     ]
    },
    {
     "name": "stdout",
     "output_type": "stream",
     "text": [
      "26_08_1936_00000017\n",
      "Pages/26_08_1936_00000017.tif.large.jpg\n"
     ]
    },
    {
     "name": "stderr",
     "output_type": "stream",
     "text": [
      "The checkpoint state_dict contains keys that are not used by the model:\n",
      "  \u001b[35mbackbone.fpn_lateral2.bias\u001b[0m\n",
      "  \u001b[35mbackbone.fpn_output2.bias\u001b[0m\n",
      "  \u001b[35mbackbone.fpn_lateral3.bias\u001b[0m\n",
      "  \u001b[35mbackbone.fpn_output3.bias\u001b[0m\n",
      "  \u001b[35mbackbone.fpn_lateral4.bias\u001b[0m\n",
      "  \u001b[35mbackbone.fpn_output4.bias\u001b[0m\n",
      "  \u001b[35mbackbone.fpn_lateral5.bias\u001b[0m\n",
      "  \u001b[35mbackbone.fpn_output5.bias\u001b[0m\n",
      " 85%|█████████████████████████████████      | 837/987 [1:07:04<11:39,  4.66s/it]"
     ]
    },
    {
     "name": "stdout",
     "output_type": "stream",
     "text": [
      "25_12_1936_00000038\n",
      "Pages/25_12_1936_00000038.tif.large.jpg\n"
     ]
    },
    {
     "name": "stderr",
     "output_type": "stream",
     "text": [
      "The checkpoint state_dict contains keys that are not used by the model:\n",
      "  \u001b[35mbackbone.fpn_lateral2.bias\u001b[0m\n",
      "  \u001b[35mbackbone.fpn_output2.bias\u001b[0m\n",
      "  \u001b[35mbackbone.fpn_lateral3.bias\u001b[0m\n",
      "  \u001b[35mbackbone.fpn_output3.bias\u001b[0m\n",
      "  \u001b[35mbackbone.fpn_lateral4.bias\u001b[0m\n",
      "  \u001b[35mbackbone.fpn_output4.bias\u001b[0m\n",
      "  \u001b[35mbackbone.fpn_lateral5.bias\u001b[0m\n",
      "  \u001b[35mbackbone.fpn_output5.bias\u001b[0m\n",
      " 85%|█████████████████████████████████      | 838/987 [1:07:08<11:35,  4.67s/it]"
     ]
    },
    {
     "name": "stdout",
     "output_type": "stream",
     "text": [
      "22_01_1936_00000006\n",
      "Pages/22_01_1936_00000006.tif.large.jpg\n"
     ]
    },
    {
     "name": "stderr",
     "output_type": "stream",
     "text": [
      "The checkpoint state_dict contains keys that are not used by the model:\n",
      "  \u001b[35mbackbone.fpn_lateral2.bias\u001b[0m\n",
      "  \u001b[35mbackbone.fpn_output2.bias\u001b[0m\n",
      "  \u001b[35mbackbone.fpn_lateral3.bias\u001b[0m\n",
      "  \u001b[35mbackbone.fpn_output3.bias\u001b[0m\n",
      "  \u001b[35mbackbone.fpn_lateral4.bias\u001b[0m\n",
      "  \u001b[35mbackbone.fpn_output4.bias\u001b[0m\n",
      "  \u001b[35mbackbone.fpn_lateral5.bias\u001b[0m\n",
      "  \u001b[35mbackbone.fpn_output5.bias\u001b[0m\n",
      " 85%|█████████████████████████████████▏     | 839/987 [1:07:13<11:32,  4.68s/it]"
     ]
    },
    {
     "name": "stdout",
     "output_type": "stream",
     "text": [
      "01_10_1936_00000013\n",
      "Pages/01_10_1936_00000013.tif.large.jpg\n"
     ]
    },
    {
     "name": "stderr",
     "output_type": "stream",
     "text": [
      "The checkpoint state_dict contains keys that are not used by the model:\n",
      "  \u001b[35mbackbone.fpn_lateral2.bias\u001b[0m\n",
      "  \u001b[35mbackbone.fpn_output2.bias\u001b[0m\n",
      "  \u001b[35mbackbone.fpn_lateral3.bias\u001b[0m\n",
      "  \u001b[35mbackbone.fpn_output3.bias\u001b[0m\n",
      "  \u001b[35mbackbone.fpn_lateral4.bias\u001b[0m\n",
      "  \u001b[35mbackbone.fpn_output4.bias\u001b[0m\n",
      "  \u001b[35mbackbone.fpn_lateral5.bias\u001b[0m\n",
      "  \u001b[35mbackbone.fpn_output5.bias\u001b[0m\n",
      " 85%|█████████████████████████████████▏     | 840/987 [1:07:17<11:19,  4.62s/it]"
     ]
    },
    {
     "name": "stdout",
     "output_type": "stream",
     "text": [
      "13_10_1936_00000008\n",
      "Pages/13_10_1936_00000008.tif.large.jpg\n"
     ]
    },
    {
     "name": "stderr",
     "output_type": "stream",
     "text": [
      "The checkpoint state_dict contains keys that are not used by the model:\n",
      "  \u001b[35mbackbone.fpn_lateral2.bias\u001b[0m\n",
      "  \u001b[35mbackbone.fpn_output2.bias\u001b[0m\n",
      "  \u001b[35mbackbone.fpn_lateral3.bias\u001b[0m\n",
      "  \u001b[35mbackbone.fpn_output3.bias\u001b[0m\n",
      "  \u001b[35mbackbone.fpn_lateral4.bias\u001b[0m\n",
      "  \u001b[35mbackbone.fpn_output4.bias\u001b[0m\n",
      "  \u001b[35mbackbone.fpn_lateral5.bias\u001b[0m\n",
      "  \u001b[35mbackbone.fpn_output5.bias\u001b[0m\n",
      " 85%|█████████████████████████████████▏     | 841/987 [1:07:22<11:12,  4.61s/it]"
     ]
    },
    {
     "name": "stdout",
     "output_type": "stream",
     "text": [
      "09_11_1936_00000002\n",
      "Pages/09_11_1936_00000002.tif.large.jpg\n"
     ]
    },
    {
     "name": "stderr",
     "output_type": "stream",
     "text": [
      "The checkpoint state_dict contains keys that are not used by the model:\n",
      "  \u001b[35mbackbone.fpn_lateral2.bias\u001b[0m\n",
      "  \u001b[35mbackbone.fpn_output2.bias\u001b[0m\n",
      "  \u001b[35mbackbone.fpn_lateral3.bias\u001b[0m\n",
      "  \u001b[35mbackbone.fpn_output3.bias\u001b[0m\n",
      "  \u001b[35mbackbone.fpn_lateral4.bias\u001b[0m\n",
      "  \u001b[35mbackbone.fpn_output4.bias\u001b[0m\n",
      "  \u001b[35mbackbone.fpn_lateral5.bias\u001b[0m\n",
      "  \u001b[35mbackbone.fpn_output5.bias\u001b[0m\n",
      " 85%|█████████████████████████████████▎     | 842/987 [1:07:27<11:09,  4.62s/it]"
     ]
    },
    {
     "name": "stdout",
     "output_type": "stream",
     "text": [
      "19_01_1936_00000007\n",
      "Pages/19_01_1936_00000007.tif.large.jpg\n"
     ]
    },
    {
     "name": "stderr",
     "output_type": "stream",
     "text": [
      "The checkpoint state_dict contains keys that are not used by the model:\n",
      "  \u001b[35mbackbone.fpn_lateral2.bias\u001b[0m\n",
      "  \u001b[35mbackbone.fpn_output2.bias\u001b[0m\n",
      "  \u001b[35mbackbone.fpn_lateral3.bias\u001b[0m\n",
      "  \u001b[35mbackbone.fpn_output3.bias\u001b[0m\n",
      "  \u001b[35mbackbone.fpn_lateral4.bias\u001b[0m\n",
      "  \u001b[35mbackbone.fpn_output4.bias\u001b[0m\n",
      "  \u001b[35mbackbone.fpn_lateral5.bias\u001b[0m\n",
      "  \u001b[35mbackbone.fpn_output5.bias\u001b[0m\n",
      " 85%|█████████████████████████████████▎     | 843/987 [1:07:31<11:10,  4.66s/it]"
     ]
    },
    {
     "name": "stdout",
     "output_type": "stream",
     "text": [
      "03_08_1936_00000006\n",
      "Pages/03_08_1936_00000006.tif.large.jpg\n"
     ]
    },
    {
     "name": "stderr",
     "output_type": "stream",
     "text": [
      "The checkpoint state_dict contains keys that are not used by the model:\n",
      "  \u001b[35mbackbone.fpn_lateral2.bias\u001b[0m\n",
      "  \u001b[35mbackbone.fpn_output2.bias\u001b[0m\n",
      "  \u001b[35mbackbone.fpn_lateral3.bias\u001b[0m\n",
      "  \u001b[35mbackbone.fpn_output3.bias\u001b[0m\n",
      "  \u001b[35mbackbone.fpn_lateral4.bias\u001b[0m\n",
      "  \u001b[35mbackbone.fpn_output4.bias\u001b[0m\n",
      "  \u001b[35mbackbone.fpn_lateral5.bias\u001b[0m\n",
      "  \u001b[35mbackbone.fpn_output5.bias\u001b[0m\n",
      " 86%|█████████████████████████████████▎     | 844/987 [1:07:36<11:06,  4.66s/it]"
     ]
    },
    {
     "name": "stdout",
     "output_type": "stream",
     "text": [
      "25_03_1936_00000003\n",
      "Pages/25_03_1936_00000003.tif.large.jpg\n"
     ]
    },
    {
     "name": "stderr",
     "output_type": "stream",
     "text": [
      "The checkpoint state_dict contains keys that are not used by the model:\n",
      "  \u001b[35mbackbone.fpn_lateral2.bias\u001b[0m\n",
      "  \u001b[35mbackbone.fpn_output2.bias\u001b[0m\n",
      "  \u001b[35mbackbone.fpn_lateral3.bias\u001b[0m\n",
      "  \u001b[35mbackbone.fpn_output3.bias\u001b[0m\n",
      "  \u001b[35mbackbone.fpn_lateral4.bias\u001b[0m\n",
      "  \u001b[35mbackbone.fpn_output4.bias\u001b[0m\n",
      "  \u001b[35mbackbone.fpn_lateral5.bias\u001b[0m\n",
      "  \u001b[35mbackbone.fpn_output5.bias\u001b[0m\n",
      " 86%|█████████████████████████████████▍     | 845/987 [1:07:41<10:54,  4.61s/it]"
     ]
    },
    {
     "name": "stdout",
     "output_type": "stream",
     "text": [
      "23_09_1936_00000005\n",
      "Pages/23_09_1936_00000005.tif.large.jpg\n"
     ]
    },
    {
     "name": "stderr",
     "output_type": "stream",
     "text": [
      "The checkpoint state_dict contains keys that are not used by the model:\n",
      "  \u001b[35mbackbone.fpn_lateral2.bias\u001b[0m\n",
      "  \u001b[35mbackbone.fpn_output2.bias\u001b[0m\n",
      "  \u001b[35mbackbone.fpn_lateral3.bias\u001b[0m\n",
      "  \u001b[35mbackbone.fpn_output3.bias\u001b[0m\n",
      "  \u001b[35mbackbone.fpn_lateral4.bias\u001b[0m\n",
      "  \u001b[35mbackbone.fpn_output4.bias\u001b[0m\n",
      "  \u001b[35mbackbone.fpn_lateral5.bias\u001b[0m\n",
      "  \u001b[35mbackbone.fpn_output5.bias\u001b[0m\n",
      " 86%|█████████████████████████████████▍     | 846/987 [1:07:45<10:49,  4.60s/it]"
     ]
    },
    {
     "name": "stdout",
     "output_type": "stream",
     "text": [
      "09_08_1936_00000007\n",
      "Pages/09_08_1936_00000007.tif.large.jpg\n"
     ]
    },
    {
     "name": "stderr",
     "output_type": "stream",
     "text": [
      "The checkpoint state_dict contains keys that are not used by the model:\n",
      "  \u001b[35mbackbone.fpn_lateral2.bias\u001b[0m\n",
      "  \u001b[35mbackbone.fpn_output2.bias\u001b[0m\n",
      "  \u001b[35mbackbone.fpn_lateral3.bias\u001b[0m\n",
      "  \u001b[35mbackbone.fpn_output3.bias\u001b[0m\n",
      "  \u001b[35mbackbone.fpn_lateral4.bias\u001b[0m\n",
      "  \u001b[35mbackbone.fpn_output4.bias\u001b[0m\n",
      "  \u001b[35mbackbone.fpn_lateral5.bias\u001b[0m\n",
      "  \u001b[35mbackbone.fpn_output5.bias\u001b[0m\n",
      " 86%|█████████████████████████████████▍     | 847/987 [1:07:50<10:43,  4.60s/it]"
     ]
    },
    {
     "name": "stdout",
     "output_type": "stream",
     "text": [
      "29_03_1936_00000015\n",
      "Pages/29_03_1936_00000015.tif.large.jpg\n"
     ]
    },
    {
     "name": "stderr",
     "output_type": "stream",
     "text": [
      "The checkpoint state_dict contains keys that are not used by the model:\n",
      "  \u001b[35mbackbone.fpn_lateral2.bias\u001b[0m\n",
      "  \u001b[35mbackbone.fpn_output2.bias\u001b[0m\n",
      "  \u001b[35mbackbone.fpn_lateral3.bias\u001b[0m\n",
      "  \u001b[35mbackbone.fpn_output3.bias\u001b[0m\n",
      "  \u001b[35mbackbone.fpn_lateral4.bias\u001b[0m\n",
      "  \u001b[35mbackbone.fpn_output4.bias\u001b[0m\n",
      "  \u001b[35mbackbone.fpn_lateral5.bias\u001b[0m\n",
      "  \u001b[35mbackbone.fpn_output5.bias\u001b[0m\n",
      " 86%|█████████████████████████████████▌     | 848/987 [1:07:54<10:34,  4.57s/it]"
     ]
    },
    {
     "name": "stdout",
     "output_type": "stream",
     "text": [
      "30_03_1936_00000006\n",
      "Pages/30_03_1936_00000006.tif.large.jpg\n"
     ]
    },
    {
     "name": "stderr",
     "output_type": "stream",
     "text": [
      "The checkpoint state_dict contains keys that are not used by the model:\n",
      "  \u001b[35mbackbone.fpn_lateral2.bias\u001b[0m\n",
      "  \u001b[35mbackbone.fpn_output2.bias\u001b[0m\n",
      "  \u001b[35mbackbone.fpn_lateral3.bias\u001b[0m\n",
      "  \u001b[35mbackbone.fpn_output3.bias\u001b[0m\n",
      "  \u001b[35mbackbone.fpn_lateral4.bias\u001b[0m\n",
      "  \u001b[35mbackbone.fpn_output4.bias\u001b[0m\n",
      "  \u001b[35mbackbone.fpn_lateral5.bias\u001b[0m\n",
      "  \u001b[35mbackbone.fpn_output5.bias\u001b[0m\n",
      " 86%|█████████████████████████████████▌     | 849/987 [1:07:59<10:26,  4.54s/it]"
     ]
    },
    {
     "name": "stdout",
     "output_type": "stream",
     "text": [
      "02_03_1936_00000007\n",
      "Pages/02_03_1936_00000007.tif.large.jpg\n"
     ]
    },
    {
     "name": "stderr",
     "output_type": "stream",
     "text": [
      "The checkpoint state_dict contains keys that are not used by the model:\n",
      "  \u001b[35mbackbone.fpn_lateral2.bias\u001b[0m\n",
      "  \u001b[35mbackbone.fpn_output2.bias\u001b[0m\n",
      "  \u001b[35mbackbone.fpn_lateral3.bias\u001b[0m\n",
      "  \u001b[35mbackbone.fpn_output3.bias\u001b[0m\n",
      "  \u001b[35mbackbone.fpn_lateral4.bias\u001b[0m\n",
      "  \u001b[35mbackbone.fpn_output4.bias\u001b[0m\n",
      "  \u001b[35mbackbone.fpn_lateral5.bias\u001b[0m\n",
      "  \u001b[35mbackbone.fpn_output5.bias\u001b[0m\n",
      " 86%|█████████████████████████████████▌     | 850/987 [1:08:04<11:09,  4.89s/it]"
     ]
    },
    {
     "name": "stdout",
     "output_type": "stream",
     "text": [
      "28_09_1936_00000002\n",
      "Pages/28_09_1936_00000002.tif.large.jpg\n"
     ]
    },
    {
     "name": "stderr",
     "output_type": "stream",
     "text": [
      "The checkpoint state_dict contains keys that are not used by the model:\n",
      "  \u001b[35mbackbone.fpn_lateral2.bias\u001b[0m\n",
      "  \u001b[35mbackbone.fpn_output2.bias\u001b[0m\n",
      "  \u001b[35mbackbone.fpn_lateral3.bias\u001b[0m\n",
      "  \u001b[35mbackbone.fpn_output3.bias\u001b[0m\n",
      "  \u001b[35mbackbone.fpn_lateral4.bias\u001b[0m\n",
      "  \u001b[35mbackbone.fpn_output4.bias\u001b[0m\n",
      "  \u001b[35mbackbone.fpn_lateral5.bias\u001b[0m\n",
      "  \u001b[35mbackbone.fpn_output5.bias\u001b[0m\n",
      " 86%|█████████████████████████████████▋     | 851/987 [1:08:09<11:05,  4.89s/it]"
     ]
    },
    {
     "name": "stdout",
     "output_type": "stream",
     "text": [
      "08_12_1936_00000017\n",
      "Pages/08_12_1936_00000017.tif.large.jpg\n"
     ]
    },
    {
     "name": "stderr",
     "output_type": "stream",
     "text": [
      "The checkpoint state_dict contains keys that are not used by the model:\n",
      "  \u001b[35mbackbone.fpn_lateral2.bias\u001b[0m\n",
      "  \u001b[35mbackbone.fpn_output2.bias\u001b[0m\n",
      "  \u001b[35mbackbone.fpn_lateral3.bias\u001b[0m\n",
      "  \u001b[35mbackbone.fpn_output3.bias\u001b[0m\n",
      "  \u001b[35mbackbone.fpn_lateral4.bias\u001b[0m\n",
      "  \u001b[35mbackbone.fpn_output4.bias\u001b[0m\n",
      "  \u001b[35mbackbone.fpn_lateral5.bias\u001b[0m\n",
      "  \u001b[35mbackbone.fpn_output5.bias\u001b[0m\n",
      " 86%|█████████████████████████████████▋     | 852/987 [1:08:14<10:50,  4.82s/it]"
     ]
    },
    {
     "name": "stdout",
     "output_type": "stream",
     "text": [
      "19_09_1936_00000003\n",
      "Pages/19_09_1936_00000003.tif.large.jpg\n"
     ]
    },
    {
     "name": "stderr",
     "output_type": "stream",
     "text": [
      "The checkpoint state_dict contains keys that are not used by the model:\n",
      "  \u001b[35mbackbone.fpn_lateral2.bias\u001b[0m\n",
      "  \u001b[35mbackbone.fpn_output2.bias\u001b[0m\n",
      "  \u001b[35mbackbone.fpn_lateral3.bias\u001b[0m\n",
      "  \u001b[35mbackbone.fpn_output3.bias\u001b[0m\n",
      "  \u001b[35mbackbone.fpn_lateral4.bias\u001b[0m\n",
      "  \u001b[35mbackbone.fpn_output4.bias\u001b[0m\n",
      "  \u001b[35mbackbone.fpn_lateral5.bias\u001b[0m\n",
      "  \u001b[35mbackbone.fpn_output5.bias\u001b[0m\n",
      " 86%|█████████████████████████████████▋     | 853/987 [1:08:19<10:38,  4.77s/it]"
     ]
    },
    {
     "name": "stdout",
     "output_type": "stream",
     "text": [
      "11_09_1936_00000021\n",
      "Pages/11_09_1936_00000021.tif.large.jpg\n"
     ]
    },
    {
     "name": "stderr",
     "output_type": "stream",
     "text": [
      "The checkpoint state_dict contains keys that are not used by the model:\n",
      "  \u001b[35mbackbone.fpn_lateral2.bias\u001b[0m\n",
      "  \u001b[35mbackbone.fpn_output2.bias\u001b[0m\n",
      "  \u001b[35mbackbone.fpn_lateral3.bias\u001b[0m\n",
      "  \u001b[35mbackbone.fpn_output3.bias\u001b[0m\n",
      "  \u001b[35mbackbone.fpn_lateral4.bias\u001b[0m\n",
      "  \u001b[35mbackbone.fpn_output4.bias\u001b[0m\n",
      "  \u001b[35mbackbone.fpn_lateral5.bias\u001b[0m\n",
      "  \u001b[35mbackbone.fpn_output5.bias\u001b[0m\n",
      " 87%|█████████████████████████████████▋     | 854/987 [1:08:23<10:26,  4.71s/it]"
     ]
    },
    {
     "name": "stdout",
     "output_type": "stream",
     "text": [
      "22_10_1936_00000007\n",
      "Pages/22_10_1936_00000007.tif.large.jpg\n"
     ]
    },
    {
     "name": "stderr",
     "output_type": "stream",
     "text": [
      "The checkpoint state_dict contains keys that are not used by the model:\n",
      "  \u001b[35mbackbone.fpn_lateral2.bias\u001b[0m\n",
      "  \u001b[35mbackbone.fpn_output2.bias\u001b[0m\n",
      "  \u001b[35mbackbone.fpn_lateral3.bias\u001b[0m\n",
      "  \u001b[35mbackbone.fpn_output3.bias\u001b[0m\n",
      "  \u001b[35mbackbone.fpn_lateral4.bias\u001b[0m\n",
      "  \u001b[35mbackbone.fpn_output4.bias\u001b[0m\n",
      "  \u001b[35mbackbone.fpn_lateral5.bias\u001b[0m\n",
      "  \u001b[35mbackbone.fpn_output5.bias\u001b[0m\n",
      " 87%|█████████████████████████████████▊     | 855/987 [1:08:28<10:18,  4.69s/it]"
     ]
    },
    {
     "name": "stdout",
     "output_type": "stream",
     "text": [
      "19_03_1936_00000001\n",
      "Pages/19_03_1936_00000001.tif.large.jpg\n"
     ]
    },
    {
     "name": "stderr",
     "output_type": "stream",
     "text": [
      "The checkpoint state_dict contains keys that are not used by the model:\n",
      "  \u001b[35mbackbone.fpn_lateral2.bias\u001b[0m\n",
      "  \u001b[35mbackbone.fpn_output2.bias\u001b[0m\n",
      "  \u001b[35mbackbone.fpn_lateral3.bias\u001b[0m\n",
      "  \u001b[35mbackbone.fpn_output3.bias\u001b[0m\n",
      "  \u001b[35mbackbone.fpn_lateral4.bias\u001b[0m\n",
      "  \u001b[35mbackbone.fpn_output4.bias\u001b[0m\n",
      "  \u001b[35mbackbone.fpn_lateral5.bias\u001b[0m\n",
      "  \u001b[35mbackbone.fpn_output5.bias\u001b[0m\n",
      " 87%|█████████████████████████████████▊     | 856/987 [1:08:33<10:14,  4.69s/it]"
     ]
    },
    {
     "name": "stdout",
     "output_type": "stream",
     "text": [
      "15_09_1936_00000010\n",
      "Pages/15_09_1936_00000010.tif.large.jpg\n"
     ]
    },
    {
     "name": "stderr",
     "output_type": "stream",
     "text": [
      "The checkpoint state_dict contains keys that are not used by the model:\n",
      "  \u001b[35mbackbone.fpn_lateral2.bias\u001b[0m\n",
      "  \u001b[35mbackbone.fpn_output2.bias\u001b[0m\n",
      "  \u001b[35mbackbone.fpn_lateral3.bias\u001b[0m\n",
      "  \u001b[35mbackbone.fpn_output3.bias\u001b[0m\n",
      "  \u001b[35mbackbone.fpn_lateral4.bias\u001b[0m\n",
      "  \u001b[35mbackbone.fpn_output4.bias\u001b[0m\n",
      "  \u001b[35mbackbone.fpn_lateral5.bias\u001b[0m\n",
      "  \u001b[35mbackbone.fpn_output5.bias\u001b[0m\n",
      " 87%|█████████████████████████████████▊     | 857/987 [1:08:37<10:05,  4.66s/it]"
     ]
    },
    {
     "name": "stdout",
     "output_type": "stream",
     "text": [
      "02_03_1936_00000001\n",
      "Pages/02_03_1936_00000001.tif.large.jpg\n"
     ]
    },
    {
     "name": "stderr",
     "output_type": "stream",
     "text": [
      "The checkpoint state_dict contains keys that are not used by the model:\n",
      "  \u001b[35mbackbone.fpn_lateral2.bias\u001b[0m\n",
      "  \u001b[35mbackbone.fpn_output2.bias\u001b[0m\n",
      "  \u001b[35mbackbone.fpn_lateral3.bias\u001b[0m\n",
      "  \u001b[35mbackbone.fpn_output3.bias\u001b[0m\n",
      "  \u001b[35mbackbone.fpn_lateral4.bias\u001b[0m\n",
      "  \u001b[35mbackbone.fpn_output4.bias\u001b[0m\n",
      "  \u001b[35mbackbone.fpn_lateral5.bias\u001b[0m\n",
      "  \u001b[35mbackbone.fpn_output5.bias\u001b[0m\n",
      " 87%|█████████████████████████████████▉     | 858/987 [1:08:42<10:00,  4.65s/it]"
     ]
    },
    {
     "name": "stdout",
     "output_type": "stream",
     "text": [
      "12_03_1936_00000005\n",
      "Pages/12_03_1936_00000005.tif.large.jpg\n"
     ]
    },
    {
     "name": "stderr",
     "output_type": "stream",
     "text": [
      "The checkpoint state_dict contains keys that are not used by the model:\n",
      "  \u001b[35mbackbone.fpn_lateral2.bias\u001b[0m\n",
      "  \u001b[35mbackbone.fpn_output2.bias\u001b[0m\n",
      "  \u001b[35mbackbone.fpn_lateral3.bias\u001b[0m\n",
      "  \u001b[35mbackbone.fpn_output3.bias\u001b[0m\n",
      "  \u001b[35mbackbone.fpn_lateral4.bias\u001b[0m\n",
      "  \u001b[35mbackbone.fpn_output4.bias\u001b[0m\n",
      "  \u001b[35mbackbone.fpn_lateral5.bias\u001b[0m\n",
      "  \u001b[35mbackbone.fpn_output5.bias\u001b[0m\n",
      " 87%|█████████████████████████████████▉     | 859/987 [1:08:46<09:57,  4.67s/it]"
     ]
    },
    {
     "name": "stdout",
     "output_type": "stream",
     "text": [
      "04_01_1936_00000009\n",
      "Pages/04_01_1936_00000009.tif.large.jpg\n"
     ]
    },
    {
     "name": "stderr",
     "output_type": "stream",
     "text": [
      "The checkpoint state_dict contains keys that are not used by the model:\n",
      "  \u001b[35mbackbone.fpn_lateral2.bias\u001b[0m\n",
      "  \u001b[35mbackbone.fpn_output2.bias\u001b[0m\n",
      "  \u001b[35mbackbone.fpn_lateral3.bias\u001b[0m\n",
      "  \u001b[35mbackbone.fpn_output3.bias\u001b[0m\n",
      "  \u001b[35mbackbone.fpn_lateral4.bias\u001b[0m\n",
      "  \u001b[35mbackbone.fpn_output4.bias\u001b[0m\n",
      "  \u001b[35mbackbone.fpn_lateral5.bias\u001b[0m\n",
      "  \u001b[35mbackbone.fpn_output5.bias\u001b[0m\n",
      " 87%|█████████████████████████████████▉     | 860/987 [1:08:51<09:52,  4.66s/it]"
     ]
    },
    {
     "name": "stdout",
     "output_type": "stream",
     "text": [
      "29_11_1936_00000037\n",
      "Pages/29_11_1936_00000037.tif.large.jpg\n"
     ]
    },
    {
     "name": "stderr",
     "output_type": "stream",
     "text": [
      "The checkpoint state_dict contains keys that are not used by the model:\n",
      "  \u001b[35mbackbone.fpn_lateral2.bias\u001b[0m\n",
      "  \u001b[35mbackbone.fpn_output2.bias\u001b[0m\n",
      "  \u001b[35mbackbone.fpn_lateral3.bias\u001b[0m\n",
      "  \u001b[35mbackbone.fpn_output3.bias\u001b[0m\n",
      "  \u001b[35mbackbone.fpn_lateral4.bias\u001b[0m\n",
      "  \u001b[35mbackbone.fpn_output4.bias\u001b[0m\n",
      "  \u001b[35mbackbone.fpn_lateral5.bias\u001b[0m\n",
      "  \u001b[35mbackbone.fpn_output5.bias\u001b[0m\n",
      " 87%|██████████████████████████████████     | 861/987 [1:08:56<09:42,  4.63s/it]"
     ]
    },
    {
     "name": "stdout",
     "output_type": "stream",
     "text": [
      "29_09_1936_00000008\n",
      "Pages/29_09_1936_00000008.tif.large.jpg\n"
     ]
    },
    {
     "name": "stderr",
     "output_type": "stream",
     "text": [
      "The checkpoint state_dict contains keys that are not used by the model:\n",
      "  \u001b[35mbackbone.fpn_lateral2.bias\u001b[0m\n",
      "  \u001b[35mbackbone.fpn_output2.bias\u001b[0m\n",
      "  \u001b[35mbackbone.fpn_lateral3.bias\u001b[0m\n",
      "  \u001b[35mbackbone.fpn_output3.bias\u001b[0m\n",
      "  \u001b[35mbackbone.fpn_lateral4.bias\u001b[0m\n",
      "  \u001b[35mbackbone.fpn_output4.bias\u001b[0m\n",
      "  \u001b[35mbackbone.fpn_lateral5.bias\u001b[0m\n",
      "  \u001b[35mbackbone.fpn_output5.bias\u001b[0m\n",
      " 87%|██████████████████████████████████     | 862/987 [1:09:00<09:33,  4.59s/it]"
     ]
    },
    {
     "name": "stdout",
     "output_type": "stream",
     "text": [
      "24_07_1936_00000008\n",
      "Pages/24_07_1936_00000008.tif.large.jpg\n"
     ]
    },
    {
     "name": "stderr",
     "output_type": "stream",
     "text": [
      "The checkpoint state_dict contains keys that are not used by the model:\n",
      "  \u001b[35mbackbone.fpn_lateral2.bias\u001b[0m\n",
      "  \u001b[35mbackbone.fpn_output2.bias\u001b[0m\n",
      "  \u001b[35mbackbone.fpn_lateral3.bias\u001b[0m\n",
      "  \u001b[35mbackbone.fpn_output3.bias\u001b[0m\n",
      "  \u001b[35mbackbone.fpn_lateral4.bias\u001b[0m\n",
      "  \u001b[35mbackbone.fpn_output4.bias\u001b[0m\n",
      "  \u001b[35mbackbone.fpn_lateral5.bias\u001b[0m\n",
      "  \u001b[35mbackbone.fpn_output5.bias\u001b[0m\n",
      " 87%|██████████████████████████████████     | 863/987 [1:09:05<09:26,  4.57s/it]"
     ]
    },
    {
     "name": "stdout",
     "output_type": "stream",
     "text": [
      "09_02_1936_00000001\n",
      "Pages/09_02_1936_00000001.tif.large.jpg\n"
     ]
    },
    {
     "name": "stderr",
     "output_type": "stream",
     "text": [
      "The checkpoint state_dict contains keys that are not used by the model:\n",
      "  \u001b[35mbackbone.fpn_lateral2.bias\u001b[0m\n",
      "  \u001b[35mbackbone.fpn_output2.bias\u001b[0m\n",
      "  \u001b[35mbackbone.fpn_lateral3.bias\u001b[0m\n",
      "  \u001b[35mbackbone.fpn_output3.bias\u001b[0m\n",
      "  \u001b[35mbackbone.fpn_lateral4.bias\u001b[0m\n",
      "  \u001b[35mbackbone.fpn_output4.bias\u001b[0m\n",
      "  \u001b[35mbackbone.fpn_lateral5.bias\u001b[0m\n",
      "  \u001b[35mbackbone.fpn_output5.bias\u001b[0m\n",
      " 88%|██████████████████████████████████▏    | 864/987 [1:09:09<09:22,  4.57s/it]"
     ]
    },
    {
     "name": "stdout",
     "output_type": "stream",
     "text": [
      "04_04_1936_00000006\n",
      "Pages/04_04_1936_00000006.tif.large.jpg\n"
     ]
    },
    {
     "name": "stderr",
     "output_type": "stream",
     "text": [
      "The checkpoint state_dict contains keys that are not used by the model:\n",
      "  \u001b[35mbackbone.fpn_lateral2.bias\u001b[0m\n",
      "  \u001b[35mbackbone.fpn_output2.bias\u001b[0m\n",
      "  \u001b[35mbackbone.fpn_lateral3.bias\u001b[0m\n",
      "  \u001b[35mbackbone.fpn_output3.bias\u001b[0m\n",
      "  \u001b[35mbackbone.fpn_lateral4.bias\u001b[0m\n",
      "  \u001b[35mbackbone.fpn_output4.bias\u001b[0m\n",
      "  \u001b[35mbackbone.fpn_lateral5.bias\u001b[0m\n",
      "  \u001b[35mbackbone.fpn_output5.bias\u001b[0m\n",
      " 88%|██████████████████████████████████▏    | 865/987 [1:09:14<09:21,  4.60s/it]"
     ]
    },
    {
     "name": "stdout",
     "output_type": "stream",
     "text": [
      "27_03_1936_00000017\n",
      "Pages/27_03_1936_00000017.tif.large.jpg\n"
     ]
    },
    {
     "name": "stderr",
     "output_type": "stream",
     "text": [
      "The checkpoint state_dict contains keys that are not used by the model:\n",
      "  \u001b[35mbackbone.fpn_lateral2.bias\u001b[0m\n",
      "  \u001b[35mbackbone.fpn_output2.bias\u001b[0m\n",
      "  \u001b[35mbackbone.fpn_lateral3.bias\u001b[0m\n",
      "  \u001b[35mbackbone.fpn_output3.bias\u001b[0m\n",
      "  \u001b[35mbackbone.fpn_lateral4.bias\u001b[0m\n",
      "  \u001b[35mbackbone.fpn_output4.bias\u001b[0m\n",
      "  \u001b[35mbackbone.fpn_lateral5.bias\u001b[0m\n",
      "  \u001b[35mbackbone.fpn_output5.bias\u001b[0m\n",
      " 88%|██████████████████████████████████▏    | 866/987 [1:09:18<09:11,  4.56s/it]"
     ]
    },
    {
     "name": "stdout",
     "output_type": "stream",
     "text": [
      "28_10_1936_00000008\n",
      "Pages/28_10_1936_00000008.tif.large.jpg\n"
     ]
    },
    {
     "name": "stderr",
     "output_type": "stream",
     "text": [
      "The checkpoint state_dict contains keys that are not used by the model:\n",
      "  \u001b[35mbackbone.fpn_lateral2.bias\u001b[0m\n",
      "  \u001b[35mbackbone.fpn_output2.bias\u001b[0m\n",
      "  \u001b[35mbackbone.fpn_lateral3.bias\u001b[0m\n",
      "  \u001b[35mbackbone.fpn_output3.bias\u001b[0m\n",
      "  \u001b[35mbackbone.fpn_lateral4.bias\u001b[0m\n",
      "  \u001b[35mbackbone.fpn_output4.bias\u001b[0m\n",
      "  \u001b[35mbackbone.fpn_lateral5.bias\u001b[0m\n",
      "  \u001b[35mbackbone.fpn_output5.bias\u001b[0m\n",
      " 88%|██████████████████████████████████▎    | 867/987 [1:09:23<09:13,  4.61s/it]"
     ]
    },
    {
     "name": "stdout",
     "output_type": "stream",
     "text": [
      "06_09_1936_00000015\n",
      "Pages/06_09_1936_00000015.tif.large.jpg\n"
     ]
    },
    {
     "name": "stderr",
     "output_type": "stream",
     "text": [
      "The checkpoint state_dict contains keys that are not used by the model:\n",
      "  \u001b[35mbackbone.fpn_lateral2.bias\u001b[0m\n",
      "  \u001b[35mbackbone.fpn_output2.bias\u001b[0m\n",
      "  \u001b[35mbackbone.fpn_lateral3.bias\u001b[0m\n",
      "  \u001b[35mbackbone.fpn_output3.bias\u001b[0m\n",
      "  \u001b[35mbackbone.fpn_lateral4.bias\u001b[0m\n",
      "  \u001b[35mbackbone.fpn_output4.bias\u001b[0m\n",
      "  \u001b[35mbackbone.fpn_lateral5.bias\u001b[0m\n",
      "  \u001b[35mbackbone.fpn_output5.bias\u001b[0m\n",
      " 88%|██████████████████████████████████▎    | 868/987 [1:09:28<09:06,  4.59s/it]"
     ]
    },
    {
     "name": "stdout",
     "output_type": "stream",
     "text": [
      "10_04_1936_00000006\n",
      "Pages/10_04_1936_00000006.tif.large.jpg\n"
     ]
    },
    {
     "name": "stderr",
     "output_type": "stream",
     "text": [
      "The checkpoint state_dict contains keys that are not used by the model:\n",
      "  \u001b[35mbackbone.fpn_lateral2.bias\u001b[0m\n",
      "  \u001b[35mbackbone.fpn_output2.bias\u001b[0m\n",
      "  \u001b[35mbackbone.fpn_lateral3.bias\u001b[0m\n",
      "  \u001b[35mbackbone.fpn_output3.bias\u001b[0m\n",
      "  \u001b[35mbackbone.fpn_lateral4.bias\u001b[0m\n",
      "  \u001b[35mbackbone.fpn_output4.bias\u001b[0m\n",
      "  \u001b[35mbackbone.fpn_lateral5.bias\u001b[0m\n",
      "  \u001b[35mbackbone.fpn_output5.bias\u001b[0m\n",
      " 88%|██████████████████████████████████▎    | 869/987 [1:09:32<09:04,  4.62s/it]"
     ]
    },
    {
     "name": "stdout",
     "output_type": "stream",
     "text": [
      "23_11_1936_00000016\n",
      "Pages/23_11_1936_00000016.tif.large.jpg\n"
     ]
    },
    {
     "name": "stderr",
     "output_type": "stream",
     "text": [
      "The checkpoint state_dict contains keys that are not used by the model:\n",
      "  \u001b[35mbackbone.fpn_lateral2.bias\u001b[0m\n",
      "  \u001b[35mbackbone.fpn_output2.bias\u001b[0m\n",
      "  \u001b[35mbackbone.fpn_lateral3.bias\u001b[0m\n",
      "  \u001b[35mbackbone.fpn_output3.bias\u001b[0m\n",
      "  \u001b[35mbackbone.fpn_lateral4.bias\u001b[0m\n",
      "  \u001b[35mbackbone.fpn_output4.bias\u001b[0m\n",
      "  \u001b[35mbackbone.fpn_lateral5.bias\u001b[0m\n",
      "  \u001b[35mbackbone.fpn_output5.bias\u001b[0m\n",
      " 88%|██████████████████████████████████▍    | 870/987 [1:09:37<09:01,  4.63s/it]"
     ]
    },
    {
     "name": "stdout",
     "output_type": "stream",
     "text": [
      "11_10_1936_00000007\n",
      "Pages/11_10_1936_00000007.tif.large.jpg\n"
     ]
    },
    {
     "name": "stderr",
     "output_type": "stream",
     "text": [
      "The checkpoint state_dict contains keys that are not used by the model:\n",
      "  \u001b[35mbackbone.fpn_lateral2.bias\u001b[0m\n",
      "  \u001b[35mbackbone.fpn_output2.bias\u001b[0m\n",
      "  \u001b[35mbackbone.fpn_lateral3.bias\u001b[0m\n",
      "  \u001b[35mbackbone.fpn_output3.bias\u001b[0m\n",
      "  \u001b[35mbackbone.fpn_lateral4.bias\u001b[0m\n",
      "  \u001b[35mbackbone.fpn_output4.bias\u001b[0m\n",
      "  \u001b[35mbackbone.fpn_lateral5.bias\u001b[0m\n",
      "  \u001b[35mbackbone.fpn_output5.bias\u001b[0m\n",
      " 88%|██████████████████████████████████▍    | 871/987 [1:09:42<08:57,  4.63s/it]"
     ]
    },
    {
     "name": "stdout",
     "output_type": "stream",
     "text": [
      "15_12_1936_00000002\n",
      "Pages/15_12_1936_00000002.tif.large.jpg\n"
     ]
    },
    {
     "name": "stderr",
     "output_type": "stream",
     "text": [
      "The checkpoint state_dict contains keys that are not used by the model:\n",
      "  \u001b[35mbackbone.fpn_lateral2.bias\u001b[0m\n",
      "  \u001b[35mbackbone.fpn_output2.bias\u001b[0m\n",
      "  \u001b[35mbackbone.fpn_lateral3.bias\u001b[0m\n",
      "  \u001b[35mbackbone.fpn_output3.bias\u001b[0m\n",
      "  \u001b[35mbackbone.fpn_lateral4.bias\u001b[0m\n",
      "  \u001b[35mbackbone.fpn_output4.bias\u001b[0m\n",
      "  \u001b[35mbackbone.fpn_lateral5.bias\u001b[0m\n",
      "  \u001b[35mbackbone.fpn_output5.bias\u001b[0m\n",
      " 88%|██████████████████████████████████▍    | 872/987 [1:09:46<08:50,  4.61s/it]"
     ]
    },
    {
     "name": "stdout",
     "output_type": "stream",
     "text": [
      "22_03_1936_00000007\n",
      "Pages/22_03_1936_00000007.tif.large.jpg\n"
     ]
    },
    {
     "name": "stderr",
     "output_type": "stream",
     "text": [
      "The checkpoint state_dict contains keys that are not used by the model:\n",
      "  \u001b[35mbackbone.fpn_lateral2.bias\u001b[0m\n",
      "  \u001b[35mbackbone.fpn_output2.bias\u001b[0m\n",
      "  \u001b[35mbackbone.fpn_lateral3.bias\u001b[0m\n",
      "  \u001b[35mbackbone.fpn_output3.bias\u001b[0m\n",
      "  \u001b[35mbackbone.fpn_lateral4.bias\u001b[0m\n",
      "  \u001b[35mbackbone.fpn_output4.bias\u001b[0m\n",
      "  \u001b[35mbackbone.fpn_lateral5.bias\u001b[0m\n",
      "  \u001b[35mbackbone.fpn_output5.bias\u001b[0m\n",
      " 88%|██████████████████████████████████▍    | 873/987 [1:09:51<08:39,  4.55s/it]"
     ]
    },
    {
     "name": "stdout",
     "output_type": "stream",
     "text": [
      "05_01_1936_00000006\n",
      "Pages/05_01_1936_00000006.tif.large.jpg\n"
     ]
    },
    {
     "name": "stderr",
     "output_type": "stream",
     "text": [
      "The checkpoint state_dict contains keys that are not used by the model:\n",
      "  \u001b[35mbackbone.fpn_lateral2.bias\u001b[0m\n",
      "  \u001b[35mbackbone.fpn_output2.bias\u001b[0m\n",
      "  \u001b[35mbackbone.fpn_lateral3.bias\u001b[0m\n",
      "  \u001b[35mbackbone.fpn_output3.bias\u001b[0m\n",
      "  \u001b[35mbackbone.fpn_lateral4.bias\u001b[0m\n",
      "  \u001b[35mbackbone.fpn_output4.bias\u001b[0m\n",
      "  \u001b[35mbackbone.fpn_lateral5.bias\u001b[0m\n",
      "  \u001b[35mbackbone.fpn_output5.bias\u001b[0m\n",
      " 89%|██████████████████████████████████▌    | 874/987 [1:09:55<08:41,  4.61s/it]"
     ]
    },
    {
     "name": "stdout",
     "output_type": "stream",
     "text": [
      "10_09_1936_00000008\n",
      "Pages/10_09_1936_00000008.tif.large.jpg\n"
     ]
    },
    {
     "name": "stderr",
     "output_type": "stream",
     "text": [
      "The checkpoint state_dict contains keys that are not used by the model:\n",
      "  \u001b[35mbackbone.fpn_lateral2.bias\u001b[0m\n",
      "  \u001b[35mbackbone.fpn_output2.bias\u001b[0m\n",
      "  \u001b[35mbackbone.fpn_lateral3.bias\u001b[0m\n",
      "  \u001b[35mbackbone.fpn_output3.bias\u001b[0m\n",
      "  \u001b[35mbackbone.fpn_lateral4.bias\u001b[0m\n",
      "  \u001b[35mbackbone.fpn_output4.bias\u001b[0m\n",
      "  \u001b[35mbackbone.fpn_lateral5.bias\u001b[0m\n",
      "  \u001b[35mbackbone.fpn_output5.bias\u001b[0m\n",
      " 89%|██████████████████████████████████▌    | 875/987 [1:10:00<08:34,  4.59s/it]"
     ]
    },
    {
     "name": "stdout",
     "output_type": "stream",
     "text": [
      "19_04_1936_00000005\n",
      "Pages/19_04_1936_00000005.tif.large.jpg\n"
     ]
    },
    {
     "name": "stderr",
     "output_type": "stream",
     "text": [
      "The checkpoint state_dict contains keys that are not used by the model:\n",
      "  \u001b[35mbackbone.fpn_lateral2.bias\u001b[0m\n",
      "  \u001b[35mbackbone.fpn_output2.bias\u001b[0m\n",
      "  \u001b[35mbackbone.fpn_lateral3.bias\u001b[0m\n",
      "  \u001b[35mbackbone.fpn_output3.bias\u001b[0m\n",
      "  \u001b[35mbackbone.fpn_lateral4.bias\u001b[0m\n",
      "  \u001b[35mbackbone.fpn_output4.bias\u001b[0m\n",
      "  \u001b[35mbackbone.fpn_lateral5.bias\u001b[0m\n",
      "  \u001b[35mbackbone.fpn_output5.bias\u001b[0m\n",
      " 89%|██████████████████████████████████▌    | 876/987 [1:10:04<08:28,  4.58s/it]"
     ]
    },
    {
     "name": "stdout",
     "output_type": "stream",
     "text": [
      "18_04_1936_00000005\n",
      "Pages/18_04_1936_00000005.tif.large.jpg\n"
     ]
    },
    {
     "name": "stderr",
     "output_type": "stream",
     "text": [
      "The checkpoint state_dict contains keys that are not used by the model:\n",
      "  \u001b[35mbackbone.fpn_lateral2.bias\u001b[0m\n",
      "  \u001b[35mbackbone.fpn_output2.bias\u001b[0m\n",
      "  \u001b[35mbackbone.fpn_lateral3.bias\u001b[0m\n",
      "  \u001b[35mbackbone.fpn_output3.bias\u001b[0m\n",
      "  \u001b[35mbackbone.fpn_lateral4.bias\u001b[0m\n",
      "  \u001b[35mbackbone.fpn_output4.bias\u001b[0m\n",
      "  \u001b[35mbackbone.fpn_lateral5.bias\u001b[0m\n",
      "  \u001b[35mbackbone.fpn_output5.bias\u001b[0m\n",
      " 89%|██████████████████████████████████▋    | 877/987 [1:10:09<08:34,  4.67s/it]"
     ]
    },
    {
     "name": "stdout",
     "output_type": "stream",
     "text": [
      "05_12_1936_00000009\n",
      "Pages/05_12_1936_00000009.tif.large.jpg\n"
     ]
    },
    {
     "name": "stderr",
     "output_type": "stream",
     "text": [
      "The checkpoint state_dict contains keys that are not used by the model:\n",
      "  \u001b[35mbackbone.fpn_lateral2.bias\u001b[0m\n",
      "  \u001b[35mbackbone.fpn_output2.bias\u001b[0m\n",
      "  \u001b[35mbackbone.fpn_lateral3.bias\u001b[0m\n",
      "  \u001b[35mbackbone.fpn_output3.bias\u001b[0m\n",
      "  \u001b[35mbackbone.fpn_lateral4.bias\u001b[0m\n",
      "  \u001b[35mbackbone.fpn_output4.bias\u001b[0m\n",
      "  \u001b[35mbackbone.fpn_lateral5.bias\u001b[0m\n",
      "  \u001b[35mbackbone.fpn_output5.bias\u001b[0m\n",
      " 89%|██████████████████████████████████▋    | 878/987 [1:10:14<08:27,  4.66s/it]"
     ]
    },
    {
     "name": "stdout",
     "output_type": "stream",
     "text": [
      "31_10_1936_00000005\n",
      "Pages/31_10_1936_00000005.tif.large.jpg\n"
     ]
    },
    {
     "name": "stderr",
     "output_type": "stream",
     "text": [
      "The checkpoint state_dict contains keys that are not used by the model:\n",
      "  \u001b[35mbackbone.fpn_lateral2.bias\u001b[0m\n",
      "  \u001b[35mbackbone.fpn_output2.bias\u001b[0m\n",
      "  \u001b[35mbackbone.fpn_lateral3.bias\u001b[0m\n",
      "  \u001b[35mbackbone.fpn_output3.bias\u001b[0m\n",
      "  \u001b[35mbackbone.fpn_lateral4.bias\u001b[0m\n",
      "  \u001b[35mbackbone.fpn_output4.bias\u001b[0m\n",
      "  \u001b[35mbackbone.fpn_lateral5.bias\u001b[0m\n",
      "  \u001b[35mbackbone.fpn_output5.bias\u001b[0m\n",
      " 89%|██████████████████████████████████▋    | 879/987 [1:10:19<08:20,  4.64s/it]"
     ]
    },
    {
     "name": "stdout",
     "output_type": "stream",
     "text": [
      "20_09_1936_00000008\n",
      "Pages/20_09_1936_00000008.tif.large.jpg\n"
     ]
    },
    {
     "name": "stderr",
     "output_type": "stream",
     "text": [
      "The checkpoint state_dict contains keys that are not used by the model:\n",
      "  \u001b[35mbackbone.fpn_lateral2.bias\u001b[0m\n",
      "  \u001b[35mbackbone.fpn_output2.bias\u001b[0m\n",
      "  \u001b[35mbackbone.fpn_lateral3.bias\u001b[0m\n",
      "  \u001b[35mbackbone.fpn_output3.bias\u001b[0m\n",
      "  \u001b[35mbackbone.fpn_lateral4.bias\u001b[0m\n",
      "  \u001b[35mbackbone.fpn_output4.bias\u001b[0m\n",
      "  \u001b[35mbackbone.fpn_lateral5.bias\u001b[0m\n",
      "  \u001b[35mbackbone.fpn_output5.bias\u001b[0m\n",
      " 89%|██████████████████████████████████▊    | 880/987 [1:10:23<08:14,  4.62s/it]"
     ]
    },
    {
     "name": "stdout",
     "output_type": "stream",
     "text": [
      "23_01_1936_00000008\n",
      "Pages/23_01_1936_00000008.tif.large.jpg\n"
     ]
    },
    {
     "name": "stderr",
     "output_type": "stream",
     "text": [
      "The checkpoint state_dict contains keys that are not used by the model:\n",
      "  \u001b[35mbackbone.fpn_lateral2.bias\u001b[0m\n",
      "  \u001b[35mbackbone.fpn_output2.bias\u001b[0m\n",
      "  \u001b[35mbackbone.fpn_lateral3.bias\u001b[0m\n",
      "  \u001b[35mbackbone.fpn_output3.bias\u001b[0m\n",
      "  \u001b[35mbackbone.fpn_lateral4.bias\u001b[0m\n",
      "  \u001b[35mbackbone.fpn_output4.bias\u001b[0m\n",
      "  \u001b[35mbackbone.fpn_lateral5.bias\u001b[0m\n",
      "  \u001b[35mbackbone.fpn_output5.bias\u001b[0m\n",
      " 89%|██████████████████████████████████▊    | 881/987 [1:10:28<08:11,  4.64s/it]"
     ]
    },
    {
     "name": "stdout",
     "output_type": "stream",
     "text": [
      "04_04_1936_00000004\n",
      "Pages/04_04_1936_00000004.tif.large.jpg\n"
     ]
    },
    {
     "name": "stderr",
     "output_type": "stream",
     "text": [
      "The checkpoint state_dict contains keys that are not used by the model:\n",
      "  \u001b[35mbackbone.fpn_lateral2.bias\u001b[0m\n",
      "  \u001b[35mbackbone.fpn_output2.bias\u001b[0m\n",
      "  \u001b[35mbackbone.fpn_lateral3.bias\u001b[0m\n",
      "  \u001b[35mbackbone.fpn_output3.bias\u001b[0m\n",
      "  \u001b[35mbackbone.fpn_lateral4.bias\u001b[0m\n",
      "  \u001b[35mbackbone.fpn_output4.bias\u001b[0m\n",
      "  \u001b[35mbackbone.fpn_lateral5.bias\u001b[0m\n",
      "  \u001b[35mbackbone.fpn_output5.bias\u001b[0m\n",
      " 89%|██████████████████████████████████▊    | 882/987 [1:10:32<08:02,  4.60s/it]"
     ]
    },
    {
     "name": "stdout",
     "output_type": "stream",
     "text": [
      "17_01_1936_00000006\n",
      "Pages/17_01_1936_00000006.tif.large.jpg\n"
     ]
    },
    {
     "name": "stderr",
     "output_type": "stream",
     "text": [
      "The checkpoint state_dict contains keys that are not used by the model:\n",
      "  \u001b[35mbackbone.fpn_lateral2.bias\u001b[0m\n",
      "  \u001b[35mbackbone.fpn_output2.bias\u001b[0m\n",
      "  \u001b[35mbackbone.fpn_lateral3.bias\u001b[0m\n",
      "  \u001b[35mbackbone.fpn_output3.bias\u001b[0m\n",
      "  \u001b[35mbackbone.fpn_lateral4.bias\u001b[0m\n",
      "  \u001b[35mbackbone.fpn_output4.bias\u001b[0m\n",
      "  \u001b[35mbackbone.fpn_lateral5.bias\u001b[0m\n",
      "  \u001b[35mbackbone.fpn_output5.bias\u001b[0m\n",
      " 89%|██████████████████████████████████▉    | 883/987 [1:10:37<08:01,  4.63s/it]"
     ]
    },
    {
     "name": "stdout",
     "output_type": "stream",
     "text": [
      "12_08_1936_00000003\n",
      "Pages/12_08_1936_00000003.tif.large.jpg\n"
     ]
    },
    {
     "name": "stderr",
     "output_type": "stream",
     "text": [
      "The checkpoint state_dict contains keys that are not used by the model:\n",
      "  \u001b[35mbackbone.fpn_lateral2.bias\u001b[0m\n",
      "  \u001b[35mbackbone.fpn_output2.bias\u001b[0m\n",
      "  \u001b[35mbackbone.fpn_lateral3.bias\u001b[0m\n",
      "  \u001b[35mbackbone.fpn_output3.bias\u001b[0m\n",
      "  \u001b[35mbackbone.fpn_lateral4.bias\u001b[0m\n",
      "  \u001b[35mbackbone.fpn_output4.bias\u001b[0m\n",
      "  \u001b[35mbackbone.fpn_lateral5.bias\u001b[0m\n",
      "  \u001b[35mbackbone.fpn_output5.bias\u001b[0m\n",
      " 90%|██████████████████████████████████▉    | 884/987 [1:10:42<07:56,  4.63s/it]"
     ]
    },
    {
     "name": "stdout",
     "output_type": "stream",
     "text": [
      "24_08_1936_00000005\n",
      "Pages/24_08_1936_00000005.tif.large.jpg\n"
     ]
    },
    {
     "name": "stderr",
     "output_type": "stream",
     "text": [
      "The checkpoint state_dict contains keys that are not used by the model:\n",
      "  \u001b[35mbackbone.fpn_lateral2.bias\u001b[0m\n",
      "  \u001b[35mbackbone.fpn_output2.bias\u001b[0m\n",
      "  \u001b[35mbackbone.fpn_lateral3.bias\u001b[0m\n",
      "  \u001b[35mbackbone.fpn_output3.bias\u001b[0m\n",
      "  \u001b[35mbackbone.fpn_lateral4.bias\u001b[0m\n",
      "  \u001b[35mbackbone.fpn_output4.bias\u001b[0m\n",
      "  \u001b[35mbackbone.fpn_lateral5.bias\u001b[0m\n",
      "  \u001b[35mbackbone.fpn_output5.bias\u001b[0m\n",
      " 90%|██████████████████████████████████▉    | 885/987 [1:10:46<07:53,  4.64s/it]"
     ]
    },
    {
     "name": "stdout",
     "output_type": "stream",
     "text": [
      "12_04_1936_00000044\n",
      "Pages/12_04_1936_00000044.tif.large.jpg\n"
     ]
    },
    {
     "name": "stderr",
     "output_type": "stream",
     "text": [
      "The checkpoint state_dict contains keys that are not used by the model:\n",
      "  \u001b[35mbackbone.fpn_lateral2.bias\u001b[0m\n",
      "  \u001b[35mbackbone.fpn_output2.bias\u001b[0m\n",
      "  \u001b[35mbackbone.fpn_lateral3.bias\u001b[0m\n",
      "  \u001b[35mbackbone.fpn_output3.bias\u001b[0m\n",
      "  \u001b[35mbackbone.fpn_lateral4.bias\u001b[0m\n",
      "  \u001b[35mbackbone.fpn_output4.bias\u001b[0m\n",
      "  \u001b[35mbackbone.fpn_lateral5.bias\u001b[0m\n",
      "  \u001b[35mbackbone.fpn_output5.bias\u001b[0m\n",
      " 90%|███████████████████████████████████    | 886/987 [1:10:51<07:44,  4.60s/it]"
     ]
    },
    {
     "name": "stdout",
     "output_type": "stream",
     "text": [
      "17_09_1936_00000002\n",
      "Pages/17_09_1936_00000002.tif.large.jpg\n"
     ]
    },
    {
     "name": "stderr",
     "output_type": "stream",
     "text": [
      "The checkpoint state_dict contains keys that are not used by the model:\n",
      "  \u001b[35mbackbone.fpn_lateral2.bias\u001b[0m\n",
      "  \u001b[35mbackbone.fpn_output2.bias\u001b[0m\n",
      "  \u001b[35mbackbone.fpn_lateral3.bias\u001b[0m\n",
      "  \u001b[35mbackbone.fpn_output3.bias\u001b[0m\n",
      "  \u001b[35mbackbone.fpn_lateral4.bias\u001b[0m\n",
      "  \u001b[35mbackbone.fpn_output4.bias\u001b[0m\n",
      "  \u001b[35mbackbone.fpn_lateral5.bias\u001b[0m\n",
      "  \u001b[35mbackbone.fpn_output5.bias\u001b[0m\n",
      " 90%|███████████████████████████████████    | 887/987 [1:10:55<07:39,  4.59s/it]"
     ]
    },
    {
     "name": "stdout",
     "output_type": "stream",
     "text": [
      "02_10_1936_00000011\n",
      "Pages/02_10_1936_00000011.tif.large.jpg\n"
     ]
    },
    {
     "name": "stderr",
     "output_type": "stream",
     "text": [
      "The checkpoint state_dict contains keys that are not used by the model:\n",
      "  \u001b[35mbackbone.fpn_lateral2.bias\u001b[0m\n",
      "  \u001b[35mbackbone.fpn_output2.bias\u001b[0m\n",
      "  \u001b[35mbackbone.fpn_lateral3.bias\u001b[0m\n",
      "  \u001b[35mbackbone.fpn_output3.bias\u001b[0m\n",
      "  \u001b[35mbackbone.fpn_lateral4.bias\u001b[0m\n",
      "  \u001b[35mbackbone.fpn_output4.bias\u001b[0m\n",
      "  \u001b[35mbackbone.fpn_lateral5.bias\u001b[0m\n",
      "  \u001b[35mbackbone.fpn_output5.bias\u001b[0m\n",
      " 90%|███████████████████████████████████    | 888/987 [1:11:00<07:30,  4.55s/it]"
     ]
    },
    {
     "name": "stdout",
     "output_type": "stream",
     "text": [
      "23_01_1936_00000006\n",
      "Pages/23_01_1936_00000006.tif.large.jpg\n"
     ]
    },
    {
     "name": "stderr",
     "output_type": "stream",
     "text": [
      "The checkpoint state_dict contains keys that are not used by the model:\n",
      "  \u001b[35mbackbone.fpn_lateral2.bias\u001b[0m\n",
      "  \u001b[35mbackbone.fpn_output2.bias\u001b[0m\n",
      "  \u001b[35mbackbone.fpn_lateral3.bias\u001b[0m\n",
      "  \u001b[35mbackbone.fpn_output3.bias\u001b[0m\n",
      "  \u001b[35mbackbone.fpn_lateral4.bias\u001b[0m\n",
      "  \u001b[35mbackbone.fpn_output4.bias\u001b[0m\n",
      "  \u001b[35mbackbone.fpn_lateral5.bias\u001b[0m\n",
      "  \u001b[35mbackbone.fpn_output5.bias\u001b[0m\n",
      " 90%|███████████████████████████████████▏   | 889/987 [1:11:04<07:25,  4.55s/it]"
     ]
    },
    {
     "name": "stdout",
     "output_type": "stream",
     "text": [
      "29_09_1936_00000007\n",
      "Pages/29_09_1936_00000007.tif.large.jpg\n"
     ]
    },
    {
     "name": "stderr",
     "output_type": "stream",
     "text": [
      "The checkpoint state_dict contains keys that are not used by the model:\n",
      "  \u001b[35mbackbone.fpn_lateral2.bias\u001b[0m\n",
      "  \u001b[35mbackbone.fpn_output2.bias\u001b[0m\n",
      "  \u001b[35mbackbone.fpn_lateral3.bias\u001b[0m\n",
      "  \u001b[35mbackbone.fpn_output3.bias\u001b[0m\n",
      "  \u001b[35mbackbone.fpn_lateral4.bias\u001b[0m\n",
      "  \u001b[35mbackbone.fpn_output4.bias\u001b[0m\n",
      "  \u001b[35mbackbone.fpn_lateral5.bias\u001b[0m\n",
      "  \u001b[35mbackbone.fpn_output5.bias\u001b[0m\n",
      " 90%|███████████████████████████████████▏   | 890/987 [1:11:09<07:18,  4.52s/it]"
     ]
    },
    {
     "name": "stdout",
     "output_type": "stream",
     "text": [
      "24_07_1936_00000010\n",
      "Pages/24_07_1936_00000010.tif.large.jpg\n"
     ]
    },
    {
     "name": "stderr",
     "output_type": "stream",
     "text": [
      "The checkpoint state_dict contains keys that are not used by the model:\n",
      "  \u001b[35mbackbone.fpn_lateral2.bias\u001b[0m\n",
      "  \u001b[35mbackbone.fpn_output2.bias\u001b[0m\n",
      "  \u001b[35mbackbone.fpn_lateral3.bias\u001b[0m\n",
      "  \u001b[35mbackbone.fpn_output3.bias\u001b[0m\n",
      "  \u001b[35mbackbone.fpn_lateral4.bias\u001b[0m\n",
      "  \u001b[35mbackbone.fpn_output4.bias\u001b[0m\n",
      "  \u001b[35mbackbone.fpn_lateral5.bias\u001b[0m\n",
      "  \u001b[35mbackbone.fpn_output5.bias\u001b[0m\n",
      " 90%|███████████████████████████████████▏   | 891/987 [1:11:13<07:17,  4.56s/it]"
     ]
    },
    {
     "name": "stdout",
     "output_type": "stream",
     "text": [
      "02_08_1936_00000011\n",
      "Pages/02_08_1936_00000011.tif.large.jpg\n"
     ]
    },
    {
     "name": "stderr",
     "output_type": "stream",
     "text": [
      "The checkpoint state_dict contains keys that are not used by the model:\n",
      "  \u001b[35mbackbone.fpn_lateral2.bias\u001b[0m\n",
      "  \u001b[35mbackbone.fpn_output2.bias\u001b[0m\n",
      "  \u001b[35mbackbone.fpn_lateral3.bias\u001b[0m\n",
      "  \u001b[35mbackbone.fpn_output3.bias\u001b[0m\n",
      "  \u001b[35mbackbone.fpn_lateral4.bias\u001b[0m\n",
      "  \u001b[35mbackbone.fpn_output4.bias\u001b[0m\n",
      "  \u001b[35mbackbone.fpn_lateral5.bias\u001b[0m\n",
      "  \u001b[35mbackbone.fpn_output5.bias\u001b[0m\n",
      " 90%|███████████████████████████████████▏   | 892/987 [1:11:18<07:13,  4.56s/it]"
     ]
    },
    {
     "name": "stdout",
     "output_type": "stream",
     "text": [
      "04_03_1936_00000009\n",
      "Pages/04_03_1936_00000009.tif.large.jpg\n"
     ]
    },
    {
     "name": "stderr",
     "output_type": "stream",
     "text": [
      "The checkpoint state_dict contains keys that are not used by the model:\n",
      "  \u001b[35mbackbone.fpn_lateral2.bias\u001b[0m\n",
      "  \u001b[35mbackbone.fpn_output2.bias\u001b[0m\n",
      "  \u001b[35mbackbone.fpn_lateral3.bias\u001b[0m\n",
      "  \u001b[35mbackbone.fpn_output3.bias\u001b[0m\n",
      "  \u001b[35mbackbone.fpn_lateral4.bias\u001b[0m\n",
      "  \u001b[35mbackbone.fpn_output4.bias\u001b[0m\n",
      "  \u001b[35mbackbone.fpn_lateral5.bias\u001b[0m\n",
      "  \u001b[35mbackbone.fpn_output5.bias\u001b[0m\n",
      " 90%|███████████████████████████████████▎   | 893/987 [1:11:23<07:10,  4.58s/it]"
     ]
    },
    {
     "name": "stdout",
     "output_type": "stream",
     "text": [
      "02_03_1936_00000006\n",
      "Pages/02_03_1936_00000006.tif.large.jpg\n"
     ]
    },
    {
     "name": "stderr",
     "output_type": "stream",
     "text": [
      "The checkpoint state_dict contains keys that are not used by the model:\n",
      "  \u001b[35mbackbone.fpn_lateral2.bias\u001b[0m\n",
      "  \u001b[35mbackbone.fpn_output2.bias\u001b[0m\n",
      "  \u001b[35mbackbone.fpn_lateral3.bias\u001b[0m\n",
      "  \u001b[35mbackbone.fpn_output3.bias\u001b[0m\n",
      "  \u001b[35mbackbone.fpn_lateral4.bias\u001b[0m\n",
      "  \u001b[35mbackbone.fpn_output4.bias\u001b[0m\n",
      "  \u001b[35mbackbone.fpn_lateral5.bias\u001b[0m\n",
      "  \u001b[35mbackbone.fpn_output5.bias\u001b[0m\n",
      " 91%|███████████████████████████████████▎   | 894/987 [1:11:27<07:06,  4.59s/it]"
     ]
    },
    {
     "name": "stdout",
     "output_type": "stream",
     "text": [
      "02_04_1936_00000005\n",
      "Pages/02_04_1936_00000005.tif.large.jpg\n"
     ]
    },
    {
     "name": "stderr",
     "output_type": "stream",
     "text": [
      "The checkpoint state_dict contains keys that are not used by the model:\n",
      "  \u001b[35mbackbone.fpn_lateral2.bias\u001b[0m\n",
      "  \u001b[35mbackbone.fpn_output2.bias\u001b[0m\n",
      "  \u001b[35mbackbone.fpn_lateral3.bias\u001b[0m\n",
      "  \u001b[35mbackbone.fpn_output3.bias\u001b[0m\n",
      "  \u001b[35mbackbone.fpn_lateral4.bias\u001b[0m\n",
      "  \u001b[35mbackbone.fpn_output4.bias\u001b[0m\n",
      "  \u001b[35mbackbone.fpn_lateral5.bias\u001b[0m\n",
      "  \u001b[35mbackbone.fpn_output5.bias\u001b[0m\n",
      " 91%|███████████████████████████████████▎   | 895/987 [1:11:32<06:58,  4.55s/it]"
     ]
    },
    {
     "name": "stdout",
     "output_type": "stream",
     "text": [
      "27_03_1936_00000002\n",
      "Pages/27_03_1936_00000002.tif.large.jpg\n"
     ]
    },
    {
     "name": "stderr",
     "output_type": "stream",
     "text": [
      "The checkpoint state_dict contains keys that are not used by the model:\n",
      "  \u001b[35mbackbone.fpn_lateral2.bias\u001b[0m\n",
      "  \u001b[35mbackbone.fpn_output2.bias\u001b[0m\n",
      "  \u001b[35mbackbone.fpn_lateral3.bias\u001b[0m\n",
      "  \u001b[35mbackbone.fpn_output3.bias\u001b[0m\n",
      "  \u001b[35mbackbone.fpn_lateral4.bias\u001b[0m\n",
      "  \u001b[35mbackbone.fpn_output4.bias\u001b[0m\n",
      "  \u001b[35mbackbone.fpn_lateral5.bias\u001b[0m\n",
      "  \u001b[35mbackbone.fpn_output5.bias\u001b[0m\n",
      " 91%|███████████████████████████████████▍   | 896/987 [1:11:36<06:55,  4.56s/it]"
     ]
    },
    {
     "name": "stdout",
     "output_type": "stream",
     "text": [
      "25_03_1936_00000022\n",
      "Pages/25_03_1936_00000022.tif.large.jpg\n"
     ]
    },
    {
     "name": "stderr",
     "output_type": "stream",
     "text": [
      "The checkpoint state_dict contains keys that are not used by the model:\n",
      "  \u001b[35mbackbone.fpn_lateral2.bias\u001b[0m\n",
      "  \u001b[35mbackbone.fpn_output2.bias\u001b[0m\n",
      "  \u001b[35mbackbone.fpn_lateral3.bias\u001b[0m\n",
      "  \u001b[35mbackbone.fpn_output3.bias\u001b[0m\n",
      "  \u001b[35mbackbone.fpn_lateral4.bias\u001b[0m\n",
      "  \u001b[35mbackbone.fpn_output4.bias\u001b[0m\n",
      "  \u001b[35mbackbone.fpn_lateral5.bias\u001b[0m\n",
      "  \u001b[35mbackbone.fpn_output5.bias\u001b[0m\n",
      " 91%|███████████████████████████████████▍   | 897/987 [1:11:41<06:46,  4.51s/it]"
     ]
    },
    {
     "name": "stdout",
     "output_type": "stream",
     "text": [
      "30_10_1936_00000012\n",
      "Pages/30_10_1936_00000012.tif.large.jpg\n"
     ]
    },
    {
     "name": "stderr",
     "output_type": "stream",
     "text": [
      "The checkpoint state_dict contains keys that are not used by the model:\n",
      "  \u001b[35mbackbone.fpn_lateral2.bias\u001b[0m\n",
      "  \u001b[35mbackbone.fpn_output2.bias\u001b[0m\n",
      "  \u001b[35mbackbone.fpn_lateral3.bias\u001b[0m\n",
      "  \u001b[35mbackbone.fpn_output3.bias\u001b[0m\n",
      "  \u001b[35mbackbone.fpn_lateral4.bias\u001b[0m\n",
      "  \u001b[35mbackbone.fpn_output4.bias\u001b[0m\n",
      "  \u001b[35mbackbone.fpn_lateral5.bias\u001b[0m\n",
      "  \u001b[35mbackbone.fpn_output5.bias\u001b[0m\n",
      " 91%|███████████████████████████████████▍   | 898/987 [1:11:45<06:41,  4.51s/it]"
     ]
    },
    {
     "name": "stdout",
     "output_type": "stream",
     "text": [
      "04_03_1936_00000006\n",
      "Pages/04_03_1936_00000006.tif.large.jpg\n"
     ]
    },
    {
     "name": "stderr",
     "output_type": "stream",
     "text": [
      "The checkpoint state_dict contains keys that are not used by the model:\n",
      "  \u001b[35mbackbone.fpn_lateral2.bias\u001b[0m\n",
      "  \u001b[35mbackbone.fpn_output2.bias\u001b[0m\n",
      "  \u001b[35mbackbone.fpn_lateral3.bias\u001b[0m\n",
      "  \u001b[35mbackbone.fpn_output3.bias\u001b[0m\n",
      "  \u001b[35mbackbone.fpn_lateral4.bias\u001b[0m\n",
      "  \u001b[35mbackbone.fpn_output4.bias\u001b[0m\n",
      "  \u001b[35mbackbone.fpn_lateral5.bias\u001b[0m\n",
      "  \u001b[35mbackbone.fpn_output5.bias\u001b[0m\n",
      " 91%|███████████████████████████████████▌   | 899/987 [1:11:50<06:35,  4.49s/it]"
     ]
    },
    {
     "name": "stdout",
     "output_type": "stream",
     "text": [
      "11_09_1936_00000010\n",
      "Pages/11_09_1936_00000010.tif.large.jpg\n"
     ]
    },
    {
     "name": "stderr",
     "output_type": "stream",
     "text": [
      "The checkpoint state_dict contains keys that are not used by the model:\n",
      "  \u001b[35mbackbone.fpn_lateral2.bias\u001b[0m\n",
      "  \u001b[35mbackbone.fpn_output2.bias\u001b[0m\n",
      "  \u001b[35mbackbone.fpn_lateral3.bias\u001b[0m\n",
      "  \u001b[35mbackbone.fpn_output3.bias\u001b[0m\n",
      "  \u001b[35mbackbone.fpn_lateral4.bias\u001b[0m\n",
      "  \u001b[35mbackbone.fpn_output4.bias\u001b[0m\n",
      "  \u001b[35mbackbone.fpn_lateral5.bias\u001b[0m\n",
      "  \u001b[35mbackbone.fpn_output5.bias\u001b[0m\n",
      " 91%|███████████████████████████████████▌   | 900/987 [1:11:54<06:34,  4.54s/it]"
     ]
    },
    {
     "name": "stdout",
     "output_type": "stream",
     "text": [
      "04_10_1936_00000009\n",
      "Pages/04_10_1936_00000009.tif.large.jpg\n"
     ]
    },
    {
     "name": "stderr",
     "output_type": "stream",
     "text": [
      "The checkpoint state_dict contains keys that are not used by the model:\n",
      "  \u001b[35mbackbone.fpn_lateral2.bias\u001b[0m\n",
      "  \u001b[35mbackbone.fpn_output2.bias\u001b[0m\n",
      "  \u001b[35mbackbone.fpn_lateral3.bias\u001b[0m\n",
      "  \u001b[35mbackbone.fpn_output3.bias\u001b[0m\n",
      "  \u001b[35mbackbone.fpn_lateral4.bias\u001b[0m\n",
      "  \u001b[35mbackbone.fpn_output4.bias\u001b[0m\n",
      "  \u001b[35mbackbone.fpn_lateral5.bias\u001b[0m\n",
      "  \u001b[35mbackbone.fpn_output5.bias\u001b[0m\n",
      " 91%|███████████████████████████████████▌   | 901/987 [1:11:59<06:30,  4.55s/it]"
     ]
    },
    {
     "name": "stdout",
     "output_type": "stream",
     "text": [
      "09_04_1936_00000006\n",
      "Pages/09_04_1936_00000006.tif.large.jpg\n"
     ]
    },
    {
     "name": "stderr",
     "output_type": "stream",
     "text": [
      "The checkpoint state_dict contains keys that are not used by the model:\n",
      "  \u001b[35mbackbone.fpn_lateral2.bias\u001b[0m\n",
      "  \u001b[35mbackbone.fpn_output2.bias\u001b[0m\n",
      "  \u001b[35mbackbone.fpn_lateral3.bias\u001b[0m\n",
      "  \u001b[35mbackbone.fpn_output3.bias\u001b[0m\n",
      "  \u001b[35mbackbone.fpn_lateral4.bias\u001b[0m\n",
      "  \u001b[35mbackbone.fpn_output4.bias\u001b[0m\n",
      "  \u001b[35mbackbone.fpn_lateral5.bias\u001b[0m\n",
      "  \u001b[35mbackbone.fpn_output5.bias\u001b[0m\n",
      " 91%|███████████████████████████████████▋   | 902/987 [1:12:03<06:24,  4.52s/it]"
     ]
    },
    {
     "name": "stdout",
     "output_type": "stream",
     "text": [
      "16_04_1936_00000002\n",
      "Pages/16_04_1936_00000002.tif.large.jpg\n"
     ]
    },
    {
     "name": "stderr",
     "output_type": "stream",
     "text": [
      "The checkpoint state_dict contains keys that are not used by the model:\n",
      "  \u001b[35mbackbone.fpn_lateral2.bias\u001b[0m\n",
      "  \u001b[35mbackbone.fpn_output2.bias\u001b[0m\n",
      "  \u001b[35mbackbone.fpn_lateral3.bias\u001b[0m\n",
      "  \u001b[35mbackbone.fpn_output3.bias\u001b[0m\n",
      "  \u001b[35mbackbone.fpn_lateral4.bias\u001b[0m\n",
      "  \u001b[35mbackbone.fpn_output4.bias\u001b[0m\n",
      "  \u001b[35mbackbone.fpn_lateral5.bias\u001b[0m\n",
      "  \u001b[35mbackbone.fpn_output5.bias\u001b[0m\n",
      " 91%|███████████████████████████████████▋   | 903/987 [1:12:08<06:24,  4.58s/it]"
     ]
    },
    {
     "name": "stdout",
     "output_type": "stream",
     "text": [
      "16_09_1936_00000010\n",
      "Pages/16_09_1936_00000010.tif.large.jpg\n"
     ]
    },
    {
     "name": "stderr",
     "output_type": "stream",
     "text": [
      "The checkpoint state_dict contains keys that are not used by the model:\n",
      "  \u001b[35mbackbone.fpn_lateral2.bias\u001b[0m\n",
      "  \u001b[35mbackbone.fpn_output2.bias\u001b[0m\n",
      "  \u001b[35mbackbone.fpn_lateral3.bias\u001b[0m\n",
      "  \u001b[35mbackbone.fpn_output3.bias\u001b[0m\n",
      "  \u001b[35mbackbone.fpn_lateral4.bias\u001b[0m\n",
      "  \u001b[35mbackbone.fpn_output4.bias\u001b[0m\n",
      "  \u001b[35mbackbone.fpn_lateral5.bias\u001b[0m\n",
      "  \u001b[35mbackbone.fpn_output5.bias\u001b[0m\n",
      " 92%|███████████████████████████████████▋   | 904/987 [1:12:12<06:15,  4.52s/it]"
     ]
    },
    {
     "name": "stdout",
     "output_type": "stream",
     "text": [
      "27_08_1936_00000008\n",
      "Pages/27_08_1936_00000008.tif.large.jpg\n"
     ]
    },
    {
     "name": "stderr",
     "output_type": "stream",
     "text": [
      "The checkpoint state_dict contains keys that are not used by the model:\n",
      "  \u001b[35mbackbone.fpn_lateral2.bias\u001b[0m\n",
      "  \u001b[35mbackbone.fpn_output2.bias\u001b[0m\n",
      "  \u001b[35mbackbone.fpn_lateral3.bias\u001b[0m\n",
      "  \u001b[35mbackbone.fpn_output3.bias\u001b[0m\n",
      "  \u001b[35mbackbone.fpn_lateral4.bias\u001b[0m\n",
      "  \u001b[35mbackbone.fpn_output4.bias\u001b[0m\n",
      "  \u001b[35mbackbone.fpn_lateral5.bias\u001b[0m\n",
      "  \u001b[35mbackbone.fpn_output5.bias\u001b[0m\n",
      " 92%|███████████████████████████████████▊   | 905/987 [1:12:17<06:13,  4.55s/it]"
     ]
    },
    {
     "name": "stdout",
     "output_type": "stream",
     "text": [
      "22_02_1936_00000003\n",
      "Pages/22_02_1936_00000003.tif.large.jpg\n"
     ]
    },
    {
     "name": "stderr",
     "output_type": "stream",
     "text": [
      "The checkpoint state_dict contains keys that are not used by the model:\n",
      "  \u001b[35mbackbone.fpn_lateral2.bias\u001b[0m\n",
      "  \u001b[35mbackbone.fpn_output2.bias\u001b[0m\n",
      "  \u001b[35mbackbone.fpn_lateral3.bias\u001b[0m\n",
      "  \u001b[35mbackbone.fpn_output3.bias\u001b[0m\n",
      "  \u001b[35mbackbone.fpn_lateral4.bias\u001b[0m\n",
      "  \u001b[35mbackbone.fpn_output4.bias\u001b[0m\n",
      "  \u001b[35mbackbone.fpn_lateral5.bias\u001b[0m\n",
      "  \u001b[35mbackbone.fpn_output5.bias\u001b[0m\n",
      " 92%|███████████████████████████████████▊   | 906/987 [1:12:22<06:10,  4.57s/it]"
     ]
    },
    {
     "name": "stdout",
     "output_type": "stream",
     "text": [
      "22_04_1936_00000005\n",
      "Pages/22_04_1936_00000005.tif.large.jpg\n"
     ]
    },
    {
     "name": "stderr",
     "output_type": "stream",
     "text": [
      "The checkpoint state_dict contains keys that are not used by the model:\n",
      "  \u001b[35mbackbone.fpn_lateral2.bias\u001b[0m\n",
      "  \u001b[35mbackbone.fpn_output2.bias\u001b[0m\n",
      "  \u001b[35mbackbone.fpn_lateral3.bias\u001b[0m\n",
      "  \u001b[35mbackbone.fpn_output3.bias\u001b[0m\n",
      "  \u001b[35mbackbone.fpn_lateral4.bias\u001b[0m\n",
      "  \u001b[35mbackbone.fpn_output4.bias\u001b[0m\n",
      "  \u001b[35mbackbone.fpn_lateral5.bias\u001b[0m\n",
      "  \u001b[35mbackbone.fpn_output5.bias\u001b[0m\n",
      " 92%|███████████████████████████████████▊   | 907/987 [1:12:26<06:08,  4.60s/it]"
     ]
    },
    {
     "name": "stdout",
     "output_type": "stream",
     "text": [
      "11_09_1936_00000007\n",
      "Pages/11_09_1936_00000007.tif.large.jpg\n"
     ]
    },
    {
     "name": "stderr",
     "output_type": "stream",
     "text": [
      "The checkpoint state_dict contains keys that are not used by the model:\n",
      "  \u001b[35mbackbone.fpn_lateral2.bias\u001b[0m\n",
      "  \u001b[35mbackbone.fpn_output2.bias\u001b[0m\n",
      "  \u001b[35mbackbone.fpn_lateral3.bias\u001b[0m\n",
      "  \u001b[35mbackbone.fpn_output3.bias\u001b[0m\n",
      "  \u001b[35mbackbone.fpn_lateral4.bias\u001b[0m\n",
      "  \u001b[35mbackbone.fpn_output4.bias\u001b[0m\n",
      "  \u001b[35mbackbone.fpn_lateral5.bias\u001b[0m\n",
      "  \u001b[35mbackbone.fpn_output5.bias\u001b[0m\n",
      " 92%|███████████████████████████████████▉   | 908/987 [1:12:31<06:03,  4.60s/it]"
     ]
    },
    {
     "name": "stdout",
     "output_type": "stream",
     "text": [
      "19_01_1936_00000006\n",
      "Pages/19_01_1936_00000006.tif.large.jpg\n"
     ]
    },
    {
     "name": "stderr",
     "output_type": "stream",
     "text": [
      "The checkpoint state_dict contains keys that are not used by the model:\n",
      "  \u001b[35mbackbone.fpn_lateral2.bias\u001b[0m\n",
      "  \u001b[35mbackbone.fpn_output2.bias\u001b[0m\n",
      "  \u001b[35mbackbone.fpn_lateral3.bias\u001b[0m\n",
      "  \u001b[35mbackbone.fpn_output3.bias\u001b[0m\n",
      "  \u001b[35mbackbone.fpn_lateral4.bias\u001b[0m\n",
      "  \u001b[35mbackbone.fpn_output4.bias\u001b[0m\n",
      "  \u001b[35mbackbone.fpn_lateral5.bias\u001b[0m\n",
      "  \u001b[35mbackbone.fpn_output5.bias\u001b[0m\n",
      " 92%|███████████████████████████████████▉   | 909/987 [1:12:36<05:59,  4.62s/it]"
     ]
    },
    {
     "name": "stdout",
     "output_type": "stream",
     "text": [
      "26_09_1936_00000012\n",
      "Pages/26_09_1936_00000012.tif.large.jpg\n"
     ]
    },
    {
     "name": "stderr",
     "output_type": "stream",
     "text": [
      "The checkpoint state_dict contains keys that are not used by the model:\n",
      "  \u001b[35mbackbone.fpn_lateral2.bias\u001b[0m\n",
      "  \u001b[35mbackbone.fpn_output2.bias\u001b[0m\n",
      "  \u001b[35mbackbone.fpn_lateral3.bias\u001b[0m\n",
      "  \u001b[35mbackbone.fpn_output3.bias\u001b[0m\n",
      "  \u001b[35mbackbone.fpn_lateral4.bias\u001b[0m\n",
      "  \u001b[35mbackbone.fpn_output4.bias\u001b[0m\n",
      "  \u001b[35mbackbone.fpn_lateral5.bias\u001b[0m\n",
      "  \u001b[35mbackbone.fpn_output5.bias\u001b[0m\n",
      " 92%|███████████████████████████████████▉   | 910/987 [1:12:40<05:53,  4.59s/it]"
     ]
    },
    {
     "name": "stdout",
     "output_type": "stream",
     "text": [
      "12_04_1936_00000024\n",
      "Pages/12_04_1936_00000024.tif.large.jpg\n"
     ]
    },
    {
     "name": "stderr",
     "output_type": "stream",
     "text": [
      "The checkpoint state_dict contains keys that are not used by the model:\n",
      "  \u001b[35mbackbone.fpn_lateral2.bias\u001b[0m\n",
      "  \u001b[35mbackbone.fpn_output2.bias\u001b[0m\n",
      "  \u001b[35mbackbone.fpn_lateral3.bias\u001b[0m\n",
      "  \u001b[35mbackbone.fpn_output3.bias\u001b[0m\n",
      "  \u001b[35mbackbone.fpn_lateral4.bias\u001b[0m\n",
      "  \u001b[35mbackbone.fpn_output4.bias\u001b[0m\n",
      "  \u001b[35mbackbone.fpn_lateral5.bias\u001b[0m\n",
      "  \u001b[35mbackbone.fpn_output5.bias\u001b[0m\n",
      " 92%|███████████████████████████████████▉   | 911/987 [1:12:45<05:50,  4.61s/it]"
     ]
    },
    {
     "name": "stdout",
     "output_type": "stream",
     "text": [
      "29_04_1936_00000010\n",
      "Pages/29_04_1936_00000010.tif.large.jpg\n"
     ]
    },
    {
     "name": "stderr",
     "output_type": "stream",
     "text": [
      "The checkpoint state_dict contains keys that are not used by the model:\n",
      "  \u001b[35mbackbone.fpn_lateral2.bias\u001b[0m\n",
      "  \u001b[35mbackbone.fpn_output2.bias\u001b[0m\n",
      "  \u001b[35mbackbone.fpn_lateral3.bias\u001b[0m\n",
      "  \u001b[35mbackbone.fpn_output3.bias\u001b[0m\n",
      "  \u001b[35mbackbone.fpn_lateral4.bias\u001b[0m\n",
      "  \u001b[35mbackbone.fpn_output4.bias\u001b[0m\n",
      "  \u001b[35mbackbone.fpn_lateral5.bias\u001b[0m\n",
      "  \u001b[35mbackbone.fpn_output5.bias\u001b[0m\n",
      " 92%|████████████████████████████████████   | 912/987 [1:12:50<05:47,  4.63s/it]"
     ]
    },
    {
     "name": "stdout",
     "output_type": "stream",
     "text": [
      "14_09_1936_00000013\n",
      "Pages/14_09_1936_00000013.tif.large.jpg\n"
     ]
    },
    {
     "name": "stderr",
     "output_type": "stream",
     "text": [
      "The checkpoint state_dict contains keys that are not used by the model:\n",
      "  \u001b[35mbackbone.fpn_lateral2.bias\u001b[0m\n",
      "  \u001b[35mbackbone.fpn_output2.bias\u001b[0m\n",
      "  \u001b[35mbackbone.fpn_lateral3.bias\u001b[0m\n",
      "  \u001b[35mbackbone.fpn_output3.bias\u001b[0m\n",
      "  \u001b[35mbackbone.fpn_lateral4.bias\u001b[0m\n",
      "  \u001b[35mbackbone.fpn_output4.bias\u001b[0m\n",
      "  \u001b[35mbackbone.fpn_lateral5.bias\u001b[0m\n",
      "  \u001b[35mbackbone.fpn_output5.bias\u001b[0m\n",
      " 93%|████████████████████████████████████   | 913/987 [1:12:54<05:44,  4.66s/it]"
     ]
    },
    {
     "name": "stdout",
     "output_type": "stream",
     "text": [
      "01_02_1936_00000001\n",
      "Pages/01_02_1936_00000001.tif.large.jpg\n"
     ]
    },
    {
     "name": "stderr",
     "output_type": "stream",
     "text": [
      "The checkpoint state_dict contains keys that are not used by the model:\n",
      "  \u001b[35mbackbone.fpn_lateral2.bias\u001b[0m\n",
      "  \u001b[35mbackbone.fpn_output2.bias\u001b[0m\n",
      "  \u001b[35mbackbone.fpn_lateral3.bias\u001b[0m\n",
      "  \u001b[35mbackbone.fpn_output3.bias\u001b[0m\n",
      "  \u001b[35mbackbone.fpn_lateral4.bias\u001b[0m\n",
      "  \u001b[35mbackbone.fpn_output4.bias\u001b[0m\n",
      "  \u001b[35mbackbone.fpn_lateral5.bias\u001b[0m\n",
      "  \u001b[35mbackbone.fpn_output5.bias\u001b[0m\n",
      " 93%|████████████████████████████████████   | 914/987 [1:12:59<05:39,  4.65s/it]"
     ]
    },
    {
     "name": "stdout",
     "output_type": "stream",
     "text": [
      "28_02_1936_00000006\n",
      "Pages/28_02_1936_00000006.tif.large.jpg\n"
     ]
    },
    {
     "name": "stderr",
     "output_type": "stream",
     "text": [
      "The checkpoint state_dict contains keys that are not used by the model:\n",
      "  \u001b[35mbackbone.fpn_lateral2.bias\u001b[0m\n",
      "  \u001b[35mbackbone.fpn_output2.bias\u001b[0m\n",
      "  \u001b[35mbackbone.fpn_lateral3.bias\u001b[0m\n",
      "  \u001b[35mbackbone.fpn_output3.bias\u001b[0m\n",
      "  \u001b[35mbackbone.fpn_lateral4.bias\u001b[0m\n",
      "  \u001b[35mbackbone.fpn_output4.bias\u001b[0m\n",
      "  \u001b[35mbackbone.fpn_lateral5.bias\u001b[0m\n",
      "  \u001b[35mbackbone.fpn_output5.bias\u001b[0m\n",
      " 93%|████████████████████████████████████▏  | 915/987 [1:13:04<05:36,  4.67s/it]"
     ]
    },
    {
     "name": "stdout",
     "output_type": "stream",
     "text": [
      "10_08_1936_00000003\n",
      "Pages/10_08_1936_00000003.tif.large.jpg\n"
     ]
    },
    {
     "name": "stderr",
     "output_type": "stream",
     "text": [
      "The checkpoint state_dict contains keys that are not used by the model:\n",
      "  \u001b[35mbackbone.fpn_lateral2.bias\u001b[0m\n",
      "  \u001b[35mbackbone.fpn_output2.bias\u001b[0m\n",
      "  \u001b[35mbackbone.fpn_lateral3.bias\u001b[0m\n",
      "  \u001b[35mbackbone.fpn_output3.bias\u001b[0m\n",
      "  \u001b[35mbackbone.fpn_lateral4.bias\u001b[0m\n",
      "  \u001b[35mbackbone.fpn_output4.bias\u001b[0m\n",
      "  \u001b[35mbackbone.fpn_lateral5.bias\u001b[0m\n",
      "  \u001b[35mbackbone.fpn_output5.bias\u001b[0m\n",
      " 93%|████████████████████████████████████▏  | 916/987 [1:13:08<05:32,  4.68s/it]"
     ]
    },
    {
     "name": "stdout",
     "output_type": "stream",
     "text": [
      "22_11_1936_00000013\n",
      "Pages/22_11_1936_00000013.tif.large.jpg\n"
     ]
    },
    {
     "name": "stderr",
     "output_type": "stream",
     "text": [
      "The checkpoint state_dict contains keys that are not used by the model:\n",
      "  \u001b[35mbackbone.fpn_lateral2.bias\u001b[0m\n",
      "  \u001b[35mbackbone.fpn_output2.bias\u001b[0m\n",
      "  \u001b[35mbackbone.fpn_lateral3.bias\u001b[0m\n",
      "  \u001b[35mbackbone.fpn_output3.bias\u001b[0m\n",
      "  \u001b[35mbackbone.fpn_lateral4.bias\u001b[0m\n",
      "  \u001b[35mbackbone.fpn_output4.bias\u001b[0m\n",
      "  \u001b[35mbackbone.fpn_lateral5.bias\u001b[0m\n",
      "  \u001b[35mbackbone.fpn_output5.bias\u001b[0m\n",
      " 93%|████████████████████████████████████▏  | 917/987 [1:13:13<05:29,  4.71s/it]"
     ]
    },
    {
     "name": "stdout",
     "output_type": "stream",
     "text": [
      "17_03_1936_00000009\n",
      "Pages/17_03_1936_00000009.tif.large.jpg\n"
     ]
    },
    {
     "name": "stderr",
     "output_type": "stream",
     "text": [
      "The checkpoint state_dict contains keys that are not used by the model:\n",
      "  \u001b[35mbackbone.fpn_lateral2.bias\u001b[0m\n",
      "  \u001b[35mbackbone.fpn_output2.bias\u001b[0m\n",
      "  \u001b[35mbackbone.fpn_lateral3.bias\u001b[0m\n",
      "  \u001b[35mbackbone.fpn_output3.bias\u001b[0m\n",
      "  \u001b[35mbackbone.fpn_lateral4.bias\u001b[0m\n",
      "  \u001b[35mbackbone.fpn_output4.bias\u001b[0m\n",
      "  \u001b[35mbackbone.fpn_lateral5.bias\u001b[0m\n",
      "  \u001b[35mbackbone.fpn_output5.bias\u001b[0m\n",
      " 93%|████████████████████████████████████▎  | 918/987 [1:13:18<05:24,  4.70s/it]"
     ]
    },
    {
     "name": "stdout",
     "output_type": "stream",
     "text": [
      "02_11_1936_00000006\n",
      "Pages/02_11_1936_00000006.tif.large.jpg\n"
     ]
    },
    {
     "name": "stderr",
     "output_type": "stream",
     "text": [
      "The checkpoint state_dict contains keys that are not used by the model:\n",
      "  \u001b[35mbackbone.fpn_lateral2.bias\u001b[0m\n",
      "  \u001b[35mbackbone.fpn_output2.bias\u001b[0m\n",
      "  \u001b[35mbackbone.fpn_lateral3.bias\u001b[0m\n",
      "  \u001b[35mbackbone.fpn_output3.bias\u001b[0m\n",
      "  \u001b[35mbackbone.fpn_lateral4.bias\u001b[0m\n",
      "  \u001b[35mbackbone.fpn_output4.bias\u001b[0m\n",
      "  \u001b[35mbackbone.fpn_lateral5.bias\u001b[0m\n",
      "  \u001b[35mbackbone.fpn_output5.bias\u001b[0m\n",
      " 93%|████████████████████████████████████▎  | 919/987 [1:13:22<05:19,  4.70s/it]"
     ]
    },
    {
     "name": "stdout",
     "output_type": "stream",
     "text": [
      "27_09_1936_00000014\n",
      "Pages/27_09_1936_00000014.tif.large.jpg\n"
     ]
    },
    {
     "name": "stderr",
     "output_type": "stream",
     "text": [
      "The checkpoint state_dict contains keys that are not used by the model:\n",
      "  \u001b[35mbackbone.fpn_lateral2.bias\u001b[0m\n",
      "  \u001b[35mbackbone.fpn_output2.bias\u001b[0m\n",
      "  \u001b[35mbackbone.fpn_lateral3.bias\u001b[0m\n",
      "  \u001b[35mbackbone.fpn_output3.bias\u001b[0m\n",
      "  \u001b[35mbackbone.fpn_lateral4.bias\u001b[0m\n",
      "  \u001b[35mbackbone.fpn_output4.bias\u001b[0m\n",
      "  \u001b[35mbackbone.fpn_lateral5.bias\u001b[0m\n",
      "  \u001b[35mbackbone.fpn_output5.bias\u001b[0m\n",
      " 93%|████████████████████████████████████▎  | 920/987 [1:13:27<05:11,  4.65s/it]"
     ]
    },
    {
     "name": "stdout",
     "output_type": "stream",
     "text": [
      "01_12_1936_00000005\n",
      "Pages/01_12_1936_00000005.tif.large.jpg\n"
     ]
    },
    {
     "name": "stderr",
     "output_type": "stream",
     "text": [
      "The checkpoint state_dict contains keys that are not used by the model:\n",
      "  \u001b[35mbackbone.fpn_lateral2.bias\u001b[0m\n",
      "  \u001b[35mbackbone.fpn_output2.bias\u001b[0m\n",
      "  \u001b[35mbackbone.fpn_lateral3.bias\u001b[0m\n",
      "  \u001b[35mbackbone.fpn_output3.bias\u001b[0m\n",
      "  \u001b[35mbackbone.fpn_lateral4.bias\u001b[0m\n",
      "  \u001b[35mbackbone.fpn_output4.bias\u001b[0m\n",
      "  \u001b[35mbackbone.fpn_lateral5.bias\u001b[0m\n",
      "  \u001b[35mbackbone.fpn_output5.bias\u001b[0m\n",
      " 93%|████████████████████████████████████▍  | 921/987 [1:13:32<05:05,  4.64s/it]"
     ]
    },
    {
     "name": "stdout",
     "output_type": "stream",
     "text": [
      "12_10_1936_00000001\n",
      "Pages/12_10_1936_00000001.tif.large.jpg\n"
     ]
    },
    {
     "name": "stderr",
     "output_type": "stream",
     "text": [
      "The checkpoint state_dict contains keys that are not used by the model:\n",
      "  \u001b[35mbackbone.fpn_lateral2.bias\u001b[0m\n",
      "  \u001b[35mbackbone.fpn_output2.bias\u001b[0m\n",
      "  \u001b[35mbackbone.fpn_lateral3.bias\u001b[0m\n",
      "  \u001b[35mbackbone.fpn_output3.bias\u001b[0m\n",
      "  \u001b[35mbackbone.fpn_lateral4.bias\u001b[0m\n",
      "  \u001b[35mbackbone.fpn_output4.bias\u001b[0m\n",
      "  \u001b[35mbackbone.fpn_lateral5.bias\u001b[0m\n",
      "  \u001b[35mbackbone.fpn_output5.bias\u001b[0m\n",
      " 93%|████████████████████████████████████▍  | 922/987 [1:13:36<05:01,  4.64s/it]"
     ]
    },
    {
     "name": "stdout",
     "output_type": "stream",
     "text": [
      "23_04_1936_00000007\n",
      "Pages/23_04_1936_00000007.tif.large.jpg\n"
     ]
    },
    {
     "name": "stderr",
     "output_type": "stream",
     "text": [
      "The checkpoint state_dict contains keys that are not used by the model:\n",
      "  \u001b[35mbackbone.fpn_lateral2.bias\u001b[0m\n",
      "  \u001b[35mbackbone.fpn_output2.bias\u001b[0m\n",
      "  \u001b[35mbackbone.fpn_lateral3.bias\u001b[0m\n",
      "  \u001b[35mbackbone.fpn_output3.bias\u001b[0m\n",
      "  \u001b[35mbackbone.fpn_lateral4.bias\u001b[0m\n",
      "  \u001b[35mbackbone.fpn_output4.bias\u001b[0m\n",
      "  \u001b[35mbackbone.fpn_lateral5.bias\u001b[0m\n",
      "  \u001b[35mbackbone.fpn_output5.bias\u001b[0m\n",
      " 94%|████████████████████████████████████▍  | 923/987 [1:13:41<04:56,  4.63s/it]"
     ]
    },
    {
     "name": "stdout",
     "output_type": "stream",
     "text": [
      "19_11_1936_00000006\n",
      "Pages/19_11_1936_00000006.tif.large.jpg\n"
     ]
    },
    {
     "name": "stderr",
     "output_type": "stream",
     "text": [
      "The checkpoint state_dict contains keys that are not used by the model:\n",
      "  \u001b[35mbackbone.fpn_lateral2.bias\u001b[0m\n",
      "  \u001b[35mbackbone.fpn_output2.bias\u001b[0m\n",
      "  \u001b[35mbackbone.fpn_lateral3.bias\u001b[0m\n",
      "  \u001b[35mbackbone.fpn_output3.bias\u001b[0m\n",
      "  \u001b[35mbackbone.fpn_lateral4.bias\u001b[0m\n",
      "  \u001b[35mbackbone.fpn_output4.bias\u001b[0m\n",
      "  \u001b[35mbackbone.fpn_lateral5.bias\u001b[0m\n",
      "  \u001b[35mbackbone.fpn_output5.bias\u001b[0m\n",
      " 94%|████████████████████████████████████▌  | 924/987 [1:13:45<04:51,  4.62s/it]"
     ]
    },
    {
     "name": "stdout",
     "output_type": "stream",
     "text": [
      "23_08_1936_00000004\n",
      "Pages/23_08_1936_00000004.tif.large.jpg\n"
     ]
    },
    {
     "name": "stderr",
     "output_type": "stream",
     "text": [
      "The checkpoint state_dict contains keys that are not used by the model:\n",
      "  \u001b[35mbackbone.fpn_lateral2.bias\u001b[0m\n",
      "  \u001b[35mbackbone.fpn_output2.bias\u001b[0m\n",
      "  \u001b[35mbackbone.fpn_lateral3.bias\u001b[0m\n",
      "  \u001b[35mbackbone.fpn_output3.bias\u001b[0m\n",
      "  \u001b[35mbackbone.fpn_lateral4.bias\u001b[0m\n",
      "  \u001b[35mbackbone.fpn_output4.bias\u001b[0m\n",
      "  \u001b[35mbackbone.fpn_lateral5.bias\u001b[0m\n",
      "  \u001b[35mbackbone.fpn_output5.bias\u001b[0m\n",
      " 94%|████████████████████████████████████▌  | 925/987 [1:13:50<04:46,  4.62s/it]"
     ]
    },
    {
     "name": "stdout",
     "output_type": "stream",
     "text": [
      "21_04_1936_00000006\n",
      "Pages/21_04_1936_00000006.tif.large.jpg\n"
     ]
    },
    {
     "name": "stderr",
     "output_type": "stream",
     "text": [
      "The checkpoint state_dict contains keys that are not used by the model:\n",
      "  \u001b[35mbackbone.fpn_lateral2.bias\u001b[0m\n",
      "  \u001b[35mbackbone.fpn_output2.bias\u001b[0m\n",
      "  \u001b[35mbackbone.fpn_lateral3.bias\u001b[0m\n",
      "  \u001b[35mbackbone.fpn_output3.bias\u001b[0m\n",
      "  \u001b[35mbackbone.fpn_lateral4.bias\u001b[0m\n",
      "  \u001b[35mbackbone.fpn_output4.bias\u001b[0m\n",
      "  \u001b[35mbackbone.fpn_lateral5.bias\u001b[0m\n",
      "  \u001b[35mbackbone.fpn_output5.bias\u001b[0m\n",
      " 94%|████████████████████████████████████▌  | 926/987 [1:13:55<04:40,  4.60s/it]"
     ]
    },
    {
     "name": "stdout",
     "output_type": "stream",
     "text": [
      "21_11_1936_00000001\n",
      "Pages/21_11_1936_00000001.tif.large.jpg\n"
     ]
    },
    {
     "name": "stderr",
     "output_type": "stream",
     "text": [
      "The checkpoint state_dict contains keys that are not used by the model:\n",
      "  \u001b[35mbackbone.fpn_lateral2.bias\u001b[0m\n",
      "  \u001b[35mbackbone.fpn_output2.bias\u001b[0m\n",
      "  \u001b[35mbackbone.fpn_lateral3.bias\u001b[0m\n",
      "  \u001b[35mbackbone.fpn_output3.bias\u001b[0m\n",
      "  \u001b[35mbackbone.fpn_lateral4.bias\u001b[0m\n",
      "  \u001b[35mbackbone.fpn_output4.bias\u001b[0m\n",
      "  \u001b[35mbackbone.fpn_lateral5.bias\u001b[0m\n",
      "  \u001b[35mbackbone.fpn_output5.bias\u001b[0m\n",
      " 94%|████████████████████████████████████▋  | 927/987 [1:13:59<04:35,  4.58s/it]"
     ]
    },
    {
     "name": "stdout",
     "output_type": "stream",
     "text": [
      "30_04_1936_00000006\n",
      "Pages/30_04_1936_00000006.tif.large.jpg\n"
     ]
    },
    {
     "name": "stderr",
     "output_type": "stream",
     "text": [
      "The checkpoint state_dict contains keys that are not used by the model:\n",
      "  \u001b[35mbackbone.fpn_lateral2.bias\u001b[0m\n",
      "  \u001b[35mbackbone.fpn_output2.bias\u001b[0m\n",
      "  \u001b[35mbackbone.fpn_lateral3.bias\u001b[0m\n",
      "  \u001b[35mbackbone.fpn_output3.bias\u001b[0m\n",
      "  \u001b[35mbackbone.fpn_lateral4.bias\u001b[0m\n",
      "  \u001b[35mbackbone.fpn_output4.bias\u001b[0m\n",
      "  \u001b[35mbackbone.fpn_lateral5.bias\u001b[0m\n",
      "  \u001b[35mbackbone.fpn_output5.bias\u001b[0m\n",
      " 94%|████████████████████████████████████▋  | 928/987 [1:14:04<04:32,  4.61s/it]"
     ]
    },
    {
     "name": "stdout",
     "output_type": "stream",
     "text": [
      "01_10_1936_00000003\n",
      "Pages/01_10_1936_00000003.tif.large.jpg\n"
     ]
    },
    {
     "name": "stderr",
     "output_type": "stream",
     "text": [
      "The checkpoint state_dict contains keys that are not used by the model:\n",
      "  \u001b[35mbackbone.fpn_lateral2.bias\u001b[0m\n",
      "  \u001b[35mbackbone.fpn_output2.bias\u001b[0m\n",
      "  \u001b[35mbackbone.fpn_lateral3.bias\u001b[0m\n",
      "  \u001b[35mbackbone.fpn_output3.bias\u001b[0m\n",
      "  \u001b[35mbackbone.fpn_lateral4.bias\u001b[0m\n",
      "  \u001b[35mbackbone.fpn_output4.bias\u001b[0m\n",
      "  \u001b[35mbackbone.fpn_lateral5.bias\u001b[0m\n",
      "  \u001b[35mbackbone.fpn_output5.bias\u001b[0m\n",
      " 94%|████████████████████████████████████▋  | 929/987 [1:14:09<04:31,  4.69s/it]"
     ]
    },
    {
     "name": "stdout",
     "output_type": "stream",
     "text": [
      "07_12_1936_00000006\n",
      "Pages/07_12_1936_00000006.tif.large.jpg\n"
     ]
    },
    {
     "name": "stderr",
     "output_type": "stream",
     "text": [
      "The checkpoint state_dict contains keys that are not used by the model:\n",
      "  \u001b[35mbackbone.fpn_lateral2.bias\u001b[0m\n",
      "  \u001b[35mbackbone.fpn_output2.bias\u001b[0m\n",
      "  \u001b[35mbackbone.fpn_lateral3.bias\u001b[0m\n",
      "  \u001b[35mbackbone.fpn_output3.bias\u001b[0m\n",
      "  \u001b[35mbackbone.fpn_lateral4.bias\u001b[0m\n",
      "  \u001b[35mbackbone.fpn_output4.bias\u001b[0m\n",
      "  \u001b[35mbackbone.fpn_lateral5.bias\u001b[0m\n",
      "  \u001b[35mbackbone.fpn_output5.bias\u001b[0m\n",
      " 94%|████████████████████████████████████▋  | 930/987 [1:14:13<04:25,  4.66s/it]"
     ]
    },
    {
     "name": "stdout",
     "output_type": "stream",
     "text": [
      "29_03_1936_00000018\n",
      "Pages/29_03_1936_00000018.tif.large.jpg\n"
     ]
    },
    {
     "name": "stderr",
     "output_type": "stream",
     "text": [
      "The checkpoint state_dict contains keys that are not used by the model:\n",
      "  \u001b[35mbackbone.fpn_lateral2.bias\u001b[0m\n",
      "  \u001b[35mbackbone.fpn_output2.bias\u001b[0m\n",
      "  \u001b[35mbackbone.fpn_lateral3.bias\u001b[0m\n",
      "  \u001b[35mbackbone.fpn_output3.bias\u001b[0m\n",
      "  \u001b[35mbackbone.fpn_lateral4.bias\u001b[0m\n",
      "  \u001b[35mbackbone.fpn_output4.bias\u001b[0m\n",
      "  \u001b[35mbackbone.fpn_lateral5.bias\u001b[0m\n",
      "  \u001b[35mbackbone.fpn_output5.bias\u001b[0m\n",
      " 94%|████████████████████████████████████▊  | 931/987 [1:14:18<04:18,  4.61s/it]"
     ]
    },
    {
     "name": "stdout",
     "output_type": "stream",
     "text": [
      "01_12_1936_00000001\n",
      "Pages/01_12_1936_00000001.tif.large.jpg\n"
     ]
    },
    {
     "name": "stderr",
     "output_type": "stream",
     "text": [
      "The checkpoint state_dict contains keys that are not used by the model:\n",
      "  \u001b[35mbackbone.fpn_lateral2.bias\u001b[0m\n",
      "  \u001b[35mbackbone.fpn_output2.bias\u001b[0m\n",
      "  \u001b[35mbackbone.fpn_lateral3.bias\u001b[0m\n",
      "  \u001b[35mbackbone.fpn_output3.bias\u001b[0m\n",
      "  \u001b[35mbackbone.fpn_lateral4.bias\u001b[0m\n",
      "  \u001b[35mbackbone.fpn_output4.bias\u001b[0m\n",
      "  \u001b[35mbackbone.fpn_lateral5.bias\u001b[0m\n",
      "  \u001b[35mbackbone.fpn_output5.bias\u001b[0m\n",
      " 94%|████████████████████████████████████▊  | 932/987 [1:14:22<04:14,  4.63s/it]"
     ]
    },
    {
     "name": "stdout",
     "output_type": "stream",
     "text": [
      "26_04_1936_00000007\n",
      "Pages/26_04_1936_00000007.tif.large.jpg\n"
     ]
    },
    {
     "name": "stderr",
     "output_type": "stream",
     "text": [
      "The checkpoint state_dict contains keys that are not used by the model:\n",
      "  \u001b[35mbackbone.fpn_lateral2.bias\u001b[0m\n",
      "  \u001b[35mbackbone.fpn_output2.bias\u001b[0m\n",
      "  \u001b[35mbackbone.fpn_lateral3.bias\u001b[0m\n",
      "  \u001b[35mbackbone.fpn_output3.bias\u001b[0m\n",
      "  \u001b[35mbackbone.fpn_lateral4.bias\u001b[0m\n",
      "  \u001b[35mbackbone.fpn_output4.bias\u001b[0m\n",
      "  \u001b[35mbackbone.fpn_lateral5.bias\u001b[0m\n",
      "  \u001b[35mbackbone.fpn_output5.bias\u001b[0m\n",
      " 95%|████████████████████████████████████▊  | 933/987 [1:14:27<04:10,  4.64s/it]"
     ]
    },
    {
     "name": "stdout",
     "output_type": "stream",
     "text": [
      "22_10_1936_00000023\n",
      "Pages/22_10_1936_00000023.tif.large.jpg\n"
     ]
    },
    {
     "name": "stderr",
     "output_type": "stream",
     "text": [
      "The checkpoint state_dict contains keys that are not used by the model:\n",
      "  \u001b[35mbackbone.fpn_lateral2.bias\u001b[0m\n",
      "  \u001b[35mbackbone.fpn_output2.bias\u001b[0m\n",
      "  \u001b[35mbackbone.fpn_lateral3.bias\u001b[0m\n",
      "  \u001b[35mbackbone.fpn_output3.bias\u001b[0m\n",
      "  \u001b[35mbackbone.fpn_lateral4.bias\u001b[0m\n",
      "  \u001b[35mbackbone.fpn_output4.bias\u001b[0m\n",
      "  \u001b[35mbackbone.fpn_lateral5.bias\u001b[0m\n",
      "  \u001b[35mbackbone.fpn_output5.bias\u001b[0m\n",
      " 95%|████████████████████████████████████▉  | 934/987 [1:14:32<04:04,  4.62s/it]"
     ]
    },
    {
     "name": "stdout",
     "output_type": "stream",
     "text": [
      "06_03_1936_00000007\n",
      "Pages/06_03_1936_00000007.tif.large.jpg\n"
     ]
    },
    {
     "name": "stderr",
     "output_type": "stream",
     "text": [
      "The checkpoint state_dict contains keys that are not used by the model:\n",
      "  \u001b[35mbackbone.fpn_lateral2.bias\u001b[0m\n",
      "  \u001b[35mbackbone.fpn_output2.bias\u001b[0m\n",
      "  \u001b[35mbackbone.fpn_lateral3.bias\u001b[0m\n",
      "  \u001b[35mbackbone.fpn_output3.bias\u001b[0m\n",
      "  \u001b[35mbackbone.fpn_lateral4.bias\u001b[0m\n",
      "  \u001b[35mbackbone.fpn_output4.bias\u001b[0m\n",
      "  \u001b[35mbackbone.fpn_lateral5.bias\u001b[0m\n",
      "  \u001b[35mbackbone.fpn_output5.bias\u001b[0m\n",
      " 95%|████████████████████████████████████▉  | 935/987 [1:14:36<03:59,  4.60s/it]"
     ]
    },
    {
     "name": "stdout",
     "output_type": "stream",
     "text": [
      "10_12_1936_00000009\n",
      "Pages/10_12_1936_00000009.tif.large.jpg\n"
     ]
    },
    {
     "name": "stderr",
     "output_type": "stream",
     "text": [
      "The checkpoint state_dict contains keys that are not used by the model:\n",
      "  \u001b[35mbackbone.fpn_lateral2.bias\u001b[0m\n",
      "  \u001b[35mbackbone.fpn_output2.bias\u001b[0m\n",
      "  \u001b[35mbackbone.fpn_lateral3.bias\u001b[0m\n",
      "  \u001b[35mbackbone.fpn_output3.bias\u001b[0m\n",
      "  \u001b[35mbackbone.fpn_lateral4.bias\u001b[0m\n",
      "  \u001b[35mbackbone.fpn_output4.bias\u001b[0m\n",
      "  \u001b[35mbackbone.fpn_lateral5.bias\u001b[0m\n",
      "  \u001b[35mbackbone.fpn_output5.bias\u001b[0m\n",
      " 95%|████████████████████████████████████▉  | 936/987 [1:14:41<03:54,  4.60s/it]"
     ]
    },
    {
     "name": "stdout",
     "output_type": "stream",
     "text": [
      "17_03_1936_00000010\n",
      "Pages/17_03_1936_00000010.tif.large.jpg\n"
     ]
    },
    {
     "name": "stderr",
     "output_type": "stream",
     "text": [
      "The checkpoint state_dict contains keys that are not used by the model:\n",
      "  \u001b[35mbackbone.fpn_lateral2.bias\u001b[0m\n",
      "  \u001b[35mbackbone.fpn_output2.bias\u001b[0m\n",
      "  \u001b[35mbackbone.fpn_lateral3.bias\u001b[0m\n",
      "  \u001b[35mbackbone.fpn_output3.bias\u001b[0m\n",
      "  \u001b[35mbackbone.fpn_lateral4.bias\u001b[0m\n",
      "  \u001b[35mbackbone.fpn_output4.bias\u001b[0m\n",
      "  \u001b[35mbackbone.fpn_lateral5.bias\u001b[0m\n",
      "  \u001b[35mbackbone.fpn_output5.bias\u001b[0m\n",
      " 95%|█████████████████████████████████████  | 937/987 [1:14:45<03:49,  4.59s/it]"
     ]
    },
    {
     "name": "stdout",
     "output_type": "stream",
     "text": [
      "23_09_1936_00000018\n",
      "Pages/23_09_1936_00000018.tif.large.jpg\n"
     ]
    },
    {
     "name": "stderr",
     "output_type": "stream",
     "text": [
      "The checkpoint state_dict contains keys that are not used by the model:\n",
      "  \u001b[35mbackbone.fpn_lateral2.bias\u001b[0m\n",
      "  \u001b[35mbackbone.fpn_output2.bias\u001b[0m\n",
      "  \u001b[35mbackbone.fpn_lateral3.bias\u001b[0m\n",
      "  \u001b[35mbackbone.fpn_output3.bias\u001b[0m\n",
      "  \u001b[35mbackbone.fpn_lateral4.bias\u001b[0m\n",
      "  \u001b[35mbackbone.fpn_output4.bias\u001b[0m\n",
      "  \u001b[35mbackbone.fpn_lateral5.bias\u001b[0m\n",
      "  \u001b[35mbackbone.fpn_output5.bias\u001b[0m\n",
      " 95%|█████████████████████████████████████  | 938/987 [1:14:50<03:44,  4.57s/it]"
     ]
    },
    {
     "name": "stdout",
     "output_type": "stream",
     "text": [
      "26_01_1936_00000034\n",
      "Pages/26_01_1936_00000034.tif.large.jpg\n"
     ]
    },
    {
     "name": "stderr",
     "output_type": "stream",
     "text": [
      "The checkpoint state_dict contains keys that are not used by the model:\n",
      "  \u001b[35mbackbone.fpn_lateral2.bias\u001b[0m\n",
      "  \u001b[35mbackbone.fpn_output2.bias\u001b[0m\n",
      "  \u001b[35mbackbone.fpn_lateral3.bias\u001b[0m\n",
      "  \u001b[35mbackbone.fpn_output3.bias\u001b[0m\n",
      "  \u001b[35mbackbone.fpn_lateral4.bias\u001b[0m\n",
      "  \u001b[35mbackbone.fpn_output4.bias\u001b[0m\n",
      "  \u001b[35mbackbone.fpn_lateral5.bias\u001b[0m\n",
      "  \u001b[35mbackbone.fpn_output5.bias\u001b[0m\n",
      " 95%|█████████████████████████████████████  | 939/987 [1:14:55<03:39,  4.57s/it]"
     ]
    },
    {
     "name": "stdout",
     "output_type": "stream",
     "text": [
      "07_12_1936_00000009\n",
      "Pages/07_12_1936_00000009.tif.large.jpg\n"
     ]
    },
    {
     "name": "stderr",
     "output_type": "stream",
     "text": [
      "The checkpoint state_dict contains keys that are not used by the model:\n",
      "  \u001b[35mbackbone.fpn_lateral2.bias\u001b[0m\n",
      "  \u001b[35mbackbone.fpn_output2.bias\u001b[0m\n",
      "  \u001b[35mbackbone.fpn_lateral3.bias\u001b[0m\n",
      "  \u001b[35mbackbone.fpn_output3.bias\u001b[0m\n",
      "  \u001b[35mbackbone.fpn_lateral4.bias\u001b[0m\n",
      "  \u001b[35mbackbone.fpn_output4.bias\u001b[0m\n",
      "  \u001b[35mbackbone.fpn_lateral5.bias\u001b[0m\n",
      "  \u001b[35mbackbone.fpn_output5.bias\u001b[0m\n",
      " 95%|█████████████████████████████████████▏ | 940/987 [1:14:59<03:34,  4.56s/it]"
     ]
    },
    {
     "name": "stdout",
     "output_type": "stream",
     "text": [
      "05_10_1936_00000007\n",
      "Pages/05_10_1936_00000007.tif.large.jpg\n"
     ]
    },
    {
     "name": "stderr",
     "output_type": "stream",
     "text": [
      "The checkpoint state_dict contains keys that are not used by the model:\n",
      "  \u001b[35mbackbone.fpn_lateral2.bias\u001b[0m\n",
      "  \u001b[35mbackbone.fpn_output2.bias\u001b[0m\n",
      "  \u001b[35mbackbone.fpn_lateral3.bias\u001b[0m\n",
      "  \u001b[35mbackbone.fpn_output3.bias\u001b[0m\n",
      "  \u001b[35mbackbone.fpn_lateral4.bias\u001b[0m\n",
      "  \u001b[35mbackbone.fpn_output4.bias\u001b[0m\n",
      "  \u001b[35mbackbone.fpn_lateral5.bias\u001b[0m\n",
      "  \u001b[35mbackbone.fpn_output5.bias\u001b[0m\n",
      " 95%|█████████████████████████████████████▏ | 941/987 [1:15:04<03:29,  4.55s/it]"
     ]
    },
    {
     "name": "stdout",
     "output_type": "stream",
     "text": [
      "05_11_1936_00000004\n",
      "Pages/05_11_1936_00000004.tif.large.jpg\n"
     ]
    },
    {
     "name": "stderr",
     "output_type": "stream",
     "text": [
      "The checkpoint state_dict contains keys that are not used by the model:\n",
      "  \u001b[35mbackbone.fpn_lateral2.bias\u001b[0m\n",
      "  \u001b[35mbackbone.fpn_output2.bias\u001b[0m\n",
      "  \u001b[35mbackbone.fpn_lateral3.bias\u001b[0m\n",
      "  \u001b[35mbackbone.fpn_output3.bias\u001b[0m\n",
      "  \u001b[35mbackbone.fpn_lateral4.bias\u001b[0m\n",
      "  \u001b[35mbackbone.fpn_output4.bias\u001b[0m\n",
      "  \u001b[35mbackbone.fpn_lateral5.bias\u001b[0m\n",
      "  \u001b[35mbackbone.fpn_output5.bias\u001b[0m\n",
      " 95%|█████████████████████████████████████▏ | 942/987 [1:15:08<03:27,  4.62s/it]"
     ]
    },
    {
     "name": "stdout",
     "output_type": "stream",
     "text": [
      "02_12_1936_00000011\n",
      "Pages/02_12_1936_00000011.tif.large.jpg\n"
     ]
    },
    {
     "name": "stderr",
     "output_type": "stream",
     "text": [
      "The checkpoint state_dict contains keys that are not used by the model:\n",
      "  \u001b[35mbackbone.fpn_lateral2.bias\u001b[0m\n",
      "  \u001b[35mbackbone.fpn_output2.bias\u001b[0m\n",
      "  \u001b[35mbackbone.fpn_lateral3.bias\u001b[0m\n",
      "  \u001b[35mbackbone.fpn_output3.bias\u001b[0m\n",
      "  \u001b[35mbackbone.fpn_lateral4.bias\u001b[0m\n",
      "  \u001b[35mbackbone.fpn_output4.bias\u001b[0m\n",
      "  \u001b[35mbackbone.fpn_lateral5.bias\u001b[0m\n",
      "  \u001b[35mbackbone.fpn_output5.bias\u001b[0m\n",
      " 96%|█████████████████████████████████████▎ | 943/987 [1:15:13<03:22,  4.61s/it]"
     ]
    },
    {
     "name": "stdout",
     "output_type": "stream",
     "text": [
      "04_10_1936_00000005\n",
      "Pages/04_10_1936_00000005.tif.large.jpg\n"
     ]
    },
    {
     "name": "stderr",
     "output_type": "stream",
     "text": [
      "The checkpoint state_dict contains keys that are not used by the model:\n",
      "  \u001b[35mbackbone.fpn_lateral2.bias\u001b[0m\n",
      "  \u001b[35mbackbone.fpn_output2.bias\u001b[0m\n",
      "  \u001b[35mbackbone.fpn_lateral3.bias\u001b[0m\n",
      "  \u001b[35mbackbone.fpn_output3.bias\u001b[0m\n",
      "  \u001b[35mbackbone.fpn_lateral4.bias\u001b[0m\n",
      "  \u001b[35mbackbone.fpn_output4.bias\u001b[0m\n",
      "  \u001b[35mbackbone.fpn_lateral5.bias\u001b[0m\n",
      "  \u001b[35mbackbone.fpn_output5.bias\u001b[0m\n",
      " 96%|█████████████████████████████████████▎ | 944/987 [1:15:17<03:15,  4.55s/it]"
     ]
    },
    {
     "name": "stdout",
     "output_type": "stream",
     "text": [
      "04_04_1936_00000009\n",
      "Pages/04_04_1936_00000009.tif.large.jpg\n"
     ]
    },
    {
     "name": "stderr",
     "output_type": "stream",
     "text": [
      "The checkpoint state_dict contains keys that are not used by the model:\n",
      "  \u001b[35mbackbone.fpn_lateral2.bias\u001b[0m\n",
      "  \u001b[35mbackbone.fpn_output2.bias\u001b[0m\n",
      "  \u001b[35mbackbone.fpn_lateral3.bias\u001b[0m\n",
      "  \u001b[35mbackbone.fpn_output3.bias\u001b[0m\n",
      "  \u001b[35mbackbone.fpn_lateral4.bias\u001b[0m\n",
      "  \u001b[35mbackbone.fpn_output4.bias\u001b[0m\n",
      "  \u001b[35mbackbone.fpn_lateral5.bias\u001b[0m\n",
      "  \u001b[35mbackbone.fpn_output5.bias\u001b[0m\n",
      " 96%|█████████████████████████████████████▎ | 945/987 [1:15:22<03:10,  4.54s/it]"
     ]
    },
    {
     "name": "stdout",
     "output_type": "stream",
     "text": [
      "24_10_1936_00000009\n",
      "Pages/24_10_1936_00000009.tif.large.jpg\n"
     ]
    },
    {
     "name": "stderr",
     "output_type": "stream",
     "text": [
      "The checkpoint state_dict contains keys that are not used by the model:\n",
      "  \u001b[35mbackbone.fpn_lateral2.bias\u001b[0m\n",
      "  \u001b[35mbackbone.fpn_output2.bias\u001b[0m\n",
      "  \u001b[35mbackbone.fpn_lateral3.bias\u001b[0m\n",
      "  \u001b[35mbackbone.fpn_output3.bias\u001b[0m\n",
      "  \u001b[35mbackbone.fpn_lateral4.bias\u001b[0m\n",
      "  \u001b[35mbackbone.fpn_output4.bias\u001b[0m\n",
      "  \u001b[35mbackbone.fpn_lateral5.bias\u001b[0m\n",
      "  \u001b[35mbackbone.fpn_output5.bias\u001b[0m\n",
      " 96%|█████████████████████████████████████▍ | 946/987 [1:15:26<03:06,  4.54s/it]"
     ]
    },
    {
     "name": "stdout",
     "output_type": "stream",
     "text": [
      "29_01_1936_00000002\n",
      "Pages/29_01_1936_00000002.tif.large.jpg\n"
     ]
    },
    {
     "name": "stderr",
     "output_type": "stream",
     "text": [
      "The checkpoint state_dict contains keys that are not used by the model:\n",
      "  \u001b[35mbackbone.fpn_lateral2.bias\u001b[0m\n",
      "  \u001b[35mbackbone.fpn_output2.bias\u001b[0m\n",
      "  \u001b[35mbackbone.fpn_lateral3.bias\u001b[0m\n",
      "  \u001b[35mbackbone.fpn_output3.bias\u001b[0m\n",
      "  \u001b[35mbackbone.fpn_lateral4.bias\u001b[0m\n",
      "  \u001b[35mbackbone.fpn_output4.bias\u001b[0m\n",
      "  \u001b[35mbackbone.fpn_lateral5.bias\u001b[0m\n",
      "  \u001b[35mbackbone.fpn_output5.bias\u001b[0m\n",
      " 96%|█████████████████████████████████████▍ | 947/987 [1:15:31<03:02,  4.57s/it]"
     ]
    },
    {
     "name": "stdout",
     "output_type": "stream",
     "text": [
      "17_01_1936_00000001\n",
      "Pages/17_01_1936_00000001.tif.large.jpg\n"
     ]
    },
    {
     "name": "stderr",
     "output_type": "stream",
     "text": [
      "The checkpoint state_dict contains keys that are not used by the model:\n",
      "  \u001b[35mbackbone.fpn_lateral2.bias\u001b[0m\n",
      "  \u001b[35mbackbone.fpn_output2.bias\u001b[0m\n",
      "  \u001b[35mbackbone.fpn_lateral3.bias\u001b[0m\n",
      "  \u001b[35mbackbone.fpn_output3.bias\u001b[0m\n",
      "  \u001b[35mbackbone.fpn_lateral4.bias\u001b[0m\n",
      "  \u001b[35mbackbone.fpn_output4.bias\u001b[0m\n",
      "  \u001b[35mbackbone.fpn_lateral5.bias\u001b[0m\n",
      "  \u001b[35mbackbone.fpn_output5.bias\u001b[0m\n",
      " 96%|█████████████████████████████████████▍ | 948/987 [1:15:36<03:00,  4.62s/it]"
     ]
    },
    {
     "name": "stdout",
     "output_type": "stream",
     "text": [
      "09_11_1936_00000003\n",
      "Pages/09_11_1936_00000003.tif.large.jpg\n"
     ]
    },
    {
     "name": "stderr",
     "output_type": "stream",
     "text": [
      "The checkpoint state_dict contains keys that are not used by the model:\n",
      "  \u001b[35mbackbone.fpn_lateral2.bias\u001b[0m\n",
      "  \u001b[35mbackbone.fpn_output2.bias\u001b[0m\n",
      "  \u001b[35mbackbone.fpn_lateral3.bias\u001b[0m\n",
      "  \u001b[35mbackbone.fpn_output3.bias\u001b[0m\n",
      "  \u001b[35mbackbone.fpn_lateral4.bias\u001b[0m\n",
      "  \u001b[35mbackbone.fpn_output4.bias\u001b[0m\n",
      "  \u001b[35mbackbone.fpn_lateral5.bias\u001b[0m\n",
      "  \u001b[35mbackbone.fpn_output5.bias\u001b[0m\n",
      " 96%|█████████████████████████████████████▍ | 949/987 [1:15:40<02:56,  4.64s/it]"
     ]
    },
    {
     "name": "stdout",
     "output_type": "stream",
     "text": [
      "15_10_1936_00000010\n",
      "Pages/15_10_1936_00000010.tif.large.jpg\n"
     ]
    },
    {
     "name": "stderr",
     "output_type": "stream",
     "text": [
      "The checkpoint state_dict contains keys that are not used by the model:\n",
      "  \u001b[35mbackbone.fpn_lateral2.bias\u001b[0m\n",
      "  \u001b[35mbackbone.fpn_output2.bias\u001b[0m\n",
      "  \u001b[35mbackbone.fpn_lateral3.bias\u001b[0m\n",
      "  \u001b[35mbackbone.fpn_output3.bias\u001b[0m\n",
      "  \u001b[35mbackbone.fpn_lateral4.bias\u001b[0m\n",
      "  \u001b[35mbackbone.fpn_output4.bias\u001b[0m\n",
      "  \u001b[35mbackbone.fpn_lateral5.bias\u001b[0m\n",
      "  \u001b[35mbackbone.fpn_output5.bias\u001b[0m\n",
      " 96%|█████████████████████████████████████▌ | 950/987 [1:15:45<02:50,  4.62s/it]"
     ]
    },
    {
     "name": "stdout",
     "output_type": "stream",
     "text": [
      "03_11_1936_00000011\n",
      "Pages/03_11_1936_00000011.tif.large.jpg\n"
     ]
    },
    {
     "name": "stderr",
     "output_type": "stream",
     "text": [
      "The checkpoint state_dict contains keys that are not used by the model:\n",
      "  \u001b[35mbackbone.fpn_lateral2.bias\u001b[0m\n",
      "  \u001b[35mbackbone.fpn_output2.bias\u001b[0m\n",
      "  \u001b[35mbackbone.fpn_lateral3.bias\u001b[0m\n",
      "  \u001b[35mbackbone.fpn_output3.bias\u001b[0m\n",
      "  \u001b[35mbackbone.fpn_lateral4.bias\u001b[0m\n",
      "  \u001b[35mbackbone.fpn_output4.bias\u001b[0m\n",
      "  \u001b[35mbackbone.fpn_lateral5.bias\u001b[0m\n",
      "  \u001b[35mbackbone.fpn_output5.bias\u001b[0m\n",
      " 96%|█████████████████████████████████████▌ | 951/987 [1:15:50<02:46,  4.62s/it]"
     ]
    },
    {
     "name": "stdout",
     "output_type": "stream",
     "text": [
      "19_08_1936_00000011\n",
      "Pages/19_08_1936_00000011.tif.large.jpg\n"
     ]
    },
    {
     "name": "stderr",
     "output_type": "stream",
     "text": [
      "The checkpoint state_dict contains keys that are not used by the model:\n",
      "  \u001b[35mbackbone.fpn_lateral2.bias\u001b[0m\n",
      "  \u001b[35mbackbone.fpn_output2.bias\u001b[0m\n",
      "  \u001b[35mbackbone.fpn_lateral3.bias\u001b[0m\n",
      "  \u001b[35mbackbone.fpn_output3.bias\u001b[0m\n",
      "  \u001b[35mbackbone.fpn_lateral4.bias\u001b[0m\n",
      "  \u001b[35mbackbone.fpn_output4.bias\u001b[0m\n",
      "  \u001b[35mbackbone.fpn_lateral5.bias\u001b[0m\n",
      "  \u001b[35mbackbone.fpn_output5.bias\u001b[0m\n",
      " 96%|█████████████████████████████████████▌ | 952/987 [1:15:54<02:41,  4.62s/it]"
     ]
    },
    {
     "name": "stdout",
     "output_type": "stream",
     "text": [
      "16_02_1936_00000012\n",
      "Pages/16_02_1936_00000012.tif.large.jpg\n"
     ]
    },
    {
     "name": "stderr",
     "output_type": "stream",
     "text": [
      "The checkpoint state_dict contains keys that are not used by the model:\n",
      "  \u001b[35mbackbone.fpn_lateral2.bias\u001b[0m\n",
      "  \u001b[35mbackbone.fpn_output2.bias\u001b[0m\n",
      "  \u001b[35mbackbone.fpn_lateral3.bias\u001b[0m\n",
      "  \u001b[35mbackbone.fpn_output3.bias\u001b[0m\n",
      "  \u001b[35mbackbone.fpn_lateral4.bias\u001b[0m\n",
      "  \u001b[35mbackbone.fpn_output4.bias\u001b[0m\n",
      "  \u001b[35mbackbone.fpn_lateral5.bias\u001b[0m\n",
      "  \u001b[35mbackbone.fpn_output5.bias\u001b[0m\n",
      " 97%|█████████████████████████████████████▋ | 953/987 [1:15:59<02:36,  4.60s/it]"
     ]
    },
    {
     "name": "stdout",
     "output_type": "stream",
     "text": [
      "26_01_1936_00000010\n",
      "Pages/26_01_1936_00000010.tif.large.jpg\n"
     ]
    },
    {
     "name": "stderr",
     "output_type": "stream",
     "text": [
      "The checkpoint state_dict contains keys that are not used by the model:\n",
      "  \u001b[35mbackbone.fpn_lateral2.bias\u001b[0m\n",
      "  \u001b[35mbackbone.fpn_output2.bias\u001b[0m\n",
      "  \u001b[35mbackbone.fpn_lateral3.bias\u001b[0m\n",
      "  \u001b[35mbackbone.fpn_output3.bias\u001b[0m\n",
      "  \u001b[35mbackbone.fpn_lateral4.bias\u001b[0m\n",
      "  \u001b[35mbackbone.fpn_output4.bias\u001b[0m\n",
      "  \u001b[35mbackbone.fpn_lateral5.bias\u001b[0m\n",
      "  \u001b[35mbackbone.fpn_output5.bias\u001b[0m\n",
      " 97%|█████████████████████████████████████▋ | 954/987 [1:16:03<02:31,  4.60s/it]"
     ]
    },
    {
     "name": "stdout",
     "output_type": "stream",
     "text": [
      "12_10_1936_00000008\n",
      "Pages/12_10_1936_00000008.tif.large.jpg\n"
     ]
    },
    {
     "name": "stderr",
     "output_type": "stream",
     "text": [
      "The checkpoint state_dict contains keys that are not used by the model:\n",
      "  \u001b[35mbackbone.fpn_lateral2.bias\u001b[0m\n",
      "  \u001b[35mbackbone.fpn_output2.bias\u001b[0m\n",
      "  \u001b[35mbackbone.fpn_lateral3.bias\u001b[0m\n",
      "  \u001b[35mbackbone.fpn_output3.bias\u001b[0m\n",
      "  \u001b[35mbackbone.fpn_lateral4.bias\u001b[0m\n",
      "  \u001b[35mbackbone.fpn_output4.bias\u001b[0m\n",
      "  \u001b[35mbackbone.fpn_lateral5.bias\u001b[0m\n",
      "  \u001b[35mbackbone.fpn_output5.bias\u001b[0m\n",
      " 97%|█████████████████████████████████████▋ | 955/987 [1:16:08<02:30,  4.69s/it]"
     ]
    },
    {
     "name": "stdout",
     "output_type": "stream",
     "text": [
      "07_08_1936_00000004\n",
      "Pages/07_08_1936_00000004.tif.large.jpg\n"
     ]
    },
    {
     "name": "stderr",
     "output_type": "stream",
     "text": [
      "The checkpoint state_dict contains keys that are not used by the model:\n",
      "  \u001b[35mbackbone.fpn_lateral2.bias\u001b[0m\n",
      "  \u001b[35mbackbone.fpn_output2.bias\u001b[0m\n",
      "  \u001b[35mbackbone.fpn_lateral3.bias\u001b[0m\n",
      "  \u001b[35mbackbone.fpn_output3.bias\u001b[0m\n",
      "  \u001b[35mbackbone.fpn_lateral4.bias\u001b[0m\n",
      "  \u001b[35mbackbone.fpn_output4.bias\u001b[0m\n",
      "  \u001b[35mbackbone.fpn_lateral5.bias\u001b[0m\n",
      "  \u001b[35mbackbone.fpn_output5.bias\u001b[0m\n",
      " 97%|█████████████████████████████████████▊ | 956/987 [1:16:13<02:24,  4.65s/it]"
     ]
    },
    {
     "name": "stdout",
     "output_type": "stream",
     "text": [
      "07_02_1936_00000006\n",
      "Pages/07_02_1936_00000006.tif.large.jpg\n"
     ]
    },
    {
     "name": "stderr",
     "output_type": "stream",
     "text": [
      "The checkpoint state_dict contains keys that are not used by the model:\n",
      "  \u001b[35mbackbone.fpn_lateral2.bias\u001b[0m\n",
      "  \u001b[35mbackbone.fpn_output2.bias\u001b[0m\n",
      "  \u001b[35mbackbone.fpn_lateral3.bias\u001b[0m\n",
      "  \u001b[35mbackbone.fpn_output3.bias\u001b[0m\n",
      "  \u001b[35mbackbone.fpn_lateral4.bias\u001b[0m\n",
      "  \u001b[35mbackbone.fpn_output4.bias\u001b[0m\n",
      "  \u001b[35mbackbone.fpn_lateral5.bias\u001b[0m\n",
      "  \u001b[35mbackbone.fpn_output5.bias\u001b[0m\n",
      " 97%|█████████████████████████████████████▊ | 957/987 [1:16:18<02:19,  4.65s/it]"
     ]
    },
    {
     "name": "stdout",
     "output_type": "stream",
     "text": [
      "13_11_1936_00000006\n",
      "Pages/13_11_1936_00000006.tif.large.jpg\n"
     ]
    },
    {
     "name": "stderr",
     "output_type": "stream",
     "text": [
      "The checkpoint state_dict contains keys that are not used by the model:\n",
      "  \u001b[35mbackbone.fpn_lateral2.bias\u001b[0m\n",
      "  \u001b[35mbackbone.fpn_output2.bias\u001b[0m\n",
      "  \u001b[35mbackbone.fpn_lateral3.bias\u001b[0m\n",
      "  \u001b[35mbackbone.fpn_output3.bias\u001b[0m\n",
      "  \u001b[35mbackbone.fpn_lateral4.bias\u001b[0m\n",
      "  \u001b[35mbackbone.fpn_output4.bias\u001b[0m\n",
      "  \u001b[35mbackbone.fpn_lateral5.bias\u001b[0m\n",
      "  \u001b[35mbackbone.fpn_output5.bias\u001b[0m\n",
      " 97%|█████████████████████████████████████▊ | 958/987 [1:16:22<02:15,  4.67s/it]"
     ]
    },
    {
     "name": "stdout",
     "output_type": "stream",
     "text": [
      "23_04_1936_00000013\n",
      "Pages/23_04_1936_00000013.tif.large.jpg\n"
     ]
    },
    {
     "name": "stderr",
     "output_type": "stream",
     "text": [
      "The checkpoint state_dict contains keys that are not used by the model:\n",
      "  \u001b[35mbackbone.fpn_lateral2.bias\u001b[0m\n",
      "  \u001b[35mbackbone.fpn_output2.bias\u001b[0m\n",
      "  \u001b[35mbackbone.fpn_lateral3.bias\u001b[0m\n",
      "  \u001b[35mbackbone.fpn_output3.bias\u001b[0m\n",
      "  \u001b[35mbackbone.fpn_lateral4.bias\u001b[0m\n",
      "  \u001b[35mbackbone.fpn_output4.bias\u001b[0m\n",
      "  \u001b[35mbackbone.fpn_lateral5.bias\u001b[0m\n",
      "  \u001b[35mbackbone.fpn_output5.bias\u001b[0m\n",
      " 97%|█████████████████████████████████████▉ | 959/987 [1:16:27<02:09,  4.64s/it]"
     ]
    },
    {
     "name": "stdout",
     "output_type": "stream",
     "text": [
      "25_11_1936_00000011\n",
      "Pages/25_11_1936_00000011.tif.large.jpg\n"
     ]
    },
    {
     "name": "stderr",
     "output_type": "stream",
     "text": [
      "The checkpoint state_dict contains keys that are not used by the model:\n",
      "  \u001b[35mbackbone.fpn_lateral2.bias\u001b[0m\n",
      "  \u001b[35mbackbone.fpn_output2.bias\u001b[0m\n",
      "  \u001b[35mbackbone.fpn_lateral3.bias\u001b[0m\n",
      "  \u001b[35mbackbone.fpn_output3.bias\u001b[0m\n",
      "  \u001b[35mbackbone.fpn_lateral4.bias\u001b[0m\n",
      "  \u001b[35mbackbone.fpn_output4.bias\u001b[0m\n",
      "  \u001b[35mbackbone.fpn_lateral5.bias\u001b[0m\n",
      "  \u001b[35mbackbone.fpn_output5.bias\u001b[0m\n",
      " 97%|█████████████████████████████████████▉ | 960/987 [1:16:31<02:04,  4.63s/it]"
     ]
    },
    {
     "name": "stdout",
     "output_type": "stream",
     "text": [
      "06_04_1936_00000007\n",
      "Pages/06_04_1936_00000007.tif.large.jpg\n"
     ]
    },
    {
     "name": "stderr",
     "output_type": "stream",
     "text": [
      "The checkpoint state_dict contains keys that are not used by the model:\n",
      "  \u001b[35mbackbone.fpn_lateral2.bias\u001b[0m\n",
      "  \u001b[35mbackbone.fpn_output2.bias\u001b[0m\n",
      "  \u001b[35mbackbone.fpn_lateral3.bias\u001b[0m\n",
      "  \u001b[35mbackbone.fpn_output3.bias\u001b[0m\n",
      "  \u001b[35mbackbone.fpn_lateral4.bias\u001b[0m\n",
      "  \u001b[35mbackbone.fpn_output4.bias\u001b[0m\n",
      "  \u001b[35mbackbone.fpn_lateral5.bias\u001b[0m\n",
      "  \u001b[35mbackbone.fpn_output5.bias\u001b[0m\n",
      " 97%|█████████████████████████████████████▉ | 961/987 [1:16:36<01:59,  4.60s/it]"
     ]
    },
    {
     "name": "stdout",
     "output_type": "stream",
     "text": [
      "13_12_1936_00000005\n",
      "Pages/13_12_1936_00000005.tif.large.jpg\n"
     ]
    },
    {
     "name": "stderr",
     "output_type": "stream",
     "text": [
      "The checkpoint state_dict contains keys that are not used by the model:\n",
      "  \u001b[35mbackbone.fpn_lateral2.bias\u001b[0m\n",
      "  \u001b[35mbackbone.fpn_output2.bias\u001b[0m\n",
      "  \u001b[35mbackbone.fpn_lateral3.bias\u001b[0m\n",
      "  \u001b[35mbackbone.fpn_output3.bias\u001b[0m\n",
      "  \u001b[35mbackbone.fpn_lateral4.bias\u001b[0m\n",
      "  \u001b[35mbackbone.fpn_output4.bias\u001b[0m\n",
      "  \u001b[35mbackbone.fpn_lateral5.bias\u001b[0m\n",
      "  \u001b[35mbackbone.fpn_output5.bias\u001b[0m\n",
      " 97%|██████████████████████████████████████ | 962/987 [1:16:41<01:54,  4.59s/it]"
     ]
    },
    {
     "name": "stdout",
     "output_type": "stream",
     "text": [
      "15_01_1936_00000010\n",
      "Pages/15_01_1936_00000010.tif.large.jpg\n"
     ]
    },
    {
     "name": "stderr",
     "output_type": "stream",
     "text": [
      "The checkpoint state_dict contains keys that are not used by the model:\n",
      "  \u001b[35mbackbone.fpn_lateral2.bias\u001b[0m\n",
      "  \u001b[35mbackbone.fpn_output2.bias\u001b[0m\n",
      "  \u001b[35mbackbone.fpn_lateral3.bias\u001b[0m\n",
      "  \u001b[35mbackbone.fpn_output3.bias\u001b[0m\n",
      "  \u001b[35mbackbone.fpn_lateral4.bias\u001b[0m\n",
      "  \u001b[35mbackbone.fpn_output4.bias\u001b[0m\n",
      "  \u001b[35mbackbone.fpn_lateral5.bias\u001b[0m\n",
      "  \u001b[35mbackbone.fpn_output5.bias\u001b[0m\n",
      " 98%|██████████████████████████████████████ | 963/987 [1:16:45<01:50,  4.62s/it]"
     ]
    },
    {
     "name": "stdout",
     "output_type": "stream",
     "text": [
      "21_10_1936_00000004\n",
      "Pages/21_10_1936_00000004.tif.large.jpg\n"
     ]
    },
    {
     "name": "stderr",
     "output_type": "stream",
     "text": [
      "The checkpoint state_dict contains keys that are not used by the model:\n",
      "  \u001b[35mbackbone.fpn_lateral2.bias\u001b[0m\n",
      "  \u001b[35mbackbone.fpn_output2.bias\u001b[0m\n",
      "  \u001b[35mbackbone.fpn_lateral3.bias\u001b[0m\n",
      "  \u001b[35mbackbone.fpn_output3.bias\u001b[0m\n",
      "  \u001b[35mbackbone.fpn_lateral4.bias\u001b[0m\n",
      "  \u001b[35mbackbone.fpn_output4.bias\u001b[0m\n",
      "  \u001b[35mbackbone.fpn_lateral5.bias\u001b[0m\n",
      "  \u001b[35mbackbone.fpn_output5.bias\u001b[0m\n",
      " 98%|██████████████████████████████████████ | 964/987 [1:16:50<01:45,  4.60s/it]"
     ]
    },
    {
     "name": "stdout",
     "output_type": "stream",
     "text": [
      "07_12_1936_00000001\n",
      "Pages/07_12_1936_00000001.tif.large.jpg\n"
     ]
    },
    {
     "name": "stderr",
     "output_type": "stream",
     "text": [
      "The checkpoint state_dict contains keys that are not used by the model:\n",
      "  \u001b[35mbackbone.fpn_lateral2.bias\u001b[0m\n",
      "  \u001b[35mbackbone.fpn_output2.bias\u001b[0m\n",
      "  \u001b[35mbackbone.fpn_lateral3.bias\u001b[0m\n",
      "  \u001b[35mbackbone.fpn_output3.bias\u001b[0m\n",
      "  \u001b[35mbackbone.fpn_lateral4.bias\u001b[0m\n",
      "  \u001b[35mbackbone.fpn_output4.bias\u001b[0m\n",
      "  \u001b[35mbackbone.fpn_lateral5.bias\u001b[0m\n",
      "  \u001b[35mbackbone.fpn_output5.bias\u001b[0m\n",
      " 98%|██████████████████████████████████████▏| 965/987 [1:16:54<01:40,  4.59s/it]"
     ]
    },
    {
     "name": "stdout",
     "output_type": "stream",
     "text": [
      "03_12_1936_00000004\n",
      "Pages/03_12_1936_00000004.tif.large.jpg\n"
     ]
    },
    {
     "name": "stderr",
     "output_type": "stream",
     "text": [
      "The checkpoint state_dict contains keys that are not used by the model:\n",
      "  \u001b[35mbackbone.fpn_lateral2.bias\u001b[0m\n",
      "  \u001b[35mbackbone.fpn_output2.bias\u001b[0m\n",
      "  \u001b[35mbackbone.fpn_lateral3.bias\u001b[0m\n",
      "  \u001b[35mbackbone.fpn_output3.bias\u001b[0m\n",
      "  \u001b[35mbackbone.fpn_lateral4.bias\u001b[0m\n",
      "  \u001b[35mbackbone.fpn_output4.bias\u001b[0m\n",
      "  \u001b[35mbackbone.fpn_lateral5.bias\u001b[0m\n",
      "  \u001b[35mbackbone.fpn_output5.bias\u001b[0m\n",
      " 98%|██████████████████████████████████████▏| 966/987 [1:16:59<01:36,  4.58s/it]"
     ]
    },
    {
     "name": "stdout",
     "output_type": "stream",
     "text": [
      "22_07_1936_00000002\n",
      "Pages/22_07_1936_00000002.tif.large.jpg\n"
     ]
    },
    {
     "name": "stderr",
     "output_type": "stream",
     "text": [
      "The checkpoint state_dict contains keys that are not used by the model:\n",
      "  \u001b[35mbackbone.fpn_lateral2.bias\u001b[0m\n",
      "  \u001b[35mbackbone.fpn_output2.bias\u001b[0m\n",
      "  \u001b[35mbackbone.fpn_lateral3.bias\u001b[0m\n",
      "  \u001b[35mbackbone.fpn_output3.bias\u001b[0m\n",
      "  \u001b[35mbackbone.fpn_lateral4.bias\u001b[0m\n",
      "  \u001b[35mbackbone.fpn_output4.bias\u001b[0m\n",
      "  \u001b[35mbackbone.fpn_lateral5.bias\u001b[0m\n",
      "  \u001b[35mbackbone.fpn_output5.bias\u001b[0m\n",
      " 98%|██████████████████████████████████████▏| 967/987 [1:17:04<01:31,  4.59s/it]"
     ]
    },
    {
     "name": "stdout",
     "output_type": "stream",
     "text": [
      "30_07_1936_00000006\n",
      "Pages/30_07_1936_00000006.tif.large.jpg\n"
     ]
    },
    {
     "name": "stderr",
     "output_type": "stream",
     "text": [
      "The checkpoint state_dict contains keys that are not used by the model:\n",
      "  \u001b[35mbackbone.fpn_lateral2.bias\u001b[0m\n",
      "  \u001b[35mbackbone.fpn_output2.bias\u001b[0m\n",
      "  \u001b[35mbackbone.fpn_lateral3.bias\u001b[0m\n",
      "  \u001b[35mbackbone.fpn_output3.bias\u001b[0m\n",
      "  \u001b[35mbackbone.fpn_lateral4.bias\u001b[0m\n",
      "  \u001b[35mbackbone.fpn_output4.bias\u001b[0m\n",
      "  \u001b[35mbackbone.fpn_lateral5.bias\u001b[0m\n",
      "  \u001b[35mbackbone.fpn_output5.bias\u001b[0m\n",
      " 98%|██████████████████████████████████████▏| 968/987 [1:17:08<01:27,  4.58s/it]"
     ]
    },
    {
     "name": "stdout",
     "output_type": "stream",
     "text": [
      "20_07_1936_00000007\n",
      "Pages/20_07_1936_00000007.tif.large.jpg\n"
     ]
    },
    {
     "name": "stderr",
     "output_type": "stream",
     "text": [
      "The checkpoint state_dict contains keys that are not used by the model:\n",
      "  \u001b[35mbackbone.fpn_lateral2.bias\u001b[0m\n",
      "  \u001b[35mbackbone.fpn_output2.bias\u001b[0m\n",
      "  \u001b[35mbackbone.fpn_lateral3.bias\u001b[0m\n",
      "  \u001b[35mbackbone.fpn_output3.bias\u001b[0m\n",
      "  \u001b[35mbackbone.fpn_lateral4.bias\u001b[0m\n",
      "  \u001b[35mbackbone.fpn_output4.bias\u001b[0m\n",
      "  \u001b[35mbackbone.fpn_lateral5.bias\u001b[0m\n",
      "  \u001b[35mbackbone.fpn_output5.bias\u001b[0m\n",
      " 98%|██████████████████████████████████████▎| 969/987 [1:17:13<01:22,  4.59s/it]"
     ]
    },
    {
     "name": "stdout",
     "output_type": "stream",
     "text": [
      "22_10_1936_00000010\n",
      "Pages/22_10_1936_00000010.tif.large.jpg\n"
     ]
    },
    {
     "name": "stderr",
     "output_type": "stream",
     "text": [
      "The checkpoint state_dict contains keys that are not used by the model:\n",
      "  \u001b[35mbackbone.fpn_lateral2.bias\u001b[0m\n",
      "  \u001b[35mbackbone.fpn_output2.bias\u001b[0m\n",
      "  \u001b[35mbackbone.fpn_lateral3.bias\u001b[0m\n",
      "  \u001b[35mbackbone.fpn_output3.bias\u001b[0m\n",
      "  \u001b[35mbackbone.fpn_lateral4.bias\u001b[0m\n",
      "  \u001b[35mbackbone.fpn_output4.bias\u001b[0m\n",
      "  \u001b[35mbackbone.fpn_lateral5.bias\u001b[0m\n",
      "  \u001b[35mbackbone.fpn_output5.bias\u001b[0m\n",
      " 98%|██████████████████████████████████████▎| 970/987 [1:17:17<01:18,  4.59s/it]"
     ]
    },
    {
     "name": "stdout",
     "output_type": "stream",
     "text": [
      "29_03_1936_00000012\n",
      "Pages/29_03_1936_00000012.tif.large.jpg\n"
     ]
    },
    {
     "name": "stderr",
     "output_type": "stream",
     "text": [
      "The checkpoint state_dict contains keys that are not used by the model:\n",
      "  \u001b[35mbackbone.fpn_lateral2.bias\u001b[0m\n",
      "  \u001b[35mbackbone.fpn_output2.bias\u001b[0m\n",
      "  \u001b[35mbackbone.fpn_lateral3.bias\u001b[0m\n",
      "  \u001b[35mbackbone.fpn_output3.bias\u001b[0m\n",
      "  \u001b[35mbackbone.fpn_lateral4.bias\u001b[0m\n",
      "  \u001b[35mbackbone.fpn_output4.bias\u001b[0m\n",
      "  \u001b[35mbackbone.fpn_lateral5.bias\u001b[0m\n",
      "  \u001b[35mbackbone.fpn_output5.bias\u001b[0m\n",
      " 98%|██████████████████████████████████████▎| 971/987 [1:17:22<01:12,  4.53s/it]"
     ]
    },
    {
     "name": "stdout",
     "output_type": "stream",
     "text": [
      "19_02_1936_00000005\n",
      "Pages/19_02_1936_00000005.tif.large.jpg\n"
     ]
    },
    {
     "name": "stderr",
     "output_type": "stream",
     "text": [
      "The checkpoint state_dict contains keys that are not used by the model:\n",
      "  \u001b[35mbackbone.fpn_lateral2.bias\u001b[0m\n",
      "  \u001b[35mbackbone.fpn_output2.bias\u001b[0m\n",
      "  \u001b[35mbackbone.fpn_lateral3.bias\u001b[0m\n",
      "  \u001b[35mbackbone.fpn_output3.bias\u001b[0m\n",
      "  \u001b[35mbackbone.fpn_lateral4.bias\u001b[0m\n",
      "  \u001b[35mbackbone.fpn_output4.bias\u001b[0m\n",
      "  \u001b[35mbackbone.fpn_lateral5.bias\u001b[0m\n",
      "  \u001b[35mbackbone.fpn_output5.bias\u001b[0m\n",
      " 98%|██████████████████████████████████████▍| 972/987 [1:17:26<01:08,  4.56s/it]"
     ]
    },
    {
     "name": "stdout",
     "output_type": "stream",
     "text": [
      "21_07_1936_00000002\n",
      "Pages/21_07_1936_00000002.tif.large.jpg\n"
     ]
    },
    {
     "name": "stderr",
     "output_type": "stream",
     "text": [
      "The checkpoint state_dict contains keys that are not used by the model:\n",
      "  \u001b[35mbackbone.fpn_lateral2.bias\u001b[0m\n",
      "  \u001b[35mbackbone.fpn_output2.bias\u001b[0m\n",
      "  \u001b[35mbackbone.fpn_lateral3.bias\u001b[0m\n",
      "  \u001b[35mbackbone.fpn_output3.bias\u001b[0m\n",
      "  \u001b[35mbackbone.fpn_lateral4.bias\u001b[0m\n",
      "  \u001b[35mbackbone.fpn_output4.bias\u001b[0m\n",
      "  \u001b[35mbackbone.fpn_lateral5.bias\u001b[0m\n",
      "  \u001b[35mbackbone.fpn_output5.bias\u001b[0m\n",
      " 99%|██████████████████████████████████████▍| 973/987 [1:17:31<01:03,  4.57s/it]"
     ]
    },
    {
     "name": "stdout",
     "output_type": "stream",
     "text": [
      "22_10_1936_00000005\n",
      "Pages/22_10_1936_00000005.tif.large.jpg\n"
     ]
    },
    {
     "name": "stderr",
     "output_type": "stream",
     "text": [
      "The checkpoint state_dict contains keys that are not used by the model:\n",
      "  \u001b[35mbackbone.fpn_lateral2.bias\u001b[0m\n",
      "  \u001b[35mbackbone.fpn_output2.bias\u001b[0m\n",
      "  \u001b[35mbackbone.fpn_lateral3.bias\u001b[0m\n",
      "  \u001b[35mbackbone.fpn_output3.bias\u001b[0m\n",
      "  \u001b[35mbackbone.fpn_lateral4.bias\u001b[0m\n",
      "  \u001b[35mbackbone.fpn_output4.bias\u001b[0m\n",
      "  \u001b[35mbackbone.fpn_lateral5.bias\u001b[0m\n",
      "  \u001b[35mbackbone.fpn_output5.bias\u001b[0m\n",
      " 99%|██████████████████████████████████████▍| 974/987 [1:17:36<01:00,  4.64s/it]"
     ]
    },
    {
     "name": "stdout",
     "output_type": "stream",
     "text": [
      "26_01_1936_00000018\n",
      "Pages/26_01_1936_00000018.tif.large.jpg\n"
     ]
    },
    {
     "name": "stderr",
     "output_type": "stream",
     "text": [
      "The checkpoint state_dict contains keys that are not used by the model:\n",
      "  \u001b[35mbackbone.fpn_lateral2.bias\u001b[0m\n",
      "  \u001b[35mbackbone.fpn_output2.bias\u001b[0m\n",
      "  \u001b[35mbackbone.fpn_lateral3.bias\u001b[0m\n",
      "  \u001b[35mbackbone.fpn_output3.bias\u001b[0m\n",
      "  \u001b[35mbackbone.fpn_lateral4.bias\u001b[0m\n",
      "  \u001b[35mbackbone.fpn_output4.bias\u001b[0m\n",
      "  \u001b[35mbackbone.fpn_lateral5.bias\u001b[0m\n",
      "  \u001b[35mbackbone.fpn_output5.bias\u001b[0m\n",
      " 99%|██████████████████████████████████████▌| 975/987 [1:17:40<00:55,  4.61s/it]"
     ]
    },
    {
     "name": "stdout",
     "output_type": "stream",
     "text": [
      "22_04_1936_00000007\n",
      "Pages/22_04_1936_00000007.tif.large.jpg\n"
     ]
    },
    {
     "name": "stderr",
     "output_type": "stream",
     "text": [
      "The checkpoint state_dict contains keys that are not used by the model:\n",
      "  \u001b[35mbackbone.fpn_lateral2.bias\u001b[0m\n",
      "  \u001b[35mbackbone.fpn_output2.bias\u001b[0m\n",
      "  \u001b[35mbackbone.fpn_lateral3.bias\u001b[0m\n",
      "  \u001b[35mbackbone.fpn_output3.bias\u001b[0m\n",
      "  \u001b[35mbackbone.fpn_lateral4.bias\u001b[0m\n",
      "  \u001b[35mbackbone.fpn_output4.bias\u001b[0m\n",
      "  \u001b[35mbackbone.fpn_lateral5.bias\u001b[0m\n",
      "  \u001b[35mbackbone.fpn_output5.bias\u001b[0m\n",
      " 99%|██████████████████████████████████████▌| 976/987 [1:17:45<00:50,  4.62s/it]"
     ]
    },
    {
     "name": "stdout",
     "output_type": "stream",
     "text": [
      "08_09_1936_00000007\n",
      "Pages/08_09_1936_00000007.tif.large.jpg\n"
     ]
    },
    {
     "name": "stderr",
     "output_type": "stream",
     "text": [
      "The checkpoint state_dict contains keys that are not used by the model:\n",
      "  \u001b[35mbackbone.fpn_lateral2.bias\u001b[0m\n",
      "  \u001b[35mbackbone.fpn_output2.bias\u001b[0m\n",
      "  \u001b[35mbackbone.fpn_lateral3.bias\u001b[0m\n",
      "  \u001b[35mbackbone.fpn_output3.bias\u001b[0m\n",
      "  \u001b[35mbackbone.fpn_lateral4.bias\u001b[0m\n",
      "  \u001b[35mbackbone.fpn_output4.bias\u001b[0m\n",
      "  \u001b[35mbackbone.fpn_lateral5.bias\u001b[0m\n",
      "  \u001b[35mbackbone.fpn_output5.bias\u001b[0m\n",
      " 99%|██████████████████████████████████████▌| 977/987 [1:17:49<00:46,  4.60s/it]"
     ]
    },
    {
     "name": "stdout",
     "output_type": "stream",
     "text": [
      "20_09_1936_00000018\n",
      "Pages/20_09_1936_00000018.tif.large.jpg\n"
     ]
    },
    {
     "name": "stderr",
     "output_type": "stream",
     "text": [
      "The checkpoint state_dict contains keys that are not used by the model:\n",
      "  \u001b[35mbackbone.fpn_lateral2.bias\u001b[0m\n",
      "  \u001b[35mbackbone.fpn_output2.bias\u001b[0m\n",
      "  \u001b[35mbackbone.fpn_lateral3.bias\u001b[0m\n",
      "  \u001b[35mbackbone.fpn_output3.bias\u001b[0m\n",
      "  \u001b[35mbackbone.fpn_lateral4.bias\u001b[0m\n",
      "  \u001b[35mbackbone.fpn_output4.bias\u001b[0m\n",
      "  \u001b[35mbackbone.fpn_lateral5.bias\u001b[0m\n",
      "  \u001b[35mbackbone.fpn_output5.bias\u001b[0m\n",
      " 99%|██████████████████████████████████████▋| 978/987 [1:17:54<00:41,  4.60s/it]"
     ]
    },
    {
     "name": "stdout",
     "output_type": "stream",
     "text": [
      "02_04_1936_00000009\n",
      "Pages/02_04_1936_00000009.tif.large.jpg\n"
     ]
    },
    {
     "name": "stderr",
     "output_type": "stream",
     "text": [
      "The checkpoint state_dict contains keys that are not used by the model:\n",
      "  \u001b[35mbackbone.fpn_lateral2.bias\u001b[0m\n",
      "  \u001b[35mbackbone.fpn_output2.bias\u001b[0m\n",
      "  \u001b[35mbackbone.fpn_lateral3.bias\u001b[0m\n",
      "  \u001b[35mbackbone.fpn_output3.bias\u001b[0m\n",
      "  \u001b[35mbackbone.fpn_lateral4.bias\u001b[0m\n",
      "  \u001b[35mbackbone.fpn_output4.bias\u001b[0m\n",
      "  \u001b[35mbackbone.fpn_lateral5.bias\u001b[0m\n",
      "  \u001b[35mbackbone.fpn_output5.bias\u001b[0m\n",
      " 99%|██████████████████████████████████████▋| 979/987 [1:17:59<00:36,  4.56s/it]"
     ]
    },
    {
     "name": "stdout",
     "output_type": "stream",
     "text": [
      "30_01_1936_00000009\n",
      "Pages/30_01_1936_00000009.tif.large.jpg\n"
     ]
    },
    {
     "name": "stderr",
     "output_type": "stream",
     "text": [
      "The checkpoint state_dict contains keys that are not used by the model:\n",
      "  \u001b[35mbackbone.fpn_lateral2.bias\u001b[0m\n",
      "  \u001b[35mbackbone.fpn_output2.bias\u001b[0m\n",
      "  \u001b[35mbackbone.fpn_lateral3.bias\u001b[0m\n",
      "  \u001b[35mbackbone.fpn_output3.bias\u001b[0m\n",
      "  \u001b[35mbackbone.fpn_lateral4.bias\u001b[0m\n",
      "  \u001b[35mbackbone.fpn_output4.bias\u001b[0m\n",
      "  \u001b[35mbackbone.fpn_lateral5.bias\u001b[0m\n",
      "  \u001b[35mbackbone.fpn_output5.bias\u001b[0m\n",
      " 99%|██████████████████████████████████████▋| 980/987 [1:18:03<00:32,  4.57s/it]"
     ]
    },
    {
     "name": "stdout",
     "output_type": "stream",
     "text": [
      "10_01_1936_00000003\n",
      "Pages/10_01_1936_00000003.tif.large.jpg\n"
     ]
    },
    {
     "name": "stderr",
     "output_type": "stream",
     "text": [
      "The checkpoint state_dict contains keys that are not used by the model:\n",
      "  \u001b[35mbackbone.fpn_lateral2.bias\u001b[0m\n",
      "  \u001b[35mbackbone.fpn_output2.bias\u001b[0m\n",
      "  \u001b[35mbackbone.fpn_lateral3.bias\u001b[0m\n",
      "  \u001b[35mbackbone.fpn_output3.bias\u001b[0m\n",
      "  \u001b[35mbackbone.fpn_lateral4.bias\u001b[0m\n",
      "  \u001b[35mbackbone.fpn_output4.bias\u001b[0m\n",
      "  \u001b[35mbackbone.fpn_lateral5.bias\u001b[0m\n",
      "  \u001b[35mbackbone.fpn_output5.bias\u001b[0m\n",
      " 99%|██████████████████████████████████████▊| 981/987 [1:18:08<00:28,  4.71s/it]"
     ]
    },
    {
     "name": "stdout",
     "output_type": "stream",
     "text": [
      "16_12_1936_00000007\n",
      "Pages/16_12_1936_00000007.tif.large.jpg\n"
     ]
    },
    {
     "name": "stderr",
     "output_type": "stream",
     "text": [
      "The checkpoint state_dict contains keys that are not used by the model:\n",
      "  \u001b[35mbackbone.fpn_lateral2.bias\u001b[0m\n",
      "  \u001b[35mbackbone.fpn_output2.bias\u001b[0m\n",
      "  \u001b[35mbackbone.fpn_lateral3.bias\u001b[0m\n",
      "  \u001b[35mbackbone.fpn_output3.bias\u001b[0m\n",
      "  \u001b[35mbackbone.fpn_lateral4.bias\u001b[0m\n",
      "  \u001b[35mbackbone.fpn_output4.bias\u001b[0m\n",
      "  \u001b[35mbackbone.fpn_lateral5.bias\u001b[0m\n",
      "  \u001b[35mbackbone.fpn_output5.bias\u001b[0m\n",
      " 99%|██████████████████████████████████████▊| 982/987 [1:18:13<00:23,  4.69s/it]"
     ]
    },
    {
     "name": "stdout",
     "output_type": "stream",
     "text": [
      "24_01_1936_00000007\n",
      "Pages/24_01_1936_00000007.tif.large.jpg\n"
     ]
    },
    {
     "name": "stderr",
     "output_type": "stream",
     "text": [
      "The checkpoint state_dict contains keys that are not used by the model:\n",
      "  \u001b[35mbackbone.fpn_lateral2.bias\u001b[0m\n",
      "  \u001b[35mbackbone.fpn_output2.bias\u001b[0m\n",
      "  \u001b[35mbackbone.fpn_lateral3.bias\u001b[0m\n",
      "  \u001b[35mbackbone.fpn_output3.bias\u001b[0m\n",
      "  \u001b[35mbackbone.fpn_lateral4.bias\u001b[0m\n",
      "  \u001b[35mbackbone.fpn_output4.bias\u001b[0m\n",
      "  \u001b[35mbackbone.fpn_lateral5.bias\u001b[0m\n",
      "  \u001b[35mbackbone.fpn_output5.bias\u001b[0m\n",
      "100%|██████████████████████████████████████▊| 983/987 [1:18:17<00:18,  4.68s/it]"
     ]
    },
    {
     "name": "stdout",
     "output_type": "stream",
     "text": [
      "15_11_1936_00000007\n",
      "Pages/15_11_1936_00000007.tif.large.jpg\n"
     ]
    },
    {
     "name": "stderr",
     "output_type": "stream",
     "text": [
      "The checkpoint state_dict contains keys that are not used by the model:\n",
      "  \u001b[35mbackbone.fpn_lateral2.bias\u001b[0m\n",
      "  \u001b[35mbackbone.fpn_output2.bias\u001b[0m\n",
      "  \u001b[35mbackbone.fpn_lateral3.bias\u001b[0m\n",
      "  \u001b[35mbackbone.fpn_output3.bias\u001b[0m\n",
      "  \u001b[35mbackbone.fpn_lateral4.bias\u001b[0m\n",
      "  \u001b[35mbackbone.fpn_output4.bias\u001b[0m\n",
      "  \u001b[35mbackbone.fpn_lateral5.bias\u001b[0m\n",
      "  \u001b[35mbackbone.fpn_output5.bias\u001b[0m\n",
      "100%|██████████████████████████████████████▉| 984/987 [1:18:22<00:13,  4.66s/it]"
     ]
    },
    {
     "name": "stdout",
     "output_type": "stream",
     "text": [
      "18_12_1936_00000008\n",
      "Pages/18_12_1936_00000008.tif.large.jpg\n"
     ]
    },
    {
     "name": "stderr",
     "output_type": "stream",
     "text": [
      "The checkpoint state_dict contains keys that are not used by the model:\n",
      "  \u001b[35mbackbone.fpn_lateral2.bias\u001b[0m\n",
      "  \u001b[35mbackbone.fpn_output2.bias\u001b[0m\n",
      "  \u001b[35mbackbone.fpn_lateral3.bias\u001b[0m\n",
      "  \u001b[35mbackbone.fpn_output3.bias\u001b[0m\n",
      "  \u001b[35mbackbone.fpn_lateral4.bias\u001b[0m\n",
      "  \u001b[35mbackbone.fpn_output4.bias\u001b[0m\n",
      "  \u001b[35mbackbone.fpn_lateral5.bias\u001b[0m\n",
      "  \u001b[35mbackbone.fpn_output5.bias\u001b[0m\n",
      "100%|██████████████████████████████████████▉| 985/987 [1:18:27<00:09,  4.68s/it]"
     ]
    },
    {
     "name": "stdout",
     "output_type": "stream",
     "text": [
      "31_10_1936_00000004\n",
      "Pages/31_10_1936_00000004.tif.large.jpg\n"
     ]
    },
    {
     "name": "stderr",
     "output_type": "stream",
     "text": [
      "The checkpoint state_dict contains keys that are not used by the model:\n",
      "  \u001b[35mbackbone.fpn_lateral2.bias\u001b[0m\n",
      "  \u001b[35mbackbone.fpn_output2.bias\u001b[0m\n",
      "  \u001b[35mbackbone.fpn_lateral3.bias\u001b[0m\n",
      "  \u001b[35mbackbone.fpn_output3.bias\u001b[0m\n",
      "  \u001b[35mbackbone.fpn_lateral4.bias\u001b[0m\n",
      "  \u001b[35mbackbone.fpn_output4.bias\u001b[0m\n",
      "  \u001b[35mbackbone.fpn_lateral5.bias\u001b[0m\n",
      "  \u001b[35mbackbone.fpn_output5.bias\u001b[0m\n",
      "100%|██████████████████████████████████████▉| 986/987 [1:18:31<00:04,  4.64s/it]"
     ]
    },
    {
     "name": "stdout",
     "output_type": "stream",
     "text": [
      "02_09_1936_00000010\n",
      "Pages/02_09_1936_00000010.tif.large.jpg\n"
     ]
    },
    {
     "name": "stderr",
     "output_type": "stream",
     "text": [
      "The checkpoint state_dict contains keys that are not used by the model:\n",
      "  \u001b[35mbackbone.fpn_lateral2.bias\u001b[0m\n",
      "  \u001b[35mbackbone.fpn_output2.bias\u001b[0m\n",
      "  \u001b[35mbackbone.fpn_lateral3.bias\u001b[0m\n",
      "  \u001b[35mbackbone.fpn_output3.bias\u001b[0m\n",
      "  \u001b[35mbackbone.fpn_lateral4.bias\u001b[0m\n",
      "  \u001b[35mbackbone.fpn_output4.bias\u001b[0m\n",
      "  \u001b[35mbackbone.fpn_lateral5.bias\u001b[0m\n",
      "  \u001b[35mbackbone.fpn_output5.bias\u001b[0m\n",
      "100%|███████████████████████████████████████| 987/987 [1:18:36<00:00,  4.78s/it]\n"
     ]
    }
   ],
   "source": [
    "\n",
    "#here we iterate over each page in the Folder where your pages are stored\n",
    "for filename in tqdm(os.listdir(path_input)):\n",
    "    if not filename.endswith('.jpg'): continue\n",
    "    \n",
    "    fullname = os.path.join(path_input, filename)\n",
    "    \n",
    "    number = fullname.split(\".\")[0].split(\"/\")[-1]\n",
    "    print(number)\n",
    "    print(fullname)\n",
    "    \n",
    "    img = cv2.imread(fullname)\n",
    "    img = img[..., ::-1] \n",
    "    \n",
    "    \n",
    "    ## In this Line you have to modify the config_path and model_path to the path where you trained \n",
    "    model = lp.Detectron2LayoutModel(\n",
    "            config_path = \"./../Train_LayoutParser/freiheitskampf_training/config.yaml\",\n",
    "            model_path = \"./../Train_LayoutParser/freiheitskampf_training/model_weights/model_final.pth\",\n",
    "            extra_config = [\"MODEL.ROI_HEADS.SCORE_THRESH_TEST\", 0.4] # <-- Only output accuracy preds with a value greater then 40%. \n",
    "        #Since we only have one class and the model dont has to choose between multiple classes the ROI_HEADS.SCORE can be relatively low\n",
    "        )\n",
    "    layout = model.detect(img)\n",
    "\n",
    "    # get all detections of type headline on one page\n",
    "    headings = lp.Layout([b for b in layout if b.type==0])\n",
    "    export = {}\n",
    "\n",
    "    ## here we iterate over each detection, and create a dictionary with the coordinates of the predictes bounding boxes\n",
    "    for index, h in enumerate(headings):\n",
    "        start = (int(h.block.x_1),int(h.block.y_1))\n",
    "        end= (int(h.block.x_2),int(h.block.y_2))\n",
    "\n",
    "        #img = cv2.rectangle(img.astype(np.int32), start, end, color=(0, 0, 255), thickness=2)\n",
    "\n",
    "        export[index] = { \"x_1\" : int(h.block.x_1), \"y_1\": int(h.block.y_1), \"x_2\": int(h.block.x_2), \"y_2\": int(h.block.y_2)}\n",
    "    \n",
    "    ## here we crop the parsed image to the size of each detected headline. We save each headline as a single image file.\n",
    "    for k,v in export.items():\n",
    "\n",
    "        crop_img = img[v[\"y_1\"]+2:v[\"y_2\"]-2,v[\"x_1\"]+2:v[\"x_2\"]-2]\n",
    "        \n",
    "        cv2.imwrite(\"./temp/\" + number+ \"_\" + str(k) +  \"_headline.jpg\", crop_img)\n"
   ]
  },
  {
   "cell_type": "markdown",
   "id": "67d0eb45",
   "metadata": {},
   "source": [
    "### OCR Step\n"
   ]
  },
  {
   "cell_type": "markdown",
   "id": "a5e7fb7e",
   "metadata": {},
   "source": [
    "In this step we do the OCR process. We take the cropped images from the titles as input and use the OCR Tool \"tesserocr\" to process them.\n",
    "\n",
    "Note: Especially the OCR step can be modified in a extremly wide range. It would be possible to use another model, to preprocess the images like binarization, deskewing, dewarping, denoising etc. or even to train a own model for the fonts of \"Freiheitskampf\". \n",
    "\n",
    "There is a big list of models available for Tesserocr: \n",
    "[https://github.com/tesseract-ocr/tessdata](https://github.com/tesseract-ocr/tessdata)\n",
    "\n",
    "or have a look at the OCR-D Documentation:\n",
    "\n",
    "[https://ocr-d.de/en/workflows#step-14-text-recognition](https://ocr-d.de/en/workflows#step-14-text-recognition)"
   ]
  },
  {
   "cell_type": "code",
   "execution_count": 3,
   "id": "ab90fdb8",
   "metadata": {},
   "outputs": [
    {
     "name": "stderr",
     "output_type": "stream",
     "text": [
      "100%|█████████████████████████████████████| 10371/10371 [23:25<00:00,  7.38it/s]\n"
     ]
    }
   ],
   "source": [
    "#we initialise the OCR Tool tesserocr\n",
    "ocr_text={}\n",
    "# in this line you have to say tesserocr where the models are stored and which model you want use. \n",
    "# in the lang Parameter you can also write something like: \"Fraktur+GT4histocr+deu+frak+Latin\" Then the algorithm evaluates for the best model\n",
    "with PyTessBaseAPI(path='./models/', lang=\"Fraktur\") as api:\n",
    "    \n",
    "    for filename in tqdm(os.listdir(\"./temp/\")):\n",
    "        fullname = os.path.join(\"./temp/\", filename)\n",
    "        \n",
    "        page= int(fullname.split(\"_\")[3])\n",
    "        number = fullname.split(\"/\")[-1].split(\"00000\")[0].split(\"_\")\n",
    "        number = \"\".join(number)\n",
    "        api.SetImageFile(fullname)\n",
    "        #test_string= repr(api.GetUTF8Text())\n",
    "        test_string = api.GetUTF8Text().replace(\"\\n\\n\", \"_\").replace(\"\\n\",\"\")\n",
    "        \n",
    "        ### the OCR text is saved in a dictionary called ocr_text\n",
    "        if number not in ocr_text:\n",
    "            ocr_text[number] = [[test_string,page]]\n",
    "        else:\n",
    "            ocr_text[number].append([test_string,page])\n",
    "\n",
    "            "
   ]
  },
  {
   "cell_type": "markdown",
   "id": "4cfe336a",
   "metadata": {},
   "source": [
    "In this line i save the OCR texts from the headlines as an pickle object for easy and fast loading later on. Then you dont have to do the OCR Parsing always. You have to chose what you want to do (saving or loading) and the corresponding must be commented out."
   ]
  },
  {
   "cell_type": "code",
   "execution_count": 5,
   "id": "55b34cb9",
   "metadata": {},
   "outputs": [],
   "source": [
    "import pickle \n",
    "\n",
    "#with open('ocr_headlines.pkl', 'wb') as f:\n",
    " #   pickle.dump(ocr_text, f)\n",
    "        \n",
    "with open('ocr_headlines.pkl', 'rb') as f:\n",
    "    ocr_text = pickle.load(f)"
   ]
  },
  {
   "cell_type": "markdown",
   "id": "398bae97",
   "metadata": {},
   "source": [
    "### Loading the manually annotated articles\n",
    "\n",
    "We will compare the OCR output with manually annotated headlines of the newspaper and we will see how good our guesses are. \n",
    "Therefore we load a dictionary where the keys are the day of publishing and the values are all the manually annotated headlines from the FK Database and the page number of the article"
   ]
  },
  {
   "cell_type": "code",
   "execution_count": 57,
   "id": "99a6194c",
   "metadata": {},
   "outputs": [],
   "source": [
    "import csv\n",
    "headers ={}\n",
    "with open(\"titles.csv\", 'r') as file:\n",
    "    csvreader = csv.reader(file)\n",
    "    for row in csvreader:\n",
    "        \n",
    "        if row[0] in headers:\n",
    "            headers[row[0]].append([row[1],row[2]])\n",
    "        else:\n",
    "            headers[row[0]] = [[row[1],row[2]]]"
   ]
  },
  {
   "cell_type": "markdown",
   "id": "c1d656cd",
   "metadata": {},
   "source": [
    "## String Similarity\n",
    "\n",
    "Now comes the part where the manually annotated titles and the OCR recognized text are compared to each other. For the comparison we use a specific string algorithm. There are a lot of algorithm and you can try out your self with the module jellyfish, which provides some of them. In our case we use Jaro-Winkler Distance, because it is normalised between (values between 0 and 1) and it "
   ]
  },
  {
   "cell_type": "code",
   "execution_count": 136,
   "id": "be4abd04",
   "metadata": {
    "scrolled": false
   },
   "outputs": [],
   "source": [
    "averages =[]\n",
    "t=0\n",
    "for k, sent_list in headers.items():\n",
    "    count = 0\n",
    "    count_man = 0\n",
    "    pages_man = [int(p[1]) for p in sent_list]\n",
    "    for sent in sent_list:\n",
    "        \n",
    "        if k in ocr_text:\n",
    "            \n",
    "            #here we need to check if we really parsed the site where the manually annotated \n",
    "            if int(sent[1]) in [int(p[1]) for p in ocr_text[k]]: \n",
    "                \n",
    "                count_man+=1\n",
    "                check = False ## This is another check variable which checks if an OCR Headline already matched with a manually annotated headline\n",
    "                for comp in [item for item in ocr_text[k] if item[1]==int(sent[1])]:\n",
    "                    compare = comp[0].lower().replace(\"ſ\",\"s\")\n",
    "                    if len(comp[0])< 3 or check:\n",
    "                        continue\n",
    "                    if (textdistance.levenshtein.normalized_similarity(sent[0].lower(),compare) > 0.49) and (int(comp[1]) == int(sent[1])): \n",
    "                        count += 1\n",
    "                        check = True\n",
    "                    \n",
    "                        \"\"\"\n",
    "                        print(sent)\n",
    "                        print(comp)\n",
    "                        #print(k)\n",
    "                        print(textdistance.levenshtein.normalized_similarity(sent[0].lower(),comp[0].lower()))\n",
    "                        print(\"\\n\\n\")\n",
    "                        \"\"\"\n",
    "                    \n",
    "    if count_man != 0:\n",
    "        ## here we calculate the accuracy of the predictions in one newspaper (all pages on one day)\n",
    "        averages.append(count/count_man)\n",
    "\n",
    "    "
   ]
  },
  {
   "cell_type": "code",
   "execution_count": 141,
   "id": "0fa1294e",
   "metadata": {},
   "outputs": [
    {
     "name": "stdout",
     "output_type": "stream",
     "text": [
      "Die durchschnittliche Erkennungsrate der Überschriften der manuell annotierten Artikeln liegt bei:  79.27713657986777 %\n"
     ]
    }
   ],
   "source": [
    "print(\"Die durchschnittliche Erkennungsrate der Überschriften der manuell annotierten Artikeln liegt bei: \",(sum(averages)/len(averages))*100, \"%\")"
   ]
  }
 ],
 "metadata": {
  "kernelspec": {
   "display_name": "extract",
   "language": "python",
   "name": "extract"
  },
  "language_info": {
   "codemirror_mode": {
    "name": "ipython",
    "version": 3
   },
   "file_extension": ".py",
   "mimetype": "text/x-python",
   "name": "python",
   "nbconvert_exporter": "python",
   "pygments_lexer": "ipython3",
   "version": "3.7.17"
  }
 },
 "nbformat": 4,
 "nbformat_minor": 5
}
